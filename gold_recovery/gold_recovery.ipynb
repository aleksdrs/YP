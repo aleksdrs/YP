{
  "cells": [
    {
      "cell_type": "markdown",
      "metadata": {
        "toc": true,
        "id": "AXv5RCegdCtc"
      },
      "source": [
        "<h1>Содержание<span class=\"tocSkip\"></span></h1>\n",
        "<div class=\"toc\"><ul class=\"toc-item\"><li><span><a href=\"#Подготовка-данных\" data-toc-modified-id=\"Подготовка-данных-1\"><span class=\"toc-item-num\">1&nbsp;&nbsp;</span>Подготовка данных</a></span><ul class=\"toc-item\"><li><span><a href=\"#Откроем-файлы-и-изучим-их\" data-toc-modified-id=\"Откроем-файлы-и-изучим-их-1.1\"><span class=\"toc-item-num\">1.1&nbsp;&nbsp;</span>Откроем файлы и изучим их</a></span></li><li><span><a href=\"#Проверка-расчета-эффективности\" data-toc-modified-id=\"Проверка-расчета-эффективности-1.2\"><span class=\"toc-item-num\">1.2&nbsp;&nbsp;</span>Проверка расчета эффективности</a></span></li><li><span><a href=\"#Анализ-признаков-недоступных-в-тестовой-выборке.\" data-toc-modified-id=\"Анализ-признаков-недоступных-в-тестовой-выборке.-1.3\"><span class=\"toc-item-num\">1.3&nbsp;&nbsp;</span>Анализ признаков недоступных в тестовой выборке.</a></span></li><li><span><a href=\"#Предобработка-данных\" data-toc-modified-id=\"Предобработка-данных-1.4\"><span class=\"toc-item-num\">1.4&nbsp;&nbsp;</span>Предобработка данных</a></span></li></ul></li><li><span><a href=\"#Анализ-данных\" data-toc-modified-id=\"Анализ-данных-2\"><span class=\"toc-item-num\">2&nbsp;&nbsp;</span>Анализ данных</a></span><ul class=\"toc-item\"><li><span><a href=\"#Изменение-концентрации-метталов\" data-toc-modified-id=\"Изменение-концентрации-метталов-2.1\"><span class=\"toc-item-num\">2.1&nbsp;&nbsp;</span>Изменение концентрации метталов</a></span></li><li><span><a href=\"#Распределение-размеров-гранул-исходного-сырья\" data-toc-modified-id=\"Распределение-размеров-гранул-исходного-сырья-2.2\"><span class=\"toc-item-num\">2.2&nbsp;&nbsp;</span>Распределение размеров гранул исходного сырья</a></span></li><li><span><a href=\"#Cуммарная-концентрация-металлов-на-разных-стадиях\" data-toc-modified-id=\"Cуммарная-концентрация-металлов-на-разных-стадиях-2.3\"><span class=\"toc-item-num\">2.3&nbsp;&nbsp;</span>Cуммарная концентрация металлов на разных стадиях</a></span></li></ul></li><li><span><a href=\"#Модель\" data-toc-modified-id=\"Модель-3\"><span class=\"toc-item-num\">3&nbsp;&nbsp;</span>Модель</a></span><ul class=\"toc-item\"><li><span><a href=\"#Функция-для-вычисления-sMAPE\" data-toc-modified-id=\"Функция-для-вычисления-sMAPE-3.1\"><span class=\"toc-item-num\">3.1&nbsp;&nbsp;</span>Функция для вычисления sMAPE</a></span></li><li><span><a href=\"#Обучение-моделей\" data-toc-modified-id=\"Обучение-моделей-3.2\"><span class=\"toc-item-num\">3.2&nbsp;&nbsp;</span>Обучение моделей</a></span><ul class=\"toc-item\"><li><span><a href=\"#Случайный-лес\" data-toc-modified-id=\"Случайный-лес-3.2.1\"><span class=\"toc-item-num\">3.2.1&nbsp;&nbsp;</span>Случайный лес</a></span></li><li><span><a href=\"#Решающее-дерево\" data-toc-modified-id=\"Решающее-дерево-3.2.2\"><span class=\"toc-item-num\">3.2.2&nbsp;&nbsp;</span>Решающее дерево</a></span></li><li><span><a href=\"#Линейная-регрессия\" data-toc-modified-id=\"Линейная-регрессия-3.2.3\"><span class=\"toc-item-num\">3.2.3&nbsp;&nbsp;</span>Линейная регрессия</a></span></li><li><span><a href=\"#Тестирование-модели\" data-toc-modified-id=\"Тестирование-модели-3.2.4\"><span class=\"toc-item-num\">3.2.4&nbsp;&nbsp;</span>Тестирование модели</a></span></li></ul></li></ul></li><li><span><a href=\"#Общий-вывод\" data-toc-modified-id=\"Общий-вывод-4\"><span class=\"toc-item-num\">4&nbsp;&nbsp;</span>Общий вывод</a></span></li>"
      ]
    },
    {
      "cell_type": "markdown",
      "metadata": {
        "id": "Yf9oHDWmdCuC"
      },
      "source": [
        "# Восстановление золота из руды"
      ]
    },
    {
      "cell_type": "markdown",
      "metadata": {
        "id": "tYKX-skAdCuD"
      },
      "source": [
        "Требуется подготовить прототип модели машинного обучения для компании которая разрабатывает решения для эффективной работы промышленных предприятий.\n",
        "\n",
        "Модель должна предсказать коэффициент восстановления золота из золотосодержащей руды. В нашем распоряжении данные с параметрами добычи и очистки.\n",
        "\n",
        "Модель поможет оптимизировать производство, чтобы не запускать предприятие с убыточными характеристиками.\n",
        "\n",
        "**План работы:**\n",
        "\n",
        "1. Подготовить данные\n",
        "2. Провести исследовательский анализ данных\n",
        "3. Построить и обучить модель\n"
      ]
    },
    {
      "cell_type": "markdown",
      "metadata": {
        "id": "CxNYNgzPdCuD"
      },
      "source": [
        "## Подготовка данных"
      ]
    },
    {
      "cell_type": "markdown",
      "metadata": {
        "id": "choKhFbkdCuE"
      },
      "source": [
        "### Откроем файлы и изучим их"
      ]
    },
    {
      "cell_type": "code",
      "execution_count": null,
      "metadata": {
        "id": "738YvP8ndCuE"
      },
      "outputs": [],
      "source": [
        "# загрузим требуемые библиотеки\n",
        "\n",
        "import pandas as pd\n",
        "import numpy as np\n",
        "import matplotlib.pyplot as plt\n",
        "\n",
        "from sklearn.tree import DecisionTreeRegressor\n",
        "from sklearn.ensemble import RandomForestRegressor\n",
        "from sklearn.linear_model import LinearRegression\n",
        "from sklearn.model_selection import train_test_split, cross_val_score\n",
        "from sklearn.model_selection import GridSearchCV\n",
        "from sklearn.model_selection import RandomizedSearchCV\n",
        "\n",
        "from sklearn.metrics import mean_absolute_error\n",
        "from sklearn.metrics import make_scorer\n",
        "\n",
        "from sklearn.preprocessing import StandardScaler"
      ]
    },
    {
      "cell_type": "code",
      "execution_count": null,
      "metadata": {
        "id": "h4_xu08udCuH"
      },
      "outputs": [],
      "source": [
        "# откроем и сохраним датасеты\n",
        "# установим параметр для отображения всех колонок датафреймов\n",
        "pd.set_option('display.max_columns', None)\n",
        "train = pd.read_csv('/datasets/gold_industry_train.csv')\n",
        "test = pd.read_csv('/datasets/gold_industry_test.csv')\n",
        "full = pd.read_csv('/datasets/gold_industry_full.csv')"
      ]
    },
    {
      "cell_type": "markdown",
      "metadata": {
        "id": "iGk6HX39dCuH"
      },
      "source": [
        "Выведем первые пять строк каждого датафрейма"
      ]
    },
    {
      "cell_type": "code",
      "execution_count": null,
      "metadata": {
        "id": "0WiP4YIwdCuI",
        "outputId": "82788219-82ed-4222-8dee-78c98a87533c"
      },
      "outputs": [
        {
          "data": {
            "text/html": [
              "<div>\n",
              "<style scoped>\n",
              "    .dataframe tbody tr th:only-of-type {\n",
              "        vertical-align: middle;\n",
              "    }\n",
              "\n",
              "    .dataframe tbody tr th {\n",
              "        vertical-align: top;\n",
              "    }\n",
              "\n",
              "    .dataframe thead th {\n",
              "        text-align: right;\n",
              "    }\n",
              "</style>\n",
              "<table border=\"1\" class=\"dataframe\">\n",
              "  <thead>\n",
              "    <tr style=\"text-align: right;\">\n",
              "      <th></th>\n",
              "      <th>date</th>\n",
              "      <th>rougher.input.feed_au</th>\n",
              "      <th>rougher.input.feed_ag</th>\n",
              "      <th>rougher.input.feed_pb</th>\n",
              "      <th>rougher.input.feed_sol</th>\n",
              "      <th>rougher.input.feed_rate</th>\n",
              "      <th>rougher.input.feed_size</th>\n",
              "      <th>rougher.input.floatbank10_sulfate</th>\n",
              "      <th>rougher.input.floatbank10_xanthate</th>\n",
              "      <th>rougher.state.floatbank10_a_air</th>\n",
              "      <th>rougher.state.floatbank10_a_level</th>\n",
              "      <th>rougher.state.floatbank10_b_air</th>\n",
              "      <th>rougher.state.floatbank10_b_level</th>\n",
              "      <th>rougher.state.floatbank10_c_air</th>\n",
              "      <th>rougher.state.floatbank10_c_level</th>\n",
              "      <th>rougher.state.floatbank10_d_air</th>\n",
              "      <th>rougher.state.floatbank10_d_level</th>\n",
              "      <th>rougher.state.floatbank10_e_air</th>\n",
              "      <th>rougher.state.floatbank10_e_level</th>\n",
              "      <th>rougher.state.floatbank10_f_air</th>\n",
              "      <th>rougher.state.floatbank10_f_level</th>\n",
              "      <th>rougher.input.floatbank11_sulfate</th>\n",
              "      <th>rougher.input.floatbank11_xanthate</th>\n",
              "      <th>rougher.calculation.sulfate_to_au_concentrate</th>\n",
              "      <th>rougher.calculation.floatbank10_sulfate_to_au_feed</th>\n",
              "      <th>rougher.calculation.floatbank11_sulfate_to_au_feed</th>\n",
              "      <th>rougher.calculation.au_pb_ratio</th>\n",
              "      <th>rougher.output.concentrate_au</th>\n",
              "      <th>rougher.output.concentrate_ag</th>\n",
              "      <th>rougher.output.concentrate_pb</th>\n",
              "      <th>rougher.output.concentrate_sol</th>\n",
              "      <th>rougher.output.recovery</th>\n",
              "      <th>rougher.output.tail_au</th>\n",
              "      <th>rougher.output.tail_ag</th>\n",
              "      <th>rougher.output.tail_pb</th>\n",
              "      <th>rougher.output.tail_sol</th>\n",
              "      <th>primary_cleaner.input.sulfate</th>\n",
              "      <th>primary_cleaner.input.depressant</th>\n",
              "      <th>primary_cleaner.input.feed_size</th>\n",
              "      <th>primary_cleaner.input.xanthate</th>\n",
              "      <th>primary_cleaner.state.floatbank8_a_air</th>\n",
              "      <th>primary_cleaner.state.floatbank8_a_level</th>\n",
              "      <th>primary_cleaner.state.floatbank8_b_air</th>\n",
              "      <th>primary_cleaner.state.floatbank8_b_level</th>\n",
              "      <th>primary_cleaner.state.floatbank8_c_air</th>\n",
              "      <th>primary_cleaner.state.floatbank8_c_level</th>\n",
              "      <th>primary_cleaner.state.floatbank8_d_air</th>\n",
              "      <th>primary_cleaner.state.floatbank8_d_level</th>\n",
              "      <th>primary_cleaner.output.concentrate_au</th>\n",
              "      <th>primary_cleaner.output.concentrate_ag</th>\n",
              "      <th>primary_cleaner.output.concentrate_pb</th>\n",
              "      <th>primary_cleaner.output.concentrate_sol</th>\n",
              "      <th>primary_cleaner.output.tail_au</th>\n",
              "      <th>primary_cleaner.output.tail_ag</th>\n",
              "      <th>primary_cleaner.output.tail_pb</th>\n",
              "      <th>primary_cleaner.output.tail_sol</th>\n",
              "      <th>secondary_cleaner.state.floatbank2_a_air</th>\n",
              "      <th>secondary_cleaner.state.floatbank2_a_level</th>\n",
              "      <th>secondary_cleaner.state.floatbank2_b_air</th>\n",
              "      <th>secondary_cleaner.state.floatbank2_b_level</th>\n",
              "      <th>secondary_cleaner.state.floatbank3_a_air</th>\n",
              "      <th>secondary_cleaner.state.floatbank3_a_level</th>\n",
              "      <th>secondary_cleaner.state.floatbank3_b_air</th>\n",
              "      <th>secondary_cleaner.state.floatbank3_b_level</th>\n",
              "      <th>secondary_cleaner.state.floatbank4_a_air</th>\n",
              "      <th>secondary_cleaner.state.floatbank4_a_level</th>\n",
              "      <th>secondary_cleaner.state.floatbank4_b_air</th>\n",
              "      <th>secondary_cleaner.state.floatbank4_b_level</th>\n",
              "      <th>secondary_cleaner.state.floatbank5_a_air</th>\n",
              "      <th>secondary_cleaner.state.floatbank5_a_level</th>\n",
              "      <th>secondary_cleaner.state.floatbank5_b_air</th>\n",
              "      <th>secondary_cleaner.state.floatbank5_b_level</th>\n",
              "      <th>secondary_cleaner.state.floatbank6_a_air</th>\n",
              "      <th>secondary_cleaner.state.floatbank6_a_level</th>\n",
              "      <th>secondary_cleaner.output.tail_au</th>\n",
              "      <th>secondary_cleaner.output.tail_ag</th>\n",
              "      <th>secondary_cleaner.output.tail_pb</th>\n",
              "      <th>secondary_cleaner.output.tail_sol</th>\n",
              "      <th>final.output.concentrate_au</th>\n",
              "      <th>final.output.concentrate_ag</th>\n",
              "      <th>final.output.concentrate_pb</th>\n",
              "      <th>final.output.concentrate_sol</th>\n",
              "      <th>final.output.recovery</th>\n",
              "      <th>final.output.tail_au</th>\n",
              "      <th>final.output.tail_ag</th>\n",
              "      <th>final.output.tail_pb</th>\n",
              "      <th>final.output.tail_sol</th>\n",
              "    </tr>\n",
              "  </thead>\n",
              "  <tbody>\n",
              "    <tr>\n",
              "      <th>0</th>\n",
              "      <td>2016-01-15 00:00:00</td>\n",
              "      <td>6.486150</td>\n",
              "      <td>6.100378</td>\n",
              "      <td>2.284912</td>\n",
              "      <td>36.808594</td>\n",
              "      <td>523.546326</td>\n",
              "      <td>55.486599</td>\n",
              "      <td>11.986616</td>\n",
              "      <td>6.007990</td>\n",
              "      <td>999.706909</td>\n",
              "      <td>-404.066986</td>\n",
              "      <td>1603.011353</td>\n",
              "      <td>-434.715027</td>\n",
              "      <td>1602.375000</td>\n",
              "      <td>-442.204468</td>\n",
              "      <td>1598.937256</td>\n",
              "      <td>-451.294128</td>\n",
              "      <td>1404.472046</td>\n",
              "      <td>-455.462982</td>\n",
              "      <td>1416.354980</td>\n",
              "      <td>-451.939636</td>\n",
              "      <td>11.836743</td>\n",
              "      <td>6.005818</td>\n",
              "      <td>41885.707031</td>\n",
              "      <td>3481.779053</td>\n",
              "      <td>3520.337158</td>\n",
              "      <td>2.838687</td>\n",
              "      <td>19.793808</td>\n",
              "      <td>11.500771</td>\n",
              "      <td>7.101074</td>\n",
              "      <td>28.029297</td>\n",
              "      <td>87.107763</td>\n",
              "      <td>1.170244</td>\n",
              "      <td>5.008018</td>\n",
              "      <td>0.508728</td>\n",
              "      <td>19.154297</td>\n",
              "      <td>127.092003</td>\n",
              "      <td>10.128295</td>\n",
              "      <td>7.25</td>\n",
              "      <td>0.988759</td>\n",
              "      <td>1549.775757</td>\n",
              "      <td>-498.912140</td>\n",
              "      <td>1551.434204</td>\n",
              "      <td>-516.403442</td>\n",
              "      <td>1549.873901</td>\n",
              "      <td>-498.666595</td>\n",
              "      <td>1554.367432</td>\n",
              "      <td>-493.428131</td>\n",
              "      <td>34.174427</td>\n",
              "      <td>8.547551</td>\n",
              "      <td>10.389648</td>\n",
              "      <td>19.529297</td>\n",
              "      <td>2.106679</td>\n",
              "      <td>14.936526</td>\n",
              "      <td>2.534912</td>\n",
              "      <td>7.476074</td>\n",
              "      <td>25.853109</td>\n",
              "      <td>-498.526489</td>\n",
              "      <td>23.893660</td>\n",
              "      <td>-501.406281</td>\n",
              "      <td>23.961798</td>\n",
              "      <td>-495.262817</td>\n",
              "      <td>21.940409</td>\n",
              "      <td>-499.340973</td>\n",
              "      <td>14.016835</td>\n",
              "      <td>-502.488007</td>\n",
              "      <td>12.099931</td>\n",
              "      <td>-504.715942</td>\n",
              "      <td>9.925633</td>\n",
              "      <td>-498.310211</td>\n",
              "      <td>8.079666</td>\n",
              "      <td>-500.470978</td>\n",
              "      <td>14.151341</td>\n",
              "      <td>-605.841980</td>\n",
              "      <td>2.606185</td>\n",
              "      <td>14.500184</td>\n",
              "      <td>4.694824</td>\n",
              "      <td>8.764648</td>\n",
              "      <td>42.192020</td>\n",
              "      <td>6.055403</td>\n",
              "      <td>9.889648</td>\n",
              "      <td>5.507324</td>\n",
              "      <td>70.541216</td>\n",
              "      <td>2.143149</td>\n",
              "      <td>10.411962</td>\n",
              "      <td>0.895447</td>\n",
              "      <td>16.904297</td>\n",
              "    </tr>\n",
              "    <tr>\n",
              "      <th>1</th>\n",
              "      <td>2016-01-15 01:00:00</td>\n",
              "      <td>6.478583</td>\n",
              "      <td>6.161113</td>\n",
              "      <td>2.266033</td>\n",
              "      <td>35.753385</td>\n",
              "      <td>525.290581</td>\n",
              "      <td>57.278666</td>\n",
              "      <td>11.971193</td>\n",
              "      <td>6.005766</td>\n",
              "      <td>1000.286398</td>\n",
              "      <td>-400.065196</td>\n",
              "      <td>1600.754587</td>\n",
              "      <td>-449.953435</td>\n",
              "      <td>1600.479580</td>\n",
              "      <td>-449.830646</td>\n",
              "      <td>1600.527589</td>\n",
              "      <td>-449.953649</td>\n",
              "      <td>1399.227084</td>\n",
              "      <td>-450.869848</td>\n",
              "      <td>1399.719514</td>\n",
              "      <td>-450.119001</td>\n",
              "      <td>11.996163</td>\n",
              "      <td>6.012594</td>\n",
              "      <td>42050.861809</td>\n",
              "      <td>3498.370979</td>\n",
              "      <td>3489.981857</td>\n",
              "      <td>2.858998</td>\n",
              "      <td>20.050975</td>\n",
              "      <td>11.615865</td>\n",
              "      <td>7.278807</td>\n",
              "      <td>28.067063</td>\n",
              "      <td>86.843261</td>\n",
              "      <td>1.184827</td>\n",
              "      <td>4.955378</td>\n",
              "      <td>0.536689</td>\n",
              "      <td>18.965234</td>\n",
              "      <td>125.629232</td>\n",
              "      <td>10.296251</td>\n",
              "      <td>7.25</td>\n",
              "      <td>1.002663</td>\n",
              "      <td>1576.166671</td>\n",
              "      <td>-500.904965</td>\n",
              "      <td>1575.950626</td>\n",
              "      <td>-499.865889</td>\n",
              "      <td>1575.994189</td>\n",
              "      <td>-499.315107</td>\n",
              "      <td>1574.479259</td>\n",
              "      <td>-498.931665</td>\n",
              "      <td>34.118526</td>\n",
              "      <td>8.558743</td>\n",
              "      <td>10.497069</td>\n",
              "      <td>19.369147</td>\n",
              "      <td>2.353017</td>\n",
              "      <td>16.250511</td>\n",
              "      <td>3.049646</td>\n",
              "      <td>6.733907</td>\n",
              "      <td>25.880539</td>\n",
              "      <td>-499.989656</td>\n",
              "      <td>23.889530</td>\n",
              "      <td>-500.372428</td>\n",
              "      <td>23.970550</td>\n",
              "      <td>-500.085473</td>\n",
              "      <td>22.085714</td>\n",
              "      <td>-499.446897</td>\n",
              "      <td>13.992281</td>\n",
              "      <td>-505.503262</td>\n",
              "      <td>11.950531</td>\n",
              "      <td>-501.331529</td>\n",
              "      <td>10.039245</td>\n",
              "      <td>-500.169983</td>\n",
              "      <td>7.984757</td>\n",
              "      <td>-500.582168</td>\n",
              "      <td>13.998353</td>\n",
              "      <td>-599.787184</td>\n",
              "      <td>2.488248</td>\n",
              "      <td>14.265474</td>\n",
              "      <td>4.592547</td>\n",
              "      <td>9.001494</td>\n",
              "      <td>42.701629</td>\n",
              "      <td>6.029369</td>\n",
              "      <td>9.968944</td>\n",
              "      <td>5.257781</td>\n",
              "      <td>69.266198</td>\n",
              "      <td>2.224930</td>\n",
              "      <td>10.462676</td>\n",
              "      <td>0.927452</td>\n",
              "      <td>16.634514</td>\n",
              "    </tr>\n",
              "    <tr>\n",
              "      <th>2</th>\n",
              "      <td>2016-01-15 02:00:00</td>\n",
              "      <td>6.362222</td>\n",
              "      <td>6.116455</td>\n",
              "      <td>2.159622</td>\n",
              "      <td>35.971630</td>\n",
              "      <td>530.026610</td>\n",
              "      <td>57.510649</td>\n",
              "      <td>11.920603</td>\n",
              "      <td>6.197377</td>\n",
              "      <td>999.719565</td>\n",
              "      <td>-400.074028</td>\n",
              "      <td>1599.337330</td>\n",
              "      <td>-450.008530</td>\n",
              "      <td>1599.672797</td>\n",
              "      <td>-449.954491</td>\n",
              "      <td>1599.849325</td>\n",
              "      <td>-449.954185</td>\n",
              "      <td>1399.180945</td>\n",
              "      <td>-449.937588</td>\n",
              "      <td>1400.316682</td>\n",
              "      <td>-450.527147</td>\n",
              "      <td>11.920305</td>\n",
              "      <td>6.204633</td>\n",
              "      <td>42018.101184</td>\n",
              "      <td>3495.348910</td>\n",
              "      <td>3502.359819</td>\n",
              "      <td>2.945989</td>\n",
              "      <td>19.737170</td>\n",
              "      <td>11.695753</td>\n",
              "      <td>7.216833</td>\n",
              "      <td>27.454037</td>\n",
              "      <td>86.842308</td>\n",
              "      <td>1.162562</td>\n",
              "      <td>4.843460</td>\n",
              "      <td>0.546416</td>\n",
              "      <td>18.808533</td>\n",
              "      <td>123.819808</td>\n",
              "      <td>11.316280</td>\n",
              "      <td>7.25</td>\n",
              "      <td>0.991265</td>\n",
              "      <td>1601.556163</td>\n",
              "      <td>-499.997791</td>\n",
              "      <td>1600.386685</td>\n",
              "      <td>-500.607762</td>\n",
              "      <td>1602.003542</td>\n",
              "      <td>-500.870069</td>\n",
              "      <td>1599.541515</td>\n",
              "      <td>-499.827444</td>\n",
              "      <td>33.969464</td>\n",
              "      <td>8.603505</td>\n",
              "      <td>10.354494</td>\n",
              "      <td>19.167579</td>\n",
              "      <td>2.416800</td>\n",
              "      <td>16.491823</td>\n",
              "      <td>3.124664</td>\n",
              "      <td>6.471768</td>\n",
              "      <td>26.005245</td>\n",
              "      <td>-499.929616</td>\n",
              "      <td>23.886657</td>\n",
              "      <td>-499.951928</td>\n",
              "      <td>23.913535</td>\n",
              "      <td>-499.442343</td>\n",
              "      <td>23.957717</td>\n",
              "      <td>-499.901982</td>\n",
              "      <td>14.015015</td>\n",
              "      <td>-502.520901</td>\n",
              "      <td>11.912783</td>\n",
              "      <td>-501.133383</td>\n",
              "      <td>10.070913</td>\n",
              "      <td>-500.129135</td>\n",
              "      <td>8.013877</td>\n",
              "      <td>-500.517572</td>\n",
              "      <td>14.028663</td>\n",
              "      <td>-601.427363</td>\n",
              "      <td>2.458187</td>\n",
              "      <td>14.115662</td>\n",
              "      <td>4.624775</td>\n",
              "      <td>8.842896</td>\n",
              "      <td>42.657501</td>\n",
              "      <td>6.055926</td>\n",
              "      <td>10.213995</td>\n",
              "      <td>5.383759</td>\n",
              "      <td>68.116445</td>\n",
              "      <td>2.257889</td>\n",
              "      <td>10.507046</td>\n",
              "      <td>0.953716</td>\n",
              "      <td>16.208849</td>\n",
              "    </tr>\n",
              "    <tr>\n",
              "      <th>3</th>\n",
              "      <td>2016-01-15 03:00:00</td>\n",
              "      <td>6.118189</td>\n",
              "      <td>6.043309</td>\n",
              "      <td>2.037807</td>\n",
              "      <td>36.862241</td>\n",
              "      <td>542.590390</td>\n",
              "      <td>57.792734</td>\n",
              "      <td>11.630094</td>\n",
              "      <td>6.203177</td>\n",
              "      <td>999.814770</td>\n",
              "      <td>-400.200179</td>\n",
              "      <td>1600.059442</td>\n",
              "      <td>-450.619948</td>\n",
              "      <td>1600.012842</td>\n",
              "      <td>-449.910497</td>\n",
              "      <td>1597.725177</td>\n",
              "      <td>-450.130127</td>\n",
              "      <td>1400.943157</td>\n",
              "      <td>-450.030142</td>\n",
              "      <td>1400.234743</td>\n",
              "      <td>-449.790835</td>\n",
              "      <td>11.692450</td>\n",
              "      <td>6.196578</td>\n",
              "      <td>42029.447991</td>\n",
              "      <td>3498.578313</td>\n",
              "      <td>3499.162912</td>\n",
              "      <td>3.002340</td>\n",
              "      <td>19.320810</td>\n",
              "      <td>11.915047</td>\n",
              "      <td>7.175616</td>\n",
              "      <td>27.341277</td>\n",
              "      <td>87.226430</td>\n",
              "      <td>1.079755</td>\n",
              "      <td>4.655288</td>\n",
              "      <td>0.542525</td>\n",
              "      <td>19.330200</td>\n",
              "      <td>122.270188</td>\n",
              "      <td>11.322140</td>\n",
              "      <td>7.25</td>\n",
              "      <td>0.996739</td>\n",
              "      <td>1599.968720</td>\n",
              "      <td>-500.951778</td>\n",
              "      <td>1600.659236</td>\n",
              "      <td>-499.677094</td>\n",
              "      <td>1600.304144</td>\n",
              "      <td>-500.727997</td>\n",
              "      <td>1600.449520</td>\n",
              "      <td>-500.052575</td>\n",
              "      <td>28.260743</td>\n",
              "      <td>7.221879</td>\n",
              "      <td>8.496563</td>\n",
              "      <td>15.978538</td>\n",
              "      <td>2.262051</td>\n",
              "      <td>16.024359</td>\n",
              "      <td>2.960362</td>\n",
              "      <td>6.843791</td>\n",
              "      <td>25.942508</td>\n",
              "      <td>-499.176749</td>\n",
              "      <td>23.955516</td>\n",
              "      <td>-499.848796</td>\n",
              "      <td>23.966838</td>\n",
              "      <td>-500.008812</td>\n",
              "      <td>23.954443</td>\n",
              "      <td>-499.944710</td>\n",
              "      <td>14.036510</td>\n",
              "      <td>-500.857308</td>\n",
              "      <td>11.999550</td>\n",
              "      <td>-501.193686</td>\n",
              "      <td>9.970366</td>\n",
              "      <td>-499.201640</td>\n",
              "      <td>7.977324</td>\n",
              "      <td>-500.255908</td>\n",
              "      <td>14.005551</td>\n",
              "      <td>-599.996129</td>\n",
              "      <td>2.322062</td>\n",
              "      <td>13.732071</td>\n",
              "      <td>4.482453</td>\n",
              "      <td>9.122857</td>\n",
              "      <td>42.689819</td>\n",
              "      <td>6.047977</td>\n",
              "      <td>9.977019</td>\n",
              "      <td>4.858634</td>\n",
              "      <td>68.347543</td>\n",
              "      <td>2.146849</td>\n",
              "      <td>10.422762</td>\n",
              "      <td>0.883763</td>\n",
              "      <td>16.532835</td>\n",
              "    </tr>\n",
              "    <tr>\n",
              "      <th>4</th>\n",
              "      <td>2016-01-15 04:00:00</td>\n",
              "      <td>5.663707</td>\n",
              "      <td>6.060915</td>\n",
              "      <td>1.786875</td>\n",
              "      <td>34.347666</td>\n",
              "      <td>540.531893</td>\n",
              "      <td>56.047189</td>\n",
              "      <td>10.957755</td>\n",
              "      <td>6.198826</td>\n",
              "      <td>999.678690</td>\n",
              "      <td>-399.752729</td>\n",
              "      <td>1600.208824</td>\n",
              "      <td>-449.599614</td>\n",
              "      <td>1600.357732</td>\n",
              "      <td>-450.034364</td>\n",
              "      <td>1599.759049</td>\n",
              "      <td>-449.909799</td>\n",
              "      <td>1401.560902</td>\n",
              "      <td>-448.877187</td>\n",
              "      <td>1401.160227</td>\n",
              "      <td>-450.407128</td>\n",
              "      <td>10.960521</td>\n",
              "      <td>6.194897</td>\n",
              "      <td>42125.354245</td>\n",
              "      <td>3494.800771</td>\n",
              "      <td>3506.679315</td>\n",
              "      <td>3.169615</td>\n",
              "      <td>19.216101</td>\n",
              "      <td>12.411054</td>\n",
              "      <td>7.240205</td>\n",
              "      <td>27.041023</td>\n",
              "      <td>86.688794</td>\n",
              "      <td>1.012642</td>\n",
              "      <td>4.552800</td>\n",
              "      <td>0.515438</td>\n",
              "      <td>19.267422</td>\n",
              "      <td>117.988169</td>\n",
              "      <td>11.913613</td>\n",
              "      <td>7.25</td>\n",
              "      <td>1.009869</td>\n",
              "      <td>1601.339707</td>\n",
              "      <td>-498.975456</td>\n",
              "      <td>1601.437854</td>\n",
              "      <td>-500.323246</td>\n",
              "      <td>1599.581894</td>\n",
              "      <td>-500.888152</td>\n",
              "      <td>1602.649541</td>\n",
              "      <td>-500.593010</td>\n",
              "      <td>33.044932</td>\n",
              "      <td>9.089428</td>\n",
              "      <td>9.986786</td>\n",
              "      <td>19.199864</td>\n",
              "      <td>2.277073</td>\n",
              "      <td>16.480185</td>\n",
              "      <td>3.112100</td>\n",
              "      <td>6.550154</td>\n",
              "      <td>26.024787</td>\n",
              "      <td>-500.279091</td>\n",
              "      <td>23.955345</td>\n",
              "      <td>-500.593614</td>\n",
              "      <td>23.985703</td>\n",
              "      <td>-500.083811</td>\n",
              "      <td>23.958945</td>\n",
              "      <td>-499.990309</td>\n",
              "      <td>14.027298</td>\n",
              "      <td>-499.838632</td>\n",
              "      <td>11.953070</td>\n",
              "      <td>-501.053894</td>\n",
              "      <td>9.925709</td>\n",
              "      <td>-501.686727</td>\n",
              "      <td>7.894242</td>\n",
              "      <td>-500.356035</td>\n",
              "      <td>13.996647</td>\n",
              "      <td>-601.496691</td>\n",
              "      <td>2.330448</td>\n",
              "      <td>14.079996</td>\n",
              "      <td>4.470737</td>\n",
              "      <td>8.871028</td>\n",
              "      <td>42.774141</td>\n",
              "      <td>6.148599</td>\n",
              "      <td>10.142511</td>\n",
              "      <td>4.939416</td>\n",
              "      <td>66.927016</td>\n",
              "      <td>2.055292</td>\n",
              "      <td>10.360302</td>\n",
              "      <td>0.792826</td>\n",
              "      <td>16.525686</td>\n",
              "    </tr>\n",
              "  </tbody>\n",
              "</table>\n",
              "</div>"
            ],
            "text/plain": [
              "                  date  rougher.input.feed_au  rougher.input.feed_ag  \\\n",
              "0  2016-01-15 00:00:00               6.486150               6.100378   \n",
              "1  2016-01-15 01:00:00               6.478583               6.161113   \n",
              "2  2016-01-15 02:00:00               6.362222               6.116455   \n",
              "3  2016-01-15 03:00:00               6.118189               6.043309   \n",
              "4  2016-01-15 04:00:00               5.663707               6.060915   \n",
              "\n",
              "   rougher.input.feed_pb  rougher.input.feed_sol  rougher.input.feed_rate  \\\n",
              "0               2.284912               36.808594               523.546326   \n",
              "1               2.266033               35.753385               525.290581   \n",
              "2               2.159622               35.971630               530.026610   \n",
              "3               2.037807               36.862241               542.590390   \n",
              "4               1.786875               34.347666               540.531893   \n",
              "\n",
              "   rougher.input.feed_size  rougher.input.floatbank10_sulfate  \\\n",
              "0                55.486599                          11.986616   \n",
              "1                57.278666                          11.971193   \n",
              "2                57.510649                          11.920603   \n",
              "3                57.792734                          11.630094   \n",
              "4                56.047189                          10.957755   \n",
              "\n",
              "   rougher.input.floatbank10_xanthate  rougher.state.floatbank10_a_air  \\\n",
              "0                            6.007990                       999.706909   \n",
              "1                            6.005766                      1000.286398   \n",
              "2                            6.197377                       999.719565   \n",
              "3                            6.203177                       999.814770   \n",
              "4                            6.198826                       999.678690   \n",
              "\n",
              "   rougher.state.floatbank10_a_level  rougher.state.floatbank10_b_air  \\\n",
              "0                        -404.066986                      1603.011353   \n",
              "1                        -400.065196                      1600.754587   \n",
              "2                        -400.074028                      1599.337330   \n",
              "3                        -400.200179                      1600.059442   \n",
              "4                        -399.752729                      1600.208824   \n",
              "\n",
              "   rougher.state.floatbank10_b_level  rougher.state.floatbank10_c_air  \\\n",
              "0                        -434.715027                      1602.375000   \n",
              "1                        -449.953435                      1600.479580   \n",
              "2                        -450.008530                      1599.672797   \n",
              "3                        -450.619948                      1600.012842   \n",
              "4                        -449.599614                      1600.357732   \n",
              "\n",
              "   rougher.state.floatbank10_c_level  rougher.state.floatbank10_d_air  \\\n",
              "0                        -442.204468                      1598.937256   \n",
              "1                        -449.830646                      1600.527589   \n",
              "2                        -449.954491                      1599.849325   \n",
              "3                        -449.910497                      1597.725177   \n",
              "4                        -450.034364                      1599.759049   \n",
              "\n",
              "   rougher.state.floatbank10_d_level  rougher.state.floatbank10_e_air  \\\n",
              "0                        -451.294128                      1404.472046   \n",
              "1                        -449.953649                      1399.227084   \n",
              "2                        -449.954185                      1399.180945   \n",
              "3                        -450.130127                      1400.943157   \n",
              "4                        -449.909799                      1401.560902   \n",
              "\n",
              "   rougher.state.floatbank10_e_level  rougher.state.floatbank10_f_air  \\\n",
              "0                        -455.462982                      1416.354980   \n",
              "1                        -450.869848                      1399.719514   \n",
              "2                        -449.937588                      1400.316682   \n",
              "3                        -450.030142                      1400.234743   \n",
              "4                        -448.877187                      1401.160227   \n",
              "\n",
              "   rougher.state.floatbank10_f_level  rougher.input.floatbank11_sulfate  \\\n",
              "0                        -451.939636                          11.836743   \n",
              "1                        -450.119001                          11.996163   \n",
              "2                        -450.527147                          11.920305   \n",
              "3                        -449.790835                          11.692450   \n",
              "4                        -450.407128                          10.960521   \n",
              "\n",
              "   rougher.input.floatbank11_xanthate  \\\n",
              "0                            6.005818   \n",
              "1                            6.012594   \n",
              "2                            6.204633   \n",
              "3                            6.196578   \n",
              "4                            6.194897   \n",
              "\n",
              "   rougher.calculation.sulfate_to_au_concentrate  \\\n",
              "0                                   41885.707031   \n",
              "1                                   42050.861809   \n",
              "2                                   42018.101184   \n",
              "3                                   42029.447991   \n",
              "4                                   42125.354245   \n",
              "\n",
              "   rougher.calculation.floatbank10_sulfate_to_au_feed  \\\n",
              "0                                        3481.779053    \n",
              "1                                        3498.370979    \n",
              "2                                        3495.348910    \n",
              "3                                        3498.578313    \n",
              "4                                        3494.800771    \n",
              "\n",
              "   rougher.calculation.floatbank11_sulfate_to_au_feed  \\\n",
              "0                                        3520.337158    \n",
              "1                                        3489.981857    \n",
              "2                                        3502.359819    \n",
              "3                                        3499.162912    \n",
              "4                                        3506.679315    \n",
              "\n",
              "   rougher.calculation.au_pb_ratio  rougher.output.concentrate_au  \\\n",
              "0                         2.838687                      19.793808   \n",
              "1                         2.858998                      20.050975   \n",
              "2                         2.945989                      19.737170   \n",
              "3                         3.002340                      19.320810   \n",
              "4                         3.169615                      19.216101   \n",
              "\n",
              "   rougher.output.concentrate_ag  rougher.output.concentrate_pb  \\\n",
              "0                      11.500771                       7.101074   \n",
              "1                      11.615865                       7.278807   \n",
              "2                      11.695753                       7.216833   \n",
              "3                      11.915047                       7.175616   \n",
              "4                      12.411054                       7.240205   \n",
              "\n",
              "   rougher.output.concentrate_sol  rougher.output.recovery  \\\n",
              "0                       28.029297                87.107763   \n",
              "1                       28.067063                86.843261   \n",
              "2                       27.454037                86.842308   \n",
              "3                       27.341277                87.226430   \n",
              "4                       27.041023                86.688794   \n",
              "\n",
              "   rougher.output.tail_au  rougher.output.tail_ag  rougher.output.tail_pb  \\\n",
              "0                1.170244                5.008018                0.508728   \n",
              "1                1.184827                4.955378                0.536689   \n",
              "2                1.162562                4.843460                0.546416   \n",
              "3                1.079755                4.655288                0.542525   \n",
              "4                1.012642                4.552800                0.515438   \n",
              "\n",
              "   rougher.output.tail_sol  primary_cleaner.input.sulfate  \\\n",
              "0                19.154297                     127.092003   \n",
              "1                18.965234                     125.629232   \n",
              "2                18.808533                     123.819808   \n",
              "3                19.330200                     122.270188   \n",
              "4                19.267422                     117.988169   \n",
              "\n",
              "   primary_cleaner.input.depressant  primary_cleaner.input.feed_size  \\\n",
              "0                         10.128295                             7.25   \n",
              "1                         10.296251                             7.25   \n",
              "2                         11.316280                             7.25   \n",
              "3                         11.322140                             7.25   \n",
              "4                         11.913613                             7.25   \n",
              "\n",
              "   primary_cleaner.input.xanthate  primary_cleaner.state.floatbank8_a_air  \\\n",
              "0                        0.988759                             1549.775757   \n",
              "1                        1.002663                             1576.166671   \n",
              "2                        0.991265                             1601.556163   \n",
              "3                        0.996739                             1599.968720   \n",
              "4                        1.009869                             1601.339707   \n",
              "\n",
              "   primary_cleaner.state.floatbank8_a_level  \\\n",
              "0                               -498.912140   \n",
              "1                               -500.904965   \n",
              "2                               -499.997791   \n",
              "3                               -500.951778   \n",
              "4                               -498.975456   \n",
              "\n",
              "   primary_cleaner.state.floatbank8_b_air  \\\n",
              "0                             1551.434204   \n",
              "1                             1575.950626   \n",
              "2                             1600.386685   \n",
              "3                             1600.659236   \n",
              "4                             1601.437854   \n",
              "\n",
              "   primary_cleaner.state.floatbank8_b_level  \\\n",
              "0                               -516.403442   \n",
              "1                               -499.865889   \n",
              "2                               -500.607762   \n",
              "3                               -499.677094   \n",
              "4                               -500.323246   \n",
              "\n",
              "   primary_cleaner.state.floatbank8_c_air  \\\n",
              "0                             1549.873901   \n",
              "1                             1575.994189   \n",
              "2                             1602.003542   \n",
              "3                             1600.304144   \n",
              "4                             1599.581894   \n",
              "\n",
              "   primary_cleaner.state.floatbank8_c_level  \\\n",
              "0                               -498.666595   \n",
              "1                               -499.315107   \n",
              "2                               -500.870069   \n",
              "3                               -500.727997   \n",
              "4                               -500.888152   \n",
              "\n",
              "   primary_cleaner.state.floatbank8_d_air  \\\n",
              "0                             1554.367432   \n",
              "1                             1574.479259   \n",
              "2                             1599.541515   \n",
              "3                             1600.449520   \n",
              "4                             1602.649541   \n",
              "\n",
              "   primary_cleaner.state.floatbank8_d_level  \\\n",
              "0                               -493.428131   \n",
              "1                               -498.931665   \n",
              "2                               -499.827444   \n",
              "3                               -500.052575   \n",
              "4                               -500.593010   \n",
              "\n",
              "   primary_cleaner.output.concentrate_au  \\\n",
              "0                              34.174427   \n",
              "1                              34.118526   \n",
              "2                              33.969464   \n",
              "3                              28.260743   \n",
              "4                              33.044932   \n",
              "\n",
              "   primary_cleaner.output.concentrate_ag  \\\n",
              "0                               8.547551   \n",
              "1                               8.558743   \n",
              "2                               8.603505   \n",
              "3                               7.221879   \n",
              "4                               9.089428   \n",
              "\n",
              "   primary_cleaner.output.concentrate_pb  \\\n",
              "0                              10.389648   \n",
              "1                              10.497069   \n",
              "2                              10.354494   \n",
              "3                               8.496563   \n",
              "4                               9.986786   \n",
              "\n",
              "   primary_cleaner.output.concentrate_sol  primary_cleaner.output.tail_au  \\\n",
              "0                               19.529297                        2.106679   \n",
              "1                               19.369147                        2.353017   \n",
              "2                               19.167579                        2.416800   \n",
              "3                               15.978538                        2.262051   \n",
              "4                               19.199864                        2.277073   \n",
              "\n",
              "   primary_cleaner.output.tail_ag  primary_cleaner.output.tail_pb  \\\n",
              "0                       14.936526                        2.534912   \n",
              "1                       16.250511                        3.049646   \n",
              "2                       16.491823                        3.124664   \n",
              "3                       16.024359                        2.960362   \n",
              "4                       16.480185                        3.112100   \n",
              "\n",
              "   primary_cleaner.output.tail_sol  secondary_cleaner.state.floatbank2_a_air  \\\n",
              "0                         7.476074                                 25.853109   \n",
              "1                         6.733907                                 25.880539   \n",
              "2                         6.471768                                 26.005245   \n",
              "3                         6.843791                                 25.942508   \n",
              "4                         6.550154                                 26.024787   \n",
              "\n",
              "   secondary_cleaner.state.floatbank2_a_level  \\\n",
              "0                                 -498.526489   \n",
              "1                                 -499.989656   \n",
              "2                                 -499.929616   \n",
              "3                                 -499.176749   \n",
              "4                                 -500.279091   \n",
              "\n",
              "   secondary_cleaner.state.floatbank2_b_air  \\\n",
              "0                                 23.893660   \n",
              "1                                 23.889530   \n",
              "2                                 23.886657   \n",
              "3                                 23.955516   \n",
              "4                                 23.955345   \n",
              "\n",
              "   secondary_cleaner.state.floatbank2_b_level  \\\n",
              "0                                 -501.406281   \n",
              "1                                 -500.372428   \n",
              "2                                 -499.951928   \n",
              "3                                 -499.848796   \n",
              "4                                 -500.593614   \n",
              "\n",
              "   secondary_cleaner.state.floatbank3_a_air  \\\n",
              "0                                 23.961798   \n",
              "1                                 23.970550   \n",
              "2                                 23.913535   \n",
              "3                                 23.966838   \n",
              "4                                 23.985703   \n",
              "\n",
              "   secondary_cleaner.state.floatbank3_a_level  \\\n",
              "0                                 -495.262817   \n",
              "1                                 -500.085473   \n",
              "2                                 -499.442343   \n",
              "3                                 -500.008812   \n",
              "4                                 -500.083811   \n",
              "\n",
              "   secondary_cleaner.state.floatbank3_b_air  \\\n",
              "0                                 21.940409   \n",
              "1                                 22.085714   \n",
              "2                                 23.957717   \n",
              "3                                 23.954443   \n",
              "4                                 23.958945   \n",
              "\n",
              "   secondary_cleaner.state.floatbank3_b_level  \\\n",
              "0                                 -499.340973   \n",
              "1                                 -499.446897   \n",
              "2                                 -499.901982   \n",
              "3                                 -499.944710   \n",
              "4                                 -499.990309   \n",
              "\n",
              "   secondary_cleaner.state.floatbank4_a_air  \\\n",
              "0                                 14.016835   \n",
              "1                                 13.992281   \n",
              "2                                 14.015015   \n",
              "3                                 14.036510   \n",
              "4                                 14.027298   \n",
              "\n",
              "   secondary_cleaner.state.floatbank4_a_level  \\\n",
              "0                                 -502.488007   \n",
              "1                                 -505.503262   \n",
              "2                                 -502.520901   \n",
              "3                                 -500.857308   \n",
              "4                                 -499.838632   \n",
              "\n",
              "   secondary_cleaner.state.floatbank4_b_air  \\\n",
              "0                                 12.099931   \n",
              "1                                 11.950531   \n",
              "2                                 11.912783   \n",
              "3                                 11.999550   \n",
              "4                                 11.953070   \n",
              "\n",
              "   secondary_cleaner.state.floatbank4_b_level  \\\n",
              "0                                 -504.715942   \n",
              "1                                 -501.331529   \n",
              "2                                 -501.133383   \n",
              "3                                 -501.193686   \n",
              "4                                 -501.053894   \n",
              "\n",
              "   secondary_cleaner.state.floatbank5_a_air  \\\n",
              "0                                  9.925633   \n",
              "1                                 10.039245   \n",
              "2                                 10.070913   \n",
              "3                                  9.970366   \n",
              "4                                  9.925709   \n",
              "\n",
              "   secondary_cleaner.state.floatbank5_a_level  \\\n",
              "0                                 -498.310211   \n",
              "1                                 -500.169983   \n",
              "2                                 -500.129135   \n",
              "3                                 -499.201640   \n",
              "4                                 -501.686727   \n",
              "\n",
              "   secondary_cleaner.state.floatbank5_b_air  \\\n",
              "0                                  8.079666   \n",
              "1                                  7.984757   \n",
              "2                                  8.013877   \n",
              "3                                  7.977324   \n",
              "4                                  7.894242   \n",
              "\n",
              "   secondary_cleaner.state.floatbank5_b_level  \\\n",
              "0                                 -500.470978   \n",
              "1                                 -500.582168   \n",
              "2                                 -500.517572   \n",
              "3                                 -500.255908   \n",
              "4                                 -500.356035   \n",
              "\n",
              "   secondary_cleaner.state.floatbank6_a_air  \\\n",
              "0                                 14.151341   \n",
              "1                                 13.998353   \n",
              "2                                 14.028663   \n",
              "3                                 14.005551   \n",
              "4                                 13.996647   \n",
              "\n",
              "   secondary_cleaner.state.floatbank6_a_level  \\\n",
              "0                                 -605.841980   \n",
              "1                                 -599.787184   \n",
              "2                                 -601.427363   \n",
              "3                                 -599.996129   \n",
              "4                                 -601.496691   \n",
              "\n",
              "   secondary_cleaner.output.tail_au  secondary_cleaner.output.tail_ag  \\\n",
              "0                          2.606185                         14.500184   \n",
              "1                          2.488248                         14.265474   \n",
              "2                          2.458187                         14.115662   \n",
              "3                          2.322062                         13.732071   \n",
              "4                          2.330448                         14.079996   \n",
              "\n",
              "   secondary_cleaner.output.tail_pb  secondary_cleaner.output.tail_sol  \\\n",
              "0                          4.694824                           8.764648   \n",
              "1                          4.592547                           9.001494   \n",
              "2                          4.624775                           8.842896   \n",
              "3                          4.482453                           9.122857   \n",
              "4                          4.470737                           8.871028   \n",
              "\n",
              "   final.output.concentrate_au  final.output.concentrate_ag  \\\n",
              "0                    42.192020                     6.055403   \n",
              "1                    42.701629                     6.029369   \n",
              "2                    42.657501                     6.055926   \n",
              "3                    42.689819                     6.047977   \n",
              "4                    42.774141                     6.148599   \n",
              "\n",
              "   final.output.concentrate_pb  final.output.concentrate_sol  \\\n",
              "0                     9.889648                      5.507324   \n",
              "1                     9.968944                      5.257781   \n",
              "2                    10.213995                      5.383759   \n",
              "3                     9.977019                      4.858634   \n",
              "4                    10.142511                      4.939416   \n",
              "\n",
              "   final.output.recovery  final.output.tail_au  final.output.tail_ag  \\\n",
              "0              70.541216              2.143149             10.411962   \n",
              "1              69.266198              2.224930             10.462676   \n",
              "2              68.116445              2.257889             10.507046   \n",
              "3              68.347543              2.146849             10.422762   \n",
              "4              66.927016              2.055292             10.360302   \n",
              "\n",
              "   final.output.tail_pb  final.output.tail_sol  \n",
              "0              0.895447              16.904297  \n",
              "1              0.927452              16.634514  \n",
              "2              0.953716              16.208849  \n",
              "3              0.883763              16.532835  \n",
              "4              0.792826              16.525686  "
            ]
          },
          "execution_count": 3,
          "metadata": {},
          "output_type": "execute_result"
        }
      ],
      "source": [
        "train.head()"
      ]
    },
    {
      "cell_type": "code",
      "execution_count": null,
      "metadata": {
        "id": "oPsiwIQOdCuJ",
        "outputId": "b2535601-c8c3-41be-8faf-2ba21a6127c9"
      },
      "outputs": [
        {
          "data": {
            "text/html": [
              "<div>\n",
              "<style scoped>\n",
              "    .dataframe tbody tr th:only-of-type {\n",
              "        vertical-align: middle;\n",
              "    }\n",
              "\n",
              "    .dataframe tbody tr th {\n",
              "        vertical-align: top;\n",
              "    }\n",
              "\n",
              "    .dataframe thead th {\n",
              "        text-align: right;\n",
              "    }\n",
              "</style>\n",
              "<table border=\"1\" class=\"dataframe\">\n",
              "  <thead>\n",
              "    <tr style=\"text-align: right;\">\n",
              "      <th></th>\n",
              "      <th>date</th>\n",
              "      <th>rougher.input.feed_au</th>\n",
              "      <th>rougher.input.feed_ag</th>\n",
              "      <th>rougher.input.feed_pb</th>\n",
              "      <th>rougher.input.feed_sol</th>\n",
              "      <th>rougher.input.feed_rate</th>\n",
              "      <th>rougher.input.feed_size</th>\n",
              "      <th>rougher.input.floatbank10_sulfate</th>\n",
              "      <th>rougher.input.floatbank10_xanthate</th>\n",
              "      <th>rougher.state.floatbank10_a_air</th>\n",
              "      <th>rougher.state.floatbank10_a_level</th>\n",
              "      <th>rougher.state.floatbank10_b_air</th>\n",
              "      <th>rougher.state.floatbank10_b_level</th>\n",
              "      <th>rougher.state.floatbank10_c_air</th>\n",
              "      <th>rougher.state.floatbank10_c_level</th>\n",
              "      <th>rougher.state.floatbank10_d_air</th>\n",
              "      <th>rougher.state.floatbank10_d_level</th>\n",
              "      <th>rougher.state.floatbank10_e_air</th>\n",
              "      <th>rougher.state.floatbank10_e_level</th>\n",
              "      <th>rougher.state.floatbank10_f_air</th>\n",
              "      <th>rougher.state.floatbank10_f_level</th>\n",
              "      <th>rougher.input.floatbank11_sulfate</th>\n",
              "      <th>rougher.input.floatbank11_xanthate</th>\n",
              "      <th>primary_cleaner.input.sulfate</th>\n",
              "      <th>primary_cleaner.input.depressant</th>\n",
              "      <th>primary_cleaner.input.feed_size</th>\n",
              "      <th>primary_cleaner.input.xanthate</th>\n",
              "      <th>primary_cleaner.state.floatbank8_a_air</th>\n",
              "      <th>primary_cleaner.state.floatbank8_a_level</th>\n",
              "      <th>primary_cleaner.state.floatbank8_b_air</th>\n",
              "      <th>primary_cleaner.state.floatbank8_b_level</th>\n",
              "      <th>primary_cleaner.state.floatbank8_c_air</th>\n",
              "      <th>primary_cleaner.state.floatbank8_c_level</th>\n",
              "      <th>primary_cleaner.state.floatbank8_d_air</th>\n",
              "      <th>primary_cleaner.state.floatbank8_d_level</th>\n",
              "      <th>secondary_cleaner.state.floatbank2_a_air</th>\n",
              "      <th>secondary_cleaner.state.floatbank2_a_level</th>\n",
              "      <th>secondary_cleaner.state.floatbank2_b_air</th>\n",
              "      <th>secondary_cleaner.state.floatbank2_b_level</th>\n",
              "      <th>secondary_cleaner.state.floatbank3_a_air</th>\n",
              "      <th>secondary_cleaner.state.floatbank3_a_level</th>\n",
              "      <th>secondary_cleaner.state.floatbank3_b_air</th>\n",
              "      <th>secondary_cleaner.state.floatbank3_b_level</th>\n",
              "      <th>secondary_cleaner.state.floatbank4_a_air</th>\n",
              "      <th>secondary_cleaner.state.floatbank4_a_level</th>\n",
              "      <th>secondary_cleaner.state.floatbank4_b_air</th>\n",
              "      <th>secondary_cleaner.state.floatbank4_b_level</th>\n",
              "      <th>secondary_cleaner.state.floatbank5_a_air</th>\n",
              "      <th>secondary_cleaner.state.floatbank5_a_level</th>\n",
              "      <th>secondary_cleaner.state.floatbank5_b_air</th>\n",
              "      <th>secondary_cleaner.state.floatbank5_b_level</th>\n",
              "      <th>secondary_cleaner.state.floatbank6_a_air</th>\n",
              "      <th>secondary_cleaner.state.floatbank6_a_level</th>\n",
              "    </tr>\n",
              "  </thead>\n",
              "  <tbody>\n",
              "    <tr>\n",
              "      <th>0</th>\n",
              "      <td>2017-12-09 14:59:59</td>\n",
              "      <td>4.365491</td>\n",
              "      <td>6.158718</td>\n",
              "      <td>3.875727</td>\n",
              "      <td>39.135119</td>\n",
              "      <td>555.820208</td>\n",
              "      <td>94.544358</td>\n",
              "      <td>6.146982</td>\n",
              "      <td>9.308612</td>\n",
              "      <td>1196.238112</td>\n",
              "      <td>-299.862743</td>\n",
              "      <td>1147.248241</td>\n",
              "      <td>-500.363165</td>\n",
              "      <td>1047.279065</td>\n",
              "      <td>-500.354091</td>\n",
              "      <td>948.756608</td>\n",
              "      <td>-498.439416</td>\n",
              "      <td>849.441918</td>\n",
              "      <td>-499.255503</td>\n",
              "      <td>850.112246</td>\n",
              "      <td>-499.407112</td>\n",
              "      <td>6.168939</td>\n",
              "      <td>9.309852</td>\n",
              "      <td>95.248427</td>\n",
              "      <td>8.078957</td>\n",
              "      <td>6.500000</td>\n",
              "      <td>1.283045</td>\n",
              "      <td>1648.759906</td>\n",
              "      <td>-399.862053</td>\n",
              "      <td>1650.135395</td>\n",
              "      <td>-399.957321</td>\n",
              "      <td>1648.831890</td>\n",
              "      <td>-400.586116</td>\n",
              "      <td>1649.464582</td>\n",
              "      <td>-400.673303</td>\n",
              "      <td>34.940919</td>\n",
              "      <td>-500.150510</td>\n",
              "      <td>30.031867</td>\n",
              "      <td>-500.328335</td>\n",
              "      <td>26.033990</td>\n",
              "      <td>-500.147792</td>\n",
              "      <td>22.952306</td>\n",
              "      <td>-500.037678</td>\n",
              "      <td>23.018622</td>\n",
              "      <td>-500.492702</td>\n",
              "      <td>20.020205</td>\n",
              "      <td>-500.220296</td>\n",
              "      <td>17.963512</td>\n",
              "      <td>-499.939490</td>\n",
              "      <td>12.990306</td>\n",
              "      <td>-500.080993</td>\n",
              "      <td>19.990336</td>\n",
              "      <td>-499.191575</td>\n",
              "    </tr>\n",
              "    <tr>\n",
              "      <th>1</th>\n",
              "      <td>2017-12-09 15:59:59</td>\n",
              "      <td>4.362781</td>\n",
              "      <td>6.048130</td>\n",
              "      <td>3.902537</td>\n",
              "      <td>39.713906</td>\n",
              "      <td>544.731687</td>\n",
              "      <td>123.742430</td>\n",
              "      <td>6.210119</td>\n",
              "      <td>9.297709</td>\n",
              "      <td>1201.904177</td>\n",
              "      <td>-299.907308</td>\n",
              "      <td>1154.087804</td>\n",
              "      <td>-500.036580</td>\n",
              "      <td>1054.009756</td>\n",
              "      <td>-500.237335</td>\n",
              "      <td>944.138793</td>\n",
              "      <td>-496.866953</td>\n",
              "      <td>851.589767</td>\n",
              "      <td>-499.040466</td>\n",
              "      <td>851.345606</td>\n",
              "      <td>-499.122561</td>\n",
              "      <td>6.209517</td>\n",
              "      <td>9.297194</td>\n",
              "      <td>98.880538</td>\n",
              "      <td>7.984164</td>\n",
              "      <td>6.500000</td>\n",
              "      <td>1.241969</td>\n",
              "      <td>1646.547763</td>\n",
              "      <td>-398.977083</td>\n",
              "      <td>1648.212240</td>\n",
              "      <td>-400.383265</td>\n",
              "      <td>1648.917387</td>\n",
              "      <td>-399.521344</td>\n",
              "      <td>1651.498591</td>\n",
              "      <td>-399.745329</td>\n",
              "      <td>34.980742</td>\n",
              "      <td>-498.131002</td>\n",
              "      <td>29.968453</td>\n",
              "      <td>-586.013330</td>\n",
              "      <td>25.971737</td>\n",
              "      <td>-499.608392</td>\n",
              "      <td>22.958448</td>\n",
              "      <td>-499.821308</td>\n",
              "      <td>23.024963</td>\n",
              "      <td>-501.153409</td>\n",
              "      <td>20.054122</td>\n",
              "      <td>-500.314711</td>\n",
              "      <td>17.979515</td>\n",
              "      <td>-499.272871</td>\n",
              "      <td>12.992404</td>\n",
              "      <td>-499.976268</td>\n",
              "      <td>20.013986</td>\n",
              "      <td>-500.625471</td>\n",
              "    </tr>\n",
              "    <tr>\n",
              "      <th>2</th>\n",
              "      <td>2017-12-09 16:59:59</td>\n",
              "      <td>5.081681</td>\n",
              "      <td>6.082745</td>\n",
              "      <td>4.564078</td>\n",
              "      <td>37.208683</td>\n",
              "      <td>558.155110</td>\n",
              "      <td>82.610855</td>\n",
              "      <td>7.363824</td>\n",
              "      <td>9.003562</td>\n",
              "      <td>1200.826926</td>\n",
              "      <td>-300.124116</td>\n",
              "      <td>1150.754676</td>\n",
              "      <td>-499.986009</td>\n",
              "      <td>1049.182824</td>\n",
              "      <td>-500.014696</td>\n",
              "      <td>948.085464</td>\n",
              "      <td>-499.997003</td>\n",
              "      <td>850.170086</td>\n",
              "      <td>-500.270334</td>\n",
              "      <td>849.557905</td>\n",
              "      <td>-500.198702</td>\n",
              "      <td>7.358308</td>\n",
              "      <td>9.000624</td>\n",
              "      <td>119.497545</td>\n",
              "      <td>8.003752</td>\n",
              "      <td>6.500000</td>\n",
              "      <td>1.259741</td>\n",
              "      <td>1647.368779</td>\n",
              "      <td>-399.788506</td>\n",
              "      <td>1648.395206</td>\n",
              "      <td>-400.166490</td>\n",
              "      <td>1648.953828</td>\n",
              "      <td>-400.468641</td>\n",
              "      <td>1649.821569</td>\n",
              "      <td>-400.071884</td>\n",
              "      <td>34.952967</td>\n",
              "      <td>-501.204647</td>\n",
              "      <td>29.927025</td>\n",
              "      <td>-500.106628</td>\n",
              "      <td>25.978253</td>\n",
              "      <td>-499.890060</td>\n",
              "      <td>23.004376</td>\n",
              "      <td>-500.014529</td>\n",
              "      <td>22.993827</td>\n",
              "      <td>-501.559663</td>\n",
              "      <td>20.029144</td>\n",
              "      <td>-500.000662</td>\n",
              "      <td>18.012723</td>\n",
              "      <td>-500.024764</td>\n",
              "      <td>13.016445</td>\n",
              "      <td>-500.058432</td>\n",
              "      <td>19.973767</td>\n",
              "      <td>-501.394155</td>\n",
              "    </tr>\n",
              "    <tr>\n",
              "      <th>3</th>\n",
              "      <td>2017-12-09 17:59:59</td>\n",
              "      <td>5.145949</td>\n",
              "      <td>6.084374</td>\n",
              "      <td>4.768124</td>\n",
              "      <td>36.808874</td>\n",
              "      <td>539.713765</td>\n",
              "      <td>77.984784</td>\n",
              "      <td>6.927072</td>\n",
              "      <td>8.955597</td>\n",
              "      <td>1199.292489</td>\n",
              "      <td>-299.778385</td>\n",
              "      <td>1152.512559</td>\n",
              "      <td>-500.338106</td>\n",
              "      <td>1052.601592</td>\n",
              "      <td>-499.695075</td>\n",
              "      <td>955.171539</td>\n",
              "      <td>-500.294989</td>\n",
              "      <td>851.957342</td>\n",
              "      <td>-499.779541</td>\n",
              "      <td>850.765662</td>\n",
              "      <td>-501.030559</td>\n",
              "      <td>6.929364</td>\n",
              "      <td>8.920717</td>\n",
              "      <td>108.080163</td>\n",
              "      <td>7.970121</td>\n",
              "      <td>6.660000</td>\n",
              "      <td>0.774909</td>\n",
              "      <td>1652.660845</td>\n",
              "      <td>-399.702218</td>\n",
              "      <td>1651.203128</td>\n",
              "      <td>-400.291472</td>\n",
              "      <td>1651.924848</td>\n",
              "      <td>-398.058033</td>\n",
              "      <td>1650.782696</td>\n",
              "      <td>-399.597977</td>\n",
              "      <td>35.038256</td>\n",
              "      <td>-500.102649</td>\n",
              "      <td>30.066959</td>\n",
              "      <td>-500.211499</td>\n",
              "      <td>26.013515</td>\n",
              "      <td>-500.054597</td>\n",
              "      <td>22.988928</td>\n",
              "      <td>-499.981410</td>\n",
              "      <td>23.032807</td>\n",
              "      <td>-501.287889</td>\n",
              "      <td>19.977466</td>\n",
              "      <td>-500.159903</td>\n",
              "      <td>17.980463</td>\n",
              "      <td>-500.504602</td>\n",
              "      <td>12.949071</td>\n",
              "      <td>-500.009937</td>\n",
              "      <td>20.010332</td>\n",
              "      <td>-508.337973</td>\n",
              "    </tr>\n",
              "    <tr>\n",
              "      <th>4</th>\n",
              "      <td>2017-12-09 18:59:59</td>\n",
              "      <td>5.735249</td>\n",
              "      <td>6.165220</td>\n",
              "      <td>4.512346</td>\n",
              "      <td>37.810642</td>\n",
              "      <td>558.713584</td>\n",
              "      <td>86.434874</td>\n",
              "      <td>7.823471</td>\n",
              "      <td>7.490356</td>\n",
              "      <td>1198.005449</td>\n",
              "      <td>-300.283401</td>\n",
              "      <td>1099.481500</td>\n",
              "      <td>-499.702465</td>\n",
              "      <td>999.539264</td>\n",
              "      <td>-499.306051</td>\n",
              "      <td>889.445596</td>\n",
              "      <td>-498.118617</td>\n",
              "      <td>800.533525</td>\n",
              "      <td>-499.765068</td>\n",
              "      <td>800.510356</td>\n",
              "      <td>-497.289533</td>\n",
              "      <td>7.824875</td>\n",
              "      <td>7.500678</td>\n",
              "      <td>117.750648</td>\n",
              "      <td>6.954311</td>\n",
              "      <td>6.426667</td>\n",
              "      <td>0.731271</td>\n",
              "      <td>1649.411497</td>\n",
              "      <td>-399.853156</td>\n",
              "      <td>1648.917211</td>\n",
              "      <td>-400.321866</td>\n",
              "      <td>1649.117753</td>\n",
              "      <td>-399.645348</td>\n",
              "      <td>1650.398209</td>\n",
              "      <td>-400.654533</td>\n",
              "      <td>34.894598</td>\n",
              "      <td>-498.444587</td>\n",
              "      <td>30.020745</td>\n",
              "      <td>-533.831343</td>\n",
              "      <td>26.022094</td>\n",
              "      <td>-499.725484</td>\n",
              "      <td>22.992992</td>\n",
              "      <td>-499.891405</td>\n",
              "      <td>23.001911</td>\n",
              "      <td>-499.947838</td>\n",
              "      <td>20.023735</td>\n",
              "      <td>-499.713680</td>\n",
              "      <td>17.990955</td>\n",
              "      <td>-500.334769</td>\n",
              "      <td>13.007523</td>\n",
              "      <td>-499.968459</td>\n",
              "      <td>19.995999</td>\n",
              "      <td>-499.788805</td>\n",
              "    </tr>\n",
              "  </tbody>\n",
              "</table>\n",
              "</div>"
            ],
            "text/plain": [
              "                  date  rougher.input.feed_au  rougher.input.feed_ag  \\\n",
              "0  2017-12-09 14:59:59               4.365491               6.158718   \n",
              "1  2017-12-09 15:59:59               4.362781               6.048130   \n",
              "2  2017-12-09 16:59:59               5.081681               6.082745   \n",
              "3  2017-12-09 17:59:59               5.145949               6.084374   \n",
              "4  2017-12-09 18:59:59               5.735249               6.165220   \n",
              "\n",
              "   rougher.input.feed_pb  rougher.input.feed_sol  rougher.input.feed_rate  \\\n",
              "0               3.875727               39.135119               555.820208   \n",
              "1               3.902537               39.713906               544.731687   \n",
              "2               4.564078               37.208683               558.155110   \n",
              "3               4.768124               36.808874               539.713765   \n",
              "4               4.512346               37.810642               558.713584   \n",
              "\n",
              "   rougher.input.feed_size  rougher.input.floatbank10_sulfate  \\\n",
              "0                94.544358                           6.146982   \n",
              "1               123.742430                           6.210119   \n",
              "2                82.610855                           7.363824   \n",
              "3                77.984784                           6.927072   \n",
              "4                86.434874                           7.823471   \n",
              "\n",
              "   rougher.input.floatbank10_xanthate  rougher.state.floatbank10_a_air  \\\n",
              "0                            9.308612                      1196.238112   \n",
              "1                            9.297709                      1201.904177   \n",
              "2                            9.003562                      1200.826926   \n",
              "3                            8.955597                      1199.292489   \n",
              "4                            7.490356                      1198.005449   \n",
              "\n",
              "   rougher.state.floatbank10_a_level  rougher.state.floatbank10_b_air  \\\n",
              "0                        -299.862743                      1147.248241   \n",
              "1                        -299.907308                      1154.087804   \n",
              "2                        -300.124116                      1150.754676   \n",
              "3                        -299.778385                      1152.512559   \n",
              "4                        -300.283401                      1099.481500   \n",
              "\n",
              "   rougher.state.floatbank10_b_level  rougher.state.floatbank10_c_air  \\\n",
              "0                        -500.363165                      1047.279065   \n",
              "1                        -500.036580                      1054.009756   \n",
              "2                        -499.986009                      1049.182824   \n",
              "3                        -500.338106                      1052.601592   \n",
              "4                        -499.702465                       999.539264   \n",
              "\n",
              "   rougher.state.floatbank10_c_level  rougher.state.floatbank10_d_air  \\\n",
              "0                        -500.354091                       948.756608   \n",
              "1                        -500.237335                       944.138793   \n",
              "2                        -500.014696                       948.085464   \n",
              "3                        -499.695075                       955.171539   \n",
              "4                        -499.306051                       889.445596   \n",
              "\n",
              "   rougher.state.floatbank10_d_level  rougher.state.floatbank10_e_air  \\\n",
              "0                        -498.439416                       849.441918   \n",
              "1                        -496.866953                       851.589767   \n",
              "2                        -499.997003                       850.170086   \n",
              "3                        -500.294989                       851.957342   \n",
              "4                        -498.118617                       800.533525   \n",
              "\n",
              "   rougher.state.floatbank10_e_level  rougher.state.floatbank10_f_air  \\\n",
              "0                        -499.255503                       850.112246   \n",
              "1                        -499.040466                       851.345606   \n",
              "2                        -500.270334                       849.557905   \n",
              "3                        -499.779541                       850.765662   \n",
              "4                        -499.765068                       800.510356   \n",
              "\n",
              "   rougher.state.floatbank10_f_level  rougher.input.floatbank11_sulfate  \\\n",
              "0                        -499.407112                           6.168939   \n",
              "1                        -499.122561                           6.209517   \n",
              "2                        -500.198702                           7.358308   \n",
              "3                        -501.030559                           6.929364   \n",
              "4                        -497.289533                           7.824875   \n",
              "\n",
              "   rougher.input.floatbank11_xanthate  primary_cleaner.input.sulfate  \\\n",
              "0                            9.309852                      95.248427   \n",
              "1                            9.297194                      98.880538   \n",
              "2                            9.000624                     119.497545   \n",
              "3                            8.920717                     108.080163   \n",
              "4                            7.500678                     117.750648   \n",
              "\n",
              "   primary_cleaner.input.depressant  primary_cleaner.input.feed_size  \\\n",
              "0                          8.078957                         6.500000   \n",
              "1                          7.984164                         6.500000   \n",
              "2                          8.003752                         6.500000   \n",
              "3                          7.970121                         6.660000   \n",
              "4                          6.954311                         6.426667   \n",
              "\n",
              "   primary_cleaner.input.xanthate  primary_cleaner.state.floatbank8_a_air  \\\n",
              "0                        1.283045                             1648.759906   \n",
              "1                        1.241969                             1646.547763   \n",
              "2                        1.259741                             1647.368779   \n",
              "3                        0.774909                             1652.660845   \n",
              "4                        0.731271                             1649.411497   \n",
              "\n",
              "   primary_cleaner.state.floatbank8_a_level  \\\n",
              "0                               -399.862053   \n",
              "1                               -398.977083   \n",
              "2                               -399.788506   \n",
              "3                               -399.702218   \n",
              "4                               -399.853156   \n",
              "\n",
              "   primary_cleaner.state.floatbank8_b_air  \\\n",
              "0                             1650.135395   \n",
              "1                             1648.212240   \n",
              "2                             1648.395206   \n",
              "3                             1651.203128   \n",
              "4                             1648.917211   \n",
              "\n",
              "   primary_cleaner.state.floatbank8_b_level  \\\n",
              "0                               -399.957321   \n",
              "1                               -400.383265   \n",
              "2                               -400.166490   \n",
              "3                               -400.291472   \n",
              "4                               -400.321866   \n",
              "\n",
              "   primary_cleaner.state.floatbank8_c_air  \\\n",
              "0                             1648.831890   \n",
              "1                             1648.917387   \n",
              "2                             1648.953828   \n",
              "3                             1651.924848   \n",
              "4                             1649.117753   \n",
              "\n",
              "   primary_cleaner.state.floatbank8_c_level  \\\n",
              "0                               -400.586116   \n",
              "1                               -399.521344   \n",
              "2                               -400.468641   \n",
              "3                               -398.058033   \n",
              "4                               -399.645348   \n",
              "\n",
              "   primary_cleaner.state.floatbank8_d_air  \\\n",
              "0                             1649.464582   \n",
              "1                             1651.498591   \n",
              "2                             1649.821569   \n",
              "3                             1650.782696   \n",
              "4                             1650.398209   \n",
              "\n",
              "   primary_cleaner.state.floatbank8_d_level  \\\n",
              "0                               -400.673303   \n",
              "1                               -399.745329   \n",
              "2                               -400.071884   \n",
              "3                               -399.597977   \n",
              "4                               -400.654533   \n",
              "\n",
              "   secondary_cleaner.state.floatbank2_a_air  \\\n",
              "0                                 34.940919   \n",
              "1                                 34.980742   \n",
              "2                                 34.952967   \n",
              "3                                 35.038256   \n",
              "4                                 34.894598   \n",
              "\n",
              "   secondary_cleaner.state.floatbank2_a_level  \\\n",
              "0                                 -500.150510   \n",
              "1                                 -498.131002   \n",
              "2                                 -501.204647   \n",
              "3                                 -500.102649   \n",
              "4                                 -498.444587   \n",
              "\n",
              "   secondary_cleaner.state.floatbank2_b_air  \\\n",
              "0                                 30.031867   \n",
              "1                                 29.968453   \n",
              "2                                 29.927025   \n",
              "3                                 30.066959   \n",
              "4                                 30.020745   \n",
              "\n",
              "   secondary_cleaner.state.floatbank2_b_level  \\\n",
              "0                                 -500.328335   \n",
              "1                                 -586.013330   \n",
              "2                                 -500.106628   \n",
              "3                                 -500.211499   \n",
              "4                                 -533.831343   \n",
              "\n",
              "   secondary_cleaner.state.floatbank3_a_air  \\\n",
              "0                                 26.033990   \n",
              "1                                 25.971737   \n",
              "2                                 25.978253   \n",
              "3                                 26.013515   \n",
              "4                                 26.022094   \n",
              "\n",
              "   secondary_cleaner.state.floatbank3_a_level  \\\n",
              "0                                 -500.147792   \n",
              "1                                 -499.608392   \n",
              "2                                 -499.890060   \n",
              "3                                 -500.054597   \n",
              "4                                 -499.725484   \n",
              "\n",
              "   secondary_cleaner.state.floatbank3_b_air  \\\n",
              "0                                 22.952306   \n",
              "1                                 22.958448   \n",
              "2                                 23.004376   \n",
              "3                                 22.988928   \n",
              "4                                 22.992992   \n",
              "\n",
              "   secondary_cleaner.state.floatbank3_b_level  \\\n",
              "0                                 -500.037678   \n",
              "1                                 -499.821308   \n",
              "2                                 -500.014529   \n",
              "3                                 -499.981410   \n",
              "4                                 -499.891405   \n",
              "\n",
              "   secondary_cleaner.state.floatbank4_a_air  \\\n",
              "0                                 23.018622   \n",
              "1                                 23.024963   \n",
              "2                                 22.993827   \n",
              "3                                 23.032807   \n",
              "4                                 23.001911   \n",
              "\n",
              "   secondary_cleaner.state.floatbank4_a_level  \\\n",
              "0                                 -500.492702   \n",
              "1                                 -501.153409   \n",
              "2                                 -501.559663   \n",
              "3                                 -501.287889   \n",
              "4                                 -499.947838   \n",
              "\n",
              "   secondary_cleaner.state.floatbank4_b_air  \\\n",
              "0                                 20.020205   \n",
              "1                                 20.054122   \n",
              "2                                 20.029144   \n",
              "3                                 19.977466   \n",
              "4                                 20.023735   \n",
              "\n",
              "   secondary_cleaner.state.floatbank4_b_level  \\\n",
              "0                                 -500.220296   \n",
              "1                                 -500.314711   \n",
              "2                                 -500.000662   \n",
              "3                                 -500.159903   \n",
              "4                                 -499.713680   \n",
              "\n",
              "   secondary_cleaner.state.floatbank5_a_air  \\\n",
              "0                                 17.963512   \n",
              "1                                 17.979515   \n",
              "2                                 18.012723   \n",
              "3                                 17.980463   \n",
              "4                                 17.990955   \n",
              "\n",
              "   secondary_cleaner.state.floatbank5_a_level  \\\n",
              "0                                 -499.939490   \n",
              "1                                 -499.272871   \n",
              "2                                 -500.024764   \n",
              "3                                 -500.504602   \n",
              "4                                 -500.334769   \n",
              "\n",
              "   secondary_cleaner.state.floatbank5_b_air  \\\n",
              "0                                 12.990306   \n",
              "1                                 12.992404   \n",
              "2                                 13.016445   \n",
              "3                                 12.949071   \n",
              "4                                 13.007523   \n",
              "\n",
              "   secondary_cleaner.state.floatbank5_b_level  \\\n",
              "0                                 -500.080993   \n",
              "1                                 -499.976268   \n",
              "2                                 -500.058432   \n",
              "3                                 -500.009937   \n",
              "4                                 -499.968459   \n",
              "\n",
              "   secondary_cleaner.state.floatbank6_a_air  \\\n",
              "0                                 19.990336   \n",
              "1                                 20.013986   \n",
              "2                                 19.973767   \n",
              "3                                 20.010332   \n",
              "4                                 19.995999   \n",
              "\n",
              "   secondary_cleaner.state.floatbank6_a_level  \n",
              "0                                 -499.191575  \n",
              "1                                 -500.625471  \n",
              "2                                 -501.394155  \n",
              "3                                 -508.337973  \n",
              "4                                 -499.788805  "
            ]
          },
          "execution_count": 4,
          "metadata": {},
          "output_type": "execute_result"
        }
      ],
      "source": [
        "test.head()"
      ]
    },
    {
      "cell_type": "code",
      "execution_count": null,
      "metadata": {
        "id": "zzvb99oRdCuJ",
        "outputId": "faf5c639-fa7c-418e-fb28-9c3ede6e8ebc"
      },
      "outputs": [
        {
          "data": {
            "text/html": [
              "<div>\n",
              "<style scoped>\n",
              "    .dataframe tbody tr th:only-of-type {\n",
              "        vertical-align: middle;\n",
              "    }\n",
              "\n",
              "    .dataframe tbody tr th {\n",
              "        vertical-align: top;\n",
              "    }\n",
              "\n",
              "    .dataframe thead th {\n",
              "        text-align: right;\n",
              "    }\n",
              "</style>\n",
              "<table border=\"1\" class=\"dataframe\">\n",
              "  <thead>\n",
              "    <tr style=\"text-align: right;\">\n",
              "      <th></th>\n",
              "      <th>date</th>\n",
              "      <th>rougher.input.feed_au</th>\n",
              "      <th>rougher.input.feed_ag</th>\n",
              "      <th>rougher.input.feed_pb</th>\n",
              "      <th>rougher.input.feed_sol</th>\n",
              "      <th>rougher.input.feed_rate</th>\n",
              "      <th>rougher.input.feed_size</th>\n",
              "      <th>rougher.input.floatbank10_sulfate</th>\n",
              "      <th>rougher.input.floatbank10_xanthate</th>\n",
              "      <th>rougher.state.floatbank10_a_air</th>\n",
              "      <th>rougher.state.floatbank10_a_level</th>\n",
              "      <th>rougher.state.floatbank10_b_air</th>\n",
              "      <th>rougher.state.floatbank10_b_level</th>\n",
              "      <th>rougher.state.floatbank10_c_air</th>\n",
              "      <th>rougher.state.floatbank10_c_level</th>\n",
              "      <th>rougher.state.floatbank10_d_air</th>\n",
              "      <th>rougher.state.floatbank10_d_level</th>\n",
              "      <th>rougher.state.floatbank10_e_air</th>\n",
              "      <th>rougher.state.floatbank10_e_level</th>\n",
              "      <th>rougher.state.floatbank10_f_air</th>\n",
              "      <th>rougher.state.floatbank10_f_level</th>\n",
              "      <th>rougher.input.floatbank11_sulfate</th>\n",
              "      <th>rougher.input.floatbank11_xanthate</th>\n",
              "      <th>rougher.calculation.sulfate_to_au_concentrate</th>\n",
              "      <th>rougher.calculation.floatbank10_sulfate_to_au_feed</th>\n",
              "      <th>rougher.calculation.floatbank11_sulfate_to_au_feed</th>\n",
              "      <th>rougher.calculation.au_pb_ratio</th>\n",
              "      <th>rougher.output.concentrate_au</th>\n",
              "      <th>rougher.output.concentrate_ag</th>\n",
              "      <th>rougher.output.concentrate_pb</th>\n",
              "      <th>rougher.output.concentrate_sol</th>\n",
              "      <th>rougher.output.recovery</th>\n",
              "      <th>rougher.output.tail_au</th>\n",
              "      <th>rougher.output.tail_ag</th>\n",
              "      <th>rougher.output.tail_pb</th>\n",
              "      <th>rougher.output.tail_sol</th>\n",
              "      <th>primary_cleaner.input.sulfate</th>\n",
              "      <th>primary_cleaner.input.depressant</th>\n",
              "      <th>primary_cleaner.input.feed_size</th>\n",
              "      <th>primary_cleaner.input.xanthate</th>\n",
              "      <th>primary_cleaner.state.floatbank8_a_air</th>\n",
              "      <th>primary_cleaner.state.floatbank8_a_level</th>\n",
              "      <th>primary_cleaner.state.floatbank8_b_air</th>\n",
              "      <th>primary_cleaner.state.floatbank8_b_level</th>\n",
              "      <th>primary_cleaner.state.floatbank8_c_air</th>\n",
              "      <th>primary_cleaner.state.floatbank8_c_level</th>\n",
              "      <th>primary_cleaner.state.floatbank8_d_air</th>\n",
              "      <th>primary_cleaner.state.floatbank8_d_level</th>\n",
              "      <th>primary_cleaner.output.concentrate_au</th>\n",
              "      <th>primary_cleaner.output.concentrate_ag</th>\n",
              "      <th>primary_cleaner.output.concentrate_pb</th>\n",
              "      <th>primary_cleaner.output.concentrate_sol</th>\n",
              "      <th>primary_cleaner.output.tail_au</th>\n",
              "      <th>primary_cleaner.output.tail_ag</th>\n",
              "      <th>primary_cleaner.output.tail_pb</th>\n",
              "      <th>primary_cleaner.output.tail_sol</th>\n",
              "      <th>secondary_cleaner.state.floatbank2_a_air</th>\n",
              "      <th>secondary_cleaner.state.floatbank2_a_level</th>\n",
              "      <th>secondary_cleaner.state.floatbank2_b_air</th>\n",
              "      <th>secondary_cleaner.state.floatbank2_b_level</th>\n",
              "      <th>secondary_cleaner.state.floatbank3_a_air</th>\n",
              "      <th>secondary_cleaner.state.floatbank3_a_level</th>\n",
              "      <th>secondary_cleaner.state.floatbank3_b_air</th>\n",
              "      <th>secondary_cleaner.state.floatbank3_b_level</th>\n",
              "      <th>secondary_cleaner.state.floatbank4_a_air</th>\n",
              "      <th>secondary_cleaner.state.floatbank4_a_level</th>\n",
              "      <th>secondary_cleaner.state.floatbank4_b_air</th>\n",
              "      <th>secondary_cleaner.state.floatbank4_b_level</th>\n",
              "      <th>secondary_cleaner.state.floatbank5_a_air</th>\n",
              "      <th>secondary_cleaner.state.floatbank5_a_level</th>\n",
              "      <th>secondary_cleaner.state.floatbank5_b_air</th>\n",
              "      <th>secondary_cleaner.state.floatbank5_b_level</th>\n",
              "      <th>secondary_cleaner.state.floatbank6_a_air</th>\n",
              "      <th>secondary_cleaner.state.floatbank6_a_level</th>\n",
              "      <th>secondary_cleaner.output.tail_au</th>\n",
              "      <th>secondary_cleaner.output.tail_ag</th>\n",
              "      <th>secondary_cleaner.output.tail_pb</th>\n",
              "      <th>secondary_cleaner.output.tail_sol</th>\n",
              "      <th>final.output.concentrate_au</th>\n",
              "      <th>final.output.concentrate_ag</th>\n",
              "      <th>final.output.concentrate_pb</th>\n",
              "      <th>final.output.concentrate_sol</th>\n",
              "      <th>final.output.recovery</th>\n",
              "      <th>final.output.tail_au</th>\n",
              "      <th>final.output.tail_ag</th>\n",
              "      <th>final.output.tail_pb</th>\n",
              "      <th>final.output.tail_sol</th>\n",
              "    </tr>\n",
              "  </thead>\n",
              "  <tbody>\n",
              "    <tr>\n",
              "      <th>0</th>\n",
              "      <td>2016-01-15 00:00:00</td>\n",
              "      <td>6.486150</td>\n",
              "      <td>6.100378</td>\n",
              "      <td>2.284912</td>\n",
              "      <td>36.808594</td>\n",
              "      <td>523.546326</td>\n",
              "      <td>55.486599</td>\n",
              "      <td>11.986616</td>\n",
              "      <td>6.007990</td>\n",
              "      <td>999.706909</td>\n",
              "      <td>-404.066986</td>\n",
              "      <td>1603.011353</td>\n",
              "      <td>-434.715027</td>\n",
              "      <td>1602.375000</td>\n",
              "      <td>-442.204468</td>\n",
              "      <td>1598.937256</td>\n",
              "      <td>-451.294128</td>\n",
              "      <td>1404.472046</td>\n",
              "      <td>-455.462982</td>\n",
              "      <td>1416.354980</td>\n",
              "      <td>-451.939636</td>\n",
              "      <td>11.836743</td>\n",
              "      <td>6.005818</td>\n",
              "      <td>41885.707031</td>\n",
              "      <td>3481.779053</td>\n",
              "      <td>3520.337158</td>\n",
              "      <td>2.838687</td>\n",
              "      <td>19.793808</td>\n",
              "      <td>11.500771</td>\n",
              "      <td>7.101074</td>\n",
              "      <td>28.029297</td>\n",
              "      <td>87.107763</td>\n",
              "      <td>1.170244</td>\n",
              "      <td>5.008018</td>\n",
              "      <td>0.508728</td>\n",
              "      <td>19.154297</td>\n",
              "      <td>127.092003</td>\n",
              "      <td>10.128295</td>\n",
              "      <td>7.25</td>\n",
              "      <td>0.988759</td>\n",
              "      <td>1549.775757</td>\n",
              "      <td>-498.912140</td>\n",
              "      <td>1551.434204</td>\n",
              "      <td>-516.403442</td>\n",
              "      <td>1549.873901</td>\n",
              "      <td>-498.666595</td>\n",
              "      <td>1554.367432</td>\n",
              "      <td>-493.428131</td>\n",
              "      <td>34.174427</td>\n",
              "      <td>8.547551</td>\n",
              "      <td>10.389648</td>\n",
              "      <td>19.529297</td>\n",
              "      <td>2.106679</td>\n",
              "      <td>14.936526</td>\n",
              "      <td>2.534912</td>\n",
              "      <td>7.476074</td>\n",
              "      <td>25.853109</td>\n",
              "      <td>-498.526489</td>\n",
              "      <td>23.893660</td>\n",
              "      <td>-501.406281</td>\n",
              "      <td>23.961798</td>\n",
              "      <td>-495.262817</td>\n",
              "      <td>21.940409</td>\n",
              "      <td>-499.340973</td>\n",
              "      <td>14.016835</td>\n",
              "      <td>-502.488007</td>\n",
              "      <td>12.099931</td>\n",
              "      <td>-504.715942</td>\n",
              "      <td>9.925633</td>\n",
              "      <td>-498.310211</td>\n",
              "      <td>8.079666</td>\n",
              "      <td>-500.470978</td>\n",
              "      <td>14.151341</td>\n",
              "      <td>-605.841980</td>\n",
              "      <td>2.606185</td>\n",
              "      <td>14.500184</td>\n",
              "      <td>4.694824</td>\n",
              "      <td>8.764648</td>\n",
              "      <td>42.192020</td>\n",
              "      <td>6.055403</td>\n",
              "      <td>9.889648</td>\n",
              "      <td>5.507324</td>\n",
              "      <td>70.541216</td>\n",
              "      <td>2.143149</td>\n",
              "      <td>10.411962</td>\n",
              "      <td>0.895447</td>\n",
              "      <td>16.904297</td>\n",
              "    </tr>\n",
              "    <tr>\n",
              "      <th>1</th>\n",
              "      <td>2016-01-15 01:00:00</td>\n",
              "      <td>6.478583</td>\n",
              "      <td>6.161113</td>\n",
              "      <td>2.266033</td>\n",
              "      <td>35.753385</td>\n",
              "      <td>525.290581</td>\n",
              "      <td>57.278666</td>\n",
              "      <td>11.971193</td>\n",
              "      <td>6.005766</td>\n",
              "      <td>1000.286398</td>\n",
              "      <td>-400.065196</td>\n",
              "      <td>1600.754587</td>\n",
              "      <td>-449.953435</td>\n",
              "      <td>1600.479580</td>\n",
              "      <td>-449.830646</td>\n",
              "      <td>1600.527589</td>\n",
              "      <td>-449.953649</td>\n",
              "      <td>1399.227084</td>\n",
              "      <td>-450.869848</td>\n",
              "      <td>1399.719514</td>\n",
              "      <td>-450.119001</td>\n",
              "      <td>11.996163</td>\n",
              "      <td>6.012594</td>\n",
              "      <td>42050.861809</td>\n",
              "      <td>3498.370979</td>\n",
              "      <td>3489.981857</td>\n",
              "      <td>2.858998</td>\n",
              "      <td>20.050975</td>\n",
              "      <td>11.615865</td>\n",
              "      <td>7.278807</td>\n",
              "      <td>28.067063</td>\n",
              "      <td>86.843261</td>\n",
              "      <td>1.184827</td>\n",
              "      <td>4.955378</td>\n",
              "      <td>0.536689</td>\n",
              "      <td>18.965234</td>\n",
              "      <td>125.629232</td>\n",
              "      <td>10.296251</td>\n",
              "      <td>7.25</td>\n",
              "      <td>1.002663</td>\n",
              "      <td>1576.166671</td>\n",
              "      <td>-500.904965</td>\n",
              "      <td>1575.950626</td>\n",
              "      <td>-499.865889</td>\n",
              "      <td>1575.994189</td>\n",
              "      <td>-499.315107</td>\n",
              "      <td>1574.479259</td>\n",
              "      <td>-498.931665</td>\n",
              "      <td>34.118526</td>\n",
              "      <td>8.558743</td>\n",
              "      <td>10.497069</td>\n",
              "      <td>19.369147</td>\n",
              "      <td>2.353017</td>\n",
              "      <td>16.250511</td>\n",
              "      <td>3.049646</td>\n",
              "      <td>6.733907</td>\n",
              "      <td>25.880539</td>\n",
              "      <td>-499.989656</td>\n",
              "      <td>23.889530</td>\n",
              "      <td>-500.372428</td>\n",
              "      <td>23.970550</td>\n",
              "      <td>-500.085473</td>\n",
              "      <td>22.085714</td>\n",
              "      <td>-499.446897</td>\n",
              "      <td>13.992281</td>\n",
              "      <td>-505.503262</td>\n",
              "      <td>11.950531</td>\n",
              "      <td>-501.331529</td>\n",
              "      <td>10.039245</td>\n",
              "      <td>-500.169983</td>\n",
              "      <td>7.984757</td>\n",
              "      <td>-500.582168</td>\n",
              "      <td>13.998353</td>\n",
              "      <td>-599.787184</td>\n",
              "      <td>2.488248</td>\n",
              "      <td>14.265474</td>\n",
              "      <td>4.592547</td>\n",
              "      <td>9.001494</td>\n",
              "      <td>42.701629</td>\n",
              "      <td>6.029369</td>\n",
              "      <td>9.968944</td>\n",
              "      <td>5.257781</td>\n",
              "      <td>69.266198</td>\n",
              "      <td>2.224930</td>\n",
              "      <td>10.462676</td>\n",
              "      <td>0.927452</td>\n",
              "      <td>16.634514</td>\n",
              "    </tr>\n",
              "    <tr>\n",
              "      <th>2</th>\n",
              "      <td>2016-01-15 02:00:00</td>\n",
              "      <td>6.362222</td>\n",
              "      <td>6.116455</td>\n",
              "      <td>2.159622</td>\n",
              "      <td>35.971630</td>\n",
              "      <td>530.026610</td>\n",
              "      <td>57.510649</td>\n",
              "      <td>11.920603</td>\n",
              "      <td>6.197377</td>\n",
              "      <td>999.719565</td>\n",
              "      <td>-400.074028</td>\n",
              "      <td>1599.337330</td>\n",
              "      <td>-450.008530</td>\n",
              "      <td>1599.672797</td>\n",
              "      <td>-449.954491</td>\n",
              "      <td>1599.849325</td>\n",
              "      <td>-449.954185</td>\n",
              "      <td>1399.180945</td>\n",
              "      <td>-449.937588</td>\n",
              "      <td>1400.316682</td>\n",
              "      <td>-450.527147</td>\n",
              "      <td>11.920305</td>\n",
              "      <td>6.204633</td>\n",
              "      <td>42018.101184</td>\n",
              "      <td>3495.348910</td>\n",
              "      <td>3502.359819</td>\n",
              "      <td>2.945989</td>\n",
              "      <td>19.737170</td>\n",
              "      <td>11.695753</td>\n",
              "      <td>7.216833</td>\n",
              "      <td>27.454037</td>\n",
              "      <td>86.842308</td>\n",
              "      <td>1.162562</td>\n",
              "      <td>4.843460</td>\n",
              "      <td>0.546416</td>\n",
              "      <td>18.808533</td>\n",
              "      <td>123.819808</td>\n",
              "      <td>11.316280</td>\n",
              "      <td>7.25</td>\n",
              "      <td>0.991265</td>\n",
              "      <td>1601.556163</td>\n",
              "      <td>-499.997791</td>\n",
              "      <td>1600.386685</td>\n",
              "      <td>-500.607762</td>\n",
              "      <td>1602.003542</td>\n",
              "      <td>-500.870069</td>\n",
              "      <td>1599.541515</td>\n",
              "      <td>-499.827444</td>\n",
              "      <td>33.969464</td>\n",
              "      <td>8.603505</td>\n",
              "      <td>10.354494</td>\n",
              "      <td>19.167579</td>\n",
              "      <td>2.416800</td>\n",
              "      <td>16.491823</td>\n",
              "      <td>3.124664</td>\n",
              "      <td>6.471768</td>\n",
              "      <td>26.005245</td>\n",
              "      <td>-499.929616</td>\n",
              "      <td>23.886657</td>\n",
              "      <td>-499.951928</td>\n",
              "      <td>23.913535</td>\n",
              "      <td>-499.442343</td>\n",
              "      <td>23.957717</td>\n",
              "      <td>-499.901982</td>\n",
              "      <td>14.015015</td>\n",
              "      <td>-502.520901</td>\n",
              "      <td>11.912783</td>\n",
              "      <td>-501.133383</td>\n",
              "      <td>10.070913</td>\n",
              "      <td>-500.129135</td>\n",
              "      <td>8.013877</td>\n",
              "      <td>-500.517572</td>\n",
              "      <td>14.028663</td>\n",
              "      <td>-601.427363</td>\n",
              "      <td>2.458187</td>\n",
              "      <td>14.115662</td>\n",
              "      <td>4.624775</td>\n",
              "      <td>8.842896</td>\n",
              "      <td>42.657501</td>\n",
              "      <td>6.055926</td>\n",
              "      <td>10.213995</td>\n",
              "      <td>5.383759</td>\n",
              "      <td>68.116445</td>\n",
              "      <td>2.257889</td>\n",
              "      <td>10.507046</td>\n",
              "      <td>0.953716</td>\n",
              "      <td>16.208849</td>\n",
              "    </tr>\n",
              "    <tr>\n",
              "      <th>3</th>\n",
              "      <td>2016-01-15 03:00:00</td>\n",
              "      <td>6.118189</td>\n",
              "      <td>6.043309</td>\n",
              "      <td>2.037807</td>\n",
              "      <td>36.862241</td>\n",
              "      <td>542.590390</td>\n",
              "      <td>57.792734</td>\n",
              "      <td>11.630094</td>\n",
              "      <td>6.203177</td>\n",
              "      <td>999.814770</td>\n",
              "      <td>-400.200179</td>\n",
              "      <td>1600.059442</td>\n",
              "      <td>-450.619948</td>\n",
              "      <td>1600.012842</td>\n",
              "      <td>-449.910497</td>\n",
              "      <td>1597.725177</td>\n",
              "      <td>-450.130127</td>\n",
              "      <td>1400.943157</td>\n",
              "      <td>-450.030142</td>\n",
              "      <td>1400.234743</td>\n",
              "      <td>-449.790835</td>\n",
              "      <td>11.692450</td>\n",
              "      <td>6.196578</td>\n",
              "      <td>42029.447991</td>\n",
              "      <td>3498.578313</td>\n",
              "      <td>3499.162912</td>\n",
              "      <td>3.002340</td>\n",
              "      <td>19.320810</td>\n",
              "      <td>11.915047</td>\n",
              "      <td>7.175616</td>\n",
              "      <td>27.341277</td>\n",
              "      <td>87.226430</td>\n",
              "      <td>1.079755</td>\n",
              "      <td>4.655288</td>\n",
              "      <td>0.542525</td>\n",
              "      <td>19.330200</td>\n",
              "      <td>122.270188</td>\n",
              "      <td>11.322140</td>\n",
              "      <td>7.25</td>\n",
              "      <td>0.996739</td>\n",
              "      <td>1599.968720</td>\n",
              "      <td>-500.951778</td>\n",
              "      <td>1600.659236</td>\n",
              "      <td>-499.677094</td>\n",
              "      <td>1600.304144</td>\n",
              "      <td>-500.727997</td>\n",
              "      <td>1600.449520</td>\n",
              "      <td>-500.052575</td>\n",
              "      <td>28.260743</td>\n",
              "      <td>7.221879</td>\n",
              "      <td>8.496563</td>\n",
              "      <td>15.978538</td>\n",
              "      <td>2.262051</td>\n",
              "      <td>16.024359</td>\n",
              "      <td>2.960362</td>\n",
              "      <td>6.843791</td>\n",
              "      <td>25.942508</td>\n",
              "      <td>-499.176749</td>\n",
              "      <td>23.955516</td>\n",
              "      <td>-499.848796</td>\n",
              "      <td>23.966838</td>\n",
              "      <td>-500.008812</td>\n",
              "      <td>23.954443</td>\n",
              "      <td>-499.944710</td>\n",
              "      <td>14.036510</td>\n",
              "      <td>-500.857308</td>\n",
              "      <td>11.999550</td>\n",
              "      <td>-501.193686</td>\n",
              "      <td>9.970366</td>\n",
              "      <td>-499.201640</td>\n",
              "      <td>7.977324</td>\n",
              "      <td>-500.255908</td>\n",
              "      <td>14.005551</td>\n",
              "      <td>-599.996129</td>\n",
              "      <td>2.322062</td>\n",
              "      <td>13.732071</td>\n",
              "      <td>4.482453</td>\n",
              "      <td>9.122857</td>\n",
              "      <td>42.689819</td>\n",
              "      <td>6.047977</td>\n",
              "      <td>9.977019</td>\n",
              "      <td>4.858634</td>\n",
              "      <td>68.347543</td>\n",
              "      <td>2.146849</td>\n",
              "      <td>10.422762</td>\n",
              "      <td>0.883763</td>\n",
              "      <td>16.532835</td>\n",
              "    </tr>\n",
              "    <tr>\n",
              "      <th>4</th>\n",
              "      <td>2016-01-15 04:00:00</td>\n",
              "      <td>5.663707</td>\n",
              "      <td>6.060915</td>\n",
              "      <td>1.786875</td>\n",
              "      <td>34.347666</td>\n",
              "      <td>540.531893</td>\n",
              "      <td>56.047189</td>\n",
              "      <td>10.957755</td>\n",
              "      <td>6.198826</td>\n",
              "      <td>999.678690</td>\n",
              "      <td>-399.752729</td>\n",
              "      <td>1600.208824</td>\n",
              "      <td>-449.599614</td>\n",
              "      <td>1600.357732</td>\n",
              "      <td>-450.034364</td>\n",
              "      <td>1599.759049</td>\n",
              "      <td>-449.909799</td>\n",
              "      <td>1401.560902</td>\n",
              "      <td>-448.877187</td>\n",
              "      <td>1401.160227</td>\n",
              "      <td>-450.407128</td>\n",
              "      <td>10.960521</td>\n",
              "      <td>6.194897</td>\n",
              "      <td>42125.354245</td>\n",
              "      <td>3494.800771</td>\n",
              "      <td>3506.679315</td>\n",
              "      <td>3.169615</td>\n",
              "      <td>19.216101</td>\n",
              "      <td>12.411054</td>\n",
              "      <td>7.240205</td>\n",
              "      <td>27.041023</td>\n",
              "      <td>86.688794</td>\n",
              "      <td>1.012642</td>\n",
              "      <td>4.552800</td>\n",
              "      <td>0.515438</td>\n",
              "      <td>19.267422</td>\n",
              "      <td>117.988169</td>\n",
              "      <td>11.913613</td>\n",
              "      <td>7.25</td>\n",
              "      <td>1.009869</td>\n",
              "      <td>1601.339707</td>\n",
              "      <td>-498.975456</td>\n",
              "      <td>1601.437854</td>\n",
              "      <td>-500.323246</td>\n",
              "      <td>1599.581894</td>\n",
              "      <td>-500.888152</td>\n",
              "      <td>1602.649541</td>\n",
              "      <td>-500.593010</td>\n",
              "      <td>33.044932</td>\n",
              "      <td>9.089428</td>\n",
              "      <td>9.986786</td>\n",
              "      <td>19.199864</td>\n",
              "      <td>2.277073</td>\n",
              "      <td>16.480185</td>\n",
              "      <td>3.112100</td>\n",
              "      <td>6.550154</td>\n",
              "      <td>26.024787</td>\n",
              "      <td>-500.279091</td>\n",
              "      <td>23.955345</td>\n",
              "      <td>-500.593614</td>\n",
              "      <td>23.985703</td>\n",
              "      <td>-500.083811</td>\n",
              "      <td>23.958945</td>\n",
              "      <td>-499.990309</td>\n",
              "      <td>14.027298</td>\n",
              "      <td>-499.838632</td>\n",
              "      <td>11.953070</td>\n",
              "      <td>-501.053894</td>\n",
              "      <td>9.925709</td>\n",
              "      <td>-501.686727</td>\n",
              "      <td>7.894242</td>\n",
              "      <td>-500.356035</td>\n",
              "      <td>13.996647</td>\n",
              "      <td>-601.496691</td>\n",
              "      <td>2.330448</td>\n",
              "      <td>14.079996</td>\n",
              "      <td>4.470737</td>\n",
              "      <td>8.871028</td>\n",
              "      <td>42.774141</td>\n",
              "      <td>6.148599</td>\n",
              "      <td>10.142511</td>\n",
              "      <td>4.939416</td>\n",
              "      <td>66.927016</td>\n",
              "      <td>2.055292</td>\n",
              "      <td>10.360302</td>\n",
              "      <td>0.792826</td>\n",
              "      <td>16.525686</td>\n",
              "    </tr>\n",
              "  </tbody>\n",
              "</table>\n",
              "</div>"
            ],
            "text/plain": [
              "                  date  rougher.input.feed_au  rougher.input.feed_ag  \\\n",
              "0  2016-01-15 00:00:00               6.486150               6.100378   \n",
              "1  2016-01-15 01:00:00               6.478583               6.161113   \n",
              "2  2016-01-15 02:00:00               6.362222               6.116455   \n",
              "3  2016-01-15 03:00:00               6.118189               6.043309   \n",
              "4  2016-01-15 04:00:00               5.663707               6.060915   \n",
              "\n",
              "   rougher.input.feed_pb  rougher.input.feed_sol  rougher.input.feed_rate  \\\n",
              "0               2.284912               36.808594               523.546326   \n",
              "1               2.266033               35.753385               525.290581   \n",
              "2               2.159622               35.971630               530.026610   \n",
              "3               2.037807               36.862241               542.590390   \n",
              "4               1.786875               34.347666               540.531893   \n",
              "\n",
              "   rougher.input.feed_size  rougher.input.floatbank10_sulfate  \\\n",
              "0                55.486599                          11.986616   \n",
              "1                57.278666                          11.971193   \n",
              "2                57.510649                          11.920603   \n",
              "3                57.792734                          11.630094   \n",
              "4                56.047189                          10.957755   \n",
              "\n",
              "   rougher.input.floatbank10_xanthate  rougher.state.floatbank10_a_air  \\\n",
              "0                            6.007990                       999.706909   \n",
              "1                            6.005766                      1000.286398   \n",
              "2                            6.197377                       999.719565   \n",
              "3                            6.203177                       999.814770   \n",
              "4                            6.198826                       999.678690   \n",
              "\n",
              "   rougher.state.floatbank10_a_level  rougher.state.floatbank10_b_air  \\\n",
              "0                        -404.066986                      1603.011353   \n",
              "1                        -400.065196                      1600.754587   \n",
              "2                        -400.074028                      1599.337330   \n",
              "3                        -400.200179                      1600.059442   \n",
              "4                        -399.752729                      1600.208824   \n",
              "\n",
              "   rougher.state.floatbank10_b_level  rougher.state.floatbank10_c_air  \\\n",
              "0                        -434.715027                      1602.375000   \n",
              "1                        -449.953435                      1600.479580   \n",
              "2                        -450.008530                      1599.672797   \n",
              "3                        -450.619948                      1600.012842   \n",
              "4                        -449.599614                      1600.357732   \n",
              "\n",
              "   rougher.state.floatbank10_c_level  rougher.state.floatbank10_d_air  \\\n",
              "0                        -442.204468                      1598.937256   \n",
              "1                        -449.830646                      1600.527589   \n",
              "2                        -449.954491                      1599.849325   \n",
              "3                        -449.910497                      1597.725177   \n",
              "4                        -450.034364                      1599.759049   \n",
              "\n",
              "   rougher.state.floatbank10_d_level  rougher.state.floatbank10_e_air  \\\n",
              "0                        -451.294128                      1404.472046   \n",
              "1                        -449.953649                      1399.227084   \n",
              "2                        -449.954185                      1399.180945   \n",
              "3                        -450.130127                      1400.943157   \n",
              "4                        -449.909799                      1401.560902   \n",
              "\n",
              "   rougher.state.floatbank10_e_level  rougher.state.floatbank10_f_air  \\\n",
              "0                        -455.462982                      1416.354980   \n",
              "1                        -450.869848                      1399.719514   \n",
              "2                        -449.937588                      1400.316682   \n",
              "3                        -450.030142                      1400.234743   \n",
              "4                        -448.877187                      1401.160227   \n",
              "\n",
              "   rougher.state.floatbank10_f_level  rougher.input.floatbank11_sulfate  \\\n",
              "0                        -451.939636                          11.836743   \n",
              "1                        -450.119001                          11.996163   \n",
              "2                        -450.527147                          11.920305   \n",
              "3                        -449.790835                          11.692450   \n",
              "4                        -450.407128                          10.960521   \n",
              "\n",
              "   rougher.input.floatbank11_xanthate  \\\n",
              "0                            6.005818   \n",
              "1                            6.012594   \n",
              "2                            6.204633   \n",
              "3                            6.196578   \n",
              "4                            6.194897   \n",
              "\n",
              "   rougher.calculation.sulfate_to_au_concentrate  \\\n",
              "0                                   41885.707031   \n",
              "1                                   42050.861809   \n",
              "2                                   42018.101184   \n",
              "3                                   42029.447991   \n",
              "4                                   42125.354245   \n",
              "\n",
              "   rougher.calculation.floatbank10_sulfate_to_au_feed  \\\n",
              "0                                        3481.779053    \n",
              "1                                        3498.370979    \n",
              "2                                        3495.348910    \n",
              "3                                        3498.578313    \n",
              "4                                        3494.800771    \n",
              "\n",
              "   rougher.calculation.floatbank11_sulfate_to_au_feed  \\\n",
              "0                                        3520.337158    \n",
              "1                                        3489.981857    \n",
              "2                                        3502.359819    \n",
              "3                                        3499.162912    \n",
              "4                                        3506.679315    \n",
              "\n",
              "   rougher.calculation.au_pb_ratio  rougher.output.concentrate_au  \\\n",
              "0                         2.838687                      19.793808   \n",
              "1                         2.858998                      20.050975   \n",
              "2                         2.945989                      19.737170   \n",
              "3                         3.002340                      19.320810   \n",
              "4                         3.169615                      19.216101   \n",
              "\n",
              "   rougher.output.concentrate_ag  rougher.output.concentrate_pb  \\\n",
              "0                      11.500771                       7.101074   \n",
              "1                      11.615865                       7.278807   \n",
              "2                      11.695753                       7.216833   \n",
              "3                      11.915047                       7.175616   \n",
              "4                      12.411054                       7.240205   \n",
              "\n",
              "   rougher.output.concentrate_sol  rougher.output.recovery  \\\n",
              "0                       28.029297                87.107763   \n",
              "1                       28.067063                86.843261   \n",
              "2                       27.454037                86.842308   \n",
              "3                       27.341277                87.226430   \n",
              "4                       27.041023                86.688794   \n",
              "\n",
              "   rougher.output.tail_au  rougher.output.tail_ag  rougher.output.tail_pb  \\\n",
              "0                1.170244                5.008018                0.508728   \n",
              "1                1.184827                4.955378                0.536689   \n",
              "2                1.162562                4.843460                0.546416   \n",
              "3                1.079755                4.655288                0.542525   \n",
              "4                1.012642                4.552800                0.515438   \n",
              "\n",
              "   rougher.output.tail_sol  primary_cleaner.input.sulfate  \\\n",
              "0                19.154297                     127.092003   \n",
              "1                18.965234                     125.629232   \n",
              "2                18.808533                     123.819808   \n",
              "3                19.330200                     122.270188   \n",
              "4                19.267422                     117.988169   \n",
              "\n",
              "   primary_cleaner.input.depressant  primary_cleaner.input.feed_size  \\\n",
              "0                         10.128295                             7.25   \n",
              "1                         10.296251                             7.25   \n",
              "2                         11.316280                             7.25   \n",
              "3                         11.322140                             7.25   \n",
              "4                         11.913613                             7.25   \n",
              "\n",
              "   primary_cleaner.input.xanthate  primary_cleaner.state.floatbank8_a_air  \\\n",
              "0                        0.988759                             1549.775757   \n",
              "1                        1.002663                             1576.166671   \n",
              "2                        0.991265                             1601.556163   \n",
              "3                        0.996739                             1599.968720   \n",
              "4                        1.009869                             1601.339707   \n",
              "\n",
              "   primary_cleaner.state.floatbank8_a_level  \\\n",
              "0                               -498.912140   \n",
              "1                               -500.904965   \n",
              "2                               -499.997791   \n",
              "3                               -500.951778   \n",
              "4                               -498.975456   \n",
              "\n",
              "   primary_cleaner.state.floatbank8_b_air  \\\n",
              "0                             1551.434204   \n",
              "1                             1575.950626   \n",
              "2                             1600.386685   \n",
              "3                             1600.659236   \n",
              "4                             1601.437854   \n",
              "\n",
              "   primary_cleaner.state.floatbank8_b_level  \\\n",
              "0                               -516.403442   \n",
              "1                               -499.865889   \n",
              "2                               -500.607762   \n",
              "3                               -499.677094   \n",
              "4                               -500.323246   \n",
              "\n",
              "   primary_cleaner.state.floatbank8_c_air  \\\n",
              "0                             1549.873901   \n",
              "1                             1575.994189   \n",
              "2                             1602.003542   \n",
              "3                             1600.304144   \n",
              "4                             1599.581894   \n",
              "\n",
              "   primary_cleaner.state.floatbank8_c_level  \\\n",
              "0                               -498.666595   \n",
              "1                               -499.315107   \n",
              "2                               -500.870069   \n",
              "3                               -500.727997   \n",
              "4                               -500.888152   \n",
              "\n",
              "   primary_cleaner.state.floatbank8_d_air  \\\n",
              "0                             1554.367432   \n",
              "1                             1574.479259   \n",
              "2                             1599.541515   \n",
              "3                             1600.449520   \n",
              "4                             1602.649541   \n",
              "\n",
              "   primary_cleaner.state.floatbank8_d_level  \\\n",
              "0                               -493.428131   \n",
              "1                               -498.931665   \n",
              "2                               -499.827444   \n",
              "3                               -500.052575   \n",
              "4                               -500.593010   \n",
              "\n",
              "   primary_cleaner.output.concentrate_au  \\\n",
              "0                              34.174427   \n",
              "1                              34.118526   \n",
              "2                              33.969464   \n",
              "3                              28.260743   \n",
              "4                              33.044932   \n",
              "\n",
              "   primary_cleaner.output.concentrate_ag  \\\n",
              "0                               8.547551   \n",
              "1                               8.558743   \n",
              "2                               8.603505   \n",
              "3                               7.221879   \n",
              "4                               9.089428   \n",
              "\n",
              "   primary_cleaner.output.concentrate_pb  \\\n",
              "0                              10.389648   \n",
              "1                              10.497069   \n",
              "2                              10.354494   \n",
              "3                               8.496563   \n",
              "4                               9.986786   \n",
              "\n",
              "   primary_cleaner.output.concentrate_sol  primary_cleaner.output.tail_au  \\\n",
              "0                               19.529297                        2.106679   \n",
              "1                               19.369147                        2.353017   \n",
              "2                               19.167579                        2.416800   \n",
              "3                               15.978538                        2.262051   \n",
              "4                               19.199864                        2.277073   \n",
              "\n",
              "   primary_cleaner.output.tail_ag  primary_cleaner.output.tail_pb  \\\n",
              "0                       14.936526                        2.534912   \n",
              "1                       16.250511                        3.049646   \n",
              "2                       16.491823                        3.124664   \n",
              "3                       16.024359                        2.960362   \n",
              "4                       16.480185                        3.112100   \n",
              "\n",
              "   primary_cleaner.output.tail_sol  secondary_cleaner.state.floatbank2_a_air  \\\n",
              "0                         7.476074                                 25.853109   \n",
              "1                         6.733907                                 25.880539   \n",
              "2                         6.471768                                 26.005245   \n",
              "3                         6.843791                                 25.942508   \n",
              "4                         6.550154                                 26.024787   \n",
              "\n",
              "   secondary_cleaner.state.floatbank2_a_level  \\\n",
              "0                                 -498.526489   \n",
              "1                                 -499.989656   \n",
              "2                                 -499.929616   \n",
              "3                                 -499.176749   \n",
              "4                                 -500.279091   \n",
              "\n",
              "   secondary_cleaner.state.floatbank2_b_air  \\\n",
              "0                                 23.893660   \n",
              "1                                 23.889530   \n",
              "2                                 23.886657   \n",
              "3                                 23.955516   \n",
              "4                                 23.955345   \n",
              "\n",
              "   secondary_cleaner.state.floatbank2_b_level  \\\n",
              "0                                 -501.406281   \n",
              "1                                 -500.372428   \n",
              "2                                 -499.951928   \n",
              "3                                 -499.848796   \n",
              "4                                 -500.593614   \n",
              "\n",
              "   secondary_cleaner.state.floatbank3_a_air  \\\n",
              "0                                 23.961798   \n",
              "1                                 23.970550   \n",
              "2                                 23.913535   \n",
              "3                                 23.966838   \n",
              "4                                 23.985703   \n",
              "\n",
              "   secondary_cleaner.state.floatbank3_a_level  \\\n",
              "0                                 -495.262817   \n",
              "1                                 -500.085473   \n",
              "2                                 -499.442343   \n",
              "3                                 -500.008812   \n",
              "4                                 -500.083811   \n",
              "\n",
              "   secondary_cleaner.state.floatbank3_b_air  \\\n",
              "0                                 21.940409   \n",
              "1                                 22.085714   \n",
              "2                                 23.957717   \n",
              "3                                 23.954443   \n",
              "4                                 23.958945   \n",
              "\n",
              "   secondary_cleaner.state.floatbank3_b_level  \\\n",
              "0                                 -499.340973   \n",
              "1                                 -499.446897   \n",
              "2                                 -499.901982   \n",
              "3                                 -499.944710   \n",
              "4                                 -499.990309   \n",
              "\n",
              "   secondary_cleaner.state.floatbank4_a_air  \\\n",
              "0                                 14.016835   \n",
              "1                                 13.992281   \n",
              "2                                 14.015015   \n",
              "3                                 14.036510   \n",
              "4                                 14.027298   \n",
              "\n",
              "   secondary_cleaner.state.floatbank4_a_level  \\\n",
              "0                                 -502.488007   \n",
              "1                                 -505.503262   \n",
              "2                                 -502.520901   \n",
              "3                                 -500.857308   \n",
              "4                                 -499.838632   \n",
              "\n",
              "   secondary_cleaner.state.floatbank4_b_air  \\\n",
              "0                                 12.099931   \n",
              "1                                 11.950531   \n",
              "2                                 11.912783   \n",
              "3                                 11.999550   \n",
              "4                                 11.953070   \n",
              "\n",
              "   secondary_cleaner.state.floatbank4_b_level  \\\n",
              "0                                 -504.715942   \n",
              "1                                 -501.331529   \n",
              "2                                 -501.133383   \n",
              "3                                 -501.193686   \n",
              "4                                 -501.053894   \n",
              "\n",
              "   secondary_cleaner.state.floatbank5_a_air  \\\n",
              "0                                  9.925633   \n",
              "1                                 10.039245   \n",
              "2                                 10.070913   \n",
              "3                                  9.970366   \n",
              "4                                  9.925709   \n",
              "\n",
              "   secondary_cleaner.state.floatbank5_a_level  \\\n",
              "0                                 -498.310211   \n",
              "1                                 -500.169983   \n",
              "2                                 -500.129135   \n",
              "3                                 -499.201640   \n",
              "4                                 -501.686727   \n",
              "\n",
              "   secondary_cleaner.state.floatbank5_b_air  \\\n",
              "0                                  8.079666   \n",
              "1                                  7.984757   \n",
              "2                                  8.013877   \n",
              "3                                  7.977324   \n",
              "4                                  7.894242   \n",
              "\n",
              "   secondary_cleaner.state.floatbank5_b_level  \\\n",
              "0                                 -500.470978   \n",
              "1                                 -500.582168   \n",
              "2                                 -500.517572   \n",
              "3                                 -500.255908   \n",
              "4                                 -500.356035   \n",
              "\n",
              "   secondary_cleaner.state.floatbank6_a_air  \\\n",
              "0                                 14.151341   \n",
              "1                                 13.998353   \n",
              "2                                 14.028663   \n",
              "3                                 14.005551   \n",
              "4                                 13.996647   \n",
              "\n",
              "   secondary_cleaner.state.floatbank6_a_level  \\\n",
              "0                                 -605.841980   \n",
              "1                                 -599.787184   \n",
              "2                                 -601.427363   \n",
              "3                                 -599.996129   \n",
              "4                                 -601.496691   \n",
              "\n",
              "   secondary_cleaner.output.tail_au  secondary_cleaner.output.tail_ag  \\\n",
              "0                          2.606185                         14.500184   \n",
              "1                          2.488248                         14.265474   \n",
              "2                          2.458187                         14.115662   \n",
              "3                          2.322062                         13.732071   \n",
              "4                          2.330448                         14.079996   \n",
              "\n",
              "   secondary_cleaner.output.tail_pb  secondary_cleaner.output.tail_sol  \\\n",
              "0                          4.694824                           8.764648   \n",
              "1                          4.592547                           9.001494   \n",
              "2                          4.624775                           8.842896   \n",
              "3                          4.482453                           9.122857   \n",
              "4                          4.470737                           8.871028   \n",
              "\n",
              "   final.output.concentrate_au  final.output.concentrate_ag  \\\n",
              "0                    42.192020                     6.055403   \n",
              "1                    42.701629                     6.029369   \n",
              "2                    42.657501                     6.055926   \n",
              "3                    42.689819                     6.047977   \n",
              "4                    42.774141                     6.148599   \n",
              "\n",
              "   final.output.concentrate_pb  final.output.concentrate_sol  \\\n",
              "0                     9.889648                      5.507324   \n",
              "1                     9.968944                      5.257781   \n",
              "2                    10.213995                      5.383759   \n",
              "3                     9.977019                      4.858634   \n",
              "4                    10.142511                      4.939416   \n",
              "\n",
              "   final.output.recovery  final.output.tail_au  final.output.tail_ag  \\\n",
              "0              70.541216              2.143149             10.411962   \n",
              "1              69.266198              2.224930             10.462676   \n",
              "2              68.116445              2.257889             10.507046   \n",
              "3              68.347543              2.146849             10.422762   \n",
              "4              66.927016              2.055292             10.360302   \n",
              "\n",
              "   final.output.tail_pb  final.output.tail_sol  \n",
              "0              0.895447              16.904297  \n",
              "1              0.927452              16.634514  \n",
              "2              0.953716              16.208849  \n",
              "3              0.883763              16.532835  \n",
              "4              0.792826              16.525686  "
            ]
          },
          "execution_count": 5,
          "metadata": {},
          "output_type": "execute_result"
        }
      ],
      "source": [
        "full.head()"
      ]
    },
    {
      "cell_type": "markdown",
      "metadata": {
        "id": "ZdRYGvrAdCuK"
      },
      "source": [
        "Выведем общую информацию о датафреймах"
      ]
    },
    {
      "cell_type": "code",
      "execution_count": null,
      "metadata": {
        "id": "pV3hJyPadCuK",
        "outputId": "46bedaf4-b446-4156-8b82-d9884d94f670"
      },
      "outputs": [
        {
          "name": "stdout",
          "output_type": "stream",
          "text": [
            "<class 'pandas.core.frame.DataFrame'>\n",
            "RangeIndex: 14579 entries, 0 to 14578\n",
            "Data columns (total 87 columns):\n",
            " #   Column                                              Non-Null Count  Dtype  \n",
            "---  ------                                              --------------  -----  \n",
            " 0   date                                                14579 non-null  object \n",
            " 1   rougher.input.feed_au                               14579 non-null  float64\n",
            " 2   rougher.input.feed_ag                               14579 non-null  float64\n",
            " 3   rougher.input.feed_pb                               14507 non-null  float64\n",
            " 4   rougher.input.feed_sol                              14502 non-null  float64\n",
            " 5   rougher.input.feed_rate                             14572 non-null  float64\n",
            " 6   rougher.input.feed_size                             14478 non-null  float64\n",
            " 7   rougher.input.floatbank10_sulfate                   14548 non-null  float64\n",
            " 8   rougher.input.floatbank10_xanthate                  14572 non-null  float64\n",
            " 9   rougher.state.floatbank10_a_air                     14579 non-null  float64\n",
            " 10  rougher.state.floatbank10_a_level                   14579 non-null  float64\n",
            " 11  rougher.state.floatbank10_b_air                     14579 non-null  float64\n",
            " 12  rougher.state.floatbank10_b_level                   14579 non-null  float64\n",
            " 13  rougher.state.floatbank10_c_air                     14579 non-null  float64\n",
            " 14  rougher.state.floatbank10_c_level                   14579 non-null  float64\n",
            " 15  rougher.state.floatbank10_d_air                     14579 non-null  float64\n",
            " 16  rougher.state.floatbank10_d_level                   14579 non-null  float64\n",
            " 17  rougher.state.floatbank10_e_air                     14150 non-null  float64\n",
            " 18  rougher.state.floatbank10_e_level                   14579 non-null  float64\n",
            " 19  rougher.state.floatbank10_f_air                     14579 non-null  float64\n",
            " 20  rougher.state.floatbank10_f_level                   14579 non-null  float64\n",
            " 21  rougher.input.floatbank11_sulfate                   14543 non-null  float64\n",
            " 22  rougher.input.floatbank11_xanthate                  14172 non-null  float64\n",
            " 23  rougher.calculation.sulfate_to_au_concentrate       14578 non-null  float64\n",
            " 24  rougher.calculation.floatbank10_sulfate_to_au_feed  14578 non-null  float64\n",
            " 25  rougher.calculation.floatbank11_sulfate_to_au_feed  14578 non-null  float64\n",
            " 26  rougher.calculation.au_pb_ratio                     14579 non-null  float64\n",
            " 27  rougher.output.concentrate_au                       14579 non-null  float64\n",
            " 28  rougher.output.concentrate_ag                       14579 non-null  float64\n",
            " 29  rougher.output.concentrate_pb                       14579 non-null  float64\n",
            " 30  rougher.output.concentrate_sol                      14561 non-null  float64\n",
            " 31  rougher.output.recovery                             14579 non-null  float64\n",
            " 32  rougher.output.tail_au                              14579 non-null  float64\n",
            " 33  rougher.output.tail_ag                              14578 non-null  float64\n",
            " 34  rougher.output.tail_pb                              14579 non-null  float64\n",
            " 35  rougher.output.tail_sol                             14579 non-null  float64\n",
            " 36  primary_cleaner.input.sulfate                       14556 non-null  float64\n",
            " 37  primary_cleaner.input.depressant                    14551 non-null  float64\n",
            " 38  primary_cleaner.input.feed_size                     14579 non-null  float64\n",
            " 39  primary_cleaner.input.xanthate                      14518 non-null  float64\n",
            " 40  primary_cleaner.state.floatbank8_a_air              14576 non-null  float64\n",
            " 41  primary_cleaner.state.floatbank8_a_level            14579 non-null  float64\n",
            " 42  primary_cleaner.state.floatbank8_b_air              14576 non-null  float64\n",
            " 43  primary_cleaner.state.floatbank8_b_level            14579 non-null  float64\n",
            " 44  primary_cleaner.state.floatbank8_c_air              14579 non-null  float64\n",
            " 45  primary_cleaner.state.floatbank8_c_level            14579 non-null  float64\n",
            " 46  primary_cleaner.state.floatbank8_d_air              14578 non-null  float64\n",
            " 47  primary_cleaner.state.floatbank8_d_level            14579 non-null  float64\n",
            " 48  primary_cleaner.output.concentrate_au               14579 non-null  float64\n",
            " 49  primary_cleaner.output.concentrate_ag               14579 non-null  float64\n",
            " 50  primary_cleaner.output.concentrate_pb               14491 non-null  float64\n",
            " 51  primary_cleaner.output.concentrate_sol              14314 non-null  float64\n",
            " 52  primary_cleaner.output.tail_au                      14579 non-null  float64\n",
            " 53  primary_cleaner.output.tail_ag                      14575 non-null  float64\n",
            " 54  primary_cleaner.output.tail_pb                      14573 non-null  float64\n",
            " 55  primary_cleaner.output.tail_sol                     14534 non-null  float64\n",
            " 56  secondary_cleaner.state.floatbank2_a_air            14485 non-null  float64\n",
            " 57  secondary_cleaner.state.floatbank2_a_level          14579 non-null  float64\n",
            " 58  secondary_cleaner.state.floatbank2_b_air            14557 non-null  float64\n",
            " 59  secondary_cleaner.state.floatbank2_b_level          14579 non-null  float64\n",
            " 60  secondary_cleaner.state.floatbank3_a_air            14567 non-null  float64\n",
            " 61  secondary_cleaner.state.floatbank3_a_level          14579 non-null  float64\n",
            " 62  secondary_cleaner.state.floatbank3_b_air            14579 non-null  float64\n",
            " 63  secondary_cleaner.state.floatbank3_b_level          14579 non-null  float64\n",
            " 64  secondary_cleaner.state.floatbank4_a_air            14574 non-null  float64\n",
            " 65  secondary_cleaner.state.floatbank4_a_level          14579 non-null  float64\n",
            " 66  secondary_cleaner.state.floatbank4_b_air            14579 non-null  float64\n",
            " 67  secondary_cleaner.state.floatbank4_b_level          14579 non-null  float64\n",
            " 68  secondary_cleaner.state.floatbank5_a_air            14579 non-null  float64\n",
            " 69  secondary_cleaner.state.floatbank5_a_level          14579 non-null  float64\n",
            " 70  secondary_cleaner.state.floatbank5_b_air            14579 non-null  float64\n",
            " 71  secondary_cleaner.state.floatbank5_b_level          14579 non-null  float64\n",
            " 72  secondary_cleaner.state.floatbank6_a_air            14578 non-null  float64\n",
            " 73  secondary_cleaner.state.floatbank6_a_level          14579 non-null  float64\n",
            " 74  secondary_cleaner.output.tail_au                    14579 non-null  float64\n",
            " 75  secondary_cleaner.output.tail_ag                    14578 non-null  float64\n",
            " 76  secondary_cleaner.output.tail_pb                    14575 non-null  float64\n",
            " 77  secondary_cleaner.output.tail_sol                   13659 non-null  float64\n",
            " 78  final.output.concentrate_au                         14579 non-null  float64\n",
            " 79  final.output.concentrate_ag                         14578 non-null  float64\n",
            " 80  final.output.concentrate_pb                         14578 non-null  float64\n",
            " 81  final.output.concentrate_sol                        14387 non-null  float64\n",
            " 82  final.output.recovery                               14579 non-null  float64\n",
            " 83  final.output.tail_au                                14579 non-null  float64\n",
            " 84  final.output.tail_ag                                14578 non-null  float64\n",
            " 85  final.output.tail_pb                                14504 non-null  float64\n",
            " 86  final.output.tail_sol                               14574 non-null  float64\n",
            "dtypes: float64(86), object(1)\n",
            "memory usage: 9.7+ MB\n"
          ]
        }
      ],
      "source": [
        "train.info()"
      ]
    },
    {
      "cell_type": "code",
      "execution_count": null,
      "metadata": {
        "id": "0qksOGJhdCuK",
        "outputId": "290ac623-d761-49ca-dffe-e16f8d2ef550"
      },
      "outputs": [
        {
          "name": "stdout",
          "output_type": "stream",
          "text": [
            "<class 'pandas.core.frame.DataFrame'>\n",
            "RangeIndex: 4860 entries, 0 to 4859\n",
            "Data columns (total 53 columns):\n",
            " #   Column                                      Non-Null Count  Dtype  \n",
            "---  ------                                      --------------  -----  \n",
            " 0   date                                        4860 non-null   object \n",
            " 1   rougher.input.feed_au                       4860 non-null   float64\n",
            " 2   rougher.input.feed_ag                       4860 non-null   float64\n",
            " 3   rougher.input.feed_pb                       4832 non-null   float64\n",
            " 4   rougher.input.feed_sol                      4838 non-null   float64\n",
            " 5   rougher.input.feed_rate                     4856 non-null   float64\n",
            " 6   rougher.input.feed_size                     4816 non-null   float64\n",
            " 7   rougher.input.floatbank10_sulfate           4857 non-null   float64\n",
            " 8   rougher.input.floatbank10_xanthate          4859 non-null   float64\n",
            " 9   rougher.state.floatbank10_a_air             4859 non-null   float64\n",
            " 10  rougher.state.floatbank10_a_level           4859 non-null   float64\n",
            " 11  rougher.state.floatbank10_b_air             4859 non-null   float64\n",
            " 12  rougher.state.floatbank10_b_level           4859 non-null   float64\n",
            " 13  rougher.state.floatbank10_c_air             4859 non-null   float64\n",
            " 14  rougher.state.floatbank10_c_level           4859 non-null   float64\n",
            " 15  rougher.state.floatbank10_d_air             4860 non-null   float64\n",
            " 16  rougher.state.floatbank10_d_level           4860 non-null   float64\n",
            " 17  rougher.state.floatbank10_e_air             4853 non-null   float64\n",
            " 18  rougher.state.floatbank10_e_level           4860 non-null   float64\n",
            " 19  rougher.state.floatbank10_f_air             4860 non-null   float64\n",
            " 20  rougher.state.floatbank10_f_level           4860 non-null   float64\n",
            " 21  rougher.input.floatbank11_sulfate           4852 non-null   float64\n",
            " 22  rougher.input.floatbank11_xanthate          4814 non-null   float64\n",
            " 23  primary_cleaner.input.sulfate               4859 non-null   float64\n",
            " 24  primary_cleaner.input.depressant            4851 non-null   float64\n",
            " 25  primary_cleaner.input.feed_size             4860 non-null   float64\n",
            " 26  primary_cleaner.input.xanthate              4817 non-null   float64\n",
            " 27  primary_cleaner.state.floatbank8_a_air      4859 non-null   float64\n",
            " 28  primary_cleaner.state.floatbank8_a_level    4859 non-null   float64\n",
            " 29  primary_cleaner.state.floatbank8_b_air      4859 non-null   float64\n",
            " 30  primary_cleaner.state.floatbank8_b_level    4859 non-null   float64\n",
            " 31  primary_cleaner.state.floatbank8_c_air      4858 non-null   float64\n",
            " 32  primary_cleaner.state.floatbank8_c_level    4859 non-null   float64\n",
            " 33  primary_cleaner.state.floatbank8_d_air      4858 non-null   float64\n",
            " 34  primary_cleaner.state.floatbank8_d_level    4859 non-null   float64\n",
            " 35  secondary_cleaner.state.floatbank2_a_air    4734 non-null   float64\n",
            " 36  secondary_cleaner.state.floatbank2_a_level  4859 non-null   float64\n",
            " 37  secondary_cleaner.state.floatbank2_b_air    4859 non-null   float64\n",
            " 38  secondary_cleaner.state.floatbank2_b_level  4859 non-null   float64\n",
            " 39  secondary_cleaner.state.floatbank3_a_air    4859 non-null   float64\n",
            " 40  secondary_cleaner.state.floatbank3_a_level  4859 non-null   float64\n",
            " 41  secondary_cleaner.state.floatbank3_b_air    4859 non-null   float64\n",
            " 42  secondary_cleaner.state.floatbank3_b_level  4859 non-null   float64\n",
            " 43  secondary_cleaner.state.floatbank4_a_air    4859 non-null   float64\n",
            " 44  secondary_cleaner.state.floatbank4_a_level  4859 non-null   float64\n",
            " 45  secondary_cleaner.state.floatbank4_b_air    4859 non-null   float64\n",
            " 46  secondary_cleaner.state.floatbank4_b_level  4859 non-null   float64\n",
            " 47  secondary_cleaner.state.floatbank5_a_air    4859 non-null   float64\n",
            " 48  secondary_cleaner.state.floatbank5_a_level  4859 non-null   float64\n",
            " 49  secondary_cleaner.state.floatbank5_b_air    4859 non-null   float64\n",
            " 50  secondary_cleaner.state.floatbank5_b_level  4859 non-null   float64\n",
            " 51  secondary_cleaner.state.floatbank6_a_air    4859 non-null   float64\n",
            " 52  secondary_cleaner.state.floatbank6_a_level  4859 non-null   float64\n",
            "dtypes: float64(52), object(1)\n",
            "memory usage: 2.0+ MB\n"
          ]
        }
      ],
      "source": [
        "test.info()"
      ]
    },
    {
      "cell_type": "code",
      "execution_count": null,
      "metadata": {
        "id": "S9pV0oT2dCuL",
        "outputId": "4164785d-3b72-41a6-e3ab-4ad66197dc4c"
      },
      "outputs": [
        {
          "name": "stdout",
          "output_type": "stream",
          "text": [
            "<class 'pandas.core.frame.DataFrame'>\n",
            "RangeIndex: 19439 entries, 0 to 19438\n",
            "Data columns (total 87 columns):\n",
            " #   Column                                              Non-Null Count  Dtype  \n",
            "---  ------                                              --------------  -----  \n",
            " 0   date                                                19439 non-null  object \n",
            " 1   rougher.input.feed_au                               19439 non-null  float64\n",
            " 2   rougher.input.feed_ag                               19439 non-null  float64\n",
            " 3   rougher.input.feed_pb                               19339 non-null  float64\n",
            " 4   rougher.input.feed_sol                              19340 non-null  float64\n",
            " 5   rougher.input.feed_rate                             19428 non-null  float64\n",
            " 6   rougher.input.feed_size                             19294 non-null  float64\n",
            " 7   rougher.input.floatbank10_sulfate                   19405 non-null  float64\n",
            " 8   rougher.input.floatbank10_xanthate                  19431 non-null  float64\n",
            " 9   rougher.state.floatbank10_a_air                     19438 non-null  float64\n",
            " 10  rougher.state.floatbank10_a_level                   19438 non-null  float64\n",
            " 11  rougher.state.floatbank10_b_air                     19438 non-null  float64\n",
            " 12  rougher.state.floatbank10_b_level                   19438 non-null  float64\n",
            " 13  rougher.state.floatbank10_c_air                     19438 non-null  float64\n",
            " 14  rougher.state.floatbank10_c_level                   19438 non-null  float64\n",
            " 15  rougher.state.floatbank10_d_air                     19439 non-null  float64\n",
            " 16  rougher.state.floatbank10_d_level                   19439 non-null  float64\n",
            " 17  rougher.state.floatbank10_e_air                     19003 non-null  float64\n",
            " 18  rougher.state.floatbank10_e_level                   19439 non-null  float64\n",
            " 19  rougher.state.floatbank10_f_air                     19439 non-null  float64\n",
            " 20  rougher.state.floatbank10_f_level                   19439 non-null  float64\n",
            " 21  rougher.input.floatbank11_sulfate                   19395 non-null  float64\n",
            " 22  rougher.input.floatbank11_xanthate                  18986 non-null  float64\n",
            " 23  rougher.calculation.sulfate_to_au_concentrate       19437 non-null  float64\n",
            " 24  rougher.calculation.floatbank10_sulfate_to_au_feed  19437 non-null  float64\n",
            " 25  rougher.calculation.floatbank11_sulfate_to_au_feed  19437 non-null  float64\n",
            " 26  rougher.calculation.au_pb_ratio                     19439 non-null  float64\n",
            " 27  rougher.output.concentrate_au                       19439 non-null  float64\n",
            " 28  rougher.output.concentrate_ag                       19439 non-null  float64\n",
            " 29  rougher.output.concentrate_pb                       19439 non-null  float64\n",
            " 30  rougher.output.concentrate_sol                      19416 non-null  float64\n",
            " 31  rougher.output.recovery                             19439 non-null  float64\n",
            " 32  rougher.output.tail_au                              19439 non-null  float64\n",
            " 33  rougher.output.tail_ag                              19438 non-null  float64\n",
            " 34  rougher.output.tail_pb                              19439 non-null  float64\n",
            " 35  rougher.output.tail_sol                             19439 non-null  float64\n",
            " 36  primary_cleaner.input.sulfate                       19415 non-null  float64\n",
            " 37  primary_cleaner.input.depressant                    19402 non-null  float64\n",
            " 38  primary_cleaner.input.feed_size                     19439 non-null  float64\n",
            " 39  primary_cleaner.input.xanthate                      19335 non-null  float64\n",
            " 40  primary_cleaner.state.floatbank8_a_air              19435 non-null  float64\n",
            " 41  primary_cleaner.state.floatbank8_a_level            19438 non-null  float64\n",
            " 42  primary_cleaner.state.floatbank8_b_air              19435 non-null  float64\n",
            " 43  primary_cleaner.state.floatbank8_b_level            19438 non-null  float64\n",
            " 44  primary_cleaner.state.floatbank8_c_air              19437 non-null  float64\n",
            " 45  primary_cleaner.state.floatbank8_c_level            19438 non-null  float64\n",
            " 46  primary_cleaner.state.floatbank8_d_air              19436 non-null  float64\n",
            " 47  primary_cleaner.state.floatbank8_d_level            19438 non-null  float64\n",
            " 48  primary_cleaner.output.concentrate_au               19439 non-null  float64\n",
            " 49  primary_cleaner.output.concentrate_ag               19439 non-null  float64\n",
            " 50  primary_cleaner.output.concentrate_pb               19323 non-null  float64\n",
            " 51  primary_cleaner.output.concentrate_sol              19069 non-null  float64\n",
            " 52  primary_cleaner.output.tail_au                      19439 non-null  float64\n",
            " 53  primary_cleaner.output.tail_ag                      19435 non-null  float64\n",
            " 54  primary_cleaner.output.tail_pb                      19418 non-null  float64\n",
            " 55  primary_cleaner.output.tail_sol                     19377 non-null  float64\n",
            " 56  secondary_cleaner.state.floatbank2_a_air            19219 non-null  float64\n",
            " 57  secondary_cleaner.state.floatbank2_a_level          19438 non-null  float64\n",
            " 58  secondary_cleaner.state.floatbank2_b_air            19416 non-null  float64\n",
            " 59  secondary_cleaner.state.floatbank2_b_level          19438 non-null  float64\n",
            " 60  secondary_cleaner.state.floatbank3_a_air            19426 non-null  float64\n",
            " 61  secondary_cleaner.state.floatbank3_a_level          19438 non-null  float64\n",
            " 62  secondary_cleaner.state.floatbank3_b_air            19438 non-null  float64\n",
            " 63  secondary_cleaner.state.floatbank3_b_level          19438 non-null  float64\n",
            " 64  secondary_cleaner.state.floatbank4_a_air            19433 non-null  float64\n",
            " 65  secondary_cleaner.state.floatbank4_a_level          19438 non-null  float64\n",
            " 66  secondary_cleaner.state.floatbank4_b_air            19438 non-null  float64\n",
            " 67  secondary_cleaner.state.floatbank4_b_level          19438 non-null  float64\n",
            " 68  secondary_cleaner.state.floatbank5_a_air            19438 non-null  float64\n",
            " 69  secondary_cleaner.state.floatbank5_a_level          19438 non-null  float64\n",
            " 70  secondary_cleaner.state.floatbank5_b_air            19438 non-null  float64\n",
            " 71  secondary_cleaner.state.floatbank5_b_level          19438 non-null  float64\n",
            " 72  secondary_cleaner.state.floatbank6_a_air            19437 non-null  float64\n",
            " 73  secondary_cleaner.state.floatbank6_a_level          19438 non-null  float64\n",
            " 74  secondary_cleaner.output.tail_au                    19439 non-null  float64\n",
            " 75  secondary_cleaner.output.tail_ag                    19437 non-null  float64\n",
            " 76  secondary_cleaner.output.tail_pb                    19427 non-null  float64\n",
            " 77  secondary_cleaner.output.tail_sol                   17691 non-null  float64\n",
            " 78  final.output.concentrate_au                         19439 non-null  float64\n",
            " 79  final.output.concentrate_ag                         19438 non-null  float64\n",
            " 80  final.output.concentrate_pb                         19438 non-null  float64\n",
            " 81  final.output.concentrate_sol                        19228 non-null  float64\n",
            " 82  final.output.recovery                               19439 non-null  float64\n",
            " 83  final.output.tail_au                                19439 non-null  float64\n",
            " 84  final.output.tail_ag                                19438 non-null  float64\n",
            " 85  final.output.tail_pb                                19338 non-null  float64\n",
            " 86  final.output.tail_sol                               19433 non-null  float64\n",
            "dtypes: float64(86), object(1)\n",
            "memory usage: 12.9+ MB\n"
          ]
        }
      ],
      "source": [
        "full.info()"
      ]
    },
    {
      "cell_type": "markdown",
      "metadata": {
        "id": "j61ECzNmdCuL"
      },
      "source": [
        "Проверим файлы на пропуски и дубликаты"
      ]
    },
    {
      "cell_type": "code",
      "execution_count": null,
      "metadata": {
        "scrolled": true,
        "id": "hFq-iZhedCuL",
        "outputId": "da3e7017-74e2-4233-e002-4b4cba1634e5"
      },
      "outputs": [
        {
          "data": {
            "text/plain": [
              "date                       0\n",
              "rougher.input.feed_au      0\n",
              "rougher.input.feed_ag      0\n",
              "rougher.input.feed_pb     72\n",
              "rougher.input.feed_sol    77\n",
              "                          ..\n",
              "final.output.recovery      0\n",
              "final.output.tail_au       0\n",
              "final.output.tail_ag       1\n",
              "final.output.tail_pb      75\n",
              "final.output.tail_sol      5\n",
              "Length: 87, dtype: int64"
            ]
          },
          "execution_count": 9,
          "metadata": {},
          "output_type": "execute_result"
        }
      ],
      "source": [
        "train.isna().sum()"
      ]
    },
    {
      "cell_type": "code",
      "execution_count": null,
      "metadata": {
        "id": "Q3h6XEVudCuL",
        "outputId": "c1a984d8-7d49-42fe-e814-1286bf7383c2"
      },
      "outputs": [
        {
          "data": {
            "text/plain": [
              "date                                            0\n",
              "rougher.input.feed_au                           0\n",
              "rougher.input.feed_ag                           0\n",
              "rougher.input.feed_pb                          28\n",
              "rougher.input.feed_sol                         22\n",
              "rougher.input.feed_rate                         4\n",
              "rougher.input.feed_size                        44\n",
              "rougher.input.floatbank10_sulfate               3\n",
              "rougher.input.floatbank10_xanthate              1\n",
              "rougher.state.floatbank10_a_air                 1\n",
              "rougher.state.floatbank10_a_level               1\n",
              "rougher.state.floatbank10_b_air                 1\n",
              "rougher.state.floatbank10_b_level               1\n",
              "rougher.state.floatbank10_c_air                 1\n",
              "rougher.state.floatbank10_c_level               1\n",
              "rougher.state.floatbank10_d_air                 0\n",
              "rougher.state.floatbank10_d_level               0\n",
              "rougher.state.floatbank10_e_air                 7\n",
              "rougher.state.floatbank10_e_level               0\n",
              "rougher.state.floatbank10_f_air                 0\n",
              "rougher.state.floatbank10_f_level               0\n",
              "rougher.input.floatbank11_sulfate               8\n",
              "rougher.input.floatbank11_xanthate             46\n",
              "primary_cleaner.input.sulfate                   1\n",
              "primary_cleaner.input.depressant                9\n",
              "primary_cleaner.input.feed_size                 0\n",
              "primary_cleaner.input.xanthate                 43\n",
              "primary_cleaner.state.floatbank8_a_air          1\n",
              "primary_cleaner.state.floatbank8_a_level        1\n",
              "primary_cleaner.state.floatbank8_b_air          1\n",
              "primary_cleaner.state.floatbank8_b_level        1\n",
              "primary_cleaner.state.floatbank8_c_air          2\n",
              "primary_cleaner.state.floatbank8_c_level        1\n",
              "primary_cleaner.state.floatbank8_d_air          2\n",
              "primary_cleaner.state.floatbank8_d_level        1\n",
              "secondary_cleaner.state.floatbank2_a_air      126\n",
              "secondary_cleaner.state.floatbank2_a_level      1\n",
              "secondary_cleaner.state.floatbank2_b_air        1\n",
              "secondary_cleaner.state.floatbank2_b_level      1\n",
              "secondary_cleaner.state.floatbank3_a_air        1\n",
              "secondary_cleaner.state.floatbank3_a_level      1\n",
              "secondary_cleaner.state.floatbank3_b_air        1\n",
              "secondary_cleaner.state.floatbank3_b_level      1\n",
              "secondary_cleaner.state.floatbank4_a_air        1\n",
              "secondary_cleaner.state.floatbank4_a_level      1\n",
              "secondary_cleaner.state.floatbank4_b_air        1\n",
              "secondary_cleaner.state.floatbank4_b_level      1\n",
              "secondary_cleaner.state.floatbank5_a_air        1\n",
              "secondary_cleaner.state.floatbank5_a_level      1\n",
              "secondary_cleaner.state.floatbank5_b_air        1\n",
              "secondary_cleaner.state.floatbank5_b_level      1\n",
              "secondary_cleaner.state.floatbank6_a_air        1\n",
              "secondary_cleaner.state.floatbank6_a_level      1\n",
              "dtype: int64"
            ]
          },
          "execution_count": 10,
          "metadata": {},
          "output_type": "execute_result"
        }
      ],
      "source": [
        "test.isna().sum()"
      ]
    },
    {
      "cell_type": "code",
      "execution_count": null,
      "metadata": {
        "id": "w0t1VlE4dCuM",
        "outputId": "3b615432-8258-4fe9-a21e-cfcf65acaac8"
      },
      "outputs": [
        {
          "data": {
            "text/plain": [
              "date                        0\n",
              "rougher.input.feed_au       0\n",
              "rougher.input.feed_ag       0\n",
              "rougher.input.feed_pb     100\n",
              "rougher.input.feed_sol     99\n",
              "                         ... \n",
              "final.output.recovery       0\n",
              "final.output.tail_au        0\n",
              "final.output.tail_ag        1\n",
              "final.output.tail_pb      101\n",
              "final.output.tail_sol       6\n",
              "Length: 87, dtype: int64"
            ]
          },
          "execution_count": 11,
          "metadata": {},
          "output_type": "execute_result"
        }
      ],
      "source": [
        "full.isna().sum()"
      ]
    },
    {
      "cell_type": "code",
      "execution_count": null,
      "metadata": {
        "id": "_0mdjUDWdCuM",
        "outputId": "645f1102-82ec-4033-a779-c11d1c994941"
      },
      "outputs": [
        {
          "data": {
            "text/plain": [
              "0"
            ]
          },
          "execution_count": 12,
          "metadata": {},
          "output_type": "execute_result"
        }
      ],
      "source": [
        "train.duplicated().sum()"
      ]
    },
    {
      "cell_type": "code",
      "execution_count": null,
      "metadata": {
        "id": "hRVM1nwedCuN",
        "outputId": "69aacd24-8ec8-41a7-84bd-95d57c52da27"
      },
      "outputs": [
        {
          "data": {
            "text/plain": [
              "0"
            ]
          },
          "execution_count": 13,
          "metadata": {},
          "output_type": "execute_result"
        }
      ],
      "source": [
        "test.duplicated().sum()"
      ]
    },
    {
      "cell_type": "code",
      "execution_count": null,
      "metadata": {
        "id": "n_-xvBgUdCuN",
        "outputId": "f26b5292-20aa-4e9a-e545-7aec90480f95"
      },
      "outputs": [
        {
          "data": {
            "text/plain": [
              "0"
            ]
          },
          "execution_count": 14,
          "metadata": {},
          "output_type": "execute_result"
        }
      ],
      "source": [
        "full.duplicated().sum()"
      ]
    },
    {
      "cell_type": "markdown",
      "metadata": {
        "id": "RVZsC7ZddCuN"
      },
      "source": [
        "**Вывод**\n",
        "\n",
        "В датасетах train и full имеется по 87 столбцов с данными. В датаврейме test 53 колонки.\n",
        "\n",
        "Во всех файлах есть пропуски. Полных дубликатов не обаружено.\n",
        "\n",
        "Данный хранятся в формате float64, кроме столбца с датой.\n",
        "\n"
      ]
    },
    {
      "cell_type": "markdown",
      "metadata": {
        "id": "Phpmgb4kdCuO"
      },
      "source": [
        "### Проверка расчета эффективности"
      ]
    },
    {
      "cell_type": "markdown",
      "metadata": {
        "id": "imhQZpA-dCuO"
      },
      "source": [
        "Проверим, что эффективность обогащения рассчитана правильно. Вычислим её на обучающей выборке для признака rougher.output.recovery. Найдем MAE между расчётами и значением признака."
      ]
    },
    {
      "cell_type": "code",
      "execution_count": null,
      "metadata": {
        "id": "v9NvV3e8dCuO"
      },
      "outputs": [],
      "source": [
        "# создадим функцию, которая на вход принимает столбцы датафрейма:\n",
        "#rougher.input.feed_au - до очистки\n",
        "#rougher.output.tail_au - хвосты\n",
        "#rougher.output.concentrate_au  - после очистки\n",
        "#rougher.output.recovery - эффективность обогащения\n",
        "# расчитавает эффективность и возвращает ее значения\n",
        "\n",
        "def calculation_recovery (row):\n",
        "    feed_au = row['rougher.input.feed_au']\n",
        "    tail_au = row['rougher.output.tail_au']\n",
        "    concentrate_au = row['rougher.output.concentrate_au']\n",
        "    calculate_recovery = ((concentrate_au*(feed_au-tail_au))/(feed_au*(concentrate_au-tail_au)))*100\n",
        "    return calculate_recovery"
      ]
    },
    {
      "cell_type": "code",
      "execution_count": null,
      "metadata": {
        "scrolled": true,
        "id": "rZF2CnJXdCuO",
        "outputId": "bbd0a652-13ea-4433-ad69-74800d6c2931"
      },
      "outputs": [
        {
          "name": "stdout",
          "output_type": "stream",
          "text": [
            "Средняя абсолютная ошибка: 9.83758577644259e-15\n"
          ]
        }
      ],
      "source": [
        "# применим функцию к обучающей выборке\n",
        "# посчитаем MAE для получившихся расчетных значений и столбца rougher.output.recovery\n",
        "\n",
        "calculate_recovery = train.apply(calculation_recovery, axis=1)\n",
        "recovery = train['rougher.output.recovery']\n",
        "print('Средняя абсолютная ошибка:', mean_absolute_error(recovery, calculate_recovery))"
      ]
    },
    {
      "cell_type": "markdown",
      "metadata": {
        "id": "TzF_Co_hdCuP"
      },
      "source": [
        "**Вывод**\n",
        "\n",
        "Средняя абсолютная ошибка составила 0.98375857764426, достаточно мало, что говорит о верности расчета эффективности обогащения в обучающей выборке."
      ]
    },
    {
      "cell_type": "markdown",
      "metadata": {
        "id": "Wr6LwO0-dCuQ"
      },
      "source": [
        "### Анализ признаков недоступных в тестовой выборке."
      ]
    },
    {
      "cell_type": "markdown",
      "metadata": {
        "id": "Nj4HcW5idCuQ"
      },
      "source": [
        "Проанализируем признаки, недоступные в тестовой выборке. Что это за параметры? К какому типу относятся?"
      ]
    },
    {
      "cell_type": "code",
      "execution_count": null,
      "metadata": {
        "id": "CXwb5gJfdCuQ",
        "outputId": "355163ea-4c23-402f-9a7a-70db3c559b94"
      },
      "outputs": [
        {
          "name": "stdout",
          "output_type": "stream",
          "text": [
            "Все пропущено признаков: 34\n"
          ]
        },
        {
          "data": {
            "text/plain": [
              "['rougher.calculation.sulfate_to_au_concentrate',\n",
              " 'rougher.calculation.floatbank10_sulfate_to_au_feed',\n",
              " 'rougher.calculation.floatbank11_sulfate_to_au_feed',\n",
              " 'rougher.calculation.au_pb_ratio',\n",
              " 'rougher.output.concentrate_au',\n",
              " 'rougher.output.concentrate_ag',\n",
              " 'rougher.output.concentrate_pb',\n",
              " 'rougher.output.concentrate_sol',\n",
              " 'rougher.output.recovery',\n",
              " 'rougher.output.tail_au',\n",
              " 'rougher.output.tail_ag',\n",
              " 'rougher.output.tail_pb',\n",
              " 'rougher.output.tail_sol',\n",
              " 'primary_cleaner.output.concentrate_au',\n",
              " 'primary_cleaner.output.concentrate_ag',\n",
              " 'primary_cleaner.output.concentrate_pb',\n",
              " 'primary_cleaner.output.concentrate_sol',\n",
              " 'primary_cleaner.output.tail_au',\n",
              " 'primary_cleaner.output.tail_ag',\n",
              " 'primary_cleaner.output.tail_pb',\n",
              " 'primary_cleaner.output.tail_sol',\n",
              " 'secondary_cleaner.output.tail_au',\n",
              " 'secondary_cleaner.output.tail_ag',\n",
              " 'secondary_cleaner.output.tail_pb',\n",
              " 'secondary_cleaner.output.tail_sol',\n",
              " 'final.output.concentrate_au',\n",
              " 'final.output.concentrate_ag',\n",
              " 'final.output.concentrate_pb',\n",
              " 'final.output.concentrate_sol',\n",
              " 'final.output.recovery',\n",
              " 'final.output.tail_au',\n",
              " 'final.output.tail_ag',\n",
              " 'final.output.tail_pb',\n",
              " 'final.output.tail_sol']"
            ]
          },
          "execution_count": 17,
          "metadata": {},
          "output_type": "execute_result"
        }
      ],
      "source": [
        "# создадим цикл где сохраним названия признаков отсутствующих в тестовой выборке.\n",
        "\n",
        "# сохраним названия столбцов в тестовой и обучающей выборке\n",
        "columns_train = train.columns\n",
        "columns_test = test.columns\n",
        "\n",
        "# сделаем цикл, сохраним названия столбцов\n",
        "count = 0\n",
        "missing_columns = []\n",
        "for i in columns_train:\n",
        "    if i not in columns_test:\n",
        "        missing_columns.append(i)\n",
        "        count +=1\n",
        "print('Все пропущено признаков:', count)\n",
        "missing_columns"
      ]
    },
    {
      "cell_type": "markdown",
      "metadata": {
        "id": "PeDBVwRsdCuQ"
      },
      "source": [
        "**Вывод**\n",
        "\n",
        "Пропущено 34 признака\n",
        "\n",
        "Из них:\n",
        "\n",
        "4 признака на этапе флотации относятся к расчетным характеристикам\n",
        "\n",
        "30 признаков  относятся к параметрам продукта для каждого этапа\n",
        "\n",
        "Можно предположить, что эти данные не успели поступить, так как каждый этап технологического процесса требует времени.\n",
        "\n",
        "В датафрейме нет целевых признаков rougher.output.recovery и final.output.recovery\n",
        "\n"
      ]
    },
    {
      "cell_type": "markdown",
      "metadata": {
        "id": "Pb9cQDl7dCuV"
      },
      "source": [
        "### Предобработка данных"
      ]
    },
    {
      "cell_type": "markdown",
      "metadata": {
        "id": "ijvsPS_idCuW"
      },
      "source": [
        "Заменим тип данных в столбце 'date' для всех датафреймов с object на datetime64"
      ]
    },
    {
      "cell_type": "code",
      "execution_count": null,
      "metadata": {
        "id": "VjbnSztzdCuX"
      },
      "outputs": [],
      "source": [
        "train['date'] = pd.to_datetime(train['date'], format='%Y-%m-%d %H:%M:%S')\n",
        "test['date'] = pd.to_datetime(test['date'], format='%Y-%m-%d %H:%M:%S')\n",
        "full['date'] = pd.to_datetime(full['date'], format='%Y-%m-%d %H:%M:%S')"
      ]
    },
    {
      "cell_type": "markdown",
      "metadata": {
        "id": "3qHnS42HdCuX"
      },
      "source": [
        "Добавим в датафрейм test столбцы с целевыми признаками rougher.output.recovery и final.output.recovery, возьмем данные из датафрейма full"
      ]
    },
    {
      "cell_type": "code",
      "execution_count": null,
      "metadata": {
        "id": "BPcGkmaldCuY",
        "outputId": "4beca0c8-8623-4393-9072-3260e8bc97a8"
      },
      "outputs": [
        {
          "name": "stdout",
          "output_type": "stream",
          "text": [
            "<class 'pandas.core.frame.DataFrame'>\n",
            "Int64Index: 4860 entries, 0 to 4859\n",
            "Data columns (total 55 columns):\n",
            " #   Column                                      Non-Null Count  Dtype         \n",
            "---  ------                                      --------------  -----         \n",
            " 0   date                                        4860 non-null   datetime64[ns]\n",
            " 1   rougher.input.feed_au                       4860 non-null   float64       \n",
            " 2   rougher.input.feed_ag                       4860 non-null   float64       \n",
            " 3   rougher.input.feed_pb                       4832 non-null   float64       \n",
            " 4   rougher.input.feed_sol                      4838 non-null   float64       \n",
            " 5   rougher.input.feed_rate                     4856 non-null   float64       \n",
            " 6   rougher.input.feed_size                     4816 non-null   float64       \n",
            " 7   rougher.input.floatbank10_sulfate           4857 non-null   float64       \n",
            " 8   rougher.input.floatbank10_xanthate          4859 non-null   float64       \n",
            " 9   rougher.state.floatbank10_a_air             4859 non-null   float64       \n",
            " 10  rougher.state.floatbank10_a_level           4859 non-null   float64       \n",
            " 11  rougher.state.floatbank10_b_air             4859 non-null   float64       \n",
            " 12  rougher.state.floatbank10_b_level           4859 non-null   float64       \n",
            " 13  rougher.state.floatbank10_c_air             4859 non-null   float64       \n",
            " 14  rougher.state.floatbank10_c_level           4859 non-null   float64       \n",
            " 15  rougher.state.floatbank10_d_air             4860 non-null   float64       \n",
            " 16  rougher.state.floatbank10_d_level           4860 non-null   float64       \n",
            " 17  rougher.state.floatbank10_e_air             4853 non-null   float64       \n",
            " 18  rougher.state.floatbank10_e_level           4860 non-null   float64       \n",
            " 19  rougher.state.floatbank10_f_air             4860 non-null   float64       \n",
            " 20  rougher.state.floatbank10_f_level           4860 non-null   float64       \n",
            " 21  rougher.input.floatbank11_sulfate           4852 non-null   float64       \n",
            " 22  rougher.input.floatbank11_xanthate          4814 non-null   float64       \n",
            " 23  primary_cleaner.input.sulfate               4859 non-null   float64       \n",
            " 24  primary_cleaner.input.depressant            4851 non-null   float64       \n",
            " 25  primary_cleaner.input.feed_size             4860 non-null   float64       \n",
            " 26  primary_cleaner.input.xanthate              4817 non-null   float64       \n",
            " 27  primary_cleaner.state.floatbank8_a_air      4859 non-null   float64       \n",
            " 28  primary_cleaner.state.floatbank8_a_level    4859 non-null   float64       \n",
            " 29  primary_cleaner.state.floatbank8_b_air      4859 non-null   float64       \n",
            " 30  primary_cleaner.state.floatbank8_b_level    4859 non-null   float64       \n",
            " 31  primary_cleaner.state.floatbank8_c_air      4858 non-null   float64       \n",
            " 32  primary_cleaner.state.floatbank8_c_level    4859 non-null   float64       \n",
            " 33  primary_cleaner.state.floatbank8_d_air      4858 non-null   float64       \n",
            " 34  primary_cleaner.state.floatbank8_d_level    4859 non-null   float64       \n",
            " 35  secondary_cleaner.state.floatbank2_a_air    4734 non-null   float64       \n",
            " 36  secondary_cleaner.state.floatbank2_a_level  4859 non-null   float64       \n",
            " 37  secondary_cleaner.state.floatbank2_b_air    4859 non-null   float64       \n",
            " 38  secondary_cleaner.state.floatbank2_b_level  4859 non-null   float64       \n",
            " 39  secondary_cleaner.state.floatbank3_a_air    4859 non-null   float64       \n",
            " 40  secondary_cleaner.state.floatbank3_a_level  4859 non-null   float64       \n",
            " 41  secondary_cleaner.state.floatbank3_b_air    4859 non-null   float64       \n",
            " 42  secondary_cleaner.state.floatbank3_b_level  4859 non-null   float64       \n",
            " 43  secondary_cleaner.state.floatbank4_a_air    4859 non-null   float64       \n",
            " 44  secondary_cleaner.state.floatbank4_a_level  4859 non-null   float64       \n",
            " 45  secondary_cleaner.state.floatbank4_b_air    4859 non-null   float64       \n",
            " 46  secondary_cleaner.state.floatbank4_b_level  4859 non-null   float64       \n",
            " 47  secondary_cleaner.state.floatbank5_a_air    4859 non-null   float64       \n",
            " 48  secondary_cleaner.state.floatbank5_a_level  4859 non-null   float64       \n",
            " 49  secondary_cleaner.state.floatbank5_b_air    4859 non-null   float64       \n",
            " 50  secondary_cleaner.state.floatbank5_b_level  4859 non-null   float64       \n",
            " 51  secondary_cleaner.state.floatbank6_a_air    4859 non-null   float64       \n",
            " 52  secondary_cleaner.state.floatbank6_a_level  4859 non-null   float64       \n",
            " 53  rougher.output.recovery                     4860 non-null   float64       \n",
            " 54  final.output.recovery                       4860 non-null   float64       \n",
            "dtypes: datetime64[ns](1), float64(54)\n",
            "memory usage: 2.1 MB\n"
          ]
        }
      ],
      "source": [
        "columns_merge = ['date', 'rougher.output.recovery', 'final.output.recovery']\n",
        "full_recovery = full[columns_merge]\n",
        "\n",
        "test = pd.merge(test, full_recovery, how='left', on=['date'])\n",
        "test.info()"
      ]
    },
    {
      "cell_type": "markdown",
      "metadata": {
        "id": "xyKxaFjGdCuY"
      },
      "source": [
        "В обучающей и тестовой выборках есть пропуски. Удалим их."
      ]
    },
    {
      "cell_type": "markdown",
      "metadata": {
        "id": "Z1X6d5RYdCuZ"
      },
      "source": [
        "Заменим пропученные значения в обущающей выборке, на предыдущие значения в столбце"
      ]
    },
    {
      "cell_type": "code",
      "execution_count": null,
      "metadata": {
        "scrolled": true,
        "id": "jqvOA2medCuZ"
      },
      "outputs": [],
      "source": [
        "train.fillna(method='ffill', inplace=True)"
      ]
    },
    {
      "cell_type": "code",
      "execution_count": null,
      "metadata": {
        "id": "Tn8mOvEfdCuZ",
        "outputId": "32e47bcc-b515-4ae3-ca6d-dae59b0f465e"
      },
      "outputs": [
        {
          "data": {
            "text/plain": [
              "date                      0\n",
              "rougher.input.feed_au     0\n",
              "rougher.input.feed_ag     0\n",
              "rougher.input.feed_pb     0\n",
              "rougher.input.feed_sol    0\n",
              "                         ..\n",
              "final.output.recovery     0\n",
              "final.output.tail_au      0\n",
              "final.output.tail_ag      0\n",
              "final.output.tail_pb      0\n",
              "final.output.tail_sol     0\n",
              "Length: 87, dtype: int64"
            ]
          },
          "execution_count": 21,
          "metadata": {},
          "output_type": "execute_result"
        }
      ],
      "source": [
        "train.isna().sum()"
      ]
    },
    {
      "cell_type": "code",
      "execution_count": null,
      "metadata": {
        "id": "F31J3Nw6dCuZ"
      },
      "outputs": [],
      "source": [
        "test.fillna(method='ffill', inplace=True)"
      ]
    },
    {
      "cell_type": "code",
      "execution_count": null,
      "metadata": {
        "id": "XbYyT44HdCua",
        "outputId": "6835b29d-6815-4f2d-afae-8d101a8511be"
      },
      "outputs": [
        {
          "data": {
            "text/plain": [
              "date                                          0\n",
              "rougher.input.feed_au                         0\n",
              "rougher.input.feed_ag                         0\n",
              "rougher.input.feed_pb                         0\n",
              "rougher.input.feed_sol                        0\n",
              "rougher.input.feed_rate                       0\n",
              "rougher.input.feed_size                       0\n",
              "rougher.input.floatbank10_sulfate             0\n",
              "rougher.input.floatbank10_xanthate            0\n",
              "rougher.state.floatbank10_a_air               0\n",
              "rougher.state.floatbank10_a_level             0\n",
              "rougher.state.floatbank10_b_air               0\n",
              "rougher.state.floatbank10_b_level             0\n",
              "rougher.state.floatbank10_c_air               0\n",
              "rougher.state.floatbank10_c_level             0\n",
              "rougher.state.floatbank10_d_air               0\n",
              "rougher.state.floatbank10_d_level             0\n",
              "rougher.state.floatbank10_e_air               0\n",
              "rougher.state.floatbank10_e_level             0\n",
              "rougher.state.floatbank10_f_air               0\n",
              "rougher.state.floatbank10_f_level             0\n",
              "rougher.input.floatbank11_sulfate             0\n",
              "rougher.input.floatbank11_xanthate            0\n",
              "primary_cleaner.input.sulfate                 0\n",
              "primary_cleaner.input.depressant              0\n",
              "primary_cleaner.input.feed_size               0\n",
              "primary_cleaner.input.xanthate                0\n",
              "primary_cleaner.state.floatbank8_a_air        0\n",
              "primary_cleaner.state.floatbank8_a_level      0\n",
              "primary_cleaner.state.floatbank8_b_air        0\n",
              "primary_cleaner.state.floatbank8_b_level      0\n",
              "primary_cleaner.state.floatbank8_c_air        0\n",
              "primary_cleaner.state.floatbank8_c_level      0\n",
              "primary_cleaner.state.floatbank8_d_air        0\n",
              "primary_cleaner.state.floatbank8_d_level      0\n",
              "secondary_cleaner.state.floatbank2_a_air      0\n",
              "secondary_cleaner.state.floatbank2_a_level    0\n",
              "secondary_cleaner.state.floatbank2_b_air      0\n",
              "secondary_cleaner.state.floatbank2_b_level    0\n",
              "secondary_cleaner.state.floatbank3_a_air      0\n",
              "secondary_cleaner.state.floatbank3_a_level    0\n",
              "secondary_cleaner.state.floatbank3_b_air      0\n",
              "secondary_cleaner.state.floatbank3_b_level    0\n",
              "secondary_cleaner.state.floatbank4_a_air      0\n",
              "secondary_cleaner.state.floatbank4_a_level    0\n",
              "secondary_cleaner.state.floatbank4_b_air      0\n",
              "secondary_cleaner.state.floatbank4_b_level    0\n",
              "secondary_cleaner.state.floatbank5_a_air      0\n",
              "secondary_cleaner.state.floatbank5_a_level    0\n",
              "secondary_cleaner.state.floatbank5_b_air      0\n",
              "secondary_cleaner.state.floatbank5_b_level    0\n",
              "secondary_cleaner.state.floatbank6_a_air      0\n",
              "secondary_cleaner.state.floatbank6_a_level    0\n",
              "rougher.output.recovery                       0\n",
              "final.output.recovery                         0\n",
              "dtype: int64"
            ]
          },
          "execution_count": 23,
          "metadata": {},
          "output_type": "execute_result"
        }
      ],
      "source": [
        "test.isna().sum()"
      ]
    },
    {
      "cell_type": "markdown",
      "metadata": {
        "id": "qW-VMUbJdCua"
      },
      "source": [
        "**Вывод**\n",
        "\n",
        "Мы добавили в тестовую выборку столбцы с целевыми признаками\n",
        "\n",
        "\n",
        "Заменили пропущенные значения в датафреймах train и test на предыдущие значения в столбцах."
      ]
    },
    {
      "cell_type": "markdown",
      "metadata": {
        "id": "jz6J2k_YdCub"
      },
      "source": [
        "## Анализ данных"
      ]
    },
    {
      "cell_type": "markdown",
      "metadata": {
        "id": "RlQIdmlXdCub"
      },
      "source": [
        "### Изменение концентрации метталов"
      ]
    },
    {
      "cell_type": "markdown",
      "metadata": {
        "id": "kBMDR7i8dCub"
      },
      "source": [
        "Посмотрите, как меняется концентрация металлов (Au, Ag, Pb) на различных этапах: в сырье, в черновом концентрате, в концентрате после первой очистки и в финальном концентрате. Какие особенности имеют распределения? Опишите выводы."
      ]
    },
    {
      "cell_type": "markdown",
      "metadata": {
        "id": "tRngiK4JdCub"
      },
      "source": [
        "Построим распределения для концентрации золота на разных этапах производства"
      ]
    },
    {
      "cell_type": "code",
      "execution_count": null,
      "metadata": {
        "id": "dciJxjAxdCuc",
        "outputId": "14b2c94f-bc73-4de4-bb5f-93782d2d2f9c"
      },
      "outputs": [
        {
          "data": {
            "image/png": "[encoded data removed]",
            "text/plain": [
              "<Figure size 1440x720 with 4 Axes>"
            ]
          },
          "metadata": {
            "needs_background": "light"
          },
          "output_type": "display_data"
        }
      ],
      "source": [
        "\n",
        "fig, axs = plt.subplots(2, 2, figsize=(20,10))\n",
        "\n",
        "axs[0,0].hist(full['rougher.input.feed_au'], bins = 50)\n",
        "axs[0,1].hist(full['rougher.output.concentrate_au'],bins = 50)\n",
        "axs[1,0].hist(full['primary_cleaner.output.concentrate_au'],bins = 50)\n",
        "axs[1,1].hist(full['final.output.concentrate_au'], bins = 50)\n",
        "\n",
        "axs[0,0].set_title('Сырье')\n",
        "axs[0,1].set_title('Черновой концентрат')\n",
        "axs[1,0].set_title('После первой очистки')\n",
        "axs[1,1].set_title('Финальный концентрат')\n",
        "fig.suptitle('Концентрация золота на разных этапах добычи')\n",
        "plt.show()"
      ]
    },
    {
      "cell_type": "markdown",
      "metadata": {
        "id": "6pvB4926dCuc"
      },
      "source": [
        "Построим распределения для концентрации серебра на разных этапах производства"
      ]
    },
    {
      "cell_type": "code",
      "execution_count": null,
      "metadata": {
        "scrolled": true,
        "id": "7E9AjZT1dCuc",
        "outputId": "46d581cf-676f-48f1-f996-64a7bfbe31a3"
      },
      "outputs": [
        {
          "data": {
            "image/png": "[encoded data removed]",
            "text/plain": [
              "<Figure size 1440x720 with 4 Axes>"
            ]
          },
          "metadata": {
            "needs_background": "light"
          },
          "output_type": "display_data"
        }
      ],
      "source": [
        "fig, axs = plt.subplots(2, 2, figsize=(20,10))\n",
        "\n",
        "axs[0,0].hist(full['rougher.input.feed_ag'], bins = 50)\n",
        "axs[0,1].hist(full['rougher.output.concentrate_ag'],bins = 50)\n",
        "axs[1,0].hist(full['primary_cleaner.output.concentrate_ag'],bins = 50)\n",
        "axs[1,1].hist(full['final.output.concentrate_ag'], bins = 50)\n",
        "\n",
        "axs[0,0].set_title('Сырье')\n",
        "axs[0,1].set_title('Черновой концентрат')\n",
        "axs[1,0].set_title('После первой очистки')\n",
        "axs[1,1].set_title('Финальный концентрат')\n",
        "fig.suptitle('Концентрация серебра на разных этапах добычи')\n",
        "plt.show()"
      ]
    },
    {
      "cell_type": "markdown",
      "metadata": {
        "id": "9Z1BBSIwdCud"
      },
      "source": [
        "Построим распределения для концентрации свинца на разных этапах производства"
      ]
    },
    {
      "cell_type": "code",
      "execution_count": null,
      "metadata": {
        "scrolled": true,
        "id": "xz7HFyTxdCud",
        "outputId": "baea8864-0e9c-419b-80ec-ba7339100ba5"
      },
      "outputs": [
        {
          "data": {
            "image/png": "[encoded data removed]",
            "text/plain": [
              "<Figure size 1440x720 with 4 Axes>"
            ]
          },
          "metadata": {
            "needs_background": "light"
          },
          "output_type": "display_data"
        }
      ],
      "source": [
        "fig, axs = plt.subplots(2, 2, figsize=(20,10))\n",
        "\n",
        "axs[0,0].hist(full['rougher.input.feed_pb'], bins = 50)\n",
        "axs[0,1].hist(full['rougher.output.concentrate_pb'],bins = 50)\n",
        "axs[1,0].hist(full['primary_cleaner.output.concentrate_pb'],bins = 50)\n",
        "axs[1,1].hist(full['final.output.concentrate_pb'], bins = 50)\n",
        "\n",
        "axs[0,0].set_title('Сырье')\n",
        "axs[0,1].set_title('Черновой концентрат')\n",
        "axs[1,0].set_title('После первой очистки')\n",
        "axs[1,1].set_title('Финальный концентрат')\n",
        "fig.suptitle('Концентрация свинца на разных этапах добычи')\n",
        "plt.show()"
      ]
    },
    {
      "cell_type": "markdown",
      "metadata": {
        "id": "DDuc8RqOdCue"
      },
      "source": [
        "Из графиков распределения концентрации металлов видно, что после проведения этапа флотации, часть значений лежит около 0, возможно это выбросы.\n",
        "\n",
        "Не очищенное сырье имеет больший разброс значений для всех металлов.\n",
        "\n",
        "После каждого этапа очистки для золота и свинца значение концентрации увеличились, для серебра на оборот снизились.\n",
        "\n",
        "Все графики имете вид нормального распределения."
      ]
    },
    {
      "cell_type": "markdown",
      "metadata": {
        "id": "L_UODQwmdCue"
      },
      "source": [
        "### Распределение размеров гранул исходного сырья"
      ]
    },
    {
      "cell_type": "markdown",
      "metadata": {
        "id": "wBgH585adCue"
      },
      "source": [
        "Сравните распределения размеров гранул исходного сырья на обучающей и тестовой выборках. Если распределения сильно отличаются друг от друга, оценка модели будет неправильной."
      ]
    },
    {
      "cell_type": "code",
      "execution_count": null,
      "metadata": {
        "id": "hN6hLti9dCuf",
        "outputId": "aef03b52-c71e-46a6-a13e-86fa897aaf9c"
      },
      "outputs": [
        {
          "data": {
            "image/png": "[encoded data removed]",
            "text/plain": [
              "<Figure size 1080x360 with 1 Axes>"
            ]
          },
          "metadata": {
            "needs_background": "light"
          },
          "output_type": "display_data"
        }
      ],
      "source": [
        "# используем параметр density(логическое значение плотности),\n",
        "# это позволит сравнить распределения с разным кол-вом значений\n",
        "\n",
        "plt.figure(figsize=(15,5))\n",
        "plt.hist(train['rougher.input.feed_size'], bins = 50, density=True, alpha=0.5, label='train', range = (0, 150))\n",
        "plt.hist(test['rougher.input.feed_size'], bins= 50, density= True, alpha=0.5, label='test', range = (0, 150))\n",
        "plt.legend(loc='upper right')\n",
        "plt.title('Распределение размеров гранул исходного сырья')\n",
        "plt.show()"
      ]
    },
    {
      "cell_type": "markdown",
      "metadata": {
        "id": "WsA7wdF4dCuf"
      },
      "source": [
        "Распределения размеров гранул исходного сырья на обучающей и тестовой выборках практически не отличаются, и в целом повторяют друг друга."
      ]
    },
    {
      "cell_type": "markdown",
      "metadata": {
        "id": "EjCkXN1gdCuf"
      },
      "source": [
        "### Cуммарная концентрация металлов на разных стадиях"
      ]
    },
    {
      "cell_type": "markdown",
      "metadata": {
        "id": "5kIMCGfadCug"
      },
      "source": [
        " Исследуйте суммарную концентрацию металлов на разных стадиях: в сырье, в черновом концентрате, в концентрате после первой очистки и в финальном концентрате."
      ]
    },
    {
      "cell_type": "code",
      "execution_count": null,
      "metadata": {
        "id": "cvKxBpPPdCug"
      },
      "outputs": [],
      "source": [
        "# создадим функцию, которая на вход принимает датафрейм\n",
        "# возвращает суммарную концентрацию на разных этапах\n",
        "\n",
        "def total_concentration(data):\n",
        "    total_rougher_input = data['rougher.input.feed_au']+ data['rougher.input.feed_ag']+ data['rougher.input.feed_pb']\n",
        "    total_rougher_out = data['rougher.output.concentrate_au']+ data['rougher.output.concentrate_ag']+ data['rougher.output.concentrate_pb']\n",
        "    total_primary = data['primary_cleaner.output.concentrate_au'] + data['primary_cleaner.output.concentrate_ag'] + data['primary_cleaner.output.concentrate_pb']\n",
        "    total_final = data['final.output.concentrate_au']+ data['final.output.concentrate_ag']+ data['final.output.concentrate_pb']\n",
        "    return total_rougher_input, total_rougher_out, total_primary, total_final"
      ]
    },
    {
      "cell_type": "code",
      "execution_count": null,
      "metadata": {
        "id": "PkngJOa4dCug"
      },
      "outputs": [],
      "source": [
        "# применим функцию к датафрейму с полными данными\n",
        "\n",
        "total_rougher_input_full, total_rougher_out_full, total_primary_full, total_final_full = total_concentration(full)"
      ]
    },
    {
      "cell_type": "markdown",
      "metadata": {
        "id": "XyE-_XxIdCug"
      },
      "source": [
        "Построим гистограмму для полученных значений"
      ]
    },
    {
      "cell_type": "code",
      "execution_count": null,
      "metadata": {
        "id": "GAvVXqe_dCuh",
        "outputId": "7a2ca9f7-7c70-456b-ff1c-cddf751df38b"
      },
      "outputs": [
        {
          "data": {
            "image/png": "[encoded data removed]",
            "text/plain": [
              "<Figure size 1440x720 with 4 Axes>"
            ]
          },
          "metadata": {
            "needs_background": "light"
          },
          "output_type": "display_data"
        }
      ],
      "source": [
        "fig, axs = plt.subplots(2, 2, figsize=(20,10))\n",
        "\n",
        "axs[0,0].hist(total_rougher_input_full, bins = 100)\n",
        "axs[0,1].hist(total_rougher_out_full,bins = 100)\n",
        "axs[1,0].hist(total_primary_full,bins = 100)\n",
        "axs[1,1].hist(total_final_full, bins = 100)\n",
        "\n",
        "axs[0,0].set_title('Сырье')\n",
        "axs[0,1].set_title('Черновой концентрат')\n",
        "axs[1,0].set_title('После первой очистки')\n",
        "axs[1,1].set_title('Финальный концентрат')\n",
        "fig.suptitle('Суммарная концентрация металлов на разных этапах добычи')\n",
        "plt.show()"
      ]
    },
    {
      "cell_type": "markdown",
      "metadata": {
        "id": "NRSs-elMdCuh"
      },
      "source": [
        "Сырье имеет более широкое распределение суммарной концентрации металлов по сравнению с этапами очистки.\n",
        "\n",
        "Среднее значение концентрации с каждым этапом увеличивается.\n",
        "\n",
        "На всех этапах очиски встречаются значения около 0."
      ]
    },
    {
      "cell_type": "markdown",
      "metadata": {
        "id": "5hYO0z14dCuh"
      },
      "source": [
        "Удалим те значения в обучающей выборке, для которых суммарная концентрация равна 0."
      ]
    },
    {
      "cell_type": "code",
      "execution_count": null,
      "metadata": {
        "id": "KfVThxj9dCuh"
      },
      "outputs": [],
      "source": [
        "# применим функцию total_concentration к обучающей выборке\n",
        "\n",
        "total_rougher_input_train, total_rougher_out_train, total_primary_train, total_final_train = total_concentration(train)"
      ]
    },
    {
      "cell_type": "code",
      "execution_count": null,
      "metadata": {
        "id": "DcxWWFQFdCui"
      },
      "outputs": [],
      "source": [
        "# удалим строки с выбросами из обучающей выборки\n",
        "train = train.query('@total_rougher_out_train != 0 and @total_primary_train !=0 and @total_final_train !=0')"
      ]
    },
    {
      "cell_type": "markdown",
      "metadata": {
        "id": "1XFpztGXdCui"
      },
      "source": [
        "**Вывод**\n",
        "\n",
        "Распределения размеров гранул исходного сырья на обучающей и тестовой выборках практически не отличаются, и в целом повторяют друг друга.\n",
        "\n",
        "Сырье имеет более широкое распределение суммарной концентрации металлов по сравнению с этапами очистки.\n",
        "\n",
        "Среднее значение концентрации с каждым этапом увеличивается.\n",
        "\n",
        "На всех этапах очиски встречаются значения около 0.\n",
        "\n",
        "Удалили выбросы в обучающей выборке."
      ]
    },
    {
      "cell_type": "markdown",
      "metadata": {
        "id": "lK1YpEr6dCui"
      },
      "source": [
        "## Модель"
      ]
    },
    {
      "cell_type": "markdown",
      "metadata": {
        "id": "JLAIS6C-dCuj"
      },
      "source": [
        "### Функция для вычисления sMAPE"
      ]
    },
    {
      "cell_type": "markdown",
      "metadata": {
        "id": "Z2Kpsku2dCuj"
      },
      "source": [
        "Напишем функцию для вычисления итоговой sMAPE"
      ]
    },
    {
      "cell_type": "code",
      "execution_count": null,
      "metadata": {
        "id": "xnpdpd7BdCuj"
      },
      "outputs": [],
      "source": [
        "# функция для вычисления sMAPE\n",
        "def smape( target, predict):\n",
        "\n",
        "    result = 1/len(target)*sum((abs(target - predict))/((abs(target)+abs(predict))/2))*100\n",
        "\n",
        "    return result"
      ]
    },
    {
      "cell_type": "code",
      "execution_count": null,
      "metadata": {
        "id": "kd0Mp7qZdCuj"
      },
      "outputs": [],
      "source": [
        "# функция для вычисления итогового sMAPE\n",
        "def final_smape(smape_rougher, smape_final):\n",
        "    result = (0.25*smape_rougher + 0.75*smape_final)\n",
        "    return result"
      ]
    },
    {
      "cell_type": "markdown",
      "metadata": {
        "id": "seDw8hqLdCuk"
      },
      "source": [
        "Сделаем из функции пользовательскую метрику качества моделей"
      ]
    },
    {
      "cell_type": "code",
      "execution_count": null,
      "metadata": {
        "id": "QNXztEL_dCuk"
      },
      "outputs": [],
      "source": [
        "custom_score = make_scorer(smape, greater_is_better = False)"
      ]
    },
    {
      "cell_type": "markdown",
      "metadata": {
        "id": "r_vlezUjdCus"
      },
      "source": [
        "### Обучение моделей"
      ]
    },
    {
      "cell_type": "markdown",
      "metadata": {
        "id": "GEU6orR0dCus"
      },
      "source": [
        "Обучите разные модели и оцените их качество кросс-валидацией. Выберите лучшую модель и проверьте её на тестовой выборке. Опишите выводы."
      ]
    },
    {
      "cell_type": "markdown",
      "metadata": {
        "id": "-TStMr8HdCus"
      },
      "source": [
        "Уберем из обучающей выборки все признаки, отсутствующие в тестовой выборке, исходя из предположения, что тестовая выборка, это реальные данные, с которыми модель будет работать в производстве."
      ]
    },
    {
      "cell_type": "code",
      "execution_count": null,
      "metadata": {
        "id": "7jJCwu7VdCus",
        "outputId": "90253bd9-7bcc-4c32-deb1-fd0fa6d91a05"
      },
      "outputs": [
        {
          "name": "stdout",
          "output_type": "stream",
          "text": [
            "<class 'pandas.core.frame.DataFrame'>\n",
            "Int64Index: 13988 entries, 0 to 14578\n",
            "Data columns (total 55 columns):\n",
            " #   Column                                      Non-Null Count  Dtype         \n",
            "---  ------                                      --------------  -----         \n",
            " 0   date                                        13988 non-null  datetime64[ns]\n",
            " 1   rougher.input.feed_au                       13988 non-null  float64       \n",
            " 2   rougher.input.feed_ag                       13988 non-null  float64       \n",
            " 3   rougher.input.feed_pb                       13988 non-null  float64       \n",
            " 4   rougher.input.feed_sol                      13988 non-null  float64       \n",
            " 5   rougher.input.feed_rate                     13988 non-null  float64       \n",
            " 6   rougher.input.feed_size                     13988 non-null  float64       \n",
            " 7   rougher.input.floatbank10_sulfate           13988 non-null  float64       \n",
            " 8   rougher.input.floatbank10_xanthate          13988 non-null  float64       \n",
            " 9   rougher.state.floatbank10_a_air             13988 non-null  float64       \n",
            " 10  rougher.state.floatbank10_a_level           13988 non-null  float64       \n",
            " 11  rougher.state.floatbank10_b_air             13988 non-null  float64       \n",
            " 12  rougher.state.floatbank10_b_level           13988 non-null  float64       \n",
            " 13  rougher.state.floatbank10_c_air             13988 non-null  float64       \n",
            " 14  rougher.state.floatbank10_c_level           13988 non-null  float64       \n",
            " 15  rougher.state.floatbank10_d_air             13988 non-null  float64       \n",
            " 16  rougher.state.floatbank10_d_level           13988 non-null  float64       \n",
            " 17  rougher.state.floatbank10_e_air             13988 non-null  float64       \n",
            " 18  rougher.state.floatbank10_e_level           13988 non-null  float64       \n",
            " 19  rougher.state.floatbank10_f_air             13988 non-null  float64       \n",
            " 20  rougher.state.floatbank10_f_level           13988 non-null  float64       \n",
            " 21  rougher.input.floatbank11_sulfate           13988 non-null  float64       \n",
            " 22  rougher.input.floatbank11_xanthate          13988 non-null  float64       \n",
            " 23  primary_cleaner.input.sulfate               13988 non-null  float64       \n",
            " 24  primary_cleaner.input.depressant            13988 non-null  float64       \n",
            " 25  primary_cleaner.input.feed_size             13988 non-null  float64       \n",
            " 26  primary_cleaner.input.xanthate              13988 non-null  float64       \n",
            " 27  primary_cleaner.state.floatbank8_a_air      13988 non-null  float64       \n",
            " 28  primary_cleaner.state.floatbank8_a_level    13988 non-null  float64       \n",
            " 29  primary_cleaner.state.floatbank8_b_air      13988 non-null  float64       \n",
            " 30  primary_cleaner.state.floatbank8_b_level    13988 non-null  float64       \n",
            " 31  primary_cleaner.state.floatbank8_c_air      13988 non-null  float64       \n",
            " 32  primary_cleaner.state.floatbank8_c_level    13988 non-null  float64       \n",
            " 33  primary_cleaner.state.floatbank8_d_air      13988 non-null  float64       \n",
            " 34  primary_cleaner.state.floatbank8_d_level    13988 non-null  float64       \n",
            " 35  secondary_cleaner.state.floatbank2_a_air    13988 non-null  float64       \n",
            " 36  secondary_cleaner.state.floatbank2_a_level  13988 non-null  float64       \n",
            " 37  secondary_cleaner.state.floatbank2_b_air    13988 non-null  float64       \n",
            " 38  secondary_cleaner.state.floatbank2_b_level  13988 non-null  float64       \n",
            " 39  secondary_cleaner.state.floatbank3_a_air    13988 non-null  float64       \n",
            " 40  secondary_cleaner.state.floatbank3_a_level  13988 non-null  float64       \n",
            " 41  secondary_cleaner.state.floatbank3_b_air    13988 non-null  float64       \n",
            " 42  secondary_cleaner.state.floatbank3_b_level  13988 non-null  float64       \n",
            " 43  secondary_cleaner.state.floatbank4_a_air    13988 non-null  float64       \n",
            " 44  secondary_cleaner.state.floatbank4_a_level  13988 non-null  float64       \n",
            " 45  secondary_cleaner.state.floatbank4_b_air    13988 non-null  float64       \n",
            " 46  secondary_cleaner.state.floatbank4_b_level  13988 non-null  float64       \n",
            " 47  secondary_cleaner.state.floatbank5_a_air    13988 non-null  float64       \n",
            " 48  secondary_cleaner.state.floatbank5_a_level  13988 non-null  float64       \n",
            " 49  secondary_cleaner.state.floatbank5_b_air    13988 non-null  float64       \n",
            " 50  secondary_cleaner.state.floatbank5_b_level  13988 non-null  float64       \n",
            " 51  secondary_cleaner.state.floatbank6_a_air    13988 non-null  float64       \n",
            " 52  secondary_cleaner.state.floatbank6_a_level  13988 non-null  float64       \n",
            " 53  rougher.output.recovery                     13988 non-null  float64       \n",
            " 54  final.output.recovery                       13988 non-null  float64       \n",
            "dtypes: datetime64[ns](1), float64(54)\n",
            "memory usage: 6.0 MB\n"
          ]
        }
      ],
      "source": [
        "test_columns = test.columns\n",
        "train = train[test_columns]\n",
        "train.info()"
      ]
    },
    {
      "cell_type": "markdown",
      "metadata": {
        "id": "nX-tEapUdCus"
      },
      "source": [
        "Выделим в обучающей и тестовой выборках признаки и целевые признаки"
      ]
    },
    {
      "cell_type": "code",
      "execution_count": null,
      "metadata": {
        "id": "377aGzGKdCut"
      },
      "outputs": [],
      "source": [
        "# выделим в обучающей выборке целевые признаки\n",
        "target_train_rougher = train['rougher.output.recovery']\n",
        "target_train_final = train['final.output.recovery']\n",
        "\n",
        "# уберем из датафрейма целевые признаки и столбец с датой\n",
        "features_train = train.drop(['final.output.recovery', 'rougher.output.recovery', 'date'], axis=1)"
      ]
    },
    {
      "cell_type": "code",
      "execution_count": null,
      "metadata": {
        "id": "gvUer0OudCut"
      },
      "outputs": [],
      "source": [
        "target_test_rougher = test['rougher.output.recovery']\n",
        "target_test_final = test['final.output.recovery']\n",
        "\n",
        "# уберем из датафрейма целевые признаки и столбец с датой\n",
        "features_test = test.drop(['final.output.recovery', 'rougher.output.recovery', 'date'], axis=1)"
      ]
    },
    {
      "cell_type": "markdown",
      "metadata": {
        "id": "LVc8m_2tdCuu"
      },
      "source": [
        "Произведем стандартизацию признаков для обучающей и тестовой выборок"
      ]
    },
    {
      "cell_type": "code",
      "execution_count": null,
      "metadata": {
        "id": "YPHxFLSSdCuu"
      },
      "outputs": [],
      "source": [
        "scaler = StandardScaler()\n",
        "scaler.fit(features_train)\n",
        "features_train = scaler.transform(features_train)\n",
        "features_test = scaler.transform(features_test)\n",
        "pd.options.mode.chained_assignment = None"
      ]
    },
    {
      "cell_type": "markdown",
      "metadata": {
        "id": "DBE4S_0VdCuw"
      },
      "source": [
        "#### Случайный лес"
      ]
    },
    {
      "cell_type": "markdown",
      "metadata": {
        "id": "K5zZCly5dCuw"
      },
      "source": [
        "Обучим модель случайного леса и подберем лучшие гиперпараметры."
      ]
    },
    {
      "cell_type": "code",
      "execution_count": null,
      "metadata": {
        "id": "Bwlo63_zdCuw",
        "outputId": "70b8b0bb-2859-41e1-9789-32b69c7e1e79"
      },
      "outputs": [
        {
          "name": "stdout",
          "output_type": "stream",
          "text": [
            "Параметры лучшей модели: {'max_depth': 5, 'n_estimators': 70, 'random_state': 12345}\n",
            "sMAPE: -6.576272931241484\n",
            "CPU times: user 14min 6s, sys: 711 ms, total: 14min 7s\n",
            "Wall time: 14min 10s\n"
          ]
        }
      ],
      "source": [
        "%%time\n",
        "\n",
        "# для флотации\n",
        "\n",
        "model_random = RandomForestRegressor()\n",
        "parametrs = { 'n_estimators': range (50, 100, 10),\n",
        "              'max_depth': range (1,10, 2),\n",
        "              'random_state':[12345]}\n",
        "\n",
        "grid = GridSearchCV(model_random, parametrs, cv=3,scoring= custom_score, n_jobs = -1)\n",
        "model_grid = grid.fit(features_train, target_train_rougher)\n",
        "print('Параметры лучшей модели:', model_grid.best_params_)\n",
        "print('sMAPE:', model_grid.best_score_)"
      ]
    },
    {
      "cell_type": "code",
      "execution_count": null,
      "metadata": {
        "scrolled": true,
        "id": "xgJj8fepdCux",
        "outputId": "a355b15b-24b2-428c-d5ec-5dd1a07f5e04"
      },
      "outputs": [
        {
          "name": "stdout",
          "output_type": "stream",
          "text": [
            "Параметры лучшей модели: {'max_depth': 1, 'n_estimators': 90, 'random_state': 12345}\n",
            "sMAPE: -9.747120641334766\n",
            "CPU times: user 13min 33s, sys: 768 ms, total: 13min 34s\n",
            "Wall time: 13min 35s\n"
          ]
        }
      ],
      "source": [
        "%%time\n",
        "\n",
        "# для финального концентрата\n",
        "\n",
        "grid = GridSearchCV(model_random, parametrs, cv=3,scoring= custom_score, n_jobs = -1)\n",
        "model_grid = grid.fit(features_train, target_train_final)\n",
        "print('Параметры лучшей модели:', model_grid.best_params_)\n",
        "print('sMAPE:', model_grid.best_score_)"
      ]
    },
    {
      "cell_type": "markdown",
      "metadata": {
        "id": "cKpEO_AddCux"
      },
      "source": [
        "#### Решающее дерево"
      ]
    },
    {
      "cell_type": "markdown",
      "metadata": {
        "id": "mNRxcCR7dCuy"
      },
      "source": [
        "Обучим модель решающего дерева и подберем лучшие гиперпараметры."
      ]
    },
    {
      "cell_type": "code",
      "execution_count": null,
      "metadata": {
        "id": "X3y3J2LedCuy",
        "outputId": "f0e03dde-b095-4291-906e-de68aba75bba"
      },
      "outputs": [
        {
          "name": "stdout",
          "output_type": "stream",
          "text": [
            "Параметры лучшей модели: {'max_depth': 3, 'min_samples_leaf': 1, 'min_samples_split': 2, 'random_state': 12345}\n",
            "sMAPE: -6.995546531947848\n",
            "CPU times: user 45.4 s, sys: 99.9 ms, total: 45.5 s\n",
            "Wall time: 45.8 s\n"
          ]
        }
      ],
      "source": [
        "%%time\n",
        "# для флотации\n",
        "\n",
        "model_decision = DecisionTreeRegressor()\n",
        "parametrs = { 'max_depth': range (1,10, 2),\n",
        "              'min_samples_leaf': range (1,4),\n",
        "              'min_samples_split': range (2,10,2),\n",
        "              'random_state':[12345],}\n",
        "\n",
        "grid = GridSearchCV(model_decision, parametrs, cv=3,scoring= custom_score)\n",
        "model_grid = grid.fit(features_train, target_train_rougher)\n",
        "print('Параметры лучшей модели:', model_grid.best_params_)\n",
        "print('sMAPE:', model_grid.best_score_)"
      ]
    },
    {
      "cell_type": "code",
      "execution_count": null,
      "metadata": {
        "scrolled": true,
        "id": "38BNaT2hdCuy",
        "outputId": "9a6785a8-e248-4f9f-d035-b013cf61fb27"
      },
      "outputs": [
        {
          "name": "stdout",
          "output_type": "stream",
          "text": [
            "Параметры лучшей модели: {'max_depth': 1, 'min_samples_leaf': 1, 'min_samples_split': 2, 'random_state': 12345}\n",
            "sMAPE: -9.827527764547925\n",
            "CPU times: user 45.4 s, sys: 44 ms, total: 45.5 s\n",
            "Wall time: 45.5 s\n"
          ]
        }
      ],
      "source": [
        "%%time\n",
        "# для финального концентрата\n",
        "\n",
        "grid = GridSearchCV(model_decision, parametrs, cv=3,scoring= custom_score)\n",
        "model_grid = grid.fit(features_train, target_train_final)\n",
        "print('Параметры лучшей модели:', model_grid.best_params_)\n",
        "print('sMAPE:', model_grid.best_score_)"
      ]
    },
    {
      "cell_type": "markdown",
      "metadata": {
        "id": "VEf2SN9kdCuy"
      },
      "source": [
        "#### Линейная регрессия"
      ]
    },
    {
      "cell_type": "markdown",
      "metadata": {
        "id": "wWmSaKALdCuz"
      },
      "source": [
        "Обучим модель линейной регрессии."
      ]
    },
    {
      "cell_type": "code",
      "execution_count": null,
      "metadata": {
        "id": "dbCNmCwXdCuz",
        "outputId": "6331911f-c8e7-4bbb-aa01-1b0f46d46e78"
      },
      "outputs": [
        {
          "data": {
            "text/plain": [
              "-8.235503668932461"
            ]
          },
          "execution_count": 44,
          "metadata": {},
          "output_type": "execute_result"
        }
      ],
      "source": [
        "# для флотации\n",
        "\n",
        "model_linear =LinearRegression()\n",
        "\n",
        "scores = cross_val_score(model_linear, features_train, target_train_rougher,scoring = custom_score,  cv=3)\n",
        "final_score = pd.Series(scores).mean()\n",
        "final_score"
      ]
    },
    {
      "cell_type": "code",
      "execution_count": null,
      "metadata": {
        "id": "LGAkY3tVdCuz",
        "outputId": "b9a40360-8e07-4a54-ef05-56b8919d8c8d"
      },
      "outputs": [
        {
          "data": {
            "text/plain": [
              "-10.880798440721916"
            ]
          },
          "execution_count": 45,
          "metadata": {},
          "output_type": "execute_result"
        }
      ],
      "source": [
        "# для финального концентрата\n",
        "\n",
        "scores = cross_val_score(model_linear, features_train, target_train_final,scoring = custom_score,  cv=3)\n",
        "final_score = pd.Series(scores).mean()\n",
        "final_score"
      ]
    },
    {
      "cell_type": "markdown",
      "metadata": {
        "id": "AnxsrhAXdCu0"
      },
      "source": [
        "Проверим модель случайного леса на тестовой выборке, так как она показала лучшую оценку качества\n"
      ]
    },
    {
      "cell_type": "markdown",
      "metadata": {
        "id": "l8e6ldirdCu0"
      },
      "source": [
        "#### Тестирование модели"
      ]
    },
    {
      "cell_type": "markdown",
      "metadata": {
        "id": "FxS5VANhdCu0"
      },
      "source": [
        "Используем гиперпараметры полученные для финального концентрата, так как исходя из формулы итогового sMAPE, данный показатель более значим"
      ]
    },
    {
      "cell_type": "code",
      "execution_count": null,
      "metadata": {
        "id": "jxZ6sKkrdCu1",
        "outputId": "2060f1c1-60f8-4f8f-f5fe-7e37b3bb760f"
      },
      "outputs": [
        {
          "data": {
            "text/plain": [
              "3.9268455356900036"
            ]
          },
          "execution_count": 40,
          "metadata": {},
          "output_type": "execute_result"
        }
      ],
      "source": [
        "# для флотации\n",
        "\n",
        "model_forest = RandomForestRegressor(n_estimators=70, max_depth = 5, random_state=12345)\n",
        "model_forest.fit(features_train, target_train_rougher)\n",
        "predict_valid_forest = model_forest.predict(features_test)\n",
        "smape_rougher_forest = smape(target_test_rougher, predict_valid_forest)\n",
        "smape_rougher_forest"
      ]
    },
    {
      "cell_type": "code",
      "execution_count": null,
      "metadata": {
        "id": "nwgPYYAvdCu1",
        "outputId": "909a8ee6-d46e-4330-99ba-962f064d19a8"
      },
      "outputs": [
        {
          "data": {
            "text/plain": [
              "8.712472868426877"
            ]
          },
          "execution_count": 41,
          "metadata": {},
          "output_type": "execute_result"
        }
      ],
      "source": [
        "# для финального концентрата\n",
        "\n",
        "model_forest = RandomForestRegressor(n_estimators=90, max_depth=1, random_state=12345)\n",
        "model_forest.fit(features_train, target_train_final)\n",
        "predict_valid_forest = model_forest.predict(features_test)\n",
        "smape_final_forest = smape(target_test_final, predict_valid_forest)\n",
        "smape_final_forest"
      ]
    },
    {
      "cell_type": "markdown",
      "metadata": {
        "id": "V-7RJM8TdCu1"
      },
      "source": [
        "Посчитаем итоговое sMAPE для случайного леса"
      ]
    },
    {
      "cell_type": "code",
      "execution_count": null,
      "metadata": {
        "id": "JCSwvJpadCu2",
        "outputId": "44741871-ea65-479f-e83c-5e847913b6c3"
      },
      "outputs": [
        {
          "data": {
            "text/plain": [
              "7.516066035242658"
            ]
          },
          "execution_count": 42,
          "metadata": {},
          "output_type": "execute_result"
        }
      ],
      "source": [
        "final_smape(smape_rougher_forest, smape_final_forest)"
      ]
    },
    {
      "cell_type": "markdown",
      "metadata": {
        "id": "-qK5Gb7IdCu2"
      },
      "source": [
        "По результатам расчета итогового sMAPE модель случайного леса показала лучший результат"
      ]
    },
    {
      "cell_type": "markdown",
      "metadata": {
        "id": "YGWwyRwZdCu2"
      },
      "source": [
        "Проверим модель на адекватность, сравнив итоговое sMAPE с константной моделью со средним значением"
      ]
    },
    {
      "cell_type": "code",
      "execution_count": null,
      "metadata": {
        "scrolled": true,
        "id": "dzL35-rqdCu2",
        "outputId": "551cfa37-7491-405a-d6e2-135fadc7b421"
      },
      "outputs": [
        {
          "data": {
            "text/plain": [
              "0       67.268748\n",
              "1       67.268748\n",
              "2       67.268748\n",
              "3       67.268748\n",
              "4       67.268748\n",
              "          ...    \n",
              "4855    67.268748\n",
              "4856    67.268748\n",
              "4857    67.268748\n",
              "4858    67.268748\n",
              "4859    67.268748\n",
              "Length: 4860, dtype: float64"
            ]
          },
          "execution_count": 45,
          "metadata": {},
          "output_type": "execute_result"
        }
      ],
      "source": [
        "final_predict_constant = pd.Series([target_train_final.mean()]*len(target_test_final))\n",
        "final_predict_constant"
      ]
    },
    {
      "cell_type": "code",
      "execution_count": null,
      "metadata": {
        "id": "yYml9vJ4dCu3",
        "outputId": "67a4a752-3c68-47fa-8a30-7dacfe0d7152"
      },
      "outputs": [
        {
          "data": {
            "text/plain": [
              "0       84.864027\n",
              "1       84.864027\n",
              "2       84.864027\n",
              "3       84.864027\n",
              "4       84.864027\n",
              "          ...    \n",
              "4855    84.864027\n",
              "4856    84.864027\n",
              "4857    84.864027\n",
              "4858    84.864027\n",
              "4859    84.864027\n",
              "Length: 4860, dtype: float64"
            ]
          },
          "execution_count": 46,
          "metadata": {},
          "output_type": "execute_result"
        }
      ],
      "source": [
        "rougher_predict_constant = pd.Series([target_train_rougher.mean()]*len(target_test_rougher))\n",
        "rougher_predict_constant"
      ]
    },
    {
      "cell_type": "code",
      "execution_count": null,
      "metadata": {
        "scrolled": true,
        "id": "SSJfXfrvdCu3",
        "outputId": "ba12c01b-742e-4bd2-bf73-96b5fd0d8ccd"
      },
      "outputs": [
        {
          "data": {
            "text/plain": [
              "9.260753294636773"
            ]
          },
          "execution_count": 47,
          "metadata": {},
          "output_type": "execute_result"
        }
      ],
      "source": [
        "constant_smape_final=smape(target_test_final, final_predict_constant)\n",
        "constant_smape_final"
      ]
    },
    {
      "cell_type": "code",
      "execution_count": null,
      "metadata": {
        "id": "HdiXfrxodCu4",
        "outputId": "08d6e750-b041-45d8-f74c-15ea871750c4"
      },
      "outputs": [
        {
          "data": {
            "text/plain": [
              "6.108333121374734"
            ]
          },
          "execution_count": 48,
          "metadata": {},
          "output_type": "execute_result"
        }
      ],
      "source": [
        "constant_smape_rougher = smape(target_test_rougher, rougher_predict_constant)\n",
        "constant_smape_rougher"
      ]
    },
    {
      "cell_type": "code",
      "execution_count": null,
      "metadata": {
        "scrolled": true,
        "id": "SyfqzFIjdCvD",
        "outputId": "a25f2c25-0c9a-466d-9e34-e87011a9ca9b"
      },
      "outputs": [
        {
          "data": {
            "text/plain": [
              "8.472648251321264"
            ]
          },
          "execution_count": 49,
          "metadata": {},
          "output_type": "execute_result"
        }
      ],
      "source": [
        "final_smape(constant_smape_rougher, constant_smape_final)"
      ]
    },
    {
      "cell_type": "markdown",
      "metadata": {
        "id": "wn2viCUNdCvE"
      },
      "source": [
        "Итоговое sMAPE для константной модели больше итогового sMAPE дла модели случайного леса.\n",
        "\n",
        "Полученная модель адекватна"
      ]
    },
    {
      "cell_type": "markdown",
      "metadata": {
        "id": "8IFpuoFodCvE"
      },
      "source": [
        "## Общий вывод"
      ]
    },
    {
      "cell_type": "markdown",
      "metadata": {
        "id": "I4Bk78wodCvE"
      },
      "source": [
        "Распределения размеров гранул исходного сырья на обучающей и тестовой выборках практически не отличаются, и в целом повторяют друг друга\n",
        "\n",
        "Сырье имеет более широкое распределение суммарной концентрации металлов по сравнению с этапами очистки.\n",
        "\n",
        "Среднее значение концентрации с каждым этапом увеличивается.\n",
        "\n",
        "Для обучения молели из обучающей выборки были убраны все признаки, отсутствующие в тестовой выборке, предпологая что тестовая выборка это реальные данные, с которыми модель будет работать в производстве.\n",
        "\n",
        "Прототип модели предсказывает коэффициент восстановления золота из золотосодержащей руды с учетом важности не только финальный продукта, но и чернового концентрата.\n",
        "\n",
        "**Итоговые паметры модели**\n",
        "\n",
        "модель - RandomForestRegressor\n",
        "\n",
        "количество деревьев - 90\n",
        "\n",
        "глубина дерева - 1\n",
        "\n",
        "итоговое sMAPE - 7.53 %\n"
      ]
    }
  ],
  "metadata": {
    "ExecuteTimeLog": [
      {
        "duration": 1991,
        "start_time": "2023-06-28T06:59:00.634Z"
      },
      {
        "duration": 3529,
        "start_time": "2023-06-28T07:01:10.003Z"
      },
      {
        "duration": 39,
        "start_time": "2023-06-28T07:01:57.225Z"
      },
      {
        "duration": 24,
        "start_time": "2023-06-28T07:02:00.472Z"
      },
      {
        "duration": 28,
        "start_time": "2023-06-28T07:02:05.885Z"
      },
      {
        "duration": 20,
        "start_time": "2023-06-28T07:05:26.021Z"
      },
      {
        "duration": 19,
        "start_time": "2023-06-28T07:06:13.000Z"
      },
      {
        "duration": 21,
        "start_time": "2023-06-28T07:06:22.611Z"
      },
      {
        "duration": 17,
        "start_time": "2023-06-28T07:06:32.261Z"
      },
      {
        "duration": 9,
        "start_time": "2023-06-28T07:06:41.250Z"
      },
      {
        "duration": 12,
        "start_time": "2023-06-28T07:06:57.382Z"
      },
      {
        "duration": 146,
        "start_time": "2023-06-28T07:07:02.784Z"
      },
      {
        "duration": 29,
        "start_time": "2023-06-28T07:07:04.963Z"
      },
      {
        "duration": 109,
        "start_time": "2023-06-28T07:07:05.889Z"
      },
      {
        "duration": 8,
        "start_time": "2023-06-28T07:16:41.131Z"
      },
      {
        "duration": 29,
        "start_time": "2023-06-28T07:17:00.680Z"
      },
      {
        "duration": 31,
        "start_time": "2023-06-28T07:18:17.333Z"
      },
      {
        "duration": 18,
        "start_time": "2023-06-28T07:18:44.723Z"
      },
      {
        "duration": 6,
        "start_time": "2023-06-28T07:18:45.353Z"
      },
      {
        "duration": 12,
        "start_time": "2023-06-28T07:18:46.484Z"
      },
      {
        "duration": 210,
        "start_time": "2023-06-28T08:34:56.642Z"
      },
      {
        "duration": 128,
        "start_time": "2023-06-28T08:35:13.037Z"
      },
      {
        "duration": 8,
        "start_time": "2023-06-28T08:35:21.464Z"
      },
      {
        "duration": 5,
        "start_time": "2023-06-28T08:36:49.137Z"
      },
      {
        "duration": 134,
        "start_time": "2023-06-28T08:36:53.423Z"
      },
      {
        "duration": 4,
        "start_time": "2023-06-28T08:37:14.257Z"
      },
      {
        "duration": 15692,
        "start_time": "2023-06-28T08:37:16.460Z"
      },
      {
        "duration": 5,
        "start_time": "2023-06-28T08:37:44.424Z"
      },
      {
        "duration": 6,
        "start_time": "2023-06-28T08:37:56.527Z"
      },
      {
        "duration": 60,
        "start_time": "2023-06-28T08:38:28.424Z"
      },
      {
        "duration": 6,
        "start_time": "2023-06-28T08:38:33.078Z"
      },
      {
        "duration": 9,
        "start_time": "2023-06-28T08:38:34.343Z"
      },
      {
        "duration": 1820,
        "start_time": "2023-06-28T08:38:43.231Z"
      },
      {
        "duration": 3545,
        "start_time": "2023-06-28T08:38:45.053Z"
      },
      {
        "duration": 42,
        "start_time": "2023-06-28T08:38:48.600Z"
      },
      {
        "duration": 31,
        "start_time": "2023-06-28T08:38:48.644Z"
      },
      {
        "duration": 62,
        "start_time": "2023-06-28T08:38:48.678Z"
      },
      {
        "duration": 42,
        "start_time": "2023-06-28T08:38:48.742Z"
      },
      {
        "duration": 17,
        "start_time": "2023-06-28T08:38:48.786Z"
      },
      {
        "duration": 21,
        "start_time": "2023-06-28T08:38:48.805Z"
      },
      {
        "duration": 11,
        "start_time": "2023-06-28T08:38:48.828Z"
      },
      {
        "duration": 40,
        "start_time": "2023-06-28T08:38:48.841Z"
      },
      {
        "duration": 15,
        "start_time": "2023-06-28T08:38:48.883Z"
      },
      {
        "duration": 182,
        "start_time": "2023-06-28T08:38:48.901Z"
      },
      {
        "duration": 23,
        "start_time": "2023-06-28T08:38:49.086Z"
      },
      {
        "duration": 127,
        "start_time": "2023-06-28T08:38:49.113Z"
      },
      {
        "duration": 7,
        "start_time": "2023-06-28T08:38:49.243Z"
      },
      {
        "duration": 41,
        "start_time": "2023-06-28T08:38:49.252Z"
      },
      {
        "duration": 33,
        "start_time": "2023-06-28T08:38:49.294Z"
      },
      {
        "duration": 26,
        "start_time": "2023-06-28T08:38:49.329Z"
      },
      {
        "duration": 16865,
        "start_time": "2023-06-28T08:38:49.357Z"
      },
      {
        "duration": 4,
        "start_time": "2023-06-28T08:41:39.970Z"
      },
      {
        "duration": 1683,
        "start_time": "2023-06-28T08:41:59.136Z"
      },
      {
        "duration": 3323,
        "start_time": "2023-06-28T08:42:00.822Z"
      },
      {
        "duration": 41,
        "start_time": "2023-06-28T08:42:04.148Z"
      },
      {
        "duration": 24,
        "start_time": "2023-06-28T08:42:04.192Z"
      },
      {
        "duration": 50,
        "start_time": "2023-06-28T08:42:04.219Z"
      },
      {
        "duration": 36,
        "start_time": "2023-06-28T08:42:04.271Z"
      },
      {
        "duration": 15,
        "start_time": "2023-06-28T08:42:04.309Z"
      },
      {
        "duration": 30,
        "start_time": "2023-06-28T08:42:04.326Z"
      },
      {
        "duration": 11,
        "start_time": "2023-06-28T08:42:04.366Z"
      },
      {
        "duration": 11,
        "start_time": "2023-06-28T08:42:04.380Z"
      },
      {
        "duration": 22,
        "start_time": "2023-06-28T08:42:04.393Z"
      },
      {
        "duration": 158,
        "start_time": "2023-06-28T08:42:04.417Z"
      },
      {
        "duration": 23,
        "start_time": "2023-06-28T08:42:04.577Z"
      },
      {
        "duration": 121,
        "start_time": "2023-06-28T08:42:04.602Z"
      },
      {
        "duration": 8,
        "start_time": "2023-06-28T08:42:04.725Z"
      },
      {
        "duration": 12,
        "start_time": "2023-06-28T08:42:04.735Z"
      },
      {
        "duration": 24,
        "start_time": "2023-06-28T08:42:04.750Z"
      },
      {
        "duration": 22,
        "start_time": "2023-06-28T08:42:04.777Z"
      },
      {
        "duration": 15142,
        "start_time": "2023-06-28T08:42:04.801Z"
      },
      {
        "duration": 0,
        "start_time": "2023-06-28T08:48:30.253Z"
      },
      {
        "duration": 0,
        "start_time": "2023-06-28T08:48:30.254Z"
      },
      {
        "duration": 5,
        "start_time": "2023-06-28T08:48:42.069Z"
      },
      {
        "duration": 1615,
        "start_time": "2023-06-28T08:48:57.039Z"
      },
      {
        "duration": 3316,
        "start_time": "2023-06-28T08:48:58.657Z"
      },
      {
        "duration": 36,
        "start_time": "2023-06-28T08:49:01.975Z"
      },
      {
        "duration": 87,
        "start_time": "2023-06-28T08:49:02.013Z"
      },
      {
        "duration": 94,
        "start_time": "2023-06-28T08:49:02.102Z"
      },
      {
        "duration": 121,
        "start_time": "2023-06-28T08:49:02.198Z"
      },
      {
        "duration": 66,
        "start_time": "2023-06-28T08:49:02.322Z"
      },
      {
        "duration": 129,
        "start_time": "2023-06-28T08:49:02.391Z"
      },
      {
        "duration": 48,
        "start_time": "2023-06-28T08:49:02.522Z"
      },
      {
        "duration": 60,
        "start_time": "2023-06-28T08:49:02.571Z"
      },
      {
        "duration": 56,
        "start_time": "2023-06-28T08:49:02.633Z"
      },
      {
        "duration": 170,
        "start_time": "2023-06-28T08:49:02.691Z"
      },
      {
        "duration": 25,
        "start_time": "2023-06-28T08:49:02.867Z"
      },
      {
        "duration": 123,
        "start_time": "2023-06-28T08:49:02.895Z"
      },
      {
        "duration": 9,
        "start_time": "2023-06-28T08:49:03.019Z"
      },
      {
        "duration": 27,
        "start_time": "2023-06-28T08:49:03.029Z"
      },
      {
        "duration": 18,
        "start_time": "2023-06-28T08:49:03.058Z"
      },
      {
        "duration": 21,
        "start_time": "2023-06-28T08:49:03.078Z"
      },
      {
        "duration": 17463,
        "start_time": "2023-06-28T08:49:03.100Z"
      },
      {
        "duration": 4,
        "start_time": "2023-06-28T08:51:39.810Z"
      },
      {
        "duration": 1691,
        "start_time": "2023-06-28T08:51:55.053Z"
      },
      {
        "duration": 3314,
        "start_time": "2023-06-28T08:51:56.746Z"
      },
      {
        "duration": 50,
        "start_time": "2023-06-28T08:52:00.062Z"
      },
      {
        "duration": 29,
        "start_time": "2023-06-28T08:52:00.114Z"
      },
      {
        "duration": 87,
        "start_time": "2023-06-28T08:52:00.146Z"
      },
      {
        "duration": 54,
        "start_time": "2023-06-28T08:52:00.234Z"
      },
      {
        "duration": 38,
        "start_time": "2023-06-28T08:52:00.291Z"
      },
      {
        "duration": 76,
        "start_time": "2023-06-28T08:52:00.332Z"
      },
      {
        "duration": 37,
        "start_time": "2023-06-28T08:52:00.410Z"
      },
      {
        "duration": 70,
        "start_time": "2023-06-28T08:52:00.449Z"
      },
      {
        "duration": 54,
        "start_time": "2023-06-28T08:52:00.521Z"
      },
      {
        "duration": 174,
        "start_time": "2023-06-28T08:52:00.577Z"
      },
      {
        "duration": 30,
        "start_time": "2023-06-28T08:52:00.752Z"
      },
      {
        "duration": 184,
        "start_time": "2023-06-28T08:52:00.787Z"
      },
      {
        "duration": 7,
        "start_time": "2023-06-28T08:52:00.973Z"
      },
      {
        "duration": 36,
        "start_time": "2023-06-28T08:52:00.982Z"
      },
      {
        "duration": 158,
        "start_time": "2023-06-28T08:52:01.019Z"
      },
      {
        "duration": 83,
        "start_time": "2023-06-28T08:52:01.179Z"
      },
      {
        "duration": 1602,
        "start_time": "2023-06-28T08:56:24.513Z"
      },
      {
        "duration": 3291,
        "start_time": "2023-06-28T08:56:26.117Z"
      },
      {
        "duration": 35,
        "start_time": "2023-06-28T08:56:29.410Z"
      },
      {
        "duration": 26,
        "start_time": "2023-06-28T08:56:29.447Z"
      },
      {
        "duration": 43,
        "start_time": "2023-06-28T08:56:29.476Z"
      },
      {
        "duration": 25,
        "start_time": "2023-06-28T08:56:29.521Z"
      },
      {
        "duration": 28,
        "start_time": "2023-06-28T08:56:29.549Z"
      },
      {
        "duration": 18,
        "start_time": "2023-06-28T08:56:29.579Z"
      },
      {
        "duration": 11,
        "start_time": "2023-06-28T08:56:29.599Z"
      },
      {
        "duration": 10,
        "start_time": "2023-06-28T08:56:29.613Z"
      },
      {
        "duration": 44,
        "start_time": "2023-06-28T08:56:29.625Z"
      },
      {
        "duration": 159,
        "start_time": "2023-06-28T08:56:29.671Z"
      },
      {
        "duration": 35,
        "start_time": "2023-06-28T08:56:29.832Z"
      },
      {
        "duration": 119,
        "start_time": "2023-06-28T08:56:29.871Z"
      },
      {
        "duration": 7,
        "start_time": "2023-06-28T08:56:29.992Z"
      },
      {
        "duration": 95,
        "start_time": "2023-06-28T08:56:30.001Z"
      },
      {
        "duration": 91,
        "start_time": "2023-06-28T08:56:30.099Z"
      },
      {
        "duration": 45,
        "start_time": "2023-06-28T08:56:30.192Z"
      },
      {
        "duration": 59,
        "start_time": "2023-06-28T08:57:03.118Z"
      },
      {
        "duration": 3533,
        "start_time": "2023-06-28T08:57:13.929Z"
      },
      {
        "duration": 3142,
        "start_time": "2023-06-28T08:57:17.464Z"
      },
      {
        "duration": 36,
        "start_time": "2023-06-28T08:57:20.608Z"
      },
      {
        "duration": 31,
        "start_time": "2023-06-28T08:57:20.647Z"
      },
      {
        "duration": 72,
        "start_time": "2023-06-28T08:57:20.680Z"
      },
      {
        "duration": 58,
        "start_time": "2023-06-28T08:57:20.754Z"
      },
      {
        "duration": 33,
        "start_time": "2023-06-28T08:57:20.814Z"
      },
      {
        "duration": 51,
        "start_time": "2023-06-28T08:57:20.849Z"
      },
      {
        "duration": 33,
        "start_time": "2023-06-28T08:57:20.902Z"
      },
      {
        "duration": 31,
        "start_time": "2023-06-28T08:57:20.937Z"
      },
      {
        "duration": 37,
        "start_time": "2023-06-28T08:57:20.970Z"
      },
      {
        "duration": 161,
        "start_time": "2023-06-28T08:57:21.009Z"
      },
      {
        "duration": 22,
        "start_time": "2023-06-28T08:57:21.171Z"
      },
      {
        "duration": 118,
        "start_time": "2023-06-28T08:57:21.196Z"
      },
      {
        "duration": 7,
        "start_time": "2023-06-28T08:57:21.317Z"
      },
      {
        "duration": 36,
        "start_time": "2023-06-28T08:57:21.326Z"
      },
      {
        "duration": 27,
        "start_time": "2023-06-28T08:57:21.364Z"
      },
      {
        "duration": 17,
        "start_time": "2023-06-28T08:57:21.394Z"
      },
      {
        "duration": 57,
        "start_time": "2023-06-28T08:59:10.490Z"
      },
      {
        "duration": 1680,
        "start_time": "2023-06-28T08:59:17.415Z"
      },
      {
        "duration": 3519,
        "start_time": "2023-06-28T08:59:19.097Z"
      },
      {
        "duration": 46,
        "start_time": "2023-06-28T08:59:22.618Z"
      },
      {
        "duration": 26,
        "start_time": "2023-06-28T08:59:22.666Z"
      },
      {
        "duration": 36,
        "start_time": "2023-06-28T08:59:22.693Z"
      },
      {
        "duration": 33,
        "start_time": "2023-06-28T08:59:22.732Z"
      },
      {
        "duration": 15,
        "start_time": "2023-06-28T08:59:22.768Z"
      },
      {
        "duration": 38,
        "start_time": "2023-06-28T08:59:22.785Z"
      },
      {
        "duration": 18,
        "start_time": "2023-06-28T08:59:22.825Z"
      },
      {
        "duration": 10,
        "start_time": "2023-06-28T08:59:22.847Z"
      },
      {
        "duration": 44,
        "start_time": "2023-06-28T08:59:22.868Z"
      },
      {
        "duration": 133,
        "start_time": "2023-06-28T08:59:22.914Z"
      },
      {
        "duration": 30,
        "start_time": "2023-06-28T08:59:23.049Z"
      },
      {
        "duration": 120,
        "start_time": "2023-06-28T08:59:23.081Z"
      },
      {
        "duration": 8,
        "start_time": "2023-06-28T08:59:23.202Z"
      },
      {
        "duration": 25,
        "start_time": "2023-06-28T08:59:23.212Z"
      },
      {
        "duration": 20,
        "start_time": "2023-06-28T08:59:23.239Z"
      },
      {
        "duration": 26,
        "start_time": "2023-06-28T08:59:23.261Z"
      },
      {
        "duration": 163,
        "start_time": "2023-06-28T08:59:23.289Z"
      },
      {
        "duration": 0,
        "start_time": "2023-06-28T08:59:23.454Z"
      },
      {
        "duration": 4,
        "start_time": "2023-06-28T08:59:55.170Z"
      },
      {
        "duration": 1635,
        "start_time": "2023-06-28T09:00:35.007Z"
      },
      {
        "duration": 3211,
        "start_time": "2023-06-28T09:00:36.644Z"
      },
      {
        "duration": 36,
        "start_time": "2023-06-28T09:00:39.857Z"
      },
      {
        "duration": 23,
        "start_time": "2023-06-28T09:00:39.895Z"
      },
      {
        "duration": 31,
        "start_time": "2023-06-28T09:00:39.919Z"
      },
      {
        "duration": 20,
        "start_time": "2023-06-28T09:00:39.966Z"
      },
      {
        "duration": 14,
        "start_time": "2023-06-28T09:00:39.988Z"
      },
      {
        "duration": 51,
        "start_time": "2023-06-28T09:00:40.004Z"
      },
      {
        "duration": 17,
        "start_time": "2023-06-28T09:00:40.057Z"
      },
      {
        "duration": 8,
        "start_time": "2023-06-28T09:00:40.076Z"
      },
      {
        "duration": 23,
        "start_time": "2023-06-28T09:00:40.086Z"
      },
      {
        "duration": 167,
        "start_time": "2023-06-28T09:00:40.111Z"
      },
      {
        "duration": 22,
        "start_time": "2023-06-28T09:00:40.279Z"
      },
      {
        "duration": 130,
        "start_time": "2023-06-28T09:00:40.302Z"
      },
      {
        "duration": 7,
        "start_time": "2023-06-28T09:00:40.434Z"
      },
      {
        "duration": 15,
        "start_time": "2023-06-28T09:00:40.443Z"
      },
      {
        "duration": 15,
        "start_time": "2023-06-28T09:00:40.467Z"
      },
      {
        "duration": 5,
        "start_time": "2023-06-28T09:00:40.485Z"
      },
      {
        "duration": 1921,
        "start_time": "2023-06-28T09:01:22.544Z"
      },
      {
        "duration": 3618,
        "start_time": "2023-06-28T09:01:24.469Z"
      },
      {
        "duration": 40,
        "start_time": "2023-06-28T09:01:28.089Z"
      },
      {
        "duration": 32,
        "start_time": "2023-06-28T09:01:28.131Z"
      },
      {
        "duration": 78,
        "start_time": "2023-06-28T09:01:28.165Z"
      },
      {
        "duration": 40,
        "start_time": "2023-06-28T09:01:28.245Z"
      },
      {
        "duration": 15,
        "start_time": "2023-06-28T09:01:28.287Z"
      },
      {
        "duration": 19,
        "start_time": "2023-06-28T09:01:28.304Z"
      },
      {
        "duration": 9,
        "start_time": "2023-06-28T09:01:28.325Z"
      },
      {
        "duration": 32,
        "start_time": "2023-06-28T09:01:28.336Z"
      },
      {
        "duration": 15,
        "start_time": "2023-06-28T09:01:28.370Z"
      },
      {
        "duration": 163,
        "start_time": "2023-06-28T09:01:28.387Z"
      },
      {
        "duration": 35,
        "start_time": "2023-06-28T09:01:28.552Z"
      },
      {
        "duration": 126,
        "start_time": "2023-06-28T09:01:28.590Z"
      },
      {
        "duration": 10,
        "start_time": "2023-06-28T09:01:28.718Z"
      },
      {
        "duration": 27,
        "start_time": "2023-06-28T09:01:28.730Z"
      },
      {
        "duration": 40,
        "start_time": "2023-06-28T09:01:28.759Z"
      },
      {
        "duration": 20,
        "start_time": "2023-06-28T09:01:28.801Z"
      },
      {
        "duration": 7,
        "start_time": "2023-06-28T09:01:28.823Z"
      },
      {
        "duration": 10,
        "start_time": "2023-06-28T09:01:28.832Z"
      },
      {
        "duration": 10,
        "start_time": "2023-06-28T09:01:28.844Z"
      },
      {
        "duration": 66,
        "start_time": "2023-06-28T09:02:12.348Z"
      },
      {
        "duration": 1665,
        "start_time": "2023-06-28T09:02:26.508Z"
      },
      {
        "duration": 3295,
        "start_time": "2023-06-28T09:02:28.175Z"
      },
      {
        "duration": 47,
        "start_time": "2023-06-28T09:02:31.473Z"
      },
      {
        "duration": 57,
        "start_time": "2023-06-28T09:02:31.522Z"
      },
      {
        "duration": 72,
        "start_time": "2023-06-28T09:02:31.581Z"
      },
      {
        "duration": 87,
        "start_time": "2023-06-28T09:02:31.655Z"
      },
      {
        "duration": 43,
        "start_time": "2023-06-28T09:02:31.744Z"
      },
      {
        "duration": 124,
        "start_time": "2023-06-28T09:02:31.789Z"
      },
      {
        "duration": 32,
        "start_time": "2023-06-28T09:02:31.915Z"
      },
      {
        "duration": 48,
        "start_time": "2023-06-28T09:02:31.948Z"
      },
      {
        "duration": 27,
        "start_time": "2023-06-28T09:02:31.999Z"
      },
      {
        "duration": 179,
        "start_time": "2023-06-28T09:02:32.027Z"
      },
      {
        "duration": 25,
        "start_time": "2023-06-28T09:02:32.210Z"
      },
      {
        "duration": 158,
        "start_time": "2023-06-28T09:02:32.237Z"
      },
      {
        "duration": 11,
        "start_time": "2023-06-28T09:02:32.401Z"
      },
      {
        "duration": 26,
        "start_time": "2023-06-28T09:02:32.414Z"
      },
      {
        "duration": 38,
        "start_time": "2023-06-28T09:02:32.442Z"
      },
      {
        "duration": 25,
        "start_time": "2023-06-28T09:02:32.482Z"
      },
      {
        "duration": 141,
        "start_time": "2023-06-28T09:09:46.356Z"
      },
      {
        "duration": 127,
        "start_time": "2023-06-28T09:09:57.354Z"
      },
      {
        "duration": 5,
        "start_time": "2023-06-28T09:10:22.062Z"
      },
      {
        "duration": 1672,
        "start_time": "2023-06-28T09:10:31.550Z"
      },
      {
        "duration": 3275,
        "start_time": "2023-06-28T09:10:33.226Z"
      },
      {
        "duration": 36,
        "start_time": "2023-06-28T09:10:36.504Z"
      },
      {
        "duration": 26,
        "start_time": "2023-06-28T09:10:36.543Z"
      },
      {
        "duration": 39,
        "start_time": "2023-06-28T09:10:36.571Z"
      },
      {
        "duration": 35,
        "start_time": "2023-06-28T09:10:36.612Z"
      },
      {
        "duration": 14,
        "start_time": "2023-06-28T09:10:36.648Z"
      },
      {
        "duration": 31,
        "start_time": "2023-06-28T09:10:36.665Z"
      },
      {
        "duration": 10,
        "start_time": "2023-06-28T09:10:36.698Z"
      },
      {
        "duration": 25,
        "start_time": "2023-06-28T09:10:36.711Z"
      },
      {
        "duration": 19,
        "start_time": "2023-06-28T09:10:36.738Z"
      },
      {
        "duration": 141,
        "start_time": "2023-06-28T09:10:36.759Z"
      },
      {
        "duration": 23,
        "start_time": "2023-06-28T09:10:36.902Z"
      },
      {
        "duration": 137,
        "start_time": "2023-06-28T09:10:36.928Z"
      },
      {
        "duration": 8,
        "start_time": "2023-06-28T09:10:37.067Z"
      },
      {
        "duration": 12,
        "start_time": "2023-06-28T09:10:37.076Z"
      },
      {
        "duration": 16,
        "start_time": "2023-06-28T09:10:37.089Z"
      },
      {
        "duration": 10,
        "start_time": "2023-06-28T09:10:37.106Z"
      },
      {
        "duration": 138,
        "start_time": "2023-06-28T09:10:37.118Z"
      },
      {
        "duration": 0,
        "start_time": "2023-06-28T09:10:37.258Z"
      },
      {
        "duration": 0,
        "start_time": "2023-06-28T09:10:37.259Z"
      },
      {
        "duration": 28,
        "start_time": "2023-06-28T09:11:32.155Z"
      },
      {
        "duration": 24,
        "start_time": "2023-06-28T09:11:38.204Z"
      },
      {
        "duration": 5,
        "start_time": "2023-06-28T09:12:26.345Z"
      },
      {
        "duration": 10,
        "start_time": "2023-06-28T09:13:38.626Z"
      },
      {
        "duration": 1582,
        "start_time": "2023-06-28T09:13:47.637Z"
      },
      {
        "duration": 3156,
        "start_time": "2023-06-28T09:13:49.221Z"
      },
      {
        "duration": 27,
        "start_time": "2023-06-28T09:13:52.379Z"
      },
      {
        "duration": 25,
        "start_time": "2023-06-28T09:13:52.408Z"
      },
      {
        "duration": 29,
        "start_time": "2023-06-28T09:13:52.436Z"
      },
      {
        "duration": 27,
        "start_time": "2023-06-28T09:13:52.467Z"
      },
      {
        "duration": 35,
        "start_time": "2023-06-28T09:13:52.496Z"
      },
      {
        "duration": 26,
        "start_time": "2023-06-28T09:13:52.533Z"
      },
      {
        "duration": 13,
        "start_time": "2023-06-28T09:13:52.561Z"
      },
      {
        "duration": 15,
        "start_time": "2023-06-28T09:13:52.577Z"
      },
      {
        "duration": 37,
        "start_time": "2023-06-28T09:13:52.594Z"
      },
      {
        "duration": 133,
        "start_time": "2023-06-28T09:13:52.633Z"
      },
      {
        "duration": 23,
        "start_time": "2023-06-28T09:13:52.768Z"
      },
      {
        "duration": 122,
        "start_time": "2023-06-28T09:13:52.795Z"
      },
      {
        "duration": 8,
        "start_time": "2023-06-28T09:13:52.919Z"
      },
      {
        "duration": 24,
        "start_time": "2023-06-28T09:13:52.929Z"
      },
      {
        "duration": 43,
        "start_time": "2023-06-28T09:13:52.954Z"
      },
      {
        "duration": 23,
        "start_time": "2023-06-28T09:13:52.999Z"
      },
      {
        "duration": 56,
        "start_time": "2023-06-28T09:14:28.131Z"
      },
      {
        "duration": 1628,
        "start_time": "2023-06-28T09:14:36.719Z"
      },
      {
        "duration": 3229,
        "start_time": "2023-06-28T09:14:38.350Z"
      },
      {
        "duration": 28,
        "start_time": "2023-06-28T09:14:41.581Z"
      },
      {
        "duration": 26,
        "start_time": "2023-06-28T09:14:41.611Z"
      },
      {
        "duration": 74,
        "start_time": "2023-06-28T09:14:41.640Z"
      },
      {
        "duration": 31,
        "start_time": "2023-06-28T09:14:41.716Z"
      },
      {
        "duration": 16,
        "start_time": "2023-06-28T09:14:41.749Z"
      },
      {
        "duration": 21,
        "start_time": "2023-06-28T09:14:41.767Z"
      },
      {
        "duration": 11,
        "start_time": "2023-06-28T09:14:41.790Z"
      },
      {
        "duration": 41,
        "start_time": "2023-06-28T09:14:41.803Z"
      },
      {
        "duration": 17,
        "start_time": "2023-06-28T09:14:41.846Z"
      },
      {
        "duration": 150,
        "start_time": "2023-06-28T09:14:41.865Z"
      },
      {
        "duration": 21,
        "start_time": "2023-06-28T09:14:42.017Z"
      },
      {
        "duration": 113,
        "start_time": "2023-06-28T09:14:42.041Z"
      },
      {
        "duration": 16,
        "start_time": "2023-06-28T09:14:42.155Z"
      },
      {
        "duration": 9,
        "start_time": "2023-06-28T09:14:42.172Z"
      },
      {
        "duration": 18,
        "start_time": "2023-06-28T09:14:42.182Z"
      },
      {
        "duration": 27,
        "start_time": "2023-06-28T09:14:42.202Z"
      },
      {
        "duration": 1670,
        "start_time": "2023-06-28T09:15:18.160Z"
      },
      {
        "duration": 3187,
        "start_time": "2023-06-28T09:15:19.832Z"
      },
      {
        "duration": 29,
        "start_time": "2023-06-28T09:15:23.021Z"
      },
      {
        "duration": 47,
        "start_time": "2023-06-28T09:15:23.053Z"
      },
      {
        "duration": 71,
        "start_time": "2023-06-28T09:15:23.103Z"
      },
      {
        "duration": 75,
        "start_time": "2023-06-28T09:15:23.176Z"
      },
      {
        "duration": 51,
        "start_time": "2023-06-28T09:15:23.253Z"
      },
      {
        "duration": 55,
        "start_time": "2023-06-28T09:15:23.306Z"
      },
      {
        "duration": 38,
        "start_time": "2023-06-28T09:15:23.363Z"
      },
      {
        "duration": 47,
        "start_time": "2023-06-28T09:15:23.403Z"
      },
      {
        "duration": 42,
        "start_time": "2023-06-28T09:15:23.453Z"
      },
      {
        "duration": 155,
        "start_time": "2023-06-28T09:15:23.497Z"
      },
      {
        "duration": 29,
        "start_time": "2023-06-28T09:15:23.654Z"
      },
      {
        "duration": 114,
        "start_time": "2023-06-28T09:15:23.686Z"
      },
      {
        "duration": 7,
        "start_time": "2023-06-28T09:15:23.802Z"
      },
      {
        "duration": 20,
        "start_time": "2023-06-28T09:15:23.811Z"
      },
      {
        "duration": 39,
        "start_time": "2023-06-28T09:15:23.833Z"
      },
      {
        "duration": 15,
        "start_time": "2023-06-28T09:15:23.873Z"
      },
      {
        "duration": 1754,
        "start_time": "2023-06-28T09:15:57.642Z"
      },
      {
        "duration": 3380,
        "start_time": "2023-06-28T09:15:59.399Z"
      },
      {
        "duration": 29,
        "start_time": "2023-06-28T09:16:02.781Z"
      },
      {
        "duration": 51,
        "start_time": "2023-06-28T09:16:02.812Z"
      },
      {
        "duration": 40,
        "start_time": "2023-06-28T09:16:02.865Z"
      },
      {
        "duration": 35,
        "start_time": "2023-06-28T09:16:02.908Z"
      },
      {
        "duration": 47,
        "start_time": "2023-06-28T09:16:02.945Z"
      },
      {
        "duration": 39,
        "start_time": "2023-06-28T09:16:02.994Z"
      },
      {
        "duration": 30,
        "start_time": "2023-06-28T09:16:03.036Z"
      },
      {
        "duration": 8,
        "start_time": "2023-06-28T09:16:03.069Z"
      },
      {
        "duration": 34,
        "start_time": "2023-06-28T09:16:03.078Z"
      },
      {
        "duration": 154,
        "start_time": "2023-06-28T09:16:03.114Z"
      },
      {
        "duration": 23,
        "start_time": "2023-06-28T09:16:03.270Z"
      },
      {
        "duration": 150,
        "start_time": "2023-06-28T09:16:03.295Z"
      },
      {
        "duration": 12,
        "start_time": "2023-06-28T09:16:03.447Z"
      },
      {
        "duration": 26,
        "start_time": "2023-06-28T09:16:03.462Z"
      },
      {
        "duration": 34,
        "start_time": "2023-06-28T09:16:03.490Z"
      },
      {
        "duration": 32,
        "start_time": "2023-06-28T09:16:03.526Z"
      },
      {
        "duration": 13059,
        "start_time": "2023-06-28T09:16:03.561Z"
      },
      {
        "duration": 3,
        "start_time": "2023-06-28T09:16:16.622Z"
      },
      {
        "duration": 19,
        "start_time": "2023-06-28T09:16:16.627Z"
      },
      {
        "duration": 12951,
        "start_time": "2023-06-28T09:16:34.642Z"
      },
      {
        "duration": 4,
        "start_time": "2023-06-28T09:17:06.455Z"
      },
      {
        "duration": 59,
        "start_time": "2023-06-28T09:17:41.721Z"
      },
      {
        "duration": 1736,
        "start_time": "2023-06-28T09:17:49.041Z"
      },
      {
        "duration": 3405,
        "start_time": "2023-06-28T09:17:50.780Z"
      },
      {
        "duration": 29,
        "start_time": "2023-06-28T09:17:54.187Z"
      },
      {
        "duration": 36,
        "start_time": "2023-06-28T09:17:54.218Z"
      },
      {
        "duration": 44,
        "start_time": "2023-06-28T09:17:54.256Z"
      },
      {
        "duration": 25,
        "start_time": "2023-06-28T09:17:54.302Z"
      },
      {
        "duration": 20,
        "start_time": "2023-06-28T09:17:54.329Z"
      },
      {
        "duration": 20,
        "start_time": "2023-06-28T09:17:54.351Z"
      },
      {
        "duration": 10,
        "start_time": "2023-06-28T09:17:54.373Z"
      },
      {
        "duration": 8,
        "start_time": "2023-06-28T09:17:54.385Z"
      },
      {
        "duration": 30,
        "start_time": "2023-06-28T09:17:54.394Z"
      },
      {
        "duration": 162,
        "start_time": "2023-06-28T09:17:54.426Z"
      },
      {
        "duration": 33,
        "start_time": "2023-06-28T09:17:54.590Z"
      },
      {
        "duration": 153,
        "start_time": "2023-06-28T09:17:54.627Z"
      },
      {
        "duration": 8,
        "start_time": "2023-06-28T09:17:54.782Z"
      },
      {
        "duration": 24,
        "start_time": "2023-06-28T09:17:54.792Z"
      },
      {
        "duration": 24,
        "start_time": "2023-06-28T09:17:54.818Z"
      },
      {
        "duration": 13,
        "start_time": "2023-06-28T09:17:54.845Z"
      },
      {
        "duration": 54,
        "start_time": "2023-06-28T09:19:11.573Z"
      },
      {
        "duration": 1775,
        "start_time": "2023-06-28T09:19:19.547Z"
      },
      {
        "duration": 3279,
        "start_time": "2023-06-28T09:19:21.324Z"
      },
      {
        "duration": 30,
        "start_time": "2023-06-28T09:19:24.606Z"
      },
      {
        "duration": 36,
        "start_time": "2023-06-28T09:19:24.638Z"
      },
      {
        "duration": 32,
        "start_time": "2023-06-28T09:19:24.677Z"
      },
      {
        "duration": 29,
        "start_time": "2023-06-28T09:19:24.711Z"
      },
      {
        "duration": 14,
        "start_time": "2023-06-28T09:19:24.742Z"
      },
      {
        "duration": 30,
        "start_time": "2023-06-28T09:19:24.758Z"
      },
      {
        "duration": 19,
        "start_time": "2023-06-28T09:19:24.790Z"
      },
      {
        "duration": 11,
        "start_time": "2023-06-28T09:19:24.812Z"
      },
      {
        "duration": 33,
        "start_time": "2023-06-28T09:19:24.826Z"
      },
      {
        "duration": 152,
        "start_time": "2023-06-28T09:19:24.861Z"
      },
      {
        "duration": 34,
        "start_time": "2023-06-28T09:19:25.016Z"
      },
      {
        "duration": 143,
        "start_time": "2023-06-28T09:19:25.054Z"
      },
      {
        "duration": 7,
        "start_time": "2023-06-28T09:19:25.199Z"
      },
      {
        "duration": 56,
        "start_time": "2023-06-28T09:19:25.208Z"
      },
      {
        "duration": 1157,
        "start_time": "2023-06-28T09:19:25.266Z"
      },
      {
        "duration": 140,
        "start_time": "2023-06-28T09:19:26.426Z"
      },
      {
        "duration": 15927,
        "start_time": "2023-06-28T09:19:26.568Z"
      },
      {
        "duration": 3,
        "start_time": "2023-06-28T09:19:42.497Z"
      },
      {
        "duration": 29,
        "start_time": "2023-06-28T09:19:42.501Z"
      },
      {
        "duration": 14455,
        "start_time": "2023-06-28T09:21:10.965Z"
      },
      {
        "duration": 4,
        "start_time": "2023-06-28T09:23:13.726Z"
      },
      {
        "duration": 62,
        "start_time": "2023-06-28T09:23:34.563Z"
      },
      {
        "duration": 1804,
        "start_time": "2023-06-28T09:23:41.426Z"
      },
      {
        "duration": 3327,
        "start_time": "2023-06-28T09:23:43.233Z"
      },
      {
        "duration": 27,
        "start_time": "2023-06-28T09:23:46.562Z"
      },
      {
        "duration": 23,
        "start_time": "2023-06-28T09:23:46.591Z"
      },
      {
        "duration": 59,
        "start_time": "2023-06-28T09:23:46.616Z"
      },
      {
        "duration": 35,
        "start_time": "2023-06-28T09:23:46.678Z"
      },
      {
        "duration": 32,
        "start_time": "2023-06-28T09:23:46.716Z"
      },
      {
        "duration": 78,
        "start_time": "2023-06-28T09:23:46.750Z"
      },
      {
        "duration": 29,
        "start_time": "2023-06-28T09:23:46.831Z"
      },
      {
        "duration": 13,
        "start_time": "2023-06-28T09:23:46.863Z"
      },
      {
        "duration": 78,
        "start_time": "2023-06-28T09:23:46.879Z"
      },
      {
        "duration": 157,
        "start_time": "2023-06-28T09:23:46.959Z"
      },
      {
        "duration": 22,
        "start_time": "2023-06-28T09:23:47.117Z"
      },
      {
        "duration": 127,
        "start_time": "2023-06-28T09:23:47.141Z"
      },
      {
        "duration": 9,
        "start_time": "2023-06-28T09:23:47.271Z"
      },
      {
        "duration": 13,
        "start_time": "2023-06-28T09:23:47.282Z"
      },
      {
        "duration": 15,
        "start_time": "2023-06-28T09:23:47.297Z"
      },
      {
        "duration": 9,
        "start_time": "2023-06-28T09:23:47.314Z"
      },
      {
        "duration": 15720,
        "start_time": "2023-06-28T09:23:47.325Z"
      },
      {
        "duration": 3,
        "start_time": "2023-06-28T09:24:03.046Z"
      },
      {
        "duration": 1389,
        "start_time": "2023-06-28T09:24:03.051Z"
      },
      {
        "duration": 10,
        "start_time": "2023-06-28T09:27:40.822Z"
      },
      {
        "duration": 124,
        "start_time": "2023-06-28T09:28:43.306Z"
      },
      {
        "duration": 4,
        "start_time": "2023-06-28T09:30:04.387Z"
      },
      {
        "duration": 123,
        "start_time": "2023-06-28T09:30:11.065Z"
      },
      {
        "duration": 4,
        "start_time": "2023-06-28T09:30:29.316Z"
      },
      {
        "duration": 274,
        "start_time": "2023-06-28T09:30:32.238Z"
      },
      {
        "duration": 6,
        "start_time": "2023-06-28T09:31:08.351Z"
      },
      {
        "duration": 4840,
        "start_time": "2023-06-28T09:31:09.839Z"
      },
      {
        "duration": 4,
        "start_time": "2023-06-28T09:31:38.894Z"
      },
      {
        "duration": 19,
        "start_time": "2023-06-28T09:31:40.685Z"
      },
      {
        "duration": 22,
        "start_time": "2023-06-28T09:32:42.534Z"
      },
      {
        "duration": 2540,
        "start_time": "2023-06-28T12:00:08.089Z"
      },
      {
        "duration": 4095,
        "start_time": "2023-06-28T12:00:10.631Z"
      },
      {
        "duration": 25,
        "start_time": "2023-06-28T12:00:14.728Z"
      },
      {
        "duration": 23,
        "start_time": "2023-06-28T12:00:14.755Z"
      },
      {
        "duration": 18,
        "start_time": "2023-06-28T12:00:14.780Z"
      },
      {
        "duration": 27,
        "start_time": "2023-06-28T12:00:14.800Z"
      },
      {
        "duration": 11,
        "start_time": "2023-06-28T12:00:14.828Z"
      },
      {
        "duration": 24,
        "start_time": "2023-06-28T12:00:14.863Z"
      },
      {
        "duration": 14,
        "start_time": "2023-06-28T12:00:14.888Z"
      },
      {
        "duration": 26,
        "start_time": "2023-06-28T12:00:14.904Z"
      },
      {
        "duration": 12,
        "start_time": "2023-06-28T12:00:14.933Z"
      },
      {
        "duration": 126,
        "start_time": "2023-06-28T12:00:14.947Z"
      },
      {
        "duration": 20,
        "start_time": "2023-06-28T12:00:15.076Z"
      },
      {
        "duration": 129,
        "start_time": "2023-06-28T12:00:15.099Z"
      },
      {
        "duration": 7,
        "start_time": "2023-06-28T12:00:15.229Z"
      },
      {
        "duration": 20,
        "start_time": "2023-06-28T12:00:15.237Z"
      },
      {
        "duration": 28,
        "start_time": "2023-06-28T12:00:15.258Z"
      },
      {
        "duration": 25,
        "start_time": "2023-06-28T12:00:15.288Z"
      },
      {
        "duration": 148,
        "start_time": "2023-06-28T12:00:15.315Z"
      },
      {
        "duration": 0,
        "start_time": "2023-06-28T12:00:15.465Z"
      },
      {
        "duration": 0,
        "start_time": "2023-06-28T12:00:15.466Z"
      },
      {
        "duration": 7573,
        "start_time": "2023-06-28T12:00:40.279Z"
      },
      {
        "duration": 4,
        "start_time": "2023-06-28T12:00:59.917Z"
      },
      {
        "duration": 8360,
        "start_time": "2023-06-28T12:01:04.552Z"
      },
      {
        "duration": 18,
        "start_time": "2023-06-28T12:07:05.374Z"
      },
      {
        "duration": 4751,
        "start_time": "2023-06-28T12:07:09.776Z"
      },
      {
        "duration": 1943,
        "start_time": "2023-06-28T12:07:27.602Z"
      },
      {
        "duration": 2003,
        "start_time": "2023-06-28T12:08:12.320Z"
      },
      {
        "duration": 2415,
        "start_time": "2023-06-28T12:11:31.458Z"
      },
      {
        "duration": 4,
        "start_time": "2023-06-28T12:40:53.849Z"
      },
      {
        "duration": 1781,
        "start_time": "2023-06-28T12:40:57.521Z"
      },
      {
        "duration": 3,
        "start_time": "2023-06-28T12:42:10.463Z"
      },
      {
        "duration": 6,
        "start_time": "2023-06-28T12:42:22.830Z"
      },
      {
        "duration": 1718,
        "start_time": "2023-06-28T12:43:21.153Z"
      },
      {
        "duration": 5,
        "start_time": "2023-06-28T12:46:32.620Z"
      },
      {
        "duration": 10877,
        "start_time": "2023-06-28T12:47:51.692Z"
      },
      {
        "duration": 115,
        "start_time": "2023-06-28T12:48:22.228Z"
      },
      {
        "duration": 198,
        "start_time": "2023-06-28T12:48:33.893Z"
      },
      {
        "duration": 3,
        "start_time": "2023-06-28T12:48:41.351Z"
      },
      {
        "duration": 226,
        "start_time": "2023-06-28T12:48:43.321Z"
      },
      {
        "duration": 341,
        "start_time": "2023-06-28T12:49:08.916Z"
      },
      {
        "duration": 341,
        "start_time": "2023-06-28T12:51:01.109Z"
      },
      {
        "duration": 4,
        "start_time": "2023-06-28T12:51:13.328Z"
      },
      {
        "duration": 124,
        "start_time": "2023-06-28T12:51:14.346Z"
      },
      {
        "duration": 976,
        "start_time": "2023-06-28T12:51:42.416Z"
      },
      {
        "duration": 116,
        "start_time": "2023-06-28T12:55:09.610Z"
      },
      {
        "duration": 4,
        "start_time": "2023-06-28T12:55:13.130Z"
      },
      {
        "duration": 327,
        "start_time": "2023-06-28T12:55:29.884Z"
      },
      {
        "duration": 6,
        "start_time": "2023-06-28T12:55:39.064Z"
      },
      {
        "duration": 5,
        "start_time": "2023-06-28T12:55:49.388Z"
      },
      {
        "duration": 328,
        "start_time": "2023-06-28T12:56:35.361Z"
      },
      {
        "duration": 4,
        "start_time": "2023-06-28T12:56:45.688Z"
      },
      {
        "duration": 107,
        "start_time": "2023-06-28T12:56:46.550Z"
      },
      {
        "duration": 130,
        "start_time": "2023-06-28T12:58:02.461Z"
      },
      {
        "duration": 3,
        "start_time": "2023-06-28T12:58:06.198Z"
      },
      {
        "duration": 283,
        "start_time": "2023-06-28T12:58:07.790Z"
      },
      {
        "duration": 1207,
        "start_time": "2023-06-28T13:00:20.747Z"
      },
      {
        "duration": 8,
        "start_time": "2023-06-28T13:04:00.105Z"
      },
      {
        "duration": 13,
        "start_time": "2023-06-28T13:05:01.428Z"
      },
      {
        "duration": 7,
        "start_time": "2023-06-28T13:05:11.745Z"
      },
      {
        "duration": 8,
        "start_time": "2023-06-28T13:06:27.722Z"
      },
      {
        "duration": 8,
        "start_time": "2023-06-28T13:06:54.504Z"
      },
      {
        "duration": 9,
        "start_time": "2023-06-28T13:08:07.434Z"
      },
      {
        "duration": 10,
        "start_time": "2023-06-28T13:08:34.899Z"
      },
      {
        "duration": 11,
        "start_time": "2023-06-28T13:09:49.266Z"
      },
      {
        "duration": 8,
        "start_time": "2023-06-28T13:10:12.456Z"
      },
      {
        "duration": 47,
        "start_time": "2023-06-29T11:03:06.816Z"
      },
      {
        "duration": 1747,
        "start_time": "2023-06-29T11:03:13.292Z"
      },
      {
        "duration": 2421,
        "start_time": "2023-06-29T11:03:15.042Z"
      },
      {
        "duration": 26,
        "start_time": "2023-06-29T11:03:17.465Z"
      },
      {
        "duration": 52,
        "start_time": "2023-06-29T11:03:17.493Z"
      },
      {
        "duration": 25,
        "start_time": "2023-06-29T11:03:17.546Z"
      },
      {
        "duration": 24,
        "start_time": "2023-06-29T11:03:17.572Z"
      },
      {
        "duration": 15,
        "start_time": "2023-06-29T11:03:17.598Z"
      },
      {
        "duration": 18,
        "start_time": "2023-06-29T11:03:17.615Z"
      },
      {
        "duration": 9,
        "start_time": "2023-06-29T11:03:17.634Z"
      },
      {
        "duration": 6,
        "start_time": "2023-06-29T11:03:17.646Z"
      },
      {
        "duration": 15,
        "start_time": "2023-06-29T11:03:17.654Z"
      },
      {
        "duration": 156,
        "start_time": "2023-06-29T11:03:17.671Z"
      },
      {
        "duration": 21,
        "start_time": "2023-06-29T11:03:17.828Z"
      },
      {
        "duration": 117,
        "start_time": "2023-06-29T11:03:17.851Z"
      },
      {
        "duration": 8,
        "start_time": "2023-06-29T11:03:17.970Z"
      },
      {
        "duration": 25,
        "start_time": "2023-06-29T11:03:17.979Z"
      },
      {
        "duration": 21,
        "start_time": "2023-06-29T11:03:18.006Z"
      },
      {
        "duration": 6,
        "start_time": "2023-06-29T11:03:18.029Z"
      },
      {
        "duration": 279,
        "start_time": "2023-06-29T11:03:18.036Z"
      },
      {
        "duration": 5,
        "start_time": "2023-06-29T11:03:18.317Z"
      },
      {
        "duration": 4,
        "start_time": "2023-06-29T11:08:01.810Z"
      },
      {
        "duration": 4,
        "start_time": "2023-06-29T11:08:11.888Z"
      },
      {
        "duration": 3,
        "start_time": "2023-06-29T11:10:12.277Z"
      },
      {
        "duration": 5,
        "start_time": "2023-06-29T11:10:13.669Z"
      },
      {
        "duration": 4,
        "start_time": "2023-06-29T11:12:59.801Z"
      },
      {
        "duration": 827,
        "start_time": "2023-06-29T11:14:06.757Z"
      },
      {
        "duration": 3,
        "start_time": "2023-06-29T11:24:07.835Z"
      },
      {
        "duration": 249,
        "start_time": "2023-06-29T11:26:20.567Z"
      },
      {
        "duration": 5,
        "start_time": "2023-06-29T11:33:50.518Z"
      },
      {
        "duration": 7,
        "start_time": "2023-06-29T11:35:29.755Z"
      },
      {
        "duration": 14,
        "start_time": "2023-06-29T12:06:35.821Z"
      },
      {
        "duration": 11,
        "start_time": "2023-06-29T12:07:37.888Z"
      },
      {
        "duration": 7,
        "start_time": "2023-06-29T12:07:38.703Z"
      },
      {
        "duration": 12,
        "start_time": "2023-06-29T12:07:39.234Z"
      },
      {
        "duration": 13,
        "start_time": "2023-06-29T12:07:40.992Z"
      },
      {
        "duration": 3981,
        "start_time": "2023-06-29T12:21:00.449Z"
      },
      {
        "duration": 3481,
        "start_time": "2023-06-29T12:21:13.103Z"
      },
      {
        "duration": 21,
        "start_time": "2023-06-29T12:26:40.772Z"
      },
      {
        "duration": 2335,
        "start_time": "2023-06-29T12:27:00.436Z"
      },
      {
        "duration": 811,
        "start_time": "2023-06-29T12:27:02.774Z"
      },
      {
        "duration": 35,
        "start_time": "2023-06-29T12:27:03.587Z"
      },
      {
        "duration": 44,
        "start_time": "2023-06-29T12:27:03.624Z"
      },
      {
        "duration": 55,
        "start_time": "2023-06-29T12:27:03.670Z"
      },
      {
        "duration": 36,
        "start_time": "2023-06-29T12:27:03.729Z"
      },
      {
        "duration": 19,
        "start_time": "2023-06-29T12:27:03.771Z"
      },
      {
        "duration": 29,
        "start_time": "2023-06-29T12:27:03.792Z"
      },
      {
        "duration": 12,
        "start_time": "2023-06-29T12:27:03.823Z"
      },
      {
        "duration": 18,
        "start_time": "2023-06-29T12:27:03.838Z"
      },
      {
        "duration": 17,
        "start_time": "2023-06-29T12:27:03.858Z"
      },
      {
        "duration": 159,
        "start_time": "2023-06-29T12:27:03.877Z"
      },
      {
        "duration": 21,
        "start_time": "2023-06-29T12:27:04.037Z"
      },
      {
        "duration": 126,
        "start_time": "2023-06-29T12:27:04.060Z"
      },
      {
        "duration": 3,
        "start_time": "2023-06-29T12:27:04.188Z"
      },
      {
        "duration": 308,
        "start_time": "2023-06-29T12:27:04.201Z"
      },
      {
        "duration": 8,
        "start_time": "2023-06-29T12:27:04.511Z"
      },
      {
        "duration": 24,
        "start_time": "2023-06-29T12:27:04.520Z"
      },
      {
        "duration": 9,
        "start_time": "2023-06-29T12:27:04.546Z"
      },
      {
        "duration": 10,
        "start_time": "2023-06-29T12:27:04.556Z"
      },
      {
        "duration": 128,
        "start_time": "2023-06-29T12:27:04.567Z"
      },
      {
        "duration": 13,
        "start_time": "2023-06-29T12:36:39.679Z"
      },
      {
        "duration": 1560,
        "start_time": "2023-06-29T12:36:49.280Z"
      },
      {
        "duration": 779,
        "start_time": "2023-06-29T12:36:50.842Z"
      },
      {
        "duration": 25,
        "start_time": "2023-06-29T12:36:51.623Z"
      },
      {
        "duration": 21,
        "start_time": "2023-06-29T12:36:51.650Z"
      },
      {
        "duration": 49,
        "start_time": "2023-06-29T12:36:51.673Z"
      },
      {
        "duration": 27,
        "start_time": "2023-06-29T12:36:51.724Z"
      },
      {
        "duration": 30,
        "start_time": "2023-06-29T12:36:51.753Z"
      },
      {
        "duration": 42,
        "start_time": "2023-06-29T12:36:51.785Z"
      },
      {
        "duration": 16,
        "start_time": "2023-06-29T12:36:51.829Z"
      },
      {
        "duration": 26,
        "start_time": "2023-06-29T12:36:51.848Z"
      },
      {
        "duration": 18,
        "start_time": "2023-06-29T12:36:51.876Z"
      },
      {
        "duration": 164,
        "start_time": "2023-06-29T12:36:51.896Z"
      },
      {
        "duration": 22,
        "start_time": "2023-06-29T12:36:52.062Z"
      },
      {
        "duration": 130,
        "start_time": "2023-06-29T12:36:52.085Z"
      },
      {
        "duration": 5,
        "start_time": "2023-06-29T12:36:52.216Z"
      },
      {
        "duration": 281,
        "start_time": "2023-06-29T12:36:52.223Z"
      },
      {
        "duration": 122,
        "start_time": "2023-06-29T12:36:52.506Z"
      },
      {
        "duration": 0,
        "start_time": "2023-06-29T12:36:52.630Z"
      },
      {
        "duration": 0,
        "start_time": "2023-06-29T12:36:52.631Z"
      },
      {
        "duration": 0,
        "start_time": "2023-06-29T12:36:52.633Z"
      },
      {
        "duration": 0,
        "start_time": "2023-06-29T12:36:52.634Z"
      },
      {
        "duration": 1841,
        "start_time": "2023-06-29T12:39:00.218Z"
      },
      {
        "duration": 863,
        "start_time": "2023-06-29T12:39:02.061Z"
      },
      {
        "duration": 27,
        "start_time": "2023-06-29T12:39:02.926Z"
      },
      {
        "duration": 22,
        "start_time": "2023-06-29T12:39:02.955Z"
      },
      {
        "duration": 33,
        "start_time": "2023-06-29T12:39:03.001Z"
      },
      {
        "duration": 83,
        "start_time": "2023-06-29T12:39:03.036Z"
      },
      {
        "duration": 61,
        "start_time": "2023-06-29T12:39:03.122Z"
      },
      {
        "duration": 182,
        "start_time": "2023-06-29T12:39:03.185Z"
      },
      {
        "duration": 12,
        "start_time": "2023-06-29T12:39:03.369Z"
      },
      {
        "duration": 18,
        "start_time": "2023-06-29T12:39:03.384Z"
      },
      {
        "duration": 43,
        "start_time": "2023-06-29T12:39:03.404Z"
      },
      {
        "duration": 162,
        "start_time": "2023-06-29T12:39:03.450Z"
      },
      {
        "duration": 30,
        "start_time": "2023-06-29T12:39:03.614Z"
      },
      {
        "duration": 135,
        "start_time": "2023-06-29T12:39:03.646Z"
      },
      {
        "duration": 5,
        "start_time": "2023-06-29T12:39:03.783Z"
      },
      {
        "duration": 368,
        "start_time": "2023-06-29T12:39:03.790Z"
      },
      {
        "duration": 127,
        "start_time": "2023-06-29T12:39:04.160Z"
      },
      {
        "duration": 0,
        "start_time": "2023-06-29T12:39:04.289Z"
      },
      {
        "duration": 0,
        "start_time": "2023-06-29T12:39:04.290Z"
      },
      {
        "duration": 0,
        "start_time": "2023-06-29T12:39:04.291Z"
      },
      {
        "duration": 1,
        "start_time": "2023-06-29T12:39:04.292Z"
      },
      {
        "duration": 254,
        "start_time": "2023-06-29T12:40:07.268Z"
      },
      {
        "duration": 13,
        "start_time": "2023-06-29T12:40:12.701Z"
      },
      {
        "duration": 1539,
        "start_time": "2023-06-29T12:40:25.201Z"
      },
      {
        "duration": 760,
        "start_time": "2023-06-29T12:40:26.742Z"
      },
      {
        "duration": 28,
        "start_time": "2023-06-29T12:40:27.503Z"
      },
      {
        "duration": 21,
        "start_time": "2023-06-29T12:40:27.534Z"
      },
      {
        "duration": 27,
        "start_time": "2023-06-29T12:40:27.558Z"
      },
      {
        "duration": 28,
        "start_time": "2023-06-29T12:40:27.603Z"
      },
      {
        "duration": 13,
        "start_time": "2023-06-29T12:40:27.633Z"
      },
      {
        "duration": 20,
        "start_time": "2023-06-29T12:40:27.648Z"
      },
      {
        "duration": 39,
        "start_time": "2023-06-29T12:40:27.669Z"
      },
      {
        "duration": 7,
        "start_time": "2023-06-29T12:40:27.711Z"
      },
      {
        "duration": 23,
        "start_time": "2023-06-29T12:40:27.720Z"
      },
      {
        "duration": 139,
        "start_time": "2023-06-29T12:40:27.745Z"
      },
      {
        "duration": 30,
        "start_time": "2023-06-29T12:40:27.886Z"
      },
      {
        "duration": 109,
        "start_time": "2023-06-29T12:40:27.918Z"
      },
      {
        "duration": 4,
        "start_time": "2023-06-29T12:40:28.029Z"
      },
      {
        "duration": 391,
        "start_time": "2023-06-29T12:40:28.035Z"
      },
      {
        "duration": 0,
        "start_time": "2023-06-29T12:40:28.427Z"
      },
      {
        "duration": 0,
        "start_time": "2023-06-29T12:40:28.429Z"
      },
      {
        "duration": 0,
        "start_time": "2023-06-29T12:40:28.430Z"
      },
      {
        "duration": 0,
        "start_time": "2023-06-29T12:40:28.431Z"
      },
      {
        "duration": 0,
        "start_time": "2023-06-29T12:40:28.433Z"
      },
      {
        "duration": 268,
        "start_time": "2023-06-29T12:41:32.245Z"
      },
      {
        "duration": 4,
        "start_time": "2023-06-29T12:41:35.814Z"
      },
      {
        "duration": 241,
        "start_time": "2023-06-29T12:41:36.714Z"
      },
      {
        "duration": 7,
        "start_time": "2023-06-29T12:41:41.721Z"
      },
      {
        "duration": 2154,
        "start_time": "2023-06-29T12:41:46.590Z"
      },
      {
        "duration": 8,
        "start_time": "2023-06-29T12:41:52.094Z"
      },
      {
        "duration": 5,
        "start_time": "2023-06-29T12:41:52.822Z"
      },
      {
        "duration": 8,
        "start_time": "2023-06-29T12:41:53.358Z"
      },
      {
        "duration": 3280,
        "start_time": "2023-06-29T12:41:54.617Z"
      },
      {
        "duration": 5,
        "start_time": "2023-06-29T12:44:02.976Z"
      },
      {
        "duration": 5840,
        "start_time": "2023-06-29T12:45:17.364Z"
      },
      {
        "duration": 47,
        "start_time": "2023-06-29T12:46:53.128Z"
      },
      {
        "duration": 23,
        "start_time": "2023-06-29T12:47:23.950Z"
      },
      {
        "duration": 26,
        "start_time": "2023-06-29T12:48:14.528Z"
      },
      {
        "duration": 31,
        "start_time": "2023-06-29T12:49:57.717Z"
      },
      {
        "duration": 1608,
        "start_time": "2023-06-29T12:50:28.149Z"
      },
      {
        "duration": 788,
        "start_time": "2023-06-29T12:50:29.760Z"
      },
      {
        "duration": 39,
        "start_time": "2023-06-29T12:50:30.550Z"
      },
      {
        "duration": 52,
        "start_time": "2023-06-29T12:50:30.602Z"
      },
      {
        "duration": 64,
        "start_time": "2023-06-29T12:50:30.658Z"
      },
      {
        "duration": 63,
        "start_time": "2023-06-29T12:50:30.725Z"
      },
      {
        "duration": 42,
        "start_time": "2023-06-29T12:50:30.791Z"
      },
      {
        "duration": 59,
        "start_time": "2023-06-29T12:50:30.836Z"
      },
      {
        "duration": 53,
        "start_time": "2023-06-29T12:50:30.897Z"
      },
      {
        "duration": 47,
        "start_time": "2023-06-29T12:50:30.952Z"
      },
      {
        "duration": 46,
        "start_time": "2023-06-29T12:50:31.002Z"
      },
      {
        "duration": 168,
        "start_time": "2023-06-29T12:50:31.051Z"
      },
      {
        "duration": 23,
        "start_time": "2023-06-29T12:50:31.221Z"
      },
      {
        "duration": 146,
        "start_time": "2023-06-29T12:50:31.247Z"
      },
      {
        "duration": 7,
        "start_time": "2023-06-29T12:50:31.395Z"
      },
      {
        "duration": 287,
        "start_time": "2023-06-29T12:50:31.405Z"
      },
      {
        "duration": 7,
        "start_time": "2023-06-29T12:50:31.702Z"
      },
      {
        "duration": 32,
        "start_time": "2023-06-29T12:50:31.710Z"
      },
      {
        "duration": 39,
        "start_time": "2023-06-29T12:50:31.744Z"
      },
      {
        "duration": 56,
        "start_time": "2023-06-29T12:50:31.785Z"
      },
      {
        "duration": 83,
        "start_time": "2023-06-29T12:50:31.843Z"
      },
      {
        "duration": 40,
        "start_time": "2023-06-29T12:50:31.928Z"
      },
      {
        "duration": 31,
        "start_time": "2023-06-29T12:50:56.625Z"
      },
      {
        "duration": 127,
        "start_time": "2023-06-29T12:51:41.524Z"
      },
      {
        "duration": 33,
        "start_time": "2023-06-29T13:02:38.414Z"
      },
      {
        "duration": 29,
        "start_time": "2023-06-29T13:05:46.623Z"
      },
      {
        "duration": 1774,
        "start_time": "2023-06-29T13:05:56.647Z"
      },
      {
        "duration": 773,
        "start_time": "2023-06-29T13:05:58.424Z"
      },
      {
        "duration": 42,
        "start_time": "2023-06-29T13:05:59.202Z"
      },
      {
        "duration": 36,
        "start_time": "2023-06-29T13:05:59.246Z"
      },
      {
        "duration": 38,
        "start_time": "2023-06-29T13:05:59.302Z"
      },
      {
        "duration": 22,
        "start_time": "2023-06-29T13:05:59.342Z"
      },
      {
        "duration": 36,
        "start_time": "2023-06-29T13:05:59.366Z"
      },
      {
        "duration": 21,
        "start_time": "2023-06-29T13:05:59.404Z"
      },
      {
        "duration": 9,
        "start_time": "2023-06-29T13:05:59.426Z"
      },
      {
        "duration": 19,
        "start_time": "2023-06-29T13:05:59.437Z"
      },
      {
        "duration": 44,
        "start_time": "2023-06-29T13:05:59.458Z"
      },
      {
        "duration": 160,
        "start_time": "2023-06-29T13:05:59.504Z"
      },
      {
        "duration": 38,
        "start_time": "2023-06-29T13:05:59.666Z"
      },
      {
        "duration": 125,
        "start_time": "2023-06-29T13:05:59.709Z"
      },
      {
        "duration": 4,
        "start_time": "2023-06-29T13:05:59.836Z"
      },
      {
        "duration": 271,
        "start_time": "2023-06-29T13:05:59.842Z"
      },
      {
        "duration": 10,
        "start_time": "2023-06-29T13:06:00.116Z"
      },
      {
        "duration": 40,
        "start_time": "2023-06-29T13:06:00.128Z"
      },
      {
        "duration": 34,
        "start_time": "2023-06-29T13:06:00.170Z"
      },
      {
        "duration": 45,
        "start_time": "2023-06-29T13:06:00.206Z"
      },
      {
        "duration": 44,
        "start_time": "2023-06-29T13:06:00.253Z"
      },
      {
        "duration": 40,
        "start_time": "2023-06-29T13:06:00.299Z"
      },
      {
        "duration": 25,
        "start_time": "2023-06-29T13:08:46.094Z"
      },
      {
        "duration": 20,
        "start_time": "2023-06-29T13:49:03.567Z"
      },
      {
        "duration": 119,
        "start_time": "2023-06-29T14:00:17.597Z"
      },
      {
        "duration": 12,
        "start_time": "2023-06-29T14:00:30.020Z"
      },
      {
        "duration": 1998,
        "start_time": "2023-06-29T14:00:53.626Z"
      },
      {
        "duration": 743,
        "start_time": "2023-06-29T14:00:55.627Z"
      },
      {
        "duration": 44,
        "start_time": "2023-06-29T14:00:56.372Z"
      },
      {
        "duration": 22,
        "start_time": "2023-06-29T14:00:56.418Z"
      },
      {
        "duration": 23,
        "start_time": "2023-06-29T14:00:56.443Z"
      },
      {
        "duration": 52,
        "start_time": "2023-06-29T14:00:56.468Z"
      },
      {
        "duration": 15,
        "start_time": "2023-06-29T14:00:56.522Z"
      },
      {
        "duration": 20,
        "start_time": "2023-06-29T14:00:56.539Z"
      },
      {
        "duration": 11,
        "start_time": "2023-06-29T14:00:56.560Z"
      },
      {
        "duration": 10,
        "start_time": "2023-06-29T14:00:56.601Z"
      },
      {
        "duration": 21,
        "start_time": "2023-06-29T14:00:56.613Z"
      },
      {
        "duration": 229,
        "start_time": "2023-06-29T14:00:56.636Z"
      },
      {
        "duration": 21,
        "start_time": "2023-06-29T14:00:56.866Z"
      },
      {
        "duration": 118,
        "start_time": "2023-06-29T14:00:56.902Z"
      },
      {
        "duration": 5,
        "start_time": "2023-06-29T14:00:57.022Z"
      },
      {
        "duration": 280,
        "start_time": "2023-06-29T14:00:57.030Z"
      },
      {
        "duration": 9,
        "start_time": "2023-06-29T14:00:57.312Z"
      },
      {
        "duration": 20,
        "start_time": "2023-06-29T14:00:57.323Z"
      },
      {
        "duration": 33,
        "start_time": "2023-06-29T14:00:57.345Z"
      },
      {
        "duration": 39,
        "start_time": "2023-06-29T14:00:57.380Z"
      },
      {
        "duration": 17,
        "start_time": "2023-06-29T14:00:57.421Z"
      },
      {
        "duration": 21,
        "start_time": "2023-06-29T14:00:57.439Z"
      },
      {
        "duration": 9,
        "start_time": "2023-06-29T14:01:45.449Z"
      },
      {
        "duration": 14,
        "start_time": "2023-06-29T14:02:52.418Z"
      },
      {
        "duration": 131,
        "start_time": "2023-06-29T14:11:47.978Z"
      },
      {
        "duration": 0,
        "start_time": "2023-06-29T14:16:23.610Z"
      },
      {
        "duration": 0,
        "start_time": "2023-06-29T14:16:23.610Z"
      },
      {
        "duration": 13,
        "start_time": "2023-06-29T14:21:44.378Z"
      },
      {
        "duration": 12,
        "start_time": "2023-06-29T14:22:09.188Z"
      },
      {
        "duration": 13,
        "start_time": "2023-06-29T14:22:50.726Z"
      },
      {
        "duration": 23,
        "start_time": "2023-06-29T14:26:22.795Z"
      },
      {
        "duration": 13,
        "start_time": "2023-06-29T14:26:44.310Z"
      },
      {
        "duration": 18,
        "start_time": "2023-06-29T14:26:56.741Z"
      },
      {
        "duration": 16,
        "start_time": "2023-06-29T14:27:46.253Z"
      },
      {
        "duration": 16,
        "start_time": "2023-06-29T14:27:59.649Z"
      },
      {
        "duration": 15,
        "start_time": "2023-06-29T14:28:05.935Z"
      },
      {
        "duration": 15,
        "start_time": "2023-06-29T14:29:06.429Z"
      },
      {
        "duration": 8,
        "start_time": "2023-06-29T14:30:22.866Z"
      },
      {
        "duration": 13,
        "start_time": "2023-06-29T14:30:26.416Z"
      },
      {
        "duration": 38190,
        "start_time": "2023-06-29T14:33:16.159Z"
      },
      {
        "duration": 112654,
        "start_time": "2023-06-29T14:34:06.799Z"
      },
      {
        "duration": 12,
        "start_time": "2023-06-29T14:39:33.281Z"
      },
      {
        "duration": 15,
        "start_time": "2023-06-29T14:44:06.065Z"
      },
      {
        "duration": 13,
        "start_time": "2023-06-29T14:44:29.955Z"
      },
      {
        "duration": 12,
        "start_time": "2023-06-29T14:44:49.132Z"
      },
      {
        "duration": 14162,
        "start_time": "2023-06-29T14:45:19.381Z"
      },
      {
        "duration": 8,
        "start_time": "2023-06-29T14:45:36.691Z"
      },
      {
        "duration": 17,
        "start_time": "2023-06-29T14:45:57.360Z"
      },
      {
        "duration": 33,
        "start_time": "2023-06-29T14:46:34.261Z"
      },
      {
        "duration": 10,
        "start_time": "2023-06-29T14:49:01.279Z"
      },
      {
        "duration": 4,
        "start_time": "2023-06-29T14:50:02.733Z"
      },
      {
        "duration": 729,
        "start_time": "2023-06-29T14:50:02.741Z"
      },
      {
        "duration": 21,
        "start_time": "2023-06-29T14:50:03.471Z"
      },
      {
        "duration": 30,
        "start_time": "2023-06-29T14:50:03.502Z"
      },
      {
        "duration": 24,
        "start_time": "2023-06-29T14:50:03.533Z"
      },
      {
        "duration": 24,
        "start_time": "2023-06-29T14:50:03.558Z"
      },
      {
        "duration": 21,
        "start_time": "2023-06-29T14:50:03.584Z"
      },
      {
        "duration": 17,
        "start_time": "2023-06-29T14:50:03.607Z"
      },
      {
        "duration": 10,
        "start_time": "2023-06-29T14:50:03.626Z"
      },
      {
        "duration": 24,
        "start_time": "2023-06-29T14:50:03.638Z"
      },
      {
        "duration": 10,
        "start_time": "2023-06-29T14:50:03.664Z"
      },
      {
        "duration": 153,
        "start_time": "2023-06-29T14:50:03.676Z"
      },
      {
        "duration": 20,
        "start_time": "2023-06-29T14:50:03.831Z"
      },
      {
        "duration": 112,
        "start_time": "2023-06-29T14:50:03.852Z"
      },
      {
        "duration": 3,
        "start_time": "2023-06-29T14:50:03.966Z"
      },
      {
        "duration": 242,
        "start_time": "2023-06-29T14:50:03.971Z"
      },
      {
        "duration": 6,
        "start_time": "2023-06-29T14:50:04.215Z"
      },
      {
        "duration": 16,
        "start_time": "2023-06-29T14:50:04.222Z"
      },
      {
        "duration": 20,
        "start_time": "2023-06-29T14:50:04.240Z"
      },
      {
        "duration": 43,
        "start_time": "2023-06-29T14:50:04.263Z"
      },
      {
        "duration": 9,
        "start_time": "2023-06-29T14:50:04.308Z"
      },
      {
        "duration": 28,
        "start_time": "2023-06-29T14:50:04.319Z"
      },
      {
        "duration": 14,
        "start_time": "2023-06-29T14:50:04.349Z"
      },
      {
        "duration": 12726,
        "start_time": "2023-06-29T14:50:04.365Z"
      },
      {
        "duration": 12,
        "start_time": "2023-06-29T14:50:17.093Z"
      },
      {
        "duration": 30,
        "start_time": "2023-06-29T14:50:17.106Z"
      },
      {
        "duration": 776,
        "start_time": "2023-06-29T14:50:50.426Z"
      },
      {
        "duration": 134,
        "start_time": "2023-06-29T14:51:03.376Z"
      },
      {
        "duration": 1432,
        "start_time": "2023-06-29T14:51:21.852Z"
      },
      {
        "duration": 751,
        "start_time": "2023-06-29T14:51:23.286Z"
      },
      {
        "duration": 83,
        "start_time": "2023-06-29T14:51:24.039Z"
      },
      {
        "duration": 82,
        "start_time": "2023-06-29T14:51:24.124Z"
      },
      {
        "duration": 116,
        "start_time": "2023-06-29T14:51:24.209Z"
      },
      {
        "duration": 17,
        "start_time": "2023-06-29T14:51:24.327Z"
      },
      {
        "duration": 14,
        "start_time": "2023-06-29T14:51:24.401Z"
      },
      {
        "duration": 17,
        "start_time": "2023-06-29T14:51:24.416Z"
      },
      {
        "duration": 8,
        "start_time": "2023-06-29T14:51:24.435Z"
      },
      {
        "duration": 64,
        "start_time": "2023-06-29T14:51:24.445Z"
      },
      {
        "duration": 24,
        "start_time": "2023-06-29T14:51:24.511Z"
      },
      {
        "duration": 281,
        "start_time": "2023-06-29T14:51:24.537Z"
      },
      {
        "duration": 22,
        "start_time": "2023-06-29T14:51:24.819Z"
      },
      {
        "duration": 259,
        "start_time": "2023-06-29T14:51:24.844Z"
      },
      {
        "duration": 5,
        "start_time": "2023-06-29T14:51:25.105Z"
      },
      {
        "duration": 504,
        "start_time": "2023-06-29T14:51:25.121Z"
      },
      {
        "duration": 7,
        "start_time": "2023-06-29T14:51:25.627Z"
      },
      {
        "duration": 85,
        "start_time": "2023-06-29T14:51:25.635Z"
      },
      {
        "duration": 87,
        "start_time": "2023-06-29T14:51:25.721Z"
      },
      {
        "duration": 32,
        "start_time": "2023-06-29T14:51:25.810Z"
      },
      {
        "duration": 64,
        "start_time": "2023-06-29T14:51:25.844Z"
      },
      {
        "duration": 165,
        "start_time": "2023-06-29T14:51:25.910Z"
      },
      {
        "duration": 13,
        "start_time": "2023-06-29T14:51:26.077Z"
      },
      {
        "duration": 13366,
        "start_time": "2023-06-29T14:51:26.092Z"
      },
      {
        "duration": 8,
        "start_time": "2023-06-29T14:51:39.460Z"
      },
      {
        "duration": 70,
        "start_time": "2023-06-29T14:51:39.469Z"
      },
      {
        "duration": 63,
        "start_time": "2023-06-29T14:52:32.115Z"
      },
      {
        "duration": 1694,
        "start_time": "2023-06-29T15:56:41.634Z"
      },
      {
        "duration": 828,
        "start_time": "2023-06-29T15:56:43.330Z"
      },
      {
        "duration": 89,
        "start_time": "2023-06-29T15:56:44.160Z"
      },
      {
        "duration": 64,
        "start_time": "2023-06-29T15:56:44.251Z"
      },
      {
        "duration": 96,
        "start_time": "2023-06-29T15:56:44.319Z"
      },
      {
        "duration": 22,
        "start_time": "2023-06-29T15:56:44.416Z"
      },
      {
        "duration": 19,
        "start_time": "2023-06-29T15:56:44.441Z"
      },
      {
        "duration": 50,
        "start_time": "2023-06-29T15:56:44.461Z"
      },
      {
        "duration": 11,
        "start_time": "2023-06-29T15:56:44.514Z"
      },
      {
        "duration": 8,
        "start_time": "2023-06-29T15:56:44.528Z"
      },
      {
        "duration": 21,
        "start_time": "2023-06-29T15:56:44.538Z"
      },
      {
        "duration": 167,
        "start_time": "2023-06-29T15:56:44.561Z"
      },
      {
        "duration": 22,
        "start_time": "2023-06-29T15:56:44.730Z"
      },
      {
        "duration": 131,
        "start_time": "2023-06-29T15:56:44.754Z"
      },
      {
        "duration": 3,
        "start_time": "2023-06-29T15:56:44.887Z"
      },
      {
        "duration": 284,
        "start_time": "2023-06-29T15:56:44.902Z"
      },
      {
        "duration": 21,
        "start_time": "2023-06-29T15:56:45.188Z"
      },
      {
        "duration": 31,
        "start_time": "2023-06-29T15:56:45.211Z"
      },
      {
        "duration": 23,
        "start_time": "2023-06-29T15:56:45.244Z"
      },
      {
        "duration": 19,
        "start_time": "2023-06-29T15:56:45.268Z"
      },
      {
        "duration": 22,
        "start_time": "2023-06-29T15:56:45.289Z"
      },
      {
        "duration": 19,
        "start_time": "2023-06-29T15:56:45.314Z"
      },
      {
        "duration": 14979,
        "start_time": "2023-06-29T15:56:45.335Z"
      },
      {
        "duration": 9,
        "start_time": "2023-06-29T15:57:00.316Z"
      },
      {
        "duration": 138490,
        "start_time": "2023-06-29T15:58:16.862Z"
      },
      {
        "duration": 9,
        "start_time": "2023-06-29T16:01:27.279Z"
      },
      {
        "duration": 1794,
        "start_time": "2023-06-29T16:05:46.832Z"
      },
      {
        "duration": 816,
        "start_time": "2023-06-29T16:05:48.628Z"
      },
      {
        "duration": 83,
        "start_time": "2023-06-29T16:05:49.446Z"
      },
      {
        "duration": 41,
        "start_time": "2023-06-29T16:05:49.532Z"
      },
      {
        "duration": 84,
        "start_time": "2023-06-29T16:05:49.575Z"
      },
      {
        "duration": 20,
        "start_time": "2023-06-29T16:05:49.661Z"
      },
      {
        "duration": 35,
        "start_time": "2023-06-29T16:05:49.683Z"
      },
      {
        "duration": 19,
        "start_time": "2023-06-29T16:05:49.720Z"
      },
      {
        "duration": 9,
        "start_time": "2023-06-29T16:05:49.741Z"
      },
      {
        "duration": 7,
        "start_time": "2023-06-29T16:05:49.752Z"
      },
      {
        "duration": 47,
        "start_time": "2023-06-29T16:05:49.761Z"
      },
      {
        "duration": 150,
        "start_time": "2023-06-29T16:05:49.809Z"
      },
      {
        "duration": 21,
        "start_time": "2023-06-29T16:05:49.961Z"
      },
      {
        "duration": 124,
        "start_time": "2023-06-29T16:05:49.984Z"
      },
      {
        "duration": 5,
        "start_time": "2023-06-29T16:05:50.109Z"
      },
      {
        "duration": 294,
        "start_time": "2023-06-29T16:05:50.115Z"
      },
      {
        "duration": 9,
        "start_time": "2023-06-29T16:05:50.411Z"
      },
      {
        "duration": 29,
        "start_time": "2023-06-29T16:05:50.423Z"
      },
      {
        "duration": 33,
        "start_time": "2023-06-29T16:05:50.455Z"
      },
      {
        "duration": 68,
        "start_time": "2023-06-29T16:05:50.490Z"
      },
      {
        "duration": 10,
        "start_time": "2023-06-29T16:05:50.560Z"
      },
      {
        "duration": 1674,
        "start_time": "2023-06-29T16:05:50.573Z"
      },
      {
        "duration": 0,
        "start_time": "2023-06-29T16:05:52.248Z"
      },
      {
        "duration": 0,
        "start_time": "2023-06-29T16:05:52.249Z"
      },
      {
        "duration": 0,
        "start_time": "2023-06-29T16:05:52.250Z"
      },
      {
        "duration": 0,
        "start_time": "2023-06-29T16:05:52.251Z"
      },
      {
        "duration": 17,
        "start_time": "2023-06-29T16:06:10.562Z"
      },
      {
        "duration": 13,
        "start_time": "2023-06-29T16:06:31.239Z"
      },
      {
        "duration": 111,
        "start_time": "2023-06-29T16:07:06.343Z"
      },
      {
        "duration": 104,
        "start_time": "2023-06-29T16:07:47.128Z"
      },
      {
        "duration": 13,
        "start_time": "2023-06-29T16:07:54.537Z"
      },
      {
        "duration": 15,
        "start_time": "2023-06-29T16:09:05.149Z"
      },
      {
        "duration": 3945,
        "start_time": "2023-06-29T16:11:26.475Z"
      },
      {
        "duration": 2660,
        "start_time": "2023-06-29T16:11:30.422Z"
      },
      {
        "duration": 117,
        "start_time": "2023-06-29T16:11:33.085Z"
      },
      {
        "duration": 66,
        "start_time": "2023-06-29T16:11:33.204Z"
      },
      {
        "duration": 98,
        "start_time": "2023-06-29T16:11:33.274Z"
      },
      {
        "duration": 54,
        "start_time": "2023-06-29T16:11:33.374Z"
      },
      {
        "duration": 15,
        "start_time": "2023-06-29T16:11:33.431Z"
      },
      {
        "duration": 29,
        "start_time": "2023-06-29T16:11:33.448Z"
      },
      {
        "duration": 27,
        "start_time": "2023-06-29T16:11:33.480Z"
      },
      {
        "duration": 16,
        "start_time": "2023-06-29T16:11:33.509Z"
      },
      {
        "duration": 14,
        "start_time": "2023-06-29T16:11:33.528Z"
      },
      {
        "duration": 215,
        "start_time": "2023-06-29T16:11:33.544Z"
      },
      {
        "duration": 41,
        "start_time": "2023-06-29T16:11:33.762Z"
      },
      {
        "duration": 183,
        "start_time": "2023-06-29T16:11:33.808Z"
      },
      {
        "duration": 9,
        "start_time": "2023-06-29T16:11:33.993Z"
      },
      {
        "duration": 462,
        "start_time": "2023-06-29T16:11:34.005Z"
      },
      {
        "duration": 7,
        "start_time": "2023-06-29T16:11:34.469Z"
      },
      {
        "duration": 35,
        "start_time": "2023-06-29T16:11:34.478Z"
      },
      {
        "duration": 41,
        "start_time": "2023-06-29T16:11:34.515Z"
      },
      {
        "duration": 25,
        "start_time": "2023-06-29T16:11:34.559Z"
      },
      {
        "duration": 18,
        "start_time": "2023-06-29T16:11:34.586Z"
      },
      {
        "duration": 33,
        "start_time": "2023-06-29T16:11:34.607Z"
      },
      {
        "duration": 15364,
        "start_time": "2023-06-29T16:11:34.642Z"
      },
      {
        "duration": 12,
        "start_time": "2023-06-29T16:11:50.008Z"
      },
      {
        "duration": 10,
        "start_time": "2023-06-29T16:12:42.148Z"
      },
      {
        "duration": 13953,
        "start_time": "2023-06-29T16:14:01.799Z"
      },
      {
        "duration": 96,
        "start_time": "2023-06-29T16:25:35.361Z"
      },
      {
        "duration": 82,
        "start_time": "2023-06-29T16:26:40.120Z"
      },
      {
        "duration": 137,
        "start_time": "2023-06-29T16:29:11.148Z"
      },
      {
        "duration": 24,
        "start_time": "2023-06-29T16:29:27.301Z"
      },
      {
        "duration": 21,
        "start_time": "2023-06-29T16:29:48.223Z"
      },
      {
        "duration": 10,
        "start_time": "2023-06-29T16:30:52.610Z"
      },
      {
        "duration": 7874,
        "start_time": "2023-06-29T16:31:15.911Z"
      },
      {
        "duration": 10,
        "start_time": "2023-06-29T16:31:41.846Z"
      },
      {
        "duration": 8050,
        "start_time": "2023-06-29T16:31:51.438Z"
      },
      {
        "duration": 10,
        "start_time": "2023-06-29T16:32:07.019Z"
      },
      {
        "duration": 8237,
        "start_time": "2023-06-29T16:32:36.737Z"
      },
      {
        "duration": 6,
        "start_time": "2023-06-29T16:32:53.698Z"
      },
      {
        "duration": 31914,
        "start_time": "2023-06-29T16:33:04.837Z"
      },
      {
        "duration": 10,
        "start_time": "2023-06-29T16:33:49.032Z"
      },
      {
        "duration": 1773,
        "start_time": "2023-06-29T16:35:05.622Z"
      },
      {
        "duration": 937,
        "start_time": "2023-06-29T16:35:07.398Z"
      },
      {
        "duration": 89,
        "start_time": "2023-06-29T16:35:08.337Z"
      },
      {
        "duration": 55,
        "start_time": "2023-06-29T16:35:08.429Z"
      },
      {
        "duration": 111,
        "start_time": "2023-06-29T16:35:08.502Z"
      },
      {
        "duration": 35,
        "start_time": "2023-06-29T16:35:08.615Z"
      },
      {
        "duration": 22,
        "start_time": "2023-06-29T16:35:08.655Z"
      },
      {
        "duration": 41,
        "start_time": "2023-06-29T16:35:08.680Z"
      },
      {
        "duration": 10,
        "start_time": "2023-06-29T16:35:08.723Z"
      },
      {
        "duration": 17,
        "start_time": "2023-06-29T16:35:08.737Z"
      },
      {
        "duration": 19,
        "start_time": "2023-06-29T16:35:08.756Z"
      },
      {
        "duration": 155,
        "start_time": "2023-06-29T16:35:08.776Z"
      },
      {
        "duration": 37,
        "start_time": "2023-06-29T16:35:08.933Z"
      },
      {
        "duration": 178,
        "start_time": "2023-06-29T16:35:08.972Z"
      },
      {
        "duration": 4,
        "start_time": "2023-06-29T16:35:09.152Z"
      },
      {
        "duration": 375,
        "start_time": "2023-06-29T16:35:09.158Z"
      },
      {
        "duration": 9,
        "start_time": "2023-06-29T16:35:09.535Z"
      },
      {
        "duration": 39,
        "start_time": "2023-06-29T16:35:09.546Z"
      },
      {
        "duration": 40,
        "start_time": "2023-06-29T16:35:09.587Z"
      },
      {
        "duration": 27,
        "start_time": "2023-06-29T16:35:09.629Z"
      },
      {
        "duration": 22611,
        "start_time": "2023-06-29T16:35:09.658Z"
      },
      {
        "duration": 0,
        "start_time": "2023-06-29T16:35:32.271Z"
      },
      {
        "duration": 0,
        "start_time": "2023-06-29T16:35:32.273Z"
      },
      {
        "duration": 0,
        "start_time": "2023-06-29T16:35:32.275Z"
      },
      {
        "duration": 1,
        "start_time": "2023-06-29T16:35:32.276Z"
      },
      {
        "duration": 0,
        "start_time": "2023-06-29T16:35:32.278Z"
      },
      {
        "duration": 0,
        "start_time": "2023-06-29T16:35:32.280Z"
      },
      {
        "duration": 22288,
        "start_time": "2023-06-29T16:35:44.264Z"
      },
      {
        "duration": 143655,
        "start_time": "2023-06-29T16:36:07.620Z"
      },
      {
        "duration": 4558,
        "start_time": "2023-06-29T16:43:46.843Z"
      },
      {
        "duration": 2336,
        "start_time": "2023-06-29T16:43:51.406Z"
      },
      {
        "duration": 72,
        "start_time": "2023-06-29T16:43:53.744Z"
      },
      {
        "duration": 42,
        "start_time": "2023-06-29T16:43:53.819Z"
      },
      {
        "duration": 95,
        "start_time": "2023-06-29T16:43:53.863Z"
      },
      {
        "duration": 22,
        "start_time": "2023-06-29T16:43:53.960Z"
      },
      {
        "duration": 19,
        "start_time": "2023-06-29T16:43:54.002Z"
      },
      {
        "duration": 21,
        "start_time": "2023-06-29T16:43:54.022Z"
      },
      {
        "duration": 9,
        "start_time": "2023-06-29T16:43:54.045Z"
      },
      {
        "duration": 17,
        "start_time": "2023-06-29T16:43:54.057Z"
      },
      {
        "duration": 31,
        "start_time": "2023-06-29T16:43:54.076Z"
      },
      {
        "duration": 144,
        "start_time": "2023-06-29T16:43:54.109Z"
      },
      {
        "duration": 21,
        "start_time": "2023-06-29T16:43:54.254Z"
      },
      {
        "duration": 121,
        "start_time": "2023-06-29T16:43:54.276Z"
      },
      {
        "duration": 4,
        "start_time": "2023-06-29T16:43:54.398Z"
      },
      {
        "duration": 292,
        "start_time": "2023-06-29T16:43:54.404Z"
      },
      {
        "duration": 8,
        "start_time": "2023-06-29T16:43:54.702Z"
      },
      {
        "duration": 28,
        "start_time": "2023-06-29T16:43:54.712Z"
      },
      {
        "duration": 28,
        "start_time": "2023-06-29T16:43:54.742Z"
      },
      {
        "duration": 19,
        "start_time": "2023-06-29T16:43:54.772Z"
      },
      {
        "duration": 10,
        "start_time": "2023-06-29T16:43:54.803Z"
      },
      {
        "duration": 8553,
        "start_time": "2023-06-29T16:43:54.815Z"
      },
      {
        "duration": 18,
        "start_time": "2023-06-29T16:44:03.370Z"
      },
      {
        "duration": 14497,
        "start_time": "2023-06-29T16:44:03.390Z"
      },
      {
        "duration": 0,
        "start_time": "2023-06-29T16:44:17.890Z"
      },
      {
        "duration": 0,
        "start_time": "2023-06-29T16:44:17.891Z"
      },
      {
        "duration": 0,
        "start_time": "2023-06-29T16:44:17.892Z"
      },
      {
        "duration": 0,
        "start_time": "2023-06-29T16:44:17.893Z"
      },
      {
        "duration": 40103,
        "start_time": "2023-06-29T16:46:27.094Z"
      },
      {
        "duration": 125,
        "start_time": "2023-06-29T16:48:42.197Z"
      },
      {
        "duration": 9,
        "start_time": "2023-06-29T16:48:56.898Z"
      },
      {
        "duration": 32019,
        "start_time": "2023-06-29T16:49:19.007Z"
      },
      {
        "duration": 8,
        "start_time": "2023-06-29T16:49:51.029Z"
      },
      {
        "duration": 15,
        "start_time": "2023-06-29T16:54:06.118Z"
      },
      {
        "duration": 12,
        "start_time": "2023-06-29T16:54:28.349Z"
      },
      {
        "duration": 16285,
        "start_time": "2023-06-29T16:54:29.862Z"
      },
      {
        "duration": 21,
        "start_time": "2023-06-29T16:54:46.150Z"
      },
      {
        "duration": 27,
        "start_time": "2023-06-29T16:54:54.288Z"
      },
      {
        "duration": 10,
        "start_time": "2023-06-29T16:55:52.078Z"
      },
      {
        "duration": 14,
        "start_time": "2023-06-29T16:56:49.283Z"
      },
      {
        "duration": 8,
        "start_time": "2023-06-29T16:56:58.255Z"
      },
      {
        "duration": 10,
        "start_time": "2023-06-29T16:57:07.598Z"
      },
      {
        "duration": 15,
        "start_time": "2023-06-29T17:02:24.097Z"
      },
      {
        "duration": 9,
        "start_time": "2023-06-29T17:02:36.667Z"
      },
      {
        "duration": 7,
        "start_time": "2023-06-29T17:04:24.535Z"
      },
      {
        "duration": 1967,
        "start_time": "2023-06-29T17:04:33.077Z"
      },
      {
        "duration": 4112,
        "start_time": "2023-06-29T17:04:35.050Z"
      },
      {
        "duration": 96,
        "start_time": "2023-06-29T17:04:39.164Z"
      },
      {
        "duration": 59,
        "start_time": "2023-06-29T17:04:39.263Z"
      },
      {
        "duration": 99,
        "start_time": "2023-06-29T17:04:39.336Z"
      },
      {
        "duration": 22,
        "start_time": "2023-06-29T17:04:39.437Z"
      },
      {
        "duration": 13,
        "start_time": "2023-06-29T17:04:39.461Z"
      },
      {
        "duration": 48,
        "start_time": "2023-06-29T17:04:39.475Z"
      },
      {
        "duration": 18,
        "start_time": "2023-06-29T17:04:39.526Z"
      },
      {
        "duration": 10,
        "start_time": "2023-06-29T17:04:39.547Z"
      },
      {
        "duration": 22,
        "start_time": "2023-06-29T17:04:39.559Z"
      },
      {
        "duration": 168,
        "start_time": "2023-06-29T17:04:39.583Z"
      },
      {
        "duration": 23,
        "start_time": "2023-06-29T17:04:39.752Z"
      },
      {
        "duration": 147,
        "start_time": "2023-06-29T17:04:39.777Z"
      },
      {
        "duration": 5,
        "start_time": "2023-06-29T17:04:39.927Z"
      },
      {
        "duration": 387,
        "start_time": "2023-06-29T17:04:39.934Z"
      },
      {
        "duration": 9,
        "start_time": "2023-06-29T17:04:40.323Z"
      },
      {
        "duration": 38,
        "start_time": "2023-06-29T17:04:40.334Z"
      },
      {
        "duration": 36,
        "start_time": "2023-06-29T17:04:40.375Z"
      },
      {
        "duration": 37,
        "start_time": "2023-06-29T17:04:40.413Z"
      },
      {
        "duration": 30,
        "start_time": "2023-06-29T17:04:40.452Z"
      },
      {
        "duration": 58270,
        "start_time": "2023-06-29T17:04:40.485Z"
      },
      {
        "duration": 4,
        "start_time": "2023-06-29T17:05:38.757Z"
      },
      {
        "duration": 18,
        "start_time": "2023-06-29T17:05:38.763Z"
      },
      {
        "duration": 23,
        "start_time": "2023-06-29T17:05:38.783Z"
      },
      {
        "duration": 36419,
        "start_time": "2023-06-29T17:05:38.812Z"
      },
      {
        "duration": 17,
        "start_time": "2023-06-29T17:06:15.233Z"
      },
      {
        "duration": 7,
        "start_time": "2023-06-29T17:07:24.168Z"
      },
      {
        "duration": 5,
        "start_time": "2023-06-29T17:13:19.673Z"
      },
      {
        "duration": 7,
        "start_time": "2023-06-29T17:13:20.456Z"
      },
      {
        "duration": 35,
        "start_time": "2023-06-29T17:13:26.806Z"
      },
      {
        "duration": 1690,
        "start_time": "2023-06-29T17:13:36.204Z"
      },
      {
        "duration": 982,
        "start_time": "2023-06-29T17:13:37.896Z"
      },
      {
        "duration": 148,
        "start_time": "2023-06-29T17:13:38.881Z"
      },
      {
        "duration": 59,
        "start_time": "2023-06-29T17:13:39.040Z"
      },
      {
        "duration": 74,
        "start_time": "2023-06-29T17:13:39.106Z"
      },
      {
        "duration": 52,
        "start_time": "2023-06-29T17:13:39.183Z"
      },
      {
        "duration": 22,
        "start_time": "2023-06-29T17:13:39.243Z"
      },
      {
        "duration": 27,
        "start_time": "2023-06-29T17:13:39.268Z"
      },
      {
        "duration": 19,
        "start_time": "2023-06-29T17:13:39.297Z"
      },
      {
        "duration": 27,
        "start_time": "2023-06-29T17:13:39.324Z"
      },
      {
        "duration": 14,
        "start_time": "2023-06-29T17:13:39.354Z"
      },
      {
        "duration": 160,
        "start_time": "2023-06-29T17:13:39.370Z"
      },
      {
        "duration": 33,
        "start_time": "2023-06-29T17:13:39.532Z"
      },
      {
        "duration": 170,
        "start_time": "2023-06-29T17:13:39.567Z"
      },
      {
        "duration": 5,
        "start_time": "2023-06-29T17:13:39.742Z"
      },
      {
        "duration": 323,
        "start_time": "2023-06-29T17:13:39.750Z"
      },
      {
        "duration": 7,
        "start_time": "2023-06-29T17:13:40.075Z"
      },
      {
        "duration": 62,
        "start_time": "2023-06-29T17:13:40.084Z"
      },
      {
        "duration": 32,
        "start_time": "2023-06-29T17:13:40.149Z"
      },
      {
        "duration": 40,
        "start_time": "2023-06-29T17:13:40.183Z"
      },
      {
        "duration": 16,
        "start_time": "2023-06-29T17:13:40.225Z"
      },
      {
        "duration": 60753,
        "start_time": "2023-06-29T17:13:40.243Z"
      },
      {
        "duration": 26,
        "start_time": "2023-06-29T17:14:41.001Z"
      },
      {
        "duration": 8,
        "start_time": "2023-06-29T17:14:41.040Z"
      },
      {
        "duration": 1694,
        "start_time": "2023-06-29T17:15:15.495Z"
      },
      {
        "duration": 979,
        "start_time": "2023-06-29T17:15:17.192Z"
      },
      {
        "duration": 99,
        "start_time": "2023-06-29T17:15:18.173Z"
      },
      {
        "duration": 67,
        "start_time": "2023-06-29T17:15:18.274Z"
      },
      {
        "duration": 108,
        "start_time": "2023-06-29T17:15:18.344Z"
      },
      {
        "duration": 26,
        "start_time": "2023-06-29T17:15:18.455Z"
      },
      {
        "duration": 25,
        "start_time": "2023-06-29T17:15:18.483Z"
      },
      {
        "duration": 29,
        "start_time": "2023-06-29T17:15:18.517Z"
      },
      {
        "duration": 10,
        "start_time": "2023-06-29T17:15:18.548Z"
      },
      {
        "duration": 10,
        "start_time": "2023-06-29T17:15:18.560Z"
      },
      {
        "duration": 45,
        "start_time": "2023-06-29T17:15:18.572Z"
      },
      {
        "duration": 150,
        "start_time": "2023-06-29T17:15:18.618Z"
      },
      {
        "duration": 35,
        "start_time": "2023-06-29T17:15:18.770Z"
      },
      {
        "duration": 130,
        "start_time": "2023-06-29T17:15:18.808Z"
      },
      {
        "duration": 5,
        "start_time": "2023-06-29T17:15:18.939Z"
      },
      {
        "duration": 321,
        "start_time": "2023-06-29T17:15:18.946Z"
      },
      {
        "duration": 8,
        "start_time": "2023-06-29T17:15:19.270Z"
      },
      {
        "duration": 40,
        "start_time": "2023-06-29T17:15:19.280Z"
      },
      {
        "duration": 49,
        "start_time": "2023-06-29T17:15:19.322Z"
      },
      {
        "duration": 20,
        "start_time": "2023-06-29T17:15:19.374Z"
      },
      {
        "duration": 18,
        "start_time": "2023-06-29T17:15:19.397Z"
      },
      {
        "duration": 30,
        "start_time": "2023-06-29T17:15:19.422Z"
      },
      {
        "duration": 29455,
        "start_time": "2023-06-29T17:15:19.454Z"
      },
      {
        "duration": 12,
        "start_time": "2023-06-29T17:15:48.910Z"
      },
      {
        "duration": 30,
        "start_time": "2023-06-29T17:15:48.925Z"
      },
      {
        "duration": 33874,
        "start_time": "2023-06-29T17:15:48.957Z"
      },
      {
        "duration": 8,
        "start_time": "2023-06-29T17:16:22.841Z"
      },
      {
        "duration": 9,
        "start_time": "2023-06-29T17:16:22.853Z"
      },
      {
        "duration": 21,
        "start_time": "2023-06-29T17:16:57.700Z"
      },
      {
        "duration": 2306,
        "start_time": "2023-06-29T17:17:27.115Z"
      },
      {
        "duration": 2153,
        "start_time": "2023-06-29T17:17:29.424Z"
      },
      {
        "duration": 118,
        "start_time": "2023-06-29T17:17:31.581Z"
      },
      {
        "duration": 116,
        "start_time": "2023-06-29T17:17:31.701Z"
      },
      {
        "duration": 105,
        "start_time": "2023-06-29T17:17:31.831Z"
      },
      {
        "duration": 39,
        "start_time": "2023-06-29T17:17:31.938Z"
      },
      {
        "duration": 16,
        "start_time": "2023-06-29T17:17:31.979Z"
      },
      {
        "duration": 90,
        "start_time": "2023-06-29T17:17:31.997Z"
      },
      {
        "duration": 80,
        "start_time": "2023-06-29T17:17:32.089Z"
      },
      {
        "duration": 22,
        "start_time": "2023-06-29T17:17:32.171Z"
      },
      {
        "duration": 21,
        "start_time": "2023-06-29T17:17:32.195Z"
      },
      {
        "duration": 226,
        "start_time": "2023-06-29T17:17:32.217Z"
      },
      {
        "duration": 29,
        "start_time": "2023-06-29T17:17:32.445Z"
      },
      {
        "duration": 218,
        "start_time": "2023-06-29T17:17:32.479Z"
      },
      {
        "duration": 9,
        "start_time": "2023-06-29T17:17:32.701Z"
      },
      {
        "duration": 470,
        "start_time": "2023-06-29T17:17:32.712Z"
      },
      {
        "duration": 9,
        "start_time": "2023-06-29T17:17:33.185Z"
      },
      {
        "duration": 102,
        "start_time": "2023-06-29T17:17:33.209Z"
      },
      {
        "duration": 73,
        "start_time": "2023-06-29T17:17:33.326Z"
      },
      {
        "duration": 36,
        "start_time": "2023-06-29T17:17:33.401Z"
      },
      {
        "duration": 35,
        "start_time": "2023-06-29T17:17:33.439Z"
      },
      {
        "duration": 9,
        "start_time": "2023-06-29T17:17:33.476Z"
      },
      {
        "duration": 35,
        "start_time": "2023-06-29T17:17:33.487Z"
      },
      {
        "duration": 54117,
        "start_time": "2023-06-29T17:17:33.526Z"
      },
      {
        "duration": 8,
        "start_time": "2023-06-29T17:18:27.645Z"
      },
      {
        "duration": 10,
        "start_time": "2023-06-29T17:18:27.654Z"
      },
      {
        "duration": 10,
        "start_time": "2023-06-29T17:19:04.852Z"
      },
      {
        "duration": 8,
        "start_time": "2023-06-29T17:19:04.864Z"
      },
      {
        "duration": 46,
        "start_time": "2023-06-29T17:19:04.874Z"
      },
      {
        "duration": 1684,
        "start_time": "2023-06-30T12:52:20.109Z"
      },
      {
        "duration": 2023,
        "start_time": "2023-06-30T12:52:21.795Z"
      },
      {
        "duration": 72,
        "start_time": "2023-06-30T12:52:23.821Z"
      },
      {
        "duration": 43,
        "start_time": "2023-06-30T12:52:23.895Z"
      },
      {
        "duration": 82,
        "start_time": "2023-06-30T12:52:23.940Z"
      },
      {
        "duration": 19,
        "start_time": "2023-06-30T12:52:24.025Z"
      },
      {
        "duration": 13,
        "start_time": "2023-06-30T12:52:24.046Z"
      },
      {
        "duration": 42,
        "start_time": "2023-06-30T12:52:24.061Z"
      },
      {
        "duration": 11,
        "start_time": "2023-06-30T12:52:24.105Z"
      },
      {
        "duration": 7,
        "start_time": "2023-06-30T12:52:24.119Z"
      },
      {
        "duration": 17,
        "start_time": "2023-06-30T12:52:24.127Z"
      },
      {
        "duration": 154,
        "start_time": "2023-06-30T12:52:24.146Z"
      },
      {
        "duration": 20,
        "start_time": "2023-06-30T12:52:24.302Z"
      },
      {
        "duration": 114,
        "start_time": "2023-06-30T12:52:24.324Z"
      },
      {
        "duration": 3,
        "start_time": "2023-06-30T12:52:24.440Z"
      },
      {
        "duration": 257,
        "start_time": "2023-06-30T12:52:24.445Z"
      },
      {
        "duration": 6,
        "start_time": "2023-06-30T12:52:24.704Z"
      },
      {
        "duration": 21,
        "start_time": "2023-06-30T12:52:24.711Z"
      },
      {
        "duration": 22,
        "start_time": "2023-06-30T12:52:24.734Z"
      },
      {
        "duration": 17,
        "start_time": "2023-06-30T12:52:24.758Z"
      },
      {
        "duration": 29,
        "start_time": "2023-06-30T12:52:24.777Z"
      },
      {
        "duration": 11,
        "start_time": "2023-06-30T12:52:24.807Z"
      },
      {
        "duration": 6,
        "start_time": "2023-06-30T12:52:24.819Z"
      },
      {
        "duration": 7,
        "start_time": "2023-06-30T12:52:24.827Z"
      },
      {
        "duration": 102677,
        "start_time": "2023-06-30T13:07:20.960Z"
      },
      {
        "duration": 111963,
        "start_time": "2023-06-30T13:11:00.819Z"
      },
      {
        "duration": 401,
        "start_time": "2023-06-30T13:53:52.508Z"
      },
      {
        "duration": 286,
        "start_time": "2023-06-30T13:54:36.002Z"
      },
      {
        "duration": 44,
        "start_time": "2023-06-30T13:54:56.125Z"
      },
      {
        "duration": 44,
        "start_time": "2023-06-30T13:56:00.201Z"
      },
      {
        "duration": 370,
        "start_time": "2023-06-30T13:56:30.200Z"
      },
      {
        "duration": 107,
        "start_time": "2023-06-30T13:56:59.849Z"
      },
      {
        "duration": 65,
        "start_time": "2023-06-30T13:57:35.140Z"
      },
      {
        "duration": 43,
        "start_time": "2023-06-30T13:57:48.327Z"
      },
      {
        "duration": 38437,
        "start_time": "2023-06-30T13:58:05.601Z"
      },
      {
        "duration": 14,
        "start_time": "2023-06-30T14:01:44.000Z"
      },
      {
        "duration": 180,
        "start_time": "2023-06-30T14:02:05.282Z"
      },
      {
        "duration": 286,
        "start_time": "2023-06-30T14:02:35.646Z"
      },
      {
        "duration": 271,
        "start_time": "2023-06-30T14:02:54.702Z"
      },
      {
        "duration": 268,
        "start_time": "2023-06-30T14:03:39.205Z"
      },
      {
        "duration": 387,
        "start_time": "2023-06-30T14:05:31.137Z"
      },
      {
        "duration": 330,
        "start_time": "2023-06-30T14:05:40.488Z"
      },
      {
        "duration": 310,
        "start_time": "2023-06-30T14:06:27.953Z"
      },
      {
        "duration": 357,
        "start_time": "2023-06-30T14:07:21.793Z"
      },
      {
        "duration": 340,
        "start_time": "2023-06-30T14:08:01.686Z"
      },
      {
        "duration": 370,
        "start_time": "2023-06-30T14:08:20.132Z"
      },
      {
        "duration": 347,
        "start_time": "2023-06-30T14:09:14.980Z"
      },
      {
        "duration": 317,
        "start_time": "2023-06-30T14:09:41.316Z"
      },
      {
        "duration": 494,
        "start_time": "2023-06-30T14:22:40.497Z"
      },
      {
        "duration": 477,
        "start_time": "2023-06-30T14:22:50.489Z"
      },
      {
        "duration": 558,
        "start_time": "2023-06-30T14:24:33.422Z"
      },
      {
        "duration": 429,
        "start_time": "2023-06-30T14:26:16.698Z"
      },
      {
        "duration": 385,
        "start_time": "2023-06-30T14:27:05.927Z"
      },
      {
        "duration": 316,
        "start_time": "2023-06-30T14:27:41.134Z"
      },
      {
        "duration": 361,
        "start_time": "2023-06-30T14:27:46.027Z"
      },
      {
        "duration": 394,
        "start_time": "2023-06-30T14:28:05.121Z"
      },
      {
        "duration": 151,
        "start_time": "2023-06-30T14:28:15.543Z"
      },
      {
        "duration": 394,
        "start_time": "2023-06-30T14:39:47.220Z"
      },
      {
        "duration": 663,
        "start_time": "2023-06-30T14:40:24.797Z"
      },
      {
        "duration": 1205,
        "start_time": "2023-06-30T14:40:32.207Z"
      },
      {
        "duration": 353,
        "start_time": "2023-06-30T14:40:47.631Z"
      },
      {
        "duration": 343,
        "start_time": "2023-06-30T14:41:25.115Z"
      },
      {
        "duration": 3246,
        "start_time": "2023-06-30T14:41:34.205Z"
      },
      {
        "duration": 637,
        "start_time": "2023-06-30T14:42:20.399Z"
      },
      {
        "duration": 632,
        "start_time": "2023-06-30T14:42:34.929Z"
      },
      {
        "duration": 559,
        "start_time": "2023-06-30T14:42:42.618Z"
      },
      {
        "duration": 503,
        "start_time": "2023-06-30T14:45:08.194Z"
      },
      {
        "duration": 490,
        "start_time": "2023-06-30T14:45:23.797Z"
      },
      {
        "duration": 483,
        "start_time": "2023-06-30T14:45:37.281Z"
      },
      {
        "duration": 524,
        "start_time": "2023-06-30T14:45:45.890Z"
      },
      {
        "duration": 878,
        "start_time": "2023-06-30T14:47:01.105Z"
      },
      {
        "duration": 634,
        "start_time": "2023-06-30T14:47:51.448Z"
      },
      {
        "duration": 678,
        "start_time": "2023-06-30T14:47:57.289Z"
      },
      {
        "duration": 820,
        "start_time": "2023-06-30T14:52:55.144Z"
      },
      {
        "duration": 120,
        "start_time": "2023-06-30T15:01:04.203Z"
      },
      {
        "duration": 716,
        "start_time": "2023-06-30T15:01:11.997Z"
      },
      {
        "duration": 891,
        "start_time": "2023-06-30T15:01:31.751Z"
      },
      {
        "duration": 820,
        "start_time": "2023-06-30T15:02:17.153Z"
      },
      {
        "duration": 809,
        "start_time": "2023-06-30T15:03:49.645Z"
      },
      {
        "duration": 1033,
        "start_time": "2023-06-30T15:04:00.987Z"
      },
      {
        "duration": 806,
        "start_time": "2023-06-30T15:05:56.111Z"
      },
      {
        "duration": 884,
        "start_time": "2023-06-30T15:07:31.794Z"
      },
      {
        "duration": 12,
        "start_time": "2023-06-30T15:22:52.030Z"
      },
      {
        "duration": 15,
        "start_time": "2023-06-30T15:23:20.606Z"
      },
      {
        "duration": 464,
        "start_time": "2023-06-30T15:23:40.501Z"
      },
      {
        "duration": 309,
        "start_time": "2023-06-30T15:23:54.197Z"
      },
      {
        "duration": 514,
        "start_time": "2023-06-30T15:24:04.080Z"
      },
      {
        "duration": 993,
        "start_time": "2023-06-30T15:24:09.710Z"
      },
      {
        "duration": 711,
        "start_time": "2023-06-30T15:25:57.359Z"
      },
      {
        "duration": 292,
        "start_time": "2023-06-30T15:27:18.170Z"
      },
      {
        "duration": 300,
        "start_time": "2023-06-30T15:31:23.182Z"
      },
      {
        "duration": 527,
        "start_time": "2023-06-30T15:31:42.712Z"
      },
      {
        "duration": 345,
        "start_time": "2023-06-30T15:32:10.473Z"
      },
      {
        "duration": 363,
        "start_time": "2023-06-30T15:33:09.805Z"
      },
      {
        "duration": 420,
        "start_time": "2023-06-30T15:33:56.662Z"
      },
      {
        "duration": 13,
        "start_time": "2023-06-30T15:34:51.672Z"
      },
      {
        "duration": 378,
        "start_time": "2023-06-30T15:35:03.808Z"
      },
      {
        "duration": 334,
        "start_time": "2023-06-30T15:35:13.259Z"
      },
      {
        "duration": 542,
        "start_time": "2023-06-30T15:35:20.249Z"
      },
      {
        "duration": 348,
        "start_time": "2023-06-30T15:35:33.545Z"
      },
      {
        "duration": 348,
        "start_time": "2023-06-30T15:35:38.831Z"
      },
      {
        "duration": 332,
        "start_time": "2023-06-30T15:35:44.439Z"
      },
      {
        "duration": 347,
        "start_time": "2023-06-30T15:36:12.812Z"
      },
      {
        "duration": 525,
        "start_time": "2023-06-30T15:40:09.868Z"
      },
      {
        "duration": 12,
        "start_time": "2023-06-30T15:54:49.714Z"
      },
      {
        "duration": 9,
        "start_time": "2023-06-30T15:55:39.680Z"
      },
      {
        "duration": 7,
        "start_time": "2023-06-30T16:01:18.733Z"
      },
      {
        "duration": 722,
        "start_time": "2023-06-30T16:02:29.203Z"
      },
      {
        "duration": 729,
        "start_time": "2023-06-30T16:14:52.573Z"
      },
      {
        "duration": 1047,
        "start_time": "2023-06-30T16:15:08.125Z"
      },
      {
        "duration": 998,
        "start_time": "2023-06-30T16:15:24.931Z"
      },
      {
        "duration": 7,
        "start_time": "2023-06-30T16:16:43.141Z"
      },
      {
        "duration": 8,
        "start_time": "2023-06-30T16:19:52.319Z"
      },
      {
        "duration": 6,
        "start_time": "2023-06-30T16:20:01.387Z"
      },
      {
        "duration": 6,
        "start_time": "2023-06-30T16:20:13.639Z"
      },
      {
        "duration": 7,
        "start_time": "2023-06-30T16:20:35.441Z"
      },
      {
        "duration": 1549,
        "start_time": "2023-06-30T16:20:51.271Z"
      },
      {
        "duration": 1697,
        "start_time": "2023-06-30T16:20:59.849Z"
      },
      {
        "duration": 1684,
        "start_time": "2023-06-30T16:21:10.959Z"
      },
      {
        "duration": 1417,
        "start_time": "2023-06-30T16:21:31.100Z"
      },
      {
        "duration": 2741,
        "start_time": "2023-06-30T16:21:37.314Z"
      },
      {
        "duration": 1676,
        "start_time": "2023-06-30T16:21:47.620Z"
      },
      {
        "duration": 1882,
        "start_time": "2023-06-30T16:22:00.687Z"
      },
      {
        "duration": 2025,
        "start_time": "2023-06-30T16:22:12.039Z"
      },
      {
        "duration": 2179,
        "start_time": "2023-06-30T16:22:28.622Z"
      },
      {
        "duration": 1628,
        "start_time": "2023-06-30T16:25:31.326Z"
      },
      {
        "duration": 2642,
        "start_time": "2023-06-30T16:25:32.956Z"
      },
      {
        "duration": 84,
        "start_time": "2023-06-30T16:25:35.600Z"
      },
      {
        "duration": 61,
        "start_time": "2023-06-30T16:25:35.686Z"
      },
      {
        "duration": 79,
        "start_time": "2023-06-30T16:25:35.749Z"
      },
      {
        "duration": 20,
        "start_time": "2023-06-30T16:25:35.830Z"
      },
      {
        "duration": 13,
        "start_time": "2023-06-30T16:25:35.852Z"
      },
      {
        "duration": 51,
        "start_time": "2023-06-30T16:25:35.866Z"
      },
      {
        "duration": 16,
        "start_time": "2023-06-30T16:25:35.918Z"
      },
      {
        "duration": 16,
        "start_time": "2023-06-30T16:25:35.938Z"
      },
      {
        "duration": 15,
        "start_time": "2023-06-30T16:25:35.956Z"
      },
      {
        "duration": 164,
        "start_time": "2023-06-30T16:25:35.973Z"
      },
      {
        "duration": 20,
        "start_time": "2023-06-30T16:25:36.139Z"
      },
      {
        "duration": 123,
        "start_time": "2023-06-30T16:25:36.161Z"
      },
      {
        "duration": 3,
        "start_time": "2023-06-30T16:25:36.286Z"
      },
      {
        "duration": 280,
        "start_time": "2023-06-30T16:25:36.306Z"
      },
      {
        "duration": 20,
        "start_time": "2023-06-30T16:25:36.588Z"
      },
      {
        "duration": 33,
        "start_time": "2023-06-30T16:25:36.610Z"
      },
      {
        "duration": 29,
        "start_time": "2023-06-30T16:25:36.645Z"
      },
      {
        "duration": 41,
        "start_time": "2023-06-30T16:25:36.677Z"
      },
      {
        "duration": 8,
        "start_time": "2023-06-30T16:25:36.725Z"
      },
      {
        "duration": 11,
        "start_time": "2023-06-30T16:25:36.735Z"
      },
      {
        "duration": 7,
        "start_time": "2023-06-30T16:25:36.747Z"
      },
      {
        "duration": 7,
        "start_time": "2023-06-30T16:25:36.756Z"
      },
      {
        "duration": 817,
        "start_time": "2023-06-30T16:25:36.764Z"
      },
      {
        "duration": 891,
        "start_time": "2023-06-30T16:25:37.583Z"
      },
      {
        "duration": 832,
        "start_time": "2023-06-30T16:25:38.476Z"
      },
      {
        "duration": 349,
        "start_time": "2023-06-30T16:25:39.313Z"
      },
      {
        "duration": 9,
        "start_time": "2023-06-30T16:25:39.663Z"
      },
      {
        "duration": 1327,
        "start_time": "2023-06-30T16:25:39.674Z"
      },
      {
        "duration": 6,
        "start_time": "2023-06-30T16:25:49.892Z"
      },
      {
        "duration": 1537,
        "start_time": "2023-07-01T11:12:27.109Z"
      },
      {
        "duration": 2214,
        "start_time": "2023-07-01T11:12:28.648Z"
      },
      {
        "duration": 63,
        "start_time": "2023-07-01T11:12:30.863Z"
      },
      {
        "duration": 35,
        "start_time": "2023-07-01T11:12:30.928Z"
      },
      {
        "duration": 71,
        "start_time": "2023-07-01T11:12:30.965Z"
      },
      {
        "duration": 16,
        "start_time": "2023-07-01T11:12:31.037Z"
      },
      {
        "duration": 34,
        "start_time": "2023-07-01T11:12:31.055Z"
      },
      {
        "duration": 47,
        "start_time": "2023-07-01T11:12:31.091Z"
      },
      {
        "duration": 25,
        "start_time": "2023-07-01T11:12:31.139Z"
      },
      {
        "duration": 36,
        "start_time": "2023-07-01T11:12:31.166Z"
      },
      {
        "duration": 28,
        "start_time": "2023-07-01T11:12:31.204Z"
      },
      {
        "duration": 147,
        "start_time": "2023-07-01T11:12:31.235Z"
      },
      {
        "duration": 22,
        "start_time": "2023-07-01T11:12:31.385Z"
      },
      {
        "duration": 113,
        "start_time": "2023-07-01T11:12:31.410Z"
      },
      {
        "duration": 3,
        "start_time": "2023-07-01T11:12:31.525Z"
      },
      {
        "duration": 277,
        "start_time": "2023-07-01T11:12:31.529Z"
      },
      {
        "duration": 6,
        "start_time": "2023-07-01T11:12:31.808Z"
      },
      {
        "duration": 34,
        "start_time": "2023-07-01T11:12:31.816Z"
      },
      {
        "duration": 29,
        "start_time": "2023-07-01T11:12:31.852Z"
      },
      {
        "duration": 20,
        "start_time": "2023-07-01T11:12:31.885Z"
      },
      {
        "duration": 11,
        "start_time": "2023-07-01T11:12:31.907Z"
      },
      {
        "duration": 7,
        "start_time": "2023-07-01T11:12:31.920Z"
      },
      {
        "duration": 6,
        "start_time": "2023-07-01T11:12:31.929Z"
      },
      {
        "duration": 6,
        "start_time": "2023-07-01T11:12:31.936Z"
      },
      {
        "duration": 783,
        "start_time": "2023-07-01T11:12:31.944Z"
      },
      {
        "duration": 694,
        "start_time": "2023-07-01T11:12:32.729Z"
      },
      {
        "duration": 691,
        "start_time": "2023-07-01T11:12:33.425Z"
      },
      {
        "duration": 279,
        "start_time": "2023-07-01T11:12:34.118Z"
      },
      {
        "duration": 7,
        "start_time": "2023-07-01T11:12:34.399Z"
      },
      {
        "duration": 987,
        "start_time": "2023-07-01T11:12:34.407Z"
      },
      {
        "duration": 192,
        "start_time": "2023-07-01T11:49:10.993Z"
      },
      {
        "duration": 83,
        "start_time": "2023-07-01T11:50:55.311Z"
      },
      {
        "duration": 136,
        "start_time": "2023-07-01T11:51:53.447Z"
      },
      {
        "duration": 3,
        "start_time": "2023-07-01T11:52:03.767Z"
      },
      {
        "duration": 6,
        "start_time": "2023-07-01T11:52:55.400Z"
      },
      {
        "duration": 6,
        "start_time": "2023-07-01T11:54:45.263Z"
      },
      {
        "duration": 3,
        "start_time": "2023-07-01T12:20:30.396Z"
      },
      {
        "duration": 3,
        "start_time": "2023-07-01T12:20:30.884Z"
      },
      {
        "duration": 113,
        "start_time": "2023-07-01T12:21:48.268Z"
      },
      {
        "duration": 5,
        "start_time": "2023-07-01T12:22:19.164Z"
      },
      {
        "duration": 10,
        "start_time": "2023-07-01T12:22:27.539Z"
      },
      {
        "duration": 4,
        "start_time": "2023-07-01T12:22:45.411Z"
      },
      {
        "duration": 4,
        "start_time": "2023-07-01T12:24:33.618Z"
      },
      {
        "duration": 3,
        "start_time": "2023-07-01T12:24:34.306Z"
      },
      {
        "duration": 2,
        "start_time": "2023-07-01T12:39:53.247Z"
      },
      {
        "duration": 7,
        "start_time": "2023-07-01T12:43:19.037Z"
      },
      {
        "duration": 8,
        "start_time": "2023-07-01T12:44:51.604Z"
      },
      {
        "duration": 7,
        "start_time": "2023-07-01T12:44:52.051Z"
      },
      {
        "duration": 9,
        "start_time": "2023-07-01T12:46:56.623Z"
      },
      {
        "duration": 31,
        "start_time": "2023-07-01T12:47:33.347Z"
      },
      {
        "duration": 27,
        "start_time": "2023-07-01T12:53:06.090Z"
      },
      {
        "duration": 29,
        "start_time": "2023-07-01T12:55:54.596Z"
      },
      {
        "duration": 17,
        "start_time": "2023-07-01T12:56:36.964Z"
      },
      {
        "duration": 1563,
        "start_time": "2023-07-01T12:59:43.513Z"
      },
      {
        "duration": 876,
        "start_time": "2023-07-01T12:59:45.078Z"
      },
      {
        "duration": 68,
        "start_time": "2023-07-01T12:59:45.958Z"
      },
      {
        "duration": 47,
        "start_time": "2023-07-01T12:59:46.028Z"
      },
      {
        "duration": 62,
        "start_time": "2023-07-01T12:59:46.077Z"
      },
      {
        "duration": 17,
        "start_time": "2023-07-01T12:59:46.140Z"
      },
      {
        "duration": 12,
        "start_time": "2023-07-01T12:59:46.174Z"
      },
      {
        "duration": 16,
        "start_time": "2023-07-01T12:59:46.188Z"
      },
      {
        "duration": 8,
        "start_time": "2023-07-01T12:59:46.206Z"
      },
      {
        "duration": 17,
        "start_time": "2023-07-01T12:59:46.215Z"
      },
      {
        "duration": 12,
        "start_time": "2023-07-01T12:59:46.233Z"
      },
      {
        "duration": 141,
        "start_time": "2023-07-01T12:59:46.246Z"
      },
      {
        "duration": 25,
        "start_time": "2023-07-01T12:59:46.390Z"
      },
      {
        "duration": 138,
        "start_time": "2023-07-01T12:59:46.417Z"
      },
      {
        "duration": 5,
        "start_time": "2023-07-01T12:59:46.557Z"
      },
      {
        "duration": 274,
        "start_time": "2023-07-01T12:59:46.565Z"
      },
      {
        "duration": 10,
        "start_time": "2023-07-01T12:59:46.841Z"
      },
      {
        "duration": 31,
        "start_time": "2023-07-01T12:59:46.853Z"
      },
      {
        "duration": 44,
        "start_time": "2023-07-01T12:59:46.886Z"
      },
      {
        "duration": 28,
        "start_time": "2023-07-01T12:59:46.931Z"
      },
      {
        "duration": 11,
        "start_time": "2023-07-01T12:59:46.961Z"
      },
      {
        "duration": 10,
        "start_time": "2023-07-01T12:59:46.973Z"
      },
      {
        "duration": 14,
        "start_time": "2023-07-01T12:59:46.985Z"
      },
      {
        "duration": 56,
        "start_time": "2023-07-01T12:59:47.000Z"
      },
      {
        "duration": 894,
        "start_time": "2023-07-01T12:59:47.059Z"
      },
      {
        "duration": 712,
        "start_time": "2023-07-01T12:59:47.955Z"
      },
      {
        "duration": 767,
        "start_time": "2023-07-01T12:59:48.674Z"
      },
      {
        "duration": 338,
        "start_time": "2023-07-01T12:59:49.443Z"
      },
      {
        "duration": 9,
        "start_time": "2023-07-01T12:59:49.783Z"
      },
      {
        "duration": 1107,
        "start_time": "2023-07-01T12:59:49.794Z"
      },
      {
        "duration": 3,
        "start_time": "2023-07-01T12:59:50.903Z"
      },
      {
        "duration": 25,
        "start_time": "2023-07-01T12:59:50.908Z"
      },
      {
        "duration": 20,
        "start_time": "2023-07-01T12:59:50.935Z"
      },
      {
        "duration": 28,
        "start_time": "2023-07-01T12:59:50.956Z"
      },
      {
        "duration": 39,
        "start_time": "2023-07-01T12:59:50.987Z"
      },
      {
        "duration": 56,
        "start_time": "2023-07-01T12:59:51.028Z"
      },
      {
        "duration": 5,
        "start_time": "2023-07-01T12:59:51.085Z"
      },
      {
        "duration": 465371,
        "start_time": "2023-07-01T12:59:51.092Z"
      },
      {
        "duration": 7615,
        "start_time": "2023-07-01T13:07:51.303Z"
      },
      {
        "duration": 47522,
        "start_time": "2023-07-01T13:08:17.103Z"
      },
      {
        "duration": 1037333,
        "start_time": "2023-07-01T13:09:28.694Z"
      },
      {
        "duration": 801372,
        "start_time": "2023-07-01T13:34:14.886Z"
      },
      {
        "duration": 808155,
        "start_time": "2023-07-01T13:50:04.982Z"
      },
      {
        "duration": 13,
        "start_time": "2023-07-01T14:26:35.238Z"
      },
      {
        "duration": 60245,
        "start_time": "2023-07-01T14:26:49.286Z"
      },
      {
        "duration": 60131,
        "start_time": "2023-07-01T14:28:54.637Z"
      },
      {
        "duration": 12,
        "start_time": "2023-07-01T14:31:13.957Z"
      },
      {
        "duration": 13,
        "start_time": "2023-07-01T14:31:35.568Z"
      },
      {
        "duration": 10,
        "start_time": "2023-07-01T14:32:44.498Z"
      },
      {
        "duration": 154,
        "start_time": "2023-07-01T14:33:20.034Z"
      },
      {
        "duration": 337,
        "start_time": "2023-07-01T14:34:00.841Z"
      },
      {
        "duration": 1509,
        "start_time": "2023-07-02T06:24:36.889Z"
      },
      {
        "duration": 1986,
        "start_time": "2023-07-02T06:24:38.400Z"
      },
      {
        "duration": 55,
        "start_time": "2023-07-02T06:24:40.388Z"
      },
      {
        "duration": 36,
        "start_time": "2023-07-02T06:24:40.445Z"
      },
      {
        "duration": 58,
        "start_time": "2023-07-02T06:24:40.482Z"
      },
      {
        "duration": 15,
        "start_time": "2023-07-02T06:24:40.541Z"
      },
      {
        "duration": 24,
        "start_time": "2023-07-02T06:24:40.558Z"
      },
      {
        "duration": 33,
        "start_time": "2023-07-02T06:24:40.583Z"
      },
      {
        "duration": 7,
        "start_time": "2023-07-02T06:24:40.618Z"
      },
      {
        "duration": 13,
        "start_time": "2023-07-02T06:24:40.627Z"
      },
      {
        "duration": 22,
        "start_time": "2023-07-02T06:24:40.641Z"
      },
      {
        "duration": 110,
        "start_time": "2023-07-02T06:24:40.664Z"
      },
      {
        "duration": 19,
        "start_time": "2023-07-02T06:24:40.776Z"
      },
      {
        "duration": 99,
        "start_time": "2023-07-02T06:24:40.796Z"
      },
      {
        "duration": 3,
        "start_time": "2023-07-02T06:24:40.897Z"
      },
      {
        "duration": 237,
        "start_time": "2023-07-02T06:24:40.901Z"
      },
      {
        "duration": 7,
        "start_time": "2023-07-02T06:24:41.140Z"
      },
      {
        "duration": 30,
        "start_time": "2023-07-02T06:24:41.149Z"
      },
      {
        "duration": 23,
        "start_time": "2023-07-02T06:24:41.180Z"
      },
      {
        "duration": 12,
        "start_time": "2023-07-02T06:24:41.204Z"
      },
      {
        "duration": 9,
        "start_time": "2023-07-02T06:24:41.218Z"
      },
      {
        "duration": 5,
        "start_time": "2023-07-02T06:24:41.229Z"
      },
      {
        "duration": 10,
        "start_time": "2023-07-02T06:24:41.235Z"
      },
      {
        "duration": 714,
        "start_time": "2023-07-02T06:24:41.246Z"
      },
      {
        "duration": 610,
        "start_time": "2023-07-02T06:24:41.961Z"
      },
      {
        "duration": 640,
        "start_time": "2023-07-02T06:24:42.575Z"
      },
      {
        "duration": 293,
        "start_time": "2023-07-02T06:24:43.216Z"
      },
      {
        "duration": 11,
        "start_time": "2023-07-02T06:24:43.513Z"
      },
      {
        "duration": 952,
        "start_time": "2023-07-02T06:24:43.526Z"
      },
      {
        "duration": 3,
        "start_time": "2023-07-02T06:24:44.480Z"
      },
      {
        "duration": 8,
        "start_time": "2023-07-02T06:24:44.484Z"
      },
      {
        "duration": 5,
        "start_time": "2023-07-02T06:24:44.494Z"
      },
      {
        "duration": 18,
        "start_time": "2023-07-02T06:24:44.501Z"
      },
      {
        "duration": 6,
        "start_time": "2023-07-02T06:24:44.521Z"
      },
      {
        "duration": 12,
        "start_time": "2023-07-02T06:24:44.528Z"
      },
      {
        "duration": 46,
        "start_time": "2023-07-02T06:24:44.541Z"
      },
      {
        "duration": 433667,
        "start_time": "2023-07-02T06:24:44.589Z"
      },
      {
        "duration": 0,
        "start_time": "2023-07-02T06:31:58.258Z"
      },
      {
        "duration": 0,
        "start_time": "2023-07-02T06:31:58.259Z"
      },
      {
        "duration": 0,
        "start_time": "2023-07-02T06:31:58.260Z"
      },
      {
        "duration": 0,
        "start_time": "2023-07-02T06:31:58.261Z"
      },
      {
        "duration": 9,
        "start_time": "2023-07-02T06:32:00.259Z"
      },
      {
        "duration": 29,
        "start_time": "2023-07-02T06:34:14.416Z"
      },
      {
        "duration": 8,
        "start_time": "2023-07-02T06:35:10.440Z"
      },
      {
        "duration": 1420,
        "start_time": "2023-07-02T06:39:25.686Z"
      },
      {
        "duration": 762,
        "start_time": "2023-07-02T06:39:27.108Z"
      },
      {
        "duration": 57,
        "start_time": "2023-07-02T06:39:27.875Z"
      },
      {
        "duration": 50,
        "start_time": "2023-07-02T06:39:27.933Z"
      },
      {
        "duration": 57,
        "start_time": "2023-07-02T06:39:27.984Z"
      },
      {
        "duration": 36,
        "start_time": "2023-07-02T06:39:28.042Z"
      },
      {
        "duration": 11,
        "start_time": "2023-07-02T06:39:28.079Z"
      },
      {
        "duration": 30,
        "start_time": "2023-07-02T06:39:28.091Z"
      },
      {
        "duration": 8,
        "start_time": "2023-07-02T06:39:28.122Z"
      },
      {
        "duration": 7,
        "start_time": "2023-07-02T06:39:28.133Z"
      },
      {
        "duration": 8,
        "start_time": "2023-07-02T06:39:28.142Z"
      },
      {
        "duration": 133,
        "start_time": "2023-07-02T06:39:28.151Z"
      },
      {
        "duration": 18,
        "start_time": "2023-07-02T06:39:28.285Z"
      },
      {
        "duration": 106,
        "start_time": "2023-07-02T06:39:28.305Z"
      },
      {
        "duration": 3,
        "start_time": "2023-07-02T06:39:28.413Z"
      },
      {
        "duration": 245,
        "start_time": "2023-07-02T06:39:28.417Z"
      },
      {
        "duration": 12,
        "start_time": "2023-07-02T06:39:28.663Z"
      },
      {
        "duration": 12,
        "start_time": "2023-07-02T06:39:28.677Z"
      },
      {
        "duration": 28,
        "start_time": "2023-07-02T06:39:28.691Z"
      },
      {
        "duration": 6,
        "start_time": "2023-07-02T06:39:28.721Z"
      },
      {
        "duration": 11,
        "start_time": "2023-07-02T06:39:28.729Z"
      },
      {
        "duration": 7,
        "start_time": "2023-07-02T06:39:28.742Z"
      },
      {
        "duration": 27,
        "start_time": "2023-07-02T06:39:28.750Z"
      },
      {
        "duration": 696,
        "start_time": "2023-07-02T06:39:28.779Z"
      },
      {
        "duration": 627,
        "start_time": "2023-07-02T06:39:29.476Z"
      },
      {
        "duration": 646,
        "start_time": "2023-07-02T06:39:30.105Z"
      },
      {
        "duration": 340,
        "start_time": "2023-07-02T06:39:30.753Z"
      },
      {
        "duration": 6,
        "start_time": "2023-07-02T06:39:31.097Z"
      },
      {
        "duration": 984,
        "start_time": "2023-07-02T06:39:31.105Z"
      },
      {
        "duration": 12,
        "start_time": "2023-07-02T06:39:32.090Z"
      },
      {
        "duration": 5,
        "start_time": "2023-07-02T06:39:32.103Z"
      },
      {
        "duration": 7,
        "start_time": "2023-07-02T06:39:32.110Z"
      },
      {
        "duration": 4,
        "start_time": "2023-07-02T06:39:32.118Z"
      },
      {
        "duration": 5,
        "start_time": "2023-07-02T06:39:32.123Z"
      },
      {
        "duration": 7,
        "start_time": "2023-07-02T06:39:32.129Z"
      },
      {
        "duration": 6,
        "start_time": "2023-07-02T06:39:32.137Z"
      },
      {
        "duration": 31,
        "start_time": "2023-07-02T06:39:32.144Z"
      },
      {
        "duration": 118,
        "start_time": "2023-07-02T06:39:32.176Z"
      },
      {
        "duration": 0,
        "start_time": "2023-07-02T06:39:32.296Z"
      },
      {
        "duration": 0,
        "start_time": "2023-07-02T06:39:32.297Z"
      },
      {
        "duration": 0,
        "start_time": "2023-07-02T06:39:32.299Z"
      },
      {
        "duration": 13,
        "start_time": "2023-07-02T06:48:58.024Z"
      },
      {
        "duration": 1359,
        "start_time": "2023-07-02T06:49:15.675Z"
      },
      {
        "duration": 734,
        "start_time": "2023-07-02T06:49:17.035Z"
      },
      {
        "duration": 61,
        "start_time": "2023-07-02T06:49:17.771Z"
      },
      {
        "duration": 47,
        "start_time": "2023-07-02T06:49:17.834Z"
      },
      {
        "duration": 55,
        "start_time": "2023-07-02T06:49:17.883Z"
      },
      {
        "duration": 36,
        "start_time": "2023-07-02T06:49:17.940Z"
      },
      {
        "duration": 11,
        "start_time": "2023-07-02T06:49:17.977Z"
      },
      {
        "duration": 15,
        "start_time": "2023-07-02T06:49:17.990Z"
      },
      {
        "duration": 7,
        "start_time": "2023-07-02T06:49:18.007Z"
      },
      {
        "duration": 6,
        "start_time": "2023-07-02T06:49:18.017Z"
      },
      {
        "duration": 23,
        "start_time": "2023-07-02T06:49:18.025Z"
      },
      {
        "duration": 136,
        "start_time": "2023-07-02T06:49:18.049Z"
      },
      {
        "duration": 19,
        "start_time": "2023-07-02T06:49:18.187Z"
      },
      {
        "duration": 104,
        "start_time": "2023-07-02T06:49:18.208Z"
      },
      {
        "duration": 3,
        "start_time": "2023-07-02T06:49:18.314Z"
      },
      {
        "duration": 236,
        "start_time": "2023-07-02T06:49:18.318Z"
      },
      {
        "duration": 5,
        "start_time": "2023-07-02T06:49:18.556Z"
      },
      {
        "duration": 22,
        "start_time": "2023-07-02T06:49:18.562Z"
      },
      {
        "duration": 20,
        "start_time": "2023-07-02T06:49:18.586Z"
      },
      {
        "duration": 5,
        "start_time": "2023-07-02T06:49:18.607Z"
      },
      {
        "duration": 9,
        "start_time": "2023-07-02T06:49:18.613Z"
      },
      {
        "duration": 7,
        "start_time": "2023-07-02T06:49:18.623Z"
      },
      {
        "duration": 9,
        "start_time": "2023-07-02T06:49:18.632Z"
      },
      {
        "duration": 695,
        "start_time": "2023-07-02T06:49:18.642Z"
      },
      {
        "duration": 632,
        "start_time": "2023-07-02T06:49:19.338Z"
      },
      {
        "duration": 635,
        "start_time": "2023-07-02T06:49:19.974Z"
      },
      {
        "duration": 302,
        "start_time": "2023-07-02T06:49:20.611Z"
      },
      {
        "duration": 7,
        "start_time": "2023-07-02T06:49:20.917Z"
      },
      {
        "duration": 1043,
        "start_time": "2023-07-02T06:49:20.926Z"
      },
      {
        "duration": 19,
        "start_time": "2023-07-02T06:49:21.975Z"
      },
      {
        "duration": 8,
        "start_time": "2023-07-02T06:49:21.996Z"
      },
      {
        "duration": 15,
        "start_time": "2023-07-02T06:49:22.006Z"
      },
      {
        "duration": 7,
        "start_time": "2023-07-02T06:49:22.023Z"
      },
      {
        "duration": 11,
        "start_time": "2023-07-02T06:49:22.032Z"
      },
      {
        "duration": 23,
        "start_time": "2023-07-02T06:49:22.045Z"
      },
      {
        "duration": 16,
        "start_time": "2023-07-02T06:49:22.070Z"
      },
      {
        "duration": 52,
        "start_time": "2023-07-02T06:49:22.088Z"
      },
      {
        "duration": 485262,
        "start_time": "2023-07-02T06:49:22.142Z"
      },
      {
        "duration": 0,
        "start_time": "2023-07-02T06:57:27.406Z"
      },
      {
        "duration": 0,
        "start_time": "2023-07-02T06:57:27.407Z"
      },
      {
        "duration": 0,
        "start_time": "2023-07-02T06:57:27.408Z"
      },
      {
        "duration": 3,
        "start_time": "2023-07-02T06:57:30.404Z"
      },
      {
        "duration": 5,
        "start_time": "2023-07-02T06:58:28.075Z"
      },
      {
        "duration": 967,
        "start_time": "2023-07-02T06:59:05.514Z"
      },
      {
        "duration": 6,
        "start_time": "2023-07-02T07:01:08.601Z"
      },
      {
        "duration": 18,
        "start_time": "2023-07-02T07:01:09.241Z"
      },
      {
        "duration": 1355,
        "start_time": "2023-07-02T07:02:14.388Z"
      },
      {
        "duration": 822,
        "start_time": "2023-07-02T07:02:15.744Z"
      },
      {
        "duration": 61,
        "start_time": "2023-07-02T07:02:16.568Z"
      },
      {
        "duration": 45,
        "start_time": "2023-07-02T07:02:16.631Z"
      },
      {
        "duration": 56,
        "start_time": "2023-07-02T07:02:16.677Z"
      },
      {
        "duration": 16,
        "start_time": "2023-07-02T07:02:16.735Z"
      },
      {
        "duration": 36,
        "start_time": "2023-07-02T07:02:16.753Z"
      },
      {
        "duration": 15,
        "start_time": "2023-07-02T07:02:16.791Z"
      },
      {
        "duration": 8,
        "start_time": "2023-07-02T07:02:16.808Z"
      },
      {
        "duration": 18,
        "start_time": "2023-07-02T07:02:16.818Z"
      },
      {
        "duration": 15,
        "start_time": "2023-07-02T07:02:16.837Z"
      },
      {
        "duration": 129,
        "start_time": "2023-07-02T07:02:16.854Z"
      },
      {
        "duration": 19,
        "start_time": "2023-07-02T07:02:16.985Z"
      },
      {
        "duration": 102,
        "start_time": "2023-07-02T07:02:17.006Z"
      },
      {
        "duration": 3,
        "start_time": "2023-07-02T07:02:17.110Z"
      },
      {
        "duration": 262,
        "start_time": "2023-07-02T07:02:17.115Z"
      },
      {
        "duration": 5,
        "start_time": "2023-07-02T07:02:17.379Z"
      },
      {
        "duration": 16,
        "start_time": "2023-07-02T07:02:17.385Z"
      },
      {
        "duration": 19,
        "start_time": "2023-07-02T07:02:17.402Z"
      },
      {
        "duration": 8,
        "start_time": "2023-07-02T07:02:17.423Z"
      },
      {
        "duration": 16,
        "start_time": "2023-07-02T07:02:17.433Z"
      },
      {
        "duration": 26,
        "start_time": "2023-07-02T07:02:17.451Z"
      },
      {
        "duration": 7,
        "start_time": "2023-07-02T07:02:17.479Z"
      },
      {
        "duration": 711,
        "start_time": "2023-07-02T07:02:17.487Z"
      },
      {
        "duration": 657,
        "start_time": "2023-07-02T07:02:18.200Z"
      },
      {
        "duration": 669,
        "start_time": "2023-07-02T07:02:18.859Z"
      },
      {
        "duration": 270,
        "start_time": "2023-07-02T07:02:19.529Z"
      },
      {
        "duration": 3,
        "start_time": "2023-07-02T07:02:19.803Z"
      },
      {
        "duration": 20,
        "start_time": "2023-07-02T07:02:19.807Z"
      },
      {
        "duration": 990,
        "start_time": "2023-07-02T07:02:19.828Z"
      },
      {
        "duration": 6,
        "start_time": "2023-07-02T07:02:20.820Z"
      },
      {
        "duration": 20,
        "start_time": "2023-07-02T07:02:20.828Z"
      },
      {
        "duration": 4,
        "start_time": "2023-07-02T07:02:20.850Z"
      },
      {
        "duration": 3,
        "start_time": "2023-07-02T07:02:20.876Z"
      },
      {
        "duration": 13,
        "start_time": "2023-07-02T07:02:20.881Z"
      },
      {
        "duration": 18,
        "start_time": "2023-07-02T07:02:20.896Z"
      },
      {
        "duration": 18,
        "start_time": "2023-07-02T07:02:20.916Z"
      },
      {
        "duration": 16,
        "start_time": "2023-07-02T07:02:20.935Z"
      },
      {
        "duration": 55,
        "start_time": "2023-07-02T07:02:20.952Z"
      },
      {
        "duration": 738051,
        "start_time": "2023-07-02T07:02:21.008Z"
      },
      {
        "duration": 0,
        "start_time": "2023-07-02T07:14:39.062Z"
      },
      {
        "duration": 0,
        "start_time": "2023-07-02T07:14:39.063Z"
      },
      {
        "duration": 0,
        "start_time": "2023-07-02T07:14:39.064Z"
      },
      {
        "duration": 0,
        "start_time": "2023-07-02T07:14:39.066Z"
      },
      {
        "duration": 1615,
        "start_time": "2023-07-02T07:14:44.075Z"
      },
      {
        "duration": 802,
        "start_time": "2023-07-02T07:14:45.692Z"
      },
      {
        "duration": 55,
        "start_time": "2023-07-02T07:14:46.496Z"
      },
      {
        "duration": 43,
        "start_time": "2023-07-02T07:14:46.552Z"
      },
      {
        "duration": 79,
        "start_time": "2023-07-02T07:14:46.596Z"
      },
      {
        "duration": 16,
        "start_time": "2023-07-02T07:14:46.677Z"
      },
      {
        "duration": 18,
        "start_time": "2023-07-02T07:14:46.695Z"
      },
      {
        "duration": 14,
        "start_time": "2023-07-02T07:14:46.715Z"
      },
      {
        "duration": 10,
        "start_time": "2023-07-02T07:14:46.731Z"
      },
      {
        "duration": 15,
        "start_time": "2023-07-02T07:14:46.744Z"
      },
      {
        "duration": 19,
        "start_time": "2023-07-02T07:14:46.760Z"
      },
      {
        "duration": 125,
        "start_time": "2023-07-02T07:14:46.781Z"
      },
      {
        "duration": 17,
        "start_time": "2023-07-02T07:14:46.908Z"
      },
      {
        "duration": 101,
        "start_time": "2023-07-02T07:14:46.927Z"
      },
      {
        "duration": 5,
        "start_time": "2023-07-02T07:14:47.030Z"
      },
      {
        "duration": 244,
        "start_time": "2023-07-02T07:14:47.037Z"
      },
      {
        "duration": 6,
        "start_time": "2023-07-02T07:14:47.283Z"
      },
      {
        "duration": 16,
        "start_time": "2023-07-02T07:14:47.290Z"
      },
      {
        "duration": 20,
        "start_time": "2023-07-02T07:14:47.308Z"
      },
      {
        "duration": 5,
        "start_time": "2023-07-02T07:14:47.329Z"
      },
      {
        "duration": 9,
        "start_time": "2023-07-02T07:14:47.335Z"
      },
      {
        "duration": 33,
        "start_time": "2023-07-02T07:14:47.345Z"
      },
      {
        "duration": 5,
        "start_time": "2023-07-02T07:14:47.380Z"
      },
      {
        "duration": 689,
        "start_time": "2023-07-02T07:14:47.386Z"
      },
      {
        "duration": 654,
        "start_time": "2023-07-02T07:14:48.077Z"
      },
      {
        "duration": 743,
        "start_time": "2023-07-02T07:14:48.732Z"
      },
      {
        "duration": 306,
        "start_time": "2023-07-02T07:14:49.476Z"
      },
      {
        "duration": 4,
        "start_time": "2023-07-02T07:14:49.786Z"
      },
      {
        "duration": 12,
        "start_time": "2023-07-02T07:14:49.791Z"
      },
      {
        "duration": 1046,
        "start_time": "2023-07-02T07:14:49.805Z"
      },
      {
        "duration": 5,
        "start_time": "2023-07-02T07:14:50.853Z"
      },
      {
        "duration": 32,
        "start_time": "2023-07-02T07:14:50.860Z"
      },
      {
        "duration": 4,
        "start_time": "2023-07-02T07:14:50.894Z"
      },
      {
        "duration": 9,
        "start_time": "2023-07-02T07:14:50.899Z"
      },
      {
        "duration": 10,
        "start_time": "2023-07-02T07:14:50.909Z"
      },
      {
        "duration": 6,
        "start_time": "2023-07-02T07:14:50.920Z"
      },
      {
        "duration": 13,
        "start_time": "2023-07-02T07:14:50.927Z"
      },
      {
        "duration": 18,
        "start_time": "2023-07-02T07:14:50.942Z"
      },
      {
        "duration": 57,
        "start_time": "2023-07-02T07:14:50.961Z"
      },
      {
        "duration": 1034112,
        "start_time": "2023-07-02T07:14:51.020Z"
      },
      {
        "duration": 1053347,
        "start_time": "2023-07-02T07:32:05.133Z"
      },
      {
        "duration": 81995,
        "start_time": "2023-07-02T07:49:38.481Z"
      },
      {
        "duration": 83765,
        "start_time": "2023-07-02T07:51:00.478Z"
      },
      {
        "duration": 1510,
        "start_time": "2023-07-02T07:58:36.556Z"
      },
      {
        "duration": 250,
        "start_time": "2023-07-02T07:59:07.133Z"
      },
      {
        "duration": 299,
        "start_time": "2023-07-02T08:24:15.877Z"
      },
      {
        "duration": 6,
        "start_time": "2023-07-02T08:24:39.613Z"
      },
      {
        "duration": 377,
        "start_time": "2023-07-02T08:24:43.403Z"
      },
      {
        "duration": 255,
        "start_time": "2023-07-02T08:31:40.223Z"
      },
      {
        "duration": 470,
        "start_time": "2023-07-02T08:43:46.927Z"
      },
      {
        "duration": 5,
        "start_time": "2023-07-02T08:45:52.446Z"
      },
      {
        "duration": 51,
        "start_time": "2023-07-02T08:46:00.886Z"
      },
      {
        "duration": 40,
        "start_time": "2023-07-02T08:47:28.785Z"
      },
      {
        "duration": 50,
        "start_time": "2023-07-02T08:47:57.774Z"
      },
      {
        "duration": 270,
        "start_time": "2023-07-02T08:49:23.821Z"
      },
      {
        "duration": 17,
        "start_time": "2023-07-02T08:49:59.177Z"
      },
      {
        "duration": 31,
        "start_time": "2023-07-02T08:50:47.878Z"
      },
      {
        "duration": 6,
        "start_time": "2023-07-02T08:50:59.028Z"
      },
      {
        "duration": 5,
        "start_time": "2023-07-02T08:50:59.626Z"
      },
      {
        "duration": 18,
        "start_time": "2023-07-02T08:51:00.627Z"
      },
      {
        "duration": 174,
        "start_time": "2023-07-02T08:51:07.107Z"
      },
      {
        "duration": 1423,
        "start_time": "2023-07-02T08:51:19.085Z"
      },
      {
        "duration": 820,
        "start_time": "2023-07-02T08:51:20.510Z"
      },
      {
        "duration": 74,
        "start_time": "2023-07-02T08:51:21.332Z"
      },
      {
        "duration": 39,
        "start_time": "2023-07-02T08:51:21.408Z"
      },
      {
        "duration": 79,
        "start_time": "2023-07-02T08:51:21.448Z"
      },
      {
        "duration": 18,
        "start_time": "2023-07-02T08:51:21.528Z"
      },
      {
        "duration": 29,
        "start_time": "2023-07-02T08:51:21.547Z"
      },
      {
        "duration": 16,
        "start_time": "2023-07-02T08:51:21.577Z"
      },
      {
        "duration": 12,
        "start_time": "2023-07-02T08:51:21.595Z"
      },
      {
        "duration": 7,
        "start_time": "2023-07-02T08:51:21.610Z"
      },
      {
        "duration": 18,
        "start_time": "2023-07-02T08:51:21.618Z"
      },
      {
        "duration": 155,
        "start_time": "2023-07-02T08:51:21.637Z"
      },
      {
        "duration": 22,
        "start_time": "2023-07-02T08:51:21.793Z"
      },
      {
        "duration": 112,
        "start_time": "2023-07-02T08:51:21.816Z"
      },
      {
        "duration": 3,
        "start_time": "2023-07-02T08:51:21.930Z"
      },
      {
        "duration": 261,
        "start_time": "2023-07-02T08:51:21.935Z"
      },
      {
        "duration": 6,
        "start_time": "2023-07-02T08:51:22.198Z"
      },
      {
        "duration": 21,
        "start_time": "2023-07-02T08:51:22.205Z"
      },
      {
        "duration": 18,
        "start_time": "2023-07-02T08:51:22.227Z"
      },
      {
        "duration": 6,
        "start_time": "2023-07-02T08:51:22.246Z"
      },
      {
        "duration": 26,
        "start_time": "2023-07-02T08:51:22.253Z"
      },
      {
        "duration": 4,
        "start_time": "2023-07-02T08:51:22.281Z"
      },
      {
        "duration": 13,
        "start_time": "2023-07-02T08:51:22.287Z"
      },
      {
        "duration": 693,
        "start_time": "2023-07-02T08:51:22.301Z"
      },
      {
        "duration": 646,
        "start_time": "2023-07-02T08:51:22.995Z"
      },
      {
        "duration": 691,
        "start_time": "2023-07-02T08:51:23.643Z"
      },
      {
        "duration": 340,
        "start_time": "2023-07-02T08:51:24.335Z"
      },
      {
        "duration": 4,
        "start_time": "2023-07-02T08:51:24.678Z"
      },
      {
        "duration": 10,
        "start_time": "2023-07-02T08:51:24.683Z"
      },
      {
        "duration": 982,
        "start_time": "2023-07-02T08:51:24.694Z"
      },
      {
        "duration": 5,
        "start_time": "2023-07-02T08:51:25.678Z"
      },
      {
        "duration": 22,
        "start_time": "2023-07-02T08:51:25.684Z"
      },
      {
        "duration": 3,
        "start_time": "2023-07-02T08:51:25.708Z"
      },
      {
        "duration": 13,
        "start_time": "2023-07-02T08:51:25.712Z"
      },
      {
        "duration": 9,
        "start_time": "2023-07-02T08:51:25.727Z"
      },
      {
        "duration": 21,
        "start_time": "2023-07-02T08:51:25.737Z"
      },
      {
        "duration": 5,
        "start_time": "2023-07-02T08:51:25.760Z"
      },
      {
        "duration": 4,
        "start_time": "2023-07-02T08:51:25.775Z"
      },
      {
        "duration": 24,
        "start_time": "2023-07-02T08:51:25.781Z"
      },
      {
        "duration": 645201,
        "start_time": "2023-07-02T08:51:25.807Z"
      },
      {
        "duration": 95694,
        "start_time": "2023-07-02T09:02:11.009Z"
      },
      {
        "duration": 0,
        "start_time": "2023-07-02T09:03:46.706Z"
      },
      {
        "duration": 0,
        "start_time": "2023-07-02T09:03:46.707Z"
      },
      {
        "duration": 0,
        "start_time": "2023-07-02T09:03:46.708Z"
      },
      {
        "duration": 0,
        "start_time": "2023-07-02T09:03:46.710Z"
      },
      {
        "duration": 119624,
        "start_time": "2023-07-02T09:04:15.707Z"
      },
      {
        "duration": 123022,
        "start_time": "2023-07-02T09:06:15.333Z"
      },
      {
        "duration": 37080,
        "start_time": "2023-07-02T09:08:49.665Z"
      },
      {
        "duration": 38129,
        "start_time": "2023-07-02T09:09:26.747Z"
      },
      {
        "duration": 201,
        "start_time": "2023-07-02T09:10:04.878Z"
      },
      {
        "duration": 293,
        "start_time": "2023-07-02T09:10:05.084Z"
      },
      {
        "duration": 120509,
        "start_time": "2023-07-02T09:11:18.121Z"
      },
      {
        "duration": 53710,
        "start_time": "2023-07-02T09:13:18.632Z"
      },
      {
        "duration": 1390,
        "start_time": "2023-07-02T09:14:22.824Z"
      },
      {
        "duration": 837,
        "start_time": "2023-07-02T09:14:24.216Z"
      },
      {
        "duration": 73,
        "start_time": "2023-07-02T09:14:25.055Z"
      },
      {
        "duration": 47,
        "start_time": "2023-07-02T09:14:25.129Z"
      },
      {
        "duration": 71,
        "start_time": "2023-07-02T09:14:25.178Z"
      },
      {
        "duration": 33,
        "start_time": "2023-07-02T09:14:25.251Z"
      },
      {
        "duration": 11,
        "start_time": "2023-07-02T09:14:25.285Z"
      },
      {
        "duration": 16,
        "start_time": "2023-07-02T09:14:25.297Z"
      },
      {
        "duration": 8,
        "start_time": "2023-07-02T09:14:25.315Z"
      },
      {
        "duration": 5,
        "start_time": "2023-07-02T09:14:25.324Z"
      },
      {
        "duration": 9,
        "start_time": "2023-07-02T09:14:25.331Z"
      },
      {
        "duration": 151,
        "start_time": "2023-07-02T09:14:25.341Z"
      },
      {
        "duration": 19,
        "start_time": "2023-07-02T09:14:25.495Z"
      },
      {
        "duration": 130,
        "start_time": "2023-07-02T09:14:25.516Z"
      },
      {
        "duration": 3,
        "start_time": "2023-07-02T09:14:25.648Z"
      },
      {
        "duration": 257,
        "start_time": "2023-07-02T09:14:25.653Z"
      },
      {
        "duration": 5,
        "start_time": "2023-07-02T09:14:25.912Z"
      },
      {
        "duration": 14,
        "start_time": "2023-07-02T09:14:25.919Z"
      },
      {
        "duration": 21,
        "start_time": "2023-07-02T09:14:25.934Z"
      },
      {
        "duration": 21,
        "start_time": "2023-07-02T09:14:25.956Z"
      },
      {
        "duration": 7,
        "start_time": "2023-07-02T09:14:25.978Z"
      },
      {
        "duration": 8,
        "start_time": "2023-07-02T09:14:25.987Z"
      },
      {
        "duration": 7,
        "start_time": "2023-07-02T09:14:25.996Z"
      },
      {
        "duration": 783,
        "start_time": "2023-07-02T09:14:26.004Z"
      },
      {
        "duration": 659,
        "start_time": "2023-07-02T09:14:26.788Z"
      },
      {
        "duration": 637,
        "start_time": "2023-07-02T09:14:27.449Z"
      },
      {
        "duration": 254,
        "start_time": "2023-07-02T09:14:28.088Z"
      },
      {
        "duration": 3,
        "start_time": "2023-07-02T09:14:28.344Z"
      },
      {
        "duration": 11,
        "start_time": "2023-07-02T09:14:28.348Z"
      },
      {
        "duration": 928,
        "start_time": "2023-07-02T09:14:28.360Z"
      },
      {
        "duration": 6,
        "start_time": "2023-07-02T09:14:29.289Z"
      },
      {
        "duration": 21,
        "start_time": "2023-07-02T09:14:29.296Z"
      },
      {
        "duration": 3,
        "start_time": "2023-07-02T09:14:29.318Z"
      },
      {
        "duration": 9,
        "start_time": "2023-07-02T09:14:29.322Z"
      },
      {
        "duration": 13,
        "start_time": "2023-07-02T09:14:29.332Z"
      },
      {
        "duration": 22,
        "start_time": "2023-07-02T09:14:29.346Z"
      },
      {
        "duration": 5,
        "start_time": "2023-07-02T09:14:29.374Z"
      },
      {
        "duration": 7,
        "start_time": "2023-07-02T09:14:29.380Z"
      },
      {
        "duration": 23,
        "start_time": "2023-07-02T09:14:29.388Z"
      },
      {
        "duration": 119368,
        "start_time": "2023-07-02T09:14:29.412Z"
      },
      {
        "duration": 124947,
        "start_time": "2023-07-02T09:16:28.783Z"
      },
      {
        "duration": 37550,
        "start_time": "2023-07-02T09:18:33.732Z"
      },
      {
        "duration": 38182,
        "start_time": "2023-07-02T09:19:11.284Z"
      },
      {
        "duration": 112,
        "start_time": "2023-07-02T09:19:49.469Z"
      },
      {
        "duration": 394,
        "start_time": "2023-07-02T09:19:49.583Z"
      },
      {
        "duration": 176,
        "start_time": "2023-07-02T09:19:49.979Z"
      },
      {
        "duration": 0,
        "start_time": "2023-07-02T09:19:50.156Z"
      },
      {
        "duration": 2,
        "start_time": "2023-07-02T09:24:12.515Z"
      },
      {
        "duration": 127772,
        "start_time": "2023-07-02T09:24:18.768Z"
      },
      {
        "duration": 119980,
        "start_time": "2023-07-02T09:26:26.543Z"
      },
      {
        "duration": 36954,
        "start_time": "2023-07-02T09:28:26.525Z"
      },
      {
        "duration": 37423,
        "start_time": "2023-07-02T09:29:03.482Z"
      },
      {
        "duration": 374,
        "start_time": "2023-07-02T09:29:40.907Z"
      },
      {
        "duration": 393,
        "start_time": "2023-07-02T09:29:41.283Z"
      },
      {
        "duration": 124575,
        "start_time": "2023-07-02T09:29:41.679Z"
      },
      {
        "duration": 1429,
        "start_time": "2023-07-02T09:32:46.704Z"
      },
      {
        "duration": 819,
        "start_time": "2023-07-02T09:32:48.135Z"
      },
      {
        "duration": 89,
        "start_time": "2023-07-02T09:32:48.956Z"
      },
      {
        "duration": 42,
        "start_time": "2023-07-02T09:32:49.046Z"
      },
      {
        "duration": 58,
        "start_time": "2023-07-02T09:32:49.090Z"
      },
      {
        "duration": 31,
        "start_time": "2023-07-02T09:32:49.149Z"
      },
      {
        "duration": 13,
        "start_time": "2023-07-02T09:32:49.181Z"
      },
      {
        "duration": 19,
        "start_time": "2023-07-02T09:32:49.196Z"
      },
      {
        "duration": 10,
        "start_time": "2023-07-02T09:32:49.216Z"
      },
      {
        "duration": 7,
        "start_time": "2023-07-02T09:32:49.228Z"
      },
      {
        "duration": 46,
        "start_time": "2023-07-02T09:32:49.237Z"
      },
      {
        "duration": 135,
        "start_time": "2023-07-02T09:32:49.285Z"
      },
      {
        "duration": 20,
        "start_time": "2023-07-02T09:32:49.422Z"
      },
      {
        "duration": 112,
        "start_time": "2023-07-02T09:32:49.446Z"
      },
      {
        "duration": 4,
        "start_time": "2023-07-02T09:32:49.560Z"
      },
      {
        "duration": 264,
        "start_time": "2023-07-02T09:32:49.566Z"
      },
      {
        "duration": 6,
        "start_time": "2023-07-02T09:32:49.831Z"
      },
      {
        "duration": 14,
        "start_time": "2023-07-02T09:32:49.839Z"
      },
      {
        "duration": 36,
        "start_time": "2023-07-02T09:32:49.855Z"
      },
      {
        "duration": 5,
        "start_time": "2023-07-02T09:32:49.893Z"
      },
      {
        "duration": 10,
        "start_time": "2023-07-02T09:32:49.899Z"
      },
      {
        "duration": 9,
        "start_time": "2023-07-02T09:32:49.911Z"
      },
      {
        "duration": 13,
        "start_time": "2023-07-02T09:32:49.922Z"
      },
      {
        "duration": 801,
        "start_time": "2023-07-02T09:32:49.937Z"
      },
      {
        "duration": 954,
        "start_time": "2023-07-02T09:32:50.740Z"
      },
      {
        "duration": 1349,
        "start_time": "2023-07-02T09:32:51.696Z"
      },
      {
        "duration": 319,
        "start_time": "2023-07-02T09:32:53.046Z"
      },
      {
        "duration": 8,
        "start_time": "2023-07-02T09:32:53.367Z"
      },
      {
        "duration": 8,
        "start_time": "2023-07-02T09:32:53.376Z"
      },
      {
        "duration": 1049,
        "start_time": "2023-07-02T09:32:53.386Z"
      },
      {
        "duration": 6,
        "start_time": "2023-07-02T09:32:54.437Z"
      },
      {
        "duration": 22,
        "start_time": "2023-07-02T09:32:54.444Z"
      },
      {
        "duration": 9,
        "start_time": "2023-07-02T09:32:54.467Z"
      },
      {
        "duration": 6,
        "start_time": "2023-07-02T09:32:54.477Z"
      },
      {
        "duration": 10,
        "start_time": "2023-07-02T09:32:54.484Z"
      },
      {
        "duration": 24,
        "start_time": "2023-07-02T09:32:54.495Z"
      },
      {
        "duration": 5,
        "start_time": "2023-07-02T09:32:54.520Z"
      },
      {
        "duration": 7,
        "start_time": "2023-07-02T09:32:54.527Z"
      },
      {
        "duration": 24,
        "start_time": "2023-07-02T09:32:54.535Z"
      },
      {
        "duration": 1472,
        "start_time": "2023-07-02T09:33:39.970Z"
      },
      {
        "duration": 791,
        "start_time": "2023-07-02T09:33:41.444Z"
      },
      {
        "duration": 74,
        "start_time": "2023-07-02T09:33:42.237Z"
      },
      {
        "duration": 64,
        "start_time": "2023-07-02T09:33:42.313Z"
      },
      {
        "duration": 110,
        "start_time": "2023-07-02T09:33:42.379Z"
      },
      {
        "duration": 17,
        "start_time": "2023-07-02T09:33:42.491Z"
      },
      {
        "duration": 69,
        "start_time": "2023-07-02T09:33:42.510Z"
      },
      {
        "duration": 23,
        "start_time": "2023-07-02T09:33:42.581Z"
      },
      {
        "duration": 8,
        "start_time": "2023-07-02T09:33:42.606Z"
      },
      {
        "duration": 63,
        "start_time": "2023-07-02T09:33:42.617Z"
      },
      {
        "duration": 15,
        "start_time": "2023-07-02T09:33:42.682Z"
      },
      {
        "duration": 285,
        "start_time": "2023-07-02T09:33:42.699Z"
      },
      {
        "duration": 19,
        "start_time": "2023-07-02T09:33:42.986Z"
      },
      {
        "duration": 197,
        "start_time": "2023-07-02T09:33:43.007Z"
      },
      {
        "duration": 5,
        "start_time": "2023-07-02T09:33:43.206Z"
      },
      {
        "duration": 580,
        "start_time": "2023-07-02T09:33:43.212Z"
      },
      {
        "duration": 5,
        "start_time": "2023-07-02T09:33:43.794Z"
      },
      {
        "duration": 16,
        "start_time": "2023-07-02T09:33:43.800Z"
      },
      {
        "duration": 75,
        "start_time": "2023-07-02T09:33:43.817Z"
      },
      {
        "duration": 6,
        "start_time": "2023-07-02T09:33:43.893Z"
      },
      {
        "duration": 13,
        "start_time": "2023-07-02T09:33:43.900Z"
      },
      {
        "duration": 6,
        "start_time": "2023-07-02T09:33:43.915Z"
      },
      {
        "duration": 8,
        "start_time": "2023-07-02T09:33:43.974Z"
      },
      {
        "duration": 863,
        "start_time": "2023-07-02T09:33:43.984Z"
      },
      {
        "duration": 661,
        "start_time": "2023-07-02T09:33:44.849Z"
      },
      {
        "duration": 625,
        "start_time": "2023-07-02T09:33:45.512Z"
      },
      {
        "duration": 292,
        "start_time": "2023-07-02T09:33:46.139Z"
      },
      {
        "duration": 5,
        "start_time": "2023-07-02T09:33:46.435Z"
      },
      {
        "duration": 20,
        "start_time": "2023-07-02T09:33:46.442Z"
      },
      {
        "duration": 955,
        "start_time": "2023-07-02T09:33:46.464Z"
      },
      {
        "duration": 6,
        "start_time": "2023-07-02T09:33:47.420Z"
      },
      {
        "duration": 26,
        "start_time": "2023-07-02T09:33:47.427Z"
      },
      {
        "duration": 3,
        "start_time": "2023-07-02T09:33:47.454Z"
      },
      {
        "duration": 7,
        "start_time": "2023-07-02T09:33:47.459Z"
      },
      {
        "duration": 16,
        "start_time": "2023-07-02T09:33:47.467Z"
      },
      {
        "duration": 24,
        "start_time": "2023-07-02T09:33:47.485Z"
      },
      {
        "duration": 7,
        "start_time": "2023-07-02T09:33:47.511Z"
      },
      {
        "duration": 13,
        "start_time": "2023-07-02T09:33:47.520Z"
      },
      {
        "duration": 36,
        "start_time": "2023-07-02T09:33:47.534Z"
      },
      {
        "duration": 119092,
        "start_time": "2023-07-02T09:33:47.572Z"
      },
      {
        "duration": 125191,
        "start_time": "2023-07-02T09:35:46.666Z"
      },
      {
        "duration": 38816,
        "start_time": "2023-07-02T09:37:51.859Z"
      },
      {
        "duration": 38705,
        "start_time": "2023-07-02T09:38:30.677Z"
      },
      {
        "duration": 294,
        "start_time": "2023-07-02T09:39:09.384Z"
      },
      {
        "duration": 294,
        "start_time": "2023-07-02T09:39:09.680Z"
      },
      {
        "duration": 16,
        "start_time": "2023-07-02T09:39:09.977Z"
      },
      {
        "duration": 0,
        "start_time": "2023-07-02T09:39:09.995Z"
      },
      {
        "duration": 0,
        "start_time": "2023-07-02T09:39:09.996Z"
      },
      {
        "duration": 0,
        "start_time": "2023-07-02T09:39:09.998Z"
      },
      {
        "duration": 1507,
        "start_time": "2023-07-02T09:41:17.554Z"
      },
      {
        "duration": 822,
        "start_time": "2023-07-02T09:41:19.063Z"
      },
      {
        "duration": 65,
        "start_time": "2023-07-02T09:41:19.887Z"
      },
      {
        "duration": 51,
        "start_time": "2023-07-02T09:41:19.955Z"
      },
      {
        "duration": 93,
        "start_time": "2023-07-02T09:41:20.009Z"
      },
      {
        "duration": 17,
        "start_time": "2023-07-02T09:41:20.104Z"
      },
      {
        "duration": 11,
        "start_time": "2023-07-02T09:41:20.122Z"
      },
      {
        "duration": 40,
        "start_time": "2023-07-02T09:41:20.135Z"
      },
      {
        "duration": 8,
        "start_time": "2023-07-02T09:41:20.177Z"
      },
      {
        "duration": 6,
        "start_time": "2023-07-02T09:41:20.188Z"
      },
      {
        "duration": 25,
        "start_time": "2023-07-02T09:41:20.195Z"
      },
      {
        "duration": 133,
        "start_time": "2023-07-02T09:41:20.221Z"
      },
      {
        "duration": 28,
        "start_time": "2023-07-02T09:41:20.355Z"
      },
      {
        "duration": 100,
        "start_time": "2023-07-02T09:41:20.385Z"
      },
      {
        "duration": 3,
        "start_time": "2023-07-02T09:41:20.487Z"
      },
      {
        "duration": 249,
        "start_time": "2023-07-02T09:41:20.492Z"
      },
      {
        "duration": 8,
        "start_time": "2023-07-02T09:41:20.743Z"
      },
      {
        "duration": 31,
        "start_time": "2023-07-02T09:41:20.752Z"
      },
      {
        "duration": 24,
        "start_time": "2023-07-02T09:41:20.785Z"
      },
      {
        "duration": 6,
        "start_time": "2023-07-02T09:41:20.811Z"
      },
      {
        "duration": 13,
        "start_time": "2023-07-02T09:41:20.819Z"
      },
      {
        "duration": 4,
        "start_time": "2023-07-02T09:41:20.834Z"
      },
      {
        "duration": 10,
        "start_time": "2023-07-02T09:41:20.840Z"
      },
      {
        "duration": 815,
        "start_time": "2023-07-02T09:41:20.852Z"
      },
      {
        "duration": 710,
        "start_time": "2023-07-02T09:41:21.668Z"
      },
      {
        "duration": 647,
        "start_time": "2023-07-02T09:41:22.380Z"
      },
      {
        "duration": 289,
        "start_time": "2023-07-02T09:41:23.028Z"
      },
      {
        "duration": 4,
        "start_time": "2023-07-02T09:41:23.320Z"
      },
      {
        "duration": 13,
        "start_time": "2023-07-02T09:41:23.326Z"
      },
      {
        "duration": 1053,
        "start_time": "2023-07-02T09:41:23.341Z"
      },
      {
        "duration": 6,
        "start_time": "2023-07-02T09:41:24.396Z"
      },
      {
        "duration": 32,
        "start_time": "2023-07-02T09:41:24.404Z"
      },
      {
        "duration": 3,
        "start_time": "2023-07-02T09:41:24.438Z"
      },
      {
        "duration": 6,
        "start_time": "2023-07-02T09:41:24.443Z"
      },
      {
        "duration": 7,
        "start_time": "2023-07-02T09:41:24.451Z"
      },
      {
        "duration": 36,
        "start_time": "2023-07-02T09:41:24.475Z"
      },
      {
        "duration": 6,
        "start_time": "2023-07-02T09:41:24.513Z"
      },
      {
        "duration": 7,
        "start_time": "2023-07-02T09:41:24.521Z"
      },
      {
        "duration": 28,
        "start_time": "2023-07-02T09:41:24.530Z"
      },
      {
        "duration": 123004,
        "start_time": "2023-07-02T09:41:24.560Z"
      },
      {
        "duration": 125480,
        "start_time": "2023-07-02T09:43:27.566Z"
      },
      {
        "duration": 37693,
        "start_time": "2023-07-02T09:45:33.048Z"
      },
      {
        "duration": 37406,
        "start_time": "2023-07-02T09:46:10.742Z"
      },
      {
        "duration": 132,
        "start_time": "2023-07-02T09:46:48.149Z"
      },
      {
        "duration": 296,
        "start_time": "2023-07-02T09:46:48.285Z"
      },
      {
        "duration": 198,
        "start_time": "2023-07-02T09:46:48.583Z"
      },
      {
        "duration": 0,
        "start_time": "2023-07-02T09:46:48.783Z"
      },
      {
        "duration": 0,
        "start_time": "2023-07-02T09:46:48.784Z"
      },
      {
        "duration": 3,
        "start_time": "2023-07-02T09:58:02.799Z"
      },
      {
        "duration": 57,
        "start_time": "2023-07-02T09:58:12.225Z"
      },
      {
        "duration": 4,
        "start_time": "2023-07-02T09:59:15.547Z"
      },
      {
        "duration": 372,
        "start_time": "2023-07-02T09:59:21.105Z"
      },
      {
        "duration": 4,
        "start_time": "2023-07-02T10:00:38.803Z"
      },
      {
        "duration": 4,
        "start_time": "2023-07-02T10:00:51.607Z"
      },
      {
        "duration": 236,
        "start_time": "2023-07-02T10:00:56.647Z"
      },
      {
        "duration": 3,
        "start_time": "2023-07-02T10:01:16.795Z"
      },
      {
        "duration": 150,
        "start_time": "2023-07-02T10:01:22.334Z"
      },
      {
        "duration": 4,
        "start_time": "2023-07-02T10:03:32.464Z"
      },
      {
        "duration": 150,
        "start_time": "2023-07-02T10:03:40.527Z"
      },
      {
        "duration": 1305,
        "start_time": "2023-07-02T10:03:56.211Z"
      },
      {
        "duration": 754,
        "start_time": "2023-07-02T10:03:57.518Z"
      },
      {
        "duration": 54,
        "start_time": "2023-07-02T10:03:58.275Z"
      },
      {
        "duration": 45,
        "start_time": "2023-07-02T10:03:58.331Z"
      },
      {
        "duration": 53,
        "start_time": "2023-07-02T10:03:58.378Z"
      },
      {
        "duration": 15,
        "start_time": "2023-07-02T10:03:58.433Z"
      },
      {
        "duration": 27,
        "start_time": "2023-07-02T10:03:58.450Z"
      },
      {
        "duration": 16,
        "start_time": "2023-07-02T10:03:58.479Z"
      },
      {
        "duration": 8,
        "start_time": "2023-07-02T10:03:58.496Z"
      },
      {
        "duration": 9,
        "start_time": "2023-07-02T10:03:58.505Z"
      },
      {
        "duration": 12,
        "start_time": "2023-07-02T10:03:58.515Z"
      },
      {
        "duration": 141,
        "start_time": "2023-07-02T10:03:58.529Z"
      },
      {
        "duration": 17,
        "start_time": "2023-07-02T10:03:58.674Z"
      },
      {
        "duration": 96,
        "start_time": "2023-07-02T10:03:58.694Z"
      },
      {
        "duration": 3,
        "start_time": "2023-07-02T10:03:58.791Z"
      },
      {
        "duration": 232,
        "start_time": "2023-07-02T10:03:58.795Z"
      },
      {
        "duration": 7,
        "start_time": "2023-07-02T10:03:59.028Z"
      },
      {
        "duration": 13,
        "start_time": "2023-07-02T10:03:59.037Z"
      },
      {
        "duration": 38,
        "start_time": "2023-07-02T10:03:59.051Z"
      },
      {
        "duration": 6,
        "start_time": "2023-07-02T10:03:59.091Z"
      },
      {
        "duration": 10,
        "start_time": "2023-07-02T10:03:59.098Z"
      },
      {
        "duration": 6,
        "start_time": "2023-07-02T10:03:59.109Z"
      },
      {
        "duration": 7,
        "start_time": "2023-07-02T10:03:59.117Z"
      },
      {
        "duration": 711,
        "start_time": "2023-07-02T10:03:59.125Z"
      },
      {
        "duration": 676,
        "start_time": "2023-07-02T10:03:59.838Z"
      },
      {
        "duration": 628,
        "start_time": "2023-07-02T10:04:00.516Z"
      },
      {
        "duration": 292,
        "start_time": "2023-07-02T10:04:01.146Z"
      },
      {
        "duration": 4,
        "start_time": "2023-07-02T10:04:01.440Z"
      },
      {
        "duration": 56,
        "start_time": "2023-07-02T10:04:01.445Z"
      },
      {
        "duration": 990,
        "start_time": "2023-07-02T10:04:01.503Z"
      },
      {
        "duration": 6,
        "start_time": "2023-07-02T10:04:02.494Z"
      },
      {
        "duration": 21,
        "start_time": "2023-07-02T10:04:02.502Z"
      },
      {
        "duration": 3,
        "start_time": "2023-07-02T10:04:02.525Z"
      },
      {
        "duration": 5,
        "start_time": "2023-07-02T10:04:02.530Z"
      },
      {
        "duration": 7,
        "start_time": "2023-07-02T10:04:02.537Z"
      },
      {
        "duration": 39,
        "start_time": "2023-07-02T10:04:02.546Z"
      },
      {
        "duration": 5,
        "start_time": "2023-07-02T10:04:02.586Z"
      },
      {
        "duration": 16,
        "start_time": "2023-07-02T10:04:02.592Z"
      },
      {
        "duration": 25,
        "start_time": "2023-07-02T10:04:02.610Z"
      },
      {
        "duration": 126617,
        "start_time": "2023-07-02T10:04:02.637Z"
      },
      {
        "duration": 127205,
        "start_time": "2023-07-02T10:06:09.257Z"
      },
      {
        "duration": 37842,
        "start_time": "2023-07-02T10:08:16.464Z"
      },
      {
        "duration": 37327,
        "start_time": "2023-07-02T10:08:54.307Z"
      },
      {
        "duration": 241,
        "start_time": "2023-07-02T10:09:31.635Z"
      },
      {
        "duration": 301,
        "start_time": "2023-07-02T10:09:31.878Z"
      },
      {
        "duration": 205,
        "start_time": "2023-07-02T10:09:32.181Z"
      },
      {
        "duration": 0,
        "start_time": "2023-07-02T10:09:32.387Z"
      },
      {
        "duration": 1,
        "start_time": "2023-07-02T10:09:32.388Z"
      },
      {
        "duration": 3,
        "start_time": "2023-07-02T10:13:23.824Z"
      },
      {
        "duration": 148,
        "start_time": "2023-07-02T10:13:30.528Z"
      },
      {
        "duration": 189,
        "start_time": "2023-07-02T10:13:33.491Z"
      },
      {
        "duration": 1535,
        "start_time": "2023-07-02T10:15:52.653Z"
      },
      {
        "duration": 831,
        "start_time": "2023-07-02T10:15:54.191Z"
      },
      {
        "duration": 71,
        "start_time": "2023-07-02T10:15:55.024Z"
      },
      {
        "duration": 36,
        "start_time": "2023-07-02T10:15:55.098Z"
      },
      {
        "duration": 69,
        "start_time": "2023-07-02T10:15:55.136Z"
      },
      {
        "duration": 39,
        "start_time": "2023-07-02T10:15:55.207Z"
      },
      {
        "duration": 12,
        "start_time": "2023-07-02T10:15:55.248Z"
      },
      {
        "duration": 20,
        "start_time": "2023-07-02T10:15:55.262Z"
      },
      {
        "duration": 21,
        "start_time": "2023-07-02T10:15:55.284Z"
      },
      {
        "duration": 8,
        "start_time": "2023-07-02T10:15:55.309Z"
      },
      {
        "duration": 9,
        "start_time": "2023-07-02T10:15:55.319Z"
      },
      {
        "duration": 131,
        "start_time": "2023-07-02T10:15:55.330Z"
      },
      {
        "duration": 26,
        "start_time": "2023-07-02T10:15:55.462Z"
      },
      {
        "duration": 97,
        "start_time": "2023-07-02T10:15:55.489Z"
      },
      {
        "duration": 3,
        "start_time": "2023-07-02T10:15:55.588Z"
      },
      {
        "duration": 239,
        "start_time": "2023-07-02T10:15:55.592Z"
      },
      {
        "duration": 6,
        "start_time": "2023-07-02T10:15:55.833Z"
      },
      {
        "duration": 17,
        "start_time": "2023-07-02T10:15:55.840Z"
      },
      {
        "duration": 30,
        "start_time": "2023-07-02T10:15:55.858Z"
      },
      {
        "duration": 4,
        "start_time": "2023-07-02T10:15:55.890Z"
      },
      {
        "duration": 9,
        "start_time": "2023-07-02T10:15:55.896Z"
      },
      {
        "duration": 6,
        "start_time": "2023-07-02T10:15:55.906Z"
      },
      {
        "duration": 6,
        "start_time": "2023-07-02T10:15:55.913Z"
      },
      {
        "duration": 800,
        "start_time": "2023-07-02T10:15:55.920Z"
      },
      {
        "duration": 663,
        "start_time": "2023-07-02T10:15:56.722Z"
      },
      {
        "duration": 648,
        "start_time": "2023-07-02T10:15:57.387Z"
      },
      {
        "duration": 266,
        "start_time": "2023-07-02T10:15:58.036Z"
      },
      {
        "duration": 4,
        "start_time": "2023-07-02T10:15:58.305Z"
      },
      {
        "duration": 20,
        "start_time": "2023-07-02T10:15:58.310Z"
      },
      {
        "duration": 948,
        "start_time": "2023-07-02T10:15:58.331Z"
      },
      {
        "duration": 6,
        "start_time": "2023-07-02T10:15:59.281Z"
      },
      {
        "duration": 25,
        "start_time": "2023-07-02T10:15:59.288Z"
      },
      {
        "duration": 3,
        "start_time": "2023-07-02T10:15:59.315Z"
      },
      {
        "duration": 8,
        "start_time": "2023-07-02T10:15:59.319Z"
      },
      {
        "duration": 14,
        "start_time": "2023-07-02T10:15:59.328Z"
      },
      {
        "duration": 21,
        "start_time": "2023-07-02T10:15:59.343Z"
      },
      {
        "duration": 5,
        "start_time": "2023-07-02T10:15:59.365Z"
      },
      {
        "duration": 4,
        "start_time": "2023-07-02T10:15:59.375Z"
      },
      {
        "duration": 27,
        "start_time": "2023-07-02T10:15:59.381Z"
      },
      {
        "duration": 122672,
        "start_time": "2023-07-02T10:15:59.410Z"
      },
      {
        "duration": 128665,
        "start_time": "2023-07-02T10:18:02.089Z"
      },
      {
        "duration": 38567,
        "start_time": "2023-07-02T10:20:10.755Z"
      },
      {
        "duration": 39126,
        "start_time": "2023-07-02T10:20:49.324Z"
      },
      {
        "duration": 633,
        "start_time": "2023-07-02T10:21:28.452Z"
      },
      {
        "duration": 596,
        "start_time": "2023-07-02T10:21:29.087Z"
      },
      {
        "duration": 230,
        "start_time": "2023-07-02T10:21:29.684Z"
      },
      {
        "duration": 0,
        "start_time": "2023-07-02T10:21:29.916Z"
      },
      {
        "duration": 0,
        "start_time": "2023-07-02T10:21:29.917Z"
      },
      {
        "duration": 116,
        "start_time": "2023-07-02T10:22:01.132Z"
      },
      {
        "duration": 4,
        "start_time": "2023-07-02T10:22:18.023Z"
      },
      {
        "duration": 150,
        "start_time": "2023-07-02T10:22:28.330Z"
      },
      {
        "duration": 3,
        "start_time": "2023-07-02T10:23:12.928Z"
      },
      {
        "duration": 233,
        "start_time": "2023-07-02T10:23:19.042Z"
      },
      {
        "duration": 4,
        "start_time": "2023-07-02T10:25:58.404Z"
      },
      {
        "duration": 1321,
        "start_time": "2023-07-02T10:36:43.329Z"
      },
      {
        "duration": 1320,
        "start_time": "2023-07-02T10:36:58.866Z"
      },
      {
        "duration": 1338,
        "start_time": "2023-07-02T10:37:27.915Z"
      },
      {
        "duration": 2352,
        "start_time": "2023-07-02T10:37:57.200Z"
      },
      {
        "duration": 2363,
        "start_time": "2023-07-02T10:38:12.658Z"
      },
      {
        "duration": 9534,
        "start_time": "2023-07-02T10:41:04.422Z"
      },
      {
        "duration": 186975,
        "start_time": "2023-07-02T10:41:15.449Z"
      },
      {
        "duration": 204403,
        "start_time": "2023-07-02T10:44:22.426Z"
      },
      {
        "duration": 542556,
        "start_time": "2023-07-02T10:55:00.291Z"
      },
      {
        "duration": 406017,
        "start_time": "2023-07-02T11:04:02.848Z"
      },
      {
        "duration": 1474,
        "start_time": "2023-07-02T11:10:55.850Z"
      },
      {
        "duration": 772,
        "start_time": "2023-07-02T11:10:57.326Z"
      },
      {
        "duration": 55,
        "start_time": "2023-07-02T11:10:58.099Z"
      },
      {
        "duration": 45,
        "start_time": "2023-07-02T11:10:58.156Z"
      },
      {
        "duration": 54,
        "start_time": "2023-07-02T11:10:58.203Z"
      },
      {
        "duration": 29,
        "start_time": "2023-07-02T11:10:58.258Z"
      },
      {
        "duration": 10,
        "start_time": "2023-07-02T11:10:58.289Z"
      },
      {
        "duration": 30,
        "start_time": "2023-07-02T11:10:58.300Z"
      },
      {
        "duration": 9,
        "start_time": "2023-07-02T11:10:58.332Z"
      },
      {
        "duration": 13,
        "start_time": "2023-07-02T11:10:58.344Z"
      },
      {
        "duration": 25,
        "start_time": "2023-07-02T11:10:58.358Z"
      },
      {
        "duration": 129,
        "start_time": "2023-07-02T11:10:58.385Z"
      },
      {
        "duration": 21,
        "start_time": "2023-07-02T11:10:58.515Z"
      },
      {
        "duration": 107,
        "start_time": "2023-07-02T11:10:58.538Z"
      },
      {
        "duration": 4,
        "start_time": "2023-07-02T11:10:58.647Z"
      },
      {
        "duration": 237,
        "start_time": "2023-07-02T11:10:58.652Z"
      },
      {
        "duration": 5,
        "start_time": "2023-07-02T11:10:58.891Z"
      },
      {
        "duration": 15,
        "start_time": "2023-07-02T11:10:58.898Z"
      },
      {
        "duration": 20,
        "start_time": "2023-07-02T11:10:58.914Z"
      },
      {
        "duration": 6,
        "start_time": "2023-07-02T11:10:58.936Z"
      },
      {
        "duration": 38,
        "start_time": "2023-07-02T11:10:58.944Z"
      },
      {
        "duration": 10,
        "start_time": "2023-07-02T11:10:58.984Z"
      },
      {
        "duration": 6,
        "start_time": "2023-07-02T11:10:58.996Z"
      },
      {
        "duration": 717,
        "start_time": "2023-07-02T11:10:59.004Z"
      },
      {
        "duration": 691,
        "start_time": "2023-07-02T11:10:59.723Z"
      },
      {
        "duration": 663,
        "start_time": "2023-07-02T11:11:00.416Z"
      },
      {
        "duration": 306,
        "start_time": "2023-07-02T11:11:01.081Z"
      },
      {
        "duration": 4,
        "start_time": "2023-07-02T11:11:01.390Z"
      },
      {
        "duration": 43,
        "start_time": "2023-07-02T11:11:01.395Z"
      },
      {
        "duration": 1035,
        "start_time": "2023-07-02T11:11:01.440Z"
      },
      {
        "duration": 7,
        "start_time": "2023-07-02T11:11:02.477Z"
      },
      {
        "duration": 24,
        "start_time": "2023-07-02T11:11:02.486Z"
      },
      {
        "duration": 9,
        "start_time": "2023-07-02T11:11:02.512Z"
      },
      {
        "duration": 7,
        "start_time": "2023-07-02T11:11:02.523Z"
      },
      {
        "duration": 10,
        "start_time": "2023-07-02T11:11:02.532Z"
      },
      {
        "duration": 39,
        "start_time": "2023-07-02T11:11:02.545Z"
      },
      {
        "duration": 6,
        "start_time": "2023-07-02T11:11:02.586Z"
      },
      {
        "duration": 12,
        "start_time": "2023-07-02T11:11:02.595Z"
      },
      {
        "duration": 45,
        "start_time": "2023-07-02T11:11:02.608Z"
      },
      {
        "duration": 538093,
        "start_time": "2023-07-02T11:11:02.655Z"
      },
      {
        "duration": 543199,
        "start_time": "2023-07-02T11:20:00.750Z"
      },
      {
        "duration": 38409,
        "start_time": "2023-07-02T11:29:03.951Z"
      },
      {
        "duration": 39343,
        "start_time": "2023-07-02T11:29:42.361Z"
      },
      {
        "duration": 358,
        "start_time": "2023-07-02T11:30:21.706Z"
      },
      {
        "duration": 0,
        "start_time": "2023-07-02T11:30:22.065Z"
      },
      {
        "duration": 0,
        "start_time": "2023-07-02T11:30:22.076Z"
      },
      {
        "duration": 0,
        "start_time": "2023-07-02T11:30:22.077Z"
      },
      {
        "duration": 0,
        "start_time": "2023-07-02T11:30:22.078Z"
      },
      {
        "duration": 0,
        "start_time": "2023-07-02T11:30:22.079Z"
      },
      {
        "duration": 1393,
        "start_time": "2023-07-02T11:44:48.435Z"
      },
      {
        "duration": 815,
        "start_time": "2023-07-02T11:44:49.829Z"
      },
      {
        "duration": 75,
        "start_time": "2023-07-02T11:44:50.645Z"
      },
      {
        "duration": 53,
        "start_time": "2023-07-02T11:44:50.723Z"
      },
      {
        "duration": 64,
        "start_time": "2023-07-02T11:44:50.778Z"
      },
      {
        "duration": 37,
        "start_time": "2023-07-02T11:44:50.844Z"
      },
      {
        "duration": 12,
        "start_time": "2023-07-02T11:44:50.883Z"
      },
      {
        "duration": 22,
        "start_time": "2023-07-02T11:44:50.897Z"
      },
      {
        "duration": 15,
        "start_time": "2023-07-02T11:44:50.921Z"
      },
      {
        "duration": 36,
        "start_time": "2023-07-02T11:44:50.940Z"
      },
      {
        "duration": 14,
        "start_time": "2023-07-02T11:44:50.978Z"
      },
      {
        "duration": 161,
        "start_time": "2023-07-02T11:44:50.994Z"
      },
      {
        "duration": 24,
        "start_time": "2023-07-02T11:44:51.157Z"
      },
      {
        "duration": 118,
        "start_time": "2023-07-02T11:44:51.183Z"
      },
      {
        "duration": 3,
        "start_time": "2023-07-02T11:44:51.303Z"
      },
      {
        "duration": 267,
        "start_time": "2023-07-02T11:44:51.308Z"
      },
      {
        "duration": 7,
        "start_time": "2023-07-02T11:44:51.577Z"
      },
      {
        "duration": 22,
        "start_time": "2023-07-02T11:44:51.585Z"
      },
      {
        "duration": 40,
        "start_time": "2023-07-02T11:44:51.609Z"
      },
      {
        "duration": 5,
        "start_time": "2023-07-02T11:44:51.651Z"
      },
      {
        "duration": 29,
        "start_time": "2023-07-02T11:44:51.658Z"
      },
      {
        "duration": 11,
        "start_time": "2023-07-02T11:44:51.689Z"
      },
      {
        "duration": 10,
        "start_time": "2023-07-02T11:44:51.702Z"
      },
      {
        "duration": 782,
        "start_time": "2023-07-02T11:44:51.715Z"
      },
      {
        "duration": 762,
        "start_time": "2023-07-02T11:44:52.499Z"
      },
      {
        "duration": 712,
        "start_time": "2023-07-02T11:44:53.264Z"
      },
      {
        "duration": 285,
        "start_time": "2023-07-02T11:44:53.978Z"
      },
      {
        "duration": 8,
        "start_time": "2023-07-02T11:44:54.267Z"
      },
      {
        "duration": 39,
        "start_time": "2023-07-02T11:44:54.276Z"
      },
      {
        "duration": 973,
        "start_time": "2023-07-02T11:44:54.316Z"
      },
      {
        "duration": 6,
        "start_time": "2023-07-02T11:44:55.291Z"
      },
      {
        "duration": 24,
        "start_time": "2023-07-02T11:44:55.298Z"
      },
      {
        "duration": 3,
        "start_time": "2023-07-02T11:44:55.324Z"
      },
      {
        "duration": 7,
        "start_time": "2023-07-02T11:44:55.329Z"
      },
      {
        "duration": 20,
        "start_time": "2023-07-02T11:44:55.337Z"
      },
      {
        "duration": 36,
        "start_time": "2023-07-02T11:44:55.359Z"
      },
      {
        "duration": 34,
        "start_time": "2023-07-02T11:44:55.397Z"
      },
      {
        "duration": 12,
        "start_time": "2023-07-02T11:44:55.433Z"
      },
      {
        "duration": 38,
        "start_time": "2023-07-02T11:44:55.447Z"
      },
      {
        "duration": 651349,
        "start_time": "2023-07-02T11:44:55.486Z"
      },
      {
        "duration": 665185,
        "start_time": "2023-07-02T11:55:46.836Z"
      },
      {
        "duration": 37143,
        "start_time": "2023-07-02T12:06:52.023Z"
      },
      {
        "duration": 37855,
        "start_time": "2023-07-02T12:07:29.175Z"
      },
      {
        "duration": 327,
        "start_time": "2023-07-02T12:08:07.032Z"
      },
      {
        "duration": 1,
        "start_time": "2023-07-02T12:08:07.360Z"
      },
      {
        "duration": 0,
        "start_time": "2023-07-02T12:08:07.362Z"
      },
      {
        "duration": 0,
        "start_time": "2023-07-02T12:08:07.375Z"
      },
      {
        "duration": 0,
        "start_time": "2023-07-02T12:08:07.375Z"
      },
      {
        "duration": 0,
        "start_time": "2023-07-02T12:08:07.377Z"
      },
      {
        "duration": 0,
        "start_time": "2023-07-02T12:08:07.378Z"
      },
      {
        "duration": 25,
        "start_time": "2023-07-02T12:10:58.055Z"
      },
      {
        "duration": 46,
        "start_time": "2023-07-02T12:11:00.431Z"
      },
      {
        "duration": 85,
        "start_time": "2023-07-02T12:11:06.792Z"
      },
      {
        "duration": 1333,
        "start_time": "2023-07-02T12:11:40.744Z"
      },
      {
        "duration": 1533,
        "start_time": "2023-07-02T12:11:51.847Z"
      },
      {
        "duration": 1390,
        "start_time": "2023-07-02T12:11:55.758Z"
      },
      {
        "duration": 3162,
        "start_time": "2023-07-02T12:12:28.491Z"
      },
      {
        "duration": 3188,
        "start_time": "2023-07-02T12:12:31.655Z"
      },
      {
        "duration": 3,
        "start_time": "2023-07-02T12:23:02.760Z"
      },
      {
        "duration": 9,
        "start_time": "2023-07-02T12:25:05.751Z"
      },
      {
        "duration": 3084,
        "start_time": "2023-07-02T12:25:12.167Z"
      },
      {
        "duration": 3156,
        "start_time": "2023-07-02T12:25:15.253Z"
      },
      {
        "duration": 4,
        "start_time": "2023-07-02T12:25:19.823Z"
      },
      {
        "duration": 269,
        "start_time": "2023-07-02T12:26:39.310Z"
      },
      {
        "duration": 3073,
        "start_time": "2023-07-02T12:26:51.967Z"
      },
      {
        "duration": 3212,
        "start_time": "2023-07-02T12:27:23.125Z"
      },
      {
        "duration": 9,
        "start_time": "2023-07-02T12:30:04.793Z"
      },
      {
        "duration": 183,
        "start_time": "2023-07-02T12:30:10.097Z"
      },
      {
        "duration": 141,
        "start_time": "2023-07-02T12:30:10.836Z"
      },
      {
        "duration": 3137,
        "start_time": "2023-07-02T12:30:13.260Z"
      },
      {
        "duration": 3206,
        "start_time": "2023-07-02T12:30:16.399Z"
      },
      {
        "duration": 4,
        "start_time": "2023-07-02T12:30:19.606Z"
      },
      {
        "duration": 21,
        "start_time": "2023-07-02T12:30:19.611Z"
      },
      {
        "duration": 4,
        "start_time": "2023-07-02T12:30:24.893Z"
      },
      {
        "duration": 7,
        "start_time": "2023-07-02T12:30:32.417Z"
      },
      {
        "duration": 8,
        "start_time": "2023-07-02T12:30:39.931Z"
      },
      {
        "duration": 7,
        "start_time": "2023-07-02T12:31:06.901Z"
      },
      {
        "duration": 7,
        "start_time": "2023-07-02T12:32:01.915Z"
      },
      {
        "duration": 5,
        "start_time": "2023-07-02T12:33:48.962Z"
      },
      {
        "duration": 8,
        "start_time": "2023-07-02T12:33:49.530Z"
      },
      {
        "duration": 5,
        "start_time": "2023-07-02T12:33:49.946Z"
      },
      {
        "duration": 90,
        "start_time": "2023-07-02T12:39:10.862Z"
      },
      {
        "duration": 9,
        "start_time": "2023-07-02T12:40:43.697Z"
      },
      {
        "duration": 7,
        "start_time": "2023-07-02T12:40:46.854Z"
      },
      {
        "duration": 7,
        "start_time": "2023-07-02T12:40:47.605Z"
      },
      {
        "duration": 7,
        "start_time": "2023-07-02T12:40:48.815Z"
      },
      {
        "duration": 7,
        "start_time": "2023-07-02T12:40:49.653Z"
      },
      {
        "duration": 3,
        "start_time": "2023-07-02T13:12:59.859Z"
      },
      {
        "duration": 1419,
        "start_time": "2023-07-02T13:21:12.064Z"
      },
      {
        "duration": 749,
        "start_time": "2023-07-02T13:21:13.485Z"
      },
      {
        "duration": 69,
        "start_time": "2023-07-02T13:21:14.235Z"
      },
      {
        "duration": 36,
        "start_time": "2023-07-02T13:21:14.306Z"
      },
      {
        "duration": 70,
        "start_time": "2023-07-02T13:21:14.344Z"
      },
      {
        "duration": 16,
        "start_time": "2023-07-02T13:21:14.416Z"
      },
      {
        "duration": 11,
        "start_time": "2023-07-02T13:21:14.434Z"
      },
      {
        "duration": 38,
        "start_time": "2023-07-02T13:21:14.447Z"
      },
      {
        "duration": 10,
        "start_time": "2023-07-02T13:21:14.487Z"
      },
      {
        "duration": 6,
        "start_time": "2023-07-02T13:21:14.500Z"
      },
      {
        "duration": 11,
        "start_time": "2023-07-02T13:21:14.508Z"
      },
      {
        "duration": 134,
        "start_time": "2023-07-02T13:21:14.521Z"
      },
      {
        "duration": 28,
        "start_time": "2023-07-02T13:21:14.656Z"
      },
      {
        "duration": 96,
        "start_time": "2023-07-02T13:21:14.685Z"
      },
      {
        "duration": 4,
        "start_time": "2023-07-02T13:21:14.783Z"
      },
      {
        "duration": 254,
        "start_time": "2023-07-02T13:21:14.788Z"
      },
      {
        "duration": 5,
        "start_time": "2023-07-02T13:21:15.044Z"
      },
      {
        "duration": 28,
        "start_time": "2023-07-02T13:21:15.051Z"
      },
      {
        "duration": 50,
        "start_time": "2023-07-02T13:21:15.081Z"
      },
      {
        "duration": 32,
        "start_time": "2023-07-02T13:21:15.133Z"
      },
      {
        "duration": 44,
        "start_time": "2023-07-02T13:21:15.166Z"
      },
      {
        "duration": 11,
        "start_time": "2023-07-02T13:21:15.212Z"
      },
      {
        "duration": 13,
        "start_time": "2023-07-02T13:21:15.225Z"
      },
      {
        "duration": 718,
        "start_time": "2023-07-02T13:21:15.240Z"
      },
      {
        "duration": 742,
        "start_time": "2023-07-02T13:21:15.960Z"
      },
      {
        "duration": 691,
        "start_time": "2023-07-02T13:21:16.704Z"
      },
      {
        "duration": 287,
        "start_time": "2023-07-02T13:21:17.396Z"
      },
      {
        "duration": 4,
        "start_time": "2023-07-02T13:21:17.686Z"
      },
      {
        "duration": 34,
        "start_time": "2023-07-02T13:21:17.692Z"
      },
      {
        "duration": 1685,
        "start_time": "2023-07-02T13:21:17.728Z"
      },
      {
        "duration": 5,
        "start_time": "2023-07-02T13:21:19.415Z"
      },
      {
        "duration": 307,
        "start_time": "2023-07-02T13:21:19.422Z"
      },
      {
        "duration": 92,
        "start_time": "2023-07-02T13:21:19.730Z"
      },
      {
        "duration": 53,
        "start_time": "2023-07-02T13:21:19.824Z"
      },
      {
        "duration": 30,
        "start_time": "2023-07-02T13:21:19.878Z"
      },
      {
        "duration": 27,
        "start_time": "2023-07-02T13:21:19.910Z"
      },
      {
        "duration": 36,
        "start_time": "2023-07-02T13:21:19.939Z"
      },
      {
        "duration": 20,
        "start_time": "2023-07-02T13:21:19.977Z"
      },
      {
        "duration": 84,
        "start_time": "2023-07-02T13:21:19.999Z"
      },
      {
        "duration": 5,
        "start_time": "2023-07-02T13:21:20.084Z"
      },
      {
        "duration": 0,
        "start_time": "2023-07-02T13:21:20.090Z"
      },
      {
        "duration": 0,
        "start_time": "2023-07-02T13:21:20.091Z"
      },
      {
        "duration": 0,
        "start_time": "2023-07-02T13:21:20.093Z"
      },
      {
        "duration": 0,
        "start_time": "2023-07-02T13:21:20.094Z"
      },
      {
        "duration": 0,
        "start_time": "2023-07-02T13:21:20.095Z"
      },
      {
        "duration": 0,
        "start_time": "2023-07-02T13:21:20.096Z"
      },
      {
        "duration": 0,
        "start_time": "2023-07-02T13:21:20.097Z"
      },
      {
        "duration": 1,
        "start_time": "2023-07-02T13:21:20.097Z"
      },
      {
        "duration": 0,
        "start_time": "2023-07-02T13:21:20.099Z"
      },
      {
        "duration": 0,
        "start_time": "2023-07-02T13:21:20.100Z"
      },
      {
        "duration": 0,
        "start_time": "2023-07-02T13:21:20.101Z"
      },
      {
        "duration": 0,
        "start_time": "2023-07-02T13:21:20.102Z"
      },
      {
        "duration": 0,
        "start_time": "2023-07-02T13:21:20.103Z"
      },
      {
        "duration": 0,
        "start_time": "2023-07-02T13:21:20.104Z"
      },
      {
        "duration": 742,
        "start_time": "2023-07-02T13:22:24.211Z"
      },
      {
        "duration": 646128,
        "start_time": "2023-07-02T13:23:07.926Z"
      },
      {
        "duration": 152290,
        "start_time": "2023-07-02T13:33:54.056Z"
      },
      {
        "duration": 4,
        "start_time": "2023-07-02T13:36:26.348Z"
      },
      {
        "duration": 3,
        "start_time": "2023-07-02T13:36:27.930Z"
      },
      {
        "duration": 1350,
        "start_time": "2023-07-02T13:36:34.095Z"
      },
      {
        "duration": 739,
        "start_time": "2023-07-02T13:36:35.448Z"
      },
      {
        "duration": 57,
        "start_time": "2023-07-02T13:36:36.189Z"
      },
      {
        "duration": 57,
        "start_time": "2023-07-02T13:36:36.248Z"
      },
      {
        "duration": 85,
        "start_time": "2023-07-02T13:36:36.307Z"
      },
      {
        "duration": 18,
        "start_time": "2023-07-02T13:36:36.394Z"
      },
      {
        "duration": 14,
        "start_time": "2023-07-02T13:36:36.414Z"
      },
      {
        "duration": 46,
        "start_time": "2023-07-02T13:36:36.430Z"
      },
      {
        "duration": 7,
        "start_time": "2023-07-02T13:36:36.478Z"
      },
      {
        "duration": 15,
        "start_time": "2023-07-02T13:36:36.486Z"
      },
      {
        "duration": 19,
        "start_time": "2023-07-02T13:36:36.503Z"
      },
      {
        "duration": 106,
        "start_time": "2023-07-02T13:36:36.523Z"
      },
      {
        "duration": 18,
        "start_time": "2023-07-02T13:36:36.631Z"
      },
      {
        "duration": 98,
        "start_time": "2023-07-02T13:36:36.652Z"
      },
      {
        "duration": 3,
        "start_time": "2023-07-02T13:36:36.752Z"
      },
      {
        "duration": 238,
        "start_time": "2023-07-02T13:36:36.756Z"
      },
      {
        "duration": 5,
        "start_time": "2023-07-02T13:36:36.996Z"
      },
      {
        "duration": 19,
        "start_time": "2023-07-02T13:36:37.003Z"
      },
      {
        "duration": 19,
        "start_time": "2023-07-02T13:36:37.024Z"
      },
      {
        "duration": 5,
        "start_time": "2023-07-02T13:36:37.044Z"
      },
      {
        "duration": 27,
        "start_time": "2023-07-02T13:36:37.051Z"
      },
      {
        "duration": 4,
        "start_time": "2023-07-02T13:36:37.079Z"
      },
      {
        "duration": 8,
        "start_time": "2023-07-02T13:36:37.084Z"
      },
      {
        "duration": 716,
        "start_time": "2023-07-02T13:36:37.093Z"
      },
      {
        "duration": 629,
        "start_time": "2023-07-02T13:36:37.810Z"
      },
      {
        "duration": 639,
        "start_time": "2023-07-02T13:36:38.441Z"
      },
      {
        "duration": 278,
        "start_time": "2023-07-02T13:36:39.082Z"
      },
      {
        "duration": 3,
        "start_time": "2023-07-02T13:36:39.362Z"
      },
      {
        "duration": 12,
        "start_time": "2023-07-02T13:36:39.367Z"
      },
      {
        "duration": 951,
        "start_time": "2023-07-02T13:36:39.381Z"
      },
      {
        "duration": 5,
        "start_time": "2023-07-02T13:36:40.334Z"
      },
      {
        "duration": 26,
        "start_time": "2023-07-02T13:36:40.340Z"
      },
      {
        "duration": 7,
        "start_time": "2023-07-02T13:36:40.368Z"
      },
      {
        "duration": 2,
        "start_time": "2023-07-02T13:36:40.376Z"
      },
      {
        "duration": 5,
        "start_time": "2023-07-02T13:36:40.380Z"
      },
      {
        "duration": 19,
        "start_time": "2023-07-02T13:36:40.386Z"
      },
      {
        "duration": 4,
        "start_time": "2023-07-02T13:36:40.407Z"
      },
      {
        "duration": 25,
        "start_time": "2023-07-02T13:36:40.413Z"
      },
      {
        "duration": 29,
        "start_time": "2023-07-02T13:36:40.439Z"
      },
      {
        "duration": 435998,
        "start_time": "2023-07-02T13:36:40.469Z"
      },
      {
        "duration": 24518,
        "start_time": "2023-07-02T13:43:56.471Z"
      },
      {
        "duration": 13342,
        "start_time": "2023-07-02T13:44:20.991Z"
      },
      {
        "duration": 3623,
        "start_time": "2023-07-02T13:44:34.334Z"
      },
      {
        "duration": 424,
        "start_time": "2023-07-02T13:44:37.958Z"
      },
      {
        "duration": 492,
        "start_time": "2023-07-02T13:44:38.390Z"
      },
      {
        "duration": 3175,
        "start_time": "2023-07-02T13:44:38.884Z"
      },
      {
        "duration": 3174,
        "start_time": "2023-07-02T13:44:42.061Z"
      },
      {
        "duration": 4,
        "start_time": "2023-07-02T13:44:45.236Z"
      },
      {
        "duration": 7,
        "start_time": "2023-07-02T13:44:45.241Z"
      },
      {
        "duration": 10,
        "start_time": "2023-07-02T13:44:45.249Z"
      },
      {
        "duration": 29,
        "start_time": "2023-07-02T13:44:45.260Z"
      },
      {
        "duration": 9,
        "start_time": "2023-07-02T13:44:45.291Z"
      },
      {
        "duration": 11,
        "start_time": "2023-07-02T13:44:45.301Z"
      },
      {
        "duration": 7,
        "start_time": "2023-07-02T13:44:45.314Z"
      },
      {
        "duration": 13,
        "start_time": "2023-07-02T13:44:45.326Z"
      },
      {
        "duration": 3,
        "start_time": "2023-07-02T13:44:57.168Z"
      },
      {
        "duration": 223,
        "start_time": "2023-07-02T13:45:04.863Z"
      },
      {
        "duration": 3,
        "start_time": "2023-07-02T13:45:39.535Z"
      },
      {
        "duration": 149,
        "start_time": "2023-07-02T13:45:50.639Z"
      },
      {
        "duration": 1370,
        "start_time": "2023-07-02T13:58:33.986Z"
      },
      {
        "duration": 765,
        "start_time": "2023-07-02T13:58:35.359Z"
      },
      {
        "duration": 64,
        "start_time": "2023-07-02T13:58:36.126Z"
      },
      {
        "duration": 33,
        "start_time": "2023-07-02T13:58:36.191Z"
      },
      {
        "duration": 93,
        "start_time": "2023-07-02T13:58:36.226Z"
      },
      {
        "duration": 19,
        "start_time": "2023-07-02T13:58:36.321Z"
      },
      {
        "duration": 38,
        "start_time": "2023-07-02T13:58:36.342Z"
      },
      {
        "duration": 21,
        "start_time": "2023-07-02T13:58:36.382Z"
      },
      {
        "duration": 19,
        "start_time": "2023-07-02T13:58:36.405Z"
      },
      {
        "duration": 10,
        "start_time": "2023-07-02T13:58:36.426Z"
      },
      {
        "duration": 10,
        "start_time": "2023-07-02T13:58:36.437Z"
      },
      {
        "duration": 135,
        "start_time": "2023-07-02T13:58:36.448Z"
      },
      {
        "duration": 18,
        "start_time": "2023-07-02T13:58:36.585Z"
      },
      {
        "duration": 100,
        "start_time": "2023-07-02T13:58:36.606Z"
      },
      {
        "duration": 3,
        "start_time": "2023-07-02T13:58:36.707Z"
      },
      {
        "duration": 266,
        "start_time": "2023-07-02T13:58:36.712Z"
      },
      {
        "duration": 7,
        "start_time": "2023-07-02T13:58:36.980Z"
      },
      {
        "duration": 16,
        "start_time": "2023-07-02T13:58:36.988Z"
      },
      {
        "duration": 31,
        "start_time": "2023-07-02T13:58:37.005Z"
      },
      {
        "duration": 5,
        "start_time": "2023-07-02T13:58:37.037Z"
      },
      {
        "duration": 10,
        "start_time": "2023-07-02T13:58:37.044Z"
      },
      {
        "duration": 19,
        "start_time": "2023-07-02T13:58:37.056Z"
      },
      {
        "duration": 6,
        "start_time": "2023-07-02T13:58:37.076Z"
      },
      {
        "duration": 721,
        "start_time": "2023-07-02T13:58:37.084Z"
      },
      {
        "duration": 634,
        "start_time": "2023-07-02T13:58:37.806Z"
      },
      {
        "duration": 636,
        "start_time": "2023-07-02T13:58:38.442Z"
      },
      {
        "duration": 271,
        "start_time": "2023-07-02T13:58:39.080Z"
      },
      {
        "duration": 4,
        "start_time": "2023-07-02T13:58:39.353Z"
      },
      {
        "duration": 17,
        "start_time": "2023-07-02T13:58:39.358Z"
      },
      {
        "duration": 934,
        "start_time": "2023-07-02T13:58:39.376Z"
      },
      {
        "duration": 5,
        "start_time": "2023-07-02T13:58:40.312Z"
      },
      {
        "duration": 24,
        "start_time": "2023-07-02T13:58:40.318Z"
      },
      {
        "duration": 4,
        "start_time": "2023-07-02T13:58:40.343Z"
      },
      {
        "duration": 8,
        "start_time": "2023-07-02T13:58:40.349Z"
      },
      {
        "duration": 17,
        "start_time": "2023-07-02T13:58:40.359Z"
      },
      {
        "duration": 36,
        "start_time": "2023-07-02T13:58:40.377Z"
      },
      {
        "duration": 6,
        "start_time": "2023-07-02T13:58:40.415Z"
      },
      {
        "duration": 16,
        "start_time": "2023-07-02T13:58:40.423Z"
      },
      {
        "duration": 32,
        "start_time": "2023-07-02T13:58:40.441Z"
      },
      {
        "duration": 674242,
        "start_time": "2023-07-02T13:58:40.475Z"
      },
      {
        "duration": 714846,
        "start_time": "2023-07-02T14:09:54.720Z"
      },
      {
        "duration": 39658,
        "start_time": "2023-07-02T14:21:49.568Z"
      },
      {
        "duration": 38762,
        "start_time": "2023-07-02T14:22:29.228Z"
      },
      {
        "duration": 197,
        "start_time": "2023-07-02T14:23:07.991Z"
      },
      {
        "duration": 291,
        "start_time": "2023-07-02T14:23:08.192Z"
      },
      {
        "duration": 3228,
        "start_time": "2023-07-02T14:23:08.486Z"
      },
      {
        "duration": 3172,
        "start_time": "2023-07-02T14:23:11.716Z"
      },
      {
        "duration": 4,
        "start_time": "2023-07-02T14:23:14.890Z"
      },
      {
        "duration": 140,
        "start_time": "2023-07-02T14:23:14.895Z"
      },
      {
        "duration": 27,
        "start_time": "2023-07-02T14:23:15.038Z"
      },
      {
        "duration": 19,
        "start_time": "2023-07-02T14:23:15.067Z"
      },
      {
        "duration": 14,
        "start_time": "2023-07-02T14:23:15.088Z"
      },
      {
        "duration": 69,
        "start_time": "2023-07-02T14:23:15.104Z"
      },
      {
        "duration": 21,
        "start_time": "2023-07-02T14:23:15.175Z"
      },
      {
        "duration": 8,
        "start_time": "2023-07-02T14:23:15.198Z"
      },
      {
        "duration": 1854,
        "start_time": "2023-07-03T06:00:51.803Z"
      },
      {
        "duration": 1816,
        "start_time": "2023-07-03T06:01:52.626Z"
      },
      {
        "duration": 3889,
        "start_time": "2023-07-03T06:01:54.444Z"
      },
      {
        "duration": 77,
        "start_time": "2023-07-03T06:01:58.335Z"
      },
      {
        "duration": 46,
        "start_time": "2023-07-03T06:01:58.415Z"
      },
      {
        "duration": 66,
        "start_time": "2023-07-03T06:01:58.464Z"
      },
      {
        "duration": 41,
        "start_time": "2023-07-03T06:01:58.532Z"
      },
      {
        "duration": 14,
        "start_time": "2023-07-03T06:01:58.575Z"
      },
      {
        "duration": 18,
        "start_time": "2023-07-03T06:01:58.591Z"
      },
      {
        "duration": 10,
        "start_time": "2023-07-03T06:01:58.610Z"
      },
      {
        "duration": 10,
        "start_time": "2023-07-03T06:01:58.669Z"
      },
      {
        "duration": 15,
        "start_time": "2023-07-03T06:01:58.681Z"
      },
      {
        "duration": 140,
        "start_time": "2023-07-03T06:01:58.698Z"
      },
      {
        "duration": 40,
        "start_time": "2023-07-03T06:01:58.839Z"
      },
      {
        "duration": 123,
        "start_time": "2023-07-03T06:01:58.880Z"
      },
      {
        "duration": 5,
        "start_time": "2023-07-03T06:01:59.005Z"
      },
      {
        "duration": 313,
        "start_time": "2023-07-03T06:01:59.011Z"
      },
      {
        "duration": 7,
        "start_time": "2023-07-03T06:01:59.325Z"
      },
      {
        "duration": 37,
        "start_time": "2023-07-03T06:01:59.334Z"
      },
      {
        "duration": 53,
        "start_time": "2023-07-03T06:01:59.373Z"
      },
      {
        "duration": 9,
        "start_time": "2023-07-03T06:01:59.428Z"
      },
      {
        "duration": 22,
        "start_time": "2023-07-03T06:01:59.439Z"
      },
      {
        "duration": 11,
        "start_time": "2023-07-03T06:01:59.463Z"
      },
      {
        "duration": 8,
        "start_time": "2023-07-03T06:01:59.476Z"
      },
      {
        "duration": 954,
        "start_time": "2023-07-03T06:01:59.486Z"
      },
      {
        "duration": 859,
        "start_time": "2023-07-03T06:02:00.453Z"
      },
      {
        "duration": 846,
        "start_time": "2023-07-03T06:02:01.314Z"
      },
      {
        "duration": 397,
        "start_time": "2023-07-03T06:02:02.162Z"
      },
      {
        "duration": 7,
        "start_time": "2023-07-03T06:02:02.566Z"
      },
      {
        "duration": 31,
        "start_time": "2023-07-03T06:02:02.575Z"
      },
      {
        "duration": 1218,
        "start_time": "2023-07-03T06:02:02.608Z"
      },
      {
        "duration": 6,
        "start_time": "2023-07-03T06:02:03.828Z"
      },
      {
        "duration": 41,
        "start_time": "2023-07-03T06:02:03.836Z"
      },
      {
        "duration": 4,
        "start_time": "2023-07-03T06:02:03.878Z"
      },
      {
        "duration": 9,
        "start_time": "2023-07-03T06:02:03.883Z"
      },
      {
        "duration": 7,
        "start_time": "2023-07-03T06:02:03.894Z"
      },
      {
        "duration": 25,
        "start_time": "2023-07-03T06:02:03.903Z"
      },
      {
        "duration": 25,
        "start_time": "2023-07-03T06:02:03.930Z"
      },
      {
        "duration": 8,
        "start_time": "2023-07-03T06:02:03.959Z"
      },
      {
        "duration": 31,
        "start_time": "2023-07-03T06:02:03.970Z"
      },
      {
        "duration": 901628,
        "start_time": "2023-07-03T06:02:04.003Z"
      },
      {
        "duration": 1896,
        "start_time": "2023-07-03T06:18:40.477Z"
      },
      {
        "duration": 1005,
        "start_time": "2023-07-03T06:18:42.381Z"
      },
      {
        "duration": 95,
        "start_time": "2023-07-03T06:18:43.392Z"
      },
      {
        "duration": 45,
        "start_time": "2023-07-03T06:18:43.490Z"
      },
      {
        "duration": 86,
        "start_time": "2023-07-03T06:18:43.537Z"
      },
      {
        "duration": 54,
        "start_time": "2023-07-03T06:18:43.625Z"
      },
      {
        "duration": 21,
        "start_time": "2023-07-03T06:18:43.683Z"
      },
      {
        "duration": 34,
        "start_time": "2023-07-03T06:18:43.706Z"
      },
      {
        "duration": 22,
        "start_time": "2023-07-03T06:18:43.742Z"
      },
      {
        "duration": 12,
        "start_time": "2023-07-03T06:18:43.767Z"
      },
      {
        "duration": 12,
        "start_time": "2023-07-03T06:18:43.782Z"
      },
      {
        "duration": 173,
        "start_time": "2023-07-03T06:18:43.796Z"
      },
      {
        "duration": 30,
        "start_time": "2023-07-03T06:18:43.977Z"
      },
      {
        "duration": 124,
        "start_time": "2023-07-03T06:18:44.009Z"
      },
      {
        "duration": 4,
        "start_time": "2023-07-03T06:18:44.135Z"
      },
      {
        "duration": 341,
        "start_time": "2023-07-03T06:18:44.141Z"
      },
      {
        "duration": 7,
        "start_time": "2023-07-03T06:18:44.484Z"
      },
      {
        "duration": 22,
        "start_time": "2023-07-03T06:18:44.493Z"
      },
      {
        "duration": 54,
        "start_time": "2023-07-03T06:18:44.517Z"
      },
      {
        "duration": 13,
        "start_time": "2023-07-03T06:18:44.573Z"
      },
      {
        "duration": 10,
        "start_time": "2023-07-03T06:18:44.589Z"
      },
      {
        "duration": 4,
        "start_time": "2023-07-03T06:18:44.601Z"
      },
      {
        "duration": 8,
        "start_time": "2023-07-03T06:18:44.607Z"
      },
      {
        "duration": 1111,
        "start_time": "2023-07-03T06:18:44.617Z"
      },
      {
        "duration": 906,
        "start_time": "2023-07-03T06:18:45.730Z"
      },
      {
        "duration": 973,
        "start_time": "2023-07-03T06:18:46.639Z"
      },
      {
        "duration": 424,
        "start_time": "2023-07-03T06:18:47.614Z"
      },
      {
        "duration": 4,
        "start_time": "2023-07-03T06:18:48.040Z"
      },
      {
        "duration": 24,
        "start_time": "2023-07-03T06:18:48.046Z"
      },
      {
        "duration": 1297,
        "start_time": "2023-07-03T06:18:48.073Z"
      },
      {
        "duration": 10,
        "start_time": "2023-07-03T06:18:49.373Z"
      },
      {
        "duration": 32,
        "start_time": "2023-07-03T06:18:49.386Z"
      },
      {
        "duration": 4,
        "start_time": "2023-07-03T06:18:49.420Z"
      },
      {
        "duration": 32,
        "start_time": "2023-07-03T06:18:49.426Z"
      },
      {
        "duration": 5,
        "start_time": "2023-07-03T06:18:49.460Z"
      },
      {
        "duration": 34,
        "start_time": "2023-07-03T06:18:49.467Z"
      },
      {
        "duration": 6,
        "start_time": "2023-07-03T06:18:49.503Z"
      },
      {
        "duration": 11,
        "start_time": "2023-07-03T06:18:49.511Z"
      },
      {
        "duration": 73,
        "start_time": "2023-07-03T06:18:49.524Z"
      },
      {
        "duration": 861772,
        "start_time": "2023-07-03T06:18:49.601Z"
      },
      {
        "duration": 863262,
        "start_time": "2023-07-03T06:33:11.375Z"
      },
      {
        "duration": 49341,
        "start_time": "2023-07-03T06:47:34.639Z"
      },
      {
        "duration": 49673,
        "start_time": "2023-07-03T06:48:23.987Z"
      },
      {
        "duration": 522,
        "start_time": "2023-07-03T06:49:13.663Z"
      },
      {
        "duration": 475,
        "start_time": "2023-07-03T06:49:14.189Z"
      },
      {
        "duration": 4198,
        "start_time": "2023-07-03T06:49:14.670Z"
      },
      {
        "duration": 4082,
        "start_time": "2023-07-03T06:49:18.882Z"
      },
      {
        "duration": 5,
        "start_time": "2023-07-03T06:49:22.967Z"
      },
      {
        "duration": 4,
        "start_time": "2023-07-03T06:49:22.986Z"
      },
      {
        "duration": 14,
        "start_time": "2023-07-03T06:49:22.992Z"
      },
      {
        "duration": 15,
        "start_time": "2023-07-03T06:49:23.008Z"
      },
      {
        "duration": 7,
        "start_time": "2023-07-03T06:49:23.025Z"
      },
      {
        "duration": 7,
        "start_time": "2023-07-03T06:49:23.033Z"
      },
      {
        "duration": 10,
        "start_time": "2023-07-03T06:49:23.060Z"
      },
      {
        "duration": 1689,
        "start_time": "2023-07-03T07:11:58.201Z"
      },
      {
        "duration": 979,
        "start_time": "2023-07-03T07:11:59.892Z"
      },
      {
        "duration": 73,
        "start_time": "2023-07-03T07:12:00.873Z"
      },
      {
        "duration": 55,
        "start_time": "2023-07-03T07:12:00.948Z"
      },
      {
        "duration": 93,
        "start_time": "2023-07-03T07:12:01.005Z"
      },
      {
        "duration": 21,
        "start_time": "2023-07-03T07:12:01.099Z"
      },
      {
        "duration": 31,
        "start_time": "2023-07-03T07:12:01.121Z"
      },
      {
        "duration": 39,
        "start_time": "2023-07-03T07:12:01.154Z"
      },
      {
        "duration": 10,
        "start_time": "2023-07-03T07:12:01.195Z"
      },
      {
        "duration": 43,
        "start_time": "2023-07-03T07:12:01.207Z"
      },
      {
        "duration": 52,
        "start_time": "2023-07-03T07:12:01.253Z"
      },
      {
        "duration": 177,
        "start_time": "2023-07-03T07:12:01.308Z"
      },
      {
        "duration": 22,
        "start_time": "2023-07-03T07:12:01.488Z"
      },
      {
        "duration": 122,
        "start_time": "2023-07-03T07:12:01.514Z"
      },
      {
        "duration": 5,
        "start_time": "2023-07-03T07:12:01.638Z"
      },
      {
        "duration": 334,
        "start_time": "2023-07-03T07:12:01.656Z"
      },
      {
        "duration": 7,
        "start_time": "2023-07-03T07:12:01.992Z"
      },
      {
        "duration": 40,
        "start_time": "2023-07-03T07:12:02.001Z"
      },
      {
        "duration": 58,
        "start_time": "2023-07-03T07:12:02.043Z"
      },
      {
        "duration": 19,
        "start_time": "2023-07-03T07:12:02.103Z"
      },
      {
        "duration": 52,
        "start_time": "2023-07-03T07:12:02.124Z"
      },
      {
        "duration": 20,
        "start_time": "2023-07-03T07:12:02.177Z"
      },
      {
        "duration": 32,
        "start_time": "2023-07-03T07:12:02.199Z"
      },
      {
        "duration": 899,
        "start_time": "2023-07-03T07:12:02.233Z"
      },
      {
        "duration": 799,
        "start_time": "2023-07-03T07:12:03.134Z"
      },
      {
        "duration": 892,
        "start_time": "2023-07-03T07:12:03.935Z"
      },
      {
        "duration": 377,
        "start_time": "2023-07-03T07:12:04.829Z"
      },
      {
        "duration": 4,
        "start_time": "2023-07-03T07:12:05.208Z"
      },
      {
        "duration": 11,
        "start_time": "2023-07-03T07:12:05.214Z"
      },
      {
        "duration": 1286,
        "start_time": "2023-07-03T07:12:05.227Z"
      },
      {
        "duration": 6,
        "start_time": "2023-07-03T07:12:06.515Z"
      },
      {
        "duration": 39,
        "start_time": "2023-07-03T07:12:06.523Z"
      },
      {
        "duration": 5,
        "start_time": "2023-07-03T07:12:06.564Z"
      },
      {
        "duration": 17,
        "start_time": "2023-07-03T07:12:06.574Z"
      },
      {
        "duration": 5,
        "start_time": "2023-07-03T07:12:06.593Z"
      },
      {
        "duration": 22,
        "start_time": "2023-07-03T07:12:06.600Z"
      },
      {
        "duration": 6,
        "start_time": "2023-07-03T07:12:06.623Z"
      },
      {
        "duration": 8,
        "start_time": "2023-07-03T07:12:06.631Z"
      },
      {
        "duration": 37,
        "start_time": "2023-07-03T07:12:06.641Z"
      },
      {
        "duration": 823481,
        "start_time": "2023-07-03T07:12:06.680Z"
      },
      {
        "duration": 819551,
        "start_time": "2023-07-03T07:25:50.169Z"
      },
      {
        "duration": 46299,
        "start_time": "2023-07-03T07:39:29.722Z"
      },
      {
        "duration": 45962,
        "start_time": "2023-07-03T07:40:16.022Z"
      },
      {
        "duration": 1475,
        "start_time": "2023-07-03T07:41:01.986Z"
      },
      {
        "duration": 2597,
        "start_time": "2023-07-03T07:41:03.464Z"
      },
      {
        "duration": 4005,
        "start_time": "2023-07-03T07:41:06.067Z"
      },
      {
        "duration": 3859,
        "start_time": "2023-07-03T07:41:10.074Z"
      },
      {
        "duration": 4,
        "start_time": "2023-07-03T07:41:13.934Z"
      },
      {
        "duration": 146,
        "start_time": "2023-07-03T07:41:13.941Z"
      },
      {
        "duration": 0,
        "start_time": "2023-07-03T07:41:14.088Z"
      },
      {
        "duration": 0,
        "start_time": "2023-07-03T07:41:14.090Z"
      },
      {
        "duration": 0,
        "start_time": "2023-07-03T07:41:14.091Z"
      },
      {
        "duration": 0,
        "start_time": "2023-07-03T07:41:14.092Z"
      },
      {
        "duration": 0,
        "start_time": "2023-07-03T07:41:14.093Z"
      },
      {
        "duration": 6,
        "start_time": "2023-07-03T07:41:52.411Z"
      },
      {
        "duration": 0,
        "start_time": "2023-07-03T07:43:46.864Z"
      },
      {
        "duration": 7198,
        "start_time": "2023-07-03T07:43:56.327Z"
      },
      {
        "duration": 62939,
        "start_time": "2023-07-03T07:44:21.496Z"
      },
      {
        "duration": 112601,
        "start_time": "2023-07-03T07:45:30.787Z"
      },
      {
        "duration": 190688,
        "start_time": "2023-07-03T07:47:57.208Z"
      },
      {
        "duration": 287504,
        "start_time": "2023-07-03T07:53:15.778Z"
      },
      {
        "duration": 13,
        "start_time": "2023-07-03T07:58:03.284Z"
      },
      {
        "duration": 8,
        "start_time": "2023-07-03T07:58:03.299Z"
      },
      {
        "duration": 7,
        "start_time": "2023-07-03T07:58:03.309Z"
      },
      {
        "duration": 9,
        "start_time": "2023-07-03T07:58:03.317Z"
      },
      {
        "duration": 42,
        "start_time": "2023-07-03T07:58:03.328Z"
      },
      {
        "duration": 1787,
        "start_time": "2023-07-03T08:02:18.684Z"
      },
      {
        "duration": 1006,
        "start_time": "2023-07-03T08:02:20.473Z"
      },
      {
        "duration": 71,
        "start_time": "2023-07-03T08:02:21.480Z"
      },
      {
        "duration": 61,
        "start_time": "2023-07-03T08:02:21.552Z"
      },
      {
        "duration": 79,
        "start_time": "2023-07-03T08:02:21.615Z"
      },
      {
        "duration": 21,
        "start_time": "2023-07-03T08:02:21.696Z"
      },
      {
        "duration": 13,
        "start_time": "2023-07-03T08:02:21.719Z"
      },
      {
        "duration": 41,
        "start_time": "2023-07-03T08:02:21.734Z"
      },
      {
        "duration": 19,
        "start_time": "2023-07-03T08:02:21.777Z"
      },
      {
        "duration": 9,
        "start_time": "2023-07-03T08:02:21.798Z"
      },
      {
        "duration": 11,
        "start_time": "2023-07-03T08:02:21.809Z"
      },
      {
        "duration": 184,
        "start_time": "2023-07-03T08:02:21.822Z"
      },
      {
        "duration": 23,
        "start_time": "2023-07-03T08:02:22.008Z"
      },
      {
        "duration": 115,
        "start_time": "2023-07-03T08:02:22.036Z"
      },
      {
        "duration": 20,
        "start_time": "2023-07-03T08:02:22.154Z"
      },
      {
        "duration": 336,
        "start_time": "2023-07-03T08:02:22.181Z"
      },
      {
        "duration": 6,
        "start_time": "2023-07-03T08:02:22.519Z"
      },
      {
        "duration": 33,
        "start_time": "2023-07-03T08:02:22.527Z"
      },
      {
        "duration": 45,
        "start_time": "2023-07-03T08:02:22.562Z"
      },
      {
        "duration": 16,
        "start_time": "2023-07-03T08:02:22.608Z"
      },
      {
        "duration": 36,
        "start_time": "2023-07-03T08:02:22.626Z"
      },
      {
        "duration": 5,
        "start_time": "2023-07-03T08:02:22.669Z"
      },
      {
        "duration": 29,
        "start_time": "2023-07-03T08:02:22.676Z"
      },
      {
        "duration": 999,
        "start_time": "2023-07-03T08:02:22.707Z"
      },
      {
        "duration": 917,
        "start_time": "2023-07-03T08:02:23.708Z"
      },
      {
        "duration": 918,
        "start_time": "2023-07-03T08:02:24.626Z"
      },
      {
        "duration": 383,
        "start_time": "2023-07-03T08:02:25.554Z"
      },
      {
        "duration": 4,
        "start_time": "2023-07-03T08:02:25.939Z"
      },
      {
        "duration": 32,
        "start_time": "2023-07-03T08:02:25.944Z"
      },
      {
        "duration": 1339,
        "start_time": "2023-07-03T08:02:25.982Z"
      },
      {
        "duration": 9,
        "start_time": "2023-07-03T08:02:27.324Z"
      },
      {
        "duration": 47,
        "start_time": "2023-07-03T08:02:27.335Z"
      },
      {
        "duration": 8,
        "start_time": "2023-07-03T08:02:27.394Z"
      },
      {
        "duration": 12,
        "start_time": "2023-07-03T08:02:27.404Z"
      },
      {
        "duration": 7,
        "start_time": "2023-07-03T08:02:27.418Z"
      },
      {
        "duration": 44,
        "start_time": "2023-07-03T08:02:27.428Z"
      },
      {
        "duration": 14,
        "start_time": "2023-07-03T08:02:27.474Z"
      },
      {
        "duration": 17,
        "start_time": "2023-07-03T08:02:27.493Z"
      },
      {
        "duration": 48,
        "start_time": "2023-07-03T08:02:27.513Z"
      },
      {
        "duration": 261459,
        "start_time": "2023-07-03T08:02:27.568Z"
      },
      {
        "duration": 250824,
        "start_time": "2023-07-03T08:06:49.032Z"
      },
      {
        "duration": 49017,
        "start_time": "2023-07-03T08:10:59.858Z"
      },
      {
        "duration": 50226,
        "start_time": "2023-07-03T08:11:48.877Z"
      },
      {
        "duration": 2763,
        "start_time": "2023-07-03T08:12:39.110Z"
      },
      {
        "duration": 2800,
        "start_time": "2023-07-03T08:12:41.875Z"
      },
      {
        "duration": 4260,
        "start_time": "2023-07-03T08:12:44.682Z"
      },
      {
        "duration": 4129,
        "start_time": "2023-07-03T08:12:48.944Z"
      },
      {
        "duration": 8,
        "start_time": "2023-07-03T08:12:53.077Z"
      },
      {
        "duration": 20,
        "start_time": "2023-07-03T08:12:53.092Z"
      },
      {
        "duration": 32,
        "start_time": "2023-07-03T08:12:53.114Z"
      },
      {
        "duration": 28,
        "start_time": "2023-07-03T08:12:53.148Z"
      },
      {
        "duration": 21,
        "start_time": "2023-07-03T08:12:53.180Z"
      },
      {
        "duration": 31,
        "start_time": "2023-07-03T08:12:53.205Z"
      },
      {
        "duration": 2003,
        "start_time": "2023-07-03T08:35:29.347Z"
      },
      {
        "duration": 3748,
        "start_time": "2023-07-03T08:35:31.353Z"
      },
      {
        "duration": 102,
        "start_time": "2023-07-03T08:35:35.103Z"
      },
      {
        "duration": 83,
        "start_time": "2023-07-03T08:35:35.207Z"
      },
      {
        "duration": 84,
        "start_time": "2023-07-03T08:35:35.297Z"
      },
      {
        "duration": 23,
        "start_time": "2023-07-03T08:35:35.384Z"
      },
      {
        "duration": 13,
        "start_time": "2023-07-03T08:35:35.409Z"
      },
      {
        "duration": 52,
        "start_time": "2023-07-03T08:35:35.424Z"
      },
      {
        "duration": 19,
        "start_time": "2023-07-03T08:35:35.478Z"
      },
      {
        "duration": 8,
        "start_time": "2023-07-03T08:35:35.501Z"
      },
      {
        "duration": 34,
        "start_time": "2023-07-03T08:35:35.510Z"
      },
      {
        "duration": 189,
        "start_time": "2023-07-03T08:35:35.547Z"
      },
      {
        "duration": 46,
        "start_time": "2023-07-03T08:35:35.739Z"
      },
      {
        "duration": 142,
        "start_time": "2023-07-03T08:35:35.787Z"
      },
      {
        "duration": 5,
        "start_time": "2023-07-03T08:35:35.932Z"
      },
      {
        "duration": 382,
        "start_time": "2023-07-03T08:35:35.939Z"
      },
      {
        "duration": 7,
        "start_time": "2023-07-03T08:35:36.323Z"
      },
      {
        "duration": 41,
        "start_time": "2023-07-03T08:35:36.332Z"
      },
      {
        "duration": 33,
        "start_time": "2023-07-03T08:35:36.375Z"
      },
      {
        "duration": 8,
        "start_time": "2023-07-03T08:35:36.410Z"
      },
      {
        "duration": 10,
        "start_time": "2023-07-03T08:35:36.422Z"
      },
      {
        "duration": 30,
        "start_time": "2023-07-03T08:35:36.435Z"
      },
      {
        "duration": 9,
        "start_time": "2023-07-03T08:35:36.467Z"
      },
      {
        "duration": 1134,
        "start_time": "2023-07-03T08:35:36.478Z"
      },
      {
        "duration": 979,
        "start_time": "2023-07-03T08:35:37.614Z"
      },
      {
        "duration": 901,
        "start_time": "2023-07-03T08:35:38.599Z"
      },
      {
        "duration": 360,
        "start_time": "2023-07-03T08:35:39.504Z"
      },
      {
        "duration": 6,
        "start_time": "2023-07-03T08:35:39.869Z"
      },
      {
        "duration": 14,
        "start_time": "2023-07-03T08:35:39.886Z"
      },
      {
        "duration": 1356,
        "start_time": "2023-07-03T08:35:39.903Z"
      },
      {
        "duration": 9,
        "start_time": "2023-07-03T08:35:41.269Z"
      },
      {
        "duration": 46,
        "start_time": "2023-07-03T08:35:41.281Z"
      },
      {
        "duration": 4,
        "start_time": "2023-07-03T08:35:41.330Z"
      },
      {
        "duration": 30,
        "start_time": "2023-07-03T08:35:41.336Z"
      },
      {
        "duration": 21,
        "start_time": "2023-07-03T08:35:41.368Z"
      },
      {
        "duration": 33,
        "start_time": "2023-07-03T08:35:41.392Z"
      },
      {
        "duration": 14,
        "start_time": "2023-07-03T08:35:41.428Z"
      },
      {
        "duration": 25,
        "start_time": "2023-07-03T08:35:41.444Z"
      },
      {
        "duration": 39,
        "start_time": "2023-07-03T08:35:41.474Z"
      },
      {
        "duration": 209505,
        "start_time": "2023-07-03T08:35:41.515Z"
      },
      {
        "duration": 187711,
        "start_time": "2023-07-03T08:39:11.022Z"
      },
      {
        "duration": 48029,
        "start_time": "2023-07-03T08:42:18.735Z"
      },
      {
        "duration": 48736,
        "start_time": "2023-07-03T08:43:06.766Z"
      },
      {
        "duration": 3269,
        "start_time": "2023-07-03T08:43:55.504Z"
      },
      {
        "duration": 1601,
        "start_time": "2023-07-03T08:43:58.775Z"
      },
      {
        "duration": 3993,
        "start_time": "2023-07-03T08:44:00.456Z"
      },
      {
        "duration": 4167,
        "start_time": "2023-07-03T08:44:04.451Z"
      },
      {
        "duration": 4,
        "start_time": "2023-07-03T08:44:08.619Z"
      },
      {
        "duration": 11,
        "start_time": "2023-07-03T08:44:08.625Z"
      },
      {
        "duration": 52,
        "start_time": "2023-07-03T08:44:08.638Z"
      },
      {
        "duration": 8,
        "start_time": "2023-07-03T08:44:08.692Z"
      },
      {
        "duration": 12,
        "start_time": "2023-07-03T08:44:08.702Z"
      },
      {
        "duration": 4,
        "start_time": "2023-07-03T08:44:08.717Z"
      },
      {
        "duration": 133,
        "start_time": "2023-07-03T08:53:55.342Z"
      },
      {
        "duration": 1691,
        "start_time": "2023-07-03T08:54:24.112Z"
      },
      {
        "duration": 1088,
        "start_time": "2023-07-03T08:54:25.805Z"
      },
      {
        "duration": 82,
        "start_time": "2023-07-03T08:54:26.895Z"
      },
      {
        "duration": 45,
        "start_time": "2023-07-03T08:54:26.981Z"
      },
      {
        "duration": 85,
        "start_time": "2023-07-03T08:54:27.028Z"
      },
      {
        "duration": 19,
        "start_time": "2023-07-03T08:54:27.115Z"
      },
      {
        "duration": 44,
        "start_time": "2023-07-03T08:54:27.136Z"
      },
      {
        "duration": 20,
        "start_time": "2023-07-03T08:54:27.182Z"
      },
      {
        "duration": 9,
        "start_time": "2023-07-03T08:54:27.203Z"
      },
      {
        "duration": 7,
        "start_time": "2023-07-03T08:54:27.215Z"
      },
      {
        "duration": 50,
        "start_time": "2023-07-03T08:54:27.223Z"
      },
      {
        "duration": 197,
        "start_time": "2023-07-03T08:54:27.282Z"
      },
      {
        "duration": 37,
        "start_time": "2023-07-03T08:54:27.484Z"
      },
      {
        "duration": 145,
        "start_time": "2023-07-03T08:54:27.524Z"
      },
      {
        "duration": 8,
        "start_time": "2023-07-03T08:54:27.671Z"
      },
      {
        "duration": 399,
        "start_time": "2023-07-03T08:54:27.686Z"
      },
      {
        "duration": 6,
        "start_time": "2023-07-03T08:54:28.088Z"
      },
      {
        "duration": 30,
        "start_time": "2023-07-03T08:54:28.096Z"
      },
      {
        "duration": 37,
        "start_time": "2023-07-03T08:54:28.128Z"
      },
      {
        "duration": 9,
        "start_time": "2023-07-03T08:54:28.174Z"
      },
      {
        "duration": 9,
        "start_time": "2023-07-03T08:54:28.186Z"
      },
      {
        "duration": 20,
        "start_time": "2023-07-03T08:54:28.196Z"
      },
      {
        "duration": 43,
        "start_time": "2023-07-03T08:54:28.218Z"
      },
      {
        "duration": 927,
        "start_time": "2023-07-03T08:54:28.263Z"
      },
      {
        "duration": 853,
        "start_time": "2023-07-03T08:54:29.191Z"
      },
      {
        "duration": 926,
        "start_time": "2023-07-03T08:54:30.054Z"
      },
      {
        "duration": 354,
        "start_time": "2023-07-03T08:54:30.987Z"
      },
      {
        "duration": 23,
        "start_time": "2023-07-03T08:54:31.345Z"
      },
      {
        "duration": 52,
        "start_time": "2023-07-03T08:54:31.372Z"
      },
      {
        "duration": 1413,
        "start_time": "2023-07-03T08:54:31.426Z"
      },
      {
        "duration": 17,
        "start_time": "2023-07-03T08:54:32.840Z"
      },
      {
        "duration": 27,
        "start_time": "2023-07-03T08:54:32.868Z"
      },
      {
        "duration": 6,
        "start_time": "2023-07-03T08:54:32.904Z"
      },
      {
        "duration": 25,
        "start_time": "2023-07-03T08:54:32.912Z"
      },
      {
        "duration": 41,
        "start_time": "2023-07-03T08:54:32.938Z"
      },
      {
        "duration": 34,
        "start_time": "2023-07-03T08:54:32.988Z"
      },
      {
        "duration": 10,
        "start_time": "2023-07-03T08:54:33.025Z"
      },
      {
        "duration": 12,
        "start_time": "2023-07-03T08:54:33.037Z"
      },
      {
        "duration": 50,
        "start_time": "2023-07-03T08:54:33.051Z"
      },
      {
        "duration": 828101,
        "start_time": "2023-07-03T08:54:33.103Z"
      },
      {
        "duration": 848704,
        "start_time": "2023-07-03T09:08:21.205Z"
      },
      {
        "duration": 48436,
        "start_time": "2023-07-03T09:22:29.911Z"
      },
      {
        "duration": 48538,
        "start_time": "2023-07-03T09:23:18.355Z"
      },
      {
        "duration": 3070,
        "start_time": "2023-07-03T09:24:06.895Z"
      },
      {
        "duration": 4012,
        "start_time": "2023-07-03T09:24:09.968Z"
      },
      {
        "duration": 4206,
        "start_time": "2023-07-03T09:24:13.986Z"
      },
      {
        "duration": 4065,
        "start_time": "2023-07-03T09:24:18.197Z"
      },
      {
        "duration": 14,
        "start_time": "2023-07-03T09:24:22.271Z"
      },
      {
        "duration": 11,
        "start_time": "2023-07-03T09:24:22.288Z"
      },
      {
        "duration": 13,
        "start_time": "2023-07-03T09:24:22.301Z"
      },
      {
        "duration": 10,
        "start_time": "2023-07-03T09:24:22.316Z"
      },
      {
        "duration": 5,
        "start_time": "2023-07-03T09:24:22.328Z"
      },
      {
        "duration": 15,
        "start_time": "2023-07-03T09:24:22.335Z"
      },
      {
        "duration": 1790,
        "start_time": "2023-07-03T09:35:38.430Z"
      },
      {
        "duration": 1830,
        "start_time": "2023-07-03T09:35:41.983Z"
      },
      {
        "duration": 4,
        "start_time": "2023-07-03T09:35:47.917Z"
      },
      {
        "duration": 19,
        "start_time": "2023-07-03T09:35:52.054Z"
      },
      {
        "duration": 10,
        "start_time": "2023-07-03T09:35:54.597Z"
      },
      {
        "duration": 7,
        "start_time": "2023-07-03T09:35:55.701Z"
      },
      {
        "duration": 8,
        "start_time": "2023-07-03T09:35:56.630Z"
      },
      {
        "duration": 1892,
        "start_time": "2023-07-03T09:36:38.454Z"
      },
      {
        "duration": 2085,
        "start_time": "2023-07-03T09:36:40.348Z"
      },
      {
        "duration": 82,
        "start_time": "2023-07-03T09:36:42.435Z"
      },
      {
        "duration": 54,
        "start_time": "2023-07-03T09:36:42.520Z"
      },
      {
        "duration": 66,
        "start_time": "2023-07-03T09:36:42.579Z"
      },
      {
        "duration": 27,
        "start_time": "2023-07-03T09:36:42.660Z"
      },
      {
        "duration": 14,
        "start_time": "2023-07-03T09:36:42.689Z"
      },
      {
        "duration": 19,
        "start_time": "2023-07-03T09:36:42.704Z"
      },
      {
        "duration": 35,
        "start_time": "2023-07-03T09:36:42.724Z"
      },
      {
        "duration": 18,
        "start_time": "2023-07-03T09:36:42.762Z"
      },
      {
        "duration": 11,
        "start_time": "2023-07-03T09:36:42.782Z"
      },
      {
        "duration": 149,
        "start_time": "2023-07-03T09:36:42.794Z"
      },
      {
        "duration": 40,
        "start_time": "2023-07-03T09:36:42.945Z"
      },
      {
        "duration": 115,
        "start_time": "2023-07-03T09:36:42.989Z"
      },
      {
        "duration": 3,
        "start_time": "2023-07-03T09:36:43.106Z"
      },
      {
        "duration": 317,
        "start_time": "2023-07-03T09:36:43.111Z"
      },
      {
        "duration": 8,
        "start_time": "2023-07-03T09:36:43.430Z"
      },
      {
        "duration": 34,
        "start_time": "2023-07-03T09:36:43.440Z"
      },
      {
        "duration": 22,
        "start_time": "2023-07-03T09:36:43.482Z"
      },
      {
        "duration": 9,
        "start_time": "2023-07-03T09:36:43.506Z"
      },
      {
        "duration": 14,
        "start_time": "2023-07-03T09:36:43.517Z"
      },
      {
        "duration": 6,
        "start_time": "2023-07-03T09:36:43.534Z"
      },
      {
        "duration": 20,
        "start_time": "2023-07-03T09:36:43.556Z"
      },
      {
        "duration": 960,
        "start_time": "2023-07-03T09:36:43.578Z"
      },
      {
        "duration": 858,
        "start_time": "2023-07-03T09:36:44.540Z"
      },
      {
        "duration": 867,
        "start_time": "2023-07-03T09:36:45.401Z"
      },
      {
        "duration": 369,
        "start_time": "2023-07-03T09:36:46.274Z"
      },
      {
        "duration": 21,
        "start_time": "2023-07-03T09:36:46.646Z"
      },
      {
        "duration": 24,
        "start_time": "2023-07-03T09:36:46.672Z"
      },
      {
        "duration": 1249,
        "start_time": "2023-07-03T09:36:46.697Z"
      },
      {
        "duration": 12,
        "start_time": "2023-07-03T09:36:47.960Z"
      },
      {
        "duration": 34,
        "start_time": "2023-07-03T09:36:47.974Z"
      },
      {
        "duration": 8,
        "start_time": "2023-07-03T09:36:48.010Z"
      },
      {
        "duration": 18,
        "start_time": "2023-07-03T09:36:48.020Z"
      },
      {
        "duration": 45,
        "start_time": "2023-07-03T09:36:48.042Z"
      },
      {
        "duration": 39,
        "start_time": "2023-07-03T09:36:48.089Z"
      },
      {
        "duration": 22,
        "start_time": "2023-07-03T09:36:48.130Z"
      },
      {
        "duration": 38,
        "start_time": "2023-07-03T09:36:48.158Z"
      },
      {
        "duration": 68,
        "start_time": "2023-07-03T09:36:48.198Z"
      },
      {
        "duration": 857060,
        "start_time": "2023-07-03T09:36:48.268Z"
      },
      {
        "duration": 896552,
        "start_time": "2023-07-03T09:51:05.330Z"
      },
      {
        "duration": 47564,
        "start_time": "2023-07-03T10:06:01.884Z"
      },
      {
        "duration": 47085,
        "start_time": "2023-07-03T10:06:49.456Z"
      },
      {
        "duration": 1422,
        "start_time": "2023-07-03T10:07:36.543Z"
      },
      {
        "duration": 2072,
        "start_time": "2023-07-03T10:07:37.984Z"
      },
      {
        "duration": 1771,
        "start_time": "2023-07-03T10:07:40.058Z"
      },
      {
        "duration": 1729,
        "start_time": "2023-07-03T10:07:41.831Z"
      },
      {
        "duration": 12,
        "start_time": "2023-07-03T10:07:43.564Z"
      },
      {
        "duration": 903,
        "start_time": "2023-07-03T10:07:43.581Z"
      },
      {
        "duration": 759,
        "start_time": "2023-07-03T10:07:44.486Z"
      },
      {
        "duration": 553,
        "start_time": "2023-07-03T10:07:45.247Z"
      },
      {
        "duration": 775,
        "start_time": "2023-07-03T10:07:45.801Z"
      },
      {
        "duration": 7,
        "start_time": "2023-07-03T10:07:46.580Z"
      },
      {
        "duration": 835776,
        "start_time": "2023-07-03T10:07:46.592Z"
      },
      {
        "duration": 725893,
        "start_time": "2023-07-03T11:10:43.846Z"
      },
      {
        "duration": 7,
        "start_time": "2023-07-03T11:24:47.251Z"
      },
      {
        "duration": 4,
        "start_time": "2023-07-03T11:25:13.091Z"
      },
      {
        "duration": 1707,
        "start_time": "2023-07-03T11:25:36.937Z"
      },
      {
        "duration": 4140,
        "start_time": "2023-07-03T11:25:38.647Z"
      },
      {
        "duration": 69,
        "start_time": "2023-07-03T11:25:42.788Z"
      },
      {
        "duration": 54,
        "start_time": "2023-07-03T11:25:42.864Z"
      },
      {
        "duration": 78,
        "start_time": "2023-07-03T11:25:42.919Z"
      },
      {
        "duration": 18,
        "start_time": "2023-07-03T11:25:42.999Z"
      },
      {
        "duration": 13,
        "start_time": "2023-07-03T11:25:43.019Z"
      },
      {
        "duration": 33,
        "start_time": "2023-07-03T11:25:43.054Z"
      },
      {
        "duration": 9,
        "start_time": "2023-07-03T11:25:43.089Z"
      },
      {
        "duration": 26,
        "start_time": "2023-07-03T11:25:43.100Z"
      },
      {
        "duration": 11,
        "start_time": "2023-07-03T11:25:43.128Z"
      },
      {
        "duration": 235,
        "start_time": "2023-07-03T11:25:43.159Z"
      },
      {
        "duration": 78,
        "start_time": "2023-07-03T11:25:43.396Z"
      },
      {
        "duration": 290,
        "start_time": "2023-07-03T11:25:43.478Z"
      },
      {
        "duration": 5,
        "start_time": "2023-07-03T11:25:43.771Z"
      },
      {
        "duration": 725,
        "start_time": "2023-07-03T11:25:43.779Z"
      },
      {
        "duration": 17,
        "start_time": "2023-07-03T11:25:44.554Z"
      },
      {
        "duration": 28,
        "start_time": "2023-07-03T11:25:44.573Z"
      },
      {
        "duration": 74,
        "start_time": "2023-07-03T11:25:44.603Z"
      },
      {
        "duration": 12,
        "start_time": "2023-07-03T11:25:44.680Z"
      },
      {
        "duration": 9,
        "start_time": "2023-07-03T11:25:44.694Z"
      },
      {
        "duration": 55,
        "start_time": "2023-07-03T11:25:44.704Z"
      },
      {
        "duration": 27,
        "start_time": "2023-07-03T11:25:44.762Z"
      },
      {
        "duration": 1429,
        "start_time": "2023-07-03T11:25:44.791Z"
      },
      {
        "duration": 912,
        "start_time": "2023-07-03T11:25:46.221Z"
      },
      {
        "duration": 983,
        "start_time": "2023-07-03T11:25:47.135Z"
      },
      {
        "duration": 379,
        "start_time": "2023-07-03T11:25:48.121Z"
      },
      {
        "duration": 4,
        "start_time": "2023-07-03T11:25:48.503Z"
      },
      {
        "duration": 27,
        "start_time": "2023-07-03T11:25:48.509Z"
      },
      {
        "duration": 1222,
        "start_time": "2023-07-03T11:25:48.538Z"
      },
      {
        "duration": 11,
        "start_time": "2023-07-03T11:25:49.762Z"
      },
      {
        "duration": 20,
        "start_time": "2023-07-03T11:25:49.775Z"
      },
      {
        "duration": 3,
        "start_time": "2023-07-03T11:25:49.797Z"
      },
      {
        "duration": 3,
        "start_time": "2023-07-03T11:25:49.803Z"
      },
      {
        "duration": 3,
        "start_time": "2023-07-03T11:25:49.809Z"
      },
      {
        "duration": 66,
        "start_time": "2023-07-03T11:25:49.815Z"
      },
      {
        "duration": 6,
        "start_time": "2023-07-03T11:25:49.883Z"
      },
      {
        "duration": 6,
        "start_time": "2023-07-03T11:25:49.891Z"
      },
      {
        "duration": 22,
        "start_time": "2023-07-03T11:25:49.898Z"
      },
      {
        "duration": 909657,
        "start_time": "2023-07-03T11:25:49.922Z"
      },
      {
        "duration": 799071,
        "start_time": "2023-07-03T11:40:59.587Z"
      },
      {
        "duration": 1886,
        "start_time": "2023-07-03T11:57:23.082Z"
      },
      {
        "duration": 4484,
        "start_time": "2023-07-03T11:57:24.978Z"
      },
      {
        "duration": 76,
        "start_time": "2023-07-03T11:57:29.464Z"
      },
      {
        "duration": 55,
        "start_time": "2023-07-03T11:57:29.543Z"
      },
      {
        "duration": 91,
        "start_time": "2023-07-03T11:57:29.600Z"
      },
      {
        "duration": 21,
        "start_time": "2023-07-03T11:57:29.693Z"
      },
      {
        "duration": 16,
        "start_time": "2023-07-03T11:57:29.716Z"
      },
      {
        "duration": 66,
        "start_time": "2023-07-03T11:57:29.734Z"
      },
      {
        "duration": 10,
        "start_time": "2023-07-03T11:57:29.801Z"
      },
      {
        "duration": 24,
        "start_time": "2023-07-03T11:57:29.813Z"
      },
      {
        "duration": 39,
        "start_time": "2023-07-03T11:57:29.838Z"
      },
      {
        "duration": 151,
        "start_time": "2023-07-03T11:57:29.884Z"
      },
      {
        "duration": 27,
        "start_time": "2023-07-03T11:57:30.037Z"
      },
      {
        "duration": 134,
        "start_time": "2023-07-03T11:57:30.066Z"
      },
      {
        "duration": 4,
        "start_time": "2023-07-03T11:57:30.202Z"
      },
      {
        "duration": 387,
        "start_time": "2023-07-03T11:57:30.208Z"
      },
      {
        "duration": 9,
        "start_time": "2023-07-03T11:57:30.597Z"
      },
      {
        "duration": 57,
        "start_time": "2023-07-03T11:57:30.608Z"
      },
      {
        "duration": 57,
        "start_time": "2023-07-03T11:57:30.670Z"
      },
      {
        "duration": 63,
        "start_time": "2023-07-03T11:57:30.729Z"
      },
      {
        "duration": 48,
        "start_time": "2023-07-03T11:57:30.794Z"
      },
      {
        "duration": 47,
        "start_time": "2023-07-03T11:57:30.844Z"
      },
      {
        "duration": 48,
        "start_time": "2023-07-03T11:57:30.893Z"
      },
      {
        "duration": 1031,
        "start_time": "2023-07-03T11:57:30.945Z"
      },
      {
        "duration": 1023,
        "start_time": "2023-07-03T11:57:31.979Z"
      },
      {
        "duration": 920,
        "start_time": "2023-07-03T11:57:33.004Z"
      },
      {
        "duration": 381,
        "start_time": "2023-07-03T11:57:33.925Z"
      },
      {
        "duration": 4,
        "start_time": "2023-07-03T11:57:34.311Z"
      },
      {
        "duration": 44,
        "start_time": "2023-07-03T11:57:34.318Z"
      },
      {
        "duration": 2043,
        "start_time": "2023-07-03T11:57:34.372Z"
      },
      {
        "duration": 8,
        "start_time": "2023-07-03T11:57:36.417Z"
      },
      {
        "duration": 83,
        "start_time": "2023-07-03T11:57:36.427Z"
      },
      {
        "duration": 5,
        "start_time": "2023-07-03T11:57:36.513Z"
      },
      {
        "duration": 11,
        "start_time": "2023-07-03T11:57:36.520Z"
      },
      {
        "duration": 34,
        "start_time": "2023-07-03T11:57:36.534Z"
      },
      {
        "duration": 45,
        "start_time": "2023-07-03T11:57:36.570Z"
      },
      {
        "duration": 8,
        "start_time": "2023-07-03T11:57:36.617Z"
      },
      {
        "duration": 47,
        "start_time": "2023-07-03T11:57:36.627Z"
      },
      {
        "duration": 905898,
        "start_time": "2023-07-03T11:57:36.679Z"
      },
      {
        "duration": 924425,
        "start_time": "2023-07-03T12:12:42.590Z"
      },
      {
        "duration": 51381,
        "start_time": "2023-07-03T12:28:07.017Z"
      },
      {
        "duration": 47802,
        "start_time": "2023-07-03T12:28:58.400Z"
      },
      {
        "duration": 1075,
        "start_time": "2023-07-03T12:29:46.204Z"
      },
      {
        "duration": 1375,
        "start_time": "2023-07-03T12:29:47.283Z"
      },
      {
        "duration": 1829,
        "start_time": "2023-07-03T12:29:48.661Z"
      },
      {
        "duration": 1789,
        "start_time": "2023-07-03T12:29:50.492Z"
      },
      {
        "duration": 5,
        "start_time": "2023-07-03T12:29:52.283Z"
      },
      {
        "duration": 14,
        "start_time": "2023-07-03T12:29:52.290Z"
      },
      {
        "duration": 17,
        "start_time": "2023-07-03T12:29:52.307Z"
      },
      {
        "duration": 35,
        "start_time": "2023-07-03T12:29:52.325Z"
      },
      {
        "duration": 9,
        "start_time": "2023-07-03T12:29:52.362Z"
      },
      {
        "duration": 35,
        "start_time": "2023-07-03T12:29:52.373Z"
      },
      {
        "duration": 26,
        "start_time": "2023-07-03T12:29:52.412Z"
      },
      {
        "duration": 3433,
        "start_time": "2023-07-03T12:31:09.684Z"
      },
      {
        "duration": 4069,
        "start_time": "2023-07-03T12:31:13.119Z"
      },
      {
        "duration": 86,
        "start_time": "2023-07-03T12:31:17.190Z"
      },
      {
        "duration": 43,
        "start_time": "2023-07-03T12:31:17.279Z"
      },
      {
        "duration": 97,
        "start_time": "2023-07-03T12:31:17.325Z"
      },
      {
        "duration": 49,
        "start_time": "2023-07-03T12:31:17.424Z"
      },
      {
        "duration": 23,
        "start_time": "2023-07-03T12:31:17.477Z"
      },
      {
        "duration": 28,
        "start_time": "2023-07-03T12:31:17.503Z"
      },
      {
        "duration": 32,
        "start_time": "2023-07-03T12:31:17.534Z"
      },
      {
        "duration": 10,
        "start_time": "2023-07-03T12:31:17.568Z"
      },
      {
        "duration": 36,
        "start_time": "2023-07-03T12:31:17.580Z"
      },
      {
        "duration": 186,
        "start_time": "2023-07-03T12:31:17.618Z"
      },
      {
        "duration": 24,
        "start_time": "2023-07-03T12:31:17.807Z"
      },
      {
        "duration": 146,
        "start_time": "2023-07-03T12:31:17.835Z"
      },
      {
        "duration": 5,
        "start_time": "2023-07-03T12:31:17.984Z"
      },
      {
        "duration": 389,
        "start_time": "2023-07-03T12:31:17.991Z"
      },
      {
        "duration": 11,
        "start_time": "2023-07-03T12:31:18.382Z"
      },
      {
        "duration": 47,
        "start_time": "2023-07-03T12:31:18.395Z"
      },
      {
        "duration": 68,
        "start_time": "2023-07-03T12:31:18.443Z"
      },
      {
        "duration": 17,
        "start_time": "2023-07-03T12:31:18.513Z"
      },
      {
        "duration": 19,
        "start_time": "2023-07-03T12:31:18.532Z"
      },
      {
        "duration": 14,
        "start_time": "2023-07-03T12:31:18.553Z"
      },
      {
        "duration": 30,
        "start_time": "2023-07-03T12:31:18.569Z"
      },
      {
        "duration": 948,
        "start_time": "2023-07-03T12:31:18.601Z"
      },
      {
        "duration": 886,
        "start_time": "2023-07-03T12:31:19.551Z"
      },
      {
        "duration": 887,
        "start_time": "2023-07-03T12:31:20.443Z"
      },
      {
        "duration": 383,
        "start_time": "2023-07-03T12:31:21.332Z"
      },
      {
        "duration": 4,
        "start_time": "2023-07-03T12:31:21.718Z"
      },
      {
        "duration": 9,
        "start_time": "2023-07-03T12:31:21.724Z"
      },
      {
        "duration": 1296,
        "start_time": "2023-07-03T12:31:21.735Z"
      },
      {
        "duration": 6,
        "start_time": "2023-07-03T12:31:23.033Z"
      },
      {
        "duration": 47,
        "start_time": "2023-07-03T12:31:23.041Z"
      },
      {
        "duration": 26,
        "start_time": "2023-07-03T12:31:23.090Z"
      },
      {
        "duration": 23,
        "start_time": "2023-07-03T12:31:23.118Z"
      },
      {
        "duration": 25,
        "start_time": "2023-07-03T12:31:23.143Z"
      },
      {
        "duration": 41,
        "start_time": "2023-07-03T12:31:23.172Z"
      },
      {
        "duration": 6,
        "start_time": "2023-07-03T12:31:23.215Z"
      },
      {
        "duration": 19,
        "start_time": "2023-07-03T12:31:23.222Z"
      },
      {
        "duration": 37,
        "start_time": "2023-07-03T12:31:23.243Z"
      },
      {
        "duration": 850165,
        "start_time": "2023-07-03T12:31:23.284Z"
      },
      {
        "duration": 815397,
        "start_time": "2023-07-03T12:45:33.465Z"
      },
      {
        "duration": 45758,
        "start_time": "2023-07-03T12:59:08.863Z"
      },
      {
        "duration": 45538,
        "start_time": "2023-07-03T12:59:54.623Z"
      },
      {
        "duration": 1613,
        "start_time": "2023-07-03T13:00:40.164Z"
      },
      {
        "duration": 792,
        "start_time": "2023-07-03T13:00:41.779Z"
      },
      {
        "duration": 1745,
        "start_time": "2023-07-03T13:00:42.573Z"
      },
      {
        "duration": 1679,
        "start_time": "2023-07-03T13:00:44.320Z"
      },
      {
        "duration": 3,
        "start_time": "2023-07-03T13:00:46.001Z"
      },
      {
        "duration": 10,
        "start_time": "2023-07-03T13:00:46.006Z"
      },
      {
        "duration": 7,
        "start_time": "2023-07-03T13:00:46.018Z"
      },
      {
        "duration": 30,
        "start_time": "2023-07-03T13:00:46.027Z"
      },
      {
        "duration": 8,
        "start_time": "2023-07-03T13:00:46.062Z"
      },
      {
        "duration": 4,
        "start_time": "2023-07-03T13:00:46.072Z"
      },
      {
        "duration": 5273,
        "start_time": "2023-07-04T09:27:15.528Z"
      },
      {
        "duration": 3085,
        "start_time": "2023-07-04T09:27:20.803Z"
      },
      {
        "duration": 82,
        "start_time": "2023-07-04T09:27:23.889Z"
      },
      {
        "duration": 49,
        "start_time": "2023-07-04T09:27:23.974Z"
      },
      {
        "duration": 78,
        "start_time": "2023-07-04T09:27:24.024Z"
      },
      {
        "duration": 16,
        "start_time": "2023-07-04T09:27:24.104Z"
      },
      {
        "duration": 12,
        "start_time": "2023-07-04T09:27:24.122Z"
      },
      {
        "duration": 17,
        "start_time": "2023-07-04T09:27:24.136Z"
      },
      {
        "duration": 10,
        "start_time": "2023-07-04T09:27:24.155Z"
      },
      {
        "duration": 7,
        "start_time": "2023-07-04T09:27:24.167Z"
      },
      {
        "duration": 42,
        "start_time": "2023-07-04T09:27:24.176Z"
      },
      {
        "duration": 132,
        "start_time": "2023-07-04T09:27:24.219Z"
      },
      {
        "duration": 21,
        "start_time": "2023-07-04T09:27:24.352Z"
      },
      {
        "duration": 109,
        "start_time": "2023-07-04T09:27:24.375Z"
      },
      {
        "duration": 3,
        "start_time": "2023-07-04T09:27:24.486Z"
      },
      {
        "duration": 263,
        "start_time": "2023-07-04T09:27:24.491Z"
      },
      {
        "duration": 6,
        "start_time": "2023-07-04T09:27:24.755Z"
      },
      {
        "duration": 16,
        "start_time": "2023-07-04T09:27:24.763Z"
      },
      {
        "duration": 33,
        "start_time": "2023-07-04T09:27:24.781Z"
      },
      {
        "duration": 5,
        "start_time": "2023-07-04T09:27:24.816Z"
      },
      {
        "duration": 10,
        "start_time": "2023-07-04T09:27:24.823Z"
      },
      {
        "duration": 5,
        "start_time": "2023-07-04T09:27:24.834Z"
      },
      {
        "duration": 9,
        "start_time": "2023-07-04T09:27:24.841Z"
      },
      {
        "duration": 817,
        "start_time": "2023-07-04T09:27:24.851Z"
      },
      {
        "duration": 737,
        "start_time": "2023-07-04T09:27:25.669Z"
      },
      {
        "duration": 761,
        "start_time": "2023-07-04T09:27:26.408Z"
      },
      {
        "duration": 320,
        "start_time": "2023-07-04T09:27:27.171Z"
      },
      {
        "duration": 4,
        "start_time": "2023-07-04T09:27:27.495Z"
      },
      {
        "duration": 15,
        "start_time": "2023-07-04T09:27:27.501Z"
      },
      {
        "duration": 1147,
        "start_time": "2023-07-04T09:27:27.518Z"
      },
      {
        "duration": 6,
        "start_time": "2023-07-04T09:27:28.667Z"
      },
      {
        "duration": 63,
        "start_time": "2023-07-04T09:27:28.675Z"
      },
      {
        "duration": 47,
        "start_time": "2023-07-04T09:27:28.739Z"
      },
      {
        "duration": 44,
        "start_time": "2023-07-04T09:27:28.787Z"
      },
      {
        "duration": 42,
        "start_time": "2023-07-04T09:27:28.833Z"
      },
      {
        "duration": 57,
        "start_time": "2023-07-04T09:27:28.877Z"
      },
      {
        "duration": 30,
        "start_time": "2023-07-04T09:27:28.935Z"
      },
      {
        "duration": 68,
        "start_time": "2023-07-04T09:27:28.967Z"
      },
      {
        "duration": 55,
        "start_time": "2023-07-04T09:27:29.037Z"
      },
      {
        "duration": 14666,
        "start_time": "2023-07-04T09:27:41.308Z"
      },
      {
        "duration": 4279,
        "start_time": "2023-07-04T09:27:55.977Z"
      },
      {
        "duration": 4,
        "start_time": "2023-07-04T09:28:00.258Z"
      },
      {
        "duration": 112,
        "start_time": "2023-07-04T09:28:59.910Z"
      },
      {
        "duration": 8,
        "start_time": "2023-07-04T09:29:00.368Z"
      },
      {
        "duration": 7,
        "start_time": "2023-07-04T09:29:08.726Z"
      },
      {
        "duration": 7,
        "start_time": "2023-07-04T09:29:09.510Z"
      },
      {
        "duration": 6,
        "start_time": "2023-07-04T09:29:10.220Z"
      },
      {
        "duration": 7,
        "start_time": "2023-07-04T09:29:11.019Z"
      },
      {
        "duration": 4,
        "start_time": "2023-07-04T09:29:11.638Z"
      }
    ],
    "kernelspec": {
      "display_name": "Python 3 (ipykernel)",
      "language": "python",
      "name": "python3"
    },
    "language_info": {
      "codemirror_mode": {
        "name": "ipython",
        "version": 3
      },
      "file_extension": ".py",
      "mimetype": "text/x-python",
      "name": "python",
      "nbconvert_exporter": "python",
      "pygments_lexer": "ipython3",
      "version": "3.9.5"
    },
    "toc": {
      "base_numbering": 1,
      "nav_menu": {},
      "number_sections": true,
      "sideBar": true,
      "skip_h1_title": true,
      "title_cell": "Содержание",
      "title_sidebar": "Contents",
      "toc_cell": true,
      "toc_position": {
        "height": "calc(100% - 180px)",
        "left": "10px",
        "top": "150px",
        "width": "236.969px"
      },
      "toc_section_display": true,
      "toc_window_display": true
    },
    "colab": {
      "provenance": []
    }
  },
  "nbformat": 4,
  "nbformat_minor": 0
}
