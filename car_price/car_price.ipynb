{
  "cells": [
    {
      "cell_type": "markdown",
      "metadata": {
        "id": "VWVFGU-ZhTPP"
      },
      "source": [
        "# Определение стоимости автомобилей"
      ]
    },
    {
      "cell_type": "markdown",
      "metadata": {
        "id": "ON3_7WNahTPP"
      },
      "source": [
        "Сервис по продаже автомобилей с пробегом разрабатывает приложение для привлечения новых клиентов. В нём можно быстро узнать рыночную стоимость своего автомобиля. В нашем распоряжении исторические данные: технические характеристики, комплектации и цены автомобилей. Требуется построить модель для определения стоимости.\n",
        "\n",
        "**Заказчику важны:**\n",
        "\n",
        "- качество предсказания;\n",
        "- скорость предсказания;\n",
        "- время обучения.\n",
        "\n",
        "**План работы:**\n",
        "- загрузить данные\n",
        "- проанализировать данные\n",
        "- обучить разные модели с различными гиперпараметрами\n",
        "- проверить данные на тестовой выборке"
      ]
    },
    {
      "cell_type": "markdown",
      "metadata": {
        "id": "mOpgWWX0hTPQ"
      },
      "source": [
        "## Подготовка данных"
      ]
    },
    {
      "cell_type": "markdown",
      "metadata": {
        "id": "JqnmF7F9hTPQ"
      },
      "source": [
        "### Загрузка данных"
      ]
    },
    {
      "cell_type": "markdown",
      "metadata": {
        "id": "RcT0Qbn_hTPQ"
      },
      "source": [
        "Установим требуемые библиотеки"
      ]
    },
    {
      "cell_type": "code",
      "execution_count": null,
      "metadata": {
        "trusted": false,
        "id": "bfLypHVahTPR"
      },
      "outputs": [],
      "source": [
        "import pandas as pd\n",
        "import numpy as np\n",
        "import matplotlib.pyplot as plt\n",
        "\n",
        "from sklearn.ensemble import RandomForestRegressor\n",
        "from sklearn.model_selection import train_test_split, GridSearchCV, RandomizedSearchCV\n",
        "from sklearn.metrics import mean_squared_error\n",
        "from catboost import CatBoostRegressor\n",
        "from lightgbm import LGBMRegressor\n",
        "from category_encoders import MEstimateEncoder, OrdinalEncoder"
      ]
    },
    {
      "cell_type": "markdown",
      "metadata": {
        "id": "btoR41n0hTPR"
      },
      "source": [
        "Загрузим файл с данными"
      ]
    },
    {
      "cell_type": "code",
      "execution_count": null,
      "metadata": {
        "trusted": false,
        "id": "UweRgK1OhTPS"
      },
      "outputs": [],
      "source": [
        "df = pd.read_csv('/datasets/autos.csv')"
      ]
    },
    {
      "cell_type": "markdown",
      "metadata": {
        "id": "20W9hul7hTPS"
      },
      "source": [
        "Выведем датасет на экран, посмотрим общую информацию, проверим на пропуски и дубликаты"
      ]
    },
    {
      "cell_type": "code",
      "execution_count": null,
      "metadata": {
        "trusted": false,
        "id": "3nE2fV3ehTPS",
        "outputId": "4b01957d-f473-4433-e9ea-6295fafa9eef"
      },
      "outputs": [
        {
          "data": {
            "text/html": "<div>\n<style scoped>\n    .dataframe tbody tr th:only-of-type {\n        vertical-align: middle;\n    }\n\n    .dataframe tbody tr th {\n        vertical-align: top;\n    }\n\n    .dataframe thead th {\n        text-align: right;\n    }\n</style>\n<table border=\"1\" class=\"dataframe\">\n  <thead>\n    <tr style=\"text-align: right;\">\n      <th></th>\n      <th>DateCrawled</th>\n      <th>Price</th>\n      <th>VehicleType</th>\n      <th>RegistrationYear</th>\n      <th>Gearbox</th>\n      <th>Power</th>\n      <th>Model</th>\n      <th>Kilometer</th>\n      <th>RegistrationMonth</th>\n      <th>FuelType</th>\n      <th>Brand</th>\n      <th>Repaired</th>\n      <th>DateCreated</th>\n      <th>NumberOfPictures</th>\n      <th>PostalCode</th>\n      <th>LastSeen</th>\n    </tr>\n  </thead>\n  <tbody>\n    <tr>\n      <th>0</th>\n      <td>2016-03-24 11:52:17</td>\n      <td>480</td>\n      <td>NaN</td>\n      <td>1993</td>\n      <td>manual</td>\n      <td>0</td>\n      <td>golf</td>\n      <td>150000</td>\n      <td>0</td>\n      <td>petrol</td>\n      <td>volkswagen</td>\n      <td>NaN</td>\n      <td>2016-03-24 00:00:00</td>\n      <td>0</td>\n      <td>70435</td>\n      <td>2016-04-07 03:16:57</td>\n    </tr>\n    <tr>\n      <th>1</th>\n      <td>2016-03-24 10:58:45</td>\n      <td>18300</td>\n      <td>coupe</td>\n      <td>2011</td>\n      <td>manual</td>\n      <td>190</td>\n      <td>NaN</td>\n      <td>125000</td>\n      <td>5</td>\n      <td>gasoline</td>\n      <td>audi</td>\n      <td>yes</td>\n      <td>2016-03-24 00:00:00</td>\n      <td>0</td>\n      <td>66954</td>\n      <td>2016-04-07 01:46:50</td>\n    </tr>\n    <tr>\n      <th>2</th>\n      <td>2016-03-14 12:52:21</td>\n      <td>9800</td>\n      <td>suv</td>\n      <td>2004</td>\n      <td>auto</td>\n      <td>163</td>\n      <td>grand</td>\n      <td>125000</td>\n      <td>8</td>\n      <td>gasoline</td>\n      <td>jeep</td>\n      <td>NaN</td>\n      <td>2016-03-14 00:00:00</td>\n      <td>0</td>\n      <td>90480</td>\n      <td>2016-04-05 12:47:46</td>\n    </tr>\n    <tr>\n      <th>3</th>\n      <td>2016-03-17 16:54:04</td>\n      <td>1500</td>\n      <td>small</td>\n      <td>2001</td>\n      <td>manual</td>\n      <td>75</td>\n      <td>golf</td>\n      <td>150000</td>\n      <td>6</td>\n      <td>petrol</td>\n      <td>volkswagen</td>\n      <td>no</td>\n      <td>2016-03-17 00:00:00</td>\n      <td>0</td>\n      <td>91074</td>\n      <td>2016-03-17 17:40:17</td>\n    </tr>\n    <tr>\n      <th>4</th>\n      <td>2016-03-31 17:25:20</td>\n      <td>3600</td>\n      <td>small</td>\n      <td>2008</td>\n      <td>manual</td>\n      <td>69</td>\n      <td>fabia</td>\n      <td>90000</td>\n      <td>7</td>\n      <td>gasoline</td>\n      <td>skoda</td>\n      <td>no</td>\n      <td>2016-03-31 00:00:00</td>\n      <td>0</td>\n      <td>60437</td>\n      <td>2016-04-06 10:17:21</td>\n    </tr>\n  </tbody>\n</table>\n</div>",
            "text/plain": "           DateCrawled  Price VehicleType  RegistrationYear Gearbox  Power  \\\n0  2016-03-24 11:52:17    480         NaN              1993  manual      0   \n1  2016-03-24 10:58:45  18300       coupe              2011  manual    190   \n2  2016-03-14 12:52:21   9800         suv              2004    auto    163   \n3  2016-03-17 16:54:04   1500       small              2001  manual     75   \n4  2016-03-31 17:25:20   3600       small              2008  manual     69   \n\n   Model  Kilometer  RegistrationMonth  FuelType       Brand Repaired  \\\n0   golf     150000                  0    petrol  volkswagen      NaN   \n1    NaN     125000                  5  gasoline        audi      yes   \n2  grand     125000                  8  gasoline        jeep      NaN   \n3   golf     150000                  6    petrol  volkswagen       no   \n4  fabia      90000                  7  gasoline       skoda       no   \n\n           DateCreated  NumberOfPictures  PostalCode             LastSeen  \n0  2016-03-24 00:00:00                 0       70435  2016-04-07 03:16:57  \n1  2016-03-24 00:00:00                 0       66954  2016-04-07 01:46:50  \n2  2016-03-14 00:00:00                 0       90480  2016-04-05 12:47:46  \n3  2016-03-17 00:00:00                 0       91074  2016-03-17 17:40:17  \n4  2016-03-31 00:00:00                 0       60437  2016-04-06 10:17:21  "
          },
          "execution_count": 4,
          "metadata": {},
          "output_type": "execute_result"
        }
      ],
      "source": [
        "df.head()"
      ]
    },
    {
      "cell_type": "code",
      "execution_count": null,
      "metadata": {
        "trusted": false,
        "id": "XPoXMx4nhTPT",
        "outputId": "06f7c6ee-6d6e-4e18-e82c-0ea8d87ea653"
      },
      "outputs": [
        {
          "name": "stdout",
          "output_type": "stream",
          "text": "<class 'pandas.core.frame.DataFrame'>\nRangeIndex: 354369 entries, 0 to 354368\nData columns (total 16 columns):\n #   Column             Non-Null Count   Dtype \n---  ------             --------------   ----- \n 0   DateCrawled        354369 non-null  object\n 1   Price              354369 non-null  int64 \n 2   VehicleType        316879 non-null  object\n 3   RegistrationYear   354369 non-null  int64 \n 4   Gearbox            334536 non-null  object\n 5   Power              354369 non-null  int64 \n 6   Model              334664 non-null  object\n 7   Kilometer          354369 non-null  int64 \n 8   RegistrationMonth  354369 non-null  int64 \n 9   FuelType           321474 non-null  object\n 10  Brand              354369 non-null  object\n 11  Repaired           283215 non-null  object\n 12  DateCreated        354369 non-null  object\n 13  NumberOfPictures   354369 non-null  int64 \n 14  PostalCode         354369 non-null  int64 \n 15  LastSeen           354369 non-null  object\ndtypes: int64(7), object(9)\nmemory usage: 43.3+ MB\n"
        }
      ],
      "source": [
        "df.info()"
      ]
    },
    {
      "cell_type": "code",
      "execution_count": null,
      "metadata": {
        "trusted": false,
        "id": "Zo9ARvQAhTPT",
        "outputId": "c0f121c0-96e3-4b72-e74d-d90ae4ea840f"
      },
      "outputs": [
        {
          "data": {
            "text/plain": "DateCrawled              0\nPrice                    0\nVehicleType          37490\nRegistrationYear         0\nGearbox              19833\nPower                    0\nModel                19705\nKilometer                0\nRegistrationMonth        0\nFuelType             32895\nBrand                    0\nRepaired             71154\nDateCreated              0\nNumberOfPictures         0\nPostalCode               0\nLastSeen                 0\ndtype: int64"
          },
          "execution_count": 6,
          "metadata": {},
          "output_type": "execute_result"
        }
      ],
      "source": [
        "df.isna().sum()"
      ]
    },
    {
      "cell_type": "code",
      "execution_count": null,
      "metadata": {
        "trusted": false,
        "id": "QyMn6ssyhTPT",
        "outputId": "b62efb3a-dd11-47f0-f276-e0700998addf"
      },
      "outputs": [
        {
          "data": {
            "text/plain": "4"
          },
          "execution_count": 7,
          "metadata": {},
          "output_type": "execute_result"
        }
      ],
      "source": [
        "df.duplicated().sum()"
      ]
    },
    {
      "cell_type": "markdown",
      "metadata": {
        "id": "sk4KEHgrhTPT"
      },
      "source": [
        "Построим гистограммы для числовых столбцов"
      ]
    },
    {
      "cell_type": "code",
      "execution_count": null,
      "metadata": {
        "trusted": false,
        "id": "__9euy_bhTPU",
        "outputId": "d0db60b2-2303-4d4d-c131-7d8cbc4fb4e0"
      },
      "outputs": [
        {
          "data": {
            "image/png": "[encoded data removed]",
            "text/plain": "<Figure size 1224x936 with 9 Axes>"
          },
          "metadata": {
            "needs_background": "light"
          },
          "output_type": "display_data"
        }
      ],
      "source": [
        "df.hist(figsize = (17,13), bins=50);"
      ]
    },
    {
      "cell_type": "markdown",
      "metadata": {
        "id": "8iS8IsK9hTPU"
      },
      "source": [
        "### Предобработка данных"
      ]
    },
    {
      "cell_type": "markdown",
      "metadata": {
        "id": "Fa4-e8lZhTPU"
      },
      "source": [
        "Заменим названия столбцов, приведем к змеиному стилю."
      ]
    },
    {
      "cell_type": "code",
      "execution_count": null,
      "metadata": {
        "trusted": false,
        "id": "GcDOzcElhTPU"
      },
      "outputs": [],
      "source": [
        "df.columns = ['date_crawled', 'price', 'vehicle_type', 'registration_year', 'gearbox',\n",
        "       'power', 'model', 'kilometer', 'registration_month', 'fuel_type', 'brand',\n",
        "       'repaired', 'date_created', 'number_of_pictures', 'postal_code',\n",
        "       'last_seen']"
      ]
    },
    {
      "cell_type": "code",
      "execution_count": null,
      "metadata": {
        "scrolled": true,
        "trusted": false,
        "id": "SnCDcXiDhTPU",
        "outputId": "25397d59-31ac-470e-987b-0c79981185a7"
      },
      "outputs": [
        {
          "data": {
            "text/plain": "Index(['date_crawled', 'price', 'vehicle_type', 'registration_year', 'gearbox',\n       'power', 'model', 'kilometer', 'registration_month', 'fuel_type',\n       'brand', 'repaired', 'date_created', 'number_of_pictures',\n       'postal_code', 'last_seen'],\n      dtype='object')"
          },
          "execution_count": 10,
          "metadata": {},
          "output_type": "execute_result"
        }
      ],
      "source": [
        "df.columns"
      ]
    },
    {
      "cell_type": "markdown",
      "metadata": {
        "id": "D1XVXMf3hTPU"
      },
      "source": [
        "Удалим полные дубликаты из датафрейма"
      ]
    },
    {
      "cell_type": "code",
      "execution_count": null,
      "metadata": {
        "trusted": false,
        "id": "qiLgBoJZhTPV"
      },
      "outputs": [],
      "source": [
        "df.drop_duplicates(inplace=True)"
      ]
    },
    {
      "cell_type": "code",
      "execution_count": null,
      "metadata": {
        "trusted": false,
        "id": "QoMvWI0zhTPV",
        "outputId": "26c99231-e6d2-4a7b-c502-7612d1ccec86"
      },
      "outputs": [
        {
          "data": {
            "text/plain": "0"
          },
          "execution_count": 12,
          "metadata": {},
          "output_type": "execute_result"
        }
      ],
      "source": [
        "df.duplicated().sum()"
      ]
    },
    {
      "cell_type": "markdown",
      "metadata": {
        "id": "xyDlaVLchTPV"
      },
      "source": [
        "Обработаем пропуски в столбцах:\n",
        "\n",
        "- gearbox\n",
        "- fuel_type\n",
        "- repaired\n",
        "- model\n",
        "- vehicle_type"
      ]
    },
    {
      "cell_type": "markdown",
      "metadata": {
        "id": "DSs2xj59hTPV"
      },
      "source": [
        "Проверим какие уникальные значения есть в столбцах"
      ]
    },
    {
      "cell_type": "code",
      "execution_count": null,
      "metadata": {
        "trusted": false,
        "id": "b1_z8tJNhTPV",
        "outputId": "cd8cc7d7-b28c-453e-cc48-8bab014e2fc3"
      },
      "outputs": [
        {
          "data": {
            "text/plain": "array(['manual', 'auto', nan], dtype=object)"
          },
          "execution_count": 13,
          "metadata": {},
          "output_type": "execute_result"
        }
      ],
      "source": [
        "df['gearbox'].unique()"
      ]
    },
    {
      "cell_type": "code",
      "execution_count": null,
      "metadata": {
        "scrolled": true,
        "trusted": false,
        "id": "xDBNu6BYhTPV",
        "outputId": "5a672907-0e02-4fa4-8d3f-f09b500d2d22"
      },
      "outputs": [
        {
          "data": {
            "text/plain": "array(['petrol', 'gasoline', nan, 'lpg', 'other', 'hybrid', 'cng',\n       'electric'], dtype=object)"
          },
          "execution_count": 14,
          "metadata": {},
          "output_type": "execute_result"
        }
      ],
      "source": [
        "df['fuel_type'].unique()"
      ]
    },
    {
      "cell_type": "code",
      "execution_count": null,
      "metadata": {
        "scrolled": true,
        "trusted": false,
        "id": "royJbFhPhTPW",
        "outputId": "38c47a99-680a-4a4b-9834-ff1312c331ed"
      },
      "outputs": [
        {
          "data": {
            "text/plain": "array(['golf', nan, 'grand', 'fabia', '3er', '2_reihe', 'other', 'c_max',\n       '3_reihe', 'passat', 'navara', 'ka', 'polo', 'twingo', 'a_klasse',\n       'scirocco', '5er', 'meriva', 'arosa', 'c4', 'civic', 'transporter',\n       'punto', 'e_klasse', 'clio', 'kadett', 'kangoo', 'corsa', 'one',\n       'fortwo', '1er', 'b_klasse', 'signum', 'astra', 'a8', 'jetta',\n       'fiesta', 'c_klasse', 'micra', 'vito', 'sprinter', '156', 'escort',\n       'forester', 'xc_reihe', 'scenic', 'a4', 'a1', 'insignia', 'combo',\n       'focus', 'tt', 'a6', 'jazz', 'omega', 'slk', '7er', '80', '147',\n       '100', 'z_reihe', 'sportage', 'sorento', 'v40', 'ibiza', 'mustang',\n       'eos', 'touran', 'getz', 'a3', 'almera', 'megane', 'lupo', 'r19',\n       'zafira', 'caddy', 'mondeo', 'cordoba', 'colt', 'impreza',\n       'vectra', 'berlingo', 'tiguan', 'i_reihe', 'espace', 'sharan',\n       '6_reihe', 'panda', 'up', 'seicento', 'ceed', '5_reihe', 'yeti',\n       'octavia', 'mii', 'rx_reihe', '6er', 'modus', 'fox', 'matiz',\n       'beetle', 'c1', 'rio', 'touareg', 'logan', 'spider', 'cuore',\n       's_max', 'a2', 'galaxy', 'c3', 'viano', 's_klasse', '1_reihe',\n       'avensis', 'roomster', 'sl', 'kaefer', 'santa', 'cooper', 'leon',\n       '4_reihe', 'a5', '500', 'laguna', 'ptcruiser', 'clk', 'primera',\n       'x_reihe', 'exeo', '159', 'transit', 'juke', 'qashqai', 'carisma',\n       'accord', 'corolla', 'lanos', 'phaeton', 'verso', 'swift', 'rav',\n       'picanto', 'boxster', 'kalos', 'superb', 'stilo', 'alhambra',\n       'mx_reihe', 'roadster', 'ypsilon', 'cayenne', 'galant', 'justy',\n       '90', 'sirion', 'crossfire', 'agila', 'duster', 'cr_reihe', 'v50',\n       'c_reihe', 'v_klasse', 'm_klasse', 'yaris', 'c5', 'aygo', 'cc',\n       'carnival', 'fusion', '911', 'bora', 'forfour', 'm_reihe', 'cl',\n       'tigra', '300c', 'spark', 'v70', 'kuga', 'x_type', 'ducato',\n       's_type', 'x_trail', 'toledo', 'altea', 'voyager', 'calibra',\n       'bravo', 'antara', 'tucson', 'citigo', 'jimny', 'wrangler',\n       'lybra', 'q7', 'lancer', 'captiva', 'c2', 'discovery',\n       'freelander', 'sandero', 'note', '900', 'cherokee', 'clubman',\n       'samara', 'defender', '601', 'cx_reihe', 'legacy', 'pajero',\n       'auris', 'niva', 's60', 'nubira', 'vivaro', 'g_klasse', 'lodgy',\n       '850', 'range_rover', 'q3', 'serie_2', 'glk', 'charade', 'croma',\n       'outlander', 'doblo', 'musa', 'move', '9000', 'v60', '145', 'aveo',\n       '200', 'b_max', 'range_rover_sport', 'terios', 'rangerover', 'q5',\n       'range_rover_evoque', 'materia', 'delta', 'gl', 'kalina', 'amarok',\n       'elefantino', 'i3', 'kappa', 'serie_3', 'serie_1'], dtype=object)"
          },
          "execution_count": 15,
          "metadata": {},
          "output_type": "execute_result"
        }
      ],
      "source": [
        "df['model'].unique()"
      ]
    },
    {
      "cell_type": "code",
      "execution_count": null,
      "metadata": {
        "trusted": false,
        "id": "zpf3-1mThTPW",
        "outputId": "4c993830-92e3-4e3d-9abf-56862ed9cef3"
      },
      "outputs": [
        {
          "data": {
            "text/plain": "array([nan, 'coupe', 'suv', 'small', 'sedan', 'convertible', 'bus',\n       'wagon', 'other'], dtype=object)"
          },
          "execution_count": 16,
          "metadata": {},
          "output_type": "execute_result"
        }
      ],
      "source": [
        "df['vehicle_type'].unique()"
      ]
    },
    {
      "cell_type": "code",
      "execution_count": null,
      "metadata": {
        "trusted": false,
        "id": "6wmxhtoihTPW",
        "outputId": "8e276e6c-899e-4ee8-ee54-d0e446f2436a"
      },
      "outputs": [
        {
          "data": {
            "text/plain": "array([nan, 'yes', 'no'], dtype=object)"
          },
          "execution_count": 17,
          "metadata": {},
          "output_type": "execute_result"
        }
      ],
      "source": [
        "df['repaired'].unique()"
      ]
    },
    {
      "cell_type": "markdown",
      "metadata": {
        "id": "-6X2xY67hTPW"
      },
      "source": [
        "В столбце repaired заменим пропуски на значение no, исходя из предположения что отсутствие информации о ремонте, означает что он не производился.\n",
        "\n",
        "В остальных столбцах заменим пропуски значением other."
      ]
    },
    {
      "cell_type": "code",
      "execution_count": null,
      "metadata": {
        "trusted": false,
        "id": "uMfP8x8bhTPX"
      },
      "outputs": [],
      "source": [
        "df['repaired'].fillna('no', inplace=True)\n",
        "df[['model', 'vehicle_type', 'gearbox', 'fuel_type']]= df[['model', 'vehicle_type', 'gearbox', 'fuel_type']].fillna('other')"
      ]
    },
    {
      "cell_type": "code",
      "execution_count": null,
      "metadata": {
        "scrolled": false,
        "trusted": false,
        "id": "ZdfZ0LP-hTPX",
        "outputId": "d1a7e15f-46af-410a-b8b0-68fa6ea67a05"
      },
      "outputs": [
        {
          "data": {
            "text/plain": "date_crawled          0\nprice                 0\nvehicle_type          0\nregistration_year     0\ngearbox               0\npower                 0\nmodel                 0\nkilometer             0\nregistration_month    0\nfuel_type             0\nbrand                 0\nrepaired              0\ndate_created          0\nnumber_of_pictures    0\npostal_code           0\nlast_seen             0\ndtype: int64"
          },
          "execution_count": 19,
          "metadata": {},
          "output_type": "execute_result"
        }
      ],
      "source": [
        "df.isna().sum()"
      ]
    },
    {
      "cell_type": "markdown",
      "metadata": {
        "id": "qQ94NzjHhTPX"
      },
      "source": [
        "### Исследовательский анализ данных"
      ]
    },
    {
      "cell_type": "markdown",
      "metadata": {
        "id": "BStl7ua2hTPX"
      },
      "source": [
        "Проверим столбцы с числовыми данными на наличие аномальных значений"
      ]
    },
    {
      "cell_type": "code",
      "execution_count": null,
      "metadata": {
        "trusted": false,
        "id": "Vg2MbIlChTPY",
        "outputId": "90438b0a-3bf9-45b3-fa6d-0cc2532b5adc"
      },
      "outputs": [
        {
          "data": {
            "text/html": "<div>\n<style scoped>\n    .dataframe tbody tr th:only-of-type {\n        vertical-align: middle;\n    }\n\n    .dataframe tbody tr th {\n        vertical-align: top;\n    }\n\n    .dataframe thead th {\n        text-align: right;\n    }\n</style>\n<table border=\"1\" class=\"dataframe\">\n  <thead>\n    <tr style=\"text-align: right;\">\n      <th></th>\n      <th>price</th>\n      <th>registration_year</th>\n      <th>power</th>\n      <th>kilometer</th>\n      <th>registration_month</th>\n      <th>number_of_pictures</th>\n      <th>postal_code</th>\n    </tr>\n  </thead>\n  <tbody>\n    <tr>\n      <th>count</th>\n      <td>354365.000000</td>\n      <td>354365.000000</td>\n      <td>354365.000000</td>\n      <td>354365.000000</td>\n      <td>354365.000000</td>\n      <td>354365.0</td>\n      <td>354365.000000</td>\n    </tr>\n    <tr>\n      <th>mean</th>\n      <td>4416.679830</td>\n      <td>2004.234481</td>\n      <td>110.093816</td>\n      <td>128211.363989</td>\n      <td>5.714650</td>\n      <td>0.0</td>\n      <td>50508.503800</td>\n    </tr>\n    <tr>\n      <th>std</th>\n      <td>4514.176349</td>\n      <td>90.228466</td>\n      <td>189.851330</td>\n      <td>37905.083858</td>\n      <td>3.726432</td>\n      <td>0.0</td>\n      <td>25783.100078</td>\n    </tr>\n    <tr>\n      <th>min</th>\n      <td>0.000000</td>\n      <td>1000.000000</td>\n      <td>0.000000</td>\n      <td>5000.000000</td>\n      <td>0.000000</td>\n      <td>0.0</td>\n      <td>1067.000000</td>\n    </tr>\n    <tr>\n      <th>25%</th>\n      <td>1050.000000</td>\n      <td>1999.000000</td>\n      <td>69.000000</td>\n      <td>125000.000000</td>\n      <td>3.000000</td>\n      <td>0.0</td>\n      <td>30165.000000</td>\n    </tr>\n    <tr>\n      <th>50%</th>\n      <td>2700.000000</td>\n      <td>2003.000000</td>\n      <td>105.000000</td>\n      <td>150000.000000</td>\n      <td>6.000000</td>\n      <td>0.0</td>\n      <td>49413.000000</td>\n    </tr>\n    <tr>\n      <th>75%</th>\n      <td>6400.000000</td>\n      <td>2008.000000</td>\n      <td>143.000000</td>\n      <td>150000.000000</td>\n      <td>9.000000</td>\n      <td>0.0</td>\n      <td>71083.000000</td>\n    </tr>\n    <tr>\n      <th>max</th>\n      <td>20000.000000</td>\n      <td>9999.000000</td>\n      <td>20000.000000</td>\n      <td>150000.000000</td>\n      <td>12.000000</td>\n      <td>0.0</td>\n      <td>99998.000000</td>\n    </tr>\n  </tbody>\n</table>\n</div>",
            "text/plain": "               price  registration_year          power      kilometer  \\\ncount  354365.000000      354365.000000  354365.000000  354365.000000   \nmean     4416.679830        2004.234481     110.093816  128211.363989   \nstd      4514.176349          90.228466     189.851330   37905.083858   \nmin         0.000000        1000.000000       0.000000    5000.000000   \n25%      1050.000000        1999.000000      69.000000  125000.000000   \n50%      2700.000000        2003.000000     105.000000  150000.000000   \n75%      6400.000000        2008.000000     143.000000  150000.000000   \nmax     20000.000000        9999.000000   20000.000000  150000.000000   \n\n       registration_month  number_of_pictures    postal_code  \ncount       354365.000000            354365.0  354365.000000  \nmean             5.714650                 0.0   50508.503800  \nstd              3.726432                 0.0   25783.100078  \nmin              0.000000                 0.0    1067.000000  \n25%              3.000000                 0.0   30165.000000  \n50%              6.000000                 0.0   49413.000000  \n75%              9.000000                 0.0   71083.000000  \nmax             12.000000                 0.0   99998.000000  "
          },
          "execution_count": 20,
          "metadata": {},
          "output_type": "execute_result"
        }
      ],
      "source": [
        "df.describe()"
      ]
    },
    {
      "cell_type": "markdown",
      "metadata": {
        "id": "BfntXqzahTPY"
      },
      "source": [
        "Выведем гистограммы для столбца с ценой"
      ]
    },
    {
      "cell_type": "code",
      "execution_count": null,
      "metadata": {
        "trusted": false,
        "id": "6e9qlZhYhTPY",
        "outputId": "42abe181-bf54-4a42-e393-b020996d46ff"
      },
      "outputs": [
        {
          "data": {
            "image/png": "[encoded data removed]",
            "text/plain": "<Figure size 1080x504 with 1 Axes>"
          },
          "metadata": {
            "needs_background": "light"
          },
          "output_type": "display_data"
        }
      ],
      "source": [
        "df['price'].hist(figsize = (15,7), bins=100);"
      ]
    },
    {
      "cell_type": "markdown",
      "metadata": {
        "id": "NTcPfac1hTPY"
      },
      "source": [
        "Встречается большое количество значений около нуля. Удалим строки с ценой менее 50 евро."
      ]
    },
    {
      "cell_type": "code",
      "execution_count": null,
      "metadata": {
        "trusted": false,
        "id": "LxPV2etZhTPY"
      },
      "outputs": [],
      "source": [
        "df = df.query('price>=50')"
      ]
    },
    {
      "cell_type": "markdown",
      "metadata": {
        "id": "_ILB6s6nhTPZ"
      },
      "source": [
        "Выведем гистограмму для столбца с годом регистрации автомобиля.\n",
        "\n",
        "Для более детального анализа, выведем гистограммы с двумя периодами."
      ]
    },
    {
      "cell_type": "code",
      "execution_count": null,
      "metadata": {
        "trusted": false,
        "id": "xLRSC4yahTPZ",
        "outputId": "701fce84-287a-45cf-a2af-751abd8349e3"
      },
      "outputs": [
        {
          "data": {
            "image/png": "[encoded data removed]",
            "text/plain": "<Figure size 864x360 with 1 Axes>"
          },
          "metadata": {
            "needs_background": "light"
          },
          "output_type": "display_data"
        }
      ],
      "source": [
        "df['registration_year'].hist(figsize = (12,5), bins=100, range =(1900,2000));"
      ]
    },
    {
      "cell_type": "code",
      "execution_count": null,
      "metadata": {
        "scrolled": true,
        "trusted": false,
        "id": "vCUJxnzqhTPZ",
        "outputId": "9af2b560-afca-4e6d-b963-aa1b99c3aaf6"
      },
      "outputs": [
        {
          "data": {
            "image/png": "[encoded data removed]",
            "text/plain": "<Figure size 864x360 with 1 Axes>"
          },
          "metadata": {
            "needs_background": "light"
          },
          "output_type": "display_data"
        }
      ],
      "source": [
        "df['registration_year'].hist(figsize = (12,5), bins=100, range =(2000,2100));"
      ]
    },
    {
      "cell_type": "markdown",
      "metadata": {
        "id": "YoLm1cwyhTPZ"
      },
      "source": [
        "В столбце встречаются как значения с очень давним сроком регистрации автомобиля, так и значения превышающие 2016 год, в котором формировались данные.\n",
        "\n",
        "Удалим данные превышающие 2017 год и ранее 50 лет."
      ]
    },
    {
      "cell_type": "code",
      "execution_count": null,
      "metadata": {
        "trusted": false,
        "id": "neTx5ldshTPZ"
      },
      "outputs": [],
      "source": [
        "df = df.query('registration_year>1966')"
      ]
    },
    {
      "cell_type": "code",
      "execution_count": null,
      "metadata": {
        "trusted": false,
        "id": "x5aujwK-hTPZ"
      },
      "outputs": [],
      "source": [
        "df = df.query('registration_year<2017')"
      ]
    },
    {
      "cell_type": "code",
      "execution_count": null,
      "metadata": {
        "scrolled": true,
        "trusted": false,
        "id": "4fJmRnfRhTPa",
        "outputId": "c4b189b6-6aec-4edc-b334-9fba175d2f83"
      },
      "outputs": [
        {
          "data": {
            "image/png": "[encoded data removed]",
            "text/plain": "<Figure size 864x360 with 1 Axes>"
          },
          "metadata": {
            "needs_background": "light"
          },
          "output_type": "display_data"
        }
      ],
      "source": [
        "df['registration_year'].hist(figsize = (12,5), bins=50);"
      ]
    },
    {
      "cell_type": "markdown",
      "metadata": {
        "id": "npS9vV20hTPa"
      },
      "source": [
        "Построим гистограмму для столбца с мощьностью автомобилей"
      ]
    },
    {
      "cell_type": "code",
      "execution_count": null,
      "metadata": {
        "scrolled": true,
        "trusted": false,
        "id": "rlpl0UNyhTPa",
        "outputId": "41da29de-1c9a-467c-aa2a-ea49fc30ee79"
      },
      "outputs": [
        {
          "data": {
            "image/png": "[encoded data removed]",
            "text/plain": "<Figure size 864x360 with 1 Axes>"
          },
          "metadata": {
            "needs_background": "light"
          },
          "output_type": "display_data"
        }
      ],
      "source": [
        "df['power'].hist(figsize = (12,5), bins=100);"
      ]
    },
    {
      "cell_type": "code",
      "execution_count": null,
      "metadata": {
        "scrolled": true,
        "trusted": false,
        "id": "9kdv2DRIhTPa",
        "outputId": "b66e3cf9-ea2b-434b-b828-4eefd8fb2967"
      },
      "outputs": [
        {
          "data": {
            "image/png": "[encoded data removed]",
            "text/plain": "<Figure size 864x360 with 1 Axes>"
          },
          "metadata": {
            "needs_background": "light"
          },
          "output_type": "display_data"
        }
      ],
      "source": [
        "df['power'].hist(figsize = (12,5), bins=100, range =(0,50));"
      ]
    },
    {
      "cell_type": "markdown",
      "metadata": {
        "id": "G4XS9BaxhTPa"
      },
      "source": [
        "Из гистограмм видно, что есть нулевые значения, и значения превышающие 2000 л.с.(максимальная мощьность на данный момент).\n",
        "\n",
        "Нулевые значения заменим на медианное значение мощности для модели автомобиля, а строки с очень большими значениями удалим из датасета."
      ]
    },
    {
      "cell_type": "code",
      "execution_count": null,
      "metadata": {
        "trusted": false,
        "id": "gisYuFQrhTPb"
      },
      "outputs": [],
      "source": [
        "# с помощью цикла присвоим значениям в колонке power медианное значение\n",
        "# исходя из значений столбца model\n",
        "for a in df['model'].unique():\n",
        "     df.loc[(df['model'] == a) & (df['power'] == 0), 'power'] = \\\n",
        "     df.loc[(df['model'] == a), 'power'].median()"
      ]
    },
    {
      "cell_type": "markdown",
      "metadata": {
        "id": "FLr1ImIPhTPb"
      },
      "source": [
        "<div class=\"alert alert-warning\">\n",
        "<b>Комментарий 👉</b>\n",
        "\n",
        "Использование циклов в Пандасе жутко неоптимально. Причина в том, что датфреймы, как правило, имеют очень \"большие размеры\" (очень много строк и очень много столбцов). Итерация по ним (строкам/столбцам ... и далее выполнение для каждой строки/столбца какой-либо операции) соответственно занимает много времени (%%time позволяет узнать время выполнения конкретной ячейки - посмотри в Интернете как использовать эту \"магическую\" команду).\n",
        "    \n",
        "Какой выход из ситуации, если он есть? Да, он есть и таков: необходимо использовать векторные операции. То есть перестраивать логику работы с использования циклов на использование операций, которые применяются **сразу** ко всем строкам датафрейма/ко всем его столбцам.\n",
        "    \n",
        "Конкретно в твоем случае, код твоего цикла можно заменить на такой (**это псевдокод**):\n",
        "    \n",
        "    df['power'] = df['power'].fillna(df.groupby(by=['model'])['power'].transform('median'))\n",
        "    \n",
        "p.s. этот (и прочие советы по группировке данных в Пандасе) находятся на этом ресурсе: https://dfedorov.spb.ru/pandas\n",
        "ОЧЕНЬ! рекомендую этот ресурс. Я сам его частый посетитель.\n",
        "</div>"
      ]
    },
    {
      "cell_type": "code",
      "execution_count": null,
      "metadata": {
        "trusted": false,
        "id": "T9jsEftkhTPb"
      },
      "outputs": [],
      "source": [
        "df = df.query('power<2000')"
      ]
    },
    {
      "cell_type": "markdown",
      "metadata": {
        "id": "IMuH0Jn4hTPb"
      },
      "source": [
        "<div class=\"alert alert-success\">\n",
        "<b>ОТЛИЧНО! 👍</b>\n",
        "\n",
        "Да, верно: низший и высший пороги мощности обсуждаемы, но для целей нашего учебного проекта достаточно того, что ты видишь проблему выбросов и необходимым способом её обрабатываешь.\n",
        "</div>"
      ]
    },
    {
      "cell_type": "code",
      "execution_count": null,
      "metadata": {
        "scrolled": true,
        "trusted": false,
        "id": "hOxD4L1LhTPb",
        "outputId": "d4679f96-398e-420c-bb6b-6916982391dc"
      },
      "outputs": [
        {
          "data": {
            "image/png": "[encoded data removed]",
            "text/plain": "<Figure size 864x360 with 1 Axes>"
          },
          "metadata": {
            "needs_background": "light"
          },
          "output_type": "display_data"
        }
      ],
      "source": [
        "df['power'].hist(figsize = (12,5), bins=100, );"
      ]
    },
    {
      "cell_type": "markdown",
      "metadata": {
        "id": "sNlXrPI1hTPb"
      },
      "source": [
        "Построим гистограммы для столбца с пробегом автомобилей"
      ]
    },
    {
      "cell_type": "code",
      "execution_count": null,
      "metadata": {
        "scrolled": true,
        "trusted": false,
        "id": "0wA3gO52hTPb",
        "outputId": "1141018f-b050-4654-f28b-7769c25c728c"
      },
      "outputs": [
        {
          "data": {
            "image/png": "[encoded data removed]",
            "text/plain": "<Figure size 432x288 with 1 Axes>"
          },
          "metadata": {
            "needs_background": "light"
          },
          "output_type": "display_data"
        }
      ],
      "source": [
        "df['kilometer'].hist();"
      ]
    },
    {
      "cell_type": "markdown",
      "metadata": {
        "id": "XyIP_4EshTPc"
      },
      "source": [
        "Аномальных значений не выявлено"
      ]
    },
    {
      "cell_type": "markdown",
      "metadata": {
        "id": "AcM7JjlNhTPc"
      },
      "source": [
        "### Подготовка данных для обучения моделей"
      ]
    },
    {
      "cell_type": "markdown",
      "metadata": {
        "id": "8HAeJOgehTPc"
      },
      "source": [
        "В датасете присутствуют признаки не оказывающие влияние на цену автомобиля: дата скачивания анкеты из базы, месяц регистрации автомобиля,  количество фотографий автомобиля(везде значение 0), почтовый индекс владельца анкеты,  дата последней активности пользователя.\n",
        "\n",
        "При этом из столбца с датой создания анкеты извлечем год и месяц, так как автомобильный рынок имеет фактор сезонности, что влияет на спрос и стоимость автомобилей."
      ]
    },
    {
      "cell_type": "markdown",
      "metadata": {
        "id": "caUV9taXhTPc"
      },
      "source": [
        "Удалим столбцы которые не оказывают влияние на цену автомобиля.\n",
        "- date_crawled\n",
        "- registration_month\n",
        "- number_of_pictures\n",
        "- postal_code\n",
        "- last_seen"
      ]
    },
    {
      "cell_type": "code",
      "execution_count": null,
      "metadata": {
        "trusted": false,
        "id": "vvYRYgUjhTPc"
      },
      "outputs": [],
      "source": [
        "df = df.drop(['date_crawled', 'registration_month', 'number_of_pictures', 'postal_code', 'last_seen'], axis=1)"
      ]
    },
    {
      "cell_type": "code",
      "execution_count": null,
      "metadata": {
        "trusted": false,
        "id": "sqbJo11JhTPd"
      },
      "outputs": [],
      "source": [
        "# преобразуем столбец date_created в формат datetime\n",
        "\n",
        "df['date_created'] = pd.to_datetime(df['date_created'], format='%Y-%m-%d %H:%M:%S')"
      ]
    },
    {
      "cell_type": "code",
      "execution_count": null,
      "metadata": {
        "trusted": false,
        "id": "FAKFLAQThTPd"
      },
      "outputs": [],
      "source": [
        "# создадим в датасете столбцы с годом и месяцем создания анкеты\n",
        "\n",
        "df['month_created'] = df['date_created'].dt.month\n",
        "df['year_created'] = df['date_created'].dt.year"
      ]
    },
    {
      "cell_type": "code",
      "execution_count": null,
      "metadata": {
        "trusted": false,
        "id": "F5RZT-FuhTPd"
      },
      "outputs": [],
      "source": [
        "# изменим тип данных в столбце registration_year\n",
        "\n",
        "df['registration_year'] = df['registration_year'].astype(int)"
      ]
    },
    {
      "cell_type": "code",
      "execution_count": null,
      "metadata": {
        "trusted": false,
        "id": "8X5ZGokMhTPd"
      },
      "outputs": [],
      "source": [
        "# удалим столбец date_created, год и месяц мы уже получили\n",
        "\n",
        "df = df.drop(['date_created'], axis=1)"
      ]
    },
    {
      "cell_type": "markdown",
      "metadata": {
        "id": "fSRpg8Z_hTPe"
      },
      "source": [
        "Выведем датафрейм на эркан, еще раз посмотрим общую информацию о данных"
      ]
    },
    {
      "cell_type": "code",
      "execution_count": null,
      "metadata": {
        "trusted": false,
        "id": "6314WsjGhTPe",
        "outputId": "0d1da5ba-1e4a-4b1b-f586-c0240d778842"
      },
      "outputs": [
        {
          "data": {
            "text/html": "<div>\n<style scoped>\n    .dataframe tbody tr th:only-of-type {\n        vertical-align: middle;\n    }\n\n    .dataframe tbody tr th {\n        vertical-align: top;\n    }\n\n    .dataframe thead th {\n        text-align: right;\n    }\n</style>\n<table border=\"1\" class=\"dataframe\">\n  <thead>\n    <tr style=\"text-align: right;\">\n      <th></th>\n      <th>price</th>\n      <th>vehicle_type</th>\n      <th>registration_year</th>\n      <th>gearbox</th>\n      <th>power</th>\n      <th>model</th>\n      <th>kilometer</th>\n      <th>fuel_type</th>\n      <th>brand</th>\n      <th>repaired</th>\n      <th>month_created</th>\n      <th>year_created</th>\n    </tr>\n  </thead>\n  <tbody>\n    <tr>\n      <th>0</th>\n      <td>480</td>\n      <td>other</td>\n      <td>1993</td>\n      <td>manual</td>\n      <td>100.0</td>\n      <td>golf</td>\n      <td>150000</td>\n      <td>petrol</td>\n      <td>volkswagen</td>\n      <td>no</td>\n      <td>3</td>\n      <td>2016</td>\n    </tr>\n    <tr>\n      <th>1</th>\n      <td>18300</td>\n      <td>coupe</td>\n      <td>2011</td>\n      <td>manual</td>\n      <td>190.0</td>\n      <td>other</td>\n      <td>125000</td>\n      <td>gasoline</td>\n      <td>audi</td>\n      <td>yes</td>\n      <td>3</td>\n      <td>2016</td>\n    </tr>\n    <tr>\n      <th>2</th>\n      <td>9800</td>\n      <td>suv</td>\n      <td>2004</td>\n      <td>auto</td>\n      <td>163.0</td>\n      <td>grand</td>\n      <td>125000</td>\n      <td>gasoline</td>\n      <td>jeep</td>\n      <td>no</td>\n      <td>3</td>\n      <td>2016</td>\n    </tr>\n    <tr>\n      <th>3</th>\n      <td>1500</td>\n      <td>small</td>\n      <td>2001</td>\n      <td>manual</td>\n      <td>75.0</td>\n      <td>golf</td>\n      <td>150000</td>\n      <td>petrol</td>\n      <td>volkswagen</td>\n      <td>no</td>\n      <td>3</td>\n      <td>2016</td>\n    </tr>\n    <tr>\n      <th>4</th>\n      <td>3600</td>\n      <td>small</td>\n      <td>2008</td>\n      <td>manual</td>\n      <td>69.0</td>\n      <td>fabia</td>\n      <td>90000</td>\n      <td>gasoline</td>\n      <td>skoda</td>\n      <td>no</td>\n      <td>3</td>\n      <td>2016</td>\n    </tr>\n  </tbody>\n</table>\n</div>",
            "text/plain": "   price vehicle_type  registration_year gearbox  power  model  kilometer  \\\n0    480        other               1993  manual  100.0   golf     150000   \n1  18300        coupe               2011  manual  190.0  other     125000   \n2   9800          suv               2004    auto  163.0  grand     125000   \n3   1500        small               2001  manual   75.0   golf     150000   \n4   3600        small               2008  manual   69.0  fabia      90000   \n\n  fuel_type       brand repaired  month_created  year_created  \n0    petrol  volkswagen       no              3          2016  \n1  gasoline        audi      yes              3          2016  \n2  gasoline        jeep       no              3          2016  \n3    petrol  volkswagen       no              3          2016  \n4  gasoline       skoda       no              3          2016  "
          },
          "execution_count": 39,
          "metadata": {},
          "output_type": "execute_result"
        }
      ],
      "source": [
        "df.head()"
      ]
    },
    {
      "cell_type": "code",
      "execution_count": null,
      "metadata": {
        "scrolled": true,
        "trusted": false,
        "id": "JrkiLOhBhTPe",
        "outputId": "54b861c7-89ff-4225-934d-fd8cd162b0c5"
      },
      "outputs": [
        {
          "name": "stdout",
          "output_type": "stream",
          "text": "<class 'pandas.core.frame.DataFrame'>\nInt64Index: 327321 entries, 0 to 354368\nData columns (total 12 columns):\n #   Column             Non-Null Count   Dtype  \n---  ------             --------------   -----  \n 0   price              327321 non-null  int64  \n 1   vehicle_type       327321 non-null  object \n 2   registration_year  327321 non-null  int64  \n 3   gearbox            327321 non-null  object \n 4   power              327321 non-null  float64\n 5   model              327321 non-null  object \n 6   kilometer          327321 non-null  int64  \n 7   fuel_type          327321 non-null  object \n 8   brand              327321 non-null  object \n 9   repaired           327321 non-null  object \n 10  month_created      327321 non-null  int64  \n 11  year_created       327321 non-null  int64  \ndtypes: float64(1), int64(5), object(6)\nmemory usage: 32.5+ MB\n"
        }
      ],
      "source": [
        "df.info()"
      ]
    },
    {
      "cell_type": "markdown",
      "metadata": {
        "id": "jAzsofV2hTPe"
      },
      "source": [
        "Все требуемые столбцы присутствуют, данные подготовлены"
      ]
    },
    {
      "cell_type": "markdown",
      "metadata": {
        "id": "2zBRBYDOhTPf"
      },
      "source": [
        "Разделим датасет на обучающую, валидационную и тестовую выборки."
      ]
    },
    {
      "cell_type": "code",
      "execution_count": null,
      "metadata": {
        "trusted": false,
        "id": "qxZ8c9p1hTPf"
      },
      "outputs": [],
      "source": [
        "train, validate, test = np.split(df.sample(frac=1, random_state=12345), [int(.6*len(df)), int(.8*len(df))])"
      ]
    },
    {
      "cell_type": "markdown",
      "metadata": {
        "id": "WqW-5gTChTPk"
      },
      "source": [
        "Выделим целевой признак и признаки для обучения моделей."
      ]
    },
    {
      "cell_type": "code",
      "execution_count": null,
      "metadata": {
        "trusted": false,
        "id": "U7HMHC4OhTPk"
      },
      "outputs": [],
      "source": [
        "features_train = train.drop(['price'], axis=1)\n",
        "target_train = train['price']\n",
        "\n",
        "features_valid = validate.drop(['price'], axis=1)\n",
        "target_valid = validate['price']\n",
        "\n",
        "features_test = test.drop(['price'], axis=1)\n",
        "target_test = test['price']"
      ]
    },
    {
      "cell_type": "markdown",
      "metadata": {
        "id": "Q0Z2-6imhTPk"
      },
      "source": [
        "Преобразуем столбцы с категориальными признаками с помощью метода  OrdinalEncoder для столбцов vehicle_type, gearbox, fuel_type, repaired, так как данный метод не создает дополнительных признаков, модель будет обучаться быстрее.\n",
        "\n",
        "Для столбцов model и brand применим MEstimateEncoder, так как данные в столбцах не имеют между собой порядковой связи и количество значений в них превышает 15."
      ]
    },
    {
      "cell_type": "code",
      "execution_count": null,
      "metadata": {
        "trusted": false,
        "id": "EoYggrtjhTPk"
      },
      "outputs": [],
      "source": [
        "# создадим копии признаков для каждой выборки\n",
        "\n",
        "train_encoder = features_train.copy()\n",
        "test_encoder = features_test.copy()\n",
        "valid_encoder = features_valid.copy()"
      ]
    },
    {
      "cell_type": "code",
      "execution_count": null,
      "metadata": {
        "trusted": false,
        "id": "rxTEoSlnhTPk"
      },
      "outputs": [],
      "source": [
        "# создадим список столдцов с категориальными признаками\n",
        "\n",
        "col_oe =  ['vehicle_type', 'gearbox','fuel_type', 'repaired']\n",
        "col_me = ['model', 'brand']\n",
        "cat_features =  ['vehicle_type', 'gearbox','fuel_type', 'repaired', 'model', 'brand']"
      ]
    },
    {
      "cell_type": "code",
      "execution_count": null,
      "metadata": {
        "trusted": false,
        "id": "Bys6mxOkhTPl"
      },
      "outputs": [],
      "source": [
        "pd.options.mode.chained_assignment = None\n",
        "# используем метод OrdinalEncoder\n",
        "encoder = OrdinalEncoder()\n",
        "encoder.fit(train_encoder[col_oe])\n",
        "# применим к обучающей, валидационной и тестовой выборке\n",
        "train_encoder[col_oe] = encoder.transform(train_encoder[col_oe])\n",
        "test_encoder[col_oe] = encoder.transform(test_encoder[col_oe])\n",
        "valid_encoder[col_oe] = encoder.transform(valid_encoder[col_oe])"
      ]
    },
    {
      "cell_type": "code",
      "execution_count": null,
      "metadata": {
        "trusted": false,
        "id": "qWUSTBsvhTPl"
      },
      "outputs": [],
      "source": [
        "pd.options.mode.chained_assignment = None\n",
        "# используем метод MEstimateEncoder\n",
        "\n",
        "mencoder = encoder = MEstimateEncoder(cols=col_me, handle_unknown='value', handle_missing = 'value')\n",
        "mencoder.fit(train_encoder, target_train)\n",
        "\n",
        "# применим к обучающей, валидационной и тестовой выборке\n",
        "train_encoder = mencoder.transform(train_encoder)\n",
        "test_encoder = mencoder.transform(test_encoder)\n",
        "valid_encoder = mencoder.transform(valid_encoder)"
      ]
    },
    {
      "cell_type": "code",
      "execution_count": null,
      "metadata": {
        "scrolled": true,
        "trusted": false,
        "id": "OMwljDTxhTPl",
        "outputId": "9a32a667-ebda-4d7d-f273-626f5b052ba6"
      },
      "outputs": [
        {
          "data": {
            "text/html": "<div>\n<style scoped>\n    .dataframe tbody tr th:only-of-type {\n        vertical-align: middle;\n    }\n\n    .dataframe tbody tr th {\n        vertical-align: top;\n    }\n\n    .dataframe thead th {\n        text-align: right;\n    }\n</style>\n<table border=\"1\" class=\"dataframe\">\n  <thead>\n    <tr style=\"text-align: right;\">\n      <th></th>\n      <th>vehicle_type</th>\n      <th>registration_year</th>\n      <th>gearbox</th>\n      <th>power</th>\n      <th>model</th>\n      <th>kilometer</th>\n      <th>fuel_type</th>\n      <th>brand</th>\n      <th>repaired</th>\n      <th>month_created</th>\n      <th>year_created</th>\n    </tr>\n  </thead>\n  <tbody>\n    <tr>\n      <th>236251</th>\n      <td>1</td>\n      <td>2000</td>\n      <td>1</td>\n      <td>170.0</td>\n      <td>5224.885779</td>\n      <td>150000</td>\n      <td>1</td>\n      <td>6408.146653</td>\n      <td>1</td>\n      <td>3</td>\n      <td>2016</td>\n    </tr>\n    <tr>\n      <th>124801</th>\n      <td>2</td>\n      <td>2006</td>\n      <td>1</td>\n      <td>68.0</td>\n      <td>3205.234884</td>\n      <td>150000</td>\n      <td>2</td>\n      <td>3207.100617</td>\n      <td>1</td>\n      <td>3</td>\n      <td>2016</td>\n    </tr>\n    <tr>\n      <th>145304</th>\n      <td>2</td>\n      <td>1996</td>\n      <td>2</td>\n      <td>75.0</td>\n      <td>2641.644658</td>\n      <td>150000</td>\n      <td>1</td>\n      <td>4596.997941</td>\n      <td>1</td>\n      <td>3</td>\n      <td>2016</td>\n    </tr>\n    <tr>\n      <th>34509</th>\n      <td>3</td>\n      <td>2002</td>\n      <td>2</td>\n      <td>133.0</td>\n      <td>4448.673379</td>\n      <td>150000</td>\n      <td>3</td>\n      <td>3606.238041</td>\n      <td>1</td>\n      <td>3</td>\n      <td>2016</td>\n    </tr>\n    <tr>\n      <th>284437</th>\n      <td>4</td>\n      <td>1994</td>\n      <td>1</td>\n      <td>68.0</td>\n      <td>7085.704973</td>\n      <td>150000</td>\n      <td>2</td>\n      <td>4596.997941</td>\n      <td>1</td>\n      <td>4</td>\n      <td>2016</td>\n    </tr>\n  </tbody>\n</table>\n</div>",
            "text/plain": "        vehicle_type  registration_year  gearbox  power        model  \\\n236251             1               2000        1  170.0  5224.885779   \n124801             2               2006        1   68.0  3205.234884   \n145304             2               1996        2   75.0  2641.644658   \n34509              3               2002        2  133.0  4448.673379   \n284437             4               1994        1   68.0  7085.704973   \n\n        kilometer  fuel_type        brand  repaired  month_created  \\\n236251     150000          1  6408.146653         1              3   \n124801     150000          2  3207.100617         1              3   \n145304     150000          1  4596.997941         1              3   \n34509      150000          3  3606.238041         1              3   \n284437     150000          2  4596.997941         1              4   \n\n        year_created  \n236251          2016  \n124801          2016  \n145304          2016  \n34509           2016  \n284437          2016  "
          },
          "execution_count": 47,
          "metadata": {},
          "output_type": "execute_result"
        }
      ],
      "source": [
        "train_encoder.head()"
      ]
    },
    {
      "cell_type": "markdown",
      "metadata": {
        "id": "iWkhFbZFhTPm"
      },
      "source": [
        "В проекте используем модели RandomForestRegressor, LGBMRegressor и CatBoostRegressor, для данных моделей проводить маштабирование числовых признаков не требуется."
      ]
    },
    {
      "cell_type": "markdown",
      "metadata": {
        "id": "Ma5iYccshTPm"
      },
      "source": [
        "### Вывод"
      ]
    },
    {
      "cell_type": "markdown",
      "metadata": {
        "id": "-VHglg0_hTPn"
      },
      "source": [
        "На этапе подготовки данных были выявлены пропуски, дубликаты и аномальные значения в данных.\n",
        "\n",
        "В столбцах gearbox, fuel_type, repaired, model, vehicle_type были обработаны пропущенные значения.\n",
        "\n",
        "Удалены полные дубликаты в данных.\n",
        "\n",
        "В столбцах price, registration_year, power были обработаны аномальные значения.\n",
        "\n",
        "Из датафрейма удалими признаки не оказывающие влияние на стоимость автомобилей.\n",
        "\n",
        "Разделили датафрейм на обучающую и тестовую выборки.\n",
        "\n",
        "Преобразовали категориальные признаки техникой  OrdinalEncoder и MEstimateEncoder."
      ]
    },
    {
      "cell_type": "markdown",
      "metadata": {
        "id": "CDNrlLRghTPn"
      },
      "source": [
        "## Обучение моделей"
      ]
    },
    {
      "cell_type": "markdown",
      "metadata": {
        "id": "c38FFhxhhTPn"
      },
      "source": [
        "Для обучения выберем три модели RandomForestRegressor, LGBMRegressor и CatBoostRegressor.\n",
        "\n",
        "Подберем для них лучшие гиперпараметры, сохраним лучшие модели, оценим качество с помощью метрики RMSE.\n",
        "\n",
        "Метрика RMSE - она представляет собой стандартное отклонение выборки различий между предсказанными и наблюдаемыми значениями и хорошо подходит для оценки точности прогноза."
      ]
    },
    {
      "cell_type": "markdown",
      "metadata": {
        "id": "5QBjT6I3hTPn"
      },
      "source": [
        "### Подбор гиперпараметров"
      ]
    },
    {
      "cell_type": "markdown",
      "metadata": {
        "id": "yAg8_TinhTPn"
      },
      "source": [
        "#### RandomForest"
      ]
    },
    {
      "cell_type": "code",
      "execution_count": null,
      "metadata": {
        "scrolled": true,
        "trusted": false,
        "id": "--scauF4hTPn",
        "outputId": "5a2d3866-48e5-4a64-f942-a1ac81342bb3"
      },
      "outputs": [
        {
          "name": "stdout",
          "output_type": "stream",
          "text": "Параметры лучшей модели: {'max_depth': 11, 'n_estimators': 90, 'random_state': 12345}\nRMSE: -1786.2395582045729\nCPU times: user 11min 53s, sys: 981 ms, total: 11min 54s\nWall time: 11min 55s\n"
        }
      ],
      "source": [
        "%%time\n",
        "\n",
        "model_random = RandomForestRegressor()\n",
        "parametrs = { 'n_estimators': range (50, 100, 10),\n",
        "              'max_depth': range (1,13, 2),\n",
        "              'random_state':[12345]}\n",
        "\n",
        "grid = GridSearchCV(model_random, parametrs, cv=3,scoring='neg_root_mean_squared_error')\n",
        "model_grid = grid.fit(train_encoder, target_train)\n",
        "\n",
        "print('Параметры лучшей модели:', model_grid.best_params_)\n",
        "print('RMSE:', model_grid.best_score_)"
      ]
    },
    {
      "cell_type": "markdown",
      "metadata": {
        "id": "-5pu8tVdhTPo"
      },
      "source": [
        "#### CatBoost"
      ]
    },
    {
      "cell_type": "code",
      "execution_count": null,
      "metadata": {
        "trusted": false,
        "id": "-j3fIyDthTPo",
        "outputId": "d98cb6b9-b027-493c-a910-af45a2491279"
      },
      "outputs": [
        {
          "name": "stdout",
          "output_type": "stream",
          "text": "Параметры лучшей модели: {'depth': 11, 'iterations': 90, 'random_state': 12345}\nRMSE: -1638.973714979041\nCPU times: user 6min 5s, sys: 3.19 s, total: 6min 8s\nWall time: 7min 19s\n"
        }
      ],
      "source": [
        "%%time\n",
        "\n",
        "model_catboost = CatBoostRegressor()\n",
        "parametrs = { 'iterations': range (50, 100, 10),\n",
        "              'depth': range (1,13, 2),\n",
        "              'random_state':[12345]}\n",
        "\n",
        "grid = GridSearchCV(model_catboost, parametrs, cv=3,scoring='neg_root_mean_squared_error')\n",
        "model_grid = grid.fit(features_train, target_train, cat_features = cat_features, verbose = False)\n",
        "\n",
        "print('Параметры лучшей модели:', model_grid.best_params_)\n",
        "print('RMSE:', model_grid.best_score_)"
      ]
    },
    {
      "cell_type": "markdown",
      "metadata": {
        "id": "xaYNYui1hTPo"
      },
      "source": [
        "#### LGBM"
      ]
    },
    {
      "cell_type": "code",
      "execution_count": null,
      "metadata": {
        "trusted": false,
        "id": "viezgIN1hTPo",
        "outputId": "1aa9c7c8-3a26-40b2-c22a-cc544de04aab"
      },
      "outputs": [
        {
          "name": "stdout",
          "output_type": "stream",
          "text": "Параметры лучшей модели: {'max_depth': 11, 'n_estimators': 90, 'random_state': 12345}\nRMSE: -1703.738601376646\nCPU times: user 20min 53s, sys: 11.4 s, total: 21min 4s\nWall time: 21min 15s\n"
        }
      ],
      "source": [
        "%%time\n",
        "\n",
        "model_lgbm = LGBMRegressor()\n",
        "parametrs = { 'n_estimators': range (50, 100, 10),\n",
        "              'max_depth': range (1,13, 2),\n",
        "              'random_state':[12345]}\n",
        "\n",
        "grid = GridSearchCV(model_lgbm, parametrs, cv=3,scoring='neg_root_mean_squared_error')\n",
        "model_grid = grid.fit(train_encoder, target_train)\n",
        "\n",
        "print('Параметры лучшей модели:', model_grid.best_params_)\n",
        "print('RMSE:', model_grid.best_score_)"
      ]
    },
    {
      "cell_type": "markdown",
      "metadata": {
        "id": "c6X2hePthTPo"
      },
      "source": [
        "### Обучение и предсказания моделей"
      ]
    },
    {
      "cell_type": "markdown",
      "metadata": {
        "id": "3QbdHkuQhTPp"
      },
      "source": [
        "Для каждой модели сохраним лучшие гиперпараметры, измерим время обучения и предсказания, сделаем расчет метрики RMSE на валидационной выборке."
      ]
    },
    {
      "cell_type": "markdown",
      "metadata": {
        "id": "7Lg_-XzbhTPp"
      },
      "source": [
        "#### RandomForest"
      ]
    },
    {
      "cell_type": "code",
      "execution_count": null,
      "metadata": {
        "trusted": false,
        "id": "vEhjDib1hTPp"
      },
      "outputs": [],
      "source": [
        "#сохрамим лучшую модель\n",
        "model_random =RandomForestRegressor(n_estimators=90, max_depth=11, random_state=12345)"
      ]
    },
    {
      "cell_type": "code",
      "execution_count": null,
      "metadata": {
        "trusted": false,
        "id": "tE5tICC1hTPp",
        "outputId": "fd221939-8ae1-4c03-8ea0-3704874bf0fd"
      },
      "outputs": [
        {
          "name": "stdout",
          "output_type": "stream",
          "text": "CPU times: user 28.2 s, sys: 56.6 ms, total: 28.3 s\nWall time: 28.5 s\n"
        },
        {
          "data": {
            "text/plain": "RandomForestRegressor(max_depth=11, n_estimators=90, random_state=12345)"
          },
          "execution_count": 52,
          "metadata": {},
          "output_type": "execute_result"
        }
      ],
      "source": [
        "%%time\n",
        "# обучим модель\n",
        "model_random.fit(train_encoder, target_train)"
      ]
    },
    {
      "cell_type": "code",
      "execution_count": null,
      "metadata": {
        "trusted": false,
        "id": "SikipxhqhTPp",
        "outputId": "06953823-e119-433f-d407-6f2ed4160610"
      },
      "outputs": [
        {
          "name": "stdout",
          "output_type": "stream",
          "text": "CPU times: user 621 ms, sys: 72 µs, total: 621 ms\nWall time: 626 ms\n"
        }
      ],
      "source": [
        "%%time\n",
        "# получим предсказания на валидационной выборке\n",
        "predict_valid_forest = model_random.predict(valid_encoder)"
      ]
    },
    {
      "cell_type": "code",
      "execution_count": null,
      "metadata": {
        "trusted": false,
        "id": "kn59k9cuhTPq",
        "outputId": "a86e944a-1bfa-4b95-96cc-7caaeb380185"
      },
      "outputs": [
        {
          "data": {
            "text/plain": "1774.6977739946592"
          },
          "execution_count": 54,
          "metadata": {},
          "output_type": "execute_result"
        }
      ],
      "source": [
        "# получим значение RMSE\n",
        "mean_squared_error(target_valid, predict_valid_forest, squared=False)"
      ]
    },
    {
      "cell_type": "markdown",
      "metadata": {
        "id": "_-OUk1MthTPq"
      },
      "source": [
        "#### CatBoost"
      ]
    },
    {
      "cell_type": "code",
      "execution_count": null,
      "metadata": {
        "trusted": false,
        "id": "l3yXIcG8hTPq"
      },
      "outputs": [],
      "source": [
        "model_catboost =CatBoostRegressor(iterations=90, depth=11, random_state=12345)"
      ]
    },
    {
      "cell_type": "code",
      "execution_count": null,
      "metadata": {
        "trusted": false,
        "id": "51GFZIDNhTPq",
        "outputId": "4cd7c403-7e44-47c7-82c5-9a12080954b8"
      },
      "outputs": [
        {
          "name": "stdout",
          "output_type": "stream",
          "text": "CPU times: user 13.4 s, sys: 111 ms, total: 13.6 s\nWall time: 14.4 s\n"
        },
        {
          "data": {
            "text/plain": "<catboost.core.CatBoostRegressor at 0x7fe760bae0d0>"
          },
          "execution_count": 56,
          "metadata": {},
          "output_type": "execute_result"
        }
      ],
      "source": [
        "%%time\n",
        "# обучим модель\n",
        "model_catboost.fit(features_train, target_train, cat_features = cat_features, verbose = False)"
      ]
    },
    {
      "cell_type": "code",
      "execution_count": null,
      "metadata": {
        "trusted": false,
        "id": "tRQAmU9YhTPq",
        "outputId": "f5142497-06ad-44d8-b469-a050e152366d"
      },
      "outputs": [
        {
          "name": "stdout",
          "output_type": "stream",
          "text": "CPU times: user 116 ms, sys: 25 µs, total: 116 ms\nWall time: 115 ms\n"
        }
      ],
      "source": [
        "%%time\n",
        "# получим предсказания на валидационной выборке\n",
        "predict_valid_catboost = model_catboost.predict(features_valid)"
      ]
    },
    {
      "cell_type": "code",
      "execution_count": null,
      "metadata": {
        "trusted": false,
        "id": "Q37vbQnPhTPq",
        "outputId": "7e863cd4-1f04-44c5-cc8b-8140b2e24c69"
      },
      "outputs": [
        {
          "data": {
            "text/plain": "1614.0268078157096"
          },
          "execution_count": 58,
          "metadata": {},
          "output_type": "execute_result"
        }
      ],
      "source": [
        "# получим значение RMSE\n",
        "mean_squared_error(target_valid, predict_valid_catboost, squared=False)"
      ]
    },
    {
      "cell_type": "markdown",
      "metadata": {
        "id": "tdRiBbJXhTPr"
      },
      "source": [
        "#### LGBM"
      ]
    },
    {
      "cell_type": "code",
      "execution_count": null,
      "metadata": {
        "trusted": false,
        "id": "E-Z7M4aAhTPr"
      },
      "outputs": [],
      "source": [
        "model_lgbm =LGBMRegressor(iterations=90, max_depth=11, random_state=12345)"
      ]
    },
    {
      "cell_type": "code",
      "execution_count": null,
      "metadata": {
        "trusted": false,
        "id": "AkoFe1q7hTPr",
        "outputId": "8e2ae47f-2ed1-42c1-b500-5b048851dba3"
      },
      "outputs": [
        {
          "name": "stdout",
          "output_type": "stream",
          "text": "CPU times: user 23.1 s, sys: 188 ms, total: 23.3 s\nWall time: 23.4 s\n"
        },
        {
          "data": {
            "text/plain": "LGBMRegressor(iterations=90, max_depth=11, random_state=12345)"
          },
          "execution_count": 60,
          "metadata": {},
          "output_type": "execute_result"
        }
      ],
      "source": [
        "%%time\n",
        "# обучим модель\n",
        "model_lgbm.fit(train_encoder, target_train)"
      ]
    },
    {
      "cell_type": "code",
      "execution_count": null,
      "metadata": {
        "trusted": false,
        "id": "2KUP3L4khTPr",
        "outputId": "7fb3ffdc-a270-4e95-c39f-2263af5b5366"
      },
      "outputs": [
        {
          "name": "stdout",
          "output_type": "stream",
          "text": "CPU times: user 560 ms, sys: 6.8 ms, total: 567 ms\nWall time: 590 ms\n"
        }
      ],
      "source": [
        "%%time\n",
        "# получим предсказания на валидационной выборке\n",
        "predict_valid_lgbm = model_lgbm.predict(valid_encoder)"
      ]
    },
    {
      "cell_type": "code",
      "execution_count": null,
      "metadata": {
        "trusted": false,
        "id": "1gykwnWThTPr",
        "outputId": "32318026-774e-401d-8058-d205949a6f28"
      },
      "outputs": [
        {
          "data": {
            "text/plain": "1680.3664065563069"
          },
          "execution_count": 62,
          "metadata": {},
          "output_type": "execute_result"
        }
      ],
      "source": [
        "# получим значение RMSE\n",
        "mean_squared_error(target_valid, predict_valid_lgbm, squared=False)"
      ]
    },
    {
      "cell_type": "markdown",
      "metadata": {
        "id": "qfvw6HnVhTPs"
      },
      "source": [
        "Оценим результаты и выберем лучшую модель"
      ]
    },
    {
      "cell_type": "markdown",
      "metadata": {
        "id": "XuJHfqQYhTPs"
      },
      "source": [
        "## Анализ моделей"
      ]
    },
    {
      "cell_type": "markdown",
      "metadata": {
        "id": "jwI0OeMdhTPs"
      },
      "source": [
        "Соберем данные о качестве, времени обучения и предсказания для каждой модели в одну таблицу."
      ]
    },
    {
      "cell_type": "code",
      "execution_count": null,
      "metadata": {
        "trusted": false,
        "id": "4DVV_xuwhTPs",
        "outputId": "ef8fd5bf-98e1-49b5-96c0-8cb68396cc6e"
      },
      "outputs": [
        {
          "data": {
            "text/html": "<div>\n<style scoped>\n    .dataframe tbody tr th:only-of-type {\n        vertical-align: middle;\n    }\n\n    .dataframe tbody tr th {\n        vertical-align: top;\n    }\n\n    .dataframe thead th {\n        text-align: right;\n    }\n</style>\n<table border=\"1\" class=\"dataframe\">\n  <thead>\n    <tr style=\"text-align: right;\">\n      <th></th>\n      <th>RandomForestRegressor</th>\n      <th>CatBoostRegressor</th>\n      <th>LGBMRegressor</th>\n    </tr>\n  </thead>\n  <tbody>\n    <tr>\n      <th>RMSE</th>\n      <td>1774.690</td>\n      <td>1614.020</td>\n      <td>1680.36</td>\n    </tr>\n    <tr>\n      <th>Время обучения, с</th>\n      <td>28.200</td>\n      <td>13.400</td>\n      <td>23.10</td>\n    </tr>\n    <tr>\n      <th>Время предсказания, с</th>\n      <td>0.621</td>\n      <td>0.116</td>\n      <td>0.56</td>\n    </tr>\n  </tbody>\n</table>\n</div>",
            "text/plain": "                       RandomForestRegressor  CatBoostRegressor  LGBMRegressor\nRMSE                                1774.690           1614.020        1680.36\nВремя обучения, с                     28.200             13.400          23.10\nВремя предсказания, с                  0.621              0.116           0.56"
          },
          "execution_count": 63,
          "metadata": {},
          "output_type": "execute_result"
        }
      ],
      "source": [
        "models = [[1774.69, 1614.02, 1680.36],\n",
        "          [28.2, 13.4, 23.1],\n",
        "          [0.621, 0.116, 0.560]]\n",
        "\n",
        "table = pd.DataFrame(models, index=['RMSE', 'Время обучения, с', 'Время предсказания, с'],\n",
        "                     columns=['RandomForestRegressor', 'CatBoostRegressor', 'LGBMRegressor'])\n",
        "table"
      ]
    },
    {
      "cell_type": "markdown",
      "metadata": {
        "id": "NBLL6bFnhTPs"
      },
      "source": [
        "Самое низкое значение метрики RMSE у модели CatBoost и составляет 1614,02.\n",
        "\n",
        "Самое маленькое время обучения у модели CatBoost - 13.4 с.\n",
        "\n",
        "Самое маленькое время предсказания у модели CatBoost - 0,116 с.\n",
        "\n",
        "Модель CatBoost показала лучшее значение качества, времени предсказания и обучения.\n",
        "\n",
        "Лучшей моделью исходя из критериев заказчика является CatBoost.\n",
        "\n",
        "Проверим ее на тестовой выборке."
      ]
    },
    {
      "cell_type": "code",
      "execution_count": null,
      "metadata": {
        "trusted": false,
        "id": "atAqAlW8hTPt"
      },
      "outputs": [],
      "source": [
        "predict_valid_catboost = model_catboost.predict(features_test)"
      ]
    },
    {
      "cell_type": "code",
      "execution_count": null,
      "metadata": {
        "trusted": false,
        "id": "wr5yBfo6hTPt",
        "outputId": "18b36ccf-5792-43fd-ecd7-bf128646ca68"
      },
      "outputs": [
        {
          "data": {
            "text/plain": "1607.0722055674519"
          },
          "execution_count": 65,
          "metadata": {},
          "output_type": "execute_result"
        }
      ],
      "source": [
        "mean_squared_error(target_test, predict_valid_catboost, squared=False)"
      ]
    },
    {
      "cell_type": "markdown",
      "metadata": {
        "id": "P2X1QJbKhTPu"
      },
      "source": [
        "Значение RMSE на тестовой выборке для модели CatBoost составило 1607.07."
      ]
    },
    {
      "cell_type": "markdown",
      "metadata": {
        "id": "AG9UFnZQhTPu"
      },
      "source": [
        "## Вывод"
      ]
    },
    {
      "cell_type": "markdown",
      "metadata": {
        "id": "QqHYNQGThTPu"
      },
      "source": [
        "На этапе обработки данных были обработаны пропущенные значения, удалены полные дубликаты, проведена работа над аномальными значениями.\n",
        "\n",
        "Из датафрейма были удалены признаки не оказывающие влияние на стоимость автомобилей.\n",
        "\n",
        "Для определения модели соответствующей критериям были выбраны три модели:\n",
        "\n",
        "- RandomForestRegressor\n",
        "- LGBMRegressor\n",
        "- CatBoostRegressor\n",
        "\n",
        "Самое низкое значение метрики RMSE у модели CatBoost и составляет 1614,02.\n",
        "\n",
        "Самое маленькое время обучения у модели CatBoost - 13.4 с.\n",
        "\n",
        "Самое маленькое время предсказания у модели CatBoost - 0,122 с.\n",
        "\n",
        "Модель CatBoost показала лучшее значение качества, времени предсказания и обучения.\n",
        "\n",
        "Лучшей моделью исходя из критериев заказчика является CatBoost.\n",
        "\n",
        "Значение RMSE на тестовой выборке для данной модели составило 1607.07."
      ]
    }
  ],
  "metadata": {
    "ExecuteTimeLog": [
      {
        "duration": 1717,
        "start_time": "2023-07-29T07:03:59.552Z"
      },
      {
        "duration": 961,
        "start_time": "2023-07-29T07:04:01.271Z"
      },
      {
        "duration": 15,
        "start_time": "2023-07-29T07:04:15.646Z"
      },
      {
        "duration": 123,
        "start_time": "2023-07-29T07:04:44.574Z"
      },
      {
        "duration": 114,
        "start_time": "2023-07-29T07:05:09.079Z"
      },
      {
        "duration": 396,
        "start_time": "2023-07-29T07:05:25.292Z"
      },
      {
        "duration": 522,
        "start_time": "2023-07-29T07:06:39.908Z"
      },
      {
        "duration": 1031,
        "start_time": "2023-07-29T07:07:57.162Z"
      },
      {
        "duration": 1175,
        "start_time": "2023-07-29T07:08:18.523Z"
      },
      {
        "duration": 5,
        "start_time": "2023-07-29T07:12:39.320Z"
      },
      {
        "duration": 5,
        "start_time": "2023-07-29T07:14:59.960Z"
      },
      {
        "duration": 7,
        "start_time": "2023-07-29T07:15:08.639Z"
      },
      {
        "duration": 3,
        "start_time": "2023-07-29T07:15:20.648Z"
      },
      {
        "duration": 4,
        "start_time": "2023-07-29T07:15:21.358Z"
      },
      {
        "duration": 61,
        "start_time": "2023-07-29T07:16:38.358Z"
      },
      {
        "duration": 213,
        "start_time": "2023-07-29T07:16:57.686Z"
      },
      {
        "duration": 23,
        "start_time": "2023-07-29T07:17:14.429Z"
      },
      {
        "duration": 22,
        "start_time": "2023-07-29T07:17:30.309Z"
      },
      {
        "duration": 21,
        "start_time": "2023-07-29T07:18:50.828Z"
      },
      {
        "duration": 20,
        "start_time": "2023-07-29T07:19:04.516Z"
      },
      {
        "duration": 4,
        "start_time": "2023-07-29T07:19:28.620Z"
      },
      {
        "duration": 4,
        "start_time": "2023-07-29T07:19:37.428Z"
      },
      {
        "duration": 6,
        "start_time": "2023-07-29T07:19:52.244Z"
      },
      {
        "duration": 7,
        "start_time": "2023-07-29T07:20:36.115Z"
      },
      {
        "duration": 5,
        "start_time": "2023-07-29T07:21:23.637Z"
      },
      {
        "duration": 10,
        "start_time": "2023-07-29T07:21:42.211Z"
      },
      {
        "duration": 28,
        "start_time": "2023-07-29T07:21:58.963Z"
      },
      {
        "duration": 12,
        "start_time": "2023-07-29T07:39:12.505Z"
      },
      {
        "duration": 76,
        "start_time": "2023-07-29T07:39:42.728Z"
      },
      {
        "duration": 7,
        "start_time": "2023-07-29T07:41:32.615Z"
      },
      {
        "duration": 171,
        "start_time": "2023-07-29T07:42:35.559Z"
      },
      {
        "duration": 63,
        "start_time": "2023-07-29T07:43:10.494Z"
      },
      {
        "duration": 24,
        "start_time": "2023-07-29T07:43:23.526Z"
      },
      {
        "duration": 23,
        "start_time": "2023-07-29T07:43:29.838Z"
      },
      {
        "duration": 7,
        "start_time": "2023-07-29T07:46:49.555Z"
      },
      {
        "duration": 447,
        "start_time": "2023-07-29T07:47:53.740Z"
      },
      {
        "duration": 790,
        "start_time": "2023-07-29T07:48:31.549Z"
      },
      {
        "duration": 400,
        "start_time": "2023-07-29T07:48:48.820Z"
      },
      {
        "duration": 362,
        "start_time": "2023-07-29T07:48:50.186Z"
      },
      {
        "duration": 228,
        "start_time": "2023-07-29T07:49:27.659Z"
      },
      {
        "duration": 399,
        "start_time": "2023-07-29T07:49:30.667Z"
      },
      {
        "duration": 400,
        "start_time": "2023-07-29T07:49:32.651Z"
      },
      {
        "duration": 15,
        "start_time": "2023-07-29T07:52:48.337Z"
      },
      {
        "duration": 94,
        "start_time": "2023-07-29T07:58:40.269Z"
      },
      {
        "duration": 132,
        "start_time": "2023-07-29T07:59:50.660Z"
      },
      {
        "duration": 126,
        "start_time": "2023-07-29T08:00:27.548Z"
      },
      {
        "duration": 165,
        "start_time": "2023-07-29T08:01:55.355Z"
      },
      {
        "duration": 128,
        "start_time": "2023-07-29T08:02:08.171Z"
      },
      {
        "duration": 218,
        "start_time": "2023-07-29T08:03:15.114Z"
      },
      {
        "duration": 242,
        "start_time": "2023-07-29T08:03:28.842Z"
      },
      {
        "duration": 28,
        "start_time": "2023-07-29T08:03:41.842Z"
      },
      {
        "duration": 64,
        "start_time": "2023-07-29T08:03:55.307Z"
      },
      {
        "duration": 129,
        "start_time": "2023-07-29T08:05:17.905Z"
      },
      {
        "duration": 422,
        "start_time": "2023-07-29T08:07:13.216Z"
      },
      {
        "duration": 8,
        "start_time": "2023-07-29T08:07:20.168Z"
      },
      {
        "duration": 9,
        "start_time": "2023-07-29T08:07:43.744Z"
      },
      {
        "duration": 109,
        "start_time": "2023-07-29T08:07:57.256Z"
      },
      {
        "duration": 28,
        "start_time": "2023-07-29T08:07:58.463Z"
      },
      {
        "duration": 27,
        "start_time": "2023-07-29T08:08:17.200Z"
      },
      {
        "duration": 29,
        "start_time": "2023-07-29T08:08:27.464Z"
      },
      {
        "duration": 138,
        "start_time": "2023-07-29T08:09:06.072Z"
      },
      {
        "duration": 26,
        "start_time": "2023-07-29T08:09:26.655Z"
      },
      {
        "duration": 152,
        "start_time": "2023-07-29T08:10:38.950Z"
      },
      {
        "duration": 245,
        "start_time": "2023-07-29T08:11:45.157Z"
      },
      {
        "duration": 183,
        "start_time": "2023-07-29T08:11:52.797Z"
      },
      {
        "duration": 192,
        "start_time": "2023-07-29T08:12:31.972Z"
      },
      {
        "duration": 203,
        "start_time": "2023-07-29T08:13:10.108Z"
      },
      {
        "duration": 194,
        "start_time": "2023-07-29T08:16:40.803Z"
      },
      {
        "duration": 22,
        "start_time": "2023-07-29T08:20:26.537Z"
      },
      {
        "duration": 35,
        "start_time": "2023-07-29T08:20:51.600Z"
      },
      {
        "duration": 64,
        "start_time": "2023-07-29T08:27:31.580Z"
      },
      {
        "duration": 102,
        "start_time": "2023-07-29T08:27:48.724Z"
      },
      {
        "duration": 55,
        "start_time": "2023-07-29T08:28:10.731Z"
      },
      {
        "duration": 99,
        "start_time": "2023-07-29T08:28:12.996Z"
      },
      {
        "duration": 15,
        "start_time": "2023-07-29T08:31:16.065Z"
      },
      {
        "duration": 25,
        "start_time": "2023-07-29T08:32:30.480Z"
      },
      {
        "duration": 20,
        "start_time": "2023-07-29T08:32:36.384Z"
      },
      {
        "duration": 3352,
        "start_time": "2023-07-29T08:34:24.680Z"
      },
      {
        "duration": 3474,
        "start_time": "2023-07-29T08:35:36.151Z"
      },
      {
        "duration": 82,
        "start_time": "2023-07-29T08:36:13.327Z"
      },
      {
        "duration": 81,
        "start_time": "2023-07-29T08:36:27.887Z"
      },
      {
        "duration": 1501,
        "start_time": "2023-07-29T08:36:41.192Z"
      },
      {
        "duration": 754,
        "start_time": "2023-07-29T08:36:42.695Z"
      },
      {
        "duration": 29,
        "start_time": "2023-07-29T08:36:43.451Z"
      },
      {
        "duration": 124,
        "start_time": "2023-07-29T08:36:43.482Z"
      },
      {
        "duration": 108,
        "start_time": "2023-07-29T08:36:43.607Z"
      },
      {
        "duration": 385,
        "start_time": "2023-07-29T08:36:43.716Z"
      },
      {
        "duration": 1187,
        "start_time": "2023-07-29T08:36:44.103Z"
      },
      {
        "duration": 4,
        "start_time": "2023-07-29T08:36:45.292Z"
      },
      {
        "duration": 30,
        "start_time": "2023-07-29T08:36:45.298Z"
      },
      {
        "duration": 439,
        "start_time": "2023-07-29T08:36:45.331Z"
      },
      {
        "duration": 366,
        "start_time": "2023-07-29T08:36:45.771Z"
      },
      {
        "duration": 195,
        "start_time": "2023-07-29T08:36:46.139Z"
      },
      {
        "duration": 18,
        "start_time": "2023-07-29T08:36:46.335Z"
      },
      {
        "duration": 33,
        "start_time": "2023-07-29T08:36:46.354Z"
      },
      {
        "duration": 146,
        "start_time": "2023-07-29T08:36:46.389Z"
      },
      {
        "duration": 21,
        "start_time": "2023-07-29T08:36:46.536Z"
      },
      {
        "duration": 25,
        "start_time": "2023-07-29T08:37:06.741Z"
      },
      {
        "duration": 100,
        "start_time": "2023-07-29T08:37:59.982Z"
      },
      {
        "duration": 7,
        "start_time": "2023-07-29T08:49:02.967Z"
      },
      {
        "duration": 11,
        "start_time": "2023-07-29T08:49:16.007Z"
      },
      {
        "duration": 8,
        "start_time": "2023-07-29T08:53:21.764Z"
      },
      {
        "duration": 76,
        "start_time": "2023-07-29T08:56:02.395Z"
      },
      {
        "duration": 7,
        "start_time": "2023-07-29T08:56:10.267Z"
      },
      {
        "duration": 10,
        "start_time": "2023-07-29T08:57:03.573Z"
      },
      {
        "duration": 229,
        "start_time": "2023-07-29T08:58:45.561Z"
      },
      {
        "duration": 212,
        "start_time": "2023-07-29T08:58:56.181Z"
      },
      {
        "duration": 511,
        "start_time": "2023-07-29T08:59:00.016Z"
      },
      {
        "duration": 186,
        "start_time": "2023-07-29T08:59:03.201Z"
      },
      {
        "duration": 184,
        "start_time": "2023-07-29T08:59:09.190Z"
      },
      {
        "duration": 342,
        "start_time": "2023-07-29T08:59:13.858Z"
      },
      {
        "duration": 262,
        "start_time": "2023-07-29T08:59:20.105Z"
      },
      {
        "duration": 29,
        "start_time": "2023-07-29T09:00:09.392Z"
      },
      {
        "duration": 78,
        "start_time": "2023-07-29T09:01:08.520Z"
      },
      {
        "duration": 27,
        "start_time": "2023-07-29T09:01:11.591Z"
      },
      {
        "duration": 22,
        "start_time": "2023-07-29T09:02:10.480Z"
      },
      {
        "duration": 7,
        "start_time": "2023-07-29T09:02:35.127Z"
      },
      {
        "duration": 6,
        "start_time": "2023-07-29T09:02:36.815Z"
      },
      {
        "duration": 11,
        "start_time": "2023-07-29T09:02:53.006Z"
      },
      {
        "duration": 27,
        "start_time": "2023-07-29T09:02:57.319Z"
      },
      {
        "duration": 25,
        "start_time": "2023-07-29T09:03:10.047Z"
      },
      {
        "duration": 1318,
        "start_time": "2023-07-29T09:03:46.502Z"
      },
      {
        "duration": 739,
        "start_time": "2023-07-29T09:03:47.822Z"
      },
      {
        "duration": 22,
        "start_time": "2023-07-29T09:03:48.563Z"
      },
      {
        "duration": 128,
        "start_time": "2023-07-29T09:03:48.587Z"
      },
      {
        "duration": 116,
        "start_time": "2023-07-29T09:03:48.716Z"
      },
      {
        "duration": 386,
        "start_time": "2023-07-29T09:03:48.833Z"
      },
      {
        "duration": 1216,
        "start_time": "2023-07-29T09:03:49.220Z"
      },
      {
        "duration": 4,
        "start_time": "2023-07-29T09:03:50.439Z"
      },
      {
        "duration": 8,
        "start_time": "2023-07-29T09:03:50.444Z"
      },
      {
        "duration": 419,
        "start_time": "2023-07-29T09:03:50.455Z"
      },
      {
        "duration": 369,
        "start_time": "2023-07-29T09:03:50.875Z"
      },
      {
        "duration": 18,
        "start_time": "2023-07-29T09:03:51.246Z"
      },
      {
        "duration": 37,
        "start_time": "2023-07-29T09:03:51.265Z"
      },
      {
        "duration": 90,
        "start_time": "2023-07-29T09:03:51.304Z"
      },
      {
        "duration": 107,
        "start_time": "2023-07-29T09:03:51.396Z"
      },
      {
        "duration": 307,
        "start_time": "2023-07-29T09:03:51.505Z"
      },
      {
        "duration": 30,
        "start_time": "2023-07-29T09:03:51.819Z"
      },
      {
        "duration": 7,
        "start_time": "2023-07-29T09:03:51.851Z"
      },
      {
        "duration": 36,
        "start_time": "2023-07-29T09:03:51.860Z"
      },
      {
        "duration": 9,
        "start_time": "2023-07-29T09:03:51.897Z"
      },
      {
        "duration": 69,
        "start_time": "2023-07-29T09:03:51.908Z"
      },
      {
        "duration": 11,
        "start_time": "2023-07-29T09:03:51.979Z"
      },
      {
        "duration": 27,
        "start_time": "2023-07-29T09:05:14.630Z"
      },
      {
        "duration": 24,
        "start_time": "2023-07-29T09:05:47.917Z"
      },
      {
        "duration": 117,
        "start_time": "2023-07-29T09:06:43.020Z"
      },
      {
        "duration": 9,
        "start_time": "2023-07-29T09:06:46.324Z"
      },
      {
        "duration": 92,
        "start_time": "2023-07-29T09:08:36.187Z"
      },
      {
        "duration": 221,
        "start_time": "2023-07-29T09:10:17.834Z"
      },
      {
        "duration": 234,
        "start_time": "2023-07-29T09:10:27.066Z"
      },
      {
        "duration": 223,
        "start_time": "2023-07-29T09:10:58.801Z"
      },
      {
        "duration": 330,
        "start_time": "2023-07-29T09:11:13.146Z"
      },
      {
        "duration": 241,
        "start_time": "2023-07-29T09:11:27.793Z"
      },
      {
        "duration": 56,
        "start_time": "2023-07-29T09:14:36.360Z"
      },
      {
        "duration": 41,
        "start_time": "2023-07-29T09:14:59.768Z"
      },
      {
        "duration": 213,
        "start_time": "2023-07-29T09:15:44.287Z"
      },
      {
        "duration": 221,
        "start_time": "2023-07-29T09:16:50.966Z"
      },
      {
        "duration": 232,
        "start_time": "2023-07-29T09:17:00.550Z"
      },
      {
        "duration": 333,
        "start_time": "2023-07-29T09:17:06.798Z"
      },
      {
        "duration": 251,
        "start_time": "2023-07-29T09:17:12.481Z"
      },
      {
        "duration": 261,
        "start_time": "2023-07-29T09:17:19.217Z"
      },
      {
        "duration": 27,
        "start_time": "2023-07-29T09:18:01.318Z"
      },
      {
        "duration": 32,
        "start_time": "2023-07-29T09:18:26.966Z"
      },
      {
        "duration": 11,
        "start_time": "2023-07-29T09:18:56.815Z"
      },
      {
        "duration": 33,
        "start_time": "2023-07-29T09:19:07.146Z"
      },
      {
        "duration": 217,
        "start_time": "2023-07-29T09:19:17.845Z"
      },
      {
        "duration": 224,
        "start_time": "2023-07-29T09:19:49.988Z"
      },
      {
        "duration": 230,
        "start_time": "2023-07-29T09:20:29.625Z"
      },
      {
        "duration": 323,
        "start_time": "2023-07-29T09:20:41.585Z"
      },
      {
        "duration": 26,
        "start_time": "2023-07-29T09:21:31.996Z"
      },
      {
        "duration": 217,
        "start_time": "2023-07-29T09:23:22.428Z"
      },
      {
        "duration": 269,
        "start_time": "2023-07-29T09:23:40.666Z"
      },
      {
        "duration": 224,
        "start_time": "2023-07-29T09:23:48.522Z"
      },
      {
        "duration": 211,
        "start_time": "2023-07-29T09:23:56.081Z"
      },
      {
        "duration": 8,
        "start_time": "2023-07-29T09:38:52.929Z"
      },
      {
        "duration": 10,
        "start_time": "2023-07-29T09:38:53.402Z"
      },
      {
        "duration": 54,
        "start_time": "2023-07-29T09:39:04.479Z"
      },
      {
        "duration": 42,
        "start_time": "2023-07-29T09:39:24.439Z"
      },
      {
        "duration": 8,
        "start_time": "2023-07-29T09:39:30.097Z"
      },
      {
        "duration": 42,
        "start_time": "2023-07-29T09:39:36.696Z"
      },
      {
        "duration": 305,
        "start_time": "2023-07-29T09:39:53.328Z"
      },
      {
        "duration": 9,
        "start_time": "2023-07-29T09:40:35.520Z"
      },
      {
        "duration": 226,
        "start_time": "2023-07-29T09:40:40.439Z"
      },
      {
        "duration": 241,
        "start_time": "2023-07-29T09:41:14.640Z"
      },
      {
        "duration": 232,
        "start_time": "2023-07-29T09:46:17.396Z"
      },
      {
        "duration": 231,
        "start_time": "2023-07-29T09:46:27.357Z"
      },
      {
        "duration": 218,
        "start_time": "2023-07-29T09:46:36.460Z"
      },
      {
        "duration": 311,
        "start_time": "2023-07-29T09:46:51.836Z"
      },
      {
        "duration": 278,
        "start_time": "2023-07-29T09:47:21.676Z"
      },
      {
        "duration": 7712,
        "start_time": "2023-07-29T09:52:30.649Z"
      },
      {
        "duration": 222,
        "start_time": "2023-07-29T09:52:45.958Z"
      },
      {
        "duration": 7736,
        "start_time": "2023-07-29T09:53:20.200Z"
      },
      {
        "duration": 242,
        "start_time": "2023-07-29T09:53:29.850Z"
      },
      {
        "duration": 42,
        "start_time": "2023-07-29T09:54:20.408Z"
      },
      {
        "duration": 112,
        "start_time": "2023-07-29T09:54:36.735Z"
      },
      {
        "duration": 252,
        "start_time": "2023-07-29T09:54:40.679Z"
      },
      {
        "duration": 369,
        "start_time": "2023-07-29T09:55:06.967Z"
      },
      {
        "duration": 1514,
        "start_time": "2023-07-29T09:55:14.157Z"
      },
      {
        "duration": 778,
        "start_time": "2023-07-29T09:55:15.673Z"
      },
      {
        "duration": 19,
        "start_time": "2023-07-29T09:55:16.453Z"
      },
      {
        "duration": 130,
        "start_time": "2023-07-29T09:55:16.474Z"
      },
      {
        "duration": 119,
        "start_time": "2023-07-29T09:55:16.606Z"
      },
      {
        "duration": 436,
        "start_time": "2023-07-29T09:55:16.727Z"
      },
      {
        "duration": 1274,
        "start_time": "2023-07-29T09:55:17.165Z"
      },
      {
        "duration": 4,
        "start_time": "2023-07-29T09:55:18.441Z"
      },
      {
        "duration": 14,
        "start_time": "2023-07-29T09:55:18.447Z"
      },
      {
        "duration": 429,
        "start_time": "2023-07-29T09:55:18.463Z"
      },
      {
        "duration": 397,
        "start_time": "2023-07-29T09:55:18.894Z"
      },
      {
        "duration": 17,
        "start_time": "2023-07-29T09:55:19.293Z"
      },
      {
        "duration": 26,
        "start_time": "2023-07-29T09:55:19.311Z"
      },
      {
        "duration": 120,
        "start_time": "2023-07-29T09:55:19.338Z"
      },
      {
        "duration": 109,
        "start_time": "2023-07-29T09:55:19.460Z"
      },
      {
        "duration": 149,
        "start_time": "2023-07-29T09:55:19.570Z"
      },
      {
        "duration": 259,
        "start_time": "2023-07-29T09:55:19.720Z"
      },
      {
        "duration": 62,
        "start_time": "2023-07-29T09:55:19.981Z"
      },
      {
        "duration": 274,
        "start_time": "2023-07-29T09:55:20.044Z"
      },
      {
        "duration": 237,
        "start_time": "2023-07-29T09:55:20.320Z"
      },
      {
        "duration": 48,
        "start_time": "2023-07-29T09:55:20.559Z"
      },
      {
        "duration": 56,
        "start_time": "2023-07-29T09:55:20.609Z"
      },
      {
        "duration": 237,
        "start_time": "2023-07-29T09:55:20.666Z"
      },
      {
        "duration": 364,
        "start_time": "2023-07-29T09:55:20.905Z"
      },
      {
        "duration": 8171,
        "start_time": "2023-07-29T09:55:21.270Z"
      },
      {
        "duration": 43,
        "start_time": "2023-07-29T09:55:29.443Z"
      },
      {
        "duration": 260,
        "start_time": "2023-07-29T09:55:29.488Z"
      },
      {
        "duration": 8,
        "start_time": "2023-07-29T09:55:29.752Z"
      },
      {
        "duration": 215,
        "start_time": "2023-07-29T09:55:29.761Z"
      },
      {
        "duration": 18,
        "start_time": "2023-07-29T09:55:29.978Z"
      },
      {
        "duration": 293,
        "start_time": "2023-07-29T09:56:36.982Z"
      },
      {
        "duration": 190,
        "start_time": "2023-07-29T09:56:48.550Z"
      },
      {
        "duration": 204,
        "start_time": "2023-07-29T09:56:56.246Z"
      },
      {
        "duration": 112,
        "start_time": "2023-07-29T09:57:14.693Z"
      },
      {
        "duration": 67,
        "start_time": "2023-07-29T10:27:12.692Z"
      },
      {
        "duration": 19,
        "start_time": "2023-07-29T10:34:28.180Z"
      },
      {
        "duration": 19,
        "start_time": "2023-07-29T10:34:39.639Z"
      },
      {
        "duration": 25,
        "start_time": "2023-07-29T10:58:01.105Z"
      },
      {
        "duration": 12,
        "start_time": "2023-07-29T10:59:49.000Z"
      },
      {
        "duration": 64,
        "start_time": "2023-07-29T11:00:11.580Z"
      },
      {
        "duration": 14,
        "start_time": "2023-07-29T11:00:13.183Z"
      },
      {
        "duration": 10,
        "start_time": "2023-07-29T11:01:44.151Z"
      },
      {
        "duration": 79,
        "start_time": "2023-07-29T11:02:20.455Z"
      },
      {
        "duration": 112,
        "start_time": "2023-07-29T11:06:32.740Z"
      },
      {
        "duration": 8,
        "start_time": "2023-07-29T11:06:33.347Z"
      },
      {
        "duration": 15,
        "start_time": "2023-07-29T11:06:43.068Z"
      },
      {
        "duration": 18,
        "start_time": "2023-07-29T11:06:43.611Z"
      },
      {
        "duration": 4,
        "start_time": "2023-07-29T11:08:17.680Z"
      },
      {
        "duration": 12,
        "start_time": "2023-07-29T11:08:27.379Z"
      },
      {
        "duration": 86,
        "start_time": "2023-07-29T11:08:39.850Z"
      },
      {
        "duration": 4,
        "start_time": "2023-07-29T11:17:51.280Z"
      },
      {
        "duration": 9,
        "start_time": "2023-07-29T11:19:17.909Z"
      },
      {
        "duration": 711,
        "start_time": "2023-07-29T11:19:39.388Z"
      },
      {
        "duration": 25,
        "start_time": "2023-07-29T11:19:59.508Z"
      },
      {
        "duration": 11,
        "start_time": "2023-07-29T11:20:24.780Z"
      },
      {
        "duration": 20,
        "start_time": "2023-07-29T11:23:23.266Z"
      },
      {
        "duration": 14,
        "start_time": "2023-07-29T11:23:23.849Z"
      },
      {
        "duration": 60,
        "start_time": "2023-07-29T11:23:24.836Z"
      },
      {
        "duration": 502,
        "start_time": "2023-07-29T11:24:05.180Z"
      },
      {
        "duration": 458,
        "start_time": "2023-07-29T11:25:02.902Z"
      },
      {
        "duration": 19,
        "start_time": "2023-07-29T11:25:07.439Z"
      },
      {
        "duration": 1289,
        "start_time": "2023-07-29T11:25:46.766Z"
      },
      {
        "duration": 807,
        "start_time": "2023-07-29T11:25:48.056Z"
      },
      {
        "duration": 19,
        "start_time": "2023-07-29T11:25:48.865Z"
      },
      {
        "duration": 120,
        "start_time": "2023-07-29T11:25:48.886Z"
      },
      {
        "duration": 123,
        "start_time": "2023-07-29T11:25:49.008Z"
      },
      {
        "duration": 456,
        "start_time": "2023-07-29T11:25:49.132Z"
      },
      {
        "duration": 1177,
        "start_time": "2023-07-29T11:25:49.590Z"
      },
      {
        "duration": 3,
        "start_time": "2023-07-29T11:25:50.768Z"
      },
      {
        "duration": 14,
        "start_time": "2023-07-29T11:25:50.773Z"
      },
      {
        "duration": 475,
        "start_time": "2023-07-29T11:25:50.789Z"
      },
      {
        "duration": 445,
        "start_time": "2023-07-29T11:25:51.266Z"
      },
      {
        "duration": 32,
        "start_time": "2023-07-29T11:25:51.712Z"
      },
      {
        "duration": 35,
        "start_time": "2023-07-29T11:25:51.745Z"
      },
      {
        "duration": 119,
        "start_time": "2023-07-29T11:25:51.782Z"
      },
      {
        "duration": 103,
        "start_time": "2023-07-29T11:25:51.902Z"
      },
      {
        "duration": 125,
        "start_time": "2023-07-29T11:25:52.006Z"
      },
      {
        "duration": 243,
        "start_time": "2023-07-29T11:25:52.133Z"
      },
      {
        "duration": 64,
        "start_time": "2023-07-29T11:25:52.378Z"
      },
      {
        "duration": 226,
        "start_time": "2023-07-29T11:25:52.444Z"
      },
      {
        "duration": 227,
        "start_time": "2023-07-29T11:25:52.672Z"
      },
      {
        "duration": 70,
        "start_time": "2023-07-29T11:25:52.901Z"
      },
      {
        "duration": 61,
        "start_time": "2023-07-29T11:25:52.972Z"
      },
      {
        "duration": 230,
        "start_time": "2023-07-29T11:25:53.039Z"
      },
      {
        "duration": 366,
        "start_time": "2023-07-29T11:25:53.271Z"
      },
      {
        "duration": 8146,
        "start_time": "2023-07-29T11:25:53.638Z"
      },
      {
        "duration": 47,
        "start_time": "2023-07-29T11:26:01.786Z"
      },
      {
        "duration": 243,
        "start_time": "2023-07-29T11:26:01.835Z"
      },
      {
        "duration": 133,
        "start_time": "2023-07-29T11:26:02.081Z"
      },
      {
        "duration": 27,
        "start_time": "2023-07-29T11:26:02.216Z"
      },
      {
        "duration": 160,
        "start_time": "2023-07-29T11:26:02.244Z"
      },
      {
        "duration": 23,
        "start_time": "2023-07-29T11:26:02.406Z"
      },
      {
        "duration": 29,
        "start_time": "2023-07-29T11:26:02.431Z"
      },
      {
        "duration": 19,
        "start_time": "2023-07-29T11:26:02.461Z"
      },
      {
        "duration": 71,
        "start_time": "2023-07-29T11:26:02.481Z"
      },
      {
        "duration": 32,
        "start_time": "2023-07-29T11:26:02.553Z"
      },
      {
        "duration": 95,
        "start_time": "2023-07-29T11:26:02.586Z"
      },
      {
        "duration": 549,
        "start_time": "2023-07-29T11:26:02.682Z"
      },
      {
        "duration": 0,
        "start_time": "2023-07-29T11:26:03.232Z"
      },
      {
        "duration": 0,
        "start_time": "2023-07-29T11:26:03.236Z"
      },
      {
        "duration": 437,
        "start_time": "2023-07-29T11:26:35.834Z"
      },
      {
        "duration": 3,
        "start_time": "2023-07-29T11:31:06.006Z"
      },
      {
        "duration": 15,
        "start_time": "2023-07-29T11:39:35.560Z"
      },
      {
        "duration": 54,
        "start_time": "2023-07-29T11:39:39.441Z"
      },
      {
        "duration": 109,
        "start_time": "2023-07-29T11:47:26.468Z"
      },
      {
        "duration": 145,
        "start_time": "2023-07-29T11:47:36.716Z"
      },
      {
        "duration": 25,
        "start_time": "2023-07-29T11:47:51.699Z"
      },
      {
        "duration": 24,
        "start_time": "2023-07-29T11:48:52.364Z"
      },
      {
        "duration": 2821,
        "start_time": "2023-07-29T11:49:08.667Z"
      },
      {
        "duration": 12194,
        "start_time": "2023-07-29T11:50:16.162Z"
      },
      {
        "duration": 11540,
        "start_time": "2023-07-29T11:50:45.163Z"
      },
      {
        "duration": 1992,
        "start_time": "2023-07-29T11:51:38.115Z"
      },
      {
        "duration": 906,
        "start_time": "2023-07-29T11:51:40.109Z"
      },
      {
        "duration": 18,
        "start_time": "2023-07-29T11:51:41.016Z"
      },
      {
        "duration": 116,
        "start_time": "2023-07-29T11:51:41.035Z"
      },
      {
        "duration": 116,
        "start_time": "2023-07-29T11:51:41.152Z"
      },
      {
        "duration": 365,
        "start_time": "2023-07-29T11:51:41.269Z"
      },
      {
        "duration": 1102,
        "start_time": "2023-07-29T11:51:41.635Z"
      },
      {
        "duration": 2,
        "start_time": "2023-07-29T11:51:42.739Z"
      },
      {
        "duration": 8,
        "start_time": "2023-07-29T11:51:42.742Z"
      },
      {
        "duration": 408,
        "start_time": "2023-07-29T11:51:42.752Z"
      },
      {
        "duration": 360,
        "start_time": "2023-07-29T11:51:43.162Z"
      },
      {
        "duration": 16,
        "start_time": "2023-07-29T11:51:43.523Z"
      },
      {
        "duration": 23,
        "start_time": "2023-07-29T11:51:43.540Z"
      },
      {
        "duration": 87,
        "start_time": "2023-07-29T11:51:43.565Z"
      },
      {
        "duration": 91,
        "start_time": "2023-07-29T11:51:43.654Z"
      },
      {
        "duration": 88,
        "start_time": "2023-07-29T11:51:43.746Z"
      },
      {
        "duration": 241,
        "start_time": "2023-07-29T11:51:43.835Z"
      },
      {
        "duration": 57,
        "start_time": "2023-07-29T11:51:44.077Z"
      },
      {
        "duration": 204,
        "start_time": "2023-07-29T11:51:44.136Z"
      },
      {
        "duration": 211,
        "start_time": "2023-07-29T11:51:44.342Z"
      },
      {
        "duration": 49,
        "start_time": "2023-07-29T11:51:44.555Z"
      },
      {
        "duration": 54,
        "start_time": "2023-07-29T11:51:44.606Z"
      },
      {
        "duration": 203,
        "start_time": "2023-07-29T11:51:44.662Z"
      },
      {
        "duration": 300,
        "start_time": "2023-07-29T11:51:44.866Z"
      },
      {
        "duration": 7164,
        "start_time": "2023-07-29T11:51:45.169Z"
      },
      {
        "duration": 41,
        "start_time": "2023-07-29T11:51:52.334Z"
      },
      {
        "duration": 231,
        "start_time": "2023-07-29T11:51:52.376Z"
      },
      {
        "duration": 116,
        "start_time": "2023-07-29T11:51:52.610Z"
      },
      {
        "duration": 24,
        "start_time": "2023-07-29T11:51:52.727Z"
      },
      {
        "duration": 53,
        "start_time": "2023-07-29T11:51:52.752Z"
      },
      {
        "duration": 14,
        "start_time": "2023-07-29T11:51:52.819Z"
      },
      {
        "duration": 14,
        "start_time": "2023-07-29T11:51:52.834Z"
      },
      {
        "duration": 4,
        "start_time": "2023-07-29T11:51:52.850Z"
      },
      {
        "duration": 47,
        "start_time": "2023-07-29T11:51:52.855Z"
      },
      {
        "duration": 9,
        "start_time": "2023-07-29T11:51:52.904Z"
      },
      {
        "duration": 64,
        "start_time": "2023-07-29T11:51:52.920Z"
      },
      {
        "duration": 130,
        "start_time": "2023-07-29T11:51:52.985Z"
      },
      {
        "duration": 63,
        "start_time": "2023-07-29T11:51:53.117Z"
      },
      {
        "duration": 2241,
        "start_time": "2023-07-29T11:51:53.182Z"
      },
      {
        "duration": 263,
        "start_time": "2023-07-29T11:52:05.554Z"
      },
      {
        "duration": 2439,
        "start_time": "2023-07-29T11:52:09.009Z"
      },
      {
        "duration": 108,
        "start_time": "2023-07-29T12:06:08.183Z"
      },
      {
        "duration": 11884,
        "start_time": "2023-07-29T12:06:30.232Z"
      },
      {
        "duration": 12244,
        "start_time": "2023-07-29T12:07:12.888Z"
      },
      {
        "duration": 11946,
        "start_time": "2023-07-29T12:07:51.535Z"
      },
      {
        "duration": 1341,
        "start_time": "2023-07-29T12:08:44.785Z"
      },
      {
        "duration": 934,
        "start_time": "2023-07-29T12:08:46.128Z"
      },
      {
        "duration": 19,
        "start_time": "2023-07-29T12:08:47.063Z"
      },
      {
        "duration": 121,
        "start_time": "2023-07-29T12:08:47.084Z"
      },
      {
        "duration": 109,
        "start_time": "2023-07-29T12:08:47.206Z"
      },
      {
        "duration": 376,
        "start_time": "2023-07-29T12:08:47.316Z"
      },
      {
        "duration": 1171,
        "start_time": "2023-07-29T12:08:47.694Z"
      },
      {
        "duration": 3,
        "start_time": "2023-07-29T12:08:48.866Z"
      },
      {
        "duration": 8,
        "start_time": "2023-07-29T12:08:48.870Z"
      },
      {
        "duration": 413,
        "start_time": "2023-07-29T12:08:48.880Z"
      },
      {
        "duration": 370,
        "start_time": "2023-07-29T12:08:49.295Z"
      },
      {
        "duration": 17,
        "start_time": "2023-07-29T12:08:49.667Z"
      },
      {
        "duration": 20,
        "start_time": "2023-07-29T12:08:49.686Z"
      },
      {
        "duration": 82,
        "start_time": "2023-07-29T12:08:49.720Z"
      },
      {
        "duration": 103,
        "start_time": "2023-07-29T12:08:49.804Z"
      },
      {
        "duration": 100,
        "start_time": "2023-07-29T12:08:49.908Z"
      },
      {
        "duration": 240,
        "start_time": "2023-07-29T12:08:50.010Z"
      },
      {
        "duration": 51,
        "start_time": "2023-07-29T12:08:50.252Z"
      },
      {
        "duration": 247,
        "start_time": "2023-07-29T12:08:50.304Z"
      },
      {
        "duration": 216,
        "start_time": "2023-07-29T12:08:50.552Z"
      },
      {
        "duration": 57,
        "start_time": "2023-07-29T12:08:50.769Z"
      },
      {
        "duration": 46,
        "start_time": "2023-07-29T12:08:50.828Z"
      },
      {
        "duration": 218,
        "start_time": "2023-07-29T12:08:50.876Z"
      },
      {
        "duration": 330,
        "start_time": "2023-07-29T12:08:51.095Z"
      },
      {
        "duration": 7532,
        "start_time": "2023-07-29T12:08:51.426Z"
      },
      {
        "duration": 40,
        "start_time": "2023-07-29T12:08:58.959Z"
      },
      {
        "duration": 238,
        "start_time": "2023-07-29T12:08:59.000Z"
      },
      {
        "duration": 118,
        "start_time": "2023-07-29T12:08:59.241Z"
      },
      {
        "duration": 26,
        "start_time": "2023-07-29T12:08:59.360Z"
      },
      {
        "duration": 75,
        "start_time": "2023-07-29T12:08:59.387Z"
      },
      {
        "duration": 14,
        "start_time": "2023-07-29T12:08:59.464Z"
      },
      {
        "duration": 15,
        "start_time": "2023-07-29T12:08:59.479Z"
      },
      {
        "duration": 24,
        "start_time": "2023-07-29T12:08:59.496Z"
      },
      {
        "duration": 33,
        "start_time": "2023-07-29T12:08:59.521Z"
      },
      {
        "duration": 13,
        "start_time": "2023-07-29T12:08:59.556Z"
      },
      {
        "duration": 84,
        "start_time": "2023-07-29T12:08:59.571Z"
      },
      {
        "duration": 15,
        "start_time": "2023-07-29T12:08:59.656Z"
      },
      {
        "duration": 69,
        "start_time": "2023-07-29T12:08:59.672Z"
      },
      {
        "duration": 1498,
        "start_time": "2023-07-29T12:08:59.743Z"
      },
      {
        "duration": 2818,
        "start_time": "2023-07-29T12:10:16.479Z"
      },
      {
        "duration": 11,
        "start_time": "2023-07-29T12:11:01.679Z"
      },
      {
        "duration": 1273,
        "start_time": "2023-07-29T12:11:08.569Z"
      },
      {
        "duration": 763,
        "start_time": "2023-07-29T12:11:09.844Z"
      },
      {
        "duration": 17,
        "start_time": "2023-07-29T12:11:10.609Z"
      },
      {
        "duration": 134,
        "start_time": "2023-07-29T12:11:10.628Z"
      },
      {
        "duration": 116,
        "start_time": "2023-07-29T12:11:10.763Z"
      },
      {
        "duration": 426,
        "start_time": "2023-07-29T12:11:10.880Z"
      },
      {
        "duration": 1259,
        "start_time": "2023-07-29T12:11:11.308Z"
      },
      {
        "duration": 3,
        "start_time": "2023-07-29T12:11:12.569Z"
      },
      {
        "duration": 6,
        "start_time": "2023-07-29T12:11:12.574Z"
      },
      {
        "duration": 439,
        "start_time": "2023-07-29T12:11:12.583Z"
      },
      {
        "duration": 400,
        "start_time": "2023-07-29T12:11:13.024Z"
      },
      {
        "duration": 18,
        "start_time": "2023-07-29T12:11:13.425Z"
      },
      {
        "duration": 39,
        "start_time": "2023-07-29T12:11:13.444Z"
      },
      {
        "duration": 93,
        "start_time": "2023-07-29T12:11:13.485Z"
      },
      {
        "duration": 120,
        "start_time": "2023-07-29T12:11:13.579Z"
      },
      {
        "duration": 104,
        "start_time": "2023-07-29T12:11:13.700Z"
      },
      {
        "duration": 279,
        "start_time": "2023-07-29T12:11:13.805Z"
      },
      {
        "duration": 60,
        "start_time": "2023-07-29T12:11:14.086Z"
      },
      {
        "duration": 233,
        "start_time": "2023-07-29T12:11:14.147Z"
      },
      {
        "duration": 234,
        "start_time": "2023-07-29T12:11:14.382Z"
      },
      {
        "duration": 55,
        "start_time": "2023-07-29T12:11:14.619Z"
      },
      {
        "duration": 59,
        "start_time": "2023-07-29T12:11:14.675Z"
      },
      {
        "duration": 240,
        "start_time": "2023-07-29T12:11:14.736Z"
      },
      {
        "duration": 404,
        "start_time": "2023-07-29T12:11:14.977Z"
      },
      {
        "duration": 7633,
        "start_time": "2023-07-29T12:11:15.383Z"
      },
      {
        "duration": 40,
        "start_time": "2023-07-29T12:11:23.018Z"
      },
      {
        "duration": 249,
        "start_time": "2023-07-29T12:11:23.060Z"
      },
      {
        "duration": 119,
        "start_time": "2023-07-29T12:11:23.312Z"
      },
      {
        "duration": 24,
        "start_time": "2023-07-29T12:11:23.433Z"
      },
      {
        "duration": 66,
        "start_time": "2023-07-29T12:11:23.459Z"
      },
      {
        "duration": 13,
        "start_time": "2023-07-29T12:11:23.526Z"
      },
      {
        "duration": 14,
        "start_time": "2023-07-29T12:11:23.541Z"
      },
      {
        "duration": 4,
        "start_time": "2023-07-29T12:11:23.558Z"
      },
      {
        "duration": 32,
        "start_time": "2023-07-29T12:11:23.564Z"
      },
      {
        "duration": 30,
        "start_time": "2023-07-29T12:11:23.598Z"
      },
      {
        "duration": 73,
        "start_time": "2023-07-29T12:11:23.629Z"
      },
      {
        "duration": 16,
        "start_time": "2023-07-29T12:11:23.704Z"
      },
      {
        "duration": 54,
        "start_time": "2023-07-29T12:11:23.721Z"
      },
      {
        "duration": 2837,
        "start_time": "2023-07-29T12:11:23.776Z"
      },
      {
        "duration": 1605,
        "start_time": "2023-07-29T12:14:05.835Z"
      },
      {
        "duration": 943,
        "start_time": "2023-07-29T12:14:07.442Z"
      },
      {
        "duration": 15,
        "start_time": "2023-07-29T12:14:08.386Z"
      },
      {
        "duration": 102,
        "start_time": "2023-07-29T12:14:08.403Z"
      },
      {
        "duration": 104,
        "start_time": "2023-07-29T12:14:08.506Z"
      },
      {
        "duration": 384,
        "start_time": "2023-07-29T12:14:08.612Z"
      },
      {
        "duration": 1192,
        "start_time": "2023-07-29T12:14:08.998Z"
      },
      {
        "duration": 3,
        "start_time": "2023-07-29T12:14:10.191Z"
      },
      {
        "duration": 15,
        "start_time": "2023-07-29T12:14:10.195Z"
      },
      {
        "duration": 441,
        "start_time": "2023-07-29T12:14:10.213Z"
      },
      {
        "duration": 391,
        "start_time": "2023-07-29T12:14:10.655Z"
      },
      {
        "duration": 18,
        "start_time": "2023-07-29T12:14:11.048Z"
      },
      {
        "duration": 31,
        "start_time": "2023-07-29T12:14:11.068Z"
      },
      {
        "duration": 102,
        "start_time": "2023-07-29T12:14:11.100Z"
      },
      {
        "duration": 117,
        "start_time": "2023-07-29T12:14:11.204Z"
      },
      {
        "duration": 88,
        "start_time": "2023-07-29T12:14:11.322Z"
      },
      {
        "duration": 273,
        "start_time": "2023-07-29T12:14:11.412Z"
      },
      {
        "duration": 61,
        "start_time": "2023-07-29T12:14:11.686Z"
      },
      {
        "duration": 242,
        "start_time": "2023-07-29T12:14:11.749Z"
      },
      {
        "duration": 241,
        "start_time": "2023-07-29T12:14:11.992Z"
      },
      {
        "duration": 53,
        "start_time": "2023-07-29T12:14:12.235Z"
      },
      {
        "duration": 58,
        "start_time": "2023-07-29T12:14:12.290Z"
      },
      {
        "duration": 236,
        "start_time": "2023-07-29T12:14:12.349Z"
      },
      {
        "duration": 355,
        "start_time": "2023-07-29T12:14:12.586Z"
      },
      {
        "duration": 7969,
        "start_time": "2023-07-29T12:14:12.942Z"
      },
      {
        "duration": 42,
        "start_time": "2023-07-29T12:14:20.912Z"
      },
      {
        "duration": 244,
        "start_time": "2023-07-29T12:14:20.956Z"
      },
      {
        "duration": 120,
        "start_time": "2023-07-29T12:14:21.203Z"
      },
      {
        "duration": 23,
        "start_time": "2023-07-29T12:14:21.325Z"
      },
      {
        "duration": 55,
        "start_time": "2023-07-29T12:14:21.349Z"
      },
      {
        "duration": 23,
        "start_time": "2023-07-29T12:14:21.406Z"
      },
      {
        "duration": 15,
        "start_time": "2023-07-29T12:14:21.430Z"
      },
      {
        "duration": 4,
        "start_time": "2023-07-29T12:14:21.447Z"
      },
      {
        "duration": 30,
        "start_time": "2023-07-29T12:14:21.453Z"
      },
      {
        "duration": 10,
        "start_time": "2023-07-29T12:14:21.485Z"
      },
      {
        "duration": 63,
        "start_time": "2023-07-29T12:14:21.519Z"
      },
      {
        "duration": 14,
        "start_time": "2023-07-29T12:14:21.583Z"
      },
      {
        "duration": 67,
        "start_time": "2023-07-29T12:14:21.598Z"
      },
      {
        "duration": 3286,
        "start_time": "2023-07-29T12:14:21.666Z"
      },
      {
        "duration": 1484,
        "start_time": "2023-07-29T12:15:51.285Z"
      },
      {
        "duration": 941,
        "start_time": "2023-07-29T12:15:52.771Z"
      },
      {
        "duration": 14,
        "start_time": "2023-07-29T12:15:53.713Z"
      },
      {
        "duration": 107,
        "start_time": "2023-07-29T12:15:53.729Z"
      },
      {
        "duration": 108,
        "start_time": "2023-07-29T12:15:53.837Z"
      },
      {
        "duration": 377,
        "start_time": "2023-07-29T12:15:53.947Z"
      },
      {
        "duration": 1202,
        "start_time": "2023-07-29T12:15:54.326Z"
      },
      {
        "duration": 3,
        "start_time": "2023-07-29T12:15:55.529Z"
      },
      {
        "duration": 9,
        "start_time": "2023-07-29T12:15:55.534Z"
      },
      {
        "duration": 413,
        "start_time": "2023-07-29T12:15:55.546Z"
      },
      {
        "duration": 363,
        "start_time": "2023-07-29T12:15:55.961Z"
      },
      {
        "duration": 16,
        "start_time": "2023-07-29T12:15:56.326Z"
      },
      {
        "duration": 26,
        "start_time": "2023-07-29T12:15:56.343Z"
      },
      {
        "duration": 90,
        "start_time": "2023-07-29T12:15:56.370Z"
      },
      {
        "duration": 98,
        "start_time": "2023-07-29T12:15:56.462Z"
      },
      {
        "duration": 91,
        "start_time": "2023-07-29T12:15:56.561Z"
      },
      {
        "duration": 242,
        "start_time": "2023-07-29T12:15:56.654Z"
      },
      {
        "duration": 58,
        "start_time": "2023-07-29T12:15:56.898Z"
      },
      {
        "duration": 214,
        "start_time": "2023-07-29T12:15:56.958Z"
      },
      {
        "duration": 217,
        "start_time": "2023-07-29T12:15:57.174Z"
      },
      {
        "duration": 59,
        "start_time": "2023-07-29T12:15:57.392Z"
      },
      {
        "duration": 49,
        "start_time": "2023-07-29T12:15:57.452Z"
      },
      {
        "duration": 220,
        "start_time": "2023-07-29T12:15:57.502Z"
      },
      {
        "duration": 320,
        "start_time": "2023-07-29T12:15:57.723Z"
      },
      {
        "duration": 7481,
        "start_time": "2023-07-29T12:15:58.045Z"
      },
      {
        "duration": 42,
        "start_time": "2023-07-29T12:16:05.528Z"
      },
      {
        "duration": 245,
        "start_time": "2023-07-29T12:16:05.571Z"
      },
      {
        "duration": 121,
        "start_time": "2023-07-29T12:16:05.821Z"
      },
      {
        "duration": 27,
        "start_time": "2023-07-29T12:16:05.944Z"
      },
      {
        "duration": 78,
        "start_time": "2023-07-29T12:16:05.973Z"
      },
      {
        "duration": 14,
        "start_time": "2023-07-29T12:16:06.052Z"
      },
      {
        "duration": 14,
        "start_time": "2023-07-29T12:16:06.070Z"
      },
      {
        "duration": 5,
        "start_time": "2023-07-29T12:16:06.086Z"
      },
      {
        "duration": 47,
        "start_time": "2023-07-29T12:16:06.092Z"
      },
      {
        "duration": 11,
        "start_time": "2023-07-29T12:16:06.141Z"
      },
      {
        "duration": 102,
        "start_time": "2023-07-29T12:16:06.153Z"
      },
      {
        "duration": 31,
        "start_time": "2023-07-29T12:16:06.256Z"
      },
      {
        "duration": 53,
        "start_time": "2023-07-29T12:16:06.288Z"
      },
      {
        "duration": 3345,
        "start_time": "2023-07-29T12:16:06.343Z"
      },
      {
        "duration": 1395,
        "start_time": "2023-07-29T12:30:19.854Z"
      },
      {
        "duration": 720,
        "start_time": "2023-07-29T12:30:21.250Z"
      },
      {
        "duration": 15,
        "start_time": "2023-07-29T12:30:21.971Z"
      },
      {
        "duration": 136,
        "start_time": "2023-07-29T12:30:21.989Z"
      },
      {
        "duration": 104,
        "start_time": "2023-07-29T12:30:22.127Z"
      },
      {
        "duration": 405,
        "start_time": "2023-07-29T12:30:22.233Z"
      },
      {
        "duration": 1208,
        "start_time": "2023-07-29T12:30:22.639Z"
      },
      {
        "duration": 3,
        "start_time": "2023-07-29T12:30:23.849Z"
      },
      {
        "duration": 8,
        "start_time": "2023-07-29T12:30:23.854Z"
      },
      {
        "duration": 441,
        "start_time": "2023-07-29T12:30:23.865Z"
      },
      {
        "duration": 390,
        "start_time": "2023-07-29T12:30:24.308Z"
      },
      {
        "duration": 24,
        "start_time": "2023-07-29T12:30:24.699Z"
      },
      {
        "duration": 21,
        "start_time": "2023-07-29T12:30:24.725Z"
      },
      {
        "duration": 99,
        "start_time": "2023-07-29T12:30:24.748Z"
      },
      {
        "duration": 100,
        "start_time": "2023-07-29T12:30:24.848Z"
      },
      {
        "duration": 95,
        "start_time": "2023-07-29T12:30:24.950Z"
      },
      {
        "duration": 288,
        "start_time": "2023-07-29T12:30:25.046Z"
      },
      {
        "duration": 61,
        "start_time": "2023-07-29T12:30:25.336Z"
      },
      {
        "duration": 234,
        "start_time": "2023-07-29T12:30:25.399Z"
      },
      {
        "duration": 226,
        "start_time": "2023-07-29T12:30:25.634Z"
      },
      {
        "duration": 61,
        "start_time": "2023-07-29T12:30:25.862Z"
      },
      {
        "duration": 49,
        "start_time": "2023-07-29T12:30:25.924Z"
      },
      {
        "duration": 224,
        "start_time": "2023-07-29T12:30:25.975Z"
      },
      {
        "duration": 349,
        "start_time": "2023-07-29T12:30:26.201Z"
      },
      {
        "duration": 8050,
        "start_time": "2023-07-29T12:30:26.552Z"
      },
      {
        "duration": 46,
        "start_time": "2023-07-29T12:30:34.603Z"
      },
      {
        "duration": 249,
        "start_time": "2023-07-29T12:30:34.650Z"
      },
      {
        "duration": 124,
        "start_time": "2023-07-29T12:30:34.903Z"
      },
      {
        "duration": 28,
        "start_time": "2023-07-29T12:30:35.028Z"
      },
      {
        "duration": 79,
        "start_time": "2023-07-29T12:30:35.057Z"
      },
      {
        "duration": 18,
        "start_time": "2023-07-29T12:30:35.138Z"
      },
      {
        "duration": 27,
        "start_time": "2023-07-29T12:30:35.158Z"
      },
      {
        "duration": 18,
        "start_time": "2023-07-29T12:30:35.187Z"
      },
      {
        "duration": 60,
        "start_time": "2023-07-29T12:30:35.207Z"
      },
      {
        "duration": 14,
        "start_time": "2023-07-29T12:30:35.269Z"
      },
      {
        "duration": 96,
        "start_time": "2023-07-29T12:30:35.286Z"
      },
      {
        "duration": 20,
        "start_time": "2023-07-29T12:30:35.384Z"
      },
      {
        "duration": 62,
        "start_time": "2023-07-29T12:30:35.406Z"
      },
      {
        "duration": 3411,
        "start_time": "2023-07-29T12:30:35.469Z"
      },
      {
        "duration": 103,
        "start_time": "2023-07-29T12:31:51.979Z"
      },
      {
        "duration": 4,
        "start_time": "2023-07-29T12:31:58.936Z"
      },
      {
        "duration": 1662,
        "start_time": "2023-07-29T12:40:17.827Z"
      },
      {
        "duration": 733,
        "start_time": "2023-07-29T12:40:19.490Z"
      },
      {
        "duration": 15,
        "start_time": "2023-07-29T12:40:20.224Z"
      },
      {
        "duration": 121,
        "start_time": "2023-07-29T12:40:20.241Z"
      },
      {
        "duration": 115,
        "start_time": "2023-07-29T12:40:20.364Z"
      },
      {
        "duration": 403,
        "start_time": "2023-07-29T12:40:20.480Z"
      },
      {
        "duration": 1169,
        "start_time": "2023-07-29T12:40:20.885Z"
      },
      {
        "duration": 3,
        "start_time": "2023-07-29T12:40:22.056Z"
      },
      {
        "duration": 20,
        "start_time": "2023-07-29T12:40:22.061Z"
      },
      {
        "duration": 401,
        "start_time": "2023-07-29T12:40:22.084Z"
      },
      {
        "duration": 369,
        "start_time": "2023-07-29T12:40:22.486Z"
      },
      {
        "duration": 17,
        "start_time": "2023-07-29T12:40:22.857Z"
      },
      {
        "duration": 20,
        "start_time": "2023-07-29T12:40:22.876Z"
      },
      {
        "duration": 98,
        "start_time": "2023-07-29T12:40:22.898Z"
      },
      {
        "duration": 99,
        "start_time": "2023-07-29T12:40:22.998Z"
      },
      {
        "duration": 98,
        "start_time": "2023-07-29T12:40:23.099Z"
      },
      {
        "duration": 249,
        "start_time": "2023-07-29T12:40:23.198Z"
      },
      {
        "duration": 53,
        "start_time": "2023-07-29T12:40:23.449Z"
      },
      {
        "duration": 233,
        "start_time": "2023-07-29T12:40:23.504Z"
      },
      {
        "duration": 219,
        "start_time": "2023-07-29T12:40:23.739Z"
      },
      {
        "duration": 63,
        "start_time": "2023-07-29T12:40:23.960Z"
      },
      {
        "duration": 50,
        "start_time": "2023-07-29T12:40:24.024Z"
      },
      {
        "duration": 223,
        "start_time": "2023-07-29T12:40:24.076Z"
      },
      {
        "duration": 323,
        "start_time": "2023-07-29T12:40:24.301Z"
      },
      {
        "duration": 7559,
        "start_time": "2023-07-29T12:40:24.626Z"
      },
      {
        "duration": 50,
        "start_time": "2023-07-29T12:40:32.186Z"
      },
      {
        "duration": 255,
        "start_time": "2023-07-29T12:40:32.237Z"
      },
      {
        "duration": 121,
        "start_time": "2023-07-29T12:40:32.495Z"
      },
      {
        "duration": 24,
        "start_time": "2023-07-29T12:40:32.619Z"
      },
      {
        "duration": 56,
        "start_time": "2023-07-29T12:40:32.644Z"
      },
      {
        "duration": 28,
        "start_time": "2023-07-29T12:40:32.702Z"
      },
      {
        "duration": 14,
        "start_time": "2023-07-29T12:40:32.731Z"
      },
      {
        "duration": 7,
        "start_time": "2023-07-29T12:40:32.747Z"
      },
      {
        "duration": 35,
        "start_time": "2023-07-29T12:40:32.755Z"
      },
      {
        "duration": 10,
        "start_time": "2023-07-29T12:40:32.792Z"
      },
      {
        "duration": 81,
        "start_time": "2023-07-29T12:40:32.803Z"
      },
      {
        "duration": 13,
        "start_time": "2023-07-29T12:40:32.886Z"
      },
      {
        "duration": 62,
        "start_time": "2023-07-29T12:40:32.900Z"
      },
      {
        "duration": 114,
        "start_time": "2023-07-29T12:40:32.963Z"
      },
      {
        "duration": 355,
        "start_time": "2023-07-29T12:41:35.636Z"
      },
      {
        "duration": 161,
        "start_time": "2023-07-29T12:41:55.163Z"
      },
      {
        "duration": 407,
        "start_time": "2023-07-29T12:42:22.835Z"
      },
      {
        "duration": 141,
        "start_time": "2023-07-29T12:43:05.443Z"
      },
      {
        "duration": 190,
        "start_time": "2023-07-29T12:43:10.362Z"
      },
      {
        "duration": 61,
        "start_time": "2023-07-29T12:43:33.307Z"
      },
      {
        "duration": 273,
        "start_time": "2023-07-29T12:44:02.082Z"
      },
      {
        "duration": 141,
        "start_time": "2023-07-29T12:44:14.513Z"
      },
      {
        "duration": 286,
        "start_time": "2023-07-29T12:44:30.181Z"
      },
      {
        "duration": 1194,
        "start_time": "2023-07-29T12:44:40.938Z"
      },
      {
        "duration": 1071,
        "start_time": "2023-07-29T12:44:54.186Z"
      },
      {
        "duration": 2378,
        "start_time": "2023-07-29T12:45:54.738Z"
      },
      {
        "duration": 2605,
        "start_time": "2023-07-29T12:48:20.351Z"
      },
      {
        "duration": 8,
        "start_time": "2023-07-29T12:50:02.423Z"
      },
      {
        "duration": 60,
        "start_time": "2023-07-29T12:50:25.393Z"
      },
      {
        "duration": 144,
        "start_time": "2023-07-29T12:50:37.126Z"
      },
      {
        "duration": 14,
        "start_time": "2023-07-29T12:50:56.781Z"
      },
      {
        "duration": 1478,
        "start_time": "2023-07-30T05:47:22.473Z"
      },
      {
        "duration": 1012,
        "start_time": "2023-07-30T05:47:23.952Z"
      },
      {
        "duration": 16,
        "start_time": "2023-07-30T05:47:24.965Z"
      },
      {
        "duration": 128,
        "start_time": "2023-07-30T05:47:24.983Z"
      },
      {
        "duration": 130,
        "start_time": "2023-07-30T05:47:25.113Z"
      },
      {
        "duration": 411,
        "start_time": "2023-07-30T05:47:25.246Z"
      },
      {
        "duration": 1208,
        "start_time": "2023-07-30T05:47:25.658Z"
      },
      {
        "duration": 3,
        "start_time": "2023-07-30T05:47:26.868Z"
      },
      {
        "duration": 20,
        "start_time": "2023-07-30T05:47:26.872Z"
      },
      {
        "duration": 434,
        "start_time": "2023-07-30T05:47:26.894Z"
      },
      {
        "duration": 393,
        "start_time": "2023-07-30T05:47:27.330Z"
      },
      {
        "duration": 17,
        "start_time": "2023-07-30T05:47:27.725Z"
      },
      {
        "duration": 56,
        "start_time": "2023-07-30T05:47:27.743Z"
      },
      {
        "duration": 113,
        "start_time": "2023-07-30T05:47:27.801Z"
      },
      {
        "duration": 108,
        "start_time": "2023-07-30T05:47:27.915Z"
      },
      {
        "duration": 103,
        "start_time": "2023-07-30T05:47:28.025Z"
      },
      {
        "duration": 264,
        "start_time": "2023-07-30T05:47:28.130Z"
      },
      {
        "duration": 61,
        "start_time": "2023-07-30T05:47:28.395Z"
      },
      {
        "duration": 226,
        "start_time": "2023-07-30T05:47:28.457Z"
      },
      {
        "duration": 225,
        "start_time": "2023-07-30T05:47:28.684Z"
      },
      {
        "duration": 52,
        "start_time": "2023-07-30T05:47:28.911Z"
      },
      {
        "duration": 56,
        "start_time": "2023-07-30T05:47:28.964Z"
      },
      {
        "duration": 225,
        "start_time": "2023-07-30T05:47:29.022Z"
      },
      {
        "duration": 374,
        "start_time": "2023-07-30T05:47:29.248Z"
      },
      {
        "duration": 8263,
        "start_time": "2023-07-30T05:47:29.624Z"
      },
      {
        "duration": 53,
        "start_time": "2023-07-30T05:47:37.888Z"
      },
      {
        "duration": 267,
        "start_time": "2023-07-30T05:47:37.943Z"
      },
      {
        "duration": 122,
        "start_time": "2023-07-30T05:47:38.213Z"
      },
      {
        "duration": 25,
        "start_time": "2023-07-30T05:47:38.337Z"
      },
      {
        "duration": 77,
        "start_time": "2023-07-30T05:47:38.363Z"
      },
      {
        "duration": 15,
        "start_time": "2023-07-30T05:47:38.441Z"
      },
      {
        "duration": 16,
        "start_time": "2023-07-30T05:47:38.457Z"
      },
      {
        "duration": 5,
        "start_time": "2023-07-30T05:47:38.475Z"
      },
      {
        "duration": 54,
        "start_time": "2023-07-30T05:47:38.481Z"
      },
      {
        "duration": 12,
        "start_time": "2023-07-30T05:47:38.537Z"
      },
      {
        "duration": 78,
        "start_time": "2023-07-30T05:47:38.550Z"
      },
      {
        "duration": 16,
        "start_time": "2023-07-30T05:47:38.630Z"
      },
      {
        "duration": 73,
        "start_time": "2023-07-30T05:47:38.647Z"
      },
      {
        "duration": 2820,
        "start_time": "2023-07-30T05:47:38.722Z"
      },
      {
        "duration": 163,
        "start_time": "2023-07-30T05:47:41.544Z"
      },
      {
        "duration": 19,
        "start_time": "2023-07-30T05:47:41.708Z"
      },
      {
        "duration": 141,
        "start_time": "2023-07-30T06:19:49.043Z"
      },
      {
        "duration": 3046,
        "start_time": "2023-07-30T06:20:16.916Z"
      },
      {
        "duration": 64,
        "start_time": "2023-07-30T06:20:23.403Z"
      },
      {
        "duration": 8568,
        "start_time": "2023-07-30T06:20:28.395Z"
      },
      {
        "duration": 107,
        "start_time": "2023-07-30T06:21:04.930Z"
      },
      {
        "duration": 2061,
        "start_time": "2023-07-30T06:25:31.548Z"
      },
      {
        "duration": 1331,
        "start_time": "2023-07-30T06:25:33.612Z"
      },
      {
        "duration": 816,
        "start_time": "2023-07-30T06:25:34.944Z"
      },
      {
        "duration": 15,
        "start_time": "2023-07-30T06:25:35.762Z"
      },
      {
        "duration": 139,
        "start_time": "2023-07-30T06:25:35.779Z"
      },
      {
        "duration": 116,
        "start_time": "2023-07-30T06:25:35.919Z"
      },
      {
        "duration": 434,
        "start_time": "2023-07-30T06:25:36.037Z"
      },
      {
        "duration": 1220,
        "start_time": "2023-07-30T06:25:36.473Z"
      },
      {
        "duration": 3,
        "start_time": "2023-07-30T06:25:37.694Z"
      },
      {
        "duration": 46,
        "start_time": "2023-07-30T06:25:37.699Z"
      },
      {
        "duration": 457,
        "start_time": "2023-07-30T06:25:37.747Z"
      },
      {
        "duration": 399,
        "start_time": "2023-07-30T06:25:38.205Z"
      },
      {
        "duration": 31,
        "start_time": "2023-07-30T06:25:38.606Z"
      },
      {
        "duration": 66,
        "start_time": "2023-07-30T06:25:38.640Z"
      },
      {
        "duration": 109,
        "start_time": "2023-07-30T06:25:38.708Z"
      },
      {
        "duration": 110,
        "start_time": "2023-07-30T06:25:38.819Z"
      },
      {
        "duration": 109,
        "start_time": "2023-07-30T06:25:38.930Z"
      },
      {
        "duration": 255,
        "start_time": "2023-07-30T06:25:39.041Z"
      },
      {
        "duration": 71,
        "start_time": "2023-07-30T06:25:39.298Z"
      },
      {
        "duration": 227,
        "start_time": "2023-07-30T06:25:39.370Z"
      },
      {
        "duration": 231,
        "start_time": "2023-07-30T06:25:39.598Z"
      },
      {
        "duration": 51,
        "start_time": "2023-07-30T06:25:39.830Z"
      },
      {
        "duration": 57,
        "start_time": "2023-07-30T06:25:39.883Z"
      },
      {
        "duration": 320,
        "start_time": "2023-07-30T06:25:39.942Z"
      },
      {
        "duration": 242,
        "start_time": "2023-07-30T06:25:40.263Z"
      },
      {
        "duration": 8427,
        "start_time": "2023-07-30T06:25:40.507Z"
      },
      {
        "duration": 40,
        "start_time": "2023-07-30T06:25:48.939Z"
      },
      {
        "duration": 260,
        "start_time": "2023-07-30T06:25:48.983Z"
      },
      {
        "duration": 128,
        "start_time": "2023-07-30T06:25:49.245Z"
      },
      {
        "duration": 25,
        "start_time": "2023-07-30T06:25:49.376Z"
      },
      {
        "duration": 89,
        "start_time": "2023-07-30T06:25:49.403Z"
      },
      {
        "duration": 14,
        "start_time": "2023-07-30T06:25:49.494Z"
      },
      {
        "duration": 29,
        "start_time": "2023-07-30T06:25:49.510Z"
      },
      {
        "duration": 6,
        "start_time": "2023-07-30T06:25:49.540Z"
      },
      {
        "duration": 36,
        "start_time": "2023-07-30T06:25:49.549Z"
      },
      {
        "duration": 11,
        "start_time": "2023-07-30T06:25:49.587Z"
      },
      {
        "duration": 90,
        "start_time": "2023-07-30T06:25:49.599Z"
      },
      {
        "duration": 15,
        "start_time": "2023-07-30T06:25:49.691Z"
      },
      {
        "duration": 66,
        "start_time": "2023-07-30T06:25:49.707Z"
      },
      {
        "duration": 2,
        "start_time": "2023-07-30T06:25:49.775Z"
      },
      {
        "duration": 8482,
        "start_time": "2023-07-30T06:25:49.778Z"
      },
      {
        "duration": 113,
        "start_time": "2023-07-30T06:25:58.261Z"
      },
      {
        "duration": 123,
        "start_time": "2023-07-30T06:25:58.375Z"
      },
      {
        "duration": 16,
        "start_time": "2023-07-30T06:26:04.064Z"
      },
      {
        "duration": 928,
        "start_time": "2023-07-30T06:30:12.269Z"
      },
      {
        "duration": 412,
        "start_time": "2023-07-30T06:30:36.286Z"
      },
      {
        "duration": 86,
        "start_time": "2023-07-30T06:36:48.947Z"
      },
      {
        "duration": 24,
        "start_time": "2023-07-30T06:40:24.081Z"
      },
      {
        "duration": 20,
        "start_time": "2023-07-30T06:41:22.536Z"
      },
      {
        "duration": 20,
        "start_time": "2023-07-30T06:41:24.863Z"
      },
      {
        "duration": 2104,
        "start_time": "2023-07-30T06:41:34.642Z"
      },
      {
        "duration": 1313,
        "start_time": "2023-07-30T06:41:36.748Z"
      },
      {
        "duration": 793,
        "start_time": "2023-07-30T06:41:38.063Z"
      },
      {
        "duration": 16,
        "start_time": "2023-07-30T06:41:38.862Z"
      },
      {
        "duration": 130,
        "start_time": "2023-07-30T06:41:38.879Z"
      },
      {
        "duration": 125,
        "start_time": "2023-07-30T06:41:39.011Z"
      },
      {
        "duration": 441,
        "start_time": "2023-07-30T06:41:39.138Z"
      },
      {
        "duration": 1271,
        "start_time": "2023-07-30T06:41:39.580Z"
      },
      {
        "duration": 4,
        "start_time": "2023-07-30T06:41:40.852Z"
      },
      {
        "duration": 7,
        "start_time": "2023-07-30T06:41:40.858Z"
      },
      {
        "duration": 488,
        "start_time": "2023-07-30T06:41:40.867Z"
      },
      {
        "duration": 407,
        "start_time": "2023-07-30T06:41:41.357Z"
      },
      {
        "duration": 17,
        "start_time": "2023-07-30T06:41:41.766Z"
      },
      {
        "duration": 28,
        "start_time": "2023-07-30T06:41:41.784Z"
      },
      {
        "duration": 37,
        "start_time": "2023-07-30T06:41:41.814Z"
      },
      {
        "duration": 28,
        "start_time": "2023-07-30T06:41:41.853Z"
      },
      {
        "duration": 28,
        "start_time": "2023-07-30T06:41:41.883Z"
      },
      {
        "duration": 95,
        "start_time": "2023-07-30T06:41:41.912Z"
      },
      {
        "duration": 103,
        "start_time": "2023-07-30T06:41:42.009Z"
      },
      {
        "duration": 97,
        "start_time": "2023-07-30T06:41:42.120Z"
      },
      {
        "duration": 258,
        "start_time": "2023-07-30T06:41:42.219Z"
      },
      {
        "duration": 61,
        "start_time": "2023-07-30T06:41:42.479Z"
      },
      {
        "duration": 227,
        "start_time": "2023-07-30T06:41:42.542Z"
      },
      {
        "duration": 234,
        "start_time": "2023-07-30T06:41:42.770Z"
      },
      {
        "duration": 64,
        "start_time": "2023-07-30T06:41:43.005Z"
      },
      {
        "duration": 61,
        "start_time": "2023-07-30T06:41:43.071Z"
      },
      {
        "duration": 347,
        "start_time": "2023-07-30T06:41:43.134Z"
      },
      {
        "duration": 262,
        "start_time": "2023-07-30T06:41:43.485Z"
      },
      {
        "duration": 8556,
        "start_time": "2023-07-30T06:41:43.749Z"
      },
      {
        "duration": 53,
        "start_time": "2023-07-30T06:41:52.306Z"
      },
      {
        "duration": 255,
        "start_time": "2023-07-30T06:41:52.360Z"
      },
      {
        "duration": 134,
        "start_time": "2023-07-30T06:41:52.617Z"
      },
      {
        "duration": 24,
        "start_time": "2023-07-30T06:41:52.753Z"
      },
      {
        "duration": 81,
        "start_time": "2023-07-30T06:41:52.778Z"
      },
      {
        "duration": 15,
        "start_time": "2023-07-30T06:41:52.861Z"
      },
      {
        "duration": 17,
        "start_time": "2023-07-30T06:41:52.878Z"
      },
      {
        "duration": 29,
        "start_time": "2023-07-30T06:41:52.896Z"
      },
      {
        "duration": 41,
        "start_time": "2023-07-30T06:41:52.926Z"
      },
      {
        "duration": 11,
        "start_time": "2023-07-30T06:41:52.969Z"
      },
      {
        "duration": 89,
        "start_time": "2023-07-30T06:41:52.982Z"
      },
      {
        "duration": 33,
        "start_time": "2023-07-30T06:41:53.073Z"
      },
      {
        "duration": 64,
        "start_time": "2023-07-30T06:41:53.108Z"
      },
      {
        "duration": 8530,
        "start_time": "2023-07-30T06:41:53.174Z"
      },
      {
        "duration": 1162,
        "start_time": "2023-07-30T06:42:01.706Z"
      },
      {
        "duration": 233,
        "start_time": "2023-07-30T06:48:27.163Z"
      },
      {
        "duration": 213,
        "start_time": "2023-07-30T06:48:37.699Z"
      },
      {
        "duration": 325,
        "start_time": "2023-07-30T06:53:57.576Z"
      },
      {
        "duration": 221,
        "start_time": "2023-07-30T06:54:06.737Z"
      },
      {
        "duration": 270,
        "start_time": "2023-07-30T06:54:35.344Z"
      },
      {
        "duration": 2260,
        "start_time": "2023-07-30T06:54:51.539Z"
      },
      {
        "duration": 1468,
        "start_time": "2023-07-30T06:54:53.802Z"
      },
      {
        "duration": 816,
        "start_time": "2023-07-30T06:54:55.273Z"
      },
      {
        "duration": 17,
        "start_time": "2023-07-30T06:54:56.090Z"
      },
      {
        "duration": 128,
        "start_time": "2023-07-30T06:54:56.109Z"
      },
      {
        "duration": 113,
        "start_time": "2023-07-30T06:54:56.238Z"
      },
      {
        "duration": 421,
        "start_time": "2023-07-30T06:54:56.352Z"
      },
      {
        "duration": 1312,
        "start_time": "2023-07-30T06:54:56.775Z"
      },
      {
        "duration": 3,
        "start_time": "2023-07-30T06:54:58.089Z"
      },
      {
        "duration": 14,
        "start_time": "2023-07-30T06:54:58.093Z"
      },
      {
        "duration": 480,
        "start_time": "2023-07-30T06:54:58.110Z"
      },
      {
        "duration": 430,
        "start_time": "2023-07-30T06:54:58.591Z"
      },
      {
        "duration": 28,
        "start_time": "2023-07-30T06:54:59.022Z"
      },
      {
        "duration": 19,
        "start_time": "2023-07-30T06:54:59.054Z"
      },
      {
        "duration": 29,
        "start_time": "2023-07-30T06:54:59.074Z"
      },
      {
        "duration": 45,
        "start_time": "2023-07-30T06:54:59.105Z"
      },
      {
        "duration": 26,
        "start_time": "2023-07-30T06:54:59.151Z"
      },
      {
        "duration": 161,
        "start_time": "2023-07-30T06:54:59.179Z"
      },
      {
        "duration": 135,
        "start_time": "2023-07-30T06:54:59.341Z"
      },
      {
        "duration": 111,
        "start_time": "2023-07-30T06:54:59.478Z"
      },
      {
        "duration": 265,
        "start_time": "2023-07-30T06:54:59.591Z"
      },
      {
        "duration": 62,
        "start_time": "2023-07-30T06:54:59.858Z"
      },
      {
        "duration": 244,
        "start_time": "2023-07-30T06:54:59.922Z"
      },
      {
        "duration": 244,
        "start_time": "2023-07-30T06:55:00.168Z"
      },
      {
        "duration": 56,
        "start_time": "2023-07-30T06:55:00.414Z"
      },
      {
        "duration": 76,
        "start_time": "2023-07-30T06:55:00.472Z"
      },
      {
        "duration": 342,
        "start_time": "2023-07-30T06:55:00.551Z"
      },
      {
        "duration": 261,
        "start_time": "2023-07-30T06:55:00.895Z"
      },
      {
        "duration": 248,
        "start_time": "2023-07-30T06:55:01.157Z"
      },
      {
        "duration": 8543,
        "start_time": "2023-07-30T06:55:01.407Z"
      },
      {
        "duration": 41,
        "start_time": "2023-07-30T06:55:09.952Z"
      },
      {
        "duration": 263,
        "start_time": "2023-07-30T06:55:09.994Z"
      },
      {
        "duration": 133,
        "start_time": "2023-07-30T06:55:10.258Z"
      },
      {
        "duration": 40,
        "start_time": "2023-07-30T06:55:10.393Z"
      },
      {
        "duration": 53,
        "start_time": "2023-07-30T06:55:10.434Z"
      },
      {
        "duration": 16,
        "start_time": "2023-07-30T06:55:10.488Z"
      },
      {
        "duration": 34,
        "start_time": "2023-07-30T06:55:10.505Z"
      },
      {
        "duration": 4,
        "start_time": "2023-07-30T06:55:10.540Z"
      },
      {
        "duration": 29,
        "start_time": "2023-07-30T06:55:10.546Z"
      },
      {
        "duration": 11,
        "start_time": "2023-07-30T06:55:10.576Z"
      },
      {
        "duration": 90,
        "start_time": "2023-07-30T06:55:10.591Z"
      },
      {
        "duration": 15,
        "start_time": "2023-07-30T06:55:10.683Z"
      },
      {
        "duration": 69,
        "start_time": "2023-07-30T06:55:10.700Z"
      },
      {
        "duration": 9264,
        "start_time": "2023-07-30T06:55:10.770Z"
      },
      {
        "duration": 1192,
        "start_time": "2023-07-30T06:55:20.036Z"
      },
      {
        "duration": 130,
        "start_time": "2023-07-30T07:15:07.529Z"
      },
      {
        "duration": 2051,
        "start_time": "2023-07-30T07:17:29.871Z"
      },
      {
        "duration": 1507,
        "start_time": "2023-07-30T07:17:31.925Z"
      },
      {
        "duration": 724,
        "start_time": "2023-07-30T07:17:33.436Z"
      },
      {
        "duration": 17,
        "start_time": "2023-07-30T07:17:34.161Z"
      },
      {
        "duration": 125,
        "start_time": "2023-07-30T07:17:34.180Z"
      },
      {
        "duration": 108,
        "start_time": "2023-07-30T07:17:34.306Z"
      },
      {
        "duration": 389,
        "start_time": "2023-07-30T07:17:34.420Z"
      },
      {
        "duration": 1276,
        "start_time": "2023-07-30T07:17:34.810Z"
      },
      {
        "duration": 3,
        "start_time": "2023-07-30T07:17:36.088Z"
      },
      {
        "duration": 13,
        "start_time": "2023-07-30T07:17:36.093Z"
      },
      {
        "duration": 404,
        "start_time": "2023-07-30T07:17:36.107Z"
      },
      {
        "duration": 400,
        "start_time": "2023-07-30T07:17:36.513Z"
      },
      {
        "duration": 28,
        "start_time": "2023-07-30T07:17:36.915Z"
      },
      {
        "duration": 27,
        "start_time": "2023-07-30T07:17:36.944Z"
      },
      {
        "duration": 24,
        "start_time": "2023-07-30T07:17:36.973Z"
      },
      {
        "duration": 31,
        "start_time": "2023-07-30T07:17:36.999Z"
      },
      {
        "duration": 28,
        "start_time": "2023-07-30T07:17:37.031Z"
      },
      {
        "duration": 91,
        "start_time": "2023-07-30T07:17:37.061Z"
      },
      {
        "duration": 106,
        "start_time": "2023-07-30T07:17:37.154Z"
      },
      {
        "duration": 101,
        "start_time": "2023-07-30T07:17:37.261Z"
      },
      {
        "duration": 266,
        "start_time": "2023-07-30T07:17:37.363Z"
      },
      {
        "duration": 47,
        "start_time": "2023-07-30T07:17:37.631Z"
      },
      {
        "duration": 229,
        "start_time": "2023-07-30T07:17:37.680Z"
      },
      {
        "duration": 242,
        "start_time": "2023-07-30T07:17:37.911Z"
      },
      {
        "duration": 72,
        "start_time": "2023-07-30T07:17:38.155Z"
      },
      {
        "duration": 47,
        "start_time": "2023-07-30T07:17:38.229Z"
      },
      {
        "duration": 318,
        "start_time": "2023-07-30T07:17:38.279Z"
      },
      {
        "duration": 239,
        "start_time": "2023-07-30T07:17:38.598Z"
      },
      {
        "duration": 226,
        "start_time": "2023-07-30T07:17:38.839Z"
      },
      {
        "duration": 7952,
        "start_time": "2023-07-30T07:17:39.067Z"
      },
      {
        "duration": 39,
        "start_time": "2023-07-30T07:17:47.021Z"
      },
      {
        "duration": 355,
        "start_time": "2023-07-30T07:17:47.062Z"
      },
      {
        "duration": 134,
        "start_time": "2023-07-30T07:17:47.418Z"
      },
      {
        "duration": 29,
        "start_time": "2023-07-30T07:17:47.553Z"
      },
      {
        "duration": 82,
        "start_time": "2023-07-30T07:17:47.584Z"
      },
      {
        "duration": 27,
        "start_time": "2023-07-30T07:17:47.668Z"
      },
      {
        "duration": 4,
        "start_time": "2023-07-30T07:17:47.696Z"
      },
      {
        "duration": 53,
        "start_time": "2023-07-30T07:17:47.701Z"
      },
      {
        "duration": 15,
        "start_time": "2023-07-30T07:17:47.755Z"
      },
      {
        "duration": 112,
        "start_time": "2023-07-30T07:17:47.772Z"
      },
      {
        "duration": 15,
        "start_time": "2023-07-30T07:17:47.886Z"
      },
      {
        "duration": 68,
        "start_time": "2023-07-30T07:17:47.902Z"
      },
      {
        "duration": 8304,
        "start_time": "2023-07-30T07:17:47.971Z"
      },
      {
        "duration": 1118,
        "start_time": "2023-07-30T07:17:56.277Z"
      },
      {
        "duration": 139,
        "start_time": "2023-07-30T07:19:59.561Z"
      },
      {
        "duration": 99,
        "start_time": "2023-07-30T07:52:04.606Z"
      },
      {
        "duration": 131,
        "start_time": "2023-07-30T07:52:13.102Z"
      },
      {
        "duration": 3,
        "start_time": "2023-07-30T07:52:32.638Z"
      },
      {
        "duration": 195,
        "start_time": "2023-07-30T07:52:38.350Z"
      },
      {
        "duration": 3167626,
        "start_time": "2023-07-30T07:52:59.635Z"
      },
      {
        "duration": 1828,
        "start_time": "2023-07-30T09:37:13.446Z"
      },
      {
        "duration": 899,
        "start_time": "2023-07-30T09:37:15.276Z"
      },
      {
        "duration": 14,
        "start_time": "2023-07-30T09:37:16.178Z"
      },
      {
        "duration": 155,
        "start_time": "2023-07-30T09:37:16.194Z"
      },
      {
        "duration": 146,
        "start_time": "2023-07-30T09:37:16.351Z"
      },
      {
        "duration": 466,
        "start_time": "2023-07-30T09:37:16.499Z"
      },
      {
        "duration": 1426,
        "start_time": "2023-07-30T09:37:16.970Z"
      },
      {
        "duration": 2,
        "start_time": "2023-07-30T09:37:18.398Z"
      },
      {
        "duration": 9,
        "start_time": "2023-07-30T09:37:18.402Z"
      },
      {
        "duration": 484,
        "start_time": "2023-07-30T09:37:18.424Z"
      },
      {
        "duration": 451,
        "start_time": "2023-07-30T09:37:18.910Z"
      },
      {
        "duration": 25,
        "start_time": "2023-07-30T09:37:19.363Z"
      },
      {
        "duration": 53,
        "start_time": "2023-07-30T09:37:19.390Z"
      },
      {
        "duration": 55,
        "start_time": "2023-07-30T09:37:19.446Z"
      },
      {
        "duration": 67,
        "start_time": "2023-07-30T09:37:19.503Z"
      },
      {
        "duration": 19,
        "start_time": "2023-07-30T09:37:19.572Z"
      },
      {
        "duration": 122,
        "start_time": "2023-07-30T09:37:19.592Z"
      },
      {
        "duration": 152,
        "start_time": "2023-07-30T09:37:19.716Z"
      },
      {
        "duration": 120,
        "start_time": "2023-07-30T09:37:19.873Z"
      },
      {
        "duration": 290,
        "start_time": "2023-07-30T09:37:19.995Z"
      },
      {
        "duration": 60,
        "start_time": "2023-07-30T09:37:20.287Z"
      },
      {
        "duration": 252,
        "start_time": "2023-07-30T09:37:20.349Z"
      },
      {
        "duration": 259,
        "start_time": "2023-07-30T09:37:20.603Z"
      },
      {
        "duration": 49,
        "start_time": "2023-07-30T09:37:20.864Z"
      },
      {
        "duration": 68,
        "start_time": "2023-07-30T09:37:20.915Z"
      },
      {
        "duration": 368,
        "start_time": "2023-07-30T09:37:20.984Z"
      },
      {
        "duration": 286,
        "start_time": "2023-07-30T09:37:21.354Z"
      },
      {
        "duration": 257,
        "start_time": "2023-07-30T09:37:21.641Z"
      },
      {
        "duration": 10107,
        "start_time": "2023-07-30T09:37:21.899Z"
      },
      {
        "duration": 43,
        "start_time": "2023-07-30T09:37:32.008Z"
      },
      {
        "duration": 359,
        "start_time": "2023-07-30T09:37:32.054Z"
      },
      {
        "duration": 159,
        "start_time": "2023-07-30T09:37:32.415Z"
      },
      {
        "duration": 24,
        "start_time": "2023-07-30T09:37:32.575Z"
      },
      {
        "duration": 82,
        "start_time": "2023-07-30T09:37:32.600Z"
      },
      {
        "duration": 29,
        "start_time": "2023-07-30T09:37:32.684Z"
      },
      {
        "duration": 18,
        "start_time": "2023-07-30T09:37:32.714Z"
      },
      {
        "duration": 96,
        "start_time": "2023-07-30T09:37:32.734Z"
      },
      {
        "duration": 20,
        "start_time": "2023-07-30T09:37:32.832Z"
      },
      {
        "duration": 116,
        "start_time": "2023-07-30T09:37:32.854Z"
      },
      {
        "duration": 17,
        "start_time": "2023-07-30T09:37:32.971Z"
      },
      {
        "duration": 83,
        "start_time": "2023-07-30T09:37:32.991Z"
      },
      {
        "duration": 135,
        "start_time": "2023-07-30T09:37:33.076Z"
      },
      {
        "duration": 0,
        "start_time": "2023-07-30T09:37:33.212Z"
      },
      {
        "duration": 0,
        "start_time": "2023-07-30T09:37:33.214Z"
      },
      {
        "duration": 16,
        "start_time": "2023-07-30T09:38:28.009Z"
      },
      {
        "duration": 1000,
        "start_time": "2023-07-30T09:38:35.415Z"
      },
      {
        "duration": 668,
        "start_time": "2023-07-30T09:38:53.039Z"
      },
      {
        "duration": 4,
        "start_time": "2023-07-30T09:40:30.093Z"
      },
      {
        "duration": 658,
        "start_time": "2023-07-30T09:40:39.351Z"
      },
      {
        "duration": 1687,
        "start_time": "2023-07-30T09:41:00.717Z"
      },
      {
        "duration": 900,
        "start_time": "2023-07-30T09:41:02.406Z"
      },
      {
        "duration": 35,
        "start_time": "2023-07-30T09:41:03.307Z"
      },
      {
        "duration": 190,
        "start_time": "2023-07-30T09:41:03.347Z"
      },
      {
        "duration": 150,
        "start_time": "2023-07-30T09:41:03.544Z"
      },
      {
        "duration": 480,
        "start_time": "2023-07-30T09:41:03.696Z"
      },
      {
        "duration": 1416,
        "start_time": "2023-07-30T09:41:04.177Z"
      },
      {
        "duration": 4,
        "start_time": "2023-07-30T09:41:05.595Z"
      },
      {
        "duration": 106,
        "start_time": "2023-07-30T09:41:05.600Z"
      },
      {
        "duration": 625,
        "start_time": "2023-07-30T09:41:05.709Z"
      },
      {
        "duration": 482,
        "start_time": "2023-07-30T09:41:06.336Z"
      },
      {
        "duration": 30,
        "start_time": "2023-07-30T09:41:06.819Z"
      },
      {
        "duration": 36,
        "start_time": "2023-07-30T09:41:06.858Z"
      },
      {
        "duration": 20,
        "start_time": "2023-07-30T09:41:06.896Z"
      },
      {
        "duration": 70,
        "start_time": "2023-07-30T09:41:06.917Z"
      },
      {
        "duration": 93,
        "start_time": "2023-07-30T09:41:06.989Z"
      },
      {
        "duration": 126,
        "start_time": "2023-07-30T09:41:07.083Z"
      },
      {
        "duration": 131,
        "start_time": "2023-07-30T09:41:07.211Z"
      },
      {
        "duration": 150,
        "start_time": "2023-07-30T09:41:07.343Z"
      },
      {
        "duration": 277,
        "start_time": "2023-07-30T09:41:07.494Z"
      },
      {
        "duration": 71,
        "start_time": "2023-07-30T09:41:07.774Z"
      },
      {
        "duration": 243,
        "start_time": "2023-07-30T09:41:07.853Z"
      },
      {
        "duration": 291,
        "start_time": "2023-07-30T09:41:08.098Z"
      },
      {
        "duration": 56,
        "start_time": "2023-07-30T09:41:08.391Z"
      },
      {
        "duration": 52,
        "start_time": "2023-07-30T09:41:08.450Z"
      },
      {
        "duration": 382,
        "start_time": "2023-07-30T09:41:08.503Z"
      },
      {
        "duration": 313,
        "start_time": "2023-07-30T09:41:08.887Z"
      },
      {
        "duration": 288,
        "start_time": "2023-07-30T09:41:09.204Z"
      },
      {
        "duration": 10879,
        "start_time": "2023-07-30T09:41:09.494Z"
      },
      {
        "duration": 42,
        "start_time": "2023-07-30T09:41:20.379Z"
      },
      {
        "duration": 310,
        "start_time": "2023-07-30T09:41:20.422Z"
      },
      {
        "duration": 157,
        "start_time": "2023-07-30T09:41:20.734Z"
      },
      {
        "duration": 27,
        "start_time": "2023-07-30T09:41:20.893Z"
      },
      {
        "duration": 82,
        "start_time": "2023-07-30T09:41:20.922Z"
      },
      {
        "duration": 56,
        "start_time": "2023-07-30T09:41:21.006Z"
      },
      {
        "duration": 6,
        "start_time": "2023-07-30T09:41:21.069Z"
      },
      {
        "duration": 28,
        "start_time": "2023-07-30T09:41:21.077Z"
      },
      {
        "duration": 33,
        "start_time": "2023-07-30T09:41:21.107Z"
      },
      {
        "duration": 141,
        "start_time": "2023-07-30T09:41:21.141Z"
      },
      {
        "duration": 17,
        "start_time": "2023-07-30T09:41:21.284Z"
      },
      {
        "duration": 93,
        "start_time": "2023-07-30T09:41:21.302Z"
      },
      {
        "duration": 1109,
        "start_time": "2023-07-30T09:41:21.398Z"
      },
      {
        "duration": 2,
        "start_time": "2023-07-30T09:41:22.509Z"
      },
      {
        "duration": 4775,
        "start_time": "2023-07-30T09:41:22.513Z"
      },
      {
        "duration": 1016450,
        "start_time": "2023-07-30T09:41:29.231Z"
      },
      {
        "duration": 328804,
        "start_time": "2023-07-30T09:58:25.683Z"
      },
      {
        "duration": 1857,
        "start_time": "2023-07-30T10:57:18.256Z"
      },
      {
        "duration": 926,
        "start_time": "2023-07-30T10:57:20.115Z"
      },
      {
        "duration": 20,
        "start_time": "2023-07-30T10:57:21.047Z"
      },
      {
        "duration": 153,
        "start_time": "2023-07-30T10:57:21.070Z"
      },
      {
        "duration": 233,
        "start_time": "2023-07-30T10:57:21.224Z"
      },
      {
        "duration": 533,
        "start_time": "2023-07-30T10:57:21.462Z"
      },
      {
        "duration": 1463,
        "start_time": "2023-07-30T10:57:21.996Z"
      },
      {
        "duration": 4,
        "start_time": "2023-07-30T10:57:23.463Z"
      },
      {
        "duration": 34,
        "start_time": "2023-07-30T10:57:23.468Z"
      },
      {
        "duration": 584,
        "start_time": "2023-07-30T10:57:23.505Z"
      },
      {
        "duration": 463,
        "start_time": "2023-07-30T10:57:24.091Z"
      },
      {
        "duration": 24,
        "start_time": "2023-07-30T10:57:24.556Z"
      },
      {
        "duration": 29,
        "start_time": "2023-07-30T10:57:24.582Z"
      },
      {
        "duration": 57,
        "start_time": "2023-07-30T10:57:24.612Z"
      },
      {
        "duration": 29,
        "start_time": "2023-07-30T10:57:24.672Z"
      },
      {
        "duration": 53,
        "start_time": "2023-07-30T10:57:24.703Z"
      },
      {
        "duration": 162,
        "start_time": "2023-07-30T10:57:24.757Z"
      },
      {
        "duration": 155,
        "start_time": "2023-07-30T10:57:24.921Z"
      },
      {
        "duration": 109,
        "start_time": "2023-07-30T10:57:25.078Z"
      },
      {
        "duration": 418,
        "start_time": "2023-07-30T10:57:25.189Z"
      },
      {
        "duration": 80,
        "start_time": "2023-07-30T10:57:25.609Z"
      },
      {
        "duration": 370,
        "start_time": "2023-07-30T10:57:25.693Z"
      },
      {
        "duration": 271,
        "start_time": "2023-07-30T10:57:26.065Z"
      },
      {
        "duration": 59,
        "start_time": "2023-07-30T10:57:26.350Z"
      },
      {
        "duration": 72,
        "start_time": "2023-07-30T10:57:26.410Z"
      },
      {
        "duration": 383,
        "start_time": "2023-07-30T10:57:26.485Z"
      },
      {
        "duration": 317,
        "start_time": "2023-07-30T10:57:26.871Z"
      },
      {
        "duration": 319,
        "start_time": "2023-07-30T10:57:27.193Z"
      },
      {
        "duration": 11276,
        "start_time": "2023-07-30T10:57:27.513Z"
      },
      {
        "duration": 57,
        "start_time": "2023-07-30T10:57:38.791Z"
      },
      {
        "duration": 462,
        "start_time": "2023-07-30T10:57:38.850Z"
      },
      {
        "duration": 203,
        "start_time": "2023-07-30T10:57:39.315Z"
      },
      {
        "duration": 39,
        "start_time": "2023-07-30T10:57:39.520Z"
      },
      {
        "duration": 125,
        "start_time": "2023-07-30T10:57:39.566Z"
      },
      {
        "duration": 44,
        "start_time": "2023-07-30T10:57:39.695Z"
      },
      {
        "duration": 5,
        "start_time": "2023-07-30T10:57:39.741Z"
      },
      {
        "duration": 109,
        "start_time": "2023-07-30T10:57:39.748Z"
      },
      {
        "duration": 42,
        "start_time": "2023-07-30T10:57:39.866Z"
      },
      {
        "duration": 191,
        "start_time": "2023-07-30T10:57:39.911Z"
      },
      {
        "duration": 33,
        "start_time": "2023-07-30T10:57:40.104Z"
      },
      {
        "duration": 112,
        "start_time": "2023-07-30T10:57:40.145Z"
      },
      {
        "duration": 1122,
        "start_time": "2023-07-30T10:57:40.259Z"
      },
      {
        "duration": 8,
        "start_time": "2023-07-30T10:57:41.382Z"
      },
      {
        "duration": 129025,
        "start_time": "2023-07-30T10:57:41.392Z"
      },
      {
        "duration": 6559,
        "start_time": "2023-07-30T10:59:50.418Z"
      },
      {
        "duration": 6,
        "start_time": "2023-07-30T10:59:56.980Z"
      },
      {
        "duration": 1770,
        "start_time": "2023-07-30T11:00:32.572Z"
      },
      {
        "duration": 945,
        "start_time": "2023-07-30T11:00:34.344Z"
      },
      {
        "duration": 23,
        "start_time": "2023-07-30T11:00:35.291Z"
      },
      {
        "duration": 241,
        "start_time": "2023-07-30T11:00:35.316Z"
      },
      {
        "duration": 199,
        "start_time": "2023-07-30T11:00:35.559Z"
      },
      {
        "duration": 673,
        "start_time": "2023-07-30T11:00:35.760Z"
      },
      {
        "duration": 1864,
        "start_time": "2023-07-30T11:00:36.435Z"
      },
      {
        "duration": 4,
        "start_time": "2023-07-30T11:00:38.301Z"
      },
      {
        "duration": 51,
        "start_time": "2023-07-30T11:00:38.306Z"
      },
      {
        "duration": 653,
        "start_time": "2023-07-30T11:00:38.364Z"
      },
      {
        "duration": 672,
        "start_time": "2023-07-30T11:00:39.030Z"
      },
      {
        "duration": 31,
        "start_time": "2023-07-30T11:00:39.705Z"
      },
      {
        "duration": 152,
        "start_time": "2023-07-30T11:00:39.742Z"
      },
      {
        "duration": 49,
        "start_time": "2023-07-30T11:00:39.896Z"
      },
      {
        "duration": 71,
        "start_time": "2023-07-30T11:00:39.946Z"
      },
      {
        "duration": 74,
        "start_time": "2023-07-30T11:00:40.025Z"
      },
      {
        "duration": 132,
        "start_time": "2023-07-30T11:00:40.101Z"
      },
      {
        "duration": 134,
        "start_time": "2023-07-30T11:00:40.245Z"
      },
      {
        "duration": 117,
        "start_time": "2023-07-30T11:00:40.381Z"
      },
      {
        "duration": 306,
        "start_time": "2023-07-30T11:00:40.500Z"
      },
      {
        "duration": 76,
        "start_time": "2023-07-30T11:00:40.809Z"
      },
      {
        "duration": 285,
        "start_time": "2023-07-30T11:00:40.888Z"
      },
      {
        "duration": 288,
        "start_time": "2023-07-30T11:00:41.177Z"
      },
      {
        "duration": 66,
        "start_time": "2023-07-30T11:00:41.467Z"
      },
      {
        "duration": 73,
        "start_time": "2023-07-30T11:00:41.535Z"
      },
      {
        "duration": 366,
        "start_time": "2023-07-30T11:00:41.609Z"
      },
      {
        "duration": 297,
        "start_time": "2023-07-30T11:00:41.977Z"
      },
      {
        "duration": 358,
        "start_time": "2023-07-30T11:00:42.279Z"
      },
      {
        "duration": 11228,
        "start_time": "2023-07-30T11:00:42.639Z"
      },
      {
        "duration": 60,
        "start_time": "2023-07-30T11:00:53.869Z"
      },
      {
        "duration": 307,
        "start_time": "2023-07-30T11:00:53.930Z"
      },
      {
        "duration": 171,
        "start_time": "2023-07-30T11:00:54.239Z"
      },
      {
        "duration": 42,
        "start_time": "2023-07-30T11:00:54.412Z"
      },
      {
        "duration": 75,
        "start_time": "2023-07-30T11:00:54.460Z"
      },
      {
        "duration": 42,
        "start_time": "2023-07-30T11:00:54.537Z"
      },
      {
        "duration": 6,
        "start_time": "2023-07-30T11:00:54.581Z"
      },
      {
        "duration": 46,
        "start_time": "2023-07-30T11:00:54.590Z"
      },
      {
        "duration": 12,
        "start_time": "2023-07-30T11:00:54.638Z"
      },
      {
        "duration": 112,
        "start_time": "2023-07-30T11:00:54.652Z"
      },
      {
        "duration": 18,
        "start_time": "2023-07-30T11:00:54.766Z"
      },
      {
        "duration": 92,
        "start_time": "2023-07-30T11:00:54.786Z"
      },
      {
        "duration": 25,
        "start_time": "2023-07-30T11:00:54.880Z"
      },
      {
        "duration": 1110,
        "start_time": "2023-07-30T11:00:54.906Z"
      },
      {
        "duration": 9,
        "start_time": "2023-07-30T11:00:56.018Z"
      },
      {
        "duration": 992,
        "start_time": "2023-07-30T11:01:35.850Z"
      },
      {
        "duration": 21,
        "start_time": "2023-07-30T11:02:36.482Z"
      },
      {
        "duration": 10,
        "start_time": "2023-07-30T11:02:52.957Z"
      },
      {
        "duration": 4,
        "start_time": "2023-07-30T11:06:40.695Z"
      },
      {
        "duration": 9,
        "start_time": "2023-07-30T11:06:44.961Z"
      },
      {
        "duration": 719,
        "start_time": "2023-07-30T11:06:46.362Z"
      },
      {
        "duration": 1742,
        "start_time": "2023-07-30T11:06:54.602Z"
      },
      {
        "duration": 1111,
        "start_time": "2023-07-30T11:06:56.349Z"
      },
      {
        "duration": 19,
        "start_time": "2023-07-30T11:06:57.461Z"
      },
      {
        "duration": 185,
        "start_time": "2023-07-30T11:06:57.483Z"
      },
      {
        "duration": 161,
        "start_time": "2023-07-30T11:06:57.670Z"
      },
      {
        "duration": 616,
        "start_time": "2023-07-30T11:06:57.832Z"
      },
      {
        "duration": 1927,
        "start_time": "2023-07-30T11:06:58.453Z"
      },
      {
        "duration": 4,
        "start_time": "2023-07-30T11:07:00.382Z"
      },
      {
        "duration": 39,
        "start_time": "2023-07-30T11:07:00.387Z"
      },
      {
        "duration": 763,
        "start_time": "2023-07-30T11:07:00.430Z"
      },
      {
        "duration": 626,
        "start_time": "2023-07-30T11:07:01.195Z"
      },
      {
        "duration": 42,
        "start_time": "2023-07-30T11:07:01.823Z"
      },
      {
        "duration": 36,
        "start_time": "2023-07-30T11:07:01.874Z"
      },
      {
        "duration": 105,
        "start_time": "2023-07-30T11:07:01.912Z"
      },
      {
        "duration": 126,
        "start_time": "2023-07-30T11:07:02.019Z"
      },
      {
        "duration": 63,
        "start_time": "2023-07-30T11:07:02.147Z"
      },
      {
        "duration": 232,
        "start_time": "2023-07-30T11:07:02.211Z"
      },
      {
        "duration": 195,
        "start_time": "2023-07-30T11:07:02.460Z"
      },
      {
        "duration": 117,
        "start_time": "2023-07-30T11:07:02.659Z"
      },
      {
        "duration": 333,
        "start_time": "2023-07-30T11:07:02.780Z"
      },
      {
        "duration": 67,
        "start_time": "2023-07-30T11:07:03.120Z"
      },
      {
        "duration": 327,
        "start_time": "2023-07-30T11:07:03.189Z"
      },
      {
        "duration": 375,
        "start_time": "2023-07-30T11:07:03.532Z"
      },
      {
        "duration": 70,
        "start_time": "2023-07-30T11:07:03.909Z"
      },
      {
        "duration": 74,
        "start_time": "2023-07-30T11:07:03.985Z"
      },
      {
        "duration": 447,
        "start_time": "2023-07-30T11:07:04.065Z"
      },
      {
        "duration": 317,
        "start_time": "2023-07-30T11:07:04.514Z"
      },
      {
        "duration": 318,
        "start_time": "2023-07-30T11:07:04.835Z"
      },
      {
        "duration": 13312,
        "start_time": "2023-07-30T11:07:05.157Z"
      },
      {
        "duration": 62,
        "start_time": "2023-07-30T11:07:18.471Z"
      },
      {
        "duration": 414,
        "start_time": "2023-07-30T11:07:18.535Z"
      },
      {
        "duration": 200,
        "start_time": "2023-07-30T11:07:18.959Z"
      },
      {
        "duration": 33,
        "start_time": "2023-07-30T11:07:19.174Z"
      },
      {
        "duration": 100,
        "start_time": "2023-07-30T11:07:19.209Z"
      },
      {
        "duration": 65,
        "start_time": "2023-07-30T11:07:19.314Z"
      },
      {
        "duration": 18,
        "start_time": "2023-07-30T11:07:19.381Z"
      },
      {
        "duration": 80,
        "start_time": "2023-07-30T11:07:19.401Z"
      },
      {
        "duration": 24,
        "start_time": "2023-07-30T11:07:19.484Z"
      },
      {
        "duration": 224,
        "start_time": "2023-07-30T11:07:19.510Z"
      },
      {
        "duration": 24,
        "start_time": "2023-07-30T11:07:19.745Z"
      },
      {
        "duration": 103,
        "start_time": "2023-07-30T11:07:19.772Z"
      },
      {
        "duration": 4,
        "start_time": "2023-07-30T11:07:19.879Z"
      },
      {
        "duration": 55,
        "start_time": "2023-07-30T11:07:19.884Z"
      },
      {
        "duration": 1153,
        "start_time": "2023-07-30T11:07:19.944Z"
      },
      {
        "duration": 3,
        "start_time": "2023-07-30T11:07:21.100Z"
      },
      {
        "duration": 625,
        "start_time": "2023-07-30T11:10:11.765Z"
      },
      {
        "duration": 551,
        "start_time": "2023-07-30T11:10:46.684Z"
      },
      {
        "duration": 763,
        "start_time": "2023-07-30T11:12:32.350Z"
      },
      {
        "duration": 806,
        "start_time": "2023-07-30T11:13:57.398Z"
      },
      {
        "duration": 829,
        "start_time": "2023-07-30T11:14:01.767Z"
      },
      {
        "duration": 1658,
        "start_time": "2023-07-30T11:38:36.244Z"
      },
      {
        "duration": 994,
        "start_time": "2023-07-30T11:38:37.904Z"
      },
      {
        "duration": 46,
        "start_time": "2023-07-30T11:38:38.900Z"
      },
      {
        "duration": 187,
        "start_time": "2023-07-30T11:38:38.951Z"
      },
      {
        "duration": 175,
        "start_time": "2023-07-30T11:38:39.142Z"
      },
      {
        "duration": 591,
        "start_time": "2023-07-30T11:38:39.318Z"
      },
      {
        "duration": 1466,
        "start_time": "2023-07-30T11:38:39.911Z"
      },
      {
        "duration": 6,
        "start_time": "2023-07-30T11:38:41.379Z"
      },
      {
        "duration": 49,
        "start_time": "2023-07-30T11:38:41.386Z"
      },
      {
        "duration": 571,
        "start_time": "2023-07-30T11:38:41.437Z"
      },
      {
        "duration": 479,
        "start_time": "2023-07-30T11:38:42.010Z"
      },
      {
        "duration": 17,
        "start_time": "2023-07-30T11:38:42.494Z"
      },
      {
        "duration": 68,
        "start_time": "2023-07-30T11:38:42.513Z"
      },
      {
        "duration": 57,
        "start_time": "2023-07-30T11:38:42.587Z"
      },
      {
        "duration": 62,
        "start_time": "2023-07-30T11:38:42.656Z"
      },
      {
        "duration": 91,
        "start_time": "2023-07-30T11:38:42.722Z"
      },
      {
        "duration": 121,
        "start_time": "2023-07-30T11:38:42.815Z"
      },
      {
        "duration": 167,
        "start_time": "2023-07-30T11:38:42.938Z"
      },
      {
        "duration": 96,
        "start_time": "2023-07-30T11:38:43.107Z"
      },
      {
        "duration": 313,
        "start_time": "2023-07-30T11:38:43.204Z"
      },
      {
        "duration": 62,
        "start_time": "2023-07-30T11:38:43.519Z"
      },
      {
        "duration": 258,
        "start_time": "2023-07-30T11:38:43.583Z"
      },
      {
        "duration": 248,
        "start_time": "2023-07-30T11:38:43.843Z"
      },
      {
        "duration": 61,
        "start_time": "2023-07-30T11:38:44.092Z"
      },
      {
        "duration": 49,
        "start_time": "2023-07-30T11:38:44.155Z"
      },
      {
        "duration": 405,
        "start_time": "2023-07-30T11:38:44.206Z"
      },
      {
        "duration": 328,
        "start_time": "2023-07-30T11:38:44.612Z"
      },
      {
        "duration": 346,
        "start_time": "2023-07-30T11:38:44.947Z"
      },
      {
        "duration": 12224,
        "start_time": "2023-07-30T11:38:45.298Z"
      },
      {
        "duration": 61,
        "start_time": "2023-07-30T11:38:57.523Z"
      },
      {
        "duration": 321,
        "start_time": "2023-07-30T11:38:57.586Z"
      },
      {
        "duration": 198,
        "start_time": "2023-07-30T11:38:57.909Z"
      },
      {
        "duration": 35,
        "start_time": "2023-07-30T11:38:58.109Z"
      },
      {
        "duration": 140,
        "start_time": "2023-07-30T11:38:58.146Z"
      },
      {
        "duration": 37,
        "start_time": "2023-07-30T11:38:58.291Z"
      },
      {
        "duration": 65,
        "start_time": "2023-07-30T11:38:58.330Z"
      },
      {
        "duration": 72,
        "start_time": "2023-07-30T11:38:58.397Z"
      },
      {
        "duration": 22,
        "start_time": "2023-07-30T11:38:58.471Z"
      },
      {
        "duration": 196,
        "start_time": "2023-07-30T11:38:58.495Z"
      },
      {
        "duration": 22,
        "start_time": "2023-07-30T11:38:58.692Z"
      },
      {
        "duration": 105,
        "start_time": "2023-07-30T11:38:58.716Z"
      },
      {
        "duration": 2,
        "start_time": "2023-07-30T11:38:58.822Z"
      },
      {
        "duration": 82,
        "start_time": "2023-07-30T11:38:58.825Z"
      },
      {
        "duration": 1356,
        "start_time": "2023-07-30T11:38:58.909Z"
      },
      {
        "duration": 50,
        "start_time": "2023-07-30T11:39:00.267Z"
      },
      {
        "duration": 93,
        "start_time": "2023-07-30T11:39:00.324Z"
      },
      {
        "duration": 8,
        "start_time": "2023-07-30T11:39:30.480Z"
      },
      {
        "duration": 58,
        "start_time": "2023-07-30T11:39:35.483Z"
      },
      {
        "duration": 1881,
        "start_time": "2023-07-30T11:39:45.848Z"
      },
      {
        "duration": 957,
        "start_time": "2023-07-30T11:39:47.732Z"
      },
      {
        "duration": 19,
        "start_time": "2023-07-30T11:39:48.691Z"
      },
      {
        "duration": 203,
        "start_time": "2023-07-30T11:39:48.711Z"
      },
      {
        "duration": 171,
        "start_time": "2023-07-30T11:39:48.916Z"
      },
      {
        "duration": 665,
        "start_time": "2023-07-30T11:39:49.088Z"
      },
      {
        "duration": 1741,
        "start_time": "2023-07-30T11:39:49.755Z"
      },
      {
        "duration": 3,
        "start_time": "2023-07-30T11:39:51.501Z"
      },
      {
        "duration": 59,
        "start_time": "2023-07-30T11:39:51.506Z"
      },
      {
        "duration": 674,
        "start_time": "2023-07-30T11:39:51.567Z"
      },
      {
        "duration": 482,
        "start_time": "2023-07-30T11:39:52.243Z"
      },
      {
        "duration": 55,
        "start_time": "2023-07-30T11:39:52.726Z"
      },
      {
        "duration": 30,
        "start_time": "2023-07-30T11:39:52.783Z"
      },
      {
        "duration": 83,
        "start_time": "2023-07-30T11:39:52.817Z"
      },
      {
        "duration": 50,
        "start_time": "2023-07-30T11:39:52.901Z"
      },
      {
        "duration": 61,
        "start_time": "2023-07-30T11:39:52.952Z"
      },
      {
        "duration": 226,
        "start_time": "2023-07-30T11:39:53.015Z"
      },
      {
        "duration": 226,
        "start_time": "2023-07-30T11:39:53.247Z"
      },
      {
        "duration": 224,
        "start_time": "2023-07-30T11:39:53.479Z"
      },
      {
        "duration": 398,
        "start_time": "2023-07-30T11:39:53.705Z"
      },
      {
        "duration": 82,
        "start_time": "2023-07-30T11:39:54.105Z"
      },
      {
        "duration": 313,
        "start_time": "2023-07-30T11:39:54.190Z"
      },
      {
        "duration": 266,
        "start_time": "2023-07-30T11:39:54.505Z"
      },
      {
        "duration": 50,
        "start_time": "2023-07-30T11:39:54.775Z"
      },
      {
        "duration": 67,
        "start_time": "2023-07-30T11:39:54.828Z"
      },
      {
        "duration": 502,
        "start_time": "2023-07-30T11:39:54.901Z"
      },
      {
        "duration": 378,
        "start_time": "2023-07-30T11:39:55.405Z"
      },
      {
        "duration": 360,
        "start_time": "2023-07-30T11:39:55.785Z"
      },
      {
        "duration": 12050,
        "start_time": "2023-07-30T11:39:56.148Z"
      },
      {
        "duration": 69,
        "start_time": "2023-07-30T11:40:08.200Z"
      },
      {
        "duration": 297,
        "start_time": "2023-07-30T11:40:08.271Z"
      },
      {
        "duration": 142,
        "start_time": "2023-07-30T11:40:08.569Z"
      },
      {
        "duration": 38,
        "start_time": "2023-07-30T11:40:08.713Z"
      },
      {
        "duration": 111,
        "start_time": "2023-07-30T11:40:08.753Z"
      },
      {
        "duration": 36,
        "start_time": "2023-07-30T11:40:08.867Z"
      },
      {
        "duration": 5,
        "start_time": "2023-07-30T11:40:08.905Z"
      },
      {
        "duration": 56,
        "start_time": "2023-07-30T11:40:08.912Z"
      },
      {
        "duration": 39,
        "start_time": "2023-07-30T11:40:08.971Z"
      },
      {
        "duration": 176,
        "start_time": "2023-07-30T11:40:09.013Z"
      },
      {
        "duration": 27,
        "start_time": "2023-07-30T11:40:09.191Z"
      },
      {
        "duration": 84,
        "start_time": "2023-07-30T11:40:09.227Z"
      },
      {
        "duration": 41,
        "start_time": "2023-07-30T11:40:09.313Z"
      },
      {
        "duration": 1163,
        "start_time": "2023-07-30T11:40:09.366Z"
      },
      {
        "duration": 22,
        "start_time": "2023-07-30T11:40:10.534Z"
      },
      {
        "duration": 88,
        "start_time": "2023-07-30T11:40:10.561Z"
      },
      {
        "duration": 1290330,
        "start_time": "2023-07-30T11:41:57.399Z"
      },
      {
        "duration": 4,
        "start_time": "2023-07-30T12:03:47.903Z"
      },
      {
        "duration": 872824,
        "start_time": "2023-07-30T12:03:58.291Z"
      },
      {
        "duration": 246,
        "start_time": "2023-07-30T12:18:31.118Z"
      },
      {
        "duration": 806991,
        "start_time": "2023-07-30T12:45:43.215Z"
      },
      {
        "duration": 17,
        "start_time": "2023-07-30T12:59:13.582Z"
      },
      {
        "duration": 1828,
        "start_time": "2023-07-30T12:59:22.844Z"
      },
      {
        "duration": 1025,
        "start_time": "2023-07-30T12:59:24.674Z"
      },
      {
        "duration": 17,
        "start_time": "2023-07-30T12:59:25.701Z"
      },
      {
        "duration": 269,
        "start_time": "2023-07-30T12:59:25.720Z"
      },
      {
        "duration": 148,
        "start_time": "2023-07-30T12:59:25.991Z"
      },
      {
        "duration": 529,
        "start_time": "2023-07-30T12:59:26.140Z"
      },
      {
        "duration": 1399,
        "start_time": "2023-07-30T12:59:26.678Z"
      },
      {
        "duration": 4,
        "start_time": "2023-07-30T12:59:28.081Z"
      },
      {
        "duration": 102,
        "start_time": "2023-07-30T12:59:28.087Z"
      },
      {
        "duration": 613,
        "start_time": "2023-07-30T12:59:28.191Z"
      },
      {
        "duration": 593,
        "start_time": "2023-07-30T12:59:28.806Z"
      },
      {
        "duration": 38,
        "start_time": "2023-07-30T12:59:29.401Z"
      },
      {
        "duration": 98,
        "start_time": "2023-07-30T12:59:29.440Z"
      },
      {
        "duration": 63,
        "start_time": "2023-07-30T12:59:29.541Z"
      },
      {
        "duration": 92,
        "start_time": "2023-07-30T12:59:29.606Z"
      },
      {
        "duration": 102,
        "start_time": "2023-07-30T12:59:29.700Z"
      },
      {
        "duration": 187,
        "start_time": "2023-07-30T12:59:29.804Z"
      },
      {
        "duration": 151,
        "start_time": "2023-07-30T12:59:29.992Z"
      },
      {
        "duration": 255,
        "start_time": "2023-07-30T12:59:30.144Z"
      },
      {
        "duration": 312,
        "start_time": "2023-07-30T12:59:30.401Z"
      },
      {
        "duration": 67,
        "start_time": "2023-07-30T12:59:30.715Z"
      },
      {
        "duration": 311,
        "start_time": "2023-07-30T12:59:30.784Z"
      },
      {
        "duration": 284,
        "start_time": "2023-07-30T12:59:31.097Z"
      },
      {
        "duration": 60,
        "start_time": "2023-07-30T12:59:31.383Z"
      },
      {
        "duration": 116,
        "start_time": "2023-07-30T12:59:31.444Z"
      },
      {
        "duration": 403,
        "start_time": "2023-07-30T12:59:31.562Z"
      },
      {
        "duration": 318,
        "start_time": "2023-07-30T12:59:31.967Z"
      },
      {
        "duration": 300,
        "start_time": "2023-07-30T12:59:32.293Z"
      },
      {
        "duration": 10973,
        "start_time": "2023-07-30T12:59:32.594Z"
      },
      {
        "duration": 42,
        "start_time": "2023-07-30T12:59:43.571Z"
      },
      {
        "duration": 287,
        "start_time": "2023-07-30T12:59:43.614Z"
      },
      {
        "duration": 162,
        "start_time": "2023-07-30T12:59:43.903Z"
      },
      {
        "duration": 27,
        "start_time": "2023-07-30T12:59:44.077Z"
      },
      {
        "duration": 87,
        "start_time": "2023-07-30T12:59:44.105Z"
      },
      {
        "duration": 32,
        "start_time": "2023-07-30T12:59:44.194Z"
      },
      {
        "duration": 5,
        "start_time": "2023-07-30T12:59:44.227Z"
      },
      {
        "duration": 106,
        "start_time": "2023-07-30T12:59:44.233Z"
      },
      {
        "duration": 25,
        "start_time": "2023-07-30T12:59:44.350Z"
      },
      {
        "duration": 109,
        "start_time": "2023-07-30T12:59:44.376Z"
      },
      {
        "duration": 159,
        "start_time": "2023-07-30T12:59:44.487Z"
      },
      {
        "duration": 27,
        "start_time": "2023-07-30T12:59:44.650Z"
      },
      {
        "duration": 25,
        "start_time": "2023-07-30T12:59:44.680Z"
      },
      {
        "duration": 1203,
        "start_time": "2023-07-30T12:59:44.707Z"
      },
      {
        "duration": 172,
        "start_time": "2023-07-30T12:59:45.913Z"
      },
      {
        "duration": 0,
        "start_time": "2023-07-30T12:59:46.087Z"
      },
      {
        "duration": 0,
        "start_time": "2023-07-30T12:59:46.092Z"
      },
      {
        "duration": 0,
        "start_time": "2023-07-30T12:59:46.093Z"
      },
      {
        "duration": 0,
        "start_time": "2023-07-30T12:59:46.094Z"
      },
      {
        "duration": 0,
        "start_time": "2023-07-30T12:59:46.095Z"
      },
      {
        "duration": 1855,
        "start_time": "2023-07-30T13:05:01.010Z"
      },
      {
        "duration": 848,
        "start_time": "2023-07-30T13:05:02.868Z"
      },
      {
        "duration": 17,
        "start_time": "2023-07-30T13:05:03.718Z"
      },
      {
        "duration": 180,
        "start_time": "2023-07-30T13:05:03.736Z"
      },
      {
        "duration": 161,
        "start_time": "2023-07-30T13:05:03.917Z"
      },
      {
        "duration": 427,
        "start_time": "2023-07-30T13:05:04.079Z"
      },
      {
        "duration": 1369,
        "start_time": "2023-07-30T13:05:04.507Z"
      },
      {
        "duration": 2,
        "start_time": "2023-07-30T13:05:05.878Z"
      },
      {
        "duration": 88,
        "start_time": "2023-07-30T13:05:05.882Z"
      },
      {
        "duration": 521,
        "start_time": "2023-07-30T13:05:05.972Z"
      },
      {
        "duration": 466,
        "start_time": "2023-07-30T13:05:06.495Z"
      },
      {
        "duration": 22,
        "start_time": "2023-07-30T13:05:06.963Z"
      },
      {
        "duration": 27,
        "start_time": "2023-07-30T13:05:06.986Z"
      },
      {
        "duration": 56,
        "start_time": "2023-07-30T13:05:07.030Z"
      },
      {
        "duration": 20,
        "start_time": "2023-07-30T13:05:07.088Z"
      },
      {
        "duration": 73,
        "start_time": "2023-07-30T13:05:07.109Z"
      },
      {
        "duration": 115,
        "start_time": "2023-07-30T13:05:07.184Z"
      },
      {
        "duration": 127,
        "start_time": "2023-07-30T13:05:07.301Z"
      },
      {
        "duration": 99,
        "start_time": "2023-07-30T13:05:07.430Z"
      },
      {
        "duration": 274,
        "start_time": "2023-07-30T13:05:07.531Z"
      },
      {
        "duration": 76,
        "start_time": "2023-07-30T13:05:07.807Z"
      },
      {
        "duration": 234,
        "start_time": "2023-07-30T13:05:07.884Z"
      },
      {
        "duration": 277,
        "start_time": "2023-07-30T13:05:08.119Z"
      },
      {
        "duration": 70,
        "start_time": "2023-07-30T13:05:08.397Z"
      },
      {
        "duration": 48,
        "start_time": "2023-07-30T13:05:08.468Z"
      },
      {
        "duration": 348,
        "start_time": "2023-07-30T13:05:08.529Z"
      },
      {
        "duration": 312,
        "start_time": "2023-07-30T13:05:08.879Z"
      },
      {
        "duration": 323,
        "start_time": "2023-07-30T13:05:09.195Z"
      },
      {
        "duration": 9699,
        "start_time": "2023-07-30T13:05:09.519Z"
      },
      {
        "duration": 66,
        "start_time": "2023-07-30T13:05:19.219Z"
      },
      {
        "duration": 281,
        "start_time": "2023-07-30T13:05:19.287Z"
      },
      {
        "duration": 126,
        "start_time": "2023-07-30T13:05:19.570Z"
      },
      {
        "duration": 55,
        "start_time": "2023-07-30T13:05:19.698Z"
      },
      {
        "duration": 55,
        "start_time": "2023-07-30T13:05:19.764Z"
      },
      {
        "duration": 37,
        "start_time": "2023-07-30T13:05:19.838Z"
      },
      {
        "duration": 5,
        "start_time": "2023-07-30T13:05:19.877Z"
      },
      {
        "duration": 43,
        "start_time": "2023-07-30T13:05:19.883Z"
      },
      {
        "duration": 17,
        "start_time": "2023-07-30T13:05:19.928Z"
      },
      {
        "duration": 121,
        "start_time": "2023-07-30T13:05:19.947Z"
      },
      {
        "duration": 111,
        "start_time": "2023-07-30T13:05:20.069Z"
      },
      {
        "duration": 17,
        "start_time": "2023-07-30T13:05:20.182Z"
      },
      {
        "duration": 44,
        "start_time": "2023-07-30T13:05:20.201Z"
      },
      {
        "duration": 932,
        "start_time": "2023-07-30T13:05:20.255Z"
      },
      {
        "duration": 505,
        "start_time": "2023-07-30T13:05:21.188Z"
      },
      {
        "duration": 728374,
        "start_time": "2023-07-30T13:05:21.695Z"
      },
      {
        "duration": 479145,
        "start_time": "2023-07-30T13:17:30.071Z"
      },
      {
        "duration": 524776,
        "start_time": "2023-07-30T13:25:29.218Z"
      },
      {
        "duration": 4560335,
        "start_time": "2023-07-30T13:34:15.667Z"
      },
      {
        "duration": 2,
        "start_time": "2023-07-30T14:50:16.004Z"
      },
      {
        "duration": 0,
        "start_time": "2023-07-30T14:50:40.795Z"
      },
      {
        "duration": 1,
        "start_time": "2023-07-30T14:50:40.796Z"
      },
      {
        "duration": 0,
        "start_time": "2023-07-30T14:50:40.797Z"
      },
      {
        "duration": 0,
        "start_time": "2023-07-30T14:50:40.798Z"
      },
      {
        "duration": 0,
        "start_time": "2023-07-30T14:50:40.799Z"
      },
      {
        "duration": 0,
        "start_time": "2023-07-30T14:50:40.800Z"
      },
      {
        "duration": 0,
        "start_time": "2023-07-30T14:50:40.801Z"
      },
      {
        "duration": 0,
        "start_time": "2023-07-30T14:50:40.802Z"
      },
      {
        "duration": 0,
        "start_time": "2023-07-30T14:50:40.803Z"
      },
      {
        "duration": 0,
        "start_time": "2023-07-30T14:50:40.809Z"
      },
      {
        "duration": 0,
        "start_time": "2023-07-30T14:50:40.810Z"
      },
      {
        "duration": 0,
        "start_time": "2023-07-30T14:50:40.810Z"
      },
      {
        "duration": 0,
        "start_time": "2023-07-30T14:50:40.812Z"
      },
      {
        "duration": 3,
        "start_time": "2023-07-30T14:50:45.414Z"
      },
      {
        "duration": 24683,
        "start_time": "2023-07-30T14:50:47.197Z"
      },
      {
        "duration": 122,
        "start_time": "2023-07-30T14:51:11.881Z"
      },
      {
        "duration": 8,
        "start_time": "2023-07-30T14:51:12.004Z"
      },
      {
        "duration": 0,
        "start_time": "2023-07-30T14:51:12.014Z"
      },
      {
        "duration": 0,
        "start_time": "2023-07-30T14:51:12.015Z"
      },
      {
        "duration": 0,
        "start_time": "2023-07-30T14:51:12.016Z"
      },
      {
        "duration": 0,
        "start_time": "2023-07-30T14:51:12.017Z"
      },
      {
        "duration": 0,
        "start_time": "2023-07-30T14:51:12.018Z"
      },
      {
        "duration": 0,
        "start_time": "2023-07-30T14:51:12.021Z"
      },
      {
        "duration": 0,
        "start_time": "2023-07-30T14:51:12.022Z"
      },
      {
        "duration": 0,
        "start_time": "2023-07-30T14:51:12.023Z"
      },
      {
        "duration": 576,
        "start_time": "2023-07-30T14:51:30.870Z"
      },
      {
        "duration": 4,
        "start_time": "2023-07-30T14:51:39.958Z"
      },
      {
        "duration": 3,
        "start_time": "2023-07-30T14:51:41.957Z"
      },
      {
        "duration": 4072,
        "start_time": "2023-07-30T14:51:46.565Z"
      },
      {
        "duration": 124,
        "start_time": "2023-07-30T14:51:50.641Z"
      },
      {
        "duration": 7,
        "start_time": "2023-07-30T14:51:50.767Z"
      },
      {
        "duration": 0,
        "start_time": "2023-07-30T14:51:50.775Z"
      },
      {
        "duration": 0,
        "start_time": "2023-07-30T14:51:50.777Z"
      },
      {
        "duration": 0,
        "start_time": "2023-07-30T14:51:50.778Z"
      },
      {
        "duration": 0,
        "start_time": "2023-07-30T14:51:50.779Z"
      },
      {
        "duration": 3,
        "start_time": "2023-07-30T14:52:31.848Z"
      },
      {
        "duration": 97819,
        "start_time": "2023-07-30T14:52:32.854Z"
      },
      {
        "duration": 111,
        "start_time": "2023-07-30T14:54:10.675Z"
      },
      {
        "duration": 9,
        "start_time": "2023-07-30T14:54:10.788Z"
      },
      {
        "duration": 0,
        "start_time": "2023-07-30T14:54:10.799Z"
      },
      {
        "duration": 0,
        "start_time": "2023-07-30T14:54:10.799Z"
      },
      {
        "duration": 0,
        "start_time": "2023-07-30T14:54:10.801Z"
      },
      {
        "duration": 14901,
        "start_time": "2023-07-30T14:54:18.187Z"
      },
      {
        "duration": 118,
        "start_time": "2023-07-30T14:54:33.090Z"
      },
      {
        "duration": 5,
        "start_time": "2023-07-30T14:54:33.209Z"
      },
      {
        "duration": 1650,
        "start_time": "2023-07-31T05:46:34.612Z"
      },
      {
        "duration": 2838,
        "start_time": "2023-07-31T05:46:36.264Z"
      },
      {
        "duration": 18,
        "start_time": "2023-07-31T05:46:39.104Z"
      },
      {
        "duration": 147,
        "start_time": "2023-07-31T05:46:39.124Z"
      },
      {
        "duration": 105,
        "start_time": "2023-07-31T05:46:39.272Z"
      },
      {
        "duration": 465,
        "start_time": "2023-07-31T05:46:39.379Z"
      },
      {
        "duration": 1366,
        "start_time": "2023-07-31T05:46:39.845Z"
      },
      {
        "duration": 5,
        "start_time": "2023-07-31T05:46:41.213Z"
      },
      {
        "duration": 24,
        "start_time": "2023-07-31T05:46:41.219Z"
      },
      {
        "duration": 507,
        "start_time": "2023-07-31T05:46:41.246Z"
      },
      {
        "duration": 450,
        "start_time": "2023-07-31T05:46:41.757Z"
      },
      {
        "duration": 18,
        "start_time": "2023-07-31T05:46:42.208Z"
      },
      {
        "duration": 32,
        "start_time": "2023-07-31T05:46:42.227Z"
      },
      {
        "duration": 20,
        "start_time": "2023-07-31T05:46:42.260Z"
      },
      {
        "duration": 20,
        "start_time": "2023-07-31T05:46:42.282Z"
      },
      {
        "duration": 18,
        "start_time": "2023-07-31T05:46:42.304Z"
      },
      {
        "duration": 97,
        "start_time": "2023-07-31T05:46:42.324Z"
      },
      {
        "duration": 98,
        "start_time": "2023-07-31T05:46:42.423Z"
      },
      {
        "duration": 106,
        "start_time": "2023-07-31T05:46:42.523Z"
      },
      {
        "duration": 273,
        "start_time": "2023-07-31T05:46:42.631Z"
      },
      {
        "duration": 65,
        "start_time": "2023-07-31T05:46:42.906Z"
      },
      {
        "duration": 245,
        "start_time": "2023-07-31T05:46:42.973Z"
      },
      {
        "duration": 241,
        "start_time": "2023-07-31T05:46:43.219Z"
      },
      {
        "duration": 63,
        "start_time": "2023-07-31T05:46:43.462Z"
      },
      {
        "duration": 79,
        "start_time": "2023-07-31T05:46:43.527Z"
      },
      {
        "duration": 396,
        "start_time": "2023-07-31T05:46:43.608Z"
      },
      {
        "duration": 276,
        "start_time": "2023-07-31T05:46:44.007Z"
      },
      {
        "duration": 246,
        "start_time": "2023-07-31T05:46:44.288Z"
      },
      {
        "duration": 7672,
        "start_time": "2023-07-31T05:46:44.536Z"
      },
      {
        "duration": 55,
        "start_time": "2023-07-31T05:46:52.210Z"
      },
      {
        "duration": 276,
        "start_time": "2023-07-31T05:46:52.267Z"
      },
      {
        "duration": 136,
        "start_time": "2023-07-31T05:46:52.544Z"
      },
      {
        "duration": 28,
        "start_time": "2023-07-31T05:46:52.682Z"
      },
      {
        "duration": 78,
        "start_time": "2023-07-31T05:46:52.711Z"
      },
      {
        "duration": 54,
        "start_time": "2023-07-31T05:46:52.791Z"
      },
      {
        "duration": 14,
        "start_time": "2023-07-31T05:46:52.846Z"
      },
      {
        "duration": 42,
        "start_time": "2023-07-31T05:46:52.862Z"
      },
      {
        "duration": 12,
        "start_time": "2023-07-31T05:46:52.906Z"
      },
      {
        "duration": 84,
        "start_time": "2023-07-31T05:46:52.920Z"
      },
      {
        "duration": 184,
        "start_time": "2023-07-31T05:46:53.006Z"
      },
      {
        "duration": 23,
        "start_time": "2023-07-31T05:46:53.192Z"
      },
      {
        "duration": 16,
        "start_time": "2023-07-31T05:46:53.217Z"
      },
      {
        "duration": 1011,
        "start_time": "2023-07-31T05:46:53.235Z"
      },
      {
        "duration": 457,
        "start_time": "2023-07-31T05:46:54.248Z"
      },
      {
        "duration": 684237,
        "start_time": "2023-07-31T05:46:54.707Z"
      },
      {
        "duration": 429596,
        "start_time": "2023-07-31T05:58:18.946Z"
      },
      {
        "duration": 3614735,
        "start_time": "2023-07-31T06:05:28.544Z"
      },
      {
        "duration": 3,
        "start_time": "2023-07-31T07:05:43.281Z"
      },
      {
        "duration": 27267,
        "start_time": "2023-07-31T07:05:43.285Z"
      },
      {
        "duration": 628,
        "start_time": "2023-07-31T07:06:10.557Z"
      },
      {
        "duration": 6,
        "start_time": "2023-07-31T07:06:11.189Z"
      },
      {
        "duration": 19,
        "start_time": "2023-07-31T07:06:11.197Z"
      },
      {
        "duration": 14703,
        "start_time": "2023-07-31T07:06:11.218Z"
      },
      {
        "duration": 114,
        "start_time": "2023-07-31T07:06:25.923Z"
      },
      {
        "duration": 5,
        "start_time": "2023-07-31T07:06:26.039Z"
      },
      {
        "duration": 25,
        "start_time": "2023-07-31T07:06:26.045Z"
      },
      {
        "duration": 63509,
        "start_time": "2023-07-31T07:06:26.072Z"
      },
      {
        "duration": 586,
        "start_time": "2023-07-31T07:07:29.583Z"
      },
      {
        "duration": 6,
        "start_time": "2023-07-31T07:07:30.171Z"
      },
      {
        "duration": 60,
        "start_time": "2023-07-31T07:07:30.179Z"
      },
      {
        "duration": 9,
        "start_time": "2023-07-31T09:09:13.386Z"
      },
      {
        "duration": 9,
        "start_time": "2023-07-31T09:10:56.298Z"
      },
      {
        "duration": 11,
        "start_time": "2023-07-31T09:14:18.658Z"
      },
      {
        "duration": 134,
        "start_time": "2023-07-31T09:17:36.997Z"
      },
      {
        "duration": 6,
        "start_time": "2023-07-31T09:17:37.975Z"
      },
      {
        "duration": 1618,
        "start_time": "2023-07-31T09:30:29.216Z"
      },
      {
        "duration": 1007,
        "start_time": "2023-07-31T09:30:30.836Z"
      },
      {
        "duration": 34,
        "start_time": "2023-07-31T09:30:31.845Z"
      },
      {
        "duration": 294,
        "start_time": "2023-07-31T09:30:31.882Z"
      },
      {
        "duration": 142,
        "start_time": "2023-07-31T09:30:32.178Z"
      },
      {
        "duration": 599,
        "start_time": "2023-07-31T09:30:32.323Z"
      },
      {
        "duration": 1594,
        "start_time": "2023-07-31T09:30:32.924Z"
      },
      {
        "duration": 3,
        "start_time": "2023-07-31T09:30:34.521Z"
      },
      {
        "duration": 36,
        "start_time": "2023-07-31T09:30:34.526Z"
      },
      {
        "duration": 608,
        "start_time": "2023-07-31T09:30:34.573Z"
      },
      {
        "duration": 548,
        "start_time": "2023-07-31T09:30:35.184Z"
      },
      {
        "duration": 32,
        "start_time": "2023-07-31T09:30:35.734Z"
      },
      {
        "duration": 322,
        "start_time": "2023-07-31T09:30:35.768Z"
      },
      {
        "duration": 45,
        "start_time": "2023-07-31T09:30:36.092Z"
      },
      {
        "duration": 55,
        "start_time": "2023-07-31T09:30:36.139Z"
      },
      {
        "duration": 43,
        "start_time": "2023-07-31T09:30:36.197Z"
      },
      {
        "duration": 178,
        "start_time": "2023-07-31T09:30:36.242Z"
      },
      {
        "duration": 125,
        "start_time": "2023-07-31T09:30:36.422Z"
      },
      {
        "duration": 269,
        "start_time": "2023-07-31T09:30:36.549Z"
      },
      {
        "duration": 325,
        "start_time": "2023-07-31T09:30:36.820Z"
      },
      {
        "duration": 81,
        "start_time": "2023-07-31T09:30:37.147Z"
      },
      {
        "duration": 349,
        "start_time": "2023-07-31T09:30:37.231Z"
      },
      {
        "duration": 301,
        "start_time": "2023-07-31T09:30:37.582Z"
      },
      {
        "duration": 77,
        "start_time": "2023-07-31T09:30:37.884Z"
      },
      {
        "duration": 73,
        "start_time": "2023-07-31T09:30:37.963Z"
      },
      {
        "duration": 606,
        "start_time": "2023-07-31T09:30:38.037Z"
      },
      {
        "duration": 369,
        "start_time": "2023-07-31T09:30:38.645Z"
      },
      {
        "duration": 348,
        "start_time": "2023-07-31T09:30:39.020Z"
      },
      {
        "duration": 8767,
        "start_time": "2023-07-31T09:30:39.370Z"
      },
      {
        "duration": 63,
        "start_time": "2023-07-31T09:30:48.139Z"
      },
      {
        "duration": 321,
        "start_time": "2023-07-31T09:30:48.203Z"
      },
      {
        "duration": 171,
        "start_time": "2023-07-31T09:30:48.526Z"
      },
      {
        "duration": 37,
        "start_time": "2023-07-31T09:30:48.699Z"
      },
      {
        "duration": 95,
        "start_time": "2023-07-31T09:30:48.738Z"
      },
      {
        "duration": 78,
        "start_time": "2023-07-31T09:30:48.835Z"
      },
      {
        "duration": 7,
        "start_time": "2023-07-31T09:30:48.916Z"
      },
      {
        "duration": 79,
        "start_time": "2023-07-31T09:30:48.925Z"
      },
      {
        "duration": 15,
        "start_time": "2023-07-31T09:30:49.006Z"
      },
      {
        "duration": 125,
        "start_time": "2023-07-31T09:30:49.023Z"
      },
      {
        "duration": 168,
        "start_time": "2023-07-31T09:30:49.150Z"
      },
      {
        "duration": 20,
        "start_time": "2023-07-31T09:30:49.320Z"
      },
      {
        "duration": 31,
        "start_time": "2023-07-31T09:30:49.342Z"
      },
      {
        "duration": 1188,
        "start_time": "2023-07-31T09:30:49.374Z"
      },
      {
        "duration": 792239,
        "start_time": "2023-07-31T09:30:50.569Z"
      },
      {
        "duration": 501409,
        "start_time": "2023-07-31T09:44:02.810Z"
      },
      {
        "duration": 1507,
        "start_time": "2023-07-31T10:34:16.716Z"
      },
      {
        "duration": 996,
        "start_time": "2023-07-31T10:34:18.225Z"
      },
      {
        "duration": 20,
        "start_time": "2023-07-31T10:34:19.224Z"
      },
      {
        "duration": 151,
        "start_time": "2023-07-31T10:34:19.246Z"
      },
      {
        "duration": 127,
        "start_time": "2023-07-31T10:34:19.399Z"
      },
      {
        "duration": 566,
        "start_time": "2023-07-31T10:34:19.528Z"
      },
      {
        "duration": 1493,
        "start_time": "2023-07-31T10:34:20.096Z"
      },
      {
        "duration": 5,
        "start_time": "2023-07-31T10:34:21.591Z"
      },
      {
        "duration": 7,
        "start_time": "2023-07-31T10:34:21.597Z"
      },
      {
        "duration": 576,
        "start_time": "2023-07-31T10:34:21.608Z"
      },
      {
        "duration": 524,
        "start_time": "2023-07-31T10:34:22.186Z"
      },
      {
        "duration": 18,
        "start_time": "2023-07-31T10:34:22.713Z"
      },
      {
        "duration": 42,
        "start_time": "2023-07-31T10:34:22.733Z"
      },
      {
        "duration": 20,
        "start_time": "2023-07-31T10:34:22.777Z"
      },
      {
        "duration": 40,
        "start_time": "2023-07-31T10:34:22.799Z"
      },
      {
        "duration": 44,
        "start_time": "2023-07-31T10:34:22.841Z"
      },
      {
        "duration": 122,
        "start_time": "2023-07-31T10:34:22.887Z"
      },
      {
        "duration": 107,
        "start_time": "2023-07-31T10:34:23.011Z"
      },
      {
        "duration": 124,
        "start_time": "2023-07-31T10:34:23.119Z"
      },
      {
        "duration": 348,
        "start_time": "2023-07-31T10:34:23.245Z"
      },
      {
        "duration": 77,
        "start_time": "2023-07-31T10:34:23.596Z"
      },
      {
        "duration": 279,
        "start_time": "2023-07-31T10:34:23.675Z"
      },
      {
        "duration": 281,
        "start_time": "2023-07-31T10:34:23.959Z"
      },
      {
        "duration": 72,
        "start_time": "2023-07-31T10:34:24.242Z"
      },
      {
        "duration": 75,
        "start_time": "2023-07-31T10:34:24.315Z"
      },
      {
        "duration": 424,
        "start_time": "2023-07-31T10:34:24.392Z"
      },
      {
        "duration": 297,
        "start_time": "2023-07-31T10:34:24.818Z"
      },
      {
        "duration": 285,
        "start_time": "2023-07-31T10:34:25.119Z"
      },
      {
        "duration": 9394,
        "start_time": "2023-07-31T10:34:25.406Z"
      },
      {
        "duration": 74,
        "start_time": "2023-07-31T10:34:34.802Z"
      },
      {
        "duration": 363,
        "start_time": "2023-07-31T10:34:34.877Z"
      },
      {
        "duration": 166,
        "start_time": "2023-07-31T10:34:35.242Z"
      },
      {
        "duration": 29,
        "start_time": "2023-07-31T10:34:35.409Z"
      },
      {
        "duration": 114,
        "start_time": "2023-07-31T10:34:35.440Z"
      },
      {
        "duration": 83,
        "start_time": "2023-07-31T10:34:35.557Z"
      },
      {
        "duration": 49,
        "start_time": "2023-07-31T10:34:35.642Z"
      },
      {
        "duration": 96,
        "start_time": "2023-07-31T10:34:35.693Z"
      },
      {
        "duration": 18,
        "start_time": "2023-07-31T10:34:35.791Z"
      },
      {
        "duration": 153,
        "start_time": "2023-07-31T10:34:35.811Z"
      },
      {
        "duration": 135,
        "start_time": "2023-07-31T10:34:35.966Z"
      },
      {
        "duration": 22,
        "start_time": "2023-07-31T10:34:36.102Z"
      },
      {
        "duration": 260,
        "start_time": "2023-07-31T10:34:36.126Z"
      },
      {
        "duration": 1091,
        "start_time": "2023-07-31T10:34:36.388Z"
      },
      {
        "duration": 771239,
        "start_time": "2023-07-31T10:34:37.481Z"
      },
      {
        "duration": 484921,
        "start_time": "2023-07-31T10:47:28.722Z"
      },
      {
        "duration": 3823,
        "start_time": "2023-08-01T05:20:00.700Z"
      },
      {
        "duration": 1928,
        "start_time": "2023-08-01T05:20:59.851Z"
      },
      {
        "duration": 97,
        "start_time": "2023-08-01T05:21:30.874Z"
      },
      {
        "duration": 2248,
        "start_time": "2023-08-01T05:46:07.076Z"
      },
      {
        "duration": 1340,
        "start_time": "2023-08-01T05:46:09.327Z"
      },
      {
        "duration": 20,
        "start_time": "2023-08-01T05:46:10.670Z"
      },
      {
        "duration": 185,
        "start_time": "2023-08-01T05:46:10.693Z"
      },
      {
        "duration": 164,
        "start_time": "2023-08-01T05:46:10.880Z"
      },
      {
        "duration": 607,
        "start_time": "2023-08-01T05:46:11.046Z"
      },
      {
        "duration": 1706,
        "start_time": "2023-08-01T05:46:11.655Z"
      },
      {
        "duration": 8,
        "start_time": "2023-08-01T05:46:13.364Z"
      },
      {
        "duration": 24,
        "start_time": "2023-08-01T05:46:13.374Z"
      },
      {
        "duration": 593,
        "start_time": "2023-08-01T05:46:13.402Z"
      },
      {
        "duration": 483,
        "start_time": "2023-08-01T05:46:13.997Z"
      },
      {
        "duration": 22,
        "start_time": "2023-08-01T05:46:14.482Z"
      },
      {
        "duration": 36,
        "start_time": "2023-08-01T05:46:14.505Z"
      },
      {
        "duration": 54,
        "start_time": "2023-08-01T05:46:14.543Z"
      },
      {
        "duration": 40,
        "start_time": "2023-08-01T05:46:14.599Z"
      },
      {
        "duration": 39,
        "start_time": "2023-08-01T05:46:14.641Z"
      },
      {
        "duration": 128,
        "start_time": "2023-08-01T05:46:14.682Z"
      },
      {
        "duration": 144,
        "start_time": "2023-08-01T05:46:14.813Z"
      },
      {
        "duration": 114,
        "start_time": "2023-08-01T05:46:14.958Z"
      },
      {
        "duration": 372,
        "start_time": "2023-08-01T05:46:15.074Z"
      },
      {
        "duration": 87,
        "start_time": "2023-08-01T05:46:15.448Z"
      },
      {
        "duration": 319,
        "start_time": "2023-08-01T05:46:15.537Z"
      },
      {
        "duration": 429,
        "start_time": "2023-08-01T05:46:15.858Z"
      },
      {
        "duration": 63,
        "start_time": "2023-08-01T05:46:16.289Z"
      },
      {
        "duration": 76,
        "start_time": "2023-08-01T05:46:16.357Z"
      },
      {
        "duration": 410,
        "start_time": "2023-08-01T05:46:16.436Z"
      },
      {
        "duration": 333,
        "start_time": "2023-08-01T05:46:16.848Z"
      },
      {
        "duration": 277,
        "start_time": "2023-08-01T05:46:17.185Z"
      },
      {
        "duration": 9522,
        "start_time": "2023-08-01T05:46:17.465Z"
      },
      {
        "duration": 43,
        "start_time": "2023-08-01T05:46:26.989Z"
      },
      {
        "duration": 305,
        "start_time": "2023-08-01T05:46:27.033Z"
      },
      {
        "duration": 156,
        "start_time": "2023-08-01T05:46:27.340Z"
      },
      {
        "duration": 31,
        "start_time": "2023-08-01T05:46:27.498Z"
      },
      {
        "duration": 99,
        "start_time": "2023-08-01T05:46:27.532Z"
      },
      {
        "duration": 68,
        "start_time": "2023-08-01T05:46:27.632Z"
      },
      {
        "duration": 6,
        "start_time": "2023-08-01T05:46:27.702Z"
      },
      {
        "duration": 46,
        "start_time": "2023-08-01T05:46:27.710Z"
      },
      {
        "duration": 23,
        "start_time": "2023-08-01T05:46:27.758Z"
      },
      {
        "duration": 98,
        "start_time": "2023-08-01T05:46:27.783Z"
      },
      {
        "duration": 136,
        "start_time": "2023-08-01T05:46:27.882Z"
      },
      {
        "duration": 17,
        "start_time": "2023-08-01T05:46:28.020Z"
      },
      {
        "duration": 49,
        "start_time": "2023-08-01T05:46:28.039Z"
      },
      {
        "duration": 6,
        "start_time": "2023-08-01T05:46:28.091Z"
      },
      {
        "duration": 587,
        "start_time": "2023-08-01T05:46:28.099Z"
      },
      {
        "duration": 144,
        "start_time": "2023-08-01T05:46:28.687Z"
      },
      {
        "duration": 0,
        "start_time": "2023-08-01T05:46:28.833Z"
      },
      {
        "duration": 0,
        "start_time": "2023-08-01T05:46:28.834Z"
      },
      {
        "duration": 0,
        "start_time": "2023-08-01T05:46:28.836Z"
      },
      {
        "duration": 0,
        "start_time": "2023-08-01T05:46:28.838Z"
      },
      {
        "duration": 0,
        "start_time": "2023-08-01T05:46:28.839Z"
      },
      {
        "duration": 0,
        "start_time": "2023-08-01T05:46:28.841Z"
      },
      {
        "duration": 0,
        "start_time": "2023-08-01T05:46:28.842Z"
      },
      {
        "duration": 0,
        "start_time": "2023-08-01T05:46:28.843Z"
      },
      {
        "duration": 0,
        "start_time": "2023-08-01T05:46:28.845Z"
      },
      {
        "duration": 0,
        "start_time": "2023-08-01T05:46:28.847Z"
      },
      {
        "duration": 0,
        "start_time": "2023-08-01T05:46:28.848Z"
      },
      {
        "duration": 0,
        "start_time": "2023-08-01T05:46:28.871Z"
      },
      {
        "duration": 0,
        "start_time": "2023-08-01T05:46:28.872Z"
      },
      {
        "duration": 0,
        "start_time": "2023-08-01T05:46:28.874Z"
      },
      {
        "duration": 0,
        "start_time": "2023-08-01T05:46:28.876Z"
      },
      {
        "duration": 0,
        "start_time": "2023-08-01T05:46:28.877Z"
      },
      {
        "duration": 0,
        "start_time": "2023-08-01T05:46:28.878Z"
      },
      {
        "duration": 0,
        "start_time": "2023-08-01T05:46:28.880Z"
      },
      {
        "duration": 0,
        "start_time": "2023-08-01T05:46:28.882Z"
      },
      {
        "duration": 548,
        "start_time": "2023-08-01T05:57:13.999Z"
      },
      {
        "duration": 19,
        "start_time": "2023-08-01T05:57:16.356Z"
      },
      {
        "duration": 6,
        "start_time": "2023-08-01T05:57:49.872Z"
      },
      {
        "duration": 1620,
        "start_time": "2023-08-01T05:59:16.584Z"
      },
      {
        "duration": 885,
        "start_time": "2023-08-01T05:59:18.208Z"
      },
      {
        "duration": 18,
        "start_time": "2023-08-01T05:59:19.095Z"
      },
      {
        "duration": 188,
        "start_time": "2023-08-01T05:59:19.116Z"
      },
      {
        "duration": 130,
        "start_time": "2023-08-01T05:59:19.306Z"
      },
      {
        "duration": 561,
        "start_time": "2023-08-01T05:59:19.438Z"
      },
      {
        "duration": 2791,
        "start_time": "2023-08-01T05:59:20.000Z"
      },
      {
        "duration": 5,
        "start_time": "2023-08-01T05:59:22.793Z"
      },
      {
        "duration": 7,
        "start_time": "2023-08-01T05:59:22.800Z"
      },
      {
        "duration": 539,
        "start_time": "2023-08-01T05:59:22.811Z"
      },
      {
        "duration": 489,
        "start_time": "2023-08-01T05:59:23.352Z"
      },
      {
        "duration": 32,
        "start_time": "2023-08-01T05:59:23.842Z"
      },
      {
        "duration": 30,
        "start_time": "2023-08-01T05:59:23.876Z"
      },
      {
        "duration": 32,
        "start_time": "2023-08-01T05:59:23.908Z"
      },
      {
        "duration": 51,
        "start_time": "2023-08-01T05:59:23.942Z"
      },
      {
        "duration": 23,
        "start_time": "2023-08-01T05:59:23.995Z"
      },
      {
        "duration": 134,
        "start_time": "2023-08-01T05:59:24.019Z"
      },
      {
        "duration": 153,
        "start_time": "2023-08-01T05:59:24.155Z"
      },
      {
        "duration": 104,
        "start_time": "2023-08-01T05:59:24.310Z"
      },
      {
        "duration": 347,
        "start_time": "2023-08-01T05:59:24.416Z"
      },
      {
        "duration": 70,
        "start_time": "2023-08-01T05:59:24.765Z"
      },
      {
        "duration": 276,
        "start_time": "2023-08-01T05:59:24.837Z"
      },
      {
        "duration": 403,
        "start_time": "2023-08-01T05:59:25.115Z"
      },
      {
        "duration": 70,
        "start_time": "2023-08-01T05:59:25.520Z"
      },
      {
        "duration": 56,
        "start_time": "2023-08-01T05:59:25.593Z"
      },
      {
        "duration": 281,
        "start_time": "2023-08-01T05:59:25.653Z"
      },
      {
        "duration": 321,
        "start_time": "2023-08-01T05:59:25.935Z"
      },
      {
        "duration": 376,
        "start_time": "2023-08-01T05:59:26.261Z"
      },
      {
        "duration": 9761,
        "start_time": "2023-08-01T05:59:26.638Z"
      },
      {
        "duration": 47,
        "start_time": "2023-08-01T05:59:36.401Z"
      },
      {
        "duration": 339,
        "start_time": "2023-08-01T05:59:36.450Z"
      },
      {
        "duration": 158,
        "start_time": "2023-08-01T05:59:36.792Z"
      },
      {
        "duration": 38,
        "start_time": "2023-08-01T05:59:36.951Z"
      },
      {
        "duration": 57,
        "start_time": "2023-08-01T05:59:36.991Z"
      },
      {
        "duration": 80,
        "start_time": "2023-08-01T05:59:37.049Z"
      },
      {
        "duration": 6,
        "start_time": "2023-08-01T05:59:37.130Z"
      },
      {
        "duration": 59,
        "start_time": "2023-08-01T05:59:37.138Z"
      },
      {
        "duration": 18,
        "start_time": "2023-08-01T05:59:37.199Z"
      },
      {
        "duration": 110,
        "start_time": "2023-08-01T05:59:37.219Z"
      },
      {
        "duration": 137,
        "start_time": "2023-08-01T05:59:37.331Z"
      },
      {
        "duration": 23,
        "start_time": "2023-08-01T05:59:37.470Z"
      },
      {
        "duration": 29,
        "start_time": "2023-08-01T05:59:37.494Z"
      },
      {
        "duration": 3,
        "start_time": "2023-08-01T05:59:37.524Z"
      },
      {
        "duration": 629,
        "start_time": "2023-08-01T05:59:37.530Z"
      },
      {
        "duration": 624,
        "start_time": "2023-08-01T05:59:38.161Z"
      },
      {
        "duration": 14,
        "start_time": "2023-08-01T05:59:38.787Z"
      },
      {
        "duration": 778810,
        "start_time": "2023-08-01T05:59:38.803Z"
      },
      {
        "duration": 502767,
        "start_time": "2023-08-01T06:12:37.614Z"
      },
      {
        "duration": 236,
        "start_time": "2023-08-01T06:21:00.383Z"
      },
      {
        "duration": 3,
        "start_time": "2023-08-01T06:21:00.621Z"
      },
      {
        "duration": 29313,
        "start_time": "2023-08-01T06:21:00.625Z"
      },
      {
        "duration": 710,
        "start_time": "2023-08-01T06:21:29.940Z"
      },
      {
        "duration": 7,
        "start_time": "2023-08-01T06:21:30.652Z"
      },
      {
        "duration": 74,
        "start_time": "2023-08-01T06:21:30.661Z"
      },
      {
        "duration": 168,
        "start_time": "2023-08-01T06:21:30.737Z"
      },
      {
        "duration": 143,
        "start_time": "2023-08-01T06:21:30.907Z"
      },
      {
        "duration": 11,
        "start_time": "2023-08-01T06:21:31.053Z"
      },
      {
        "duration": 0,
        "start_time": "2023-08-01T06:21:31.066Z"
      },
      {
        "duration": 0,
        "start_time": "2023-08-01T06:21:31.067Z"
      },
      {
        "duration": 0,
        "start_time": "2023-08-01T06:21:31.068Z"
      },
      {
        "duration": 0,
        "start_time": "2023-08-01T06:21:31.070Z"
      },
      {
        "duration": 0,
        "start_time": "2023-08-01T06:21:31.071Z"
      },
      {
        "duration": 0,
        "start_time": "2023-08-01T06:21:31.071Z"
      },
      {
        "duration": 0,
        "start_time": "2023-08-01T06:21:31.073Z"
      },
      {
        "duration": 30,
        "start_time": "2023-08-01T06:53:23.651Z"
      },
      {
        "duration": 10677,
        "start_time": "2023-08-01T06:53:30.251Z"
      },
      {
        "duration": 1735,
        "start_time": "2023-08-01T06:53:54.283Z"
      },
      {
        "duration": 975,
        "start_time": "2023-08-01T06:53:56.020Z"
      },
      {
        "duration": 17,
        "start_time": "2023-08-01T06:53:56.997Z"
      },
      {
        "duration": 165,
        "start_time": "2023-08-01T06:53:57.016Z"
      },
      {
        "duration": 135,
        "start_time": "2023-08-01T06:53:57.185Z"
      },
      {
        "duration": 495,
        "start_time": "2023-08-01T06:53:57.321Z"
      },
      {
        "duration": 1495,
        "start_time": "2023-08-01T06:53:57.818Z"
      },
      {
        "duration": 4,
        "start_time": "2023-08-01T06:53:59.315Z"
      },
      {
        "duration": 11,
        "start_time": "2023-08-01T06:53:59.321Z"
      },
      {
        "duration": 532,
        "start_time": "2023-08-01T06:53:59.334Z"
      },
      {
        "duration": 532,
        "start_time": "2023-08-01T06:53:59.867Z"
      },
      {
        "duration": 22,
        "start_time": "2023-08-01T06:54:00.401Z"
      },
      {
        "duration": 72,
        "start_time": "2023-08-01T06:54:00.425Z"
      },
      {
        "duration": 64,
        "start_time": "2023-08-01T06:54:00.502Z"
      },
      {
        "duration": 79,
        "start_time": "2023-08-01T06:54:00.568Z"
      },
      {
        "duration": 162,
        "start_time": "2023-08-01T06:54:00.648Z"
      },
      {
        "duration": 218,
        "start_time": "2023-08-01T06:54:00.812Z"
      },
      {
        "duration": 154,
        "start_time": "2023-08-01T06:54:01.032Z"
      },
      {
        "duration": 115,
        "start_time": "2023-08-01T06:54:01.188Z"
      },
      {
        "duration": 325,
        "start_time": "2023-08-01T06:54:01.305Z"
      },
      {
        "duration": 70,
        "start_time": "2023-08-01T06:54:01.632Z"
      },
      {
        "duration": 312,
        "start_time": "2023-08-01T06:54:01.704Z"
      },
      {
        "duration": 421,
        "start_time": "2023-08-01T06:54:02.017Z"
      },
      {
        "duration": 67,
        "start_time": "2023-08-01T06:54:02.440Z"
      },
      {
        "duration": 72,
        "start_time": "2023-08-01T06:54:02.509Z"
      },
      {
        "duration": 290,
        "start_time": "2023-08-01T06:54:02.588Z"
      },
      {
        "duration": 306,
        "start_time": "2023-08-01T06:54:02.880Z"
      },
      {
        "duration": 271,
        "start_time": "2023-08-01T06:54:03.189Z"
      },
      {
        "duration": 10249,
        "start_time": "2023-08-01T06:54:03.462Z"
      },
      {
        "duration": 45,
        "start_time": "2023-08-01T06:54:13.713Z"
      },
      {
        "duration": 299,
        "start_time": "2023-08-01T06:54:13.760Z"
      },
      {
        "duration": 147,
        "start_time": "2023-08-01T06:54:14.061Z"
      },
      {
        "duration": 26,
        "start_time": "2023-08-01T06:54:14.210Z"
      },
      {
        "duration": 87,
        "start_time": "2023-08-01T06:54:14.238Z"
      },
      {
        "duration": 68,
        "start_time": "2023-08-01T06:54:14.326Z"
      },
      {
        "duration": 6,
        "start_time": "2023-08-01T06:54:14.395Z"
      },
      {
        "duration": 46,
        "start_time": "2023-08-01T06:54:14.402Z"
      },
      {
        "duration": 37,
        "start_time": "2023-08-01T06:54:14.450Z"
      },
      {
        "duration": 108,
        "start_time": "2023-08-01T06:54:14.489Z"
      },
      {
        "duration": 126,
        "start_time": "2023-08-01T06:54:14.599Z"
      },
      {
        "duration": 19,
        "start_time": "2023-08-01T06:54:14.729Z"
      },
      {
        "duration": 30,
        "start_time": "2023-08-01T06:54:14.750Z"
      },
      {
        "duration": 4,
        "start_time": "2023-08-01T06:54:14.783Z"
      },
      {
        "duration": 694,
        "start_time": "2023-08-01T06:54:14.789Z"
      },
      {
        "duration": 630,
        "start_time": "2023-08-01T06:54:15.485Z"
      },
      {
        "duration": 11,
        "start_time": "2023-08-01T06:54:16.117Z"
      },
      {
        "duration": 805780,
        "start_time": "2023-08-01T06:54:16.129Z"
      },
      {
        "duration": 515488,
        "start_time": "2023-08-01T07:07:41.911Z"
      },
      {
        "duration": 3622,
        "start_time": "2023-08-01T10:27:43.829Z"
      },
      {
        "duration": 1172,
        "start_time": "2023-08-01T10:27:47.453Z"
      },
      {
        "duration": 16,
        "start_time": "2023-08-01T10:27:48.627Z"
      },
      {
        "duration": 151,
        "start_time": "2023-08-01T10:27:48.645Z"
      },
      {
        "duration": 163,
        "start_time": "2023-08-01T10:27:48.798Z"
      },
      {
        "duration": 535,
        "start_time": "2023-08-01T10:27:48.971Z"
      },
      {
        "duration": 1500,
        "start_time": "2023-08-01T10:27:49.508Z"
      },
      {
        "duration": 4,
        "start_time": "2023-08-01T10:27:51.010Z"
      },
      {
        "duration": 21,
        "start_time": "2023-08-01T10:27:51.016Z"
      },
      {
        "duration": 552,
        "start_time": "2023-08-01T10:27:51.043Z"
      },
      {
        "duration": 455,
        "start_time": "2023-08-01T10:27:51.596Z"
      },
      {
        "duration": 26,
        "start_time": "2023-08-01T10:27:52.053Z"
      },
      {
        "duration": 61,
        "start_time": "2023-08-01T10:27:52.081Z"
      },
      {
        "duration": 56,
        "start_time": "2023-08-01T10:27:52.144Z"
      },
      {
        "duration": 45,
        "start_time": "2023-08-01T10:27:52.202Z"
      },
      {
        "duration": 45,
        "start_time": "2023-08-01T10:27:52.248Z"
      },
      {
        "duration": 140,
        "start_time": "2023-08-01T10:27:52.295Z"
      },
      {
        "duration": 142,
        "start_time": "2023-08-01T10:27:52.437Z"
      },
      {
        "duration": 118,
        "start_time": "2023-08-01T10:27:52.580Z"
      },
      {
        "duration": 324,
        "start_time": "2023-08-01T10:27:52.700Z"
      },
      {
        "duration": 78,
        "start_time": "2023-08-01T10:27:53.026Z"
      },
      {
        "duration": 271,
        "start_time": "2023-08-01T10:27:53.106Z"
      },
      {
        "duration": 385,
        "start_time": "2023-08-01T10:27:53.379Z"
      },
      {
        "duration": 57,
        "start_time": "2023-08-01T10:27:53.771Z"
      },
      {
        "duration": 60,
        "start_time": "2023-08-01T10:27:53.829Z"
      },
      {
        "duration": 268,
        "start_time": "2023-08-01T10:27:53.891Z"
      },
      {
        "duration": 290,
        "start_time": "2023-08-01T10:27:54.160Z"
      },
      {
        "duration": 280,
        "start_time": "2023-08-01T10:27:54.454Z"
      },
      {
        "duration": 9303,
        "start_time": "2023-08-01T10:27:54.735Z"
      },
      {
        "duration": 47,
        "start_time": "2023-08-01T10:28:04.040Z"
      },
      {
        "duration": 290,
        "start_time": "2023-08-01T10:28:04.089Z"
      },
      {
        "duration": 148,
        "start_time": "2023-08-01T10:28:04.380Z"
      },
      {
        "duration": 26,
        "start_time": "2023-08-01T10:28:04.530Z"
      },
      {
        "duration": 68,
        "start_time": "2023-08-01T10:28:04.558Z"
      },
      {
        "duration": 76,
        "start_time": "2023-08-01T10:28:04.628Z"
      },
      {
        "duration": 6,
        "start_time": "2023-08-01T10:28:04.706Z"
      },
      {
        "duration": 36,
        "start_time": "2023-08-01T10:28:04.713Z"
      },
      {
        "duration": 22,
        "start_time": "2023-08-01T10:28:04.751Z"
      },
      {
        "duration": 109,
        "start_time": "2023-08-01T10:28:04.775Z"
      },
      {
        "duration": 131,
        "start_time": "2023-08-01T10:28:04.886Z"
      },
      {
        "duration": 19,
        "start_time": "2023-08-01T10:28:05.019Z"
      },
      {
        "duration": 12,
        "start_time": "2023-08-01T10:28:05.040Z"
      },
      {
        "duration": 18,
        "start_time": "2023-08-01T10:28:05.054Z"
      },
      {
        "duration": 599,
        "start_time": "2023-08-01T10:28:05.074Z"
      },
      {
        "duration": 636,
        "start_time": "2023-08-01T10:28:05.675Z"
      },
      {
        "duration": 12,
        "start_time": "2023-08-01T10:28:06.314Z"
      },
      {
        "duration": 749570,
        "start_time": "2023-08-01T10:28:06.328Z"
      },
      {
        "duration": 494013,
        "start_time": "2023-08-01T10:40:35.900Z"
      },
      {
        "duration": 1764,
        "start_time": "2023-08-01T15:59:11.788Z"
      },
      {
        "duration": 0,
        "start_time": "2023-08-01T15:59:13.557Z"
      },
      {
        "duration": 0,
        "start_time": "2023-08-01T15:59:13.561Z"
      },
      {
        "duration": 0,
        "start_time": "2023-08-01T15:59:13.562Z"
      },
      {
        "duration": 0,
        "start_time": "2023-08-01T15:59:13.563Z"
      },
      {
        "duration": 0,
        "start_time": "2023-08-01T15:59:13.564Z"
      },
      {
        "duration": 0,
        "start_time": "2023-08-01T15:59:13.565Z"
      },
      {
        "duration": 0,
        "start_time": "2023-08-01T15:59:13.567Z"
      },
      {
        "duration": 0,
        "start_time": "2023-08-01T15:59:13.568Z"
      },
      {
        "duration": 0,
        "start_time": "2023-08-01T15:59:13.569Z"
      },
      {
        "duration": 0,
        "start_time": "2023-08-01T15:59:13.570Z"
      },
      {
        "duration": 0,
        "start_time": "2023-08-01T15:59:13.571Z"
      },
      {
        "duration": 0,
        "start_time": "2023-08-01T15:59:13.572Z"
      },
      {
        "duration": 0,
        "start_time": "2023-08-01T15:59:13.573Z"
      },
      {
        "duration": 0,
        "start_time": "2023-08-01T15:59:13.575Z"
      },
      {
        "duration": 0,
        "start_time": "2023-08-01T15:59:13.576Z"
      },
      {
        "duration": 0,
        "start_time": "2023-08-01T15:59:13.577Z"
      },
      {
        "duration": 0,
        "start_time": "2023-08-01T15:59:13.579Z"
      },
      {
        "duration": 0,
        "start_time": "2023-08-01T15:59:13.581Z"
      },
      {
        "duration": 0,
        "start_time": "2023-08-01T15:59:13.582Z"
      },
      {
        "duration": 0,
        "start_time": "2023-08-01T15:59:13.583Z"
      },
      {
        "duration": 0,
        "start_time": "2023-08-01T15:59:13.585Z"
      },
      {
        "duration": 0,
        "start_time": "2023-08-01T15:59:13.586Z"
      },
      {
        "duration": 0,
        "start_time": "2023-08-01T15:59:13.587Z"
      },
      {
        "duration": 0,
        "start_time": "2023-08-01T15:59:13.589Z"
      },
      {
        "duration": 0,
        "start_time": "2023-08-01T15:59:13.590Z"
      },
      {
        "duration": 0,
        "start_time": "2023-08-01T15:59:13.591Z"
      },
      {
        "duration": 0,
        "start_time": "2023-08-01T15:59:13.593Z"
      },
      {
        "duration": 0,
        "start_time": "2023-08-01T15:59:13.594Z"
      },
      {
        "duration": 0,
        "start_time": "2023-08-01T15:59:13.594Z"
      },
      {
        "duration": 0,
        "start_time": "2023-08-01T15:59:13.595Z"
      },
      {
        "duration": 0,
        "start_time": "2023-08-01T15:59:13.596Z"
      },
      {
        "duration": 0,
        "start_time": "2023-08-01T15:59:13.598Z"
      },
      {
        "duration": 0,
        "start_time": "2023-08-01T15:59:13.599Z"
      },
      {
        "duration": 0,
        "start_time": "2023-08-01T15:59:13.659Z"
      },
      {
        "duration": 0,
        "start_time": "2023-08-01T15:59:13.661Z"
      },
      {
        "duration": 0,
        "start_time": "2023-08-01T15:59:13.662Z"
      },
      {
        "duration": 0,
        "start_time": "2023-08-01T15:59:13.663Z"
      },
      {
        "duration": 0,
        "start_time": "2023-08-01T15:59:13.665Z"
      },
      {
        "duration": 0,
        "start_time": "2023-08-01T15:59:13.666Z"
      },
      {
        "duration": 0,
        "start_time": "2023-08-01T15:59:13.667Z"
      },
      {
        "duration": 0,
        "start_time": "2023-08-01T15:59:13.669Z"
      },
      {
        "duration": 0,
        "start_time": "2023-08-01T15:59:13.670Z"
      },
      {
        "duration": 0,
        "start_time": "2023-08-01T15:59:13.671Z"
      },
      {
        "duration": 0,
        "start_time": "2023-08-01T15:59:13.673Z"
      },
      {
        "duration": 0,
        "start_time": "2023-08-01T15:59:13.674Z"
      },
      {
        "duration": 0,
        "start_time": "2023-08-01T15:59:13.675Z"
      },
      {
        "duration": 0,
        "start_time": "2023-08-01T15:59:13.677Z"
      },
      {
        "duration": 0,
        "start_time": "2023-08-01T15:59:13.678Z"
      },
      {
        "duration": 0,
        "start_time": "2023-08-01T15:59:13.679Z"
      },
      {
        "duration": 0,
        "start_time": "2023-08-01T15:59:13.681Z"
      },
      {
        "duration": 0,
        "start_time": "2023-08-01T15:59:13.682Z"
      },
      {
        "duration": 0,
        "start_time": "2023-08-01T15:59:13.684Z"
      },
      {
        "duration": 0,
        "start_time": "2023-08-01T15:59:13.685Z"
      },
      {
        "duration": 0,
        "start_time": "2023-08-01T15:59:13.687Z"
      },
      {
        "duration": 0,
        "start_time": "2023-08-01T15:59:13.688Z"
      },
      {
        "duration": 0,
        "start_time": "2023-08-01T15:59:13.689Z"
      },
      {
        "duration": 0,
        "start_time": "2023-08-01T15:59:13.690Z"
      },
      {
        "duration": 0,
        "start_time": "2023-08-01T15:59:13.690Z"
      },
      {
        "duration": 0,
        "start_time": "2023-08-01T15:59:13.691Z"
      },
      {
        "duration": 0,
        "start_time": "2023-08-01T15:59:13.692Z"
      },
      {
        "duration": 11,
        "start_time": "2023-08-01T15:59:47.678Z"
      },
      {
        "duration": 2892,
        "start_time": "2023-08-01T16:00:26.587Z"
      },
      {
        "duration": 1592,
        "start_time": "2023-08-01T16:00:29.481Z"
      },
      {
        "duration": 2874,
        "start_time": "2023-08-01T16:00:31.075Z"
      },
      {
        "duration": 17,
        "start_time": "2023-08-01T16:00:33.951Z"
      },
      {
        "duration": 141,
        "start_time": "2023-08-01T16:00:33.970Z"
      },
      {
        "duration": 136,
        "start_time": "2023-08-01T16:00:34.113Z"
      },
      {
        "duration": 471,
        "start_time": "2023-08-01T16:00:34.258Z"
      },
      {
        "duration": 1395,
        "start_time": "2023-08-01T16:00:34.731Z"
      },
      {
        "duration": 4,
        "start_time": "2023-08-01T16:00:36.128Z"
      },
      {
        "duration": 11,
        "start_time": "2023-08-01T16:00:36.136Z"
      },
      {
        "duration": 493,
        "start_time": "2023-08-01T16:00:36.149Z"
      },
      {
        "duration": 421,
        "start_time": "2023-08-01T16:00:36.643Z"
      },
      {
        "duration": 18,
        "start_time": "2023-08-01T16:00:37.066Z"
      },
      {
        "duration": 28,
        "start_time": "2023-08-01T16:00:37.086Z"
      },
      {
        "duration": 24,
        "start_time": "2023-08-01T16:00:37.115Z"
      },
      {
        "duration": 33,
        "start_time": "2023-08-01T16:00:37.141Z"
      },
      {
        "duration": 20,
        "start_time": "2023-08-01T16:00:37.176Z"
      },
      {
        "duration": 104,
        "start_time": "2023-08-01T16:00:37.197Z"
      },
      {
        "duration": 98,
        "start_time": "2023-08-01T16:00:37.302Z"
      },
      {
        "duration": 103,
        "start_time": "2023-08-01T16:00:37.402Z"
      },
      {
        "duration": 291,
        "start_time": "2023-08-01T16:00:37.506Z"
      },
      {
        "duration": 65,
        "start_time": "2023-08-01T16:00:37.798Z"
      },
      {
        "duration": 279,
        "start_time": "2023-08-01T16:00:37.865Z"
      },
      {
        "duration": 376,
        "start_time": "2023-08-01T16:00:38.146Z"
      },
      {
        "duration": 64,
        "start_time": "2023-08-01T16:00:38.524Z"
      },
      {
        "duration": 51,
        "start_time": "2023-08-01T16:00:38.590Z"
      },
      {
        "duration": 258,
        "start_time": "2023-08-01T16:00:38.642Z"
      },
      {
        "duration": 282,
        "start_time": "2023-08-01T16:00:38.904Z"
      },
      {
        "duration": 291,
        "start_time": "2023-08-01T16:00:39.189Z"
      },
      {
        "duration": 7875,
        "start_time": "2023-08-01T16:00:39.481Z"
      },
      {
        "duration": 45,
        "start_time": "2023-08-01T16:00:47.358Z"
      },
      {
        "duration": 292,
        "start_time": "2023-08-01T16:00:47.405Z"
      },
      {
        "duration": 143,
        "start_time": "2023-08-01T16:00:47.699Z"
      },
      {
        "duration": 28,
        "start_time": "2023-08-01T16:00:47.844Z"
      },
      {
        "duration": 51,
        "start_time": "2023-08-01T16:00:47.874Z"
      },
      {
        "duration": 74,
        "start_time": "2023-08-01T16:00:47.927Z"
      },
      {
        "duration": 5,
        "start_time": "2023-08-01T16:00:48.003Z"
      },
      {
        "duration": 34,
        "start_time": "2023-08-01T16:00:48.010Z"
      },
      {
        "duration": 17,
        "start_time": "2023-08-01T16:00:48.046Z"
      },
      {
        "duration": 80,
        "start_time": "2023-08-01T16:00:48.065Z"
      },
      {
        "duration": 116,
        "start_time": "2023-08-01T16:00:48.159Z"
      },
      {
        "duration": 19,
        "start_time": "2023-08-01T16:00:48.276Z"
      },
      {
        "duration": 13,
        "start_time": "2023-08-01T16:00:48.297Z"
      },
      {
        "duration": 4,
        "start_time": "2023-08-01T16:00:48.311Z"
      },
      {
        "duration": 544,
        "start_time": "2023-08-01T16:00:48.317Z"
      },
      {
        "duration": 608,
        "start_time": "2023-08-01T16:00:48.863Z"
      },
      {
        "duration": 16,
        "start_time": "2023-08-01T16:00:49.474Z"
      },
      {
        "duration": 14167,
        "start_time": "2023-08-01T16:00:49.492Z"
      },
      {
        "duration": 10582,
        "start_time": "2023-08-01T16:01:03.661Z"
      },
      {
        "duration": 3415,
        "start_time": "2023-08-01T16:01:14.245Z"
      },
      {
        "duration": 3,
        "start_time": "2023-08-01T16:01:17.662Z"
      },
      {
        "duration": 24920,
        "start_time": "2023-08-01T16:01:17.667Z"
      },
      {
        "duration": 581,
        "start_time": "2023-08-01T16:01:42.589Z"
      },
      {
        "duration": 4,
        "start_time": "2023-08-01T16:01:43.172Z"
      },
      {
        "duration": 6,
        "start_time": "2023-08-01T16:01:43.178Z"
      },
      {
        "duration": 128,
        "start_time": "2023-08-01T16:01:43.185Z"
      },
      {
        "duration": 147,
        "start_time": "2023-08-01T16:01:43.315Z"
      },
      {
        "duration": 10,
        "start_time": "2023-08-01T16:01:43.463Z"
      },
      {
        "duration": 0,
        "start_time": "2023-08-01T16:01:43.474Z"
      },
      {
        "duration": 0,
        "start_time": "2023-08-01T16:01:43.475Z"
      },
      {
        "duration": 0,
        "start_time": "2023-08-01T16:01:43.476Z"
      },
      {
        "duration": 0,
        "start_time": "2023-08-01T16:01:43.477Z"
      },
      {
        "duration": 347,
        "start_time": "2023-08-01T16:01:47.437Z"
      },
      {
        "duration": 252,
        "start_time": "2023-08-01T16:01:54.531Z"
      },
      {
        "duration": 305,
        "start_time": "2023-08-01T16:02:02.237Z"
      },
      {
        "duration": 234,
        "start_time": "2023-08-01T16:02:15.688Z"
      },
      {
        "duration": 208,
        "start_time": "2023-08-01T16:02:35.098Z"
      },
      {
        "duration": 197,
        "start_time": "2023-08-01T16:02:42.463Z"
      },
      {
        "duration": 271,
        "start_time": "2023-08-01T16:02:52.039Z"
      },
      {
        "duration": 247,
        "start_time": "2023-08-01T16:03:06.853Z"
      },
      {
        "duration": 223,
        "start_time": "2023-08-01T16:03:15.419Z"
      },
      {
        "duration": 246,
        "start_time": "2023-08-01T16:03:22.605Z"
      },
      {
        "duration": 223,
        "start_time": "2023-08-01T16:03:48.518Z"
      },
      {
        "duration": 3329,
        "start_time": "2023-08-01T16:04:04.690Z"
      },
      {
        "duration": 1768,
        "start_time": "2023-08-01T16:04:08.022Z"
      },
      {
        "duration": 1137,
        "start_time": "2023-08-01T16:04:09.792Z"
      },
      {
        "duration": 17,
        "start_time": "2023-08-01T16:04:10.931Z"
      },
      {
        "duration": 122,
        "start_time": "2023-08-01T16:04:10.950Z"
      },
      {
        "duration": 106,
        "start_time": "2023-08-01T16:04:11.074Z"
      },
      {
        "duration": 495,
        "start_time": "2023-08-01T16:04:11.182Z"
      },
      {
        "duration": 1358,
        "start_time": "2023-08-01T16:04:11.679Z"
      },
      {
        "duration": 3,
        "start_time": "2023-08-01T16:04:13.039Z"
      },
      {
        "duration": 26,
        "start_time": "2023-08-01T16:04:13.043Z"
      },
      {
        "duration": 494,
        "start_time": "2023-08-01T16:04:13.070Z"
      },
      {
        "duration": 478,
        "start_time": "2023-08-01T16:04:13.566Z"
      },
      {
        "duration": 33,
        "start_time": "2023-08-01T16:04:14.046Z"
      },
      {
        "duration": 26,
        "start_time": "2023-08-01T16:04:14.084Z"
      },
      {
        "duration": 29,
        "start_time": "2023-08-01T16:04:14.112Z"
      },
      {
        "duration": 24,
        "start_time": "2023-08-01T16:04:14.160Z"
      },
      {
        "duration": 26,
        "start_time": "2023-08-01T16:04:14.187Z"
      },
      {
        "duration": 144,
        "start_time": "2023-08-01T16:04:14.215Z"
      },
      {
        "duration": 106,
        "start_time": "2023-08-01T16:04:14.361Z"
      },
      {
        "duration": 100,
        "start_time": "2023-08-01T16:04:14.469Z"
      },
      {
        "duration": 286,
        "start_time": "2023-08-01T16:04:14.570Z"
      },
      {
        "duration": 66,
        "start_time": "2023-08-01T16:04:14.859Z"
      },
      {
        "duration": 254,
        "start_time": "2023-08-01T16:04:14.926Z"
      },
      {
        "duration": 382,
        "start_time": "2023-08-01T16:04:15.182Z"
      },
      {
        "duration": 67,
        "start_time": "2023-08-01T16:04:15.566Z"
      },
      {
        "duration": 74,
        "start_time": "2023-08-01T16:04:15.635Z"
      },
      {
        "duration": 196,
        "start_time": "2023-08-01T16:04:15.711Z"
      },
      {
        "duration": 281,
        "start_time": "2023-08-01T16:04:15.909Z"
      },
      {
        "duration": 246,
        "start_time": "2023-08-01T16:04:16.192Z"
      },
      {
        "duration": 7673,
        "start_time": "2023-08-01T16:04:16.439Z"
      },
      {
        "duration": 63,
        "start_time": "2023-08-01T16:04:24.114Z"
      },
      {
        "duration": 303,
        "start_time": "2023-08-01T16:04:24.180Z"
      },
      {
        "duration": 137,
        "start_time": "2023-08-01T16:04:24.484Z"
      },
      {
        "duration": 37,
        "start_time": "2023-08-01T16:04:24.623Z"
      },
      {
        "duration": 54,
        "start_time": "2023-08-01T16:04:24.661Z"
      },
      {
        "duration": 66,
        "start_time": "2023-08-01T16:04:24.717Z"
      },
      {
        "duration": 5,
        "start_time": "2023-08-01T16:04:24.784Z"
      },
      {
        "duration": 29,
        "start_time": "2023-08-01T16:04:24.790Z"
      },
      {
        "duration": 13,
        "start_time": "2023-08-01T16:04:24.820Z"
      },
      {
        "duration": 86,
        "start_time": "2023-08-01T16:04:24.835Z"
      },
      {
        "duration": 136,
        "start_time": "2023-08-01T16:04:24.925Z"
      },
      {
        "duration": 20,
        "start_time": "2023-08-01T16:04:25.062Z"
      },
      {
        "duration": 14,
        "start_time": "2023-08-01T16:04:25.084Z"
      },
      {
        "duration": 2,
        "start_time": "2023-08-01T16:04:25.100Z"
      },
      {
        "duration": 552,
        "start_time": "2023-08-01T16:04:25.104Z"
      },
      {
        "duration": 556,
        "start_time": "2023-08-01T16:04:25.659Z"
      },
      {
        "duration": 11,
        "start_time": "2023-08-01T16:04:26.216Z"
      },
      {
        "duration": 703890,
        "start_time": "2023-08-01T16:04:26.228Z"
      },
      {
        "duration": 450466,
        "start_time": "2023-08-01T16:16:10.120Z"
      },
      {
        "duration": 1067472,
        "start_time": "2023-08-01T16:23:40.589Z"
      },
      {
        "duration": 3,
        "start_time": "2023-08-01T16:41:28.062Z"
      },
      {
        "duration": 24738,
        "start_time": "2023-08-01T16:41:28.067Z"
      },
      {
        "duration": 618,
        "start_time": "2023-08-01T16:41:52.807Z"
      },
      {
        "duration": 6,
        "start_time": "2023-08-01T16:41:53.427Z"
      },
      {
        "duration": 12,
        "start_time": "2023-08-01T16:41:53.435Z"
      },
      {
        "duration": 268,
        "start_time": "2023-08-01T16:41:53.449Z"
      },
      {
        "duration": 119,
        "start_time": "2023-08-01T16:41:53.719Z"
      },
      {
        "duration": 17,
        "start_time": "2023-08-01T16:41:53.841Z"
      },
      {
        "duration": 0,
        "start_time": "2023-08-01T16:41:53.860Z"
      },
      {
        "duration": 0,
        "start_time": "2023-08-01T16:41:53.861Z"
      },
      {
        "duration": 0,
        "start_time": "2023-08-01T16:41:53.863Z"
      },
      {
        "duration": 0,
        "start_time": "2023-08-01T16:41:53.864Z"
      },
      {
        "duration": 13815,
        "start_time": "2023-08-01T16:46:48.818Z"
      },
      {
        "duration": 115,
        "start_time": "2023-08-01T16:47:12.755Z"
      },
      {
        "duration": 6,
        "start_time": "2023-08-01T16:47:16.094Z"
      },
      {
        "duration": 2227,
        "start_time": "2023-08-01T16:47:52.213Z"
      },
      {
        "duration": 1642,
        "start_time": "2023-08-01T16:47:54.442Z"
      },
      {
        "duration": 863,
        "start_time": "2023-08-01T16:47:56.086Z"
      },
      {
        "duration": 21,
        "start_time": "2023-08-01T16:47:56.951Z"
      },
      {
        "duration": 144,
        "start_time": "2023-08-01T16:47:56.974Z"
      },
      {
        "duration": 118,
        "start_time": "2023-08-01T16:47:57.120Z"
      },
      {
        "duration": 497,
        "start_time": "2023-08-01T16:47:57.240Z"
      },
      {
        "duration": 1451,
        "start_time": "2023-08-01T16:47:57.739Z"
      },
      {
        "duration": 4,
        "start_time": "2023-08-01T16:47:59.192Z"
      },
      {
        "duration": 11,
        "start_time": "2023-08-01T16:47:59.199Z"
      },
      {
        "duration": 550,
        "start_time": "2023-08-01T16:47:59.211Z"
      },
      {
        "duration": 499,
        "start_time": "2023-08-01T16:47:59.763Z"
      },
      {
        "duration": 18,
        "start_time": "2023-08-01T16:48:00.264Z"
      },
      {
        "duration": 55,
        "start_time": "2023-08-01T16:48:00.284Z"
      },
      {
        "duration": 69,
        "start_time": "2023-08-01T16:48:00.341Z"
      },
      {
        "duration": 71,
        "start_time": "2023-08-01T16:48:00.411Z"
      },
      {
        "duration": 73,
        "start_time": "2023-08-01T16:48:00.483Z"
      },
      {
        "duration": 106,
        "start_time": "2023-08-01T16:48:00.558Z"
      },
      {
        "duration": 103,
        "start_time": "2023-08-01T16:48:00.666Z"
      },
      {
        "duration": 118,
        "start_time": "2023-08-01T16:48:00.772Z"
      },
      {
        "duration": 382,
        "start_time": "2023-08-01T16:48:00.892Z"
      },
      {
        "duration": 116,
        "start_time": "2023-08-01T16:48:01.276Z"
      },
      {
        "duration": 507,
        "start_time": "2023-08-01T16:48:01.394Z"
      },
      {
        "duration": 969,
        "start_time": "2023-08-01T16:48:01.903Z"
      },
      {
        "duration": 116,
        "start_time": "2023-08-01T16:48:02.875Z"
      },
      {
        "duration": 99,
        "start_time": "2023-08-01T16:48:02.993Z"
      },
      {
        "duration": 190,
        "start_time": "2023-08-01T16:48:03.094Z"
      },
      {
        "duration": 264,
        "start_time": "2023-08-01T16:48:03.288Z"
      },
      {
        "duration": 250,
        "start_time": "2023-08-01T16:48:03.554Z"
      },
      {
        "duration": 8011,
        "start_time": "2023-08-01T16:48:03.806Z"
      },
      {
        "duration": 57,
        "start_time": "2023-08-01T16:48:11.818Z"
      },
      {
        "duration": 283,
        "start_time": "2023-08-01T16:48:11.876Z"
      },
      {
        "duration": 142,
        "start_time": "2023-08-01T16:48:12.160Z"
      },
      {
        "duration": 30,
        "start_time": "2023-08-01T16:48:12.303Z"
      },
      {
        "duration": 67,
        "start_time": "2023-08-01T16:48:12.335Z"
      },
      {
        "duration": 64,
        "start_time": "2023-08-01T16:48:12.404Z"
      },
      {
        "duration": 5,
        "start_time": "2023-08-01T16:48:12.470Z"
      },
      {
        "duration": 51,
        "start_time": "2023-08-01T16:48:12.476Z"
      },
      {
        "duration": 12,
        "start_time": "2023-08-01T16:48:12.529Z"
      },
      {
        "duration": 96,
        "start_time": "2023-08-01T16:48:12.543Z"
      },
      {
        "duration": 139,
        "start_time": "2023-08-01T16:48:12.641Z"
      },
      {
        "duration": 20,
        "start_time": "2023-08-01T16:48:12.781Z"
      },
      {
        "duration": 13,
        "start_time": "2023-08-01T16:48:12.803Z"
      },
      {
        "duration": 3,
        "start_time": "2023-08-01T16:48:12.818Z"
      },
      {
        "duration": 598,
        "start_time": "2023-08-01T16:48:12.823Z"
      },
      {
        "duration": 560,
        "start_time": "2023-08-01T16:48:13.423Z"
      },
      {
        "duration": 12,
        "start_time": "2023-08-01T16:48:13.985Z"
      },
      {
        "duration": 715324,
        "start_time": "2023-08-01T16:48:14.000Z"
      },
      {
        "duration": 439687,
        "start_time": "2023-08-01T17:00:09.325Z"
      },
      {
        "duration": 1275161,
        "start_time": "2023-08-01T17:07:29.014Z"
      },
      {
        "duration": 4,
        "start_time": "2023-08-01T17:28:44.178Z"
      },
      {
        "duration": 28508,
        "start_time": "2023-08-01T17:28:44.183Z"
      },
      {
        "duration": 629,
        "start_time": "2023-08-01T17:29:12.693Z"
      },
      {
        "duration": 5,
        "start_time": "2023-08-01T17:29:13.323Z"
      },
      {
        "duration": 8,
        "start_time": "2023-08-01T17:29:13.329Z"
      },
      {
        "duration": 14384,
        "start_time": "2023-08-01T17:29:13.339Z"
      },
      {
        "duration": 118,
        "start_time": "2023-08-01T17:29:27.725Z"
      },
      {
        "duration": 6,
        "start_time": "2023-08-01T17:29:27.845Z"
      },
      {
        "duration": 22,
        "start_time": "2023-08-01T17:29:27.852Z"
      },
      {
        "duration": 23406,
        "start_time": "2023-08-01T17:29:27.876Z"
      },
      {
        "duration": 595,
        "start_time": "2023-08-01T17:29:51.284Z"
      },
      {
        "duration": 6,
        "start_time": "2023-08-01T17:29:51.883Z"
      },
      {
        "duration": 13,
        "start_time": "2023-08-01T17:33:59.283Z"
      },
      {
        "duration": 141,
        "start_time": "2023-08-01T17:34:17.753Z"
      },
      {
        "duration": 6,
        "start_time": "2023-08-01T17:34:21.253Z"
      }
    ],
    "kernelspec": {
      "display_name": "Python 3 (ipykernel)",
      "language": "python",
      "name": "python3"
    },
    "language_info": {
      "codemirror_mode": {
        "name": "ipython",
        "version": 3
      },
      "file_extension": ".py",
      "mimetype": "text/x-python",
      "name": "python",
      "nbconvert_exporter": "python",
      "pygments_lexer": "ipython3",
      "version": "3.9.5"
    },
    "toc": {
      "base_numbering": 1,
      "nav_menu": {},
      "number_sections": true,
      "sideBar": true,
      "skip_h1_title": true,
      "title_cell": "Table of Contents",
      "title_sidebar": "Contents",
      "toc_cell": false,
      "toc_position": {},
      "toc_section_display": true,
      "toc_window_display": true
    },
    "colab": {
      "provenance": [],
      "toc_visible": true
    }
  },
  "nbformat": 4,
  "nbformat_minor": 0
}
