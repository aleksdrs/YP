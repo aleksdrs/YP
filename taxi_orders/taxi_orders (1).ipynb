{
  "cells": [
    {
      "cell_type": "markdown",
      "metadata": {
        "toc": true,
        "id": "TKU0370wUAmY"
      },
      "source": [
        "<h1>Содержание<span class=\"tocSkip\"></span></h1>\n",
        "<div class=\"toc\"><ul class=\"toc-item\"><li><span><a href=\"#Подготовка\" data-toc-modified-id=\"Подготовка-1\"><span class=\"toc-item-num\">1&nbsp;&nbsp;</span>Подготовка</a></span></li><li><span><a href=\"#Анализ\" data-toc-modified-id=\"Анализ-2\"><span class=\"toc-item-num\">2&nbsp;&nbsp;</span>Анализ</a></span></li><li><span><a href=\"#Обучение\" data-toc-modified-id=\"Обучение-3\"><span class=\"toc-item-num\">3&nbsp;&nbsp;</span>Обучение</a></span></li><li><span><a href=\"#Тестирование\" data-toc-modified-id=\"Тестирование-4\"><span class=\"toc-item-num\">4&nbsp;&nbsp;</span>Тестирование</a></span></li><li><span><a href=\"#Общий-вывод\" data-toc-modified-id=\"Общий-вывод-5\"><span class=\"toc-item-num\">5&nbsp;&nbsp;</span>Общий вывод</a></span></li>"
      ]
    },
    {
      "cell_type": "markdown",
      "metadata": {
        "id": "2NwRyOCRUAmZ"
      },
      "source": [
        "#  Прогнозирование заказов такси"
      ]
    },
    {
      "cell_type": "markdown",
      "metadata": {
        "id": "AYSoMs1CUAma"
      },
      "source": [
        "Компания такси собрала исторические данные о заказах такси в аэропортах. Чтобы привлекать больше водителей в период пиковой нагрузки, нужно спрогнозировать количество заказов такси на следующий час. Строится модель для такого предсказания.\n",
        "\n",
        "**План работы:**\n",
        "- Загрузить данные\n",
        "- Выполнить ресемплирование по одному часу\n",
        "- Проанализировать данные\n",
        "- Обучите разные модели с различными гиперпараметрами\n",
        "- Проверить данные на тестовой выборке\n"
      ]
    },
    {
      "cell_type": "markdown",
      "metadata": {
        "id": "pWWe793XUAma"
      },
      "source": [
        "## Подготовка"
      ]
    },
    {
      "cell_type": "markdown",
      "metadata": {
        "id": "PxtiyMOcUAma"
      },
      "source": [
        "Загрузим требуемые библиотеки"
      ]
    },
    {
      "cell_type": "code",
      "execution_count": null,
      "metadata": {
        "id": "mCIyTNYlUAmb"
      },
      "outputs": [],
      "source": [
        "import pandas as pd\n",
        "import numpy as np\n",
        "import matplotlib.pyplot as plt\n",
        "\n",
        "from sklearn.ensemble import RandomForestRegressor\n",
        "from sklearn.linear_model import LinearRegression\n",
        "from sklearn.model_selection import cross_val_score, train_test_split, GridSearchCV, TimeSeriesSplit\n",
        "from sklearn.metrics import mean_squared_error\n",
        "from statsmodels.tsa.seasonal import seasonal_decompose\n",
        "\n",
        "from catboost import CatBoostRegressor"
      ]
    },
    {
      "cell_type": "markdown",
      "metadata": {
        "id": "zaDHszk_UAmd"
      },
      "source": [
        "Загрузим данные и выведем на экран общую иформацию и первых 5 строк датафрейма."
      ]
    },
    {
      "cell_type": "code",
      "execution_count": null,
      "metadata": {
        "id": "wHEHDFINUAmd"
      },
      "outputs": [],
      "source": [
        "# переведем столбец с датой в индексы\n",
        "df = pd.read_csv('/datasets/taxi.csv', index_col=[0], parse_dates=[0])"
      ]
    },
    {
      "cell_type": "code",
      "execution_count": null,
      "metadata": {
        "id": "MNE_WPs0UAme",
        "outputId": "88664130-ce54-48ec-ef90-d8a73b498182"
      },
      "outputs": [
        {
          "data": {
            "text/html": [
              "<div>\n",
              "<style scoped>\n",
              "    .dataframe tbody tr th:only-of-type {\n",
              "        vertical-align: middle;\n",
              "    }\n",
              "\n",
              "    .dataframe tbody tr th {\n",
              "        vertical-align: top;\n",
              "    }\n",
              "\n",
              "    .dataframe thead th {\n",
              "        text-align: right;\n",
              "    }\n",
              "</style>\n",
              "<table border=\"1\" class=\"dataframe\">\n",
              "  <thead>\n",
              "    <tr style=\"text-align: right;\">\n",
              "      <th></th>\n",
              "      <th>num_orders</th>\n",
              "    </tr>\n",
              "    <tr>\n",
              "      <th>datetime</th>\n",
              "      <th></th>\n",
              "    </tr>\n",
              "  </thead>\n",
              "  <tbody>\n",
              "    <tr>\n",
              "      <th>2018-03-01 00:00:00</th>\n",
              "      <td>9</td>\n",
              "    </tr>\n",
              "    <tr>\n",
              "      <th>2018-03-01 00:10:00</th>\n",
              "      <td>14</td>\n",
              "    </tr>\n",
              "    <tr>\n",
              "      <th>2018-03-01 00:20:00</th>\n",
              "      <td>28</td>\n",
              "    </tr>\n",
              "    <tr>\n",
              "      <th>2018-03-01 00:30:00</th>\n",
              "      <td>20</td>\n",
              "    </tr>\n",
              "    <tr>\n",
              "      <th>2018-03-01 00:40:00</th>\n",
              "      <td>32</td>\n",
              "    </tr>\n",
              "  </tbody>\n",
              "</table>\n",
              "</div>"
            ],
            "text/plain": [
              "                     num_orders\n",
              "datetime                       \n",
              "2018-03-01 00:00:00           9\n",
              "2018-03-01 00:10:00          14\n",
              "2018-03-01 00:20:00          28\n",
              "2018-03-01 00:30:00          20\n",
              "2018-03-01 00:40:00          32"
            ]
          },
          "execution_count": 3,
          "metadata": {},
          "output_type": "execute_result"
        }
      ],
      "source": [
        "df.head()"
      ]
    },
    {
      "cell_type": "code",
      "execution_count": null,
      "metadata": {
        "scrolled": true,
        "id": "Bf5kqQNZUAmf",
        "outputId": "ef59b8a7-fbea-4cf0-9d20-e98d6c0cc9d5"
      },
      "outputs": [
        {
          "name": "stdout",
          "output_type": "stream",
          "text": [
            "<class 'pandas.core.frame.DataFrame'>\n",
            "DatetimeIndex: 26496 entries, 2018-03-01 00:00:00 to 2018-08-31 23:50:00\n",
            "Data columns (total 1 columns):\n",
            " #   Column      Non-Null Count  Dtype\n",
            "---  ------      --------------  -----\n",
            " 0   num_orders  26496 non-null  int64\n",
            "dtypes: int64(1)\n",
            "memory usage: 414.0 KB\n"
          ]
        }
      ],
      "source": [
        "df.info()"
      ]
    },
    {
      "cell_type": "markdown",
      "metadata": {
        "id": "GxqDMFzNUAmg"
      },
      "source": [
        "Выполним ресемплирование данных по одному часу."
      ]
    },
    {
      "cell_type": "code",
      "execution_count": null,
      "metadata": {
        "id": "cY__opt4UAmg",
        "outputId": "f88901e3-b3bc-4fa0-e791-f884020a7b82"
      },
      "outputs": [
        {
          "name": "stdout",
          "output_type": "stream",
          "text": [
            "<class 'pandas.core.frame.DataFrame'>\n",
            "DatetimeIndex: 4416 entries, 2018-03-01 00:00:00 to 2018-08-31 23:00:00\n",
            "Freq: H\n",
            "Data columns (total 1 columns):\n",
            " #   Column      Non-Null Count  Dtype\n",
            "---  ------      --------------  -----\n",
            " 0   num_orders  4416 non-null   int64\n",
            "dtypes: int64(1)\n",
            "memory usage: 69.0 KB\n"
          ]
        }
      ],
      "source": [
        "df.sort_index(inplace=True)\n",
        "df = df.resample('1H').sum()\n",
        "df.info()"
      ]
    },
    {
      "cell_type": "markdown",
      "metadata": {
        "id": "FCLpxyb6UAmh"
      },
      "source": [
        "## Анализ"
      ]
    },
    {
      "cell_type": "markdown",
      "metadata": {
        "id": "cdpR_p9yUAmh"
      },
      "source": [
        "Проведем анализ данных. Разложим временной ряд на три составляющие: тренд, сезонность и остаток."
      ]
    },
    {
      "cell_type": "code",
      "execution_count": null,
      "metadata": {
        "scrolled": false,
        "id": "rp_O-LO_UAmi",
        "outputId": "44582592-8ffd-4b1d-fbd2-da6068edb638"
      },
      "outputs": [
        {
          "data": {
            "image/png": "[encoded data removed]",
            "text/plain": [
              "<Figure size 720x864 with 3 Axes>"
            ]
          },
          "metadata": {
            "needs_background": "light"
          },
          "output_type": "display_data"
        }
      ],
      "source": [
        "decomposed = seasonal_decompose(df)\n",
        "\n",
        "plt.figure(figsize=(10, 12))\n",
        "plt.subplot(311)\n",
        "# Чтобы график корректно отобразился, указываем его\n",
        "# оси ax, равными plt.gca() (англ. get current axis,\n",
        "# получить текущие оси)\n",
        "\n",
        "decomposed.trend.plot(ax=plt.gca())\n",
        "plt.title('Тренд')\n",
        "plt.subplot(312)\n",
        "decomposed.seasonal.plot(ax=plt.gca())\n",
        "plt.title('Сезонность')\n",
        "plt.subplot(313)\n",
        "decomposed.resid.plot(ax=plt.gca())\n",
        "plt.title('Остаток')\n",
        "plt.tight_layout()"
      ]
    },
    {
      "cell_type": "markdown",
      "metadata": {
        "id": "6KVORhtxUAmi"
      },
      "source": [
        "На графике для всего датафрейма видно, что наблюдается восходящий тренд с течением времени. Заметно так же постепенное увеличение шума в данных."
      ]
    },
    {
      "cell_type": "markdown",
      "metadata": {
        "id": "lZ49sq3BUAmj"
      },
      "source": [
        "Сделаем разложение временного ряда для промежутков в месяц и неделю."
      ]
    },
    {
      "cell_type": "code",
      "execution_count": null,
      "metadata": {
        "id": "UNDeWiPVUAmj"
      },
      "outputs": [],
      "source": [
        "df_month = df['2018-08-1':'2018-08-31']"
      ]
    },
    {
      "cell_type": "code",
      "execution_count": null,
      "metadata": {
        "scrolled": false,
        "id": "eLCQOc3tUAmj",
        "outputId": "36e45e0e-62df-4072-eb2d-1c9073def7e0"
      },
      "outputs": [
        {
          "data": {
            "image/png": "[encoded data removed]",
            "text/plain": [
              "<Figure size 720x864 with 3 Axes>"
            ]
          },
          "metadata": {
            "needs_background": "light"
          },
          "output_type": "display_data"
        }
      ],
      "source": [
        "decomposed = seasonal_decompose(df_month)\n",
        "\n",
        "plt.figure(figsize=(10, 12))\n",
        "plt.subplot(311)\n",
        "\n",
        "decomposed.trend.plot(ax=plt.gca())\n",
        "plt.title('Тренд')\n",
        "plt.subplot(312)\n",
        "decomposed.seasonal.plot(ax=plt.gca())\n",
        "plt.title('Сезонность')\n",
        "plt.subplot(313)\n",
        "decomposed.resid.plot(ax=plt.gca())\n",
        "plt.title('Остаток')\n",
        "plt.tight_layout()"
      ]
    },
    {
      "cell_type": "markdown",
      "metadata": {
        "id": "tTrq7KxNUAmk"
      },
      "source": [
        "На периоде в месяц явно видно увеличение количества заказов по субботам и понедельникам, наш ряд явно имеет зависимость от дня недели."
      ]
    },
    {
      "cell_type": "code",
      "execution_count": null,
      "metadata": {
        "id": "2DjWPFKUUAmk"
      },
      "outputs": [],
      "source": [
        "df_week = df['2018-08-20':'2018-08-26']"
      ]
    },
    {
      "cell_type": "code",
      "execution_count": null,
      "metadata": {
        "scrolled": false,
        "id": "IgSLJk5vUAmk",
        "outputId": "069140ea-37b8-4f85-b892-ad93082dd7b6"
      },
      "outputs": [
        {
          "data": {
            "image/png": "[encoded data removed]",
            "text/plain": [
              "<Figure size 720x864 with 3 Axes>"
            ]
          },
          "metadata": {
            "needs_background": "light"
          },
          "output_type": "display_data"
        }
      ],
      "source": [
        "decomposed = seasonal_decompose(df_week)\n",
        "\n",
        "plt.figure(figsize=(10, 12))\n",
        "plt.subplot(311)\n",
        "# Чтобы график корректно отобразился, указываем его\n",
        "# оси ax, равными plt.gca() (англ. get current axis,\n",
        "# получить текущие оси)\n",
        "\n",
        "decomposed.trend.plot(ax=plt.gca())\n",
        "plt.title('Тренд')\n",
        "plt.subplot(312)\n",
        "decomposed.seasonal.plot(ax=plt.gca())# < напишите код здесь >\n",
        "plt.title('Сезонность')\n",
        "plt.subplot(313)\n",
        "decomposed.resid.plot(ax=plt.gca())# < напишите код здесь >\n",
        "plt.title('Остаток')\n",
        "plt.tight_layout()"
      ]
    },
    {
      "cell_type": "markdown",
      "metadata": {
        "id": "nIoLL4lSUAml"
      },
      "source": [
        "На недельном графике видно сезонность в течении суток, кол-во заказов меняется в зависимости от времени."
      ]
    },
    {
      "cell_type": "markdown",
      "metadata": {
        "id": "ktrhzpxAUAml"
      },
      "source": [
        "**Вывод**\n",
        "\n",
        "С течением времени общее количество заказов увеличивается, так же постепенно увеличивается количество шума в данных.\n",
        "\n",
        "Заметно увеличение количества заказов по субботам и понедельникам, имеется зависимость от дня недели.\n",
        "\n",
        "Данные имеют выраженную сезонность в течении суток, кол-во заказов меняется в зависимости от часа."
      ]
    },
    {
      "cell_type": "markdown",
      "metadata": {
        "id": "TJTzpfcGUAmm"
      },
      "source": [
        "Подготовим наши данные для обучения моделей.\n",
        "\n",
        "Создадим новые признаки для датафрейма:\n",
        "\n",
        "- в качестве календарных используем месяц, день и день недели\n",
        "- отстающие значения\n",
        "- скользящее среднее"
      ]
    },
    {
      "cell_type": "code",
      "execution_count": null,
      "metadata": {
        "id": "R54ydl8AUAmm"
      },
      "outputs": [],
      "source": [
        "# Создадим функцию которая на вхо принимает датафрейм,\n",
        "# размер отставания для отстающих значений и размер окна для скользящего среднего\n",
        "# а возвращает датафрейм с новыми признаками\n",
        "\n",
        "def make_features(df, max_lag, rolling_mean_size):\n",
        "    #df['month'] = df.index.month\n",
        "    df['day'] = df.index.day\n",
        "    df['dayofweek'] = df.index.dayofweek\n",
        "\n",
        "    for lag in range(1, max_lag + 1):\n",
        "        df['lag_{}'.format(lag)] = df['num_orders'].shift(lag)\n",
        "\n",
        "    df['rolling_mean'] = df['num_orders'].shift().rolling(rolling_mean_size).mean()\n",
        "    return df"
      ]
    },
    {
      "cell_type": "markdown",
      "metadata": {
        "id": "d7YD26YHUAmo"
      },
      "source": [
        "Применим функцию к нашим данным. Для скользящего среднего используем размер окна 24, по количеству часов в сутках, для отстающих значений используем размер отставания в 168 часов(кол-во часов в неделе), так как явно выявили зависимость количества заказов от дня недели."
      ]
    },
    {
      "cell_type": "code",
      "execution_count": null,
      "metadata": {
        "scrolled": false,
        "id": "_DYoAtjDUAmp",
        "outputId": "c95e609c-61a6-4903-f290-28e5ff9d7a3f"
      },
      "outputs": [
        {
          "data": {
            "text/html": [
              "<div>\n",
              "<style scoped>\n",
              "    .dataframe tbody tr th:only-of-type {\n",
              "        vertical-align: middle;\n",
              "    }\n",
              "\n",
              "    .dataframe tbody tr th {\n",
              "        vertical-align: top;\n",
              "    }\n",
              "\n",
              "    .dataframe thead th {\n",
              "        text-align: right;\n",
              "    }\n",
              "</style>\n",
              "<table border=\"1\" class=\"dataframe\">\n",
              "  <thead>\n",
              "    <tr style=\"text-align: right;\">\n",
              "      <th></th>\n",
              "      <th>num_orders</th>\n",
              "      <th>day</th>\n",
              "      <th>dayofweek</th>\n",
              "      <th>lag_1</th>\n",
              "      <th>lag_2</th>\n",
              "      <th>lag_3</th>\n",
              "      <th>lag_4</th>\n",
              "      <th>lag_5</th>\n",
              "      <th>lag_6</th>\n",
              "      <th>lag_7</th>\n",
              "      <th>...</th>\n",
              "      <th>lag_160</th>\n",
              "      <th>lag_161</th>\n",
              "      <th>lag_162</th>\n",
              "      <th>lag_163</th>\n",
              "      <th>lag_164</th>\n",
              "      <th>lag_165</th>\n",
              "      <th>lag_166</th>\n",
              "      <th>lag_167</th>\n",
              "      <th>lag_168</th>\n",
              "      <th>rolling_mean</th>\n",
              "    </tr>\n",
              "    <tr>\n",
              "      <th>datetime</th>\n",
              "      <th></th>\n",
              "      <th></th>\n",
              "      <th></th>\n",
              "      <th></th>\n",
              "      <th></th>\n",
              "      <th></th>\n",
              "      <th></th>\n",
              "      <th></th>\n",
              "      <th></th>\n",
              "      <th></th>\n",
              "      <th></th>\n",
              "      <th></th>\n",
              "      <th></th>\n",
              "      <th></th>\n",
              "      <th></th>\n",
              "      <th></th>\n",
              "      <th></th>\n",
              "      <th></th>\n",
              "      <th></th>\n",
              "      <th></th>\n",
              "      <th></th>\n",
              "    </tr>\n",
              "  </thead>\n",
              "  <tbody>\n",
              "    <tr>\n",
              "      <th>2018-03-01 00:00:00</th>\n",
              "      <td>124</td>\n",
              "      <td>1</td>\n",
              "      <td>3</td>\n",
              "      <td>NaN</td>\n",
              "      <td>NaN</td>\n",
              "      <td>NaN</td>\n",
              "      <td>NaN</td>\n",
              "      <td>NaN</td>\n",
              "      <td>NaN</td>\n",
              "      <td>NaN</td>\n",
              "      <td>...</td>\n",
              "      <td>NaN</td>\n",
              "      <td>NaN</td>\n",
              "      <td>NaN</td>\n",
              "      <td>NaN</td>\n",
              "      <td>NaN</td>\n",
              "      <td>NaN</td>\n",
              "      <td>NaN</td>\n",
              "      <td>NaN</td>\n",
              "      <td>NaN</td>\n",
              "      <td>NaN</td>\n",
              "    </tr>\n",
              "    <tr>\n",
              "      <th>2018-03-01 01:00:00</th>\n",
              "      <td>85</td>\n",
              "      <td>1</td>\n",
              "      <td>3</td>\n",
              "      <td>124.0</td>\n",
              "      <td>NaN</td>\n",
              "      <td>NaN</td>\n",
              "      <td>NaN</td>\n",
              "      <td>NaN</td>\n",
              "      <td>NaN</td>\n",
              "      <td>NaN</td>\n",
              "      <td>...</td>\n",
              "      <td>NaN</td>\n",
              "      <td>NaN</td>\n",
              "      <td>NaN</td>\n",
              "      <td>NaN</td>\n",
              "      <td>NaN</td>\n",
              "      <td>NaN</td>\n",
              "      <td>NaN</td>\n",
              "      <td>NaN</td>\n",
              "      <td>NaN</td>\n",
              "      <td>NaN</td>\n",
              "    </tr>\n",
              "    <tr>\n",
              "      <th>2018-03-01 02:00:00</th>\n",
              "      <td>71</td>\n",
              "      <td>1</td>\n",
              "      <td>3</td>\n",
              "      <td>85.0</td>\n",
              "      <td>124.0</td>\n",
              "      <td>NaN</td>\n",
              "      <td>NaN</td>\n",
              "      <td>NaN</td>\n",
              "      <td>NaN</td>\n",
              "      <td>NaN</td>\n",
              "      <td>...</td>\n",
              "      <td>NaN</td>\n",
              "      <td>NaN</td>\n",
              "      <td>NaN</td>\n",
              "      <td>NaN</td>\n",
              "      <td>NaN</td>\n",
              "      <td>NaN</td>\n",
              "      <td>NaN</td>\n",
              "      <td>NaN</td>\n",
              "      <td>NaN</td>\n",
              "      <td>NaN</td>\n",
              "    </tr>\n",
              "    <tr>\n",
              "      <th>2018-03-01 03:00:00</th>\n",
              "      <td>66</td>\n",
              "      <td>1</td>\n",
              "      <td>3</td>\n",
              "      <td>71.0</td>\n",
              "      <td>85.0</td>\n",
              "      <td>124.0</td>\n",
              "      <td>NaN</td>\n",
              "      <td>NaN</td>\n",
              "      <td>NaN</td>\n",
              "      <td>NaN</td>\n",
              "      <td>...</td>\n",
              "      <td>NaN</td>\n",
              "      <td>NaN</td>\n",
              "      <td>NaN</td>\n",
              "      <td>NaN</td>\n",
              "      <td>NaN</td>\n",
              "      <td>NaN</td>\n",
              "      <td>NaN</td>\n",
              "      <td>NaN</td>\n",
              "      <td>NaN</td>\n",
              "      <td>NaN</td>\n",
              "    </tr>\n",
              "    <tr>\n",
              "      <th>2018-03-01 04:00:00</th>\n",
              "      <td>43</td>\n",
              "      <td>1</td>\n",
              "      <td>3</td>\n",
              "      <td>66.0</td>\n",
              "      <td>71.0</td>\n",
              "      <td>85.0</td>\n",
              "      <td>124.0</td>\n",
              "      <td>NaN</td>\n",
              "      <td>NaN</td>\n",
              "      <td>NaN</td>\n",
              "      <td>...</td>\n",
              "      <td>NaN</td>\n",
              "      <td>NaN</td>\n",
              "      <td>NaN</td>\n",
              "      <td>NaN</td>\n",
              "      <td>NaN</td>\n",
              "      <td>NaN</td>\n",
              "      <td>NaN</td>\n",
              "      <td>NaN</td>\n",
              "      <td>NaN</td>\n",
              "      <td>NaN</td>\n",
              "    </tr>\n",
              "  </tbody>\n",
              "</table>\n",
              "<p>5 rows × 172 columns</p>\n",
              "</div>"
            ],
            "text/plain": [
              "                     num_orders  day  dayofweek  lag_1  lag_2  lag_3  lag_4  \\\n",
              "datetime                                                                      \n",
              "2018-03-01 00:00:00         124    1          3    NaN    NaN    NaN    NaN   \n",
              "2018-03-01 01:00:00          85    1          3  124.0    NaN    NaN    NaN   \n",
              "2018-03-01 02:00:00          71    1          3   85.0  124.0    NaN    NaN   \n",
              "2018-03-01 03:00:00          66    1          3   71.0   85.0  124.0    NaN   \n",
              "2018-03-01 04:00:00          43    1          3   66.0   71.0   85.0  124.0   \n",
              "\n",
              "                     lag_5  lag_6  lag_7  ...  lag_160  lag_161  lag_162  \\\n",
              "datetime                                  ...                              \n",
              "2018-03-01 00:00:00    NaN    NaN    NaN  ...      NaN      NaN      NaN   \n",
              "2018-03-01 01:00:00    NaN    NaN    NaN  ...      NaN      NaN      NaN   \n",
              "2018-03-01 02:00:00    NaN    NaN    NaN  ...      NaN      NaN      NaN   \n",
              "2018-03-01 03:00:00    NaN    NaN    NaN  ...      NaN      NaN      NaN   \n",
              "2018-03-01 04:00:00    NaN    NaN    NaN  ...      NaN      NaN      NaN   \n",
              "\n",
              "                     lag_163  lag_164  lag_165  lag_166  lag_167  lag_168  \\\n",
              "datetime                                                                    \n",
              "2018-03-01 00:00:00      NaN      NaN      NaN      NaN      NaN      NaN   \n",
              "2018-03-01 01:00:00      NaN      NaN      NaN      NaN      NaN      NaN   \n",
              "2018-03-01 02:00:00      NaN      NaN      NaN      NaN      NaN      NaN   \n",
              "2018-03-01 03:00:00      NaN      NaN      NaN      NaN      NaN      NaN   \n",
              "2018-03-01 04:00:00      NaN      NaN      NaN      NaN      NaN      NaN   \n",
              "\n",
              "                     rolling_mean  \n",
              "datetime                           \n",
              "2018-03-01 00:00:00           NaN  \n",
              "2018-03-01 01:00:00           NaN  \n",
              "2018-03-01 02:00:00           NaN  \n",
              "2018-03-01 03:00:00           NaN  \n",
              "2018-03-01 04:00:00           NaN  \n",
              "\n",
              "[5 rows x 172 columns]"
            ]
          },
          "execution_count": 12,
          "metadata": {},
          "output_type": "execute_result"
        }
      ],
      "source": [
        "make_features(df, 168, 24)\n",
        "df.head()"
      ]
    },
    {
      "cell_type": "markdown",
      "metadata": {
        "id": "TLKJNmAJUAmr"
      },
      "source": [
        "Разделим данные на обучающую и тестовые выборки."
      ]
    },
    {
      "cell_type": "code",
      "execution_count": null,
      "metadata": {
        "id": "d65EUNAQUAmr"
      },
      "outputs": [],
      "source": [
        "# используем параметр shuffle=False, чтобы в тест попали только самые поздние по времени данные\n",
        "train, test = train_test_split(df, shuffle=False, test_size=0.1)"
      ]
    },
    {
      "cell_type": "markdown",
      "metadata": {
        "id": "IuyAPGq9UAmr"
      },
      "source": [
        "Проверим корректность разделения данных"
      ]
    },
    {
      "cell_type": "code",
      "execution_count": null,
      "metadata": {
        "id": "xze30ey3UAms",
        "outputId": "8525166f-1194-4779-c2ad-3c04a2242994"
      },
      "outputs": [
        {
          "name": "stdout",
          "output_type": "stream",
          "text": [
            "2018-03-01 00:00:00 2018-08-13 13:00:00\n",
            "2018-08-13 14:00:00 2018-08-31 23:00:00\n"
          ]
        }
      ],
      "source": [
        "print(train.index.min(), train.index.max())\n",
        "print(test.index.min(), test.index.max())"
      ]
    },
    {
      "cell_type": "markdown",
      "metadata": {
        "id": "cShgEYmWUAmt"
      },
      "source": [
        "Временные интервалы не пересекаются, тестовые данные идут после обучающих. Датасет разделен правильно"
      ]
    },
    {
      "cell_type": "markdown",
      "metadata": {
        "id": "ovroIxV7UAmt"
      },
      "source": [
        "Удалим из обучающей выборки строки с пропусками, выведем размеры выборок на экран"
      ]
    },
    {
      "cell_type": "code",
      "execution_count": null,
      "metadata": {
        "id": "qM7aLfxkUAmt"
      },
      "outputs": [],
      "source": [
        "train = train.dropna()"
      ]
    },
    {
      "cell_type": "code",
      "execution_count": null,
      "metadata": {
        "id": "71xLvNatUAmt",
        "outputId": "4329a453-f8e6-425e-a478-588cf9fa46da"
      },
      "outputs": [
        {
          "data": {
            "text/plain": [
              "(3806, 172)"
            ]
          },
          "execution_count": 17,
          "metadata": {},
          "output_type": "execute_result"
        }
      ],
      "source": [
        "train.shape"
      ]
    },
    {
      "cell_type": "code",
      "execution_count": null,
      "metadata": {
        "scrolled": true,
        "id": "ZAPucL8UUAmu",
        "outputId": "e463e1f8-239c-4986-d8d3-54ec8c14a1d1"
      },
      "outputs": [
        {
          "data": {
            "text/plain": [
              "(442, 172)"
            ]
          },
          "execution_count": 18,
          "metadata": {},
          "output_type": "execute_result"
        }
      ],
      "source": [
        "test.shape"
      ]
    },
    {
      "cell_type": "markdown",
      "metadata": {
        "id": "RUpJdsqEUAmu"
      },
      "source": [
        "Выделим целевой признак ипризаки для каждой выборки."
      ]
    },
    {
      "cell_type": "code",
      "execution_count": null,
      "metadata": {
        "id": "rg9d49mMUAmu"
      },
      "outputs": [],
      "source": [
        "target_train = train['num_orders']\n",
        "target_test = test['num_orders']\n",
        "features_test = test.drop('num_orders', axis=1)\n",
        "features_train = train.drop('num_orders', axis=1)"
      ]
    },
    {
      "cell_type": "markdown",
      "metadata": {
        "id": "kDfVDPMTUAmv"
      },
      "source": [
        "## Обучение"
      ]
    },
    {
      "cell_type": "markdown",
      "metadata": {
        "id": "2u2KgormUAmv"
      },
      "source": [
        "Обучим модели LinearRegression, RandomForestRegressor, CatBoostRegressor подберем гиперпараметры и проверим кросс-валидацией.\n",
        "\n",
        "Для оценки качества прогнозов используем метрику RMSE - она представляет собой стандартное отклонение выборки различий между предсказанными и наблюдаемыми значениями и хорошо подходит для оценки точности прогноза"
      ]
    },
    {
      "cell_type": "markdown",
      "metadata": {
        "id": "t8t798K1UAmv"
      },
      "source": [
        "Для кросс-валидации используем метод TimeSeriesSplit() для разделения обучающей выборки на части"
      ]
    },
    {
      "cell_type": "code",
      "execution_count": null,
      "metadata": {
        "id": "PwArYoVcUAmw"
      },
      "outputs": [],
      "source": [
        "time_split= TimeSeriesSplit(n_splits=3)"
      ]
    },
    {
      "cell_type": "markdown",
      "metadata": {
        "id": "3hcty-msUAmw"
      },
      "source": [
        "Обучим модель Линейной регрессии, проверим качество метрикой RMSE на валидации"
      ]
    },
    {
      "cell_type": "code",
      "execution_count": null,
      "metadata": {
        "id": "Tq0XpwISUAmx",
        "outputId": "e4338c12-b0b6-458b-f28a-064457fb6213"
      },
      "outputs": [
        {
          "name": "stdout",
          "output_type": "stream",
          "text": [
            "CPU times: user 813 ms, sys: 957 ms, total: 1.77 s\n",
            "Wall time: 2.07 s\n"
          ]
        },
        {
          "data": {
            "text/plain": [
              "-23.055599746367466"
            ]
          },
          "execution_count": 21,
          "metadata": {},
          "output_type": "execute_result"
        }
      ],
      "source": [
        "%%time\n",
        "\n",
        "model_linear =LinearRegression()\n",
        "\n",
        "scores = cross_val_score(model_linear, features_train, target_train,scoring = 'neg_root_mean_squared_error',  cv=time_split)\n",
        "final_score = pd.Series(scores).mean()\n",
        "final_score"
      ]
    },
    {
      "cell_type": "markdown",
      "metadata": {
        "id": "ePXddWHMUAmy"
      },
      "source": [
        "Обучим модель Случайного леса и подберем для нее гиперпараметры."
      ]
    },
    {
      "cell_type": "code",
      "execution_count": null,
      "metadata": {
        "scrolled": true,
        "id": "zYyaNLc_UAmy",
        "outputId": "b5944a48-a848-4733-e0eb-b5a1fb20f354"
      },
      "outputs": [
        {
          "name": "stdout",
          "output_type": "stream",
          "text": [
            "Параметры лучшей модели: {'max_depth': 11, 'n_estimators': 90, 'random_state': 12345}\n",
            "RMSE: -23.653089428293626\n",
            "CPU times: user 7min 29s, sys: 491 ms, total: 7min 30s\n",
            "Wall time: 7min 31s\n"
          ]
        }
      ],
      "source": [
        "%%time\n",
        "\n",
        "model_random = RandomForestRegressor()\n",
        "parametrs = { 'n_estimators': range (50, 100, 10),\n",
        "              'max_depth': range (1,13, 2),\n",
        "              'random_state':[12345]}\n",
        "\n",
        "grid = GridSearchCV(model_random, parametrs, cv= time_split,scoring='neg_root_mean_squared_error')\n",
        "model_grid_random = grid.fit(features_train, target_train)\n",
        "\n",
        "print('Параметры лучшей модели:', model_grid_random.best_params_)\n",
        "print('RMSE:', model_grid_random.best_score_)"
      ]
    },
    {
      "cell_type": "markdown",
      "metadata": {
        "id": "yZSPT71NUAmz"
      },
      "source": [
        "Обучим модель CatBoost оценим качество и найдем лучшие гиперпараметры"
      ]
    },
    {
      "cell_type": "code",
      "execution_count": null,
      "metadata": {
        "id": "etDJQhs_UAmz",
        "outputId": "c7989e24-586a-44e1-91a9-efc152171359"
      },
      "outputs": [
        {
          "name": "stdout",
          "output_type": "stream",
          "text": [
            "Параметры лучшей модели: {'depth': 3, 'iterations': 90, 'random_state': 12345}\n",
            "RMSE: -23.835267814416937\n",
            "CPU times: user 13min 54s, sys: 4.01 s, total: 13min 58s\n",
            "Wall time: 15min 13s\n"
          ]
        }
      ],
      "source": [
        "%%time\n",
        "\n",
        "model_catboost = CatBoostRegressor()\n",
        "parametrs = { 'iterations': range (50, 100, 10),\n",
        "              'depth': range (1,13, 2),\n",
        "              'random_state':[12345]}\n",
        "\n",
        "grid = GridSearchCV(model_catboost, parametrs, cv=time_split,scoring='neg_root_mean_squared_error')\n",
        "model_grid_cat = grid.fit(features_train, target_train, verbose = False)\n",
        "\n",
        "print('Параметры лучшей модели:', model_grid_cat.best_params_)\n",
        "print('RMSE:', model_grid_cat.best_score_)"
      ]
    },
    {
      "cell_type": "markdown",
      "metadata": {
        "id": "ePfwErloUAm0"
      },
      "source": [
        "Лучший результат на кросс-валидации показала модель CatBoost, результат модели LinearRegression тоже соответствует задаче, а скорость ее обучения выше чем у CatBoost.\n",
        "\n",
        "Проверим обе модели на тестовой выборке."
      ]
    },
    {
      "cell_type": "markdown",
      "metadata": {
        "id": "W0mT6G3XUAm0"
      },
      "source": [
        "## Тестирование"
      ]
    },
    {
      "cell_type": "markdown",
      "metadata": {
        "id": "bwHPmxthUAm0"
      },
      "source": [
        "Проверим модель линейной регрессии на тестовых данных."
      ]
    },
    {
      "cell_type": "code",
      "execution_count": null,
      "metadata": {
        "scrolled": true,
        "id": "Pi4OMdmHUAm1",
        "outputId": "96ddf3f8-a5be-4d50-95dc-e012ac70418b"
      },
      "outputs": [
        {
          "data": {
            "text/plain": [
              "34.72805588778468"
            ]
          },
          "execution_count": 24,
          "metadata": {},
          "output_type": "execute_result"
        }
      ],
      "source": [
        "model_linear.fit(features_train, target_train)\n",
        "\n",
        "predict_test = model_linear.predict(features_test)\n",
        "\n",
        "mean_squared_error(target_test, predict_test, squared=False)"
      ]
    },
    {
      "cell_type": "markdown",
      "metadata": {
        "id": "M63zhfJkUAm1"
      },
      "source": [
        "RMSE на тестовых данных составил 34.72, что ниже требуемых 48."
      ]
    },
    {
      "cell_type": "markdown",
      "metadata": {
        "id": "UWb0HQhEUAm1"
      },
      "source": [
        "Проверим модель CatBoost на тестовых данных."
      ]
    },
    {
      "cell_type": "code",
      "execution_count": null,
      "metadata": {
        "id": "bHbb6iGHUAm2",
        "outputId": "8db2fef4-6dad-4bc0-8e28-814147017882"
      },
      "outputs": [
        {
          "data": {
            "text/plain": [
              "40.897943532545895"
            ]
          },
          "execution_count": 25,
          "metadata": {},
          "output_type": "execute_result"
        }
      ],
      "source": [
        "predict_test = model_grid_cat.best_estimator_.predict(features_test)\n",
        "\n",
        "mean_squared_error(target_test, predict_test, squared=False)"
      ]
    },
    {
      "cell_type": "markdown",
      "metadata": {
        "id": "peAMFq1pUAm2"
      },
      "source": [
        "RMSE на тестовых данных составил 40.89, что ниже требуемых 48."
      ]
    },
    {
      "cell_type": "markdown",
      "metadata": {
        "id": "7EYJwzAZUAm2"
      },
      "source": [
        "Модель линейной регрессии показала лучший результат на тестовой выборке."
      ]
    },
    {
      "cell_type": "markdown",
      "metadata": {
        "id": "VMMNqsOwUAm3"
      },
      "source": [
        "Проверим модель на адекватность, сравним результат с константной моделью."
      ]
    },
    {
      "cell_type": "code",
      "execution_count": null,
      "metadata": {
        "id": "U93qFoAZUAm3",
        "outputId": "91b54133-59b1-4720-98f8-ab7fc730f048"
      },
      "outputs": [
        {
          "data": {
            "text/plain": [
              "58.856486242815066"
            ]
          },
          "execution_count": 26,
          "metadata": {},
          "output_type": "execute_result"
        }
      ],
      "source": [
        "pred_previous = target_test.shift()\n",
        "pred_previous.iloc[0] = target_train.iloc[-1]\n",
        "\n",
        "mean_squared_error(target_test, pred_previous, squared=False)"
      ]
    },
    {
      "cell_type": "markdown",
      "metadata": {
        "id": "FkcASha2UAm5"
      },
      "source": [
        "Метрика RMSE у лучшей модели меньше чем у константной, наша модель адекватна."
      ]
    },
    {
      "cell_type": "markdown",
      "metadata": {
        "id": "cYFLh2ClUAm5"
      },
      "source": [
        "## Общий вывод"
      ]
    },
    {
      "cell_type": "markdown",
      "metadata": {
        "id": "cCESW0fmUAm5"
      },
      "source": [
        "С течением времени общее количество заказов увеличивается, так же постепенно увеличивается количество шума в данных.\n",
        "\n",
        "Заметно увеличение количества заказов по субботам и понедельникам, имеется зависимость от дня недели.\n",
        "\n",
        "Данные имеют выраженную сезонность в течении суток, кол-во заказов меняется в зависимости от часа.\n",
        "\n",
        "Обучили три модели: LinearRegression, RandomForestRegressor, CatBoostRegressor\n",
        "\n",
        "Лучшее качество показала модель LinearRegression, на тестовых данных метрика RMSE составила 34.72 и не превышает требуемых 48.\n",
        "\n",
        "Модель прошла проверку на адекватность.\n"
      ]
    }
  ],
  "metadata": {
    "ExecuteTimeLog": [
      {
        "duration": 2066,
        "start_time": "2023-08-09T13:59:55.717Z"
      },
      {
        "duration": 19,
        "start_time": "2023-08-09T14:00:13.004Z"
      },
      {
        "duration": 4,
        "start_time": "2023-08-09T14:00:20.301Z"
      },
      {
        "duration": 120,
        "start_time": "2023-08-09T14:01:07.811Z"
      },
      {
        "duration": 15,
        "start_time": "2023-08-09T14:02:25.291Z"
      },
      {
        "duration": 16,
        "start_time": "2023-08-09T14:02:30.340Z"
      },
      {
        "duration": 9,
        "start_time": "2023-08-09T14:02:35.962Z"
      },
      {
        "duration": 21,
        "start_time": "2023-08-09T14:02:37.170Z"
      },
      {
        "duration": 307,
        "start_time": "2023-08-09T14:02:40.303Z"
      },
      {
        "duration": 225,
        "start_time": "2023-08-09T14:02:52.179Z"
      },
      {
        "duration": 339,
        "start_time": "2023-08-09T14:04:05.506Z"
      },
      {
        "duration": 8,
        "start_time": "2023-08-09T14:04:06.153Z"
      },
      {
        "duration": 15,
        "start_time": "2023-08-09T14:04:13.249Z"
      },
      {
        "duration": 1694,
        "start_time": "2023-08-09T14:04:21.091Z"
      },
      {
        "duration": 159,
        "start_time": "2023-08-09T14:04:22.788Z"
      },
      {
        "duration": 174,
        "start_time": "2023-08-09T14:04:22.953Z"
      },
      {
        "duration": 0,
        "start_time": "2023-08-09T14:04:23.130Z"
      },
      {
        "duration": 0,
        "start_time": "2023-08-09T14:04:23.131Z"
      },
      {
        "duration": 0,
        "start_time": "2023-08-09T14:04:23.133Z"
      },
      {
        "duration": 0,
        "start_time": "2023-08-09T14:04:23.134Z"
      },
      {
        "duration": 0,
        "start_time": "2023-08-09T14:04:23.135Z"
      },
      {
        "duration": 1984,
        "start_time": "2023-08-09T14:04:39.838Z"
      },
      {
        "duration": 228,
        "start_time": "2023-08-09T14:04:41.825Z"
      },
      {
        "duration": 21,
        "start_time": "2023-08-09T14:04:42.055Z"
      },
      {
        "duration": 29,
        "start_time": "2023-08-09T14:04:42.080Z"
      },
      {
        "duration": 8,
        "start_time": "2023-08-09T14:04:42.112Z"
      },
      {
        "duration": 45,
        "start_time": "2023-08-09T14:04:42.123Z"
      },
      {
        "duration": 376,
        "start_time": "2023-08-09T14:04:42.171Z"
      },
      {
        "duration": 148,
        "start_time": "2023-08-09T14:04:42.549Z"
      },
      {
        "duration": 2820,
        "start_time": "2023-08-09T14:05:04.933Z"
      },
      {
        "duration": 59,
        "start_time": "2023-08-09T14:05:07.756Z"
      },
      {
        "duration": 15,
        "start_time": "2023-08-09T14:05:07.817Z"
      },
      {
        "duration": 61,
        "start_time": "2023-08-09T14:05:07.835Z"
      },
      {
        "duration": 21,
        "start_time": "2023-08-09T14:05:07.899Z"
      },
      {
        "duration": 43,
        "start_time": "2023-08-09T14:05:07.922Z"
      },
      {
        "duration": 269,
        "start_time": "2023-08-09T14:05:07.967Z"
      },
      {
        "duration": 201,
        "start_time": "2023-08-09T14:05:08.239Z"
      },
      {
        "duration": 166,
        "start_time": "2023-08-09T14:06:16.311Z"
      },
      {
        "duration": 16,
        "start_time": "2023-08-09T14:06:29.440Z"
      },
      {
        "duration": 257,
        "start_time": "2023-08-09T14:06:44.489Z"
      },
      {
        "duration": 353,
        "start_time": "2023-08-09T14:07:53.663Z"
      },
      {
        "duration": 348,
        "start_time": "2023-08-09T14:10:08.718Z"
      },
      {
        "duration": 28,
        "start_time": "2023-08-09T14:11:26.967Z"
      },
      {
        "duration": 7,
        "start_time": "2023-08-09T14:22:51.857Z"
      },
      {
        "duration": 25,
        "start_time": "2023-08-09T14:22:52.727Z"
      },
      {
        "duration": 217,
        "start_time": "2023-08-09T14:23:03.967Z"
      },
      {
        "duration": 189,
        "start_time": "2023-08-09T14:29:46.189Z"
      },
      {
        "duration": 199,
        "start_time": "2023-08-09T14:30:01.145Z"
      },
      {
        "duration": 15,
        "start_time": "2023-08-09T14:30:25.003Z"
      },
      {
        "duration": 1546,
        "start_time": "2023-08-09T14:31:16.223Z"
      },
      {
        "duration": 51,
        "start_time": "2023-08-09T14:31:17.772Z"
      },
      {
        "duration": 10,
        "start_time": "2023-08-09T14:31:17.825Z"
      },
      {
        "duration": 11,
        "start_time": "2023-08-09T14:31:17.837Z"
      },
      {
        "duration": 11,
        "start_time": "2023-08-09T14:31:17.849Z"
      },
      {
        "duration": 280,
        "start_time": "2023-08-09T14:31:17.861Z"
      },
      {
        "duration": 7,
        "start_time": "2023-08-09T14:31:18.142Z"
      },
      {
        "duration": 323,
        "start_time": "2023-08-09T14:31:18.151Z"
      },
      {
        "duration": 152,
        "start_time": "2023-08-09T14:31:18.476Z"
      },
      {
        "duration": 773,
        "start_time": "2023-08-09T14:33:12.616Z"
      },
      {
        "duration": 730,
        "start_time": "2023-08-09T14:33:41.161Z"
      },
      {
        "duration": 14,
        "start_time": "2023-08-09T14:34:59.569Z"
      },
      {
        "duration": 21,
        "start_time": "2023-08-09T14:35:09.800Z"
      },
      {
        "duration": 1614,
        "start_time": "2023-08-09T14:35:22.830Z"
      },
      {
        "duration": 50,
        "start_time": "2023-08-09T14:35:24.447Z"
      },
      {
        "duration": 10,
        "start_time": "2023-08-09T14:35:24.499Z"
      },
      {
        "duration": 16,
        "start_time": "2023-08-09T14:35:24.511Z"
      },
      {
        "duration": 10,
        "start_time": "2023-08-09T14:35:24.529Z"
      },
      {
        "duration": 279,
        "start_time": "2023-08-09T14:35:24.541Z"
      },
      {
        "duration": 7,
        "start_time": "2023-08-09T14:35:24.821Z"
      },
      {
        "duration": 324,
        "start_time": "2023-08-09T14:35:24.830Z"
      },
      {
        "duration": 798,
        "start_time": "2023-08-09T14:35:25.156Z"
      },
      {
        "duration": 141,
        "start_time": "2023-08-09T14:36:06.391Z"
      },
      {
        "duration": 745,
        "start_time": "2023-08-09T14:36:23.399Z"
      },
      {
        "duration": 316,
        "start_time": "2023-08-09T14:36:55.056Z"
      },
      {
        "duration": 309,
        "start_time": "2023-08-09T14:37:01.006Z"
      },
      {
        "duration": 46,
        "start_time": "2023-08-09T16:04:22.671Z"
      },
      {
        "duration": 1613,
        "start_time": "2023-08-09T16:04:33.118Z"
      },
      {
        "duration": 105,
        "start_time": "2023-08-09T16:04:34.733Z"
      },
      {
        "duration": 10,
        "start_time": "2023-08-09T16:04:34.840Z"
      },
      {
        "duration": 17,
        "start_time": "2023-08-09T16:04:34.852Z"
      },
      {
        "duration": 8,
        "start_time": "2023-08-09T16:04:34.870Z"
      },
      {
        "duration": 390,
        "start_time": "2023-08-09T16:04:34.879Z"
      },
      {
        "duration": 7,
        "start_time": "2023-08-09T16:04:35.271Z"
      },
      {
        "duration": 220,
        "start_time": "2023-08-09T16:04:35.279Z"
      },
      {
        "duration": 4,
        "start_time": "2023-08-09T16:04:35.501Z"
      },
      {
        "duration": 678,
        "start_time": "2023-08-09T16:04:35.507Z"
      },
      {
        "duration": 305,
        "start_time": "2023-08-09T16:04:43.996Z"
      },
      {
        "duration": 279,
        "start_time": "2023-08-09T16:04:56.443Z"
      },
      {
        "duration": 769,
        "start_time": "2023-08-09T16:06:29.534Z"
      },
      {
        "duration": 886,
        "start_time": "2023-08-09T16:06:49.103Z"
      },
      {
        "duration": 5,
        "start_time": "2023-08-09T16:07:39.281Z"
      },
      {
        "duration": 540,
        "start_time": "2023-08-09T16:08:00.873Z"
      },
      {
        "duration": 4,
        "start_time": "2023-08-09T16:09:37.112Z"
      },
      {
        "duration": 618,
        "start_time": "2023-08-09T16:09:40.612Z"
      },
      {
        "duration": 116,
        "start_time": "2023-08-09T16:21:48.142Z"
      },
      {
        "duration": 1655,
        "start_time": "2023-08-09T16:22:00.677Z"
      },
      {
        "duration": 16,
        "start_time": "2023-08-09T16:22:42.564Z"
      },
      {
        "duration": 14,
        "start_time": "2023-08-09T16:22:59.805Z"
      },
      {
        "duration": 9,
        "start_time": "2023-08-09T16:25:01.535Z"
      },
      {
        "duration": 13,
        "start_time": "2023-08-09T16:26:04.385Z"
      },
      {
        "duration": 10,
        "start_time": "2023-08-09T16:26:11.618Z"
      },
      {
        "duration": 80,
        "start_time": "2023-08-09T16:26:44.499Z"
      },
      {
        "duration": 4,
        "start_time": "2023-08-09T16:26:51.955Z"
      },
      {
        "duration": 3,
        "start_time": "2023-08-09T16:27:11.834Z"
      },
      {
        "duration": 3,
        "start_time": "2023-08-09T16:28:33.486Z"
      },
      {
        "duration": 3,
        "start_time": "2023-08-09T16:28:48.831Z"
      },
      {
        "duration": 1373,
        "start_time": "2023-08-09T16:29:31.706Z"
      },
      {
        "duration": 47,
        "start_time": "2023-08-09T16:29:33.080Z"
      },
      {
        "duration": 10,
        "start_time": "2023-08-09T16:29:33.128Z"
      },
      {
        "duration": 18,
        "start_time": "2023-08-09T16:29:33.140Z"
      },
      {
        "duration": 20,
        "start_time": "2023-08-09T16:29:33.160Z"
      },
      {
        "duration": 6,
        "start_time": "2023-08-09T16:29:33.181Z"
      },
      {
        "duration": 337,
        "start_time": "2023-08-09T16:29:33.188Z"
      },
      {
        "duration": 837,
        "start_time": "2023-08-09T16:29:33.526Z"
      },
      {
        "duration": 6,
        "start_time": "2023-08-09T16:29:34.364Z"
      },
      {
        "duration": 581,
        "start_time": "2023-08-09T16:29:34.372Z"
      },
      {
        "duration": 17,
        "start_time": "2023-08-09T16:29:34.954Z"
      },
      {
        "duration": 3,
        "start_time": "2023-08-09T16:29:34.973Z"
      },
      {
        "duration": 18,
        "start_time": "2023-08-09T16:29:34.978Z"
      },
      {
        "duration": 16,
        "start_time": "2023-08-09T16:29:34.998Z"
      },
      {
        "duration": 19,
        "start_time": "2023-08-09T16:29:35.016Z"
      },
      {
        "duration": 16,
        "start_time": "2023-08-09T16:29:35.036Z"
      },
      {
        "duration": 176,
        "start_time": "2023-08-09T16:39:55.849Z"
      },
      {
        "duration": 3,
        "start_time": "2023-08-09T16:40:03.197Z"
      },
      {
        "duration": 116,
        "start_time": "2023-08-09T16:40:12.249Z"
      },
      {
        "duration": 3,
        "start_time": "2023-08-09T16:40:52.640Z"
      },
      {
        "duration": 112,
        "start_time": "2023-08-09T16:40:59.922Z"
      },
      {
        "duration": 84,
        "start_time": "2023-08-09T16:41:17.628Z"
      },
      {
        "duration": 5,
        "start_time": "2023-08-09T16:41:55.812Z"
      },
      {
        "duration": 46,
        "start_time": "2023-08-09T16:41:57.995Z"
      },
      {
        "duration": 30765,
        "start_time": "2023-08-09T16:42:35.401Z"
      },
      {
        "duration": 2,
        "start_time": "2023-08-09T16:46:05.267Z"
      },
      {
        "duration": 12,
        "start_time": "2023-08-09T16:47:30.699Z"
      },
      {
        "duration": 11,
        "start_time": "2023-08-09T16:49:08.439Z"
      },
      {
        "duration": 48913,
        "start_time": "2023-08-09T16:50:18.253Z"
      },
      {
        "duration": 20,
        "start_time": "2023-08-09T16:51:07.168Z"
      },
      {
        "duration": 4,
        "start_time": "2023-08-09T16:51:20.098Z"
      },
      {
        "duration": 5,
        "start_time": "2023-08-09T16:51:22.544Z"
      },
      {
        "duration": 5,
        "start_time": "2023-08-09T16:51:24.633Z"
      },
      {
        "duration": 285,
        "start_time": "2023-08-09T16:51:27.156Z"
      },
      {
        "duration": 1376,
        "start_time": "2023-08-09T16:51:45.413Z"
      },
      {
        "duration": 46,
        "start_time": "2023-08-09T16:51:46.791Z"
      },
      {
        "duration": 9,
        "start_time": "2023-08-09T16:51:46.839Z"
      },
      {
        "duration": 16,
        "start_time": "2023-08-09T16:51:46.850Z"
      },
      {
        "duration": 15,
        "start_time": "2023-08-09T16:51:46.867Z"
      },
      {
        "duration": 7,
        "start_time": "2023-08-09T16:51:46.883Z"
      },
      {
        "duration": 338,
        "start_time": "2023-08-09T16:51:46.891Z"
      },
      {
        "duration": 882,
        "start_time": "2023-08-09T16:51:47.230Z"
      },
      {
        "duration": 5,
        "start_time": "2023-08-09T16:51:48.113Z"
      },
      {
        "duration": 626,
        "start_time": "2023-08-09T16:51:48.120Z"
      },
      {
        "duration": 24,
        "start_time": "2023-08-09T16:51:48.748Z"
      },
      {
        "duration": 4,
        "start_time": "2023-08-09T16:51:48.774Z"
      },
      {
        "duration": 20,
        "start_time": "2023-08-09T16:51:48.779Z"
      },
      {
        "duration": 27,
        "start_time": "2023-08-09T16:51:48.800Z"
      },
      {
        "duration": 29,
        "start_time": "2023-08-09T16:51:48.828Z"
      },
      {
        "duration": 16,
        "start_time": "2023-08-09T16:51:48.858Z"
      },
      {
        "duration": 162,
        "start_time": "2023-08-09T16:51:48.875Z"
      },
      {
        "duration": 1373,
        "start_time": "2023-08-09T16:52:20.713Z"
      },
      {
        "duration": 48,
        "start_time": "2023-08-09T16:52:22.089Z"
      },
      {
        "duration": 12,
        "start_time": "2023-08-09T16:52:22.138Z"
      },
      {
        "duration": 31,
        "start_time": "2023-08-09T16:52:22.152Z"
      },
      {
        "duration": 29,
        "start_time": "2023-08-09T16:52:22.184Z"
      },
      {
        "duration": 11,
        "start_time": "2023-08-09T16:52:22.214Z"
      },
      {
        "duration": 358,
        "start_time": "2023-08-09T16:52:22.227Z"
      },
      {
        "duration": 895,
        "start_time": "2023-08-09T16:52:22.587Z"
      },
      {
        "duration": 5,
        "start_time": "2023-08-09T16:52:23.484Z"
      },
      {
        "duration": 560,
        "start_time": "2023-08-09T16:52:23.491Z"
      },
      {
        "duration": 34,
        "start_time": "2023-08-09T16:52:24.052Z"
      },
      {
        "duration": 3,
        "start_time": "2023-08-09T16:52:24.088Z"
      },
      {
        "duration": 16,
        "start_time": "2023-08-09T16:52:24.093Z"
      },
      {
        "duration": 15,
        "start_time": "2023-08-09T16:52:24.110Z"
      },
      {
        "duration": 15,
        "start_time": "2023-08-09T16:52:24.126Z"
      },
      {
        "duration": 5,
        "start_time": "2023-08-09T16:52:24.142Z"
      },
      {
        "duration": 194,
        "start_time": "2023-08-09T16:52:24.148Z"
      },
      {
        "duration": 1343,
        "start_time": "2023-08-09T16:52:36.730Z"
      },
      {
        "duration": 46,
        "start_time": "2023-08-09T16:52:38.075Z"
      },
      {
        "duration": 9,
        "start_time": "2023-08-09T16:52:38.122Z"
      },
      {
        "duration": 19,
        "start_time": "2023-08-09T16:52:38.133Z"
      },
      {
        "duration": 13,
        "start_time": "2023-08-09T16:52:38.153Z"
      },
      {
        "duration": 6,
        "start_time": "2023-08-09T16:52:38.167Z"
      },
      {
        "duration": 331,
        "start_time": "2023-08-09T16:52:38.174Z"
      },
      {
        "duration": 860,
        "start_time": "2023-08-09T16:52:38.507Z"
      },
      {
        "duration": 5,
        "start_time": "2023-08-09T16:52:39.369Z"
      },
      {
        "duration": 590,
        "start_time": "2023-08-09T16:52:39.376Z"
      },
      {
        "duration": 33,
        "start_time": "2023-08-09T16:52:39.968Z"
      },
      {
        "duration": 4,
        "start_time": "2023-08-09T16:52:40.003Z"
      },
      {
        "duration": 21,
        "start_time": "2023-08-09T16:52:40.009Z"
      },
      {
        "duration": 15,
        "start_time": "2023-08-09T16:52:40.031Z"
      },
      {
        "duration": 30,
        "start_time": "2023-08-09T16:52:40.048Z"
      },
      {
        "duration": 23,
        "start_time": "2023-08-09T16:52:40.080Z"
      },
      {
        "duration": 342,
        "start_time": "2023-08-09T16:52:40.104Z"
      },
      {
        "duration": 1294,
        "start_time": "2023-08-09T16:52:59.394Z"
      },
      {
        "duration": 48,
        "start_time": "2023-08-09T16:53:00.690Z"
      },
      {
        "duration": 9,
        "start_time": "2023-08-09T16:53:00.740Z"
      },
      {
        "duration": 30,
        "start_time": "2023-08-09T16:53:00.751Z"
      },
      {
        "duration": 37,
        "start_time": "2023-08-09T16:53:00.783Z"
      },
      {
        "duration": 30,
        "start_time": "2023-08-09T16:53:00.822Z"
      },
      {
        "duration": 360,
        "start_time": "2023-08-09T16:53:00.853Z"
      },
      {
        "duration": 896,
        "start_time": "2023-08-09T16:53:01.215Z"
      },
      {
        "duration": 6,
        "start_time": "2023-08-09T16:53:02.112Z"
      },
      {
        "duration": 643,
        "start_time": "2023-08-09T16:53:02.120Z"
      },
      {
        "duration": 44,
        "start_time": "2023-08-09T16:53:02.765Z"
      },
      {
        "duration": 5,
        "start_time": "2023-08-09T16:53:02.810Z"
      },
      {
        "duration": 31,
        "start_time": "2023-08-09T16:53:02.817Z"
      },
      {
        "duration": 27,
        "start_time": "2023-08-09T16:53:02.850Z"
      },
      {
        "duration": 38,
        "start_time": "2023-08-09T16:53:02.878Z"
      },
      {
        "duration": 16,
        "start_time": "2023-08-09T16:53:02.918Z"
      },
      {
        "duration": 602,
        "start_time": "2023-08-09T16:53:02.935Z"
      },
      {
        "duration": 161922,
        "start_time": "2023-08-09T16:53:03.539Z"
      },
      {
        "duration": 16,
        "start_time": "2023-08-09T16:55:45.463Z"
      },
      {
        "duration": 48150,
        "start_time": "2023-08-09T16:55:45.480Z"
      },
      {
        "duration": 15,
        "start_time": "2023-08-09T16:56:33.632Z"
      },
      {
        "duration": 22,
        "start_time": "2023-08-09T16:56:33.649Z"
      },
      {
        "duration": 204,
        "start_time": "2023-08-09T16:57:04.835Z"
      },
      {
        "duration": 1849,
        "start_time": "2023-08-10T11:29:13.857Z"
      },
      {
        "duration": 171,
        "start_time": "2023-08-10T11:29:15.708Z"
      },
      {
        "duration": 11,
        "start_time": "2023-08-10T11:29:15.881Z"
      },
      {
        "duration": 108,
        "start_time": "2023-08-10T11:29:15.894Z"
      },
      {
        "duration": 17,
        "start_time": "2023-08-10T11:29:16.004Z"
      },
      {
        "duration": 8,
        "start_time": "2023-08-10T11:29:16.022Z"
      },
      {
        "duration": 405,
        "start_time": "2023-08-10T11:29:16.032Z"
      },
      {
        "duration": 1073,
        "start_time": "2023-08-10T11:29:16.438Z"
      },
      {
        "duration": 6,
        "start_time": "2023-08-10T11:29:17.513Z"
      },
      {
        "duration": 685,
        "start_time": "2023-08-10T11:29:17.521Z"
      },
      {
        "duration": 68,
        "start_time": "2023-08-10T11:29:18.208Z"
      },
      {
        "duration": 6,
        "start_time": "2023-08-10T11:29:18.278Z"
      },
      {
        "duration": 17,
        "start_time": "2023-08-10T11:29:18.286Z"
      },
      {
        "duration": 9,
        "start_time": "2023-08-10T11:29:18.305Z"
      },
      {
        "duration": 6,
        "start_time": "2023-08-10T11:29:18.315Z"
      },
      {
        "duration": 8,
        "start_time": "2023-08-10T11:29:18.323Z"
      },
      {
        "duration": 6,
        "start_time": "2023-08-10T11:29:18.332Z"
      },
      {
        "duration": 268,
        "start_time": "2023-08-10T11:29:18.339Z"
      },
      {
        "duration": 3946,
        "start_time": "2023-08-10T11:38:22.039Z"
      },
      {
        "duration": 161336,
        "start_time": "2023-08-10T11:38:25.992Z"
      },
      {
        "duration": 40,
        "start_time": "2023-08-10T11:41:07.330Z"
      },
      {
        "duration": 397075,
        "start_time": "2023-08-10T11:41:07.372Z"
      },
      {
        "duration": 8,
        "start_time": "2023-08-10T11:47:44.449Z"
      },
      {
        "duration": 43,
        "start_time": "2023-08-10T11:47:44.459Z"
      },
      {
        "duration": 297,
        "start_time": "2023-08-10T11:47:44.506Z"
      },
      {
        "duration": 287,
        "start_time": "2023-08-10T11:48:39.628Z"
      },
      {
        "duration": 302,
        "start_time": "2023-08-10T11:48:50.898Z"
      },
      {
        "duration": 438,
        "start_time": "2023-08-10T11:55:34.422Z"
      },
      {
        "duration": 4,
        "start_time": "2023-08-10T11:57:22.059Z"
      },
      {
        "duration": 3,
        "start_time": "2023-08-10T11:58:05.557Z"
      },
      {
        "duration": 973,
        "start_time": "2023-08-10T11:58:13.098Z"
      },
      {
        "duration": 188880,
        "start_time": "2023-08-10T11:58:27.963Z"
      },
      {
        "duration": 4,
        "start_time": "2023-08-10T12:01:36.846Z"
      },
      {
        "duration": 130,
        "start_time": "2023-08-10T12:01:36.859Z"
      },
      {
        "duration": 1106,
        "start_time": "2023-08-10T12:02:11.671Z"
      },
      {
        "duration": 5,
        "start_time": "2023-08-10T12:02:37.085Z"
      },
      {
        "duration": 1504,
        "start_time": "2023-08-10T12:02:53.459Z"
      },
      {
        "duration": 6,
        "start_time": "2023-08-10T12:02:57.651Z"
      },
      {
        "duration": 1293,
        "start_time": "2023-08-10T12:03:29.667Z"
      },
      {
        "duration": 1012,
        "start_time": "2023-08-10T12:03:49.055Z"
      },
      {
        "duration": 3,
        "start_time": "2023-08-10T12:04:24.403Z"
      },
      {
        "duration": 473,
        "start_time": "2023-08-10T12:04:28.087Z"
      },
      {
        "duration": 6,
        "start_time": "2023-08-10T12:13:29.802Z"
      },
      {
        "duration": 16,
        "start_time": "2023-08-10T12:13:55.861Z"
      },
      {
        "duration": 264,
        "start_time": "2023-08-10T12:26:42.224Z"
      },
      {
        "duration": 247,
        "start_time": "2023-08-10T12:26:57.569Z"
      },
      {
        "duration": 243,
        "start_time": "2023-08-10T12:27:04.190Z"
      },
      {
        "duration": 232,
        "start_time": "2023-08-10T12:27:40.582Z"
      },
      {
        "duration": 123,
        "start_time": "2023-08-10T12:27:56.872Z"
      },
      {
        "duration": 1462,
        "start_time": "2023-08-10T12:28:45.777Z"
      },
      {
        "duration": 49,
        "start_time": "2023-08-10T12:28:47.241Z"
      },
      {
        "duration": 10,
        "start_time": "2023-08-10T12:28:47.292Z"
      },
      {
        "duration": 21,
        "start_time": "2023-08-10T12:28:47.303Z"
      },
      {
        "duration": 23,
        "start_time": "2023-08-10T12:28:47.326Z"
      },
      {
        "duration": 6,
        "start_time": "2023-08-10T12:28:47.351Z"
      },
      {
        "duration": 945,
        "start_time": "2023-08-10T12:28:47.359Z"
      },
      {
        "duration": 6,
        "start_time": "2023-08-10T12:28:48.306Z"
      },
      {
        "duration": 726,
        "start_time": "2023-08-10T12:28:48.314Z"
      },
      {
        "duration": 5,
        "start_time": "2023-08-10T12:28:49.041Z"
      },
      {
        "duration": 579,
        "start_time": "2023-08-10T12:28:49.060Z"
      },
      {
        "duration": 396,
        "start_time": "2023-08-10T12:28:49.641Z"
      },
      {
        "duration": 0,
        "start_time": "2023-08-10T12:28:50.039Z"
      },
      {
        "duration": 0,
        "start_time": "2023-08-10T12:28:50.040Z"
      },
      {
        "duration": 0,
        "start_time": "2023-08-10T12:28:50.041Z"
      },
      {
        "duration": 0,
        "start_time": "2023-08-10T12:28:50.042Z"
      },
      {
        "duration": 0,
        "start_time": "2023-08-10T12:28:50.043Z"
      },
      {
        "duration": 0,
        "start_time": "2023-08-10T12:28:50.060Z"
      },
      {
        "duration": 0,
        "start_time": "2023-08-10T12:28:50.061Z"
      },
      {
        "duration": 0,
        "start_time": "2023-08-10T12:28:50.062Z"
      },
      {
        "duration": 1,
        "start_time": "2023-08-10T12:28:50.062Z"
      },
      {
        "duration": 0,
        "start_time": "2023-08-10T12:28:50.063Z"
      },
      {
        "duration": 0,
        "start_time": "2023-08-10T12:28:50.064Z"
      },
      {
        "duration": 0,
        "start_time": "2023-08-10T12:28:50.065Z"
      },
      {
        "duration": 0,
        "start_time": "2023-08-10T12:28:50.067Z"
      },
      {
        "duration": 0,
        "start_time": "2023-08-10T12:28:50.068Z"
      },
      {
        "duration": 265,
        "start_time": "2023-08-10T12:29:49.983Z"
      },
      {
        "duration": 1566,
        "start_time": "2023-08-10T12:33:08.882Z"
      },
      {
        "duration": 52,
        "start_time": "2023-08-10T12:33:10.450Z"
      },
      {
        "duration": 13,
        "start_time": "2023-08-10T12:33:10.503Z"
      },
      {
        "duration": 13,
        "start_time": "2023-08-10T12:33:10.519Z"
      },
      {
        "duration": 16,
        "start_time": "2023-08-10T12:33:10.534Z"
      },
      {
        "duration": 8,
        "start_time": "2023-08-10T12:33:10.558Z"
      },
      {
        "duration": 1545,
        "start_time": "2023-08-10T12:33:10.568Z"
      },
      {
        "duration": 47,
        "start_time": "2023-08-10T12:33:12.115Z"
      },
      {
        "duration": 1019,
        "start_time": "2023-08-10T12:33:12.165Z"
      },
      {
        "duration": 6,
        "start_time": "2023-08-10T12:33:13.187Z"
      },
      {
        "duration": 640,
        "start_time": "2023-08-10T12:33:13.195Z"
      },
      {
        "duration": 313,
        "start_time": "2023-08-10T12:33:13.837Z"
      },
      {
        "duration": 83,
        "start_time": "2023-08-10T12:33:14.160Z"
      },
      {
        "duration": 19,
        "start_time": "2023-08-10T12:33:14.245Z"
      },
      {
        "duration": 15,
        "start_time": "2023-08-10T12:33:14.266Z"
      },
      {
        "duration": 7,
        "start_time": "2023-08-10T12:33:14.283Z"
      },
      {
        "duration": 6,
        "start_time": "2023-08-10T12:33:14.292Z"
      },
      {
        "duration": 9,
        "start_time": "2023-08-10T12:33:14.300Z"
      },
      {
        "duration": 7,
        "start_time": "2023-08-10T12:33:14.312Z"
      },
      {
        "duration": 6,
        "start_time": "2023-08-10T12:33:14.321Z"
      },
      {
        "duration": 698,
        "start_time": "2023-08-10T12:33:14.363Z"
      },
      {
        "duration": 6,
        "start_time": "2023-08-10T12:33:15.062Z"
      },
      {
        "duration": 3617,
        "start_time": "2023-08-10T12:33:42.874Z"
      },
      {
        "duration": 91,
        "start_time": "2023-08-10T12:33:46.493Z"
      },
      {
        "duration": 12,
        "start_time": "2023-08-10T12:33:46.586Z"
      },
      {
        "duration": 64,
        "start_time": "2023-08-10T12:33:46.600Z"
      },
      {
        "duration": 22,
        "start_time": "2023-08-10T12:33:46.666Z"
      },
      {
        "duration": 13,
        "start_time": "2023-08-10T12:33:46.690Z"
      },
      {
        "duration": 1611,
        "start_time": "2023-08-10T12:33:46.706Z"
      },
      {
        "duration": 9,
        "start_time": "2023-08-10T12:33:48.319Z"
      },
      {
        "duration": 861,
        "start_time": "2023-08-10T12:33:48.330Z"
      },
      {
        "duration": 6,
        "start_time": "2023-08-10T12:33:49.194Z"
      },
      {
        "duration": 653,
        "start_time": "2023-08-10T12:33:49.202Z"
      },
      {
        "duration": 304,
        "start_time": "2023-08-10T12:33:49.859Z"
      },
      {
        "duration": 58,
        "start_time": "2023-08-10T12:33:50.165Z"
      },
      {
        "duration": 7,
        "start_time": "2023-08-10T12:33:50.225Z"
      },
      {
        "duration": 25,
        "start_time": "2023-08-10T12:33:50.234Z"
      },
      {
        "duration": 5,
        "start_time": "2023-08-10T12:33:50.262Z"
      },
      {
        "duration": 10,
        "start_time": "2023-08-10T12:33:50.269Z"
      },
      {
        "duration": 9,
        "start_time": "2023-08-10T12:33:50.280Z"
      },
      {
        "duration": 13,
        "start_time": "2023-08-10T12:33:50.291Z"
      },
      {
        "duration": 5,
        "start_time": "2023-08-10T12:33:50.307Z"
      },
      {
        "duration": 447,
        "start_time": "2023-08-10T12:33:50.314Z"
      },
      {
        "duration": 4,
        "start_time": "2023-08-10T12:33:50.763Z"
      },
      {
        "duration": 118456,
        "start_time": "2023-08-10T12:33:50.769Z"
      },
      {
        "duration": 18,
        "start_time": "2023-08-10T12:35:49.226Z"
      },
      {
        "duration": 414242,
        "start_time": "2023-08-10T12:35:49.245Z"
      },
      {
        "duration": 7,
        "start_time": "2023-08-10T12:42:43.489Z"
      },
      {
        "duration": 1841,
        "start_time": "2023-08-10T12:48:23.699Z"
      },
      {
        "duration": 70,
        "start_time": "2023-08-10T12:48:25.543Z"
      },
      {
        "duration": 11,
        "start_time": "2023-08-10T12:48:25.614Z"
      },
      {
        "duration": 18,
        "start_time": "2023-08-10T12:48:25.627Z"
      },
      {
        "duration": 41,
        "start_time": "2023-08-10T12:48:25.648Z"
      },
      {
        "duration": 36,
        "start_time": "2023-08-10T12:48:25.691Z"
      },
      {
        "duration": 1688,
        "start_time": "2023-08-10T12:48:25.729Z"
      },
      {
        "duration": 46,
        "start_time": "2023-08-10T12:48:27.419Z"
      },
      {
        "duration": 1836,
        "start_time": "2023-08-10T12:48:27.468Z"
      },
      {
        "duration": 6,
        "start_time": "2023-08-10T12:48:29.307Z"
      },
      {
        "duration": 701,
        "start_time": "2023-08-10T12:48:29.315Z"
      },
      {
        "duration": 333,
        "start_time": "2023-08-10T12:48:30.018Z"
      },
      {
        "duration": 176,
        "start_time": "2023-08-10T12:48:30.353Z"
      },
      {
        "duration": 18,
        "start_time": "2023-08-10T12:48:30.532Z"
      },
      {
        "duration": 35,
        "start_time": "2023-08-10T12:48:30.559Z"
      },
      {
        "duration": 60,
        "start_time": "2023-08-10T12:48:30.601Z"
      },
      {
        "duration": 45,
        "start_time": "2023-08-10T12:48:30.664Z"
      },
      {
        "duration": 75,
        "start_time": "2023-08-10T12:48:30.711Z"
      },
      {
        "duration": 100,
        "start_time": "2023-08-10T12:48:30.788Z"
      },
      {
        "duration": 100,
        "start_time": "2023-08-10T12:48:30.890Z"
      },
      {
        "duration": 8676,
        "start_time": "2023-08-10T12:48:30.993Z"
      },
      {
        "duration": 13,
        "start_time": "2023-08-10T12:48:39.674Z"
      },
      {
        "duration": 497748,
        "start_time": "2023-08-10T12:48:39.689Z"
      },
      {
        "duration": 36,
        "start_time": "2023-08-10T12:56:57.439Z"
      },
      {
        "duration": 1522,
        "start_time": "2023-08-10T13:14:07.332Z"
      },
      {
        "duration": 54,
        "start_time": "2023-08-10T13:14:08.857Z"
      },
      {
        "duration": 12,
        "start_time": "2023-08-10T13:14:08.913Z"
      },
      {
        "duration": 19,
        "start_time": "2023-08-10T13:14:08.928Z"
      },
      {
        "duration": 23,
        "start_time": "2023-08-10T13:14:08.948Z"
      },
      {
        "duration": 8,
        "start_time": "2023-08-10T13:14:08.973Z"
      },
      {
        "duration": 1238,
        "start_time": "2023-08-10T13:14:08.983Z"
      },
      {
        "duration": 10,
        "start_time": "2023-08-10T13:14:10.264Z"
      },
      {
        "duration": 1549,
        "start_time": "2023-08-10T13:14:10.276Z"
      },
      {
        "duration": 6,
        "start_time": "2023-08-10T13:14:11.828Z"
      },
      {
        "duration": 607,
        "start_time": "2023-08-10T13:14:11.836Z"
      },
      {
        "duration": 298,
        "start_time": "2023-08-10T13:14:12.445Z"
      },
      {
        "duration": 157,
        "start_time": "2023-08-10T13:14:12.745Z"
      },
      {
        "duration": 125,
        "start_time": "2023-08-10T13:14:12.904Z"
      },
      {
        "duration": 0,
        "start_time": "2023-08-10T13:14:13.033Z"
      },
      {
        "duration": 0,
        "start_time": "2023-08-10T13:14:13.034Z"
      },
      {
        "duration": 0,
        "start_time": "2023-08-10T13:14:13.035Z"
      },
      {
        "duration": 0,
        "start_time": "2023-08-10T13:14:13.037Z"
      },
      {
        "duration": 0,
        "start_time": "2023-08-10T13:14:13.038Z"
      },
      {
        "duration": 0,
        "start_time": "2023-08-10T13:14:13.039Z"
      },
      {
        "duration": 0,
        "start_time": "2023-08-10T13:14:13.040Z"
      },
      {
        "duration": 0,
        "start_time": "2023-08-10T13:14:13.043Z"
      },
      {
        "duration": 0,
        "start_time": "2023-08-10T13:14:13.044Z"
      },
      {
        "duration": 0,
        "start_time": "2023-08-10T13:14:13.046Z"
      },
      {
        "duration": 0,
        "start_time": "2023-08-10T13:14:13.047Z"
      },
      {
        "duration": 0,
        "start_time": "2023-08-10T13:14:13.049Z"
      },
      {
        "duration": 0,
        "start_time": "2023-08-10T13:14:13.051Z"
      },
      {
        "duration": 0,
        "start_time": "2023-08-10T13:14:13.052Z"
      },
      {
        "duration": 1761,
        "start_time": "2023-08-10T13:14:49.536Z"
      },
      {
        "duration": 84,
        "start_time": "2023-08-10T13:14:51.300Z"
      },
      {
        "duration": 10,
        "start_time": "2023-08-10T13:14:51.386Z"
      },
      {
        "duration": 94,
        "start_time": "2023-08-10T13:14:51.398Z"
      },
      {
        "duration": 85,
        "start_time": "2023-08-10T13:14:51.495Z"
      },
      {
        "duration": 10,
        "start_time": "2023-08-10T13:14:51.582Z"
      },
      {
        "duration": 1510,
        "start_time": "2023-08-10T13:14:51.594Z"
      },
      {
        "duration": 9,
        "start_time": "2023-08-10T13:14:53.108Z"
      },
      {
        "duration": 792,
        "start_time": "2023-08-10T13:14:53.119Z"
      },
      {
        "duration": 5,
        "start_time": "2023-08-10T13:14:53.914Z"
      },
      {
        "duration": 645,
        "start_time": "2023-08-10T13:14:53.921Z"
      },
      {
        "duration": 273,
        "start_time": "2023-08-10T13:14:54.568Z"
      },
      {
        "duration": 4,
        "start_time": "2023-08-10T13:14:54.843Z"
      },
      {
        "duration": 130,
        "start_time": "2023-08-10T13:14:54.860Z"
      },
      {
        "duration": 0,
        "start_time": "2023-08-10T13:14:54.992Z"
      },
      {
        "duration": 0,
        "start_time": "2023-08-10T13:14:54.993Z"
      },
      {
        "duration": 0,
        "start_time": "2023-08-10T13:14:54.994Z"
      },
      {
        "duration": 0,
        "start_time": "2023-08-10T13:14:54.996Z"
      },
      {
        "duration": 0,
        "start_time": "2023-08-10T13:14:54.997Z"
      },
      {
        "duration": 0,
        "start_time": "2023-08-10T13:14:54.998Z"
      },
      {
        "duration": 0,
        "start_time": "2023-08-10T13:14:54.999Z"
      },
      {
        "duration": 0,
        "start_time": "2023-08-10T13:14:55.000Z"
      },
      {
        "duration": 0,
        "start_time": "2023-08-10T13:14:55.001Z"
      },
      {
        "duration": 0,
        "start_time": "2023-08-10T13:14:55.002Z"
      },
      {
        "duration": 0,
        "start_time": "2023-08-10T13:14:55.003Z"
      },
      {
        "duration": 0,
        "start_time": "2023-08-10T13:14:55.004Z"
      },
      {
        "duration": 0,
        "start_time": "2023-08-10T13:14:55.005Z"
      },
      {
        "duration": 0,
        "start_time": "2023-08-10T13:14:55.005Z"
      },
      {
        "duration": 37,
        "start_time": "2023-08-10T13:16:46.840Z"
      },
      {
        "duration": 12154,
        "start_time": "2023-08-10T13:16:57.474Z"
      },
      {
        "duration": 100838,
        "start_time": "2023-08-10T13:17:32.539Z"
      },
      {
        "duration": 338937,
        "start_time": "2023-08-10T13:19:21.727Z"
      },
      {
        "duration": 1689,
        "start_time": "2023-08-11T09:06:49.530Z"
      },
      {
        "duration": 139,
        "start_time": "2023-08-11T09:06:51.221Z"
      },
      {
        "duration": 9,
        "start_time": "2023-08-11T09:06:51.362Z"
      },
      {
        "duration": 24,
        "start_time": "2023-08-11T09:06:51.373Z"
      },
      {
        "duration": 32,
        "start_time": "2023-08-11T09:06:51.398Z"
      },
      {
        "duration": 13,
        "start_time": "2023-08-11T09:06:51.432Z"
      },
      {
        "duration": 959,
        "start_time": "2023-08-11T09:06:51.448Z"
      },
      {
        "duration": 6,
        "start_time": "2023-08-11T09:06:52.409Z"
      },
      {
        "duration": 706,
        "start_time": "2023-08-11T09:06:52.416Z"
      },
      {
        "duration": 5,
        "start_time": "2023-08-11T09:06:53.125Z"
      },
      {
        "duration": 554,
        "start_time": "2023-08-11T09:06:53.132Z"
      },
      {
        "duration": 267,
        "start_time": "2023-08-11T09:06:53.688Z"
      },
      {
        "duration": 4,
        "start_time": "2023-08-11T09:06:53.956Z"
      },
      {
        "duration": 69,
        "start_time": "2023-08-11T09:06:53.961Z"
      },
      {
        "duration": 6,
        "start_time": "2023-08-11T09:06:54.031Z"
      },
      {
        "duration": 17,
        "start_time": "2023-08-11T09:06:54.038Z"
      },
      {
        "duration": 24,
        "start_time": "2023-08-11T09:06:54.056Z"
      },
      {
        "duration": 13,
        "start_time": "2023-08-11T09:06:54.082Z"
      },
      {
        "duration": 6,
        "start_time": "2023-08-11T09:06:54.097Z"
      },
      {
        "duration": 33,
        "start_time": "2023-08-11T09:06:54.105Z"
      },
      {
        "duration": 5,
        "start_time": "2023-08-11T09:06:54.140Z"
      },
      {
        "duration": 635,
        "start_time": "2023-08-11T09:06:54.147Z"
      },
      {
        "duration": 4,
        "start_time": "2023-08-11T09:06:54.784Z"
      },
      {
        "duration": 71486,
        "start_time": "2023-08-11T09:06:54.789Z"
      },
      {
        "duration": 17,
        "start_time": "2023-08-11T09:08:06.276Z"
      },
      {
        "duration": 220984,
        "start_time": "2023-08-11T09:08:06.294Z"
      },
      {
        "duration": 7,
        "start_time": "2023-08-11T09:11:47.279Z"
      },
      {
        "duration": 113,
        "start_time": "2023-08-11T09:11:47.289Z"
      },
      {
        "duration": 49,
        "start_time": "2023-08-11T09:12:32.506Z"
      },
      {
        "duration": 121,
        "start_time": "2023-08-11T09:15:13.509Z"
      },
      {
        "duration": 15,
        "start_time": "2023-08-11T09:16:19.159Z"
      },
      {
        "duration": 162,
        "start_time": "2023-08-11T09:16:43.935Z"
      },
      {
        "duration": 1485,
        "start_time": "2023-08-11T09:16:51.885Z"
      },
      {
        "duration": 49,
        "start_time": "2023-08-11T09:16:53.372Z"
      },
      {
        "duration": 11,
        "start_time": "2023-08-11T09:16:53.423Z"
      },
      {
        "duration": 14,
        "start_time": "2023-08-11T09:16:53.435Z"
      },
      {
        "duration": 35,
        "start_time": "2023-08-11T09:16:53.451Z"
      },
      {
        "duration": 15,
        "start_time": "2023-08-11T09:16:53.488Z"
      },
      {
        "duration": 895,
        "start_time": "2023-08-11T09:16:53.504Z"
      },
      {
        "duration": 6,
        "start_time": "2023-08-11T09:16:54.400Z"
      },
      {
        "duration": 718,
        "start_time": "2023-08-11T09:16:54.408Z"
      },
      {
        "duration": 4,
        "start_time": "2023-08-11T09:16:55.128Z"
      },
      {
        "duration": 763,
        "start_time": "2023-08-11T09:16:55.134Z"
      },
      {
        "duration": 477,
        "start_time": "2023-08-11T09:16:55.898Z"
      },
      {
        "duration": 5,
        "start_time": "2023-08-11T09:16:56.378Z"
      },
      {
        "duration": 297,
        "start_time": "2023-08-11T09:16:56.385Z"
      },
      {
        "duration": 15,
        "start_time": "2023-08-11T09:16:56.684Z"
      },
      {
        "duration": 8,
        "start_time": "2023-08-11T09:16:56.700Z"
      },
      {
        "duration": 65,
        "start_time": "2023-08-11T09:16:56.710Z"
      },
      {
        "duration": 4,
        "start_time": "2023-08-11T09:16:56.777Z"
      },
      {
        "duration": 15,
        "start_time": "2023-08-11T09:16:56.782Z"
      },
      {
        "duration": 80,
        "start_time": "2023-08-11T09:16:56.799Z"
      },
      {
        "duration": 23,
        "start_time": "2023-08-11T09:16:56.881Z"
      },
      {
        "duration": 1174,
        "start_time": "2023-08-11T09:16:56.906Z"
      },
      {
        "duration": 497,
        "start_time": "2023-08-11T09:16:58.082Z"
      },
      {
        "duration": 416018,
        "start_time": "2023-08-11T09:16:58.581Z"
      },
      {
        "duration": 18,
        "start_time": "2023-08-11T09:23:54.600Z"
      },
      {
        "duration": 1037624,
        "start_time": "2023-08-11T09:23:54.620Z"
      },
      {
        "duration": 14,
        "start_time": "2023-08-11T09:41:12.246Z"
      },
      {
        "duration": 136,
        "start_time": "2023-08-11T09:41:12.264Z"
      },
      {
        "duration": 1547,
        "start_time": "2023-08-11T09:55:20.802Z"
      },
      {
        "duration": 53,
        "start_time": "2023-08-11T09:55:22.351Z"
      },
      {
        "duration": 26,
        "start_time": "2023-08-11T09:55:22.406Z"
      },
      {
        "duration": 12,
        "start_time": "2023-08-11T09:55:22.435Z"
      },
      {
        "duration": 15,
        "start_time": "2023-08-11T09:55:22.448Z"
      },
      {
        "duration": 954,
        "start_time": "2023-08-11T09:55:22.465Z"
      },
      {
        "duration": 6,
        "start_time": "2023-08-11T09:55:23.421Z"
      },
      {
        "duration": 827,
        "start_time": "2023-08-11T09:55:23.429Z"
      },
      {
        "duration": 5,
        "start_time": "2023-08-11T09:55:24.258Z"
      },
      {
        "duration": 584,
        "start_time": "2023-08-11T09:55:24.273Z"
      },
      {
        "duration": 5,
        "start_time": "2023-08-11T09:55:24.859Z"
      },
      {
        "duration": 134,
        "start_time": "2023-08-11T09:55:24.874Z"
      },
      {
        "duration": 15,
        "start_time": "2023-08-11T09:55:25.009Z"
      },
      {
        "duration": 21,
        "start_time": "2023-08-11T09:55:25.025Z"
      },
      {
        "duration": 24,
        "start_time": "2023-08-11T09:55:25.048Z"
      },
      {
        "duration": 22,
        "start_time": "2023-08-11T09:55:25.074Z"
      },
      {
        "duration": 62,
        "start_time": "2023-08-11T09:55:25.098Z"
      },
      {
        "duration": 52,
        "start_time": "2023-08-11T09:55:25.162Z"
      },
      {
        "duration": 71,
        "start_time": "2023-08-11T09:55:25.216Z"
      },
      {
        "duration": 1487,
        "start_time": "2023-08-11T09:55:25.289Z"
      },
      {
        "duration": 414,
        "start_time": "2023-08-11T09:55:26.778Z"
      },
      {
        "duration": 447532,
        "start_time": "2023-08-11T09:55:27.194Z"
      },
      {
        "duration": 33,
        "start_time": "2023-08-11T10:02:54.728Z"
      },
      {
        "duration": 1064928,
        "start_time": "2023-08-11T10:02:54.763Z"
      },
      {
        "duration": 13,
        "start_time": "2023-08-11T10:20:39.693Z"
      },
      {
        "duration": 117,
        "start_time": "2023-08-11T10:43:41.658Z"
      },
      {
        "duration": 151,
        "start_time": "2023-08-11T10:43:50.785Z"
      },
      {
        "duration": 3,
        "start_time": "2023-08-11T10:43:56.589Z"
      },
      {
        "duration": 443129,
        "start_time": "2023-08-11T10:44:00.064Z"
      },
      {
        "duration": 169,
        "start_time": "2023-08-11T10:51:23.196Z"
      },
      {
        "duration": 24,
        "start_time": "2023-08-11T10:52:25.162Z"
      },
      {
        "duration": 117,
        "start_time": "2023-08-11T10:52:28.522Z"
      },
      {
        "duration": 282,
        "start_time": "2023-08-11T10:53:07.920Z"
      },
      {
        "duration": 1299,
        "start_time": "2023-08-11T11:02:09.376Z"
      },
      {
        "duration": 1505,
        "start_time": "2023-08-11T11:09:38.266Z"
      },
      {
        "duration": 52,
        "start_time": "2023-08-11T11:09:39.773Z"
      },
      {
        "duration": 10,
        "start_time": "2023-08-11T11:09:39.826Z"
      },
      {
        "duration": 10,
        "start_time": "2023-08-11T11:09:39.838Z"
      },
      {
        "duration": 14,
        "start_time": "2023-08-11T11:09:39.849Z"
      },
      {
        "duration": 975,
        "start_time": "2023-08-11T11:09:39.864Z"
      },
      {
        "duration": 5,
        "start_time": "2023-08-11T11:09:40.841Z"
      },
      {
        "duration": 742,
        "start_time": "2023-08-11T11:09:40.848Z"
      },
      {
        "duration": 4,
        "start_time": "2023-08-11T11:09:41.592Z"
      },
      {
        "duration": 584,
        "start_time": "2023-08-11T11:09:41.598Z"
      },
      {
        "duration": 5,
        "start_time": "2023-08-11T11:09:42.189Z"
      },
      {
        "duration": 140,
        "start_time": "2023-08-11T11:09:42.197Z"
      },
      {
        "duration": 14,
        "start_time": "2023-08-11T11:09:42.339Z"
      },
      {
        "duration": 4,
        "start_time": "2023-08-11T11:09:42.355Z"
      },
      {
        "duration": 27,
        "start_time": "2023-08-11T11:09:42.360Z"
      },
      {
        "duration": 4,
        "start_time": "2023-08-11T11:09:42.389Z"
      },
      {
        "duration": 17,
        "start_time": "2023-08-11T11:09:42.394Z"
      },
      {
        "duration": 19,
        "start_time": "2023-08-11T11:09:42.412Z"
      },
      {
        "duration": 10,
        "start_time": "2023-08-11T11:09:42.433Z"
      },
      {
        "duration": 2745,
        "start_time": "2023-08-11T11:09:42.445Z"
      },
      {
        "duration": 435648,
        "start_time": "2023-08-11T11:09:45.193Z"
      },
      {
        "duration": 1540,
        "start_time": "2023-08-11T11:17:51.363Z"
      },
      {
        "duration": 48,
        "start_time": "2023-08-11T11:17:52.905Z"
      },
      {
        "duration": 9,
        "start_time": "2023-08-11T11:17:52.955Z"
      },
      {
        "duration": 21,
        "start_time": "2023-08-11T11:17:52.966Z"
      },
      {
        "duration": 14,
        "start_time": "2023-08-11T11:17:52.990Z"
      },
      {
        "duration": 1030,
        "start_time": "2023-08-11T11:17:53.005Z"
      },
      {
        "duration": 45,
        "start_time": "2023-08-11T11:17:54.036Z"
      },
      {
        "duration": 1403,
        "start_time": "2023-08-11T11:17:54.087Z"
      },
      {
        "duration": 5,
        "start_time": "2023-08-11T11:17:55.492Z"
      },
      {
        "duration": 749,
        "start_time": "2023-08-11T11:17:55.499Z"
      },
      {
        "duration": 4,
        "start_time": "2023-08-11T11:17:56.250Z"
      },
      {
        "duration": 163,
        "start_time": "2023-08-11T11:17:56.255Z"
      },
      {
        "duration": 16,
        "start_time": "2023-08-11T11:17:56.420Z"
      },
      {
        "duration": 9,
        "start_time": "2023-08-11T11:17:56.437Z"
      },
      {
        "duration": 44,
        "start_time": "2023-08-11T11:17:56.448Z"
      },
      {
        "duration": 18,
        "start_time": "2023-08-11T11:17:56.494Z"
      },
      {
        "duration": 17,
        "start_time": "2023-08-11T11:17:56.514Z"
      },
      {
        "duration": 16,
        "start_time": "2023-08-11T11:17:56.533Z"
      },
      {
        "duration": 7,
        "start_time": "2023-08-11T11:17:56.550Z"
      },
      {
        "duration": 4923,
        "start_time": "2023-08-11T11:17:56.558Z"
      },
      {
        "duration": 412153,
        "start_time": "2023-08-11T11:18:01.484Z"
      },
      {
        "duration": 901915,
        "start_time": "2023-08-11T11:24:53.639Z"
      },
      {
        "duration": 1038,
        "start_time": "2023-08-11T11:39:55.556Z"
      },
      {
        "duration": 225,
        "start_time": "2023-08-11T11:39:56.595Z"
      },
      {
        "duration": 6,
        "start_time": "2023-08-11T11:40:57.099Z"
      },
      {
        "duration": 13,
        "start_time": "2023-08-11T11:41:35.138Z"
      },
      {
        "duration": 10,
        "start_time": "2023-08-11T11:42:25.767Z"
      },
      {
        "duration": 22,
        "start_time": "2023-08-11T11:43:36.574Z"
      },
      {
        "duration": 106,
        "start_time": "2023-08-11T11:46:42.302Z"
      },
      {
        "duration": 1567,
        "start_time": "2023-08-11T11:47:03.790Z"
      },
      {
        "duration": 56,
        "start_time": "2023-08-11T11:47:05.360Z"
      },
      {
        "duration": 11,
        "start_time": "2023-08-11T11:47:05.418Z"
      },
      {
        "duration": 40,
        "start_time": "2023-08-11T11:47:05.430Z"
      },
      {
        "duration": 48,
        "start_time": "2023-08-11T11:47:05.472Z"
      },
      {
        "duration": 949,
        "start_time": "2023-08-11T11:47:05.522Z"
      },
      {
        "duration": 6,
        "start_time": "2023-08-11T11:47:06.473Z"
      },
      {
        "duration": 797,
        "start_time": "2023-08-11T11:47:06.481Z"
      },
      {
        "duration": 6,
        "start_time": "2023-08-11T11:47:07.281Z"
      },
      {
        "duration": 589,
        "start_time": "2023-08-11T11:47:07.290Z"
      },
      {
        "duration": 5,
        "start_time": "2023-08-11T11:47:07.880Z"
      },
      {
        "duration": 185,
        "start_time": "2023-08-11T11:47:07.886Z"
      },
      {
        "duration": 15,
        "start_time": "2023-08-11T11:47:08.075Z"
      },
      {
        "duration": 7,
        "start_time": "2023-08-11T11:47:08.092Z"
      },
      {
        "duration": 21,
        "start_time": "2023-08-11T11:47:08.101Z"
      },
      {
        "duration": 6,
        "start_time": "2023-08-11T11:47:08.124Z"
      },
      {
        "duration": 19,
        "start_time": "2023-08-11T11:47:08.132Z"
      },
      {
        "duration": 24,
        "start_time": "2023-08-11T11:47:08.152Z"
      },
      {
        "duration": 21,
        "start_time": "2023-08-11T11:47:08.177Z"
      },
      {
        "duration": 1085,
        "start_time": "2023-08-11T11:47:08.199Z"
      },
      {
        "duration": 449328,
        "start_time": "2023-08-11T11:47:09.286Z"
      },
      {
        "duration": 921005,
        "start_time": "2023-08-11T11:54:38.616Z"
      },
      {
        "duration": 14,
        "start_time": "2023-08-11T12:09:59.623Z"
      },
      {
        "duration": 10,
        "start_time": "2023-08-11T12:09:59.639Z"
      },
      {
        "duration": 2175,
        "start_time": "2023-08-11T12:49:37.948Z"
      },
      {
        "duration": 206,
        "start_time": "2023-08-11T12:49:40.125Z"
      },
      {
        "duration": 11,
        "start_time": "2023-08-11T12:49:40.333Z"
      },
      {
        "duration": 14,
        "start_time": "2023-08-11T12:49:40.346Z"
      },
      {
        "duration": 14,
        "start_time": "2023-08-11T12:49:40.362Z"
      },
      {
        "duration": 962,
        "start_time": "2023-08-11T12:49:40.378Z"
      },
      {
        "duration": 6,
        "start_time": "2023-08-11T12:49:41.342Z"
      },
      {
        "duration": 792,
        "start_time": "2023-08-11T12:49:41.350Z"
      },
      {
        "duration": 4,
        "start_time": "2023-08-11T12:49:42.144Z"
      },
      {
        "duration": 625,
        "start_time": "2023-08-11T12:49:42.151Z"
      },
      {
        "duration": 4,
        "start_time": "2023-08-11T12:49:42.778Z"
      },
      {
        "duration": 184,
        "start_time": "2023-08-11T12:49:42.784Z"
      },
      {
        "duration": 371,
        "start_time": "2023-08-11T12:49:42.970Z"
      },
      {
        "duration": 4,
        "start_time": "2023-08-11T13:07:32.122Z"
      },
      {
        "duration": 203,
        "start_time": "2023-08-11T13:12:52.230Z"
      },
      {
        "duration": 1436,
        "start_time": "2023-08-11T13:13:02.478Z"
      },
      {
        "duration": 180,
        "start_time": "2023-08-11T13:13:46.052Z"
      },
      {
        "duration": 167,
        "start_time": "2023-08-11T13:19:19.017Z"
      },
      {
        "duration": 7,
        "start_time": "2023-08-11T13:19:53.789Z"
      },
      {
        "duration": 105,
        "start_time": "2023-08-11T13:21:31.861Z"
      },
      {
        "duration": 183,
        "start_time": "2023-08-11T13:22:21.885Z"
      },
      {
        "duration": 1662,
        "start_time": "2023-08-11T13:24:31.767Z"
      },
      {
        "duration": 55,
        "start_time": "2023-08-11T13:24:33.431Z"
      },
      {
        "duration": 18,
        "start_time": "2023-08-11T13:24:33.488Z"
      },
      {
        "duration": 18,
        "start_time": "2023-08-11T13:24:33.509Z"
      },
      {
        "duration": 38,
        "start_time": "2023-08-11T13:24:33.529Z"
      },
      {
        "duration": 1094,
        "start_time": "2023-08-11T13:24:33.569Z"
      },
      {
        "duration": 6,
        "start_time": "2023-08-11T13:24:34.665Z"
      },
      {
        "duration": 857,
        "start_time": "2023-08-11T13:24:34.672Z"
      },
      {
        "duration": 7,
        "start_time": "2023-08-11T13:24:35.531Z"
      },
      {
        "duration": 690,
        "start_time": "2023-08-11T13:24:35.541Z"
      },
      {
        "duration": 4,
        "start_time": "2023-08-11T13:24:36.233Z"
      },
      {
        "duration": 180,
        "start_time": "2023-08-11T13:24:36.239Z"
      },
      {
        "duration": 385,
        "start_time": "2023-08-11T13:24:36.421Z"
      },
      {
        "duration": 17,
        "start_time": "2023-08-11T13:24:36.808Z"
      },
      {
        "duration": 15,
        "start_time": "2023-08-11T13:24:36.827Z"
      },
      {
        "duration": 27,
        "start_time": "2023-08-11T13:24:36.844Z"
      },
      {
        "duration": 36,
        "start_time": "2023-08-11T13:24:36.873Z"
      },
      {
        "duration": 61,
        "start_time": "2023-08-11T13:24:36.911Z"
      },
      {
        "duration": 27,
        "start_time": "2023-08-11T13:24:36.974Z"
      },
      {
        "duration": 114,
        "start_time": "2023-08-11T13:24:37.003Z"
      },
      {
        "duration": 2169,
        "start_time": "2023-08-11T13:24:37.119Z"
      },
      {
        "duration": 451257,
        "start_time": "2023-08-11T13:24:39.290Z"
      },
      {
        "duration": 913804,
        "start_time": "2023-08-11T13:32:10.549Z"
      },
      {
        "duration": 224,
        "start_time": "2023-08-11T13:47:24.354Z"
      },
      {
        "duration": 97,
        "start_time": "2023-08-11T13:47:24.580Z"
      },
      {
        "duration": 10,
        "start_time": "2023-08-11T13:47:24.679Z"
      }
    ],
    "kernelspec": {
      "display_name": "Python 3 (ipykernel)",
      "language": "python",
      "name": "python3"
    },
    "language_info": {
      "codemirror_mode": {
        "name": "ipython",
        "version": 3
      },
      "file_extension": ".py",
      "mimetype": "text/x-python",
      "name": "python",
      "nbconvert_exporter": "python",
      "pygments_lexer": "ipython3",
      "version": "3.9.5"
    },
    "toc": {
      "base_numbering": 1,
      "nav_menu": {},
      "number_sections": true,
      "sideBar": true,
      "skip_h1_title": true,
      "title_cell": "Содержание",
      "title_sidebar": "Contents",
      "toc_cell": true,
      "toc_position": {
        "height": "calc(100% - 180px)",
        "left": "10px",
        "top": "150px",
        "width": "165px"
      },
      "toc_section_display": true,
      "toc_window_display": true
    },
    "colab": {
      "provenance": []
    }
  },
  "nbformat": 4,
  "nbformat_minor": 0
}